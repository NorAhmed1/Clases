{
 "cells": [
  {
   "cell_type": "markdown",
   "metadata": {},
   "source": [
    "# Ejercicios de agua subterránea\n",
    "\n",
    "__Índice__<br>\n",
    "\n",
    "__[Ejercicio 1 - Infiltración. Método de Green-Ampt](#Ejercicio-1---Infiltración.-Método-de-Green-Ampt)__<br>\n",
    "\n",
    "__[Ejercicio 2 - Textura de los suelos](#Ejercicio-2---Textura-de-los-suelos)__<br>\n",
    "\n",
    "__[Ejercicio 3 - Propiedades de los suelos](#Ejercicio-3---Propiedades-de-los-suelos)__<br>\n",
    "\n",
    "__[Ejercicio 4 - Tensiómetros](#Ejercicio-4---Tensiómetros)__<br>"
   ]
  },
  {
   "cell_type": "code",
   "execution_count": 1,
   "metadata": {},
   "outputs": [],
   "source": [
    "import numpy as np\n",
    "\n",
    "import pandas as pd\n",
    "\n",
    "from matplotlib import pyplot as plt\n",
    "%matplotlib inline\n",
    "plt.style.use('seaborn-whitegrid')"
   ]
  },
  {
   "cell_type": "markdown",
   "metadata": {},
   "source": [
    "## <font color=steelblue>Ejercicio 1 - Infiltración. Método de Green-Ampt\n",
    "\n",
    "<font color=steelblue>Usando el modelo de Green-Ampt, calcula la __infiltración acumulada__, la __tasa de infiltración__ y la __profundidad del frente de mojado__ durante una precipitación constante de 5 cm/h que dure 2 h en un _loam_ limoso típico con un contenido de agua inicial de 0,45.\n",
    "    \n",
    "Las propiedades típicas del _loam_ limoso son: <br>\n",
    "$\\phi=0.485$ <br>\n",
    "$K_{s}=2.59 cm/h$ <br>\n",
    "$|\\Psi_{ae}|=78.6 cm$ <br>\n",
    "$b=5.3$ <br>"
   ]
  },
  {
   "cell_type": "code",
   "execution_count": 2,
   "metadata": {},
   "outputs": [],
   "source": [
    "# datos del enunciado\n",
    "phi = 0.485     # -\n",
    "theta_o = 0.45  # -\n",
    "Ks = 2.59       # cm/h\n",
    "psi_ae = 78.6   # cm\n",
    "b = 5.3         # -\n",
    "\n",
    "ho = 0          # cm\n",
    "i = 5           # cm/h\n",
    "tc = 2          # h\n",
    "\n",
    "epsilon = 0.001 # cm"
   ]
  },
  {
   "cell_type": "markdown",
   "metadata": {},
   "source": [
    "### Modelo de infiltración de Green-Ampt\n",
    "\n",
    "Hipótesis:\n",
    "*  Suelo encharcado con una lámina de altura $h_o$ desde el inicio.\n",
    "*  Frente de avance de la humedad plano (frente pistón).\n",
    "*  Suelo profundo y homogéneo ($\\theta_o$, $\\theta_s$, $K_s$ constantes).\n",
    "\n",
    "Tasa de infiltración, $f \\left[ \\frac{L}{T} \\right]$:\n",
    "\n",
    "$$f = K_s \\left( 1 + \\frac{\\Psi_f · \\Delta\\theta}{F} \\right) \\qquad \\textrm{(1)}$$ \n",
    "\n",
    "Infiltración acumulada, $f \\left[ L \\right]$:\n",
    "$$F = K_s · t + \\Psi_f · \\Delta\\theta · \\ln \\left(1 + \\frac{F}{\\Psi_f · \\Delta\\theta} \\right) \\qquad \\textrm{(2)}$$\n",
    "\n",
    "Es una ecuación implícita. Para resolverla, se puede utilizar, por ejemplo, el método de Picard. Se establece un valor inicial de ($F_o=K_s·t$) y se itera el siguiente cálculo hasta converger ($F_{m+1}-F_m<\\varepsilon$):\n",
    "$$F_{m+1} = K_s · t + \\Psi_f · \\Delta\\theta · \\ln \\left(1 + \\frac{F_m}{\\Psi_f · \\Delta\\theta} \\right)  \\qquad \\textrm{(3)}$$\n",
    "\n",
    "\n",
    "##### Suelo no encharcado al inicio\n",
    "Si no se cumple la hipótesis de encharcamiento desde el inicio, se debe calcular el tiempo de encharcamiento ($t_p$) y la cantidad de agua infiltrada hata ese momento ($F_p$):\n",
    "$$t_p = \\frac{K_s · \\Psi_f · \\Delta\\theta}{i \\left( i - K_s \\right)} \\qquad \\textrm{(4)}$$\n",
    "$$F_p = i · t_p = \\frac{K_s · \\Psi_f · \\Delta\\theta}{i - K_s} \\qquad \\textrm{(5)}$$\n",
    "\n",
    "Conocidos $t_p$ y $F_p$, se ha de resolver la ecuación (1) sobre una nueva variable tiempo $t_p'=t_p-t_o$, con lo que se llega a la siguiente ecuación emplícita:\n",
    "$$F_{m+1} = K_s · (t - t_o) + \\Psi_f · \\Delta\\theta · \\ln \\left(1 + \\frac{F_m}{\\Psi_f · \\Delta\\theta} \\right)  \\qquad \\textrm{(6)}$$\n",
    "donde $t_o$ es:<br>\n",
    "$$t_o = t_p - \\frac{F_p - \\Psi_f · \\Delta\\theta · \\ln \\left(1 + \\frac{F_p}{\\Psi_f · \\Delta\\theta} \\right)}{K_s} \\qquad \\textrm{(7)}$$"
   ]
  },
  {
   "cell_type": "code",
   "execution_count": 3,
   "metadata": {},
   "outputs": [],
   "source": [
    "# calcular variables auxiliares\n",
    "Atheta = phi - theta_o                     # incremento de la humedad del suelo\n",
    "psi_f = (2 * b + 3) / (2 * b + 6) * psi_ae # tensión en el frente húmedo"
   ]
  },
  {
   "cell_type": "code",
   "execution_count": 4,
   "metadata": {},
   "outputs": [],
   "source": [
    "# tiempo hasta el encharcamiento\n",
    "tp = psi_f * Atheta * Ks / (i * (i - Ks))"
   ]
  },
  {
   "cell_type": "code",
   "execution_count": 5,
   "metadata": {},
   "outputs": [],
   "source": [
    "# infiltración acumulada cuando ocurre el encharcamiento\n",
    "Fp = tp * i"
   ]
  },
  {
   "cell_type": "code",
   "execution_count": 6,
   "metadata": {},
   "outputs": [],
   "source": [
    "# tiempo de inicio de la curva de infiltración\n",
    "to = tp - (Fp - psi_f * Atheta * np.log(1 + Fp / (psi_f * Atheta))) / Ks"
   ]
  },
  {
   "cell_type": "code",
   "execution_count": 7,
   "metadata": {},
   "outputs": [
    {
     "name": "stdout",
     "output_type": "stream",
     "text": [
      "7.242764529773666 7.9443030676516635\n",
      "7.9443030676516635 8.10493677607936\n",
      "8.10493677607936 8.140160823388143\n",
      "8.140160823388143 8.147811770684696\n",
      "8.147811770684696 8.149470190373284\n",
      "8.149470190373284 8.149829508633662\n",
      "\n",
      "Fc = 8.150 cm\n"
     ]
    }
   ],
   "source": [
    "# infiltración acumulada en el tiempo de cálculo\n",
    "Fo = Ks * (tc - to)\n",
    "Fi = Ks * (tc - to) + psi_f * Atheta * np.log(1 + Fo / (psi_f * Atheta))\n",
    "while (Fi - Fo) > epsilon:\n",
    "    Fo = Fi\n",
    "    Fi = Ks * (tc - to) + psi_f * Atheta * np.log(1 + Fo / (psi_f * Atheta))\n",
    "    print(Fo, Fi)\n",
    "Fc = Fi\n",
    "\n",
    "print()\n",
    "print('Fc = {0:.3f} cm'.format(Fc))"
   ]
  },
  {
   "cell_type": "code",
   "execution_count": 8,
   "metadata": {},
   "outputs": [
    {
     "name": "stdout",
     "output_type": "stream",
     "text": [
      "fc = 3.306 cm/h\n"
     ]
    }
   ],
   "source": [
    "# tasa de infiltración en el tiempo de cálculo\n",
    "fc = Ks * (1 + psi_f * Atheta / Fc)\n",
    "\n",
    "print('fc = {0:.3f} cm/h'.format(fc))"
   ]
  },
  {
   "cell_type": "code",
   "execution_count": 9,
   "metadata": {},
   "outputs": [
    {
     "name": "stdout",
     "output_type": "stream",
     "text": [
      "L = 232.852 cm\n"
     ]
    }
   ],
   "source": [
    "# profundidad del frente de húmedo\n",
    "L = Fc / Atheta\n",
    "\n",
    "print('L = {0:.3f} cm'.format(L))"
   ]
  },
  {
   "cell_type": "code",
   "execution_count": 10,
   "metadata": {},
   "outputs": [],
   "source": [
    "def GreenAmpt(i, tc, ho, phi, theta_o, Ks, psi_ae, b=5.3, epsilon=0.001):\n",
    "    \"\"\"Se calcula la infiltración en un suelo para una precipitación constante mediante el método de Green-Ampt.\n",
    "    \n",
    "    Entradas:\n",
    "    ---------\n",
    "    i:       float. Intensidad de precipitación (cm/h)\n",
    "    tc:      float. Tiempo de cálculo (h)\n",
    "    ho:      float. Altura de la lámina de agua del encharcamiento en el inicio (cm)\n",
    "    phi:     float. Porosidad (-)\n",
    "    theta_o: float. Humedad del suelo en el inicio (-)\n",
    "    Ks:      float. Conductividad saturada (cm/h)\n",
    "    psi_ae:  float. Tensión del suelo para el punto de entrada de aire (cm)\n",
    "    b:       float. Coeficiente para el cálculo de la tensión en el frente húmedo (cm)\n",
    "    epsilo:  float. Error tolerable en el cálculo (cm)\n",
    "    \n",
    "    Salidas:\n",
    "    --------\n",
    "    Fc:      float. Infiltración acumulada en el tiempo de cálculo (cm)\n",
    "    fc:      float. Tasa de infiltración en el tiempo de cálculo (cm/h)\n",
    "    L:       float. Profundidad del frente húmedo en el tiempo de cálculo (cm)\"\"\"\n",
    "    \n",
    "    # calcular variables auxiliares\n",
    "    Atheta = phi - theta_o                     # incremento de la humedad del suelo\n",
    "    psi_f = (2 * b + 3) / (2 * b + 6) * psi_ae # tensión en el frente húmedo\n",
    "    \n",
    "    if ho > 0: # encharcamiento inicial\n",
    "        tp = 0\n",
    "        to = 0\n",
    "    elif ho == 0: # NO hay encharcamiento inicial\n",
    "        # tiempo hasta el encharcamiento\n",
    "        tp = psi_f * Atheta * Ks / (i * (i - Ks))\n",
    "        # infiltración acumulada cuando ocurre el encharcamiento\n",
    "        Fp = tp * i\n",
    "        # tiempo de inicio de la curva de infiltración\n",
    "        to = tp - (Fp - psi_f * Atheta * np.log(1 + Fp / (psi_f * Atheta))) / Ks\n",
    "    \n",
    "    # infiltración acumulada en el tiempo de cálculo\n",
    "    if tc <= tp:\n",
    "        Fc = i * tc\n",
    "    elif tc > tp:\n",
    "        Fo = Ks * (tc - to)\n",
    "        Fi = Ks * (tc - to) + psi_f * Atheta * np.log(1 + Fo / (psi_f * Atheta))\n",
    "        while (Fi - Fo) > epsilon:\n",
    "            Fo = Fi\n",
    "            Fi = Ks * (tc - to) + psi_f * Atheta * np.log(1 + Fo / (psi_f * Atheta))\n",
    "        Fc = Fi\n",
    "    \n",
    "    # tasa de infiltración en el tiempo de cálculo\n",
    "    fc = Ks * (1 + psi_f * Atheta / Fc)\n",
    "    \n",
    "    # profundidad del frente de húmedo\n",
    "    L = Fc / Atheta\n",
    "    \n",
    "    return Fc, fc, L"
   ]
  },
  {
   "cell_type": "code",
   "execution_count": 11,
   "metadata": {},
   "outputs": [
    {
     "name": "stdout",
     "output_type": "stream",
     "text": [
      "Fc = 8.150 cm\n",
      "fc = 3.306 cm/h\n",
      "L = 232.852 cm\n"
     ]
    }
   ],
   "source": [
    "Fc, fc, L = GreenAmpt(i, tc, ho, phi, theta_o, Ks, psi_ae, b, epsilon)\n",
    "\n",
    "print('Fc = {0:.3f} cm'.format(Fc))\n",
    "print('fc = {0:.3f} cm/h'.format(fc))\n",
    "print('L = {0:.3f} cm'.format(L))"
   ]
  },
  {
   "cell_type": "markdown",
   "metadata": {},
   "source": [
    "## <font color=steelblue>Ejercicio 2 - Textura de los suelos\n",
    "\n",
    "<font color=steelblue>Determinar la textura de los siguientes suelos.</font>\n",
    "    \n",
    "<img src=\"SoilTextureTriangle.jpg\" alt=\"Mountain View\" style=\"width:500px\">\n",
    "    \n",
    "| Ø (mm)| 50  | 19  | 9.5 | 4.76 | 2   | 0.42 | 0.074 | 0.02 | 0.005 | 0.002 |\n",
    "|-------|-----|-----|-----|------|-----|------|-------|------|-------|-------|\n",
    "| A1    | 100 | 100 | 100 | 100  | 100 | 100  | 97    | 79   | 45    | 16    |\n",
    "| B1    | 100 | 100 | 98  | 94   | 70  | 19   | 15    | 8    | 3     | 2     |\n",
    "| C1    | 93  | 91  | 88  | 85   | 69  | 44   | 40    | 27   | 13    | 6     |\n",
    "| D1    | 100 | 100 | 100 | 100  | 100 | 97   | 92    | 75   | 47    | 31    |"
   ]
  },
  {
   "cell_type": "code",
   "execution_count": 12,
   "metadata": {},
   "outputs": [
    {
     "data": {
      "text/html": [
       "<div>\n",
       "<style scoped>\n",
       "    .dataframe tbody tr th:only-of-type {\n",
       "        vertical-align: middle;\n",
       "    }\n",
       "\n",
       "    .dataframe tbody tr th {\n",
       "        vertical-align: top;\n",
       "    }\n",
       "\n",
       "    .dataframe thead th {\n",
       "        text-align: right;\n",
       "    }\n",
       "</style>\n",
       "<table border=\"1\" class=\"dataframe\">\n",
       "  <thead>\n",
       "    <tr style=\"text-align: right;\">\n",
       "      <th></th>\n",
       "      <th>50.0</th>\n",
       "      <th>19.0</th>\n",
       "      <th>9.5</th>\n",
       "      <th>4.76</th>\n",
       "      <th>2.0</th>\n",
       "      <th>0.42</th>\n",
       "      <th>0.074</th>\n",
       "      <th>0.02</th>\n",
       "      <th>0.005</th>\n",
       "      <th>0.002</th>\n",
       "    </tr>\n",
       "  </thead>\n",
       "  <tbody>\n",
       "    <tr>\n",
       "      <th>A1</th>\n",
       "      <td>100</td>\n",
       "      <td>100</td>\n",
       "      <td>100</td>\n",
       "      <td>100</td>\n",
       "      <td>100</td>\n",
       "      <td>100</td>\n",
       "      <td>97</td>\n",
       "      <td>79</td>\n",
       "      <td>45</td>\n",
       "      <td>16</td>\n",
       "    </tr>\n",
       "    <tr>\n",
       "      <th>B1</th>\n",
       "      <td>100</td>\n",
       "      <td>100</td>\n",
       "      <td>98</td>\n",
       "      <td>94</td>\n",
       "      <td>70</td>\n",
       "      <td>19</td>\n",
       "      <td>15</td>\n",
       "      <td>8</td>\n",
       "      <td>3</td>\n",
       "      <td>2</td>\n",
       "    </tr>\n",
       "    <tr>\n",
       "      <th>C1</th>\n",
       "      <td>93</td>\n",
       "      <td>91</td>\n",
       "      <td>88</td>\n",
       "      <td>85</td>\n",
       "      <td>69</td>\n",
       "      <td>44</td>\n",
       "      <td>40</td>\n",
       "      <td>27</td>\n",
       "      <td>13</td>\n",
       "      <td>6</td>\n",
       "    </tr>\n",
       "    <tr>\n",
       "      <th>D1</th>\n",
       "      <td>100</td>\n",
       "      <td>100</td>\n",
       "      <td>100</td>\n",
       "      <td>100</td>\n",
       "      <td>100</td>\n",
       "      <td>97</td>\n",
       "      <td>92</td>\n",
       "      <td>75</td>\n",
       "      <td>47</td>\n",
       "      <td>31</td>\n",
       "    </tr>\n",
       "  </tbody>\n",
       "</table>\n",
       "</div>"
      ],
      "text/plain": [
       "    50.000  19.000  9.500   4.760   2.000   0.420   0.074   0.020   0.005   \\\n",
       "A1     100     100     100     100     100     100      97      79      45   \n",
       "B1     100     100      98      94      70      19      15       8       3   \n",
       "C1      93      91      88      85      69      44      40      27      13   \n",
       "D1     100     100     100     100     100      97      92      75      47   \n",
       "\n",
       "    0.002   \n",
       "A1      16  \n",
       "B1       2  \n",
       "C1       6  \n",
       "D1      31  "
      ]
     },
     "execution_count": 12,
     "metadata": {},
     "output_type": "execute_result"
    }
   ],
   "source": [
    "suelos = ['A1', 'B1', 'C1', 'D1']\n",
    "phi = [50, 19, 9.5, 4.76, 2.0, 0.420, 0.074, 0.02, 0.005, 0.002]\n",
    "A1 = [100, 100, 100, 100, 100, 100, 97, 79, 45, 16]\n",
    "B1 = [100, 100, 98, 94, 70, 19, 15, 8, 3, 2]\n",
    "C1 = [93, 91, 88, 85, 69, 44, 40, 27, 13, 6]\n",
    "D1 = [100, 100, 100, 100, 100, 97, 92, 75, 47, 31]\n",
    "\n",
    "datos = pd.DataFrame(data=[A1, B1, C1, D1], index=suelos, columns=phi)\n",
    "datos"
   ]
  },
  {
   "cell_type": "code",
   "execution_count": 13,
   "metadata": {},
   "outputs": [
    {
     "data": {
      "text/html": [
       "<div>\n",
       "<style scoped>\n",
       "    .dataframe tbody tr th:only-of-type {\n",
       "        vertical-align: middle;\n",
       "    }\n",
       "\n",
       "    .dataframe tbody tr th {\n",
       "        vertical-align: top;\n",
       "    }\n",
       "\n",
       "    .dataframe thead th {\n",
       "        text-align: right;\n",
       "    }\n",
       "</style>\n",
       "<table border=\"1\" class=\"dataframe\">\n",
       "  <thead>\n",
       "    <tr style=\"text-align: right;\">\n",
       "      <th></th>\n",
       "      <th>2.0</th>\n",
       "      <th>0.074</th>\n",
       "      <th>0.02</th>\n",
       "      <th>0.002</th>\n",
       "    </tr>\n",
       "  </thead>\n",
       "  <tbody>\n",
       "    <tr>\n",
       "      <th>A1</th>\n",
       "      <td>100</td>\n",
       "      <td>97</td>\n",
       "      <td>79</td>\n",
       "      <td>16</td>\n",
       "    </tr>\n",
       "    <tr>\n",
       "      <th>B1</th>\n",
       "      <td>70</td>\n",
       "      <td>15</td>\n",
       "      <td>8</td>\n",
       "      <td>2</td>\n",
       "    </tr>\n",
       "    <tr>\n",
       "      <th>C1</th>\n",
       "      <td>69</td>\n",
       "      <td>40</td>\n",
       "      <td>27</td>\n",
       "      <td>6</td>\n",
       "    </tr>\n",
       "    <tr>\n",
       "      <th>D1</th>\n",
       "      <td>100</td>\n",
       "      <td>92</td>\n",
       "      <td>75</td>\n",
       "      <td>31</td>\n",
       "    </tr>\n",
       "  </tbody>\n",
       "</table>\n",
       "</div>"
      ],
      "text/plain": [
       "    2.000  0.074  0.020  0.002\n",
       "A1    100     97     79     16\n",
       "B1     70     15      8      2\n",
       "C1     69     40     27      6\n",
       "D1    100     92     75     31"
      ]
     },
     "execution_count": 13,
     "metadata": {},
     "output_type": "execute_result"
    }
   ],
   "source": [
    "# extraer datos de los límites de cada una de las texturas\n",
    "limites = [2, 0.074, 0.02, 0.002]\n",
    "datos_f = datos.loc[:, limites]\n",
    "datos_f"
   ]
  },
  {
   "cell_type": "code",
   "execution_count": 14,
   "metadata": {},
   "outputs": [
    {
     "data": {
      "text/html": [
       "<div>\n",
       "<style scoped>\n",
       "    .dataframe tbody tr th:only-of-type {\n",
       "        vertical-align: middle;\n",
       "    }\n",
       "\n",
       "    .dataframe tbody tr th {\n",
       "        vertical-align: top;\n",
       "    }\n",
       "\n",
       "    .dataframe thead th {\n",
       "        text-align: right;\n",
       "    }\n",
       "</style>\n",
       "<table border=\"1\" class=\"dataframe\">\n",
       "  <thead>\n",
       "    <tr style=\"text-align: right;\">\n",
       "      <th></th>\n",
       "      <th>2.0</th>\n",
       "      <th>0.05</th>\n",
       "      <th>0.002</th>\n",
       "    </tr>\n",
       "  </thead>\n",
       "  <tbody>\n",
       "    <tr>\n",
       "      <th>A1</th>\n",
       "      <td>100</td>\n",
       "      <td>89.000000</td>\n",
       "      <td>16</td>\n",
       "    </tr>\n",
       "    <tr>\n",
       "      <th>B1</th>\n",
       "      <td>70</td>\n",
       "      <td>11.888889</td>\n",
       "      <td>2</td>\n",
       "    </tr>\n",
       "    <tr>\n",
       "      <th>C1</th>\n",
       "      <td>69</td>\n",
       "      <td>34.222222</td>\n",
       "      <td>6</td>\n",
       "    </tr>\n",
       "    <tr>\n",
       "      <th>D1</th>\n",
       "      <td>100</td>\n",
       "      <td>84.444444</td>\n",
       "      <td>31</td>\n",
       "    </tr>\n",
       "  </tbody>\n",
       "</table>\n",
       "</div>"
      ],
      "text/plain": [
       "    2.000      0.050  0.002\n",
       "A1    100  89.000000     16\n",
       "B1     70  11.888889      2\n",
       "C1     69  34.222222      6\n",
       "D1    100  84.444444     31"
      ]
     },
     "execution_count": 14,
     "metadata": {},
     "output_type": "execute_result"
    }
   ],
   "source": [
    "# interpolar linealmente el % que pasa un diámetro de 0.05 mm, límite entre arena y limo\n",
    "datos_f[0.05] = (0.05 - 0.074) * (datos_f[0.02] - datos_f[0.074]) / (0.02 - 0.074) + datos_f[0.074]\n",
    "datos_f.sort_index(axis=1, ascending=False, inplace=True)\n",
    "datos_f.drop([0.074, 0.02], axis=1, inplace=True)\n",
    "datos_f"
   ]
  },
  {
   "cell_type": "code",
   "execution_count": 15,
   "metadata": {},
   "outputs": [
    {
     "data": {
      "text/html": [
       "<div>\n",
       "<style scoped>\n",
       "    .dataframe tbody tr th:only-of-type {\n",
       "        vertical-align: middle;\n",
       "    }\n",
       "\n",
       "    .dataframe tbody tr th {\n",
       "        vertical-align: top;\n",
       "    }\n",
       "\n",
       "    .dataframe thead th {\n",
       "        text-align: right;\n",
       "    }\n",
       "</style>\n",
       "<table border=\"1\" class=\"dataframe\">\n",
       "  <thead>\n",
       "    <tr style=\"text-align: right;\">\n",
       "      <th></th>\n",
       "      <th>grava</th>\n",
       "      <th>arena</th>\n",
       "      <th>limo</th>\n",
       "      <th>arcilla</th>\n",
       "    </tr>\n",
       "  </thead>\n",
       "  <tbody>\n",
       "    <tr>\n",
       "      <th>A1</th>\n",
       "      <td>NaN</td>\n",
       "      <td>NaN</td>\n",
       "      <td>NaN</td>\n",
       "      <td>NaN</td>\n",
       "    </tr>\n",
       "    <tr>\n",
       "      <th>B1</th>\n",
       "      <td>NaN</td>\n",
       "      <td>NaN</td>\n",
       "      <td>NaN</td>\n",
       "      <td>NaN</td>\n",
       "    </tr>\n",
       "    <tr>\n",
       "      <th>C1</th>\n",
       "      <td>NaN</td>\n",
       "      <td>NaN</td>\n",
       "      <td>NaN</td>\n",
       "      <td>NaN</td>\n",
       "    </tr>\n",
       "    <tr>\n",
       "      <th>D1</th>\n",
       "      <td>NaN</td>\n",
       "      <td>NaN</td>\n",
       "      <td>NaN</td>\n",
       "      <td>NaN</td>\n",
       "    </tr>\n",
       "  </tbody>\n",
       "</table>\n",
       "</div>"
      ],
      "text/plain": [
       "   grava arena limo arcilla\n",
       "A1   NaN   NaN  NaN     NaN\n",
       "B1   NaN   NaN  NaN     NaN\n",
       "C1   NaN   NaN  NaN     NaN\n",
       "D1   NaN   NaN  NaN     NaN"
      ]
     },
     "execution_count": 15,
     "metadata": {},
     "output_type": "execute_result"
    }
   ],
   "source": [
    "# tabla donde guardar el % de cada textura\n",
    "textura = pd.DataFrame(index=datos.index, columns=['grava', 'arena', 'limo', 'arcilla'])\n",
    "textura"
   ]
  },
  {
   "cell_type": "code",
   "execution_count": 16,
   "metadata": {},
   "outputs": [
    {
     "data": {
      "text/html": [
       "<div>\n",
       "<style scoped>\n",
       "    .dataframe tbody tr th:only-of-type {\n",
       "        vertical-align: middle;\n",
       "    }\n",
       "\n",
       "    .dataframe tbody tr th {\n",
       "        vertical-align: top;\n",
       "    }\n",
       "\n",
       "    .dataframe thead th {\n",
       "        text-align: right;\n",
       "    }\n",
       "</style>\n",
       "<table border=\"1\" class=\"dataframe\">\n",
       "  <thead>\n",
       "    <tr style=\"text-align: right;\">\n",
       "      <th></th>\n",
       "      <th>grava</th>\n",
       "      <th>arena</th>\n",
       "      <th>limo</th>\n",
       "      <th>arcilla</th>\n",
       "    </tr>\n",
       "  </thead>\n",
       "  <tbody>\n",
       "    <tr>\n",
       "      <th>A1</th>\n",
       "      <td>0</td>\n",
       "      <td>11.0</td>\n",
       "      <td>73.0</td>\n",
       "      <td>16</td>\n",
       "    </tr>\n",
       "    <tr>\n",
       "      <th>B1</th>\n",
       "      <td>30</td>\n",
       "      <td>58.1</td>\n",
       "      <td>9.9</td>\n",
       "      <td>2</td>\n",
       "    </tr>\n",
       "    <tr>\n",
       "      <th>C1</th>\n",
       "      <td>31</td>\n",
       "      <td>34.8</td>\n",
       "      <td>28.2</td>\n",
       "      <td>6</td>\n",
       "    </tr>\n",
       "    <tr>\n",
       "      <th>D1</th>\n",
       "      <td>0</td>\n",
       "      <td>15.6</td>\n",
       "      <td>53.4</td>\n",
       "      <td>31</td>\n",
       "    </tr>\n",
       "  </tbody>\n",
       "</table>\n",
       "</div>"
      ],
      "text/plain": [
       "    grava  arena  limo  arcilla\n",
       "A1      0   11.0  73.0       16\n",
       "B1     30   58.1   9.9        2\n",
       "C1     31   34.8  28.2        6\n",
       "D1      0   15.6  53.4       31"
      ]
     },
     "execution_count": 16,
     "metadata": {},
     "output_type": "execute_result"
    }
   ],
   "source": [
    "# completar la tabla de texturas\n",
    "textura.grava = 100 - datos_f[2]\n",
    "textura.arena = round(datos_f[2] - datos_f[0.05], 1)\n",
    "textura.limo = round(datos_f[0.05] - datos_f[0.002], 1)\n",
    "textura.arcilla = datos_f[0.002]\n",
    "textura"
   ]
  },
  {
   "cell_type": "code",
   "execution_count": 17,
   "metadata": {},
   "outputs": [
    {
     "data": {
      "text/html": [
       "<div>\n",
       "<style scoped>\n",
       "    .dataframe tbody tr th:only-of-type {\n",
       "        vertical-align: middle;\n",
       "    }\n",
       "\n",
       "    .dataframe tbody tr th {\n",
       "        vertical-align: top;\n",
       "    }\n",
       "\n",
       "    .dataframe thead th {\n",
       "        text-align: right;\n",
       "    }\n",
       "</style>\n",
       "<table border=\"1\" class=\"dataframe\">\n",
       "  <thead>\n",
       "    <tr style=\"text-align: right;\">\n",
       "      <th></th>\n",
       "      <th>arena</th>\n",
       "      <th>limo</th>\n",
       "      <th>arcilla</th>\n",
       "    </tr>\n",
       "  </thead>\n",
       "  <tbody>\n",
       "    <tr>\n",
       "      <th>A1</th>\n",
       "      <td>11.0</td>\n",
       "      <td>73.0</td>\n",
       "      <td>16</td>\n",
       "    </tr>\n",
       "    <tr>\n",
       "      <th>B1</th>\n",
       "      <td>58.1</td>\n",
       "      <td>9.9</td>\n",
       "      <td>2</td>\n",
       "    </tr>\n",
       "    <tr>\n",
       "      <th>C1</th>\n",
       "      <td>34.8</td>\n",
       "      <td>28.2</td>\n",
       "      <td>6</td>\n",
       "    </tr>\n",
       "    <tr>\n",
       "      <th>D1</th>\n",
       "      <td>15.6</td>\n",
       "      <td>53.4</td>\n",
       "      <td>31</td>\n",
       "    </tr>\n",
       "  </tbody>\n",
       "</table>\n",
       "</div>"
      ],
      "text/plain": [
       "    arena  limo  arcilla\n",
       "A1   11.0  73.0       16\n",
       "B1   58.1   9.9        2\n",
       "C1   34.8  28.2        6\n",
       "D1   15.6  53.4       31"
      ]
     },
     "execution_count": 17,
     "metadata": {},
     "output_type": "execute_result"
    }
   ],
   "source": [
    "# extraer los porcentajes sólo para los finos\n",
    "finos = ['arena', 'limo', 'arcilla']\n",
    "textura_finos = textura[finos].copy()\n",
    "textura_finos"
   ]
  },
  {
   "cell_type": "code",
   "execution_count": 18,
   "metadata": {},
   "outputs": [
    {
     "data": {
      "text/html": [
       "<div>\n",
       "<style scoped>\n",
       "    .dataframe tbody tr th:only-of-type {\n",
       "        vertical-align: middle;\n",
       "    }\n",
       "\n",
       "    .dataframe tbody tr th {\n",
       "        vertical-align: top;\n",
       "    }\n",
       "\n",
       "    .dataframe thead th {\n",
       "        text-align: right;\n",
       "    }\n",
       "</style>\n",
       "<table border=\"1\" class=\"dataframe\">\n",
       "  <thead>\n",
       "    <tr style=\"text-align: right;\">\n",
       "      <th></th>\n",
       "      <th>arena</th>\n",
       "      <th>limo</th>\n",
       "      <th>arcilla</th>\n",
       "    </tr>\n",
       "  </thead>\n",
       "  <tbody>\n",
       "    <tr>\n",
       "      <th>A1</th>\n",
       "      <td>11.0</td>\n",
       "      <td>73.0</td>\n",
       "      <td>16.0</td>\n",
       "    </tr>\n",
       "    <tr>\n",
       "      <th>B1</th>\n",
       "      <td>83.0</td>\n",
       "      <td>14.1</td>\n",
       "      <td>2.9</td>\n",
       "    </tr>\n",
       "    <tr>\n",
       "      <th>C1</th>\n",
       "      <td>50.4</td>\n",
       "      <td>40.9</td>\n",
       "      <td>8.7</td>\n",
       "    </tr>\n",
       "    <tr>\n",
       "      <th>D1</th>\n",
       "      <td>15.6</td>\n",
       "      <td>53.4</td>\n",
       "      <td>31.0</td>\n",
       "    </tr>\n",
       "  </tbody>\n",
       "</table>\n",
       "</div>"
      ],
      "text/plain": [
       "    arena  limo  arcilla\n",
       "A1   11.0  73.0     16.0\n",
       "B1   83.0  14.1      2.9\n",
       "C1   50.4  40.9      8.7\n",
       "D1   15.6  53.4     31.0"
      ]
     },
     "execution_count": 18,
     "metadata": {},
     "output_type": "execute_result"
    }
   ],
   "source": [
    "# corregir de manera que los finos sumen 100\n",
    "for soil in textura_finos.index:\n",
    "    perc_finos = textura_finos.loc[soil, :].sum()\n",
    "    textura_finos.loc[soil,:] = round(textura_finos.loc[soil,:] * 100 / perc_finos, 1)\n",
    "\n",
    "textura_finos"
   ]
  },
  {
   "cell_type": "markdown",
   "metadata": {},
   "source": [
    "## <font color=steelblue>Ejercicio 3 - Propiedades de los suelos\n",
    "<font color=steelblue>Seproporcionan los pesos en campo y tras secado para cuatro muestras cilíndricas de suelo de 10 cm de longitud y 5 cm de diámetro. Asumiento que $\\rho_{m}=2650 kg/m³$, calcular el __contenido en agua__, la __saturación__, la __densidad del suelo__ y la __porosidad__ de cada muestra.\n",
    "    \n",
    "|    | m (g) | ms (g) |\n",
    "|----|-------|--------|\n",
    "| A2 | 302.5 | 264.8  |\n",
    "| B2 | 376.3 | 308.0  |\n",
    "| C2 | 422.6 | 388.6  |\n",
    "| D2 | 468.3 | 441.7  |"
   ]
  },
  {
   "cell_type": "code",
   "execution_count": null,
   "metadata": {},
   "outputs": [],
   "source": [
    "rho_m = 2.65 # g/cm³\n",
    "rho_w = 1    # g/cm³\n",
    "D = 5        # cm\n",
    "L = 10       # cm"
   ]
  },
  {
   "cell_type": "markdown",
   "metadata": {},
   "source": [
    "#### Muestra A2"
   ]
  },
  {
   "cell_type": "code",
   "execution_count": 19,
   "metadata": {},
   "outputs": [],
   "source": [
    "m = 302.5    # g\n",
    "ms = 264.8   # g"
   ]
  },
  {
   "cell_type": "code",
   "execution_count": 20,
   "metadata": {},
   "outputs": [],
   "source": [
    "Vt = np.pi / 4 * D**2 * L # volumen total"
   ]
  },
  {
   "cell_type": "code",
   "execution_count": 21,
   "metadata": {},
   "outputs": [],
   "source": [
    "Vw = (m - ms) / rho_w   # volumen de agua"
   ]
  },
  {
   "cell_type": "code",
   "execution_count": 22,
   "metadata": {},
   "outputs": [],
   "source": [
    "rho_b = ms / Vt         # densidad del suelo"
   ]
  },
  {
   "cell_type": "code",
   "execution_count": 25,
   "metadata": {},
   "outputs": [],
   "source": [
    "phi = 1 - rho_b / rho_m # porosidad"
   ]
  },
  {
   "cell_type": "code",
   "execution_count": 26,
   "metadata": {},
   "outputs": [],
   "source": [
    "theta = Vw / Vt         # contenido de humedad del suelo"
   ]
  },
  {
   "cell_type": "code",
   "execution_count": 27,
   "metadata": {},
   "outputs": [],
   "source": [
    "Se = theta / phi        # grado de saturación"
   ]
  },
  {
   "cell_type": "markdown",
   "metadata": {},
   "source": [
    "#### Todas las muestras"
   ]
  },
  {
   "cell_type": "code",
   "execution_count": 28,
   "metadata": {},
   "outputs": [],
   "source": [
    "def prop_suelo(m, ms, rho_m, D, L):\n",
    "    \"\"\"Se calculan las propiedades del suelo\n",
    "    \n",
    "    Entradas:\n",
    "    ---------\n",
    "    m:       float. Masa de la muestra de suelo (g)\n",
    "    ms:      float. Masa seca de la muestra (g)\n",
    "    rho_m:   float. Densidad del mineral (g/cm³)\n",
    "    D:       float. Diámetro del cilindro de la muestra (cm)\n",
    "    L:       float. Longitud del cilindro de la muestra (cm)\n",
    "    \n",
    "    Salidas:\n",
    "    --------\n",
    "    rho_b:   float. Densidad bruta (g/cm³)\n",
    "    phi:     float. Porosidad (-)\n",
    "    theta:   float. Humedad del suelo (-)\n",
    "    Se:      float. Grado de saturación (-)\"\"\"\n",
    "    \n",
    "    rho_w = 1    # g/cm³\n",
    "    \n",
    "    # Calcular volúmenes necesarios\n",
    "    Vt = np.pi / 4 * D**2 * L # volumen total\n",
    "    Vw = (m - ms) / rho_w   # volumen de agua\n",
    "    \n",
    "    # Calcular propiedades del suelo\n",
    "    rho_b = ms / Vt         # densidad del suelo\n",
    "    phi = 1 - rho_b / rho_m # porosidad\n",
    "    theta = Vw / Vt         # contenido de humedad del suelo\n",
    "    Se = theta / phi        # grado de saturación\n",
    "    \n",
    "    return rho_b, phi, theta, Se"
   ]
  },
  {
   "cell_type": "code",
   "execution_count": 29,
   "metadata": {},
   "outputs": [
    {
     "data": {
      "text/html": [
       "<div>\n",
       "<style scoped>\n",
       "    .dataframe tbody tr th:only-of-type {\n",
       "        vertical-align: middle;\n",
       "    }\n",
       "\n",
       "    .dataframe tbody tr th {\n",
       "        vertical-align: top;\n",
       "    }\n",
       "\n",
       "    .dataframe thead th {\n",
       "        text-align: right;\n",
       "    }\n",
       "</style>\n",
       "<table border=\"1\" class=\"dataframe\">\n",
       "  <thead>\n",
       "    <tr style=\"text-align: right;\">\n",
       "      <th></th>\n",
       "      <th>m</th>\n",
       "      <th>ms</th>\n",
       "    </tr>\n",
       "  </thead>\n",
       "  <tbody>\n",
       "    <tr>\n",
       "      <th>A2</th>\n",
       "      <td>302.5</td>\n",
       "      <td>264.8</td>\n",
       "    </tr>\n",
       "    <tr>\n",
       "      <th>B2</th>\n",
       "      <td>376.3</td>\n",
       "      <td>308.0</td>\n",
       "    </tr>\n",
       "    <tr>\n",
       "      <th>C2</th>\n",
       "      <td>422.6</td>\n",
       "      <td>388.6</td>\n",
       "    </tr>\n",
       "    <tr>\n",
       "      <th>D2</th>\n",
       "      <td>468.3</td>\n",
       "      <td>441.7</td>\n",
       "    </tr>\n",
       "  </tbody>\n",
       "</table>\n",
       "</div>"
      ],
      "text/plain": [
       "        m     ms\n",
       "A2  302.5  264.8\n",
       "B2  376.3  308.0\n",
       "C2  422.6  388.6\n",
       "D2  468.3  441.7"
      ]
     },
     "execution_count": 29,
     "metadata": {},
     "output_type": "execute_result"
    }
   ],
   "source": [
    "m = [302.5, 376.3, 422.6, 468.3]\n",
    "ms = [264.8, 308.0, 388.6, 441.7]\n",
    "soilnames = ['A2', 'B2', 'C2', 'D2']\n",
    "\n",
    "# dataframe con los datos\n",
    "soils = pd.DataFrame(data=[m, ms], index=['m', 'ms'], columns=soilnames).T\n",
    "soils"
   ]
  },
  {
   "cell_type": "code",
   "execution_count": 30,
   "metadata": {},
   "outputs": [
    {
     "data": {
      "text/html": [
       "<div>\n",
       "<style scoped>\n",
       "    .dataframe tbody tr th:only-of-type {\n",
       "        vertical-align: middle;\n",
       "    }\n",
       "\n",
       "    .dataframe tbody tr th {\n",
       "        vertical-align: top;\n",
       "    }\n",
       "\n",
       "    .dataframe thead th {\n",
       "        text-align: right;\n",
       "    }\n",
       "</style>\n",
       "<table border=\"1\" class=\"dataframe\">\n",
       "  <thead>\n",
       "    <tr style=\"text-align: right;\">\n",
       "      <th></th>\n",
       "      <th>rho_b</th>\n",
       "      <th>phi</th>\n",
       "      <th>theta</th>\n",
       "      <th>Se</th>\n",
       "    </tr>\n",
       "  </thead>\n",
       "  <tbody>\n",
       "    <tr>\n",
       "      <th>A2</th>\n",
       "      <td>NaN</td>\n",
       "      <td>NaN</td>\n",
       "      <td>NaN</td>\n",
       "      <td>NaN</td>\n",
       "    </tr>\n",
       "    <tr>\n",
       "      <th>B2</th>\n",
       "      <td>NaN</td>\n",
       "      <td>NaN</td>\n",
       "      <td>NaN</td>\n",
       "      <td>NaN</td>\n",
       "    </tr>\n",
       "    <tr>\n",
       "      <th>C2</th>\n",
       "      <td>NaN</td>\n",
       "      <td>NaN</td>\n",
       "      <td>NaN</td>\n",
       "      <td>NaN</td>\n",
       "    </tr>\n",
       "    <tr>\n",
       "      <th>D2</th>\n",
       "      <td>NaN</td>\n",
       "      <td>NaN</td>\n",
       "      <td>NaN</td>\n",
       "      <td>NaN</td>\n",
       "    </tr>\n",
       "  </tbody>\n",
       "</table>\n",
       "</div>"
      ],
      "text/plain": [
       "   rho_b  phi theta   Se\n",
       "A2   NaN  NaN   NaN  NaN\n",
       "B2   NaN  NaN   NaN  NaN\n",
       "C2   NaN  NaN   NaN  NaN\n",
       "D2   NaN  NaN   NaN  NaN"
      ]
     },
     "execution_count": 30,
     "metadata": {},
     "output_type": "execute_result"
    }
   ],
   "source": [
    "# dataframe con las propiedades\n",
    "props = pd.DataFrame(index=soils.index, columns=['rho_b', 'phi', 'theta', 'Se'])\n",
    "props"
   ]
  },
  {
   "cell_type": "code",
   "execution_count": 31,
   "metadata": {},
   "outputs": [
    {
     "data": {
      "text/html": [
       "<div>\n",
       "<style scoped>\n",
       "    .dataframe tbody tr th:only-of-type {\n",
       "        vertical-align: middle;\n",
       "    }\n",
       "\n",
       "    .dataframe tbody tr th {\n",
       "        vertical-align: top;\n",
       "    }\n",
       "\n",
       "    .dataframe thead th {\n",
       "        text-align: right;\n",
       "    }\n",
       "</style>\n",
       "<table border=\"1\" class=\"dataframe\">\n",
       "  <thead>\n",
       "    <tr style=\"text-align: right;\">\n",
       "      <th></th>\n",
       "      <th>rho_b</th>\n",
       "      <th>phi</th>\n",
       "      <th>theta</th>\n",
       "      <th>Se</th>\n",
       "    </tr>\n",
       "  </thead>\n",
       "  <tbody>\n",
       "    <tr>\n",
       "      <th>A2</th>\n",
       "      <td>1.34862</td>\n",
       "      <td>0.491089</td>\n",
       "      <td>0.192005</td>\n",
       "      <td>0.390977</td>\n",
       "    </tr>\n",
       "    <tr>\n",
       "      <th>B2</th>\n",
       "      <td>1.56863</td>\n",
       "      <td>0.408064</td>\n",
       "      <td>0.347849</td>\n",
       "      <td>0.852438</td>\n",
       "    </tr>\n",
       "    <tr>\n",
       "      <th>C2</th>\n",
       "      <td>1.97912</td>\n",
       "      <td>0.253161</td>\n",
       "      <td>0.173161</td>\n",
       "      <td>0.683994</td>\n",
       "    </tr>\n",
       "    <tr>\n",
       "      <th>D2</th>\n",
       "      <td>2.24956</td>\n",
       "      <td>0.15111</td>\n",
       "      <td>0.135473</td>\n",
       "      <td>0.89652</td>\n",
       "    </tr>\n",
       "  </tbody>\n",
       "</table>\n",
       "</div>"
      ],
      "text/plain": [
       "      rho_b       phi     theta        Se\n",
       "A2  1.34862  0.491089  0.192005  0.390977\n",
       "B2  1.56863  0.408064  0.347849  0.852438\n",
       "C2  1.97912  0.253161  0.173161  0.683994\n",
       "D2  2.24956   0.15111  0.135473   0.89652"
      ]
     },
     "execution_count": 31,
     "metadata": {},
     "output_type": "execute_result"
    }
   ],
   "source": [
    "# calcular propiedades\n",
    "for soil in soils.index:\n",
    "    m, ms = soils.loc[soil, 'm'], soils.loc[soil, 'ms']\n",
    "    props.loc[soil,:] = prop_suelo(m, ms, rho_m, D, L)\n",
    "props"
   ]
  },
  {
   "cell_type": "markdown",
   "metadata": {},
   "source": [
    "## <font color=steelblue>Ejercicio 4 - Tensiómetros\n",
    "\n",
    "<font color=steelblue>Considérense dos tensiómetros adyacentes insertados en un _loam_ arenoso no saturado. Ambos tensiómetros tienen una longitud de 20 cm. El tensiómetro A se sitúa a una profundidad de 20 cm y el B a 60 cm. De acuerdo a las lecturas de la siguiente tabla, ¿en qué dirección fluye el agua en cada caso?"
   ]
  },
  {
   "cell_type": "markdown",
   "metadata": {},
   "source": [
    "|Medición            | Caso 1 | Caso 2 | Caso 3 | Caso 4 | Caso 5 |\n",
    "|------------------- |--------|--------|--------|--------|--------|\n",
    "| $\\Psi_{m,A} (cm)$  | 123    | 106    |  39    | 211    |  20    |    \n",
    "| $\\Psi_{m,B} (cm)$  |  22    |  51    |  65    | 185    |  36    |"
   ]
  },
  {
   "cell_type": "code",
   "execution_count": null,
   "metadata": {},
   "outputs": [],
   "source": [
    "Lten = 20 # cm\n",
    "profA = 20   # cm\n",
    "profB = 60   # cm"
   ]
  },
  {
   "cell_type": "markdown",
   "metadata": {},
   "source": [
    "#### Caso 1"
   ]
  },
  {
   "cell_type": "code",
   "execution_count": 44,
   "metadata": {},
   "outputs": [],
   "source": [
    "psi_mA = -123 # cm\n",
    "psi_mB = -22  # cm"
   ]
  },
  {
   "cell_type": "code",
   "execution_count": 55,
   "metadata": {},
   "outputs": [],
   "source": [
    "# array de los datos\n",
    "psi_m = np.array([psi_mA, psi_mB])\n",
    "prof = np.array([profA, profB])"
   ]
  },
  {
   "cell_type": "code",
   "execution_count": 56,
   "metadata": {},
   "outputs": [
    {
     "data": {
      "text/plain": [
       "array([-103,   -2])"
      ]
     },
     "execution_count": 56,
     "metadata": {},
     "output_type": "execute_result"
    }
   ],
   "source": [
    "# tensión en el bulbo del tensiómetro\n",
    "psi = psi_m + Lten\n",
    "psi"
   ]
  },
  {
   "cell_type": "code",
   "execution_count": 57,
   "metadata": {},
   "outputs": [
    {
     "data": {
      "text/plain": [
       "array([-20, -60])"
      ]
     },
     "execution_count": 57,
     "metadata": {},
     "output_type": "execute_result"
    }
   ],
   "source": [
    "# altura potencial relativa a la superficie\n",
    "z = - prof\n",
    "z"
   ]
  },
  {
   "cell_type": "code",
   "execution_count": 58,
   "metadata": {},
   "outputs": [
    {
     "name": "stdout",
     "output_type": "stream",
     "text": [
      "Ha = -123 cm\tHb = -62 cm\n"
     ]
    }
   ],
   "source": [
    "# altura de energía\n",
    "H = z + psi\n",
    "print('Ha = {0} cm\\tHb = {1} cm'.format(H[0], H[1]))"
   ]
  },
  {
   "cell_type": "code",
   "execution_count": 51,
   "metadata": {},
   "outputs": [
    {
     "name": "stdout",
     "output_type": "stream",
     "text": [
      "flujo en dirección a A\n"
     ]
    }
   ],
   "source": [
    "# definir la dirección del flujo\n",
    "if H[0] > H[1]:\n",
    "    print('flujo en dirección a B')\n",
    "elif H[0] == H[1]:\n",
    "    print('no hay flujo')\n",
    "elif H[0] < H[1]:\n",
    "    print('flujo en dirección a A')"
   ]
  },
  {
   "cell_type": "markdown",
   "metadata": {},
   "source": [
    "#### Todos los casos"
   ]
  },
  {
   "cell_type": "code",
   "execution_count": 59,
   "metadata": {},
   "outputs": [],
   "source": [
    "def direc_flujo(psi_m, prof, Lten):\n",
    "    \"\"\"Se calcula la altura hidráulica en dos puntos del suelo y en función de ella la dirección del flujo subterráneo.\n",
    "    \n",
    "    Entradas:\n",
    "    ---------\n",
    "    psi_m:   list (2,). Valores medidos de la tensión (negativos) en los dos puntos del suelo (cm).\n",
    "    prof:    list (2,). Profundidad (positivos) a la que se ubican los dos tensiómetros (cm)\n",
    "    Lten:    float. Longitud del tensiómetro (cm)\n",
    "    \n",
    "    Salida:\n",
    "    -------\n",
    "    H:       list (2,). Altura de energía en los dos puntos (cm)\"\"\"\n",
    "    \n",
    "    # tensión en el bulbo de los tensiómetros\n",
    "    psi = psi_m + Lten\n",
    "    \n",
    "    # altura potencial relativa a la superficie\n",
    "    z = - prof\n",
    "    \n",
    "    # altura de energía\n",
    "    H = z + psi\n",
    "    print('Ha = {0} cm\\tHb = {1} cm'.format(H[0], H[1]))\n",
    "    \n",
    "    # definir dirección del flujo\n",
    "    if H[0] > H[1]:\n",
    "        print('flujo en dirección a B')\n",
    "    elif H[0] == H[1]:\n",
    "        print('no hay flujo')\n",
    "    elif H[0] < H[1]:\n",
    "        print('flujo en dirección a A')\n",
    "        \n",
    "    return H"
   ]
  },
  {
   "cell_type": "code",
   "execution_count": 60,
   "metadata": {},
   "outputs": [
    {
     "name": "stdout",
     "output_type": "stream",
     "text": [
      "Ha = -123 cm\tHb = -62 cm\n",
      "flujo en dirección a A\n"
     ]
    }
   ],
   "source": [
    "# comprobación para el caso 1\n",
    "H = direc_flujo(psi_m, prof, Lten)"
   ]
  },
  {
   "cell_type": "code",
   "execution_count": 61,
   "metadata": {},
   "outputs": [
    {
     "data": {
      "text/html": [
       "<div>\n",
       "<style scoped>\n",
       "    .dataframe tbody tr th:only-of-type {\n",
       "        vertical-align: middle;\n",
       "    }\n",
       "\n",
       "    .dataframe tbody tr th {\n",
       "        vertical-align: top;\n",
       "    }\n",
       "\n",
       "    .dataframe thead th {\n",
       "        text-align: right;\n",
       "    }\n",
       "</style>\n",
       "<table border=\"1\" class=\"dataframe\">\n",
       "  <thead>\n",
       "    <tr style=\"text-align: right;\">\n",
       "      <th></th>\n",
       "      <th>1</th>\n",
       "      <th>2</th>\n",
       "      <th>3</th>\n",
       "      <th>4</th>\n",
       "      <th>5</th>\n",
       "    </tr>\n",
       "  </thead>\n",
       "  <tbody>\n",
       "    <tr>\n",
       "      <th>A</th>\n",
       "      <td>123</td>\n",
       "      <td>106</td>\n",
       "      <td>39</td>\n",
       "      <td>211</td>\n",
       "      <td>20</td>\n",
       "    </tr>\n",
       "    <tr>\n",
       "      <th>B</th>\n",
       "      <td>22</td>\n",
       "      <td>51</td>\n",
       "      <td>65</td>\n",
       "      <td>185</td>\n",
       "      <td>36</td>\n",
       "    </tr>\n",
       "  </tbody>\n",
       "</table>\n",
       "</div>"
      ],
      "text/plain": [
       "     1    2   3    4   5\n",
       "A  123  106  39  211  20\n",
       "B   22   51  65  185  36"
      ]
     },
     "execution_count": 61,
     "metadata": {},
     "output_type": "execute_result"
    }
   ],
   "source": [
    "# tabla con los datos de las mediciones\n",
    "psi_mA = [123, 106, 39, 211, 20]\n",
    "psi_mB = [22, 51, 65, 185, 36]\n",
    "\n",
    "# dataframe con los datos\n",
    "Psi_m = pd.DataFrame(data=[psi_mA, psi_mB], index=['A', 'B'], columns=range(1,6))\n",
    "Psi_m"
   ]
  },
  {
   "cell_type": "code",
   "execution_count": 62,
   "metadata": {},
   "outputs": [
    {
     "data": {
      "text/html": [
       "<div>\n",
       "<style scoped>\n",
       "    .dataframe tbody tr th:only-of-type {\n",
       "        vertical-align: middle;\n",
       "    }\n",
       "\n",
       "    .dataframe tbody tr th {\n",
       "        vertical-align: top;\n",
       "    }\n",
       "\n",
       "    .dataframe thead th {\n",
       "        text-align: right;\n",
       "    }\n",
       "</style>\n",
       "<table border=\"1\" class=\"dataframe\">\n",
       "  <thead>\n",
       "    <tr style=\"text-align: right;\">\n",
       "      <th></th>\n",
       "      <th>1</th>\n",
       "      <th>2</th>\n",
       "      <th>3</th>\n",
       "      <th>4</th>\n",
       "      <th>5</th>\n",
       "    </tr>\n",
       "  </thead>\n",
       "  <tbody>\n",
       "    <tr>\n",
       "      <th>A</th>\n",
       "      <td>NaN</td>\n",
       "      <td>NaN</td>\n",
       "      <td>NaN</td>\n",
       "      <td>NaN</td>\n",
       "      <td>NaN</td>\n",
       "    </tr>\n",
       "    <tr>\n",
       "      <th>B</th>\n",
       "      <td>NaN</td>\n",
       "      <td>NaN</td>\n",
       "      <td>NaN</td>\n",
       "      <td>NaN</td>\n",
       "      <td>NaN</td>\n",
       "    </tr>\n",
       "  </tbody>\n",
       "</table>\n",
       "</div>"
      ],
      "text/plain": [
       "     1    2    3    4    5\n",
       "A  NaN  NaN  NaN  NaN  NaN\n",
       "B  NaN  NaN  NaN  NaN  NaN"
      ]
     },
     "execution_count": 62,
     "metadata": {},
     "output_type": "execute_result"
    }
   ],
   "source": [
    "# tabla con los resultados\n",
    "H = pd.DataFrame(index=Psi_m.index, columns=Psi_m.columns)\n",
    "H"
   ]
  },
  {
   "cell_type": "code",
   "execution_count": 64,
   "metadata": {},
   "outputs": [
    {
     "name": "stdout",
     "output_type": "stream",
     "text": [
      "Caso 1\n",
      "[-123  -22]\n",
      "Ha = -123 cm\tHb = -62 cm\n",
      "flujo en dirección a A\n",
      "\n",
      "Caso 2\n",
      "[-106  -51]\n",
      "Ha = -106 cm\tHb = -91 cm\n",
      "flujo en dirección a A\n",
      "\n",
      "Caso 3\n",
      "[-39 -65]\n",
      "Ha = -39 cm\tHb = -105 cm\n",
      "flujo en dirección a B\n",
      "\n",
      "Caso 4\n",
      "[-211 -185]\n",
      "Ha = -211 cm\tHb = -225 cm\n",
      "flujo en dirección a B\n",
      "\n",
      "Caso 5\n",
      "[-20 -36]\n",
      "Ha = -20 cm\tHb = -76 cm\n",
      "flujo en dirección a B\n",
      "\n"
     ]
    },
    {
     "data": {
      "text/html": [
       "<div>\n",
       "<style scoped>\n",
       "    .dataframe tbody tr th:only-of-type {\n",
       "        vertical-align: middle;\n",
       "    }\n",
       "\n",
       "    .dataframe tbody tr th {\n",
       "        vertical-align: top;\n",
       "    }\n",
       "\n",
       "    .dataframe thead th {\n",
       "        text-align: right;\n",
       "    }\n",
       "</style>\n",
       "<table border=\"1\" class=\"dataframe\">\n",
       "  <thead>\n",
       "    <tr style=\"text-align: right;\">\n",
       "      <th></th>\n",
       "      <th>1</th>\n",
       "      <th>2</th>\n",
       "      <th>3</th>\n",
       "      <th>4</th>\n",
       "      <th>5</th>\n",
       "    </tr>\n",
       "  </thead>\n",
       "  <tbody>\n",
       "    <tr>\n",
       "      <th>A</th>\n",
       "      <td>-123</td>\n",
       "      <td>-106</td>\n",
       "      <td>-39</td>\n",
       "      <td>-211</td>\n",
       "      <td>-20</td>\n",
       "    </tr>\n",
       "    <tr>\n",
       "      <th>B</th>\n",
       "      <td>-62</td>\n",
       "      <td>-91</td>\n",
       "      <td>-105</td>\n",
       "      <td>-225</td>\n",
       "      <td>-76</td>\n",
       "    </tr>\n",
       "  </tbody>\n",
       "</table>\n",
       "</div>"
      ],
      "text/plain": [
       "     1    2    3    4   5\n",
       "A -123 -106  -39 -211 -20\n",
       "B  -62  -91 -105 -225 -76"
      ]
     },
     "execution_count": 64,
     "metadata": {},
     "output_type": "execute_result"
    }
   ],
   "source": [
    "# calcular potenciales y dirección de flujo\n",
    "for i in Psi_m.columns:\n",
    "    print('Caso', i)\n",
    "    psi_m = - Psi_m.loc[:, i].values\n",
    "    H.loc[:, i] = direc_flujo(psi_m, prof, Lten)\n",
    "    print()"
   ]
  },
  {
   "cell_type": "code",
   "execution_count": 65,
   "metadata": {},
   "outputs": [
    {
     "data": {
      "text/html": [
       "<div>\n",
       "<style scoped>\n",
       "    .dataframe tbody tr th:only-of-type {\n",
       "        vertical-align: middle;\n",
       "    }\n",
       "\n",
       "    .dataframe tbody tr th {\n",
       "        vertical-align: top;\n",
       "    }\n",
       "\n",
       "    .dataframe thead th {\n",
       "        text-align: right;\n",
       "    }\n",
       "</style>\n",
       "<table border=\"1\" class=\"dataframe\">\n",
       "  <thead>\n",
       "    <tr style=\"text-align: right;\">\n",
       "      <th></th>\n",
       "      <th>1</th>\n",
       "      <th>2</th>\n",
       "      <th>3</th>\n",
       "      <th>4</th>\n",
       "      <th>5</th>\n",
       "    </tr>\n",
       "  </thead>\n",
       "  <tbody>\n",
       "    <tr>\n",
       "      <th>A</th>\n",
       "      <td>-123</td>\n",
       "      <td>-106</td>\n",
       "      <td>-39</td>\n",
       "      <td>-211</td>\n",
       "      <td>-20</td>\n",
       "    </tr>\n",
       "    <tr>\n",
       "      <th>B</th>\n",
       "      <td>-62</td>\n",
       "      <td>-91</td>\n",
       "      <td>-105</td>\n",
       "      <td>-225</td>\n",
       "      <td>-76</td>\n",
       "    </tr>\n",
       "  </tbody>\n",
       "</table>\n",
       "</div>"
      ],
      "text/plain": [
       "     1    2    3    4   5\n",
       "A -123 -106  -39 -211 -20\n",
       "B  -62  -91 -105 -225 -76"
      ]
     },
     "execution_count": 65,
     "metadata": {},
     "output_type": "execute_result"
    }
   ],
   "source": [
    "H"
   ]
  },
  {
   "cell_type": "code",
   "execution_count": null,
   "metadata": {},
   "outputs": [],
   "source": []
  }
 ],
 "metadata": {
  "kernelspec": {
   "display_name": "Python 3",
   "language": "python",
   "name": "python3"
  },
  "language_info": {
   "codemirror_mode": {
    "name": "ipython",
    "version": 3
   },
   "file_extension": ".py",
   "mimetype": "text/x-python",
   "name": "python",
   "nbconvert_exporter": "python",
   "pygments_lexer": "ipython3",
   "version": "3.7.3"
  },
  "varInspector": {
   "cols": {
    "lenName": 16,
    "lenType": 16,
    "lenVar": 40
   },
   "kernels_config": {
    "python": {
     "delete_cmd_postfix": "",
     "delete_cmd_prefix": "del ",
     "library": "var_list.py",
     "varRefreshCmd": "print(var_dic_list())"
    },
    "r": {
     "delete_cmd_postfix": ") ",
     "delete_cmd_prefix": "rm(",
     "library": "var_list.r",
     "varRefreshCmd": "cat(var_dic_list()) "
    }
   },
   "types_to_exclude": [
    "module",
    "function",
    "builtin_function_or_method",
    "instance",
    "_Feature"
   ],
   "window_display": false
  }
 },
 "nbformat": 4,
 "nbformat_minor": 2
}
