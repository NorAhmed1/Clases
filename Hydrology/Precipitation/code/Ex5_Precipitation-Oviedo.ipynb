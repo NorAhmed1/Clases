{
 "cells": [
  {
   "cell_type": "markdown",
   "metadata": {},
   "source": [
    "# Precipitation exercises\n",
    "***\n",
    "\n",
    "## <font color=steelblue>Exercise 5 - Intensity-duration-frequency curves\n",
    "\n",
    "<font color=steelblue>Build an IDF (intensity-duration-frequency) curve from the data in _hourly_precipitation_Oviedo.csv_.<tfont>"
   ]
  },
  {
   "cell_type": "code",
   "execution_count": 1,
   "metadata": {},
   "outputs": [],
   "source": [
    "import numpy as np\n",
    "\n",
    "import pandas as pd\n",
    "from pandas.plotting import register_matplotlib_converters\n",
    "register_matplotlib_converters()\n",
    "\n",
    "from matplotlib import pyplot as plt\n",
    "import seaborn as sns\n",
    "sns.set()"
   ]
  },
  {
   "cell_type": "markdown",
   "metadata": {},
   "source": [
    "**Intensity-Duration-Frequency (IDF) curves** are a common approach for defining a design storm in a hydrologic project. IDF curves relate rainfall intensity, storm duration and frequency (expressed as return period).\n",
    " \n",
    "<img src=\"img/IDF curves.JPG\" alt=\"Mountain View\" style=\"width:500px\">\n",
    "\n",
    "> <font color=gray>Intensity-duration-frequency curve for Oklahoma City (Applied Hydrology. Chow, 1988).</font>\n",
    "\n",
    "When designing a structure, the objetive is to know the precipitation intensity given a return period and a duration. We would know the return period we want to design the structure for (usually defined by laws or standards). We would have to find the worst case scenario for the duration; this is usually the time of concentration of the structure's basin.\n",
    "\n",
    "**Empirical IDF curves**\n",
    "To build a IDF curve out of local data, we must carry out a frequency analysis. As input values, we need an annual series of maximum precipitation intensity for several storm durations. We must fit the series for each storm duration to a extreme values distributions in order to estimate the precipitation intensity given a return period. This is the **empirical IDF curve**.\n",
    "\n",
    "**Analytical IDF curves**\n",
    "**Analytical IDF curves** are equations that allow us to create continuous curves from which extract intensity for any duration and return period, so we overcome the limitation of empirical curves. The parameters of the equations must be fitted to the observations, i.e., the points of the empirical IDF curves."
   ]
  },
  {
   "cell_type": "markdown",
   "metadata": {},
   "source": [
    "### Import data\n",
    "\n",
    "The input data is the hourly rainfall series in the meteorological station that the AEMET (Spanish Meteorological Agency) runs in Oviedo."
   ]
  },
  {
   "cell_type": "code",
   "execution_count": 2,
   "metadata": {},
   "outputs": [
    {
     "data": {
      "text/html": [
       "<div>\n",
       "<style scoped>\n",
       "    .dataframe tbody tr th:only-of-type {\n",
       "        vertical-align: middle;\n",
       "    }\n",
       "\n",
       "    .dataframe tbody tr th {\n",
       "        vertical-align: top;\n",
       "    }\n",
       "\n",
       "    .dataframe thead th {\n",
       "        text-align: right;\n",
       "    }\n",
       "</style>\n",
       "<table border=\"1\" class=\"dataframe\">\n",
       "  <thead>\n",
       "    <tr style=\"text-align: right;\">\n",
       "      <th></th>\n",
       "      <th>P(mm)</th>\n",
       "    </tr>\n",
       "    <tr>\n",
       "      <th>Datetime</th>\n",
       "      <th></th>\n",
       "    </tr>\n",
       "  </thead>\n",
       "  <tbody>\n",
       "    <tr>\n",
       "      <th>2005-01-01 00:00:00</th>\n",
       "      <td>0.0</td>\n",
       "    </tr>\n",
       "    <tr>\n",
       "      <th>2005-01-01 01:00:00</th>\n",
       "      <td>0.0</td>\n",
       "    </tr>\n",
       "    <tr>\n",
       "      <th>2005-01-01 02:00:00</th>\n",
       "      <td>0.0</td>\n",
       "    </tr>\n",
       "    <tr>\n",
       "      <th>2005-01-01 03:00:00</th>\n",
       "      <td>0.0</td>\n",
       "    </tr>\n",
       "    <tr>\n",
       "      <th>2005-01-01 04:00:00</th>\n",
       "      <td>0.0</td>\n",
       "    </tr>\n",
       "  </tbody>\n",
       "</table>\n",
       "</div>"
      ],
      "text/plain": [
       "                     P(mm)\n",
       "Datetime                  \n",
       "2005-01-01 00:00:00    0.0\n",
       "2005-01-01 01:00:00    0.0\n",
       "2005-01-01 02:00:00    0.0\n",
       "2005-01-01 03:00:00    0.0\n",
       "2005-01-01 04:00:00    0.0"
      ]
     },
     "execution_count": 2,
     "metadata": {},
     "output_type": "execute_result"
    }
   ],
   "source": [
    "# load precipitation data\n",
    "pcp_h = pd.read_csv('../data/hourly_precipitation_Oviedo.csv', parse_dates=True, index_col=0)\n",
    "pcp_h.head()"
   ]
  },
  {
   "cell_type": "code",
   "execution_count": 3,
   "metadata": {},
   "outputs": [
    {
     "data": {
      "image/png": "[encoded data removed]",
      "text/plain": [
       "<Figure size 1080x252 with 1 Axes>"
      ]
     },
     "metadata": {
      "needs_background": "light"
     },
     "output_type": "display_data"
    }
   ],
   "source": [
    "# visualize the hourly series\n",
    "plt.figure(figsize=(15, 3.5))\n",
    "plt.plot(pcp_h.index, pcp_h, lw=.2)\n",
    "plt.ylabel('P (mm)');"
   ]
  },
  {
   "cell_type": "markdown",
   "metadata": {},
   "source": [
    "### Generate series of annual maxima\n",
    "To perfom a frequency analysis, we need a series with the maximum rainfall intensity in each of the years of the original data. Since our final goal is to derive an intensity-duration-frequency curve, we must repeat this process for several storm durations."
   ]
  },
  {
   "cell_type": "markdown",
   "metadata": {},
   "source": [
    "#### Example for 2h storm duration"
   ]
  },
  {
   "cell_type": "code",
   "execution_count": 4,
   "metadata": {},
   "outputs": [
    {
     "data": {
      "text/html": [
       "<div>\n",
       "<style scoped>\n",
       "    .dataframe tbody tr th:only-of-type {\n",
       "        vertical-align: middle;\n",
       "    }\n",
       "\n",
       "    .dataframe tbody tr th {\n",
       "        vertical-align: top;\n",
       "    }\n",
       "\n",
       "    .dataframe thead th {\n",
       "        text-align: right;\n",
       "    }\n",
       "</style>\n",
       "<table border=\"1\" class=\"dataframe\">\n",
       "  <thead>\n",
       "    <tr style=\"text-align: right;\">\n",
       "      <th></th>\n",
       "      <th>I[mm/h]</th>\n",
       "    </tr>\n",
       "    <tr>\n",
       "      <th>Datetime</th>\n",
       "      <th></th>\n",
       "    </tr>\n",
       "  </thead>\n",
       "  <tbody>\n",
       "    <tr>\n",
       "      <th>2005-01-01 00:00:00</th>\n",
       "      <td>NaN</td>\n",
       "    </tr>\n",
       "    <tr>\n",
       "      <th>2005-01-01 01:00:00</th>\n",
       "      <td>0.0</td>\n",
       "    </tr>\n",
       "    <tr>\n",
       "      <th>2005-01-01 02:00:00</th>\n",
       "      <td>0.0</td>\n",
       "    </tr>\n",
       "    <tr>\n",
       "      <th>2005-01-01 03:00:00</th>\n",
       "      <td>0.0</td>\n",
       "    </tr>\n",
       "    <tr>\n",
       "      <th>2005-01-01 04:00:00</th>\n",
       "      <td>0.0</td>\n",
       "    </tr>\n",
       "  </tbody>\n",
       "</table>\n",
       "</div>"
      ],
      "text/plain": [
       "                     I[mm/h]\n",
       "Datetime                    \n",
       "2005-01-01 00:00:00      NaN\n",
       "2005-01-01 01:00:00      0.0\n",
       "2005-01-01 02:00:00      0.0\n",
       "2005-01-01 03:00:00      0.0\n",
       "2005-01-01 04:00:00      0.0"
      ]
     },
     "execution_count": 4,
     "metadata": {},
     "output_type": "execute_result"
    }
   ],
   "source": [
    "# series of 2h rainfall intentity\n",
    "pcp_2h = pcp_h.rolling(2, center=True).sum() \n",
    "int_2h = pcp_2h / 2\n",
    "int_2h.columns = ['I[mm/h]']\n",
    "int_2h.head()"
   ]
  },
  {
   "cell_type": "code",
   "execution_count": 5,
   "metadata": {},
   "outputs": [
    {
     "data": {
      "text/html": [
       "<div>\n",
       "<style scoped>\n",
       "    .dataframe tbody tr th:only-of-type {\n",
       "        vertical-align: middle;\n",
       "    }\n",
       "\n",
       "    .dataframe tbody tr th {\n",
       "        vertical-align: top;\n",
       "    }\n",
       "\n",
       "    .dataframe thead th {\n",
       "        text-align: right;\n",
       "    }\n",
       "</style>\n",
       "<table border=\"1\" class=\"dataframe\">\n",
       "  <thead>\n",
       "    <tr style=\"text-align: right;\">\n",
       "      <th></th>\n",
       "      <th>I[mm/h]</th>\n",
       "    </tr>\n",
       "    <tr>\n",
       "      <th>Datetime</th>\n",
       "      <th></th>\n",
       "    </tr>\n",
       "  </thead>\n",
       "  <tbody>\n",
       "    <tr>\n",
       "      <th>2005</th>\n",
       "      <td>6.80</td>\n",
       "    </tr>\n",
       "    <tr>\n",
       "      <th>2006</th>\n",
       "      <td>12.75</td>\n",
       "    </tr>\n",
       "    <tr>\n",
       "      <th>2007</th>\n",
       "      <td>6.15</td>\n",
       "    </tr>\n",
       "    <tr>\n",
       "      <th>2008</th>\n",
       "      <td>7.45</td>\n",
       "    </tr>\n",
       "    <tr>\n",
       "      <th>2009</th>\n",
       "      <td>11.30</td>\n",
       "    </tr>\n",
       "    <tr>\n",
       "      <th>2010</th>\n",
       "      <td>9.55</td>\n",
       "    </tr>\n",
       "    <tr>\n",
       "      <th>2011</th>\n",
       "      <td>7.85</td>\n",
       "    </tr>\n",
       "    <tr>\n",
       "      <th>2012</th>\n",
       "      <td>7.90</td>\n",
       "    </tr>\n",
       "    <tr>\n",
       "      <th>2013</th>\n",
       "      <td>14.40</td>\n",
       "    </tr>\n",
       "    <tr>\n",
       "      <th>2014</th>\n",
       "      <td>9.10</td>\n",
       "    </tr>\n",
       "  </tbody>\n",
       "</table>\n",
       "</div>"
      ],
      "text/plain": [
       "          I[mm/h]\n",
       "Datetime         \n",
       "2005         6.80\n",
       "2006        12.75\n",
       "2007         6.15\n",
       "2008         7.45\n",
       "2009        11.30\n",
       "2010         9.55\n",
       "2011         7.85\n",
       "2012         7.90\n",
       "2013        14.40\n",
       "2014         9.10"
      ]
     },
     "execution_count": 5,
     "metadata": {},
     "output_type": "execute_result"
    }
   ],
   "source": [
    "# series of annual maximum intensity for 2-h precipitation\n",
    "annualMax_2h = int_2h.groupby(int_2h.index.year).max()\n",
    "annualMax_2h"
   ]
  },
  {
   "cell_type": "code",
   "execution_count": 7,
   "metadata": {},
   "outputs": [
    {
     "data": {
      "image/png": "[encoded data removed]",
      "text/plain": [
       "<Figure size 432x288 with 1 Axes>"
      ]
     },
     "metadata": {
      "needs_background": "light"
     },
     "output_type": "display_data"
    }
   ],
   "source": [
    "# visualize the data\n",
    "sns.distplot(annualMax_2h, bins=8);"
   ]
  },
  {
   "cell_type": "markdown",
   "metadata": {},
   "source": [
    "#### Loop for storm durations from 1 to 24 h\n",
    "We can repeat all the previous steps for several durations in a loop, and save the series in a single data frame."
   ]
  },
  {
   "cell_type": "code",
   "execution_count": 9,
   "metadata": {},
   "outputs": [],
   "source": [
    "# durations to study\n",
    "D = np.array([1, 2, 4, 8, 16, 24])"
   ]
  },
  {
   "cell_type": "code",
   "execution_count": 10,
   "metadata": {},
   "outputs": [
    {
     "data": {
      "text/html": [
       "<div>\n",
       "<style scoped>\n",
       "    .dataframe tbody tr th:only-of-type {\n",
       "        vertical-align: middle;\n",
       "    }\n",
       "\n",
       "    .dataframe tbody tr th {\n",
       "        vertical-align: top;\n",
       "    }\n",
       "\n",
       "    .dataframe thead th {\n",
       "        text-align: right;\n",
       "    }\n",
       "</style>\n",
       "<table border=\"1\" class=\"dataframe\">\n",
       "  <thead>\n",
       "    <tr style=\"text-align: right;\">\n",
       "      <th></th>\n",
       "      <th>1</th>\n",
       "      <th>2</th>\n",
       "      <th>4</th>\n",
       "      <th>8</th>\n",
       "      <th>16</th>\n",
       "      <th>24</th>\n",
       "    </tr>\n",
       "    <tr>\n",
       "      <th>Datetime</th>\n",
       "      <th></th>\n",
       "      <th></th>\n",
       "      <th></th>\n",
       "      <th></th>\n",
       "      <th></th>\n",
       "      <th></th>\n",
       "    </tr>\n",
       "  </thead>\n",
       "  <tbody>\n",
       "    <tr>\n",
       "      <th>2005</th>\n",
       "      <td>9.2</td>\n",
       "      <td>6.80</td>\n",
       "      <td>5.450</td>\n",
       "      <td>5.4375</td>\n",
       "      <td>4.68750</td>\n",
       "      <td>3.679167</td>\n",
       "    </tr>\n",
       "    <tr>\n",
       "      <th>2006</th>\n",
       "      <td>15.4</td>\n",
       "      <td>12.75</td>\n",
       "      <td>6.650</td>\n",
       "      <td>3.3375</td>\n",
       "      <td>2.23125</td>\n",
       "      <td>2.058333</td>\n",
       "    </tr>\n",
       "    <tr>\n",
       "      <th>2007</th>\n",
       "      <td>9.8</td>\n",
       "      <td>6.15</td>\n",
       "      <td>4.575</td>\n",
       "      <td>3.0250</td>\n",
       "      <td>2.61875</td>\n",
       "      <td>2.050000</td>\n",
       "    </tr>\n",
       "    <tr>\n",
       "      <th>2008</th>\n",
       "      <td>10.1</td>\n",
       "      <td>7.45</td>\n",
       "      <td>5.300</td>\n",
       "      <td>4.1125</td>\n",
       "      <td>2.70625</td>\n",
       "      <td>2.204167</td>\n",
       "    </tr>\n",
       "    <tr>\n",
       "      <th>2009</th>\n",
       "      <td>14.7</td>\n",
       "      <td>11.30</td>\n",
       "      <td>7.225</td>\n",
       "      <td>4.7750</td>\n",
       "      <td>2.63125</td>\n",
       "      <td>1.787500</td>\n",
       "    </tr>\n",
       "    <tr>\n",
       "      <th>2010</th>\n",
       "      <td>12.0</td>\n",
       "      <td>9.55</td>\n",
       "      <td>5.525</td>\n",
       "      <td>4.1250</td>\n",
       "      <td>3.61875</td>\n",
       "      <td>3.291667</td>\n",
       "    </tr>\n",
       "    <tr>\n",
       "      <th>2011</th>\n",
       "      <td>10.6</td>\n",
       "      <td>7.85</td>\n",
       "      <td>4.875</td>\n",
       "      <td>4.3125</td>\n",
       "      <td>3.24375</td>\n",
       "      <td>2.429167</td>\n",
       "    </tr>\n",
       "    <tr>\n",
       "      <th>2012</th>\n",
       "      <td>10.0</td>\n",
       "      <td>7.90</td>\n",
       "      <td>4.950</td>\n",
       "      <td>3.7500</td>\n",
       "      <td>2.37500</td>\n",
       "      <td>1.750000</td>\n",
       "    </tr>\n",
       "    <tr>\n",
       "      <th>2013</th>\n",
       "      <td>25.8</td>\n",
       "      <td>14.40</td>\n",
       "      <td>7.350</td>\n",
       "      <td>4.3125</td>\n",
       "      <td>2.65000</td>\n",
       "      <td>2.329167</td>\n",
       "    </tr>\n",
       "    <tr>\n",
       "      <th>2014</th>\n",
       "      <td>14.8</td>\n",
       "      <td>9.10</td>\n",
       "      <td>5.650</td>\n",
       "      <td>3.3250</td>\n",
       "      <td>2.31250</td>\n",
       "      <td>1.841667</td>\n",
       "    </tr>\n",
       "  </tbody>\n",
       "</table>\n",
       "</div>"
      ],
      "text/plain": [
       "            1      2      4       8        16        24\n",
       "Datetime                                               \n",
       "2005       9.2   6.80  5.450  5.4375  4.68750  3.679167\n",
       "2006      15.4  12.75  6.650  3.3375  2.23125  2.058333\n",
       "2007       9.8   6.15  4.575  3.0250  2.61875  2.050000\n",
       "2008      10.1   7.45  5.300  4.1125  2.70625  2.204167\n",
       "2009      14.7  11.30  7.225  4.7750  2.63125  1.787500\n",
       "2010      12.0   9.55  5.525  4.1250  3.61875  3.291667\n",
       "2011      10.6   7.85  4.875  4.3125  3.24375  2.429167\n",
       "2012      10.0   7.90  4.950  3.7500  2.37500  1.750000\n",
       "2013      25.8  14.40  7.350  4.3125  2.65000  2.329167\n",
       "2014      14.8   9.10  5.650  3.3250  2.31250  1.841667"
      ]
     },
     "execution_count": 10,
     "metadata": {},
     "output_type": "execute_result"
    }
   ],
   "source": [
    "# series of annual maximum intensity for different storm durations\n",
    "annualMax = pd.DataFrame(index=pcp_h.index.year.unique())\n",
    "\n",
    "for d in D:\n",
    "    int_d = pcp_h.rolling(d, center=True).sum() / d\n",
    "    annualMax[d] = int_d.groupby(int_d.index.year).max()\n",
    "annualMax"
   ]
  },
  {
   "cell_type": "markdown",
   "metadata": {},
   "source": [
    "### Fit a GEV distribution to the data\n",
    "\n",
    "We must fit a extreme values distribution to the series of annual maxima. From the fitted distribution, we will be able to estimate the intensity for any return period.\n",
    "\n",
    "We will use the **GEV distribution (generalized extreme values)**. When applied to exclusively positive values such as precipitation, the GEV distribution is:\n",
    "\n",
    "$$F(s,\\xi)=e^{-(1+\\xi s)^{-1/\\xi}}  \\quad \\forall \\xi>0$$\n",
    "$$ s = \\frac{x-\\mu}{\\sigma} \\quad \\sigma>0$$\n",
    "\n",
    "Where $s$ is the study variable standardised by the location parameter $\\mu$ and the scale parameter $\\sigma$, and $\\xi$ is the shape parameter. So the GEV distribution has three parameters to be fitted.\n",
    "\n",
    "<img src=\"img/Frechet.png\" alt=\"Mountain View\" style=\"width:600px\">\n",
    "\n",
    "> <font color=grey>Density function and the cumulative density function of the GEV type II (Frechet distribution) for several values of scale and shape.</font><br>\n",
    "\n",
    "To fit the GEV distribution, we will use the function `genextreme.fit` in the package `scipy.stats`. The outputs of this function are the values of the three GEV parameters (shape, location and scale) that better fit the input data."
   ]
  },
  {
   "cell_type": "code",
   "execution_count": 11,
   "metadata": {},
   "outputs": [],
   "source": [
    "from scipy.stats import genextreme\n",
    "from statsmodels.distributions.empirical_distribution import ECDF"
   ]
  },
  {
   "cell_type": "markdown",
   "metadata": {},
   "source": [
    "#### Example: 2-hour storm"
   ]
  },
  {
   "cell_type": "code",
   "execution_count": 12,
   "metadata": {},
   "outputs": [
    {
     "data": {
      "image/png": "[encoded data removed]",
      "text/plain": [
       "<Figure size 432x288 with 1 Axes>"
      ]
     },
     "metadata": {
      "needs_background": "light"
     },
     "output_type": "display_data"
    }
   ],
   "source": [
    "# visualize the data\n",
    "sns.distplot(annualMax[2], bins=8, fit=genextreme);"
   ]
  },
  {
   "cell_type": "code",
   "execution_count": 13,
   "metadata": {},
   "outputs": [
    {
     "name": "stdout",
     "output_type": "stream",
     "text": [
      "Fitted parameters for the intensity in 1h-duration storms:\n",
      "xi = 0.0000\n",
      "mu = 8.1480\n",
      "sigma = 1.9234\n"
     ]
    }
   ],
   "source": [
    "# fit a GEV to the data\n",
    "parGEV_2h = genextreme.fit(annualMax[2], f0=0)\n",
    "print('Fitted parameters for the intensity in 1h-duration storms:')\n",
    "print('xi = {0:.4f}\\nmu = {1:.4f}\\nsigma = {2:.4f}'.format(*parGEV_2h))"
   ]
  },
  {
   "cell_type": "code",
   "execution_count": 14,
   "metadata": {},
   "outputs": [],
   "source": [
    "# fit the empirical distribution\n",
    "ecdf_2h = ECDF(annualMax[2])"
   ]
  },
  {
   "cell_type": "code",
   "execution_count": 15,
   "metadata": {},
   "outputs": [
    {
     "data": {
      "image/png": "[encoded data removed]",
      "text/plain": [
       "<Figure size 432x288 with 1 Axes>"
      ]
     },
     "metadata": {
      "needs_background": "light"
     },
     "output_type": "display_data"
    }
   ],
   "source": [
    "# visualize the fit\n",
    "I = np.linspace(start=0, stop=20, num=100)\n",
    "plt.plot(I, genextreme(*parGEV_2h).cdf(I))\n",
    "plt.scatter(annualMax[2], ecdf_2h(annualMax[2]), s=5);"
   ]
  },
  {
   "cell_type": "markdown",
   "metadata": {},
   "source": [
    "#### Loop for all storm durations\n",
    "We'll repeat the process in a loop for all the storm durations. We'll save the results in a data frame called _parameters_."
   ]
  },
  {
   "cell_type": "code",
   "execution_count": 16,
   "metadata": {},
   "outputs": [
    {
     "data": {
      "text/html": [
       "<div>\n",
       "<style scoped>\n",
       "    .dataframe tbody tr th:only-of-type {\n",
       "        vertical-align: middle;\n",
       "    }\n",
       "\n",
       "    .dataframe tbody tr th {\n",
       "        vertical-align: top;\n",
       "    }\n",
       "\n",
       "    .dataframe thead th {\n",
       "        text-align: right;\n",
       "    }\n",
       "</style>\n",
       "<table border=\"1\" class=\"dataframe\">\n",
       "  <thead>\n",
       "    <tr style=\"text-align: right;\">\n",
       "      <th></th>\n",
       "      <th>1</th>\n",
       "      <th>2</th>\n",
       "      <th>4</th>\n",
       "      <th>8</th>\n",
       "      <th>16</th>\n",
       "      <th>24</th>\n",
       "    </tr>\n",
       "  </thead>\n",
       "  <tbody>\n",
       "    <tr>\n",
       "      <th>xi</th>\n",
       "      <td>0.000000</td>\n",
       "      <td>0.000000</td>\n",
       "      <td>0.000000</td>\n",
       "      <td>0.000000</td>\n",
       "      <td>0.000000</td>\n",
       "      <td>0.000000</td>\n",
       "    </tr>\n",
       "    <tr>\n",
       "      <th>mu</th>\n",
       "      <td>11.341119</td>\n",
       "      <td>8.147987</td>\n",
       "      <td>5.323783</td>\n",
       "      <td>3.718541</td>\n",
       "      <td>2.609435</td>\n",
       "      <td>2.077583</td>\n",
       "    </tr>\n",
       "    <tr>\n",
       "      <th>sigma</th>\n",
       "      <td>2.782375</td>\n",
       "      <td>1.923426</td>\n",
       "      <td>0.706788</td>\n",
       "      <td>0.591531</td>\n",
       "      <td>0.442877</td>\n",
       "      <td>0.400191</td>\n",
       "    </tr>\n",
       "  </tbody>\n",
       "</table>\n",
       "</div>"
      ],
      "text/plain": [
       "              1         2         4         8         16        24\n",
       "xi      0.000000  0.000000  0.000000  0.000000  0.000000  0.000000\n",
       "mu     11.341119  8.147987  5.323783  3.718541  2.609435  2.077583\n",
       "sigma   2.782375  1.923426  0.706788  0.591531  0.442877  0.400191"
      ]
     },
     "execution_count": 16,
     "metadata": {},
     "output_type": "execute_result"
    }
   ],
   "source": [
    "# fit parameters for each duration\n",
    "parameters = pd.DataFrame(index=['xi', 'mu', 'sigma'], columns=annualMax.columns)\n",
    "for duration in annualMax.columns:\n",
    "    # fit the GEV and save the parameters\n",
    "    parameters[duration] = genextreme.fit(annualMax[duration], f0=0)\n",
    "parameters"
   ]
  },
  {
   "cell_type": "code",
   "execution_count": 17,
   "metadata": {},
   "outputs": [
    {
     "data": {
      "image/png": "[encoded data removed]",
      "text/plain": [
       "<Figure size 432x288 with 1 Axes>"
      ]
     },
     "metadata": {
      "needs_background": "light"
     },
     "output_type": "display_data"
    }
   ],
   "source": [
    "# visualize the fit\n",
    "I = np.linspace(start=0, stop=30, num=100)\n",
    "for d in D: # for each storm duration\n",
    "    plt.plot(I, genextreme(*parameters[d]).cdf(I))\n",
    "    plt.scatter(annualMax[d], ECDF(annualMax[d])(annualMax[d]), s=5, label=str(d) + ' h')\n",
    "plt.legend();"
   ]
  },
  {
   "cell_type": "markdown",
   "metadata": {},
   "source": [
    "### Empirical IDF\n",
    "\n",
    "To calculate the empirical IDF we need to know the value of rainfall intensity for a given storm duration and return period. The storm duration defines which of the previously fitted GEV distributions to apply, whereas the return period defines the non-exceedance probability with which to enter the GEV distribution.\n",
    "\n",
    "The **non-exceedance probability** (i.e., the value of the cumulative distribution function) and the **return period** are related by the equation: \n",
    "\n",
    "$$R = \\frac{1}{1-CDF(x)}$$\n",
    "\n",
    "Where $R$ is the return period and $CDF(x)$ the cumulative distribution function (or non-exceedance probability). From this expression, we can estimate the **non-exceedance probability** for a given **return period**:\n",
    "\n",
    "$$CDF(x) = \\frac{R-1}{R} = 1 - \\frac{1}{R}$$"
   ]
  },
  {
   "cell_type": "markdown",
   "metadata": {},
   "source": [
    "#### Example: 2-hour storm and 10 year return period\n",
    "As an example, we will generate extreme values for a 2-h storm and the return period of 10 years. We'll use function `genextrem` in the package `scipy.stats`."
   ]
  },
  {
   "cell_type": "code",
   "execution_count": 18,
   "metadata": {},
   "outputs": [
    {
     "data": {
      "text/plain": [
       "0.9"
      ]
     },
     "execution_count": 18,
     "metadata": {},
     "output_type": "execute_result"
    }
   ],
   "source": [
    "# set duration and return period\n",
    "d = 2\n",
    "Tr = 10\n",
    "# non-exceedance probability associated to the return period\n",
    "Pne = 1 - 1 / Tr\n",
    "Pne"
   ]
  },
  {
   "cell_type": "code",
   "execution_count": 19,
   "metadata": {},
   "outputs": [
    {
     "data": {
      "text/plain": [
       "12.476402291332112"
      ]
     },
     "execution_count": 19,
     "metadata": {},
     "output_type": "execute_result"
    }
   ],
   "source": [
    "# rainfall intensity for a 2-h storm with 10 year return period\n",
    "I_2h_10 = genextreme(*parameters[d]).ppf(Pne)\n",
    "I_2h_10"
   ]
  },
  {
   "cell_type": "code",
   "execution_count": 20,
   "metadata": {},
   "outputs": [
    {
     "data": {
      "image/png": "[encoded data removed]",
      "text/plain": [
       "<Figure size 432x288 with 1 Axes>"
      ]
     },
     "metadata": {
      "needs_background": "light"
     },
     "output_type": "display_data"
    }
   ],
   "source": [
    "# visualize the fit\n",
    "I = np.linspace(start=0, stop=20, num=100)\n",
    "plt.plot(I, genextreme(*parameters[d]).cdf(I));\n",
    "plt.hlines(Pne, 0, 20, linestyle=':')\n",
    "plt.vlines(I_2h_10, 0, 1, linestyle=':');"
   ]
  },
  {
   "cell_type": "markdown",
   "metadata": {},
   "source": [
    "#### Loop through all storm duration and all return periods\n",
    "We can iterate the procedure across duration and return periods. Results will be saved in a *data frame*.\n",
    "\n",
    "We will analyze return perios of 2, 10 and 30 years. Since our records span for only 10 years, we should not calculate larger return periods; as a rule of thumb, we can calculate return periods up to 3 times the span of our original records."
   ]
  },
  {
   "cell_type": "code",
   "execution_count": 23,
   "metadata": {},
   "outputs": [],
   "source": [
    "# return periods\n",
    "R = np.array([2, 10, 30], dtype=\"float64\")"
   ]
  },
  {
   "cell_type": "code",
   "execution_count": 24,
   "metadata": {},
   "outputs": [],
   "source": [
    "# non-exceedance probability\n",
    "Pne = 1. - 1. / R"
   ]
  },
  {
   "cell_type": "markdown",
   "metadata": {},
   "source": [
    "We can calculate the 2-h rainfall intensity for all return periods at once."
   ]
  },
  {
   "cell_type": "code",
   "execution_count": 25,
   "metadata": {},
   "outputs": [],
   "source": [
    "# non-exceedance probability\n",
    "Pne = 1 - 1 / R"
   ]
  },
  {
   "cell_type": "code",
   "execution_count": 26,
   "metadata": {},
   "outputs": [
    {
     "name": "stdout",
     "output_type": "stream",
     "text": [
      "Rainfall intensity in 2 h storms at different return perios:\n",
      "I(Tr=2) = 8.9 mm/h\n",
      "I(Tr=10) = 12.5 mm/h\n",
      "I(Tr=30) = 14.7 mm/h\n"
     ]
    }
   ],
   "source": [
    "# rainfall intensity\n",
    "I_2h = genextreme(*parameters[2]).ppf(Pne) # ppf: percent point function\n",
    "\n",
    "print('Rainfall intensity in 2 h storms at different return perios:')\n",
    "for i, Tr in enumerate(R):\n",
    "     print('I(Tr=', int(Tr), ') = ', round(I_2h[i], 1), ' mm/h', sep='')"
   ]
  },
  {
   "cell_type": "markdown",
   "metadata": {},
   "source": [
    "And iterate this step through a loop for all storm duration"
   ]
  },
  {
   "cell_type": "code",
   "execution_count": 27,
   "metadata": {},
   "outputs": [
    {
     "data": {
      "text/html": [
       "<div>\n",
       "<style scoped>\n",
       "    .dataframe tbody tr th:only-of-type {\n",
       "        vertical-align: middle;\n",
       "    }\n",
       "\n",
       "    .dataframe tbody tr th {\n",
       "        vertical-align: top;\n",
       "    }\n",
       "\n",
       "    .dataframe thead th {\n",
       "        text-align: right;\n",
       "    }\n",
       "</style>\n",
       "<table border=\"1\" class=\"dataframe\">\n",
       "  <thead>\n",
       "    <tr style=\"text-align: right;\">\n",
       "      <th></th>\n",
       "      <th>1</th>\n",
       "      <th>2</th>\n",
       "      <th>4</th>\n",
       "      <th>8</th>\n",
       "      <th>16</th>\n",
       "      <th>24</th>\n",
       "    </tr>\n",
       "    <tr>\n",
       "      <th>Tr</th>\n",
       "      <th></th>\n",
       "      <th></th>\n",
       "      <th></th>\n",
       "      <th></th>\n",
       "      <th></th>\n",
       "      <th></th>\n",
       "    </tr>\n",
       "  </thead>\n",
       "  <tbody>\n",
       "    <tr>\n",
       "      <th>2.0</th>\n",
       "      <td>12.360895</td>\n",
       "      <td>8.852948</td>\n",
       "      <td>5.582831</td>\n",
       "      <td>3.935345</td>\n",
       "      <td>2.771755</td>\n",
       "      <td>2.224258</td>\n",
       "    </tr>\n",
       "    <tr>\n",
       "      <th>10.0</th>\n",
       "      <td>17.602485</td>\n",
       "      <td>12.476402</td>\n",
       "      <td>6.914317</td>\n",
       "      <td>5.049704</td>\n",
       "      <td>3.606071</td>\n",
       "      <td>2.978160</td>\n",
       "    </tr>\n",
       "    <tr>\n",
       "      <th>30.0</th>\n",
       "      <td>20.757495</td>\n",
       "      <td>14.657427</td>\n",
       "      <td>7.715764</td>\n",
       "      <td>5.720457</td>\n",
       "      <td>4.108261</td>\n",
       "      <td>3.431948</td>\n",
       "    </tr>\n",
       "  </tbody>\n",
       "</table>\n",
       "</div>"
      ],
      "text/plain": [
       "             1          2         4         8         16        24\n",
       "Tr                                                                \n",
       "2.0   12.360895   8.852948  5.582831  3.935345  2.771755  2.224258\n",
       "10.0  17.602485  12.476402  6.914317  5.049704  3.606071  2.978160\n",
       "30.0  20.757495  14.657427  7.715764  5.720457  4.108261  3.431948"
      ]
     },
     "execution_count": 27,
     "metadata": {},
     "output_type": "execute_result"
    }
   ],
   "source": [
    "# data frame with values of the IDF curve\n",
    "IDFe = pd.DataFrame(index=R, columns=D)\n",
    "IDFe.index.name = 'Tr'\n",
    "for duration in D:\n",
    "    IDFe[duration] = genextreme(*parameters[duration]).ppf(Pne)\n",
    "IDFe"
   ]
  },
  {
   "cell_type": "code",
   "execution_count": 28,
   "metadata": {},
   "outputs": [],
   "source": [
    "# save results\n",
    "IDFe.to_csv('../output/Ex5_Results empirical IDF.csv', float_format='%.1f')"
   ]
  },
  {
   "cell_type": "markdown",
   "metadata": {},
   "source": [
    "Scatter plot that shows, for each return period, rainfall intensity as a function of storm duration."
   ]
  },
  {
   "cell_type": "code",
   "execution_count": 29,
   "metadata": {},
   "outputs": [
    {
     "data": {
      "image/png": "[encoded data removed]",
      "text/plain": [
       "<Figure size 864x432 with 1 Axes>"
      ]
     },
     "metadata": {
      "needs_background": "light"
     },
     "output_type": "display_data"
    }
   ],
   "source": [
    "# configuración del gráfico\n",
    "fig = plt.figure(figsize=(12, 6))\n",
    "plt.title('Empirical IDF', fontsize=16, weight='bold')\n",
    "plt.xlabel('duration (h)', fontsize=13)\n",
    "plt.xlim(0, IDFe.columns.max() + 1)\n",
    "plt.ylabel('intensity (mm/h)', fontsize=13)\n",
    "plt.ylim((0, 25))\n",
    "color = ['tan', 'darkkhaki', 'olive', 'darkolivegreen']\n",
    "\n",
    "for i, Tr in enumerate(R):\n",
    "    plt.scatter(D, IDFe.loc[Tr,:], color=color[i], s=10, label='Tr = ' + str(int(Tr)) + ' years')\n",
    "\n",
    "fig.legend(loc=8, ncol=4, fontsize=12);\n",
    "\n",
    "# guardar la figura\n",
    "plt.savefig('../output/Ex5_empirical IDFs.png', dpi=300)"
   ]
  },
  {
   "cell_type": "markdown",
   "metadata": {},
   "source": [
    "### Analytical IDF curves\n",
    "\n",
    "Up to now, we have calculated points of the IDF curves corresponding to paired values of duration and return period. We could iterate the process to get points for each storm duration in full hours, but still, we would have to interpolate between points to get intensity values for a storm duration of 2.5 h, for instance. To avoid that, there exist analytical forms of the IDF curve that take forms such as:\n",
    "\n",
    "$$I = \\frac{a \\cdot R + b}{(D + c)^d}$$\n",
    "\n",
    "$$I = \\frac{a \\cdot R + b}{D^c + d}$$\n",
    "\n",
    "$$I = \\frac{a \\cdot R^b}{(D + c)^d}$$\n",
    "\n",
    "$$I = \\frac{a \\cdot R^b}{D^c + d}$$\n",
    "\n",
    "where $I$ is the precipitation intensity, $D$ storm duration, $R$ is return period, and $a$, $b$, $c$ and $d$ are location specific parameters. We must optimize these parameters to our data so that the analytical IDF curves fit the empirical IDF points."
   ]
  },
  {
   "cell_type": "code",
   "execution_count": 30,
   "metadata": {},
   "outputs": [],
   "source": [
    "def IDF_type_I(x, a, b, c, d):\n",
    "    \"\"\"Estimate precipitation intensity fiven a return period and a storm duration using the analytical IDF curve type I:\n",
    "    \n",
    "    I = (a * R + b) / (D + c)**d\n",
    "    \n",
    "    Input:\n",
    "    ------\n",
    "    x:         list [2x1]. Values of return period (years) and duration (h)\n",
    "    a:         float. Parameter of the IDF curve\n",
    "    b:         float. Parameter of the IDF curve\n",
    "    c:         float. Parameter of the IDF curve\n",
    "    d:         float. Parameter of the IDF curve\n",
    "    \n",
    "    Output:\n",
    "    -------\n",
    "    I:         float. Precipitation intensity (mm/h)\"\"\"\n",
    "    \n",
    "    I = (a * x[0] + b) / (x[1] + c)**d\n",
    "    \n",
    "    return I\n",
    "\n",
    "def IDF_type_II(x, a, b, c, d):\n",
    "    \"\"\"Estimate precipitation intensity fiven a return period and a storm duration using the analytical IDF curve type II:\n",
    "    \n",
    "    I = (a * R + b) / (D**c + d)   \n",
    "    \n",
    "    Input:\n",
    "    ------\n",
    "    x:         list [2x1]. Values of return period (years) and duration (h)\n",
    "    a:         float. Parameter of the IDF curve\n",
    "    b:         float. Parameter of the IDF curve\n",
    "    c:         float. Parameter of the IDF curve\n",
    "    d:         float. Parameter of the IDF curve\n",
    "    \n",
    "    Output:\n",
    "    -------\n",
    "    I:         float. Precipitation intensity (mm/h)\"\"\"\n",
    "    \n",
    "    I = (a * x[0] + b) / (x[1]**c + d)\n",
    "    \n",
    "    return I\n",
    "\n",
    "def IDF_type_III(x, a, b, c, d):\n",
    "    \"\"\"Estimate precipitation intensity fiven a return period and a storm duration using the analytical IDF curve type III:\n",
    "    \n",
    "    I = a * R**b / (D + c)**d\n",
    "    \n",
    "    Input:\n",
    "    ------\n",
    "    x:         list [2x1]. Values of return period (years) and duration (h)\n",
    "    a:         float. Parameter of the IDF curve\n",
    "    b:         float. Parameter of the IDF curve\n",
    "    c:         float. Parameter of the IDF curve\n",
    "    d:         float. Parameter of the IDF curve\n",
    "    \n",
    "    Output:\n",
    "    -------\n",
    "    I:         float. Precipitation intensity (mm/h)\"\"\"\n",
    "    \n",
    "    I = a * x[0]**b  / (x[1] + c)**d\n",
    "    \n",
    "    return I\n",
    "\n",
    "def IDF_type_IV(x, a, b, c, d):\n",
    "    \"\"\"Estimate precipitation intensity fiven a return period and a storm duration using the analytical IDF curve type IV:\n",
    "    \n",
    "    I = a * R**b / (D**c + d).    \n",
    "    \n",
    "    Input:\n",
    "    ------\n",
    "    x:         list [2x1]. Values of return period (years) and duration (h)\n",
    "    a:         float. Parameter of the IDF curve\n",
    "    b:         float. Parameter of the IDF curve\n",
    "    c:         float. Parameter of the IDF curve\n",
    "    d:         float. Parameter of the IDF curve\n",
    "    \n",
    "    Output:\n",
    "    -------\n",
    "    I:         float. Precipitation intensity (mm/h)\"\"\"\n",
    "    \n",
    "    I = (a * x[0]**b) / (x[1]**c + d)\n",
    "    \n",
    "    return I "
   ]
  },
  {
   "cell_type": "markdown",
   "metadata": {},
   "source": [
    "#### Fit the analytical IDF\n",
    "To fit the analytical IDF we will use the function `curve_fit` in `scipy.optimize`. We must provide `curve_fit` with a function representing the curve to be fitted, the independent variable (paired values of return period-duration) and the dependent variable (itensity associated to the previous pairs). `curve_fit` puts out a vector with the optimized parameters and a vector with the covariance between those parameters."
   ]
  },
  {
   "cell_type": "code",
   "execution_count": 31,
   "metadata": {},
   "outputs": [],
   "source": [
    "from scipy.optimize import curve_fit"
   ]
  },
  {
   "cell_type": "markdown",
   "metadata": {},
   "source": [
    "**Independent variable in the IDF curve: paired values of return period and duration**"
   ]
  },
  {
   "cell_type": "code",
   "execution_count": 32,
   "metadata": {},
   "outputs": [
    {
     "data": {
      "text/plain": [
       "((6, 3), (6, 3))"
      ]
     },
     "execution_count": 32,
     "metadata": {},
     "output_type": "execute_result"
    }
   ],
   "source": [
    "# grid with all possible combinations of duration and return period\n",
    "(RR, DD) = np.meshgrid(R, D)\n",
    "RR.shape, DD.shape"
   ]
  },
  {
   "cell_type": "code",
   "execution_count": 33,
   "metadata": {},
   "outputs": [
    {
     "data": {
      "text/plain": [
       "((18,), (18,))"
      ]
     },
     "execution_count": 33,
     "metadata": {},
     "output_type": "execute_result"
    }
   ],
   "source": [
    "# convert the grid ('RR' and 'DD') into a 1D array\n",
    "RR = RR.reshape(-1)\n",
    "DD = DD.reshape(-1)\n",
    "RR.shape, DD.shape"
   ]
  },
  {
   "cell_type": "code",
   "execution_count": 34,
   "metadata": {},
   "outputs": [
    {
     "data": {
      "text/plain": [
       "(2, 18)"
      ]
     },
     "execution_count": 34,
     "metadata": {},
     "output_type": "execute_result"
    }
   ],
   "source": [
    "# join 'RR' and 'DD' as columns of a 2D array\n",
    "RD = np.vstack([RR, DD])\n",
    "RD.shape"
   ]
  },
  {
   "cell_type": "markdown",
   "metadata": {},
   "source": [
    "**Dependent variable in the IDF curve: intensity**"
   ]
  },
  {
   "cell_type": "code",
   "execution_count": 35,
   "metadata": {},
   "outputs": [
    {
     "data": {
      "text/plain": [
       "(18,)"
      ]
     },
     "execution_count": 35,
     "metadata": {},
     "output_type": "execute_result"
    }
   ],
   "source": [
    "# 1D array of intensity for each pair of values in 'XX'\n",
    "I = np.hstack([IDFe[d] for d in D])\n",
    "I.shape"
   ]
  },
  {
   "cell_type": "markdown",
   "metadata": {},
   "source": [
    "**Fit the curve**"
   ]
  },
  {
   "cell_type": "code",
   "execution_count": 44,
   "metadata": {},
   "outputs": [],
   "source": [
    "# set type of curve\n",
    "curve = IDF_type_IV"
   ]
  },
  {
   "cell_type": "code",
   "execution_count": 45,
   "metadata": {},
   "outputs": [
    {
     "name": "stdout",
     "output_type": "stream",
     "text": [
      "Fitted parameters of the analytical IDF\n",
      "a = 11.4532\n",
      "b = 0.1757\n",
      "c = 0.5927\n",
      "d = -0.0076\n"
     ]
    }
   ],
   "source": [
    "# fit the curve\n",
    "parIDF, pcov = curve_fit(curve, RD, I)\n",
    "\n",
    "print('Fitted parameters of the analytical IDF')\n",
    "for i, par in enumerate(['a', 'b', 'c', 'd']):\n",
    "    print(par, '=', round(parIDF[i], 4))"
   ]
  },
  {
   "cell_type": "code",
   "execution_count": 46,
   "metadata": {},
   "outputs": [
    {
     "data": {
      "text/html": [
       "<div>\n",
       "<style scoped>\n",
       "    .dataframe tbody tr th:only-of-type {\n",
       "        vertical-align: middle;\n",
       "    }\n",
       "\n",
       "    .dataframe tbody tr th {\n",
       "        vertical-align: top;\n",
       "    }\n",
       "\n",
       "    .dataframe thead th {\n",
       "        text-align: right;\n",
       "    }\n",
       "</style>\n",
       "<table border=\"1\" class=\"dataframe\">\n",
       "  <thead>\n",
       "    <tr style=\"text-align: right;\">\n",
       "      <th></th>\n",
       "      <th>a</th>\n",
       "      <th>b</th>\n",
       "      <th>c</th>\n",
       "      <th>d</th>\n",
       "    </tr>\n",
       "  </thead>\n",
       "  <tbody>\n",
       "    <tr>\n",
       "      <th>0</th>\n",
       "      <td>11.45319</td>\n",
       "      <td>0.175741</td>\n",
       "      <td>0.592668</td>\n",
       "      <td>-0.007575</td>\n",
       "    </tr>\n",
       "  </tbody>\n",
       "</table>\n",
       "</div>"
      ],
      "text/plain": [
       "          a         b         c         d\n",
       "0  11.45319  0.175741  0.592668 -0.007575"
      ]
     },
     "execution_count": 46,
     "metadata": {},
     "output_type": "execute_result"
    }
   ],
   "source": [
    "# save the optimized parameters\n",
    "IDFa = pd.DataFrame(parIDF, index=['a', 'b', 'c', 'd']).transpose()\n",
    "IDFa"
   ]
  },
  {
   "cell_type": "code",
   "execution_count": 47,
   "metadata": {},
   "outputs": [],
   "source": [
    "# export results\n",
    "IDFa.to_csv('../output/Ex5_Parameters analytical IDF.csv', float_format='%.5f')"
   ]
  },
  {
   "cell_type": "markdown",
   "metadata": {},
   "source": [
    "**Visualize the fit**"
   ]
  },
  {
   "cell_type": "code",
   "execution_count": 48,
   "metadata": {},
   "outputs": [
    {
     "data": {
      "image/png": "[encoded data removed]",
      "text/plain": [
       "<Figure size 720x288 with 1 Axes>"
      ]
     },
     "metadata": {
      "needs_background": "light"
     },
     "output_type": "display_data"
    }
   ],
   "source": [
    "# plot the analytical IDF curves\n",
    "fig = plt.figure(figsize=(10, 4))\n",
    "plt.xlim(0, D.max()+1)\n",
    "plt.xlabel('duration (h)', fontsize=13)\n",
    "plt.ylabel('intensity (mm/h)', fontsize=13)\n",
    "color = ['tan', 'darkkhaki', 'olive', 'darkolivegreen']\n",
    "\n",
    "D_ = np.linspace(1, 25, 100)\n",
    "\n",
    "for i, Tr in enumerate(R):\n",
    "    R_ = np.ones_like(D_) * Tr\n",
    "    I_ = curve((R_, D_), *parIDF)\n",
    "\n",
    "    plt.scatter(D, IDFe.loc[Tr,:], color=color[i], s=10, label='Tr = ' + str(int(Tr)) + ' years')\n",
    "    plt.plot(D_, I_, color=color[i]);\n",
    "    \n",
    "# save figure\n",
    "plt.savefig('../output/Ex5_analytical IDFs.png', dpi=300)"
   ]
  },
  {
   "cell_type": "code",
   "execution_count": null,
   "metadata": {},
   "outputs": [],
   "source": []
  }
 ],
 "metadata": {
  "anaconda-cloud": {},
  "kernelspec": {
   "display_name": "Python 3",
   "language": "python",
   "name": "python3"
  },
  "language_info": {
   "codemirror_mode": {
    "name": "ipython",
    "version": 3
   },
   "file_extension": ".py",
   "mimetype": "text/x-python",
   "name": "python",
   "nbconvert_exporter": "python",
   "pygments_lexer": "ipython3",
   "version": "3.7.3"
  },
  "varInspector": {
   "cols": {
    "lenName": 16,
    "lenType": 16,
    "lenVar": 40
   },
   "kernels_config": {
    "python": {
     "delete_cmd_postfix": "",
     "delete_cmd_prefix": "del ",
     "library": "var_list.py",
     "varRefreshCmd": "print(var_dic_list())"
    },
    "r": {
     "delete_cmd_postfix": ") ",
     "delete_cmd_prefix": "rm(",
     "library": "var_list.r",
     "varRefreshCmd": "cat(var_dic_list()) "
    }
   },
   "position": {
    "height": "255px",
    "left": "634px",
    "right": "20px",
    "top": "118px",
    "width": "350px"
   },
   "types_to_exclude": [
    "module",
    "function",
    "builtin_function_or_method",
    "instance",
    "_Feature"
   ],
   "window_display": false
  }
 },
 "nbformat": 4,
 "nbformat_minor": 4
}
