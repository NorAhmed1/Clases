{
 "cells": [
  {
   "cell_type": "code",
   "execution_count": 1,
   "metadata": {},
   "outputs": [],
   "source": [
    "import os\n",
    "rutaBase = os.getcwd().replace('\\\\', '/') + '/'"
   ]
  },
  {
   "cell_type": "code",
   "execution_count": 2,
   "metadata": {},
   "outputs": [],
   "source": [
    "import numpy as np\n",
    "import pandas as pd\n",
    "import matplotlib.pyplot as plt\n",
    "import seaborn as sns\n",
    "sns.set()"
   ]
  },
  {
   "cell_type": "code",
   "execution_count": 124,
   "metadata": {},
   "outputs": [],
   "source": [
    "rutaMETEO = 'F:/OneDrive - Universidad de Cantabria/Series/AEMET/2016_pet080_UNICAN/data/Precipitacion/'\n",
    "METEO = pd.read_csv(rutaMETEO + 'pcp_1950.csv', parse_dates=True, index_col=0)"
   ]
  },
  {
   "cell_type": "code",
   "execution_count": 153,
   "metadata": {},
   "outputs": [],
   "source": [
    "stns = ['1115', '1117B', '1120', '1122I', '1124', '1127', '1127U', '1128', '1129']#\n",
    "#stns = ['1131I', '1136A', '1139E', '1140', '1144', '1151']"
   ]
  },
  {
   "cell_type": "code",
   "execution_count": 154,
   "metadata": {},
   "outputs": [
    {
     "data": {
      "text/html": [
       "<div>\n",
       "<style scoped>\n",
       "    .dataframe tbody tr th:only-of-type {\n",
       "        vertical-align: middle;\n",
       "    }\n",
       "\n",
       "    .dataframe tbody tr th {\n",
       "        vertical-align: top;\n",
       "    }\n",
       "\n",
       "    .dataframe thead th {\n",
       "        text-align: right;\n",
       "    }\n",
       "</style>\n",
       "<table border=\"1\" class=\"dataframe\">\n",
       "  <thead>\n",
       "    <tr style=\"text-align: right;\">\n",
       "      <th></th>\n",
       "      <th>NOMBRE</th>\n",
       "      <th>ALTITUD</th>\n",
       "      <th>C_X</th>\n",
       "      <th>C_Y</th>\n",
       "      <th>NOM_PROV</th>\n",
       "      <th>LONGITUD</th>\n",
       "      <th>LATITUD</th>\n",
       "    </tr>\n",
       "    <tr>\n",
       "      <th>INDICATIVO</th>\n",
       "      <th></th>\n",
       "      <th></th>\n",
       "      <th></th>\n",
       "      <th></th>\n",
       "      <th></th>\n",
       "      <th></th>\n",
       "      <th></th>\n",
       "    </tr>\n",
       "  </thead>\n",
       "  <tbody>\n",
       "    <tr>\n",
       "      <th>1115</th>\n",
       "      <td>PUENTE ARCE</td>\n",
       "      <td>13</td>\n",
       "      <td>423820</td>\n",
       "      <td>4806679</td>\n",
       "      <td>CANTABRIA</td>\n",
       "      <td>0356272</td>\n",
       "      <td>432430</td>\n",
       "    </tr>\n",
       "    <tr>\n",
       "      <th>1117B</th>\n",
       "      <td>VEGA DE PAS G C</td>\n",
       "      <td>390</td>\n",
       "      <td>436607</td>\n",
       "      <td>4778779</td>\n",
       "      <td>CANTABRIA</td>\n",
       "      <td>0346472</td>\n",
       "      <td>430930</td>\n",
       "    </tr>\n",
       "    <tr>\n",
       "      <th>1120</th>\n",
       "      <td>SEL DE LA CARRERA</td>\n",
       "      <td>537</td>\n",
       "      <td>424623</td>\n",
       "      <td>4777667</td>\n",
       "      <td>CANTABRIA</td>\n",
       "      <td>0355372</td>\n",
       "      <td>430850</td>\n",
       "    </tr>\n",
       "    <tr>\n",
       "      <th>1122I</th>\n",
       "      <td>ESCOBEDO DE VILLAFUFRE</td>\n",
       "      <td>180</td>\n",
       "      <td>426123</td>\n",
       "      <td>4790918</td>\n",
       "      <td>CANTABRIA</td>\n",
       "      <td>0354372</td>\n",
       "      <td>431600</td>\n",
       "    </tr>\n",
       "    <tr>\n",
       "      <th>1124</th>\n",
       "      <td>VILLACARRIEDO-ESCOLAPIOS</td>\n",
       "      <td>205</td>\n",
       "      <td>434497</td>\n",
       "      <td>4786796</td>\n",
       "      <td>CANTABRIA</td>\n",
       "      <td>0348242</td>\n",
       "      <td>431352</td>\n",
       "    </tr>\n",
       "    <tr>\n",
       "      <th>1127</th>\n",
       "      <td>SAN MARTIN DE VILLAFUFRE</td>\n",
       "      <td>300</td>\n",
       "      <td>428593</td>\n",
       "      <td>4789966</td>\n",
       "      <td>CANTABRIA</td>\n",
       "      <td>0352472</td>\n",
       "      <td>431530</td>\n",
       "    </tr>\n",
       "    <tr>\n",
       "      <th>1127U</th>\n",
       "      <td>SANTA MARIA DE CAYON (G.C.)</td>\n",
       "      <td>100</td>\n",
       "      <td>430454</td>\n",
       "      <td>4795500</td>\n",
       "      <td>CANTABRIA</td>\n",
       "      <td>0351272</td>\n",
       "      <td>431830</td>\n",
       "    </tr>\n",
       "    <tr>\n",
       "      <th>1128</th>\n",
       "      <td>LA PENILLA</td>\n",
       "      <td>140</td>\n",
       "      <td>428436</td>\n",
       "      <td>4796446</td>\n",
       "      <td>CANTABRIA</td>\n",
       "      <td>0352572</td>\n",
       "      <td>431900</td>\n",
       "    </tr>\n",
       "    <tr>\n",
       "      <th>1129</th>\n",
       "      <td>CASTAÑEDA</td>\n",
       "      <td>121</td>\n",
       "      <td>423030</td>\n",
       "      <td>4796506</td>\n",
       "      <td>CANTABRIA</td>\n",
       "      <td>0356572</td>\n",
       "      <td>431900</td>\n",
       "    </tr>\n",
       "  </tbody>\n",
       "</table>\n",
       "</div>"
      ],
      "text/plain": [
       "                                 NOMBRE  ALTITUD     C_X      C_Y   NOM_PROV  \\\n",
       "INDICATIVO                                                                     \n",
       "1115                        PUENTE ARCE       13  423820  4806679  CANTABRIA   \n",
       "1117B                   VEGA DE PAS G C      390  436607  4778779  CANTABRIA   \n",
       "1120                  SEL DE LA CARRERA      537  424623  4777667  CANTABRIA   \n",
       "1122I            ESCOBEDO DE VILLAFUFRE      180  426123  4790918  CANTABRIA   \n",
       "1124           VILLACARRIEDO-ESCOLAPIOS      205  434497  4786796  CANTABRIA   \n",
       "1127           SAN MARTIN DE VILLAFUFRE      300  428593  4789966  CANTABRIA   \n",
       "1127U       SANTA MARIA DE CAYON (G.C.)      100  430454  4795500  CANTABRIA   \n",
       "1128                         LA PENILLA      140  428436  4796446  CANTABRIA   \n",
       "1129                          CASTAÑEDA      121  423030  4796506  CANTABRIA   \n",
       "\n",
       "           LONGITUD  LATITUD  \n",
       "INDICATIVO                    \n",
       "1115        0356272   432430  \n",
       "1117B       0346472   430930  \n",
       "1120        0355372   430850  \n",
       "1122I       0354372   431600  \n",
       "1124        0348242   431352  \n",
       "1127        0352472   431530  \n",
       "1127U       0351272   431830  \n",
       "1128        0352572   431900  \n",
       "1129        0356572   431900  "
      ]
     },
     "execution_count": 154,
     "metadata": {},
     "output_type": "execute_result"
    }
   ],
   "source": [
    "attrs = pd.read_csv(rutaMETEO + 'Estaciones_pcp.csv', encoding='latin1', index_col=0)\n",
    "attrs = attrs.loc[stns,:]\n",
    "attrs"
   ]
  },
  {
   "cell_type": "code",
   "execution_count": 155,
   "metadata": {},
   "outputs": [],
   "source": [
    "pcp_d = METEO.loc[:, stns]\n",
    "pcp_d /= 10"
   ]
  },
  {
   "cell_type": "code",
   "execution_count": 169,
   "metadata": {},
   "outputs": [
    {
     "data": {
      "text/plain": [
       "1115     10161\n",
       "1117B     9240\n",
       "1120     15686\n",
       "1122I     9374\n",
       "1124     14395\n",
       "1127     12387\n",
       "1127U     9852\n",
       "1128     15844\n",
       "1129     10562\n",
       "dtype: int64"
      ]
     },
     "execution_count": 169,
     "metadata": {},
     "output_type": "execute_result"
    }
   ],
   "source": [
    "pcp_d.count()"
   ]
  },
  {
   "cell_type": "code",
   "execution_count": 157,
   "metadata": {},
   "outputs": [
    {
     "data": {
      "text/html": [
       "<div>\n",
       "<style scoped>\n",
       "    .dataframe tbody tr th:only-of-type {\n",
       "        vertical-align: middle;\n",
       "    }\n",
       "\n",
       "    .dataframe tbody tr th {\n",
       "        vertical-align: top;\n",
       "    }\n",
       "\n",
       "    .dataframe thead th {\n",
       "        text-align: right;\n",
       "    }\n",
       "</style>\n",
       "<table border=\"1\" class=\"dataframe\">\n",
       "  <thead>\n",
       "    <tr style=\"text-align: right;\">\n",
       "      <th></th>\n",
       "      <th>1115</th>\n",
       "      <th>1117B</th>\n",
       "      <th>1120</th>\n",
       "      <th>1122I</th>\n",
       "      <th>1124</th>\n",
       "      <th>1127</th>\n",
       "      <th>1127U</th>\n",
       "      <th>1128</th>\n",
       "      <th>1129</th>\n",
       "    </tr>\n",
       "    <tr>\n",
       "      <th>fecha</th>\n",
       "      <th></th>\n",
       "      <th></th>\n",
       "      <th></th>\n",
       "      <th></th>\n",
       "      <th></th>\n",
       "      <th></th>\n",
       "      <th></th>\n",
       "      <th></th>\n",
       "      <th></th>\n",
       "    </tr>\n",
       "  </thead>\n",
       "  <tbody>\n",
       "    <tr>\n",
       "      <th>1950</th>\n",
       "      <td>NaN</td>\n",
       "      <td>NaN</td>\n",
       "      <td>4.410137</td>\n",
       "      <td>NaN</td>\n",
       "      <td>5.447945</td>\n",
       "      <td>NaN</td>\n",
       "      <td>NaN</td>\n",
       "      <td>5.049315</td>\n",
       "      <td>NaN</td>\n",
       "    </tr>\n",
       "    <tr>\n",
       "      <th>1951</th>\n",
       "      <td>NaN</td>\n",
       "      <td>NaN</td>\n",
       "      <td>4.307945</td>\n",
       "      <td>NaN</td>\n",
       "      <td>4.407671</td>\n",
       "      <td>NaN</td>\n",
       "      <td>NaN</td>\n",
       "      <td>4.046707</td>\n",
       "      <td>NaN</td>\n",
       "    </tr>\n",
       "    <tr>\n",
       "      <th>1952</th>\n",
       "      <td>NaN</td>\n",
       "      <td>NaN</td>\n",
       "      <td>4.662842</td>\n",
       "      <td>NaN</td>\n",
       "      <td>5.827869</td>\n",
       "      <td>NaN</td>\n",
       "      <td>NaN</td>\n",
       "      <td>4.665385</td>\n",
       "      <td>NaN</td>\n",
       "    </tr>\n",
       "    <tr>\n",
       "      <th>1953</th>\n",
       "      <td>NaN</td>\n",
       "      <td>NaN</td>\n",
       "      <td>3.761918</td>\n",
       "      <td>NaN</td>\n",
       "      <td>5.487912</td>\n",
       "      <td>NaN</td>\n",
       "      <td>NaN</td>\n",
       "      <td>4.422951</td>\n",
       "      <td>NaN</td>\n",
       "    </tr>\n",
       "    <tr>\n",
       "      <th>1954</th>\n",
       "      <td>NaN</td>\n",
       "      <td>NaN</td>\n",
       "      <td>3.976164</td>\n",
       "      <td>NaN</td>\n",
       "      <td>5.303288</td>\n",
       "      <td>NaN</td>\n",
       "      <td>NaN</td>\n",
       "      <td>4.231781</td>\n",
       "      <td>NaN</td>\n",
       "    </tr>\n",
       "  </tbody>\n",
       "</table>\n",
       "</div>"
      ],
      "text/plain": [
       "       1115  1117B      1120  1122I      1124  1127  1127U      1128  1129\n",
       "fecha                                                                     \n",
       "1950    NaN    NaN  4.410137    NaN  5.447945   NaN    NaN  5.049315   NaN\n",
       "1951    NaN    NaN  4.307945    NaN  4.407671   NaN    NaN  4.046707   NaN\n",
       "1952    NaN    NaN  4.662842    NaN  5.827869   NaN    NaN  4.665385   NaN\n",
       "1953    NaN    NaN  3.761918    NaN  5.487912   NaN    NaN  4.422951   NaN\n",
       "1954    NaN    NaN  3.976164    NaN  5.303288   NaN    NaN  4.231781   NaN"
      ]
     },
     "execution_count": 157,
     "metadata": {},
     "output_type": "execute_result"
    }
   ],
   "source": [
    "annualMean = pcp_d.groupby(pcp_d.index.year).mean()\n",
    "annualMean.head()"
   ]
  },
  {
   "cell_type": "code",
   "execution_count": 158,
   "metadata": {},
   "outputs": [
    {
     "data": {
      "text/html": [
       "<div>\n",
       "<style scoped>\n",
       "    .dataframe tbody tr th:only-of-type {\n",
       "        vertical-align: middle;\n",
       "    }\n",
       "\n",
       "    .dataframe tbody tr th {\n",
       "        vertical-align: top;\n",
       "    }\n",
       "\n",
       "    .dataframe thead th {\n",
       "        text-align: right;\n",
       "    }\n",
       "</style>\n",
       "<table border=\"1\" class=\"dataframe\">\n",
       "  <thead>\n",
       "    <tr style=\"text-align: right;\">\n",
       "      <th></th>\n",
       "      <th>1115</th>\n",
       "      <th>1117B</th>\n",
       "      <th>1120</th>\n",
       "      <th>1122I</th>\n",
       "      <th>1124</th>\n",
       "      <th>1127</th>\n",
       "      <th>1127U</th>\n",
       "      <th>1128</th>\n",
       "      <th>1129</th>\n",
       "    </tr>\n",
       "    <tr>\n",
       "      <th>fecha</th>\n",
       "      <th></th>\n",
       "      <th></th>\n",
       "      <th></th>\n",
       "      <th></th>\n",
       "      <th></th>\n",
       "      <th></th>\n",
       "      <th></th>\n",
       "      <th></th>\n",
       "      <th></th>\n",
       "    </tr>\n",
       "  </thead>\n",
       "  <tbody>\n",
       "    <tr>\n",
       "      <th>1950</th>\n",
       "      <td>0</td>\n",
       "      <td>0</td>\n",
       "      <td>365</td>\n",
       "      <td>0</td>\n",
       "      <td>365</td>\n",
       "      <td>0</td>\n",
       "      <td>0</td>\n",
       "      <td>365</td>\n",
       "      <td>0</td>\n",
       "    </tr>\n",
       "    <tr>\n",
       "      <th>1951</th>\n",
       "      <td>0</td>\n",
       "      <td>0</td>\n",
       "      <td>365</td>\n",
       "      <td>0</td>\n",
       "      <td>365</td>\n",
       "      <td>0</td>\n",
       "      <td>0</td>\n",
       "      <td>334</td>\n",
       "      <td>0</td>\n",
       "    </tr>\n",
       "    <tr>\n",
       "      <th>1952</th>\n",
       "      <td>0</td>\n",
       "      <td>0</td>\n",
       "      <td>366</td>\n",
       "      <td>0</td>\n",
       "      <td>366</td>\n",
       "      <td>0</td>\n",
       "      <td>0</td>\n",
       "      <td>182</td>\n",
       "      <td>0</td>\n",
       "    </tr>\n",
       "    <tr>\n",
       "      <th>1953</th>\n",
       "      <td>0</td>\n",
       "      <td>0</td>\n",
       "      <td>365</td>\n",
       "      <td>0</td>\n",
       "      <td>364</td>\n",
       "      <td>0</td>\n",
       "      <td>0</td>\n",
       "      <td>122</td>\n",
       "      <td>0</td>\n",
       "    </tr>\n",
       "    <tr>\n",
       "      <th>1954</th>\n",
       "      <td>0</td>\n",
       "      <td>0</td>\n",
       "      <td>365</td>\n",
       "      <td>0</td>\n",
       "      <td>365</td>\n",
       "      <td>0</td>\n",
       "      <td>0</td>\n",
       "      <td>365</td>\n",
       "      <td>0</td>\n",
       "    </tr>\n",
       "  </tbody>\n",
       "</table>\n",
       "</div>"
      ],
      "text/plain": [
       "       1115  1117B  1120  1122I  1124  1127  1127U  1128  1129\n",
       "fecha                                                         \n",
       "1950      0      0   365      0   365     0      0   365     0\n",
       "1951      0      0   365      0   365     0      0   334     0\n",
       "1952      0      0   366      0   366     0      0   182     0\n",
       "1953      0      0   365      0   364     0      0   122     0\n",
       "1954      0      0   365      0   365     0      0   365     0"
      ]
     },
     "execution_count": 158,
     "metadata": {},
     "output_type": "execute_result"
    }
   ],
   "source": [
    "daysYear = pcp_d.groupby(pcp_d.index.year).count()\n",
    "daysYear.head()"
   ]
  },
  {
   "cell_type": "code",
   "execution_count": 159,
   "metadata": {},
   "outputs": [],
   "source": [
    "stn = stns[0]"
   ]
  },
  {
   "cell_type": "code",
   "execution_count": 160,
   "metadata": {},
   "outputs": [
    {
     "data": {
      "text/plain": [
       "[<matplotlib.lines.Line2D at 0x1fe325269b0>]"
      ]
     },
     "execution_count": 160,
     "metadata": {},
     "output_type": "execute_result"
    },
    {
     "data": {
      "image/png": "[encoded data removed]",
      "text/plain": [
       "<Figure size 432x288 with 1 Axes>"
      ]
     },
     "metadata": {
      "needs_background": "light"
     },
     "output_type": "display_data"
    }
   ],
   "source": [
    "plt.plot(annualMean[stn])"
   ]
  },
  {
   "cell_type": "code",
   "execution_count": 161,
   "metadata": {},
   "outputs": [
    {
     "data": {
      "text/plain": [
       "[<matplotlib.lines.Line2D at 0x1fe326471d0>]"
      ]
     },
     "execution_count": 161,
     "metadata": {},
     "output_type": "execute_result"
    },
    {
     "data": {
      "image/png": "[encoded data removed]",
      "text/plain": [
       "<Figure size 432x288 with 1 Axes>"
      ]
     },
     "metadata": {
      "needs_background": "light"
     },
     "output_type": "display_data"
    }
   ],
   "source": [
    "plt.plot(daysYear[stn])"
   ]
  },
  {
   "cell_type": "code",
   "execution_count": 162,
   "metadata": {},
   "outputs": [
    {
     "data": {
      "text/plain": [
       "1364.828609175093"
      ]
     },
     "execution_count": 162,
     "metadata": {},
     "output_type": "execute_result"
    }
   ],
   "source": [
    "annualMean.loc[daysYear[stn] > 330, stn].mean() * 365"
   ]
  },
  {
   "cell_type": "code",
   "execution_count": 163,
   "metadata": {},
   "outputs": [
    {
     "data": {
      "text/plain": [
       "1115     1364.828609\n",
       "1117B    1727.997346\n",
       "1120     1591.733451\n",
       "1122I    1490.998165\n",
       "1124     1824.649337\n",
       "1127     1545.122189\n",
       "1127U    1559.114413\n",
       "1128     1416.518028\n",
       "1129     1452.810887\n",
       "dtype: float64"
      ]
     },
     "execution_count": 163,
     "metadata": {},
     "output_type": "execute_result"
    }
   ],
   "source": [
    "Pan = pd.Series(index=stns)\n",
    "for stn in stns:\n",
    "    Pan[stn] = annualMean.loc[daysYear[stn] > 330, stn].mean() * 365\n",
    "Pan"
   ]
  },
  {
   "cell_type": "code",
   "execution_count": 164,
   "metadata": {},
   "outputs": [],
   "source": [
    "data = pd.concat((attrs.ALTITUD, Pan), axis=1)\n",
    "data.columns = ['Z', 'Pan']"
   ]
  },
  {
   "cell_type": "code",
   "execution_count": 165,
   "metadata": {},
   "outputs": [],
   "source": [
    "from scipy.stats import linregress"
   ]
  },
  {
   "cell_type": "code",
   "execution_count": 166,
   "metadata": {},
   "outputs": [
    {
     "name": "stdout",
     "output_type": "stream",
     "text": [
      "P = 0.468 Z + 1449.281\n"
     ]
    }
   ],
   "source": [
    "# fit the linear regression\n",
    "m, n, *perf = linregress(data.Z, data.Pan)\n",
    "print('P = {0:.3f} Z + {1:.3f}'.format(m, n))"
   ]
  },
  {
   "cell_type": "code",
   "execution_count": 167,
   "metadata": {},
   "outputs": [
    {
     "data": {
      "text/plain": [
       "[0.5159730697016256, 0.1550410145469394, 0.29391423650658766]"
      ]
     },
     "execution_count": 167,
     "metadata": {},
     "output_type": "execute_result"
    }
   ],
   "source": [
    "perf"
   ]
  },
  {
   "cell_type": "code",
   "execution_count": 168,
   "metadata": {},
   "outputs": [
    {
     "data": {
      "image/png": "[encoded data removed]",
      "text/plain": [
       "<Figure size 432x288 with 1 Axes>"
      ]
     },
     "metadata": {
      "needs_background": "light"
     },
     "output_type": "display_data"
    }
   ],
   "source": [
    "# plot the regression between elevation and annual precipitation\n",
    "plt.scatter(data.Z, data.Pan)\n",
    "# recta de regresión\n",
    "xlim = np.array([0, 1000])#ypso.Z.max()])\n",
    "plt.plot(xlim, m * xlim + n, 'k--')\n",
    "# configuración\n",
    "plt.title('', fontsize=16, weight='bold')\n",
    "plt.xlabel('altitud (msnm)', fontsize=13)\n",
    "plt.xlim(xlim)\n",
    "plt.ylabel('Panual (mm)', fontsize=13)\n",
    "plt.ylim(0, 2200);\n",
    "\n",
    "# guardar la figura\n",
    "#plt.savefig('../output/Ex4_linear regression Z-Pannual.png', dpi=300)"
   ]
  },
  {
   "cell_type": "markdown",
   "metadata": {},
   "source": [
    "DEM"
   ]
  },
  {
   "cell_type": "code",
   "execution_count": 311,
   "metadata": {},
   "outputs": [],
   "source": [
    "def read_ascii(filename, datatype='float'):\n",
    "    \"\"\"Import an ASCII file. Data is saved as a 2D numpy array and the attributes as integers or floating point numbers.\n",
    "    \n",
    "    Parameters:\n",
    "    -----------\n",
    "    filename:     string. Name (including path and extension) of the ASCII file\n",
    "    \n",
    "    Output:\n",
    "    -------\n",
    "    Results are given as methods of the function\n",
    "\tattributes:   list. A list of six attributes: \n",
    "\t\t\t\t\t\tncols:        int. Number of columns\n",
    "\t\t\t\t\t\tnrows:        int. Number of rows\n",
    "\t\t\t\t\t\txllcorner:    float. X coordinate of the left lower corner\n",
    "\t\t\t\t\t\tyllcorner:    float. Y coordinate of the left lower corner\n",
    "\t\t\t\t\t\tcellsize:     int. Spatial discretization\n",
    "\t\t\t\t\t\tNODATA_value: float. Value representing no data\n",
    "\tdata:         naddary[nrows,ncols]. The data in the map\"\"\"\n",
    "    \n",
    "    with open(filename, 'r+') as file:\n",
    "        # import all the lines in the file\n",
    "        asc = file.readlines()\n",
    "        # extract attributes\n",
    "        ncols = int(asc[0].split()[1])\n",
    "        nrows = int(asc[1].split()[1])\n",
    "        xllcorner = float(asc[2].split()[1])\n",
    "        yllcorner = float(asc[3].split()[1])\n",
    "        cellsize = int(asc[4].split()[1])\n",
    "        NODATA_value = float(asc[5].split()[1])\n",
    "        attributes = [ncols, nrows, xllcorner, yllcorner, cellsize, NODATA_value]\n",
    "        # extract data\n",
    "        data = np.zeros((nrows, ncols))\n",
    "        for i in range(nrows):\n",
    "            data[i, :] = asc[i + 6].split()\n",
    "        data[data == NODATA_value] = np.nan\n",
    "        #data = np.ma.masked_invalid(data)\n",
    "        data = data.astype(datatype)\n",
    "    file.close()    \n",
    "    \n",
    "    return data, attributes"
   ]
  },
  {
   "cell_type": "code",
   "execution_count": 175,
   "metadata": {},
   "outputs": [],
   "source": [
    "def write_ascii(filename, data, attributes, format='%.0f '):\n",
    "    \"\"\"Export a 2D numpy array and its corresponding attributes as an ascii raster.\n",
    "    \n",
    "    Parameters:\n",
    "    -----------\n",
    "    filename:     string. Name (including path and extension) of the ASCII file\n",
    "\tdata:         narray. 2D array with the data to be exported\n",
    "\tattributes:   narray[6x1]. Array including the following information: ncols, nrows, xllcorner, yllcorner, cellsize, NODATA_value\n",
    "    format:       string. Format in which the values in 'data' will be exported\n",
    "    \n",
    "\tOutput:\n",
    "    -------\n",
    "    An .asc raster file\"\"\"\n",
    "    \n",
    "    aux = data.copy()\n",
    "    \n",
    "    # unmask data if masked\n",
    "    if np.ma.is_masked(aux):\n",
    "        np.ma.set_fill_value(aux, attributes[5])\n",
    "        aux = aux.filled()\n",
    "    \n",
    "    # convert NaN to NODATA_value\n",
    "    aux[np.isnan(aux)] = attributes[5]\n",
    "    \n",
    "    # export ascii\n",
    "    with open(filename, 'w+') as file:\n",
    "        # write attributes\n",
    "        file.write('ncols\\t\\t{0:<8}\\n'.format(attributes[0]))\n",
    "        file.write('nrows\\t\\t{0:<8}\\n'.format(attributes[1]))\n",
    "        file.write('xllcorner\\t{0:<8}\\n'.format(attributes[2]))\n",
    "        file.write('yllcorner\\t{0:<8}\\n'.format(attributes[3]))\n",
    "        file.write('cellsize\\t{0:<8}\\n'.format(attributes[4]))\n",
    "        file.write('NODATA_value\\t{0:<8}\\n'.format(attributes[5]))\n",
    "        # write data\n",
    "        for i in range(aux.shape[0]):\n",
    "            #values = df.iloc[i, 6:].tolist()\n",
    "            values = aux[i, :].tolist()\n",
    "            file.writelines([format % item  for item in values])\n",
    "            file.write(\"\\n\")\n",
    "            \n",
    "    file.close()"
   ]
  },
  {
   "cell_type": "code",
   "execution_count": 312,
   "metadata": {},
   "outputs": [
    {
     "data": {
      "text/plain": [
       "(230, 139)"
      ]
     },
     "execution_count": 312,
     "metadata": {},
     "output_type": "execute_result"
    }
   ],
   "source": [
    "dem, attributes = read_ascii('../data/dem_pas2.asc', datatype='float')\n",
    "dem.shape"
   ]
  },
  {
   "cell_type": "code",
   "execution_count": 313,
   "metadata": {},
   "outputs": [
    {
     "data": {
      "image/png": "[encoded data removed]",
      "text/plain": [
       "<Figure size 432x288 with 2 Axes>"
      ]
     },
     "metadata": {
      "needs_background": "light"
     },
     "output_type": "display_data"
    }
   ],
   "source": [
    "im = plt.imshow(dem, cmap='pink')\n",
    "cb = plt.colorbar(im)\n",
    "cb.set_label('elevation (masl)')\n",
    "plt.axis('off');"
   ]
  },
  {
   "cell_type": "code",
   "execution_count": 319,
   "metadata": {},
   "outputs": [
    {
     "data": {
      "text/plain": [
       "(0.0, 1694.456)"
      ]
     },
     "execution_count": 319,
     "metadata": {},
     "output_type": "execute_result"
    }
   ],
   "source": [
    "np.nanmin(dem), np.nanmax(dem)"
   ]
  },
  {
   "cell_type": "code",
   "execution_count": 323,
   "metadata": {},
   "outputs": [
    {
     "data": {
      "text/plain": [
       "16265"
      ]
     },
     "execution_count": 323,
     "metadata": {},
     "output_type": "execute_result"
    }
   ],
   "source": [
    "ncells = np.sum(~np.isnan(dem))\n",
    "ncells"
   ]
  },
  {
   "cell_type": "code",
   "execution_count": 336,
   "metadata": {},
   "outputs": [
    {
     "data": {
      "text/plain": [
       "array([   0,  100,  200,  300,  400,  500,  600,  700,  800,  900, 1000,\n",
       "       1100, 1200, 1300, 1400, 1500, 1600, 1700])"
      ]
     },
     "execution_count": 336,
     "metadata": {},
     "output_type": "execute_result"
    }
   ],
   "source": [
    "Zs = np.arange(start=0, stop=1701, step=100)\n",
    "Zs"
   ]
  },
  {
   "cell_type": "code",
   "execution_count": 337,
   "metadata": {},
   "outputs": [
    {
     "name": "stderr",
     "output_type": "stream",
     "text": [
      "C:\\Anaconda3\\envs\\test\\lib\\site-packages\\ipykernel_launcher.py:3: RuntimeWarning: invalid value encountered in less\n",
      "  This is separate from the ipykernel package so we can avoid doing imports until\n"
     ]
    },
    {
     "data": {
      "text/html": [
       "<div>\n",
       "<style scoped>\n",
       "    .dataframe tbody tr th:only-of-type {\n",
       "        vertical-align: middle;\n",
       "    }\n",
       "\n",
       "    .dataframe tbody tr th {\n",
       "        vertical-align: top;\n",
       "    }\n",
       "\n",
       "    .dataframe thead th {\n",
       "        text-align: right;\n",
       "    }\n",
       "</style>\n",
       "<table border=\"1\" class=\"dataframe\">\n",
       "  <thead>\n",
       "    <tr style=\"text-align: right;\">\n",
       "      <th></th>\n",
       "      <th>Aac</th>\n",
       "      <th>A</th>\n",
       "    </tr>\n",
       "  </thead>\n",
       "  <tbody>\n",
       "    <tr>\n",
       "      <th>0</th>\n",
       "      <td>0</td>\n",
       "      <td>NaN</td>\n",
       "    </tr>\n",
       "    <tr>\n",
       "      <th>100</th>\n",
       "      <td>0.125976</td>\n",
       "      <td>NaN</td>\n",
       "    </tr>\n",
       "    <tr>\n",
       "      <th>200</th>\n",
       "      <td>0.256871</td>\n",
       "      <td>NaN</td>\n",
       "    </tr>\n",
       "    <tr>\n",
       "      <th>300</th>\n",
       "      <td>0.370058</td>\n",
       "      <td>NaN</td>\n",
       "    </tr>\n",
       "    <tr>\n",
       "      <th>400</th>\n",
       "      <td>0.471073</td>\n",
       "      <td>NaN</td>\n",
       "    </tr>\n",
       "    <tr>\n",
       "      <th>500</th>\n",
       "      <td>0.579895</td>\n",
       "      <td>NaN</td>\n",
       "    </tr>\n",
       "    <tr>\n",
       "      <th>600</th>\n",
       "      <td>0.684291</td>\n",
       "      <td>NaN</td>\n",
       "    </tr>\n",
       "    <tr>\n",
       "      <th>700</th>\n",
       "      <td>0.783953</td>\n",
       "      <td>NaN</td>\n",
       "    </tr>\n",
       "    <tr>\n",
       "      <th>800</th>\n",
       "      <td>0.864125</td>\n",
       "      <td>NaN</td>\n",
       "    </tr>\n",
       "    <tr>\n",
       "      <th>900</th>\n",
       "      <td>0.917246</td>\n",
       "      <td>NaN</td>\n",
       "    </tr>\n",
       "    <tr>\n",
       "      <th>1000</th>\n",
       "      <td>0.951429</td>\n",
       "      <td>NaN</td>\n",
       "    </tr>\n",
       "    <tr>\n",
       "      <th>1100</th>\n",
       "      <td>0.973255</td>\n",
       "      <td>NaN</td>\n",
       "    </tr>\n",
       "    <tr>\n",
       "      <th>1200</th>\n",
       "      <td>0.987888</td>\n",
       "      <td>NaN</td>\n",
       "    </tr>\n",
       "    <tr>\n",
       "      <th>1300</th>\n",
       "      <td>0.99459</td>\n",
       "      <td>NaN</td>\n",
       "    </tr>\n",
       "    <tr>\n",
       "      <th>1400</th>\n",
       "      <td>0.998094</td>\n",
       "      <td>NaN</td>\n",
       "    </tr>\n",
       "    <tr>\n",
       "      <th>1500</th>\n",
       "      <td>0.999201</td>\n",
       "      <td>NaN</td>\n",
       "    </tr>\n",
       "    <tr>\n",
       "      <th>1600</th>\n",
       "      <td>0.999816</td>\n",
       "      <td>NaN</td>\n",
       "    </tr>\n",
       "    <tr>\n",
       "      <th>1700</th>\n",
       "      <td>1</td>\n",
       "      <td>NaN</td>\n",
       "    </tr>\n",
       "  </tbody>\n",
       "</table>\n",
       "</div>"
      ],
      "text/plain": [
       "           Aac    A\n",
       "0            0  NaN\n",
       "100   0.125976  NaN\n",
       "200   0.256871  NaN\n",
       "300   0.370058  NaN\n",
       "400   0.471073  NaN\n",
       "500   0.579895  NaN\n",
       "600   0.684291  NaN\n",
       "700   0.783953  NaN\n",
       "800   0.864125  NaN\n",
       "900   0.917246  NaN\n",
       "1000  0.951429  NaN\n",
       "1100  0.973255  NaN\n",
       "1200  0.987888  NaN\n",
       "1300   0.99459  NaN\n",
       "1400  0.998094  NaN\n",
       "1500  0.999201  NaN\n",
       "1600  0.999816  NaN\n",
       "1700         1  NaN"
      ]
     },
     "execution_count": 337,
     "metadata": {},
     "output_type": "execute_result"
    }
   ],
   "source": [
    "hypso = pd.DataFrame(index=Zs, columns=['Aac', 'A'])\n",
    "for Z in Zs:\n",
    "    hypso.loc[Z, 'Aac'] = np.sum(dem < Z) / ncells\n",
    "    #hypso.loc[Z, 'A'] = ((np.sum(dem < Z) - np.sum(dem < Z - 100))) / ncells\n",
    "hypso"
   ]
  },
  {
   "cell_type": "code",
   "execution_count": 338,
   "metadata": {},
   "outputs": [
    {
     "name": "stderr",
     "output_type": "stream",
     "text": [
      "C:\\Anaconda3\\envs\\test\\lib\\site-packages\\ipykernel_launcher.py:3: RuntimeWarning: invalid value encountered in less\n",
      "  This is separate from the ipykernel package so we can avoid doing imports until\n"
     ]
    }
   ],
   "source": [
    "area = pd.Series(index=Zs)\n",
    "for Z in Zs:\n",
    "    area[Z] = (np.sum(dem < Z) - np.sum(dem < Z - 100))"
   ]
  },
  {
   "cell_type": "code",
   "execution_count": 339,
   "metadata": {},
   "outputs": [
    {
     "data": {
      "image/png": "[encoded data removed]",
      "text/plain": [
       "<Figure size 432x288 with 1 Axes>"
      ]
     },
     "metadata": {
      "needs_background": "light"
     },
     "output_type": "display_data"
    }
   ],
   "source": [
    "plt.plot(Zs, hypso.Aac)\n",
    "plt.title('Hypsometric curve', fontsize=16, weight='bold')\n",
    "plt.xlabel('elevation (masl)', fontsize=13)\n",
    "plt.ylabel('area (-)', fontsize=13);"
   ]
  },
  {
   "cell_type": "code",
   "execution_count": null,
   "metadata": {},
   "outputs": [],
   "source": []
  }
 ],
 "metadata": {
  "kernelspec": {
   "display_name": "Python 3",
   "language": "python",
   "name": "python3"
  },
  "language_info": {
   "codemirror_mode": {
    "name": "ipython",
    "version": 3
   },
   "file_extension": ".py",
   "mimetype": "text/x-python",
   "name": "python",
   "nbconvert_exporter": "python",
   "pygments_lexer": "ipython3",
   "version": "3.7.3"
  }
 },
 "nbformat": 4,
 "nbformat_minor": 4
}
