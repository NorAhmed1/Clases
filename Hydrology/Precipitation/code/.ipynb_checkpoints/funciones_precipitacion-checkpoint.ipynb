{
 "cells": [
  {
   "cell_type": "markdown",
   "metadata": {},
   "source": [
    "# Funciones precipitación\n",
    "\n",
    "En este _notebook_ se guardan las funciones que se utilizan en los ejercicios de precipitación, de manera que se pueden importar directamente en cualquier otro _notebook_ sin necesidad de reescribirlas. \n",
    "\n",
    "Para cargar estas funciones en otro _notebook_, se utiliza una de las funciones llamadas mágicas en terminología _Python_:\n",
    "```Python\n",
    "%run funciones_precipitacion.ipynb\n",
    "```\n",
    "Esta línea sólo funciona si `funciones_precipitación.ipynb` está en la misma carpeta que el _notebook_ en el que se quiere cargar. En caso contrario, hay que utilizar el paquete `os` para definir en qué carpeta se encuentra `funciones_precipitación.ipynb`.\n",
    "```Python\n",
    "import os\n",
    "os.chdir('ruta donde se encuentra `funciones_precipitación.ipynb')\n",
    "%run funciones_precipitacion.ipynb\n",
    "```\n",
    "\n",
    "__Índice__<br>\n",
    "\n",
    "__[Interpolación IDW](#Interpolación-IDW)__<br>\n",
    "\n",
    "__[Regresión lineal](#Regresión-lineal)__<br>\n",
    "\n",
    "__[Curvas IDF](#Curvas-IDF)__<br>"
   ]
  },
  {
   "cell_type": "code",
   "execution_count": 1,
   "metadata": {},
   "outputs": [],
   "source": [
    "import numpy as np\n",
    "\n",
    "import pandas as pd\n",
    "\n",
    "from matplotlib import pyplot as plt\n",
    "%matplotlib inline\n",
    "plt.style.use('seaborn-whitegrid')\n",
    "\n",
    "from scipy.stats import genextreme\n",
    "from scipy.optimize import curve_fit"
   ]
  },
  {
   "cell_type": "markdown",
   "metadata": {},
   "source": [
    "### Interpolación IDW"
   ]
  },
  {
   "cell_type": "code",
   "execution_count": 71,
   "metadata": {},
   "outputs": [],
   "source": [
    "def IDW(x, y, estX, estY, estP, b=-2):\n",
    "    \"\"\"Interpolar mediante el método de la distancia inversa (inverse distance\n",
    "    weighted)\n",
    "    \n",
    "    Entradas:\n",
    "    ---------\n",
    "    x:       float. Coordenada X del punto objetivo\n",
    "    y:       float. Coordenada Y del punto objetivo\n",
    "    estX:    Series. Serie de coordenadas X de las estaciones con dato\n",
    "    estY:    Series. Serie de coordenadas Y de las estaciones con dato\n",
    "    estP:    Series. Serie con el dato observado en las estaciones\n",
    "    b:       int. Exponente de la distancia para calcular su inverso\n",
    "    \n",
    "    Salida:\n",
    "    -------\n",
    "    p:       float. Precipitación interpolada en el punto (x, y)\n",
    "    \"\"\"\n",
    "    \n",
    "    # distancia al punto de cálculo\n",
    "    distX = x - estX                    # distancia en el eje X\n",
    "    distY = y - estY                    # distancia en el eje X\n",
    "    dist = np.sqrt(distX**2 + distY**2) # distancia total\n",
    "    # inverso de la distancia\n",
    "    idw = dist**b\n",
    "    # interpolar\n",
    "    p = np.sum(idw / np.sum(idw) * estP)\n",
    "    \n",
    "    return round(p, 1)"
   ]
  },
  {
   "cell_type": "markdown",
   "metadata": {},
   "source": [
    "### Regresión lineal"
   ]
  },
  {
   "cell_type": "code",
   "execution_count": 79,
   "metadata": {},
   "outputs": [],
   "source": [
    "def linear_reg(x, b):\n",
    "    \"\"\"Linear regression with no intecept\n",
    "    \n",
    "    y = b * x   \n",
    "    \n",
    "    Input:\n",
    "    ------\n",
    "    x:         float. Independet value\n",
    "    b:         float. Slope of the linear regression\n",
    "    \n",
    "    Output:\n",
    "    -------\n",
    "    y:         float. Regressed value\"\"\"\n",
    "    \n",
    "    y = b * x\n",
    "    return y"
   ]
  },
  {
   "cell_type": "markdown",
   "metadata": {},
   "source": [
    "### Curvas IDF"
   ]
  },
  {
   "cell_type": "code",
   "execution_count": 145,
   "metadata": {},
   "outputs": [],
   "source": [
    "def IDF_type_I(x, b, c, d, e):\n",
    "    \"\"\"Calcula la intensidad de la precipitación para un periodo de retorno y duración de la tormenta dadas a\n",
    "    partir de la fórmula I = d * R + e / (D + c)**b.    \n",
    "    \n",
    "    Parámetros:\n",
    "    -----------\n",
    "    x:         list [2x1]. Par de valores de periodo de retorno(años) y duración (h)\n",
    "    b:         float. Parámetro de la curva IDF\n",
    "    c:         float. Parámetro de la curva IDF\n",
    "    d:         float. Parámetro de la curva IDF\n",
    "    e:         float. Parámetro de la curva IDF\n",
    "    \n",
    "    Salida:\n",
    "    -------\n",
    "    I:         float. Intensidad de precipitación (mm/h)\"\"\"\n",
    "    \n",
    "    a = d * x[0] + e\n",
    "    I = a / (x[1] + c)**b\n",
    "    return I"
   ]
  },
  {
   "cell_type": "code",
   "execution_count": 145,
   "metadata": {},
   "outputs": [],
   "source": [
    "def IDF_type_II(x, b, c, d, e):\n",
    "    \"\"\"Calcula la intensidad de la precipitación para un periodo de retorno y duración de la tormenta dadas a\n",
    "    partir de la fórmula I = d * R + e / (D**b + c).    \n",
    "    \n",
    "    Parámetros:\n",
    "    -----------\n",
    "    x:         list [2x1]. Par de valores de periodo de retorno(años) y duración (h)\n",
    "    b:         float. Parámetro de la curva IDF\n",
    "    c:         float. Parámetro de la curva IDF\n",
    "    d:         float. Parámetro de la curva IDF\n",
    "    e:         float. Parámetro de la curva IDF\n",
    "    \n",
    "    Salida:\n",
    "    -------\n",
    "    I:         float. Intensidad de precipitación (mm/h)\"\"\"\n",
    "    \n",
    "    a = d * x[0] + e\n",
    "    I = a / (x[1]**b + c)\n",
    "    return I"
   ]
  },
  {
   "cell_type": "code",
   "execution_count": 145,
   "metadata": {},
   "outputs": [],
   "source": [
    "def IDF_type_III(x, b, c, d, e):\n",
    "    \"\"\"Calcula la intensidad de la precipitación para un periodo de retorno y duración de la tormenta dadas a\n",
    "    partir de la fórmula I = d * R**e / (D + c)**b.    \n",
    "    \n",
    "    Parámetros:\n",
    "    -----------\n",
    "    x:         list [2x1]. Par de valores de periodo de retorno(años) y duración (h)\n",
    "    b:         float. Parámetro de la curva IDF\n",
    "    c:         float. Parámetro de la curva IDF\n",
    "    d:         float. Parámetro de la curva IDF\n",
    "    e:         float. Parámetro de la curva IDF\n",
    "    \n",
    "    Salida:\n",
    "    -------\n",
    "    I:         float. Intensidad de precipitación (mm/h)\"\"\"\n",
    "    \n",
    "    a = d * x[0]**e \n",
    "    I = a / (x[1] + c)**b\n",
    "    return I"
   ]
  },
  {
   "cell_type": "code",
   "execution_count": 145,
   "metadata": {},
   "outputs": [],
   "source": [
    "def IDF_type_IV(x, b, c, d, e):\n",
    "    \"\"\"Calcula la intensidad de la precipitación para un periodo de retorno y duración de la tormenta dadas a\n",
    "    partir de la fórmula I = d * R**e / (D**b + c).    \n",
    "    \n",
    "    Parámetros:\n",
    "    -----------\n",
    "    x:         list [2x1]. Par de valores de periodo de retorno(años) y duración (h)\n",
    "    b:         float. Parámetro de la curva IDF\n",
    "    c:         float. Parámetro de la curva IDF\n",
    "    d:         float. Parámetro de la curva IDF\n",
    "    e:         float. Parámetro de la curva IDF\n",
    "    \n",
    "    Salida:\n",
    "    -------\n",
    "    I:         float. Intensidad de precipitación (mm/h)\"\"\"\n",
    "    \n",
    "    a = d * x[0]**e\n",
    "    I = a / (x[1]**b + c)\n",
    "    return I "
   ]
  }
 ],
 "metadata": {
  "anaconda-cloud": {},
  "kernelspec": {
   "display_name": "Python 3",
   "language": "python",
   "name": "python3"
  },
  "language_info": {
   "codemirror_mode": {
    "name": "ipython",
    "version": 3
   },
   "file_extension": ".py",
   "mimetype": "text/x-python",
   "name": "python",
   "nbconvert_exporter": "python",
   "pygments_lexer": "ipython3",
   "version": "3.7.3"
  },
  "varInspector": {
   "cols": {
    "lenName": 16,
    "lenType": 16,
    "lenVar": 40
   },
   "kernels_config": {
    "python": {
     "delete_cmd_postfix": "",
     "delete_cmd_prefix": "del ",
     "library": "var_list.py",
     "varRefreshCmd": "print(var_dic_list())"
    },
    "r": {
     "delete_cmd_postfix": ") ",
     "delete_cmd_prefix": "rm(",
     "library": "var_list.r",
     "varRefreshCmd": "cat(var_dic_list()) "
    }
   },
   "position": {
    "height": "255px",
    "left": "634px",
    "right": "20px",
    "top": "118px",
    "width": "350px"
   },
   "types_to_exclude": [
    "module",
    "function",
    "builtin_function_or_method",
    "instance",
    "_Feature"
   ],
   "window_display": false
  }
 },
 "nbformat": 4,
 "nbformat_minor": 4
}
