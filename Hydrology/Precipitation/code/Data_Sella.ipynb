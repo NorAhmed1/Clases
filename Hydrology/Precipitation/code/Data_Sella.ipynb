{
 "cells": [
  {
   "cell_type": "code",
   "execution_count": 1,
   "metadata": {},
   "outputs": [],
   "source": [
    "import numpy as np\n",
    "import pandas as pd\n",
    "import os \n",
    "rutaBase = os.getcwd().replace('\\\\', '/') + '/'\n",
    "import matplotlib.pyplot as plt\n",
    "import seaborn as sns\n",
    "sns.set()"
   ]
  },
  {
   "cell_type": "code",
   "execution_count": 27,
   "metadata": {},
   "outputs": [],
   "source": [
    "rutaCHC = 'F:/OneDrive - Universidad de Cantabria/Series/CHC/SAI/tratadas/5min/'\n",
    "rutaOut = 'F:/OneDrive - Universidad de Cantabria/Clases/Grado/G1448 - Hydrology/Exercises/1-Precipitation/data/'"
   ]
  },
  {
   "cell_type": "code",
   "execution_count": 3,
   "metadata": {},
   "outputs": [],
   "source": [
    "stns = ['A618', 'A605', 'A621', 'A623', 'Q101', 'A614', 'A353', 'A073', 'N033',\n",
    "        'A603', 'A074', 'A619', 'A600']"
   ]
  },
  {
   "cell_type": "code",
   "execution_count": 19,
   "metadata": {},
   "outputs": [],
   "source": [
    "dict_pcp = {}\n",
    "start, end = pd.datetime(2100, 12, 31, 23, 55), pd.datetime(1900, 1, 1, 0, 0)\n",
    "for stn in stns:\n",
    "    aux = pd.read_csv(rutaCHC + stn + '.csv', encoding='latin1', parse_dates=True, index_col=0)\n",
    "    dict_pcp[stn] = aux.precipitacion_mm\n",
    "    start = min(start, aux.index.min())\n",
    "    end = max(end, aux.index.max())\n",
    "\n",
    "start, end"
   ]
  },
  {
   "cell_type": "code",
   "execution_count": 32,
   "metadata": {},
   "outputs": [],
   "source": [
    "pcp = pd.DataFrame(index=pd.date_range(start, end, freq='5min'), columns=stns)\n",
    "pcp.index.name = 'Fecha'\n",
    "for stn in stns:\n",
    "    st, en = dict_pcp[stn].index[0], dict_pcp[stn].index[-1]\n",
    "    pcp.loc[st:en, stn] = dict_pcp[stn]"
   ]
  },
  {
   "cell_type": "code",
   "execution_count": 33,
   "metadata": {},
   "outputs": [],
   "source": [
    "pcp.to_csv(rutaOut + 'precipitacion_Sella.csv', float_format='%.1f')"
   ]
  },
  {
   "cell_type": "code",
   "execution_count": 35,
   "metadata": {},
   "outputs": [
    {
     "data": {
      "text/plain": [
       "A618    794538\n",
       "A605    863166\n",
       "A621    701631\n",
       "A623    744158\n",
       "Q101    323258\n",
       "A614    272673\n",
       "A353    769057\n",
       "A073    862676\n",
       "N033    851294\n",
       "A603    700293\n",
       "A074    347256\n",
       "A619    271254\n",
       "A600    750941\n",
       "dtype: int64"
      ]
     },
     "execution_count": 35,
     "metadata": {},
     "output_type": "execute_result"
    }
   ],
   "source": [
    "pcp.count()"
   ]
  },
  {
   "cell_type": "code",
   "execution_count": 38,
   "metadata": {},
   "outputs": [
    {
     "name": "stdout",
     "output_type": "stream",
     "text": [
      "2011-11-10 13:50:00 2019-05-31 23:55:00\n"
     ]
    }
   ],
   "source": [
    "stn = stns[0]\n",
    "print(pcp[stn].first_valid_index(), pcp[stn].last_valid_index())"
   ]
  },
  {
   "cell_type": "code",
   "execution_count": 41,
   "metadata": {},
   "outputs": [],
   "source": [
    "resumen = pd.DataFrame(index=stns, columns=['count', 'start', 'end'])"
   ]
  },
  {
   "cell_type": "code",
   "execution_count": 43,
   "metadata": {},
   "outputs": [
    {
     "data": {
      "text/html": [
       "<div>\n",
       "<style scoped>\n",
       "    .dataframe tbody tr th:only-of-type {\n",
       "        vertical-align: middle;\n",
       "    }\n",
       "\n",
       "    .dataframe tbody tr th {\n",
       "        vertical-align: top;\n",
       "    }\n",
       "\n",
       "    .dataframe thead th {\n",
       "        text-align: right;\n",
       "    }\n",
       "</style>\n",
       "<table border=\"1\" class=\"dataframe\">\n",
       "  <thead>\n",
       "    <tr style=\"text-align: right;\">\n",
       "      <th></th>\n",
       "      <th>count</th>\n",
       "      <th>start</th>\n",
       "      <th>end</th>\n",
       "    </tr>\n",
       "  </thead>\n",
       "  <tbody>\n",
       "    <tr>\n",
       "      <th>A605</th>\n",
       "      <td>863166</td>\n",
       "      <td>2011-03-17 10:15:00</td>\n",
       "      <td>2019-05-31 23:55:00</td>\n",
       "    </tr>\n",
       "    <tr>\n",
       "      <th>A073</th>\n",
       "      <td>862676</td>\n",
       "      <td>2011-03-18 12:50:00</td>\n",
       "      <td>2019-05-31 23:55:00</td>\n",
       "    </tr>\n",
       "    <tr>\n",
       "      <th>N033</th>\n",
       "      <td>851294</td>\n",
       "      <td>2011-04-27 12:20:00</td>\n",
       "      <td>2019-05-31 23:55:00</td>\n",
       "    </tr>\n",
       "    <tr>\n",
       "      <th>A618</th>\n",
       "      <td>794538</td>\n",
       "      <td>2011-11-10 13:50:00</td>\n",
       "      <td>2019-05-31 23:55:00</td>\n",
       "    </tr>\n",
       "    <tr>\n",
       "      <th>A353</th>\n",
       "      <td>769057</td>\n",
       "      <td>2012-02-03 13:20:00</td>\n",
       "      <td>2019-05-31 23:55:00</td>\n",
       "    </tr>\n",
       "    <tr>\n",
       "      <th>A600</th>\n",
       "      <td>750941</td>\n",
       "      <td>2012-04-10 13:35:00</td>\n",
       "      <td>2019-05-31 23:55:00</td>\n",
       "    </tr>\n",
       "    <tr>\n",
       "      <th>A623</th>\n",
       "      <td>744158</td>\n",
       "      <td>2012-04-10 14:40:00</td>\n",
       "      <td>2019-05-31 23:55:00</td>\n",
       "    </tr>\n",
       "    <tr>\n",
       "      <th>A621</th>\n",
       "      <td>701631</td>\n",
       "      <td>2012-09-27 18:35:00</td>\n",
       "      <td>2019-05-31 23:55:00</td>\n",
       "    </tr>\n",
       "    <tr>\n",
       "      <th>A603</th>\n",
       "      <td>700293</td>\n",
       "      <td>2012-10-02 17:45:00</td>\n",
       "      <td>2019-05-31 23:55:00</td>\n",
       "    </tr>\n",
       "    <tr>\n",
       "      <th>A074</th>\n",
       "      <td>347256</td>\n",
       "      <td>2016-02-04 11:45:00</td>\n",
       "      <td>2019-05-31 23:55:00</td>\n",
       "    </tr>\n",
       "    <tr>\n",
       "      <th>Q101</th>\n",
       "      <td>323258</td>\n",
       "      <td>2016-04-26 12:15:00</td>\n",
       "      <td>2019-05-31 23:55:00</td>\n",
       "    </tr>\n",
       "    <tr>\n",
       "      <th>A614</th>\n",
       "      <td>272673</td>\n",
       "      <td>2016-10-20 12:45:00</td>\n",
       "      <td>2019-05-31 23:55:00</td>\n",
       "    </tr>\n",
       "    <tr>\n",
       "      <th>A619</th>\n",
       "      <td>271254</td>\n",
       "      <td>2016-10-27 12:00:00</td>\n",
       "      <td>2019-05-31 23:55:00</td>\n",
       "    </tr>\n",
       "  </tbody>\n",
       "</table>\n",
       "</div>"
      ],
      "text/plain": [
       "       count                start                  end\n",
       "A605  863166  2011-03-17 10:15:00  2019-05-31 23:55:00\n",
       "A073  862676  2011-03-18 12:50:00  2019-05-31 23:55:00\n",
       "N033  851294  2011-04-27 12:20:00  2019-05-31 23:55:00\n",
       "A618  794538  2011-11-10 13:50:00  2019-05-31 23:55:00\n",
       "A353  769057  2012-02-03 13:20:00  2019-05-31 23:55:00\n",
       "A600  750941  2012-04-10 13:35:00  2019-05-31 23:55:00\n",
       "A623  744158  2012-04-10 14:40:00  2019-05-31 23:55:00\n",
       "A621  701631  2012-09-27 18:35:00  2019-05-31 23:55:00\n",
       "A603  700293  2012-10-02 17:45:00  2019-05-31 23:55:00\n",
       "A074  347256  2016-02-04 11:45:00  2019-05-31 23:55:00\n",
       "Q101  323258  2016-04-26 12:15:00  2019-05-31 23:55:00\n",
       "A614  272673  2016-10-20 12:45:00  2019-05-31 23:55:00\n",
       "A619  271254  2016-10-27 12:00:00  2019-05-31 23:55:00"
      ]
     },
     "execution_count": 43,
     "metadata": {},
     "output_type": "execute_result"
    }
   ],
   "source": [
    "for stn in pcp.columns:\n",
    "    resumen.loc[stn,:] = pcp[stn].count(), pcp[stn].first_valid_index(), pcp[stn].last_valid_index()\n",
    "resumen.sort_values('count', ascending=False, inplace=True)\n",
    "resumen"
   ]
  },
  {
   "cell_type": "markdown",
   "metadata": {},
   "source": [
    "## Datos AEMET "
   ]
  },
  {
   "cell_type": "code",
   "execution_count": 44,
   "metadata": {},
   "outputs": [],
   "source": [
    "rutaAEMET = 'G:/CLIMA/02_HYDRO-CLIMATE/DatosHorarios/AEMET_horario/'"
   ]
  },
  {
   "cell_type": "code",
   "execution_count": 65,
   "metadata": {},
   "outputs": [
    {
     "data": {
      "text/html": [
       "<div>\n",
       "<style scoped>\n",
       "    .dataframe tbody tr th:only-of-type {\n",
       "        vertical-align: middle;\n",
       "    }\n",
       "\n",
       "    .dataframe tbody tr th {\n",
       "        vertical-align: top;\n",
       "    }\n",
       "\n",
       "    .dataframe thead th {\n",
       "        text-align: right;\n",
       "    }\n",
       "</style>\n",
       "<table border=\"1\" class=\"dataframe\">\n",
       "  <thead>\n",
       "    <tr style=\"text-align: right;\">\n",
       "      <th></th>\n",
       "      <th>INDICATIVO</th>\n",
       "      <th>AÑO</th>\n",
       "      <th>MES</th>\n",
       "      <th>DIA</th>\n",
       "      <th>NOMBRE</th>\n",
       "      <th>ALTITUD</th>\n",
       "      <th>NOM_PROV</th>\n",
       "      <th>LONGITUD</th>\n",
       "      <th>LATITUD</th>\n",
       "      <th>DATUM</th>\n",
       "      <th>...</th>\n",
       "      <th>PH15</th>\n",
       "      <th>PH16</th>\n",
       "      <th>PH17</th>\n",
       "      <th>PH18</th>\n",
       "      <th>PH19</th>\n",
       "      <th>PH20</th>\n",
       "      <th>PH21</th>\n",
       "      <th>PH22</th>\n",
       "      <th>PH23</th>\n",
       "      <th>PH24</th>\n",
       "    </tr>\n",
       "  </thead>\n",
       "  <tbody>\n",
       "    <tr>\n",
       "      <th>0</th>\n",
       "      <td>B434X</td>\n",
       "      <td>2005</td>\n",
       "      <td>1</td>\n",
       "      <td>1</td>\n",
       "      <td>PORTO COLOM</td>\n",
       "      <td>17</td>\n",
       "      <td>BALEARES</td>\n",
       "      <td>316181</td>\n",
       "      <td>392452</td>\n",
       "      <td>ETRS89</td>\n",
       "      <td>...</td>\n",
       "      <td>0.0</td>\n",
       "      <td>0.0</td>\n",
       "      <td>0.0</td>\n",
       "      <td>0.0</td>\n",
       "      <td>0.0</td>\n",
       "      <td>0.0</td>\n",
       "      <td>0.0</td>\n",
       "      <td>0.0</td>\n",
       "      <td>0.0</td>\n",
       "      <td>0</td>\n",
       "    </tr>\n",
       "    <tr>\n",
       "      <th>1</th>\n",
       "      <td>B434X</td>\n",
       "      <td>2005</td>\n",
       "      <td>1</td>\n",
       "      <td>2</td>\n",
       "      <td>PORTO COLOM</td>\n",
       "      <td>17</td>\n",
       "      <td>BALEARES</td>\n",
       "      <td>316181</td>\n",
       "      <td>392452</td>\n",
       "      <td>ETRS89</td>\n",
       "      <td>...</td>\n",
       "      <td>0.0</td>\n",
       "      <td>0.0</td>\n",
       "      <td>0.0</td>\n",
       "      <td>0.0</td>\n",
       "      <td>0.0</td>\n",
       "      <td>0.0</td>\n",
       "      <td>0.0</td>\n",
       "      <td>0.0</td>\n",
       "      <td>0.0</td>\n",
       "      <td>0</td>\n",
       "    </tr>\n",
       "  </tbody>\n",
       "</table>\n",
       "<p>2 rows × 34 columns</p>\n",
       "</div>"
      ],
      "text/plain": [
       "  INDICATIVO   AÑO  MES  DIA       NOMBRE  ALTITUD  NOM_PROV  LONGITUD  \\\n",
       "0      B434X  2005    1    1  PORTO COLOM       17  BALEARES    316181   \n",
       "1      B434X  2005    1    2  PORTO COLOM       17  BALEARES    316181   \n",
       "\n",
       "   LATITUD   DATUM  ...  PH15  PH16  PH17  PH18  PH19  PH20  PH21  PH22  PH23  \\\n",
       "0   392452  ETRS89  ...   0.0   0.0   0.0   0.0   0.0   0.0   0.0   0.0   0.0   \n",
       "1   392452  ETRS89  ...   0.0   0.0   0.0   0.0   0.0   0.0   0.0   0.0   0.0   \n",
       "\n",
       "   PH24  \n",
       "0     0  \n",
       "1     0  \n",
       "\n",
       "[2 rows x 34 columns]"
      ]
     },
     "execution_count": 65,
     "metadata": {},
     "output_type": "execute_result"
    }
   ],
   "source": [
    "AEMET = pd.read_csv(rutaAEMET + 'PrecipitaciónHoraria.csv', sep=';', encoding='latin1')\n",
    "\n",
    "AEMET.head(2)"
   ]
  },
  {
   "cell_type": "code",
   "execution_count": 70,
   "metadata": {},
   "outputs": [
    {
     "data": {
      "text/html": [
       "<div>\n",
       "<style scoped>\n",
       "    .dataframe tbody tr th:only-of-type {\n",
       "        vertical-align: middle;\n",
       "    }\n",
       "\n",
       "    .dataframe tbody tr th {\n",
       "        vertical-align: top;\n",
       "    }\n",
       "\n",
       "    .dataframe thead th {\n",
       "        text-align: right;\n",
       "    }\n",
       "</style>\n",
       "<table border=\"1\" class=\"dataframe\">\n",
       "  <thead>\n",
       "    <tr style=\"text-align: right;\">\n",
       "      <th></th>\n",
       "      <th>INDICATIVO</th>\n",
       "      <th>AÑO</th>\n",
       "      <th>MES</th>\n",
       "      <th>DIA</th>\n",
       "      <th>NOMBRE</th>\n",
       "      <th>ALTITUD</th>\n",
       "      <th>NOM_PROV</th>\n",
       "      <th>LONGITUD</th>\n",
       "      <th>LATITUD</th>\n",
       "      <th>DATUM</th>\n",
       "      <th>...</th>\n",
       "      <th>PH15</th>\n",
       "      <th>PH16</th>\n",
       "      <th>PH17</th>\n",
       "      <th>PH18</th>\n",
       "      <th>PH19</th>\n",
       "      <th>PH20</th>\n",
       "      <th>PH21</th>\n",
       "      <th>PH22</th>\n",
       "      <th>PH23</th>\n",
       "      <th>PH24</th>\n",
       "    </tr>\n",
       "  </thead>\n",
       "  <tbody>\n",
       "    <tr>\n",
       "      <th>13989</th>\n",
       "      <td>1331D</td>\n",
       "      <td>2014</td>\n",
       "      <td>6</td>\n",
       "      <td>18</td>\n",
       "      <td>FIGUERAS DE CASTROPOL</td>\n",
       "      <td>40</td>\n",
       "      <td>ASTURIAS</td>\n",
       "      <td>701082</td>\n",
       "      <td>433207</td>\n",
       "      <td>ETRS89</td>\n",
       "      <td>...</td>\n",
       "      <td>0.0</td>\n",
       "      <td>0.0</td>\n",
       "      <td>0.0</td>\n",
       "      <td>0.0</td>\n",
       "      <td>0.0</td>\n",
       "      <td>0.0</td>\n",
       "      <td>0.0</td>\n",
       "      <td>0.0</td>\n",
       "      <td>0.0</td>\n",
       "      <td>0</td>\n",
       "    </tr>\n",
       "    <tr>\n",
       "      <th>13990</th>\n",
       "      <td>1331D</td>\n",
       "      <td>2014</td>\n",
       "      <td>6</td>\n",
       "      <td>19</td>\n",
       "      <td>FIGUERAS DE CASTROPOL</td>\n",
       "      <td>40</td>\n",
       "      <td>ASTURIAS</td>\n",
       "      <td>701082</td>\n",
       "      <td>433207</td>\n",
       "      <td>ETRS89</td>\n",
       "      <td>...</td>\n",
       "      <td>0.0</td>\n",
       "      <td>0.0</td>\n",
       "      <td>0.0</td>\n",
       "      <td>0.0</td>\n",
       "      <td>0.0</td>\n",
       "      <td>0.0</td>\n",
       "      <td>0.0</td>\n",
       "      <td>0.0</td>\n",
       "      <td>0.0</td>\n",
       "      <td>0</td>\n",
       "    </tr>\n",
       "  </tbody>\n",
       "</table>\n",
       "<p>2 rows × 34 columns</p>\n",
       "</div>"
      ],
      "text/plain": [
       "      INDICATIVO   AÑO  MES  DIA                 NOMBRE  ALTITUD  NOM_PROV  \\\n",
       "13989      1331D  2014    6   18  FIGUERAS DE CASTROPOL       40  ASTURIAS   \n",
       "13990      1331D  2014    6   19  FIGUERAS DE CASTROPOL       40  ASTURIAS   \n",
       "\n",
       "       LONGITUD  LATITUD   DATUM  ...  PH15  PH16  PH17  PH18  PH19  PH20  \\\n",
       "13989    701082   433207  ETRS89  ...   0.0   0.0   0.0   0.0   0.0   0.0   \n",
       "13990    701082   433207  ETRS89  ...   0.0   0.0   0.0   0.0   0.0   0.0   \n",
       "\n",
       "       PH21  PH22  PH23  PH24  \n",
       "13989   0.0   0.0   0.0     0  \n",
       "13990   0.0   0.0   0.0     0  \n",
       "\n",
       "[2 rows x 34 columns]"
      ]
     },
     "execution_count": 70,
     "metadata": {},
     "output_type": "execute_result"
    }
   ],
   "source": [
    "mask = (AEMET.NOM_PROV == 'ASTURIAS') | (AEMET.NOM_PROV == 'CANTABRIA')\n",
    "AEMET = AEMET.loc[mask, :]\n",
    "AEMET.tail(2)"
   ]
  },
  {
   "cell_type": "code",
   "execution_count": 69,
   "metadata": {},
   "outputs": [
    {
     "name": "stdout",
     "output_type": "stream",
     "text": [
      "SANTANDER/PARAYAS 2005 2009\n",
      "OVIEDO 2005 2014\n",
      "FIGUERAS DE CASTROPOL 2005 2014\n"
     ]
    }
   ],
   "source": [
    "for nombre in AEMET.NOMBRE.unique():\n",
    "    aux = AEMET.loc[AEMET.NOMBRE == nombre,:]\n",
    "    print(nombre, aux.AÑO.iloc[0], aux.AÑO.iloc[-1])"
   ]
  },
  {
   "cell_type": "code",
   "execution_count": 67,
   "metadata": {},
   "outputs": [
    {
     "data": {
      "text/plain": [
       "37"
      ]
     },
     "execution_count": 67,
     "metadata": {},
     "output_type": "execute_result"
    }
   ],
   "source": [
    "len(AEMET.NOMBRE.unique())"
   ]
  },
  {
   "cell_type": "code",
   "execution_count": 76,
   "metadata": {},
   "outputs": [],
   "source": [
    "cod = AEMET.loc[AEMET.NOMBRE == 'OVIEDO'].INDICATIVO.iloc[0]"
   ]
  },
  {
   "cell_type": "code",
   "execution_count": 79,
   "metadata": {},
   "outputs": [
    {
     "data": {
      "text/html": [
       "<div>\n",
       "<style scoped>\n",
       "    .dataframe tbody tr th:only-of-type {\n",
       "        vertical-align: middle;\n",
       "    }\n",
       "\n",
       "    .dataframe tbody tr th {\n",
       "        vertical-align: top;\n",
       "    }\n",
       "\n",
       "    .dataframe thead th {\n",
       "        text-align: right;\n",
       "    }\n",
       "</style>\n",
       "<table border=\"1\" class=\"dataframe\">\n",
       "  <thead>\n",
       "    <tr style=\"text-align: right;\">\n",
       "      <th></th>\n",
       "      <th>INDICATIVO</th>\n",
       "      <th>AÑO</th>\n",
       "      <th>MES</th>\n",
       "      <th>DIA</th>\n",
       "      <th>NOMBRE</th>\n",
       "      <th>ALTITUD</th>\n",
       "      <th>NOM_PROV</th>\n",
       "      <th>LONGITUD</th>\n",
       "      <th>LATITUD</th>\n",
       "      <th>DATUM</th>\n",
       "      <th>...</th>\n",
       "      <th>PH15</th>\n",
       "      <th>PH16</th>\n",
       "      <th>PH17</th>\n",
       "      <th>PH18</th>\n",
       "      <th>PH19</th>\n",
       "      <th>PH20</th>\n",
       "      <th>PH21</th>\n",
       "      <th>PH22</th>\n",
       "      <th>PH23</th>\n",
       "      <th>PH24</th>\n",
       "    </tr>\n",
       "  </thead>\n",
       "  <tbody>\n",
       "    <tr>\n",
       "      <th>7473</th>\n",
       "      <td>1249I</td>\n",
       "      <td>2005</td>\n",
       "      <td>1</td>\n",
       "      <td>1</td>\n",
       "      <td>OVIEDO</td>\n",
       "      <td>336</td>\n",
       "      <td>ASTURIAS</td>\n",
       "      <td>552272</td>\n",
       "      <td>432112</td>\n",
       "      <td>ETRS89</td>\n",
       "      <td>...</td>\n",
       "      <td>0.0</td>\n",
       "      <td>0.0</td>\n",
       "      <td>0.0</td>\n",
       "      <td>0.0</td>\n",
       "      <td>0.0</td>\n",
       "      <td>0.0</td>\n",
       "      <td>0.0</td>\n",
       "      <td>0.0</td>\n",
       "      <td>0.0</td>\n",
       "      <td>0</td>\n",
       "    </tr>\n",
       "    <tr>\n",
       "      <th>7474</th>\n",
       "      <td>1249I</td>\n",
       "      <td>2005</td>\n",
       "      <td>1</td>\n",
       "      <td>2</td>\n",
       "      <td>OVIEDO</td>\n",
       "      <td>336</td>\n",
       "      <td>ASTURIAS</td>\n",
       "      <td>552272</td>\n",
       "      <td>432112</td>\n",
       "      <td>ETRS89</td>\n",
       "      <td>...</td>\n",
       "      <td>-3.0</td>\n",
       "      <td>-3.0</td>\n",
       "      <td>0.0</td>\n",
       "      <td>11.0</td>\n",
       "      <td>6.0</td>\n",
       "      <td>1.0</td>\n",
       "      <td>0.0</td>\n",
       "      <td>1.0</td>\n",
       "      <td>1.0</td>\n",
       "      <td>0</td>\n",
       "    </tr>\n",
       "    <tr>\n",
       "      <th>7475</th>\n",
       "      <td>1249I</td>\n",
       "      <td>2005</td>\n",
       "      <td>1</td>\n",
       "      <td>3</td>\n",
       "      <td>OVIEDO</td>\n",
       "      <td>336</td>\n",
       "      <td>ASTURIAS</td>\n",
       "      <td>552272</td>\n",
       "      <td>432112</td>\n",
       "      <td>ETRS89</td>\n",
       "      <td>...</td>\n",
       "      <td>0.0</td>\n",
       "      <td>0.0</td>\n",
       "      <td>0.0</td>\n",
       "      <td>0.0</td>\n",
       "      <td>0.0</td>\n",
       "      <td>0.0</td>\n",
       "      <td>0.0</td>\n",
       "      <td>0.0</td>\n",
       "      <td>0.0</td>\n",
       "      <td>0</td>\n",
       "    </tr>\n",
       "    <tr>\n",
       "      <th>7476</th>\n",
       "      <td>1249I</td>\n",
       "      <td>2005</td>\n",
       "      <td>1</td>\n",
       "      <td>4</td>\n",
       "      <td>OVIEDO</td>\n",
       "      <td>336</td>\n",
       "      <td>ASTURIAS</td>\n",
       "      <td>552272</td>\n",
       "      <td>432112</td>\n",
       "      <td>ETRS89</td>\n",
       "      <td>...</td>\n",
       "      <td>0.0</td>\n",
       "      <td>0.0</td>\n",
       "      <td>0.0</td>\n",
       "      <td>0.0</td>\n",
       "      <td>0.0</td>\n",
       "      <td>0.0</td>\n",
       "      <td>0.0</td>\n",
       "      <td>0.0</td>\n",
       "      <td>0.0</td>\n",
       "      <td>0</td>\n",
       "    </tr>\n",
       "    <tr>\n",
       "      <th>7477</th>\n",
       "      <td>1249I</td>\n",
       "      <td>2005</td>\n",
       "      <td>1</td>\n",
       "      <td>5</td>\n",
       "      <td>OVIEDO</td>\n",
       "      <td>336</td>\n",
       "      <td>ASTURIAS</td>\n",
       "      <td>552272</td>\n",
       "      <td>432112</td>\n",
       "      <td>ETRS89</td>\n",
       "      <td>...</td>\n",
       "      <td>0.0</td>\n",
       "      <td>0.0</td>\n",
       "      <td>0.0</td>\n",
       "      <td>0.0</td>\n",
       "      <td>0.0</td>\n",
       "      <td>0.0</td>\n",
       "      <td>0.0</td>\n",
       "      <td>-3.0</td>\n",
       "      <td>0.0</td>\n",
       "      <td>0</td>\n",
       "    </tr>\n",
       "  </tbody>\n",
       "</table>\n",
       "<p>5 rows × 34 columns</p>\n",
       "</div>"
      ],
      "text/plain": [
       "     INDICATIVO   AÑO  MES  DIA  NOMBRE  ALTITUD  NOM_PROV  LONGITUD  LATITUD  \\\n",
       "7473      1249I  2005    1    1  OVIEDO      336  ASTURIAS    552272   432112   \n",
       "7474      1249I  2005    1    2  OVIEDO      336  ASTURIAS    552272   432112   \n",
       "7475      1249I  2005    1    3  OVIEDO      336  ASTURIAS    552272   432112   \n",
       "7476      1249I  2005    1    4  OVIEDO      336  ASTURIAS    552272   432112   \n",
       "7477      1249I  2005    1    5  OVIEDO      336  ASTURIAS    552272   432112   \n",
       "\n",
       "       DATUM  ...  PH15  PH16  PH17  PH18  PH19  PH20  PH21  PH22  PH23  PH24  \n",
       "7473  ETRS89  ...   0.0   0.0   0.0   0.0   0.0   0.0   0.0   0.0   0.0     0  \n",
       "7474  ETRS89  ...  -3.0  -3.0   0.0  11.0   6.0   1.0   0.0   1.0   1.0     0  \n",
       "7475  ETRS89  ...   0.0   0.0   0.0   0.0   0.0   0.0   0.0   0.0   0.0     0  \n",
       "7476  ETRS89  ...   0.0   0.0   0.0   0.0   0.0   0.0   0.0   0.0   0.0     0  \n",
       "7477  ETRS89  ...   0.0   0.0   0.0   0.0   0.0   0.0   0.0  -3.0   0.0     0  \n",
       "\n",
       "[5 rows x 34 columns]"
      ]
     },
     "execution_count": 79,
     "metadata": {},
     "output_type": "execute_result"
    }
   ],
   "source": [
    "raw = AEMET.loc[AEMET.INDICATIVO == cod,:]\n",
    "raw.head()"
   ]
  },
  {
   "cell_type": "code",
   "execution_count": 82,
   "metadata": {},
   "outputs": [],
   "source": [
    "rutaAEMET = 'G:/CLIMA/02_HYDRO-CLIMATE/AEMET/precipitacion/horario/output/'\n",
    "raw = pd.read_csv(rutaAEMET + 'Dataframe_hourly.csv', parse_dates=True, index_col=0)"
   ]
  },
  {
   "cell_type": "code",
   "execution_count": 84,
   "metadata": {},
   "outputs": [
    {
     "data": {
      "text/plain": [
       "(Timestamp('2005-01-01 00:00:00'), Timestamp('2014-12-31 23:00:00'))"
      ]
     },
     "execution_count": 84,
     "metadata": {},
     "output_type": "execute_result"
    }
   ],
   "source": [
    "raw['1249I'].first_valid_index(), raw['1249I'].last_valid_index()"
   ]
  },
  {
   "cell_type": "code",
   "execution_count": 85,
   "metadata": {},
   "outputs": [],
   "source": [
    "pcp_h = raw['1249I']"
   ]
  },
  {
   "cell_type": "code",
   "execution_count": 86,
   "metadata": {},
   "outputs": [
    {
     "data": {
      "text/plain": [
       "[<matplotlib.lines.Line2D at 0x17782d9eb00>]"
      ]
     },
     "execution_count": 86,
     "metadata": {},
     "output_type": "execute_result"
    },
    {
     "data": {
      "image/png": "[encoded data removed]",
      "text/plain": [
       "<Figure size 432x288 with 1 Axes>"
      ]
     },
     "metadata": {
      "needs_background": "light"
     },
     "output_type": "display_data"
    }
   ],
   "source": [
    "plt.figure(figsize=(15, 4))\n",
    "plt.plot(pcp_h)"
   ]
  },
  {
   "cell_type": "code",
   "execution_count": null,
   "metadata": {},
   "outputs": [],
   "source": []
  }
 ],
 "metadata": {
  "kernelspec": {
   "display_name": "Python 3",
   "language": "python",
   "name": "python3"
  },
  "language_info": {
   "codemirror_mode": {
    "name": "ipython",
    "version": 3
   },
   "file_extension": ".py",
   "mimetype": "text/x-python",
   "name": "python",
   "nbconvert_exporter": "python",
   "pygments_lexer": "ipython3",
   "version": "3.7.3"
  }
 },
 "nbformat": 4,
 "nbformat_minor": 4
}
