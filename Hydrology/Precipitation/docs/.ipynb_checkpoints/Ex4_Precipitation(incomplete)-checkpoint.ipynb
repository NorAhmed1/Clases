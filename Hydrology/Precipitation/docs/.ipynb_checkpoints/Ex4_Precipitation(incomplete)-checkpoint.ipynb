{
 "cells": [
  {
   "cell_type": "markdown",
   "metadata": {},
   "source": [
    "# Precipitation exercises\n",
    "***\n",
    "\n",
    "## <font color=steelblue>Exercise 4 - Hypsometric method\n",
    "\n",
    "<font color=steelblue>Given the hypsometric curve (area-elevation relation) for a catchment, and rainfall data for several gages within it (file *RainfallData_Exercise_004.xlsx*), compute the average annual precipitation for the basin using the hypsometric method.<tfont>\n",
    "\n",
    "| **Elevation Range (m)** | **Fraction of Area within Range** |\n",
    "|-------------------------|-----------------------------------|\n",
    "| 311-400                 | 0.028                             |\n",
    "| 400-600                 | 0.159                             |\n",
    "| 600-800                 | 0.341                             |\n",
    "| 800-1000                | 0.271                             |\n",
    "| 1000-1200               | 0.151                             |\n",
    "| 1200-1400               | 0.042                             |\n",
    "| 1400-1600               | 0.008                             |"
   ]
  },
  {
   "cell_type": "code",
   "execution_count": null,
   "metadata": {},
   "outputs": [],
   "source": [
    "import numpy as np\n",
    "\n",
    "import pandas as pd\n",
    "\n",
    "from matplotlib import pyplot as plt\n",
    "%matplotlib inline\n",
    "# plt.style.use('dark_background')\n",
    "plt.style.use('seaborn-whitegrid')\n",
    "\n",
    "#from scipy.stats import genextreme\n",
    "#from scipy.optimize import curve_fit"
   ]
  },
  {
   "cell_type": "markdown",
   "metadata": {},
   "source": [
    "__Hypsometric curve__<br>\n",
    "\n",
    "The hypsometric curve defines the percentage of the area of a catchment that lies below a given altitude. In this exercise, we'll use the hypsometric curve to calculate the proportion of the catchment area at different altitude bands."
   ]
  },
  {
   "cell_type": "code",
   "execution_count": null,
   "metadata": {},
   "outputs": [],
   "source": [
    "# import data from the hypsometric curve\n",
    "\n",
    "# simplify column names\n"
   ]
  },
  {
   "cell_type": "code",
   "execution_count": null,
   "metadata": {},
   "outputs": [],
   "source": [
    "# cumulative area\n"
   ]
  },
  {
   "cell_type": "code",
   "execution_count": null,
   "metadata": {},
   "outputs": [],
   "source": [
    "# plot the hypsometric curve\n",
    "plt.plot(hypso.Z, hypso.Aac * 100)\n",
    "plt.title('Hypsometric curve', fontsize=16, weight='bold')\n",
    "plt.xlabel('elevation (masl)', fontsize=13)\n",
    "plt.xlim(hypso.Z.min(), hypso.Z.max())\n",
    "plt.ylabel('area (%)', fontsize=13)\n",
    "plt.ylim((0, 100));\n",
    "\n",
    "# guardar la figura\n",
    "plt.savefig('../output/Ex4_hypsometric curve.png', dpi=300)"
   ]
  },
  {
   "cell_type": "markdown",
   "metadata": {},
   "source": [
    "__Linear regressión precipitation-altitude__<br>\n",
    "\n",
    "We will use the precipitation data to calculate the linear dependence of precipitation on altitude. This regression follows the equation:\n",
    "\n",
    "$$P = a·Z+b$$\n",
    "\n",
    "Where $P$ is mean annual precipitation (mm) at a point with altitude $Z$ (m.a.s.l)."
   ]
  },
  {
   "cell_type": "code",
   "execution_count": null,
   "metadata": {},
   "outputs": [],
   "source": [
    "# Import precipitation data\n",
    "\n",
    "# simplify column names\n"
   ]
  },
  {
   "cell_type": "code",
   "execution_count": null,
   "metadata": {},
   "outputs": [],
   "source": [
    "# fit the linear regression\n",
    "\n",
    "print('P = {0:.3f} Z + {1:.3f}'.format(a, b))"
   ]
  },
  {
   "cell_type": "code",
   "execution_count": null,
   "metadata": {},
   "outputs": [],
   "source": [
    "# plot the regression between elevation and annual precipitation\n",
    "plt.scatter(data4.Z, data4.P)\n",
    "# recta de regresión\n",
    "xlim = np.array([0, hypso.Z.max()])\n",
    "plt.plot(xlim, a * xlim + b, 'k--')\n",
    "# configuración\n",
    "plt.title('', fontsize=16, weight='bold')\n",
    "plt.xlabel('altitud (msnm)', fontsize=13)\n",
    "plt.xlim(xlim)\n",
    "plt.ylabel('Panual (mm)', fontsize=13)\n",
    "plt.ylim(0, 2200);\n",
    "\n",
    "# guardar la figura\n",
    "plt.savefig('../output/Ex4_linear regression Z-Pannual.png', dpi=300)"
   ]
  },
  {
   "cell_type": "markdown",
   "metadata": {},
   "source": [
    "__Areal precipitation__\n",
    "\n",
    "We will use the above linear regression to estimate the mean annual precipitation for each of the altitude bands. Areal precipitation is the weighted mean of these precipitation values, where the weights are the percentages of the catchment area belonging to the elevation bands."
   ]
  },
  {
   "cell_type": "code",
   "execution_count": null,
   "metadata": {},
   "outputs": [],
   "source": [
    "# estimate precipitation for each band\n"
   ]
  },
  {
   "cell_type": "markdown",
   "metadata": {},
   "source": [
    "The areal precipitation is the sum of the summation of the product of weight (_A_, fraction of catchment area) by the interpolated precipitation (_P_). "
   ]
  },
  {
   "cell_type": "code",
   "execution_count": null,
   "metadata": {},
   "outputs": [],
   "source": [
    "\n",
    "print('The mean annual precipitation in the catchment is {0:.1f} mm'.format(Pareal))"
   ]
  },
  {
   "cell_type": "markdown",
   "metadata": {},
   "source": [
    "All the previous steps could be done in a shorter way:"
   ]
  },
  {
   "cell_type": "code",
   "execution_count": null,
   "metadata": {},
   "outputs": [],
   "source": [
    "p = np.polyfit(data4.Z,  data4.P, deg=1)      # fit the linear regression\n",
    "Ps = np.polyval(p, hypso.Z)                   # interpolate precipitation\n",
    "Pareal = np.sum(Ps * hypso.A)                 # areal precipitation\n",
    "\n",
    "print('The mean annual precipitation in the catchment is {0:.1f} mm'.format(Pareal))"
   ]
  },
  {
   "cell_type": "markdown",
   "metadata": {},
   "source": [
    "If we had calculated the areal precipitation by the station-average method (see exercise 1), we would've underestimated the areal precipitation in the catchment."
   ]
  },
  {
   "cell_type": "code",
   "execution_count": null,
   "metadata": {},
   "outputs": [],
   "source": [
    "\n",
    "print('The mean annual precipitation in the catchment is {0:.1f} mm'.format(Pareal2))"
   ]
  },
  {
   "cell_type": "code",
   "execution_count": null,
   "metadata": {},
   "outputs": [],
   "source": []
  }
 ],
 "metadata": {
  "anaconda-cloud": {},
  "kernelspec": {
   "display_name": "Python 3",
   "language": "python",
   "name": "python3"
  },
  "language_info": {
   "codemirror_mode": {
    "name": "ipython",
    "version": 3
   },
   "file_extension": ".py",
   "mimetype": "text/x-python",
   "name": "python",
   "nbconvert_exporter": "python",
   "pygments_lexer": "ipython3",
   "version": "3.7.3"
  },
  "varInspector": {
   "cols": {
    "lenName": 16,
    "lenType": 16,
    "lenVar": 40
   },
   "kernels_config": {
    "python": {
     "delete_cmd_postfix": "",
     "delete_cmd_prefix": "del ",
     "library": "var_list.py",
     "varRefreshCmd": "print(var_dic_list())"
    },
    "r": {
     "delete_cmd_postfix": ") ",
     "delete_cmd_prefix": "rm(",
     "library": "var_list.r",
     "varRefreshCmd": "cat(var_dic_list()) "
    }
   },
   "position": {
    "height": "255px",
    "left": "634px",
    "right": "20px",
    "top": "118px",
    "width": "350px"
   },
   "types_to_exclude": [
    "module",
    "function",
    "builtin_function_or_method",
    "instance",
    "_Feature"
   ],
   "window_display": false
  }
 },
 "nbformat": 4,
 "nbformat_minor": 4
}
