{
 "cells": [
  {
   "cell_type": "markdown",
   "metadata": {},
   "source": [
    "# Precipitation exercises\n",
    "***\n",
    "\n",
    "## <font color=steelblue>Exercise 5 - Intensity-duration-frequency curves\n",
    "\n",
    "<font color=steelblue>Build an IDF (intensity-duration-frequency) curve from the data in table _ChiAnnMax_ in file _RainfallData.xlsx_.<tfont>"
   ]
  },
  {
   "cell_type": "code",
   "execution_count": 4,
   "metadata": {},
   "outputs": [],
   "source": [
    "import numpy as np\n",
    "\n",
    "import pandas as pd\n",
    "\n",
    "from matplotlib import pyplot as plt\n",
    "%matplotlib inline\n",
    "#plt.style.use('dark_background')\n",
    "plt.style.use('seaborn-whitegrid')\n",
    "\n",
    "from scipy.stats import genextreme\n",
    "from scipy.optimize import curve_fit"
   ]
  },
  {
   "cell_type": "markdown",
   "metadata": {},
   "source": [
    "**Intensity-Duration-Frequency (IDF) curves** are a common approach for defining a design storm in a hydrologic project. IDF curves relate rainfall intensity, storm duration and frequency (expressed as return period).\n",
    " \n",
    "<img src=\"img/IDF curves.JPG\" alt=\"Mountain View\" style=\"width:500px\">\n",
    "\n",
    "> <font color=gray>Intensity-duration-frequency curve for Oklahoma City (Applied Hydrology. Chow, 1988).</font>\n",
    "\n",
    "When designing a structure, the objetive is to know the precipitation intensity given a return period and a duration. We would know the return period we want to design the structure for (usually defined by laws or standards). We would have to find the worst case scenario for the duration; this is usually the time of concentration of the structure's basin.\n",
    "\n",
    "**Empirical IDF curves**\n",
    "To build a IDF curve out of local data, we must carry out a frequency analysis. As input values, we need an annual series of maximum precipitation intensity for several storm durations. We must fit the series for each storm duration to a extreme values distributions in order to estimate the precipitation intensity given a return period. This is the **empirical IDF curve**.\n",
    "\n",
    "**Analytical IDF curves**\n",
    "Another way to create the IDF curve is to use **analytical IDF curves**. In this case we don't need to carry out the frequency analysis, but we must fit the analytical IDF curve to the observations. Once we've fitted the curve parameters, we can plot the IDF curves."
   ]
  },
  {
   "cell_type": "markdown",
   "metadata": {},
   "source": [
    "### Import data\n",
    "\n",
    "To build inensity-duration-frequency curves we need series of annual maximum intensity aggregated at different storm durations (in our case 1, 6 and 24 h)."
   ]
  },
  {
   "cell_type": "code",
   "execution_count": 2,
   "metadata": {},
   "outputs": [
    {
     "data": {
      "text/html": [
       "<div>\n",
       "<style scoped>\n",
       "    .dataframe tbody tr th:only-of-type {\n",
       "        vertical-align: middle;\n",
       "    }\n",
       "\n",
       "    .dataframe tbody tr th {\n",
       "        vertical-align: top;\n",
       "    }\n",
       "\n",
       "    .dataframe thead th {\n",
       "        text-align: right;\n",
       "    }\n",
       "</style>\n",
       "<table border=\"1\" class=\"dataframe\">\n",
       "  <thead>\n",
       "    <tr style=\"text-align: right;\">\n",
       "      <th></th>\n",
       "      <th>1</th>\n",
       "      <th>6</th>\n",
       "      <th>24</th>\n",
       "    </tr>\n",
       "    <tr>\n",
       "      <th>Year</th>\n",
       "      <th></th>\n",
       "      <th></th>\n",
       "      <th></th>\n",
       "    </tr>\n",
       "  </thead>\n",
       "  <tbody>\n",
       "    <tr>\n",
       "      <th>1949</th>\n",
       "      <td>20.066</td>\n",
       "      <td>6.688667</td>\n",
       "      <td>2.889250</td>\n",
       "    </tr>\n",
       "    <tr>\n",
       "      <th>1950</th>\n",
       "      <td>42.926</td>\n",
       "      <td>10.583333</td>\n",
       "      <td>3.714750</td>\n",
       "    </tr>\n",
       "    <tr>\n",
       "      <th>1951</th>\n",
       "      <td>38.100</td>\n",
       "      <td>9.101667</td>\n",
       "      <td>3.090333</td>\n",
       "    </tr>\n",
       "    <tr>\n",
       "      <th>1952</th>\n",
       "      <td>30.226</td>\n",
       "      <td>6.773333</td>\n",
       "      <td>1.693333</td>\n",
       "    </tr>\n",
       "    <tr>\n",
       "      <th>1953</th>\n",
       "      <td>25.908</td>\n",
       "      <td>10.244667</td>\n",
       "      <td>2.561167</td>\n",
       "    </tr>\n",
       "  </tbody>\n",
       "</table>\n",
       "</div>"
      ],
      "text/plain": [
       "          1          6         24\n",
       "Year                             \n",
       "1949  20.066   6.688667  2.889250\n",
       "1950  42.926  10.583333  3.714750\n",
       "1951  38.100   9.101667  3.090333\n",
       "1952  30.226   6.773333  1.693333\n",
       "1953  25.908  10.244667  2.561167"
      ]
     },
     "execution_count": 2,
     "metadata": {},
     "output_type": "execute_result"
    }
   ],
   "source": [
    "# load precipitation intensity data\n",
    "\n",
    "# convert inches to mm\n",
    "intensity = intensity * 25.4\n",
    "# change column names to storm duration\n",
    "         # storm duration\n"
   ]
  },
  {
   "cell_type": "markdown",
   "metadata": {},
   "source": [
    "In the following plot, we sort the maximum rainfall intensity series for each duration and plot it. \n",
    "\n",
    "We observe that the shorter the duration of a storm, the higher the intensity. Furthermore, we can also infer a higher variability (represented by the slope) with shorter storm duration."
   ]
  },
  {
   "cell_type": "code",
   "execution_count": 9,
   "metadata": {},
   "outputs": [
    {
     "data": {
      "image/png": "[encoded data removed]",
      "text/plain": [
       "<Figure size 720x432 with 1 Axes>"
      ]
     },
     "metadata": {},
     "output_type": "display_data"
    }
   ],
   "source": [
    "# set the plot\n",
    "fig = plt.figure(figsize=(10, 6))\n",
    "plt.title('Sorted series of annual maximum intensity', fontsize=16, weight='bold')\n",
    "plt.xlabel('', fontsize=13)\n",
    "plt.xlim((0, 25))\n",
    "plt.ylabel('intensity (mm/h)', fontsize=13)\n",
    "plt.ylim((0, 60))\n",
    "\n",
    "# 3 scatter plots for each storm duration\n",
    "plt.scatter(range(intensity.shape[0]), intensity.sort_values(1)[1], label='1 h')\n",
    "plt.scatter(range(intensity.shape[0]), intensity.sort_values(6)[6], label='6 h')\n",
    "plt.scatter(range(intensity.shape[0]), intensity.sort_values(24)[24], label='24 h')\n",
    "\n",
    "# Legend\n",
    "fig.legend(loc=8, ncol= 3, fontsize=13);"
   ]
  },
  {
   "cell_type": "markdown",
   "metadata": {},
   "source": [
    "### Fit a GEV distribution to the data\n",
    "\n",
    "We must fit a extreme values distribution to the data. From the fitted distribution, we will be able to estimate the intensity for any return period.\n",
    "\n",
    "We will use the **GEV distribution (generalized extreme values)**. When applied to exclusively positive values such as precipitation, the GEV distribution is:\n",
    "\n",
    "$$F(s,\\xi)=e^{-(1+\\xi s)^{-1/\\xi}}  \\quad \\forall \\xi>0$$\n",
    "$$ s = \\frac{x-\\mu}{\\sigma} \\quad \\sigma>0$$\n",
    "\n",
    "Where $s$ is the study variable standardised by the location parameter $\\mu$ and the scale parameter $\\sigma$, and $\\xi$ is the shape parameter. So the GEV distribution has three parameters to be fitted.\n",
    "\n",
    "<img src=\"img/Frechet.png\" alt=\"Mountain View\" style=\"width:600px\">\n",
    "\n",
    "> <font color=grey>Density function and the cumulative density function of the GEV type II (Frechet distribution) for several values of scale and shape.</font><br>\n",
    "\n",
    "To fit the GEV distribution, we will use the function `genextreme.fit`in the package `SciPy`. The output of this function are the values of the three GEV parameters (shape, location and scale) that better fit the input data."
   ]
  },
  {
   "cell_type": "code",
   "execution_count": 6,
   "metadata": {},
   "outputs": [],
   "source": [
    "# Example\n",
    "# fit a GEV to the 1h-duration storm\n"
   ]
  },
  {
   "cell_type": "code",
   "execution_count": 8,
   "metadata": {},
   "outputs": [
    {
     "name": "stdout",
     "output_type": "stream",
     "text": [
      "Fitted parameters for the intensity in 1h-duration storms:\n",
      "xi = 0.2339\n",
      "mu = 31.7407\n",
      "sigma = 10.3977\n"
     ]
    }
   ],
   "source": [
    "print('Fitted parameters for the intensity in 1h-duration storms:')\n",
    "print('xi =', round(par_int1h[0], 4))\n",
    "print('mu =', round(par_int1h[1], 4))\n",
    "print('sigma =', round(par_int1h[2], 4))"
   ]
  },
  {
   "cell_type": "markdown",
   "metadata": {},
   "source": [
    "We'll repeat the process in a loop for all the storm durations (1, 6 and 24 h). We'll save the results in a data frame called _parameters_."
   ]
  },
  {
   "cell_type": "code",
   "execution_count": 11,
   "metadata": {},
   "outputs": [
    {
     "data": {
      "text/html": [
       "<div>\n",
       "<style scoped>\n",
       "    .dataframe tbody tr th:only-of-type {\n",
       "        vertical-align: middle;\n",
       "    }\n",
       "\n",
       "    .dataframe tbody tr th {\n",
       "        vertical-align: top;\n",
       "    }\n",
       "\n",
       "    .dataframe thead th {\n",
       "        text-align: right;\n",
       "    }\n",
       "</style>\n",
       "<table border=\"1\" class=\"dataframe\">\n",
       "  <thead>\n",
       "    <tr style=\"text-align: right;\">\n",
       "      <th></th>\n",
       "      <th>1</th>\n",
       "      <th>6</th>\n",
       "      <th>24</th>\n",
       "    </tr>\n",
       "  </thead>\n",
       "  <tbody>\n",
       "    <tr>\n",
       "      <th>xi</th>\n",
       "      <td>0.233923</td>\n",
       "      <td>-0.396873</td>\n",
       "      <td>-0.235411</td>\n",
       "    </tr>\n",
       "    <tr>\n",
       "      <th>mu</th>\n",
       "      <td>31.740658</td>\n",
       "      <td>8.404498</td>\n",
       "      <td>2.540506</td>\n",
       "    </tr>\n",
       "    <tr>\n",
       "      <th>sigma</th>\n",
       "      <td>10.397701</td>\n",
       "      <td>2.320138</td>\n",
       "      <td>0.836714</td>\n",
       "    </tr>\n",
       "  </tbody>\n",
       "</table>\n",
       "</div>"
      ],
      "text/plain": [
       "              1         6         24\n",
       "xi      0.233923 -0.396873 -0.235411\n",
       "mu     31.740658  8.404498  2.540506\n",
       "sigma  10.397701  2.320138  0.836714"
      ]
     },
     "execution_count": 11,
     "metadata": {},
     "output_type": "execute_result"
    }
   ],
   "source": [
    "# fit parameters for the 3 durations\n",
    "    "
   ]
  },
  {
   "cell_type": "markdown",
   "metadata": {},
   "source": [
    "### Empirical IDF\n",
    "\n",
    "The **non-exceedance probability** (i.e., the value of the cumulative density function) and the **return period** are related by the equation: \n",
    "\n",
    "\\\\[R = \\frac{1}{1-CDF(x)}\\\\]\n",
    "\n",
    "Where $R$ is the return period and $CDF(x)$ the cumulative density function (or non-exceedance probability) for a precipitation of $x$.\n",
    "\n",
    "From this expression, we can estimate the **non-exceedance probability** of a fiven **return period**:\n",
    "\n",
    "\\\\[CDF(x) = \\frac{R-1}{R} = 1 - \\frac{1}{R}\\\\]\n",
    "\n",
    "We will analyse 10, 25, 50 and 100 years return periods. We'll estimete the quantiles (Q) corresponding to these return periods according to the previously fitted distributions."
   ]
  },
  {
   "cell_type": "code",
   "execution_count": 12,
   "metadata": {},
   "outputs": [],
   "source": [
    "# return periods\n"
   ]
  },
  {
   "cell_type": "code",
   "execution_count": 13,
   "metadata": {},
   "outputs": [],
   "source": [
    "# non-exceedance probability\n"
   ]
  },
  {
   "cell_type": "markdown",
   "metadata": {},
   "source": [
    "As an example, we will generate extreme values for a 1-h storm and the non-exceedance probabilities Q. We'll use function `genextrem`in the package `SciPy`."
   ]
  },
  {
   "cell_type": "code",
   "execution_count": 14,
   "metadata": {},
   "outputs": [],
   "source": [
    "# extreme values of intensity for a 1-h storm\n"
   ]
  },
  {
   "cell_type": "code",
   "execution_count": 14,
   "metadata": {},
   "outputs": [
    {
     "name": "stdout",
     "output_type": "stream",
     "text": [
      "Rainfall intensity in 1 h storms at different return perios:\n",
      "I(Tr=10) = 49.9 mm/h\n",
      "I(Tr=25) = 55.2 mm/h\n",
      "I(Tr=50) = 58.3 mm/h\n",
      "I(Tr=100) = 61.0 mm/h\n"
     ]
    }
   ],
   "source": [
    "print('Rainfall intensity in 1 h storms at different return perios:')\n",
    "for i, Tr in enumerate(R):\n",
    "     print('I(Tr=', int(Tr), ') = ', round(P1[i], 1), ' mm/h', sep='')"
   ]
  },
  {
   "cell_type": "markdown",
   "metadata": {},
   "source": [
    "We can iterate the procedure across duration and return periods. Results will be saved in a *data frame* so that we can plot them afterwards."
   ]
  },
  {
   "cell_type": "code",
   "execution_count": 15,
   "metadata": {},
   "outputs": [
    {
     "data": {
      "text/html": [
       "<div>\n",
       "<style scoped>\n",
       "    .dataframe tbody tr th:only-of-type {\n",
       "        vertical-align: middle;\n",
       "    }\n",
       "\n",
       "    .dataframe tbody tr th {\n",
       "        vertical-align: top;\n",
       "    }\n",
       "\n",
       "    .dataframe thead th {\n",
       "        text-align: right;\n",
       "    }\n",
       "</style>\n",
       "<table border=\"1\" class=\"dataframe\">\n",
       "  <thead>\n",
       "    <tr style=\"text-align: right;\">\n",
       "      <th></th>\n",
       "      <th>1</th>\n",
       "      <th>6</th>\n",
       "      <th>24</th>\n",
       "    </tr>\n",
       "    <tr>\n",
       "      <th>Tr</th>\n",
       "      <th></th>\n",
       "      <th></th>\n",
       "      <th></th>\n",
       "    </tr>\n",
       "  </thead>\n",
       "  <tbody>\n",
       "    <tr>\n",
       "      <th>10.0</th>\n",
       "      <td>49.932830</td>\n",
       "      <td>16.838676</td>\n",
       "      <td>5.023257</td>\n",
       "    </tr>\n",
       "    <tr>\n",
       "      <th>25.0</th>\n",
       "      <td>55.155961</td>\n",
       "      <td>23.363122</td>\n",
       "      <td>6.533005</td>\n",
       "    </tr>\n",
       "    <tr>\n",
       "      <th>50.0</th>\n",
       "      <td>58.347192</td>\n",
       "      <td>30.062678</td>\n",
       "      <td>7.892088</td>\n",
       "    </tr>\n",
       "    <tr>\n",
       "      <th>100.0</th>\n",
       "      <td>61.035854</td>\n",
       "      <td>38.844762</td>\n",
       "      <td>9.483084</td>\n",
       "    </tr>\n",
       "  </tbody>\n",
       "</table>\n",
       "</div>"
      ],
      "text/plain": [
       "              1          6         24\n",
       "Tr                                   \n",
       "10.0   49.932830  16.838676  5.023257\n",
       "25.0   55.155961  23.363122  6.533005\n",
       "50.0   58.347192  30.062678  7.892088\n",
       "100.0  61.035854  38.844762  9.483084"
      ]
     },
     "execution_count": 15,
     "metadata": {},
     "output_type": "execute_result"
    }
   ],
   "source": [
    "# data frame with values of the IDF curve\n",
    "IDFe = pd.DataFrame(index=R, columns=D)\n",
    "IDFe.index.name = 'Tr'\n",
    "# iterate\n"
   ]
  },
  {
   "cell_type": "code",
   "execution_count": 17,
   "metadata": {},
   "outputs": [],
   "source": [
    "# save results\n",
    "IDFe.to_csv('../output/Ex5_Results empirical IDF.csv', float_format='%.1f')"
   ]
  },
  {
   "cell_type": "markdown",
   "metadata": {},
   "source": [
    "Line plot that shows, for each return period, rainfall intensity as a function of storm duration."
   ]
  },
  {
   "cell_type": "code",
   "execution_count": 24,
   "metadata": {},
   "outputs": [
    {
     "data": {
      "image/png": "[encoded data removed]",
      "text/plain": [
       "<Figure size 864x432 with 1 Axes>"
      ]
     },
     "metadata": {},
     "output_type": "display_data"
    }
   ],
   "source": [
    "# configuración del gráfico\n",
    "fig = plt.figure(figsize=(12, 6))\n",
    "plt.title('Empirical IDF', fontsize=16, weight='bold')\n",
    "plt.xlabel('duration (h)', fontsize=13)\n",
    "plt.xlim(0, IDFe.columns.max() + 1)\n",
    "plt.ylabel('intensity (mm/h)', fontsize=13)\n",
    "plt.ylim((0, 80))\n",
    "color = ['tan', 'darkkhaki', 'olive', 'darkolivegreen']\n",
    "\n",
    "for i, Tr in enumerate(IDFe.index):\n",
    "    plt.plot(IDFe.loc[Tr,:], color=color[i], label='Tr = ' + str(int(Tr)) + ' years')\n",
    "\n",
    "fig.legend(loc=8, ncol=4, fontsize=12);\n",
    "\n",
    "# guardar la figura\n",
    "plt.savefig('../output/Ex5_empirical IDFs.png', dpi=300)"
   ]
  },
  {
   "cell_type": "markdown",
   "metadata": {},
   "source": [
    "Since we have calculated three points for each of the curves, corresponding to the three durations, the curves are not smooth and unsuitable for interpolation. This is the reason why we need analytical IDF curves."
   ]
  },
  {
   "cell_type": "markdown",
   "metadata": {},
   "source": [
    "### Analytical IDF curves\n",
    "\n",
    "Up to now, we have calculated 12 points of the IDF curves, those corresponding to the storms of 1, 6 and 24 h duration and the return periods of 10, 25, 50 and 100 years. Obtaining a smooth curve would require to iterate the procedure for many more durations. To avoid that, there exist analytical forms of the IDF curve. These equations take several forms:\n",
    "\n",
    "\\\\[I = \\frac{a}{(D + c)^b}\\\\]\n",
    "\n",
    "\\\\[I = \\frac{a}{D ^b + c}\\\\]\n",
    "\n",
    "where \\\\(I\\\\) is the precipitation intensity, \\\\(D\\\\) storm duration , \\\\(a\\\\) is a constant dependent on the return period,and \\\\(b\\\\) and \\\\(c\\\\) are constants related to the study location.\n",
    "\n",
    "We'll assume the following linear relation between $a$ and the return period:\n",
    "\n",
    "\\\\[a = d \\cdot R + e\\\\]"
   ]
  },
  {
   "cell_type": "code",
   "execution_count": 31,
   "metadata": {},
   "outputs": [],
   "source": [
    "def IDF_type_I(x, b, c, d, e):\n",
    "    \"\"\"Estimate precipitation intensity fiven a return period and a storm duration using the analytical IDF curve type I:\n",
    "    \n",
    "    I = d * R + e / (D + c)**b.    \n",
    "    \n",
    "    Input:\n",
    "    ------\n",
    "    x:         list [2x1]. Values of return period (years) and duration (h)\n",
    "    b:         float. Parameter of the IDF curve\n",
    "    c:         float. Parameter of the IDF curve\n",
    "    d:         float. Parameter of the IDF curve\n",
    "    e:         float. Parameter of the IDF curve\n",
    "    \n",
    "    Output:\n",
    "    -------\n",
    "    I:         float. Precipitation intensity (mm/h)\"\"\"\n",
    "    \n",
    "    a = d * x[0] + e\n",
    "    I = a / (x[1] + c)**b\n",
    "    return I\n",
    "\n",
    "def IDF_type_II(x, b, c, d, e):\n",
    "    \"\"\"Estimate precipitation intensity fiven a return period and a storm duration using the analytical IDF curve type II:\n",
    "    \n",
    "    I = d * R + e / (D**b + c).    \n",
    "    \n",
    "    Input:\n",
    "    ------\n",
    "    x:         list [2x1]. Values of return period (years) and duration (h)\n",
    "    b:         float. Parameter of the IDF curve\n",
    "    c:         float. Parameter of the IDF curve\n",
    "    d:         float. Parameter of the IDF curve\n",
    "    e:         float. Parameter of the IDF curve\n",
    "    \n",
    "    Output:\n",
    "    -------\n",
    "    I:         float. Precipitation intensity (mm/h)\"\"\"\n",
    "    \n",
    "    a = d * x[0] + e\n",
    "    I = a / (x[1]**b + c)\n",
    "    return I\n",
    "\n",
    "def IDF_type_III(x, b, c, d, e):\n",
    "    \"\"\"Estimate precipitation intensity fiven a return period and a storm duration using the analytical IDF curve type III:\n",
    "    \n",
    "    I = d * R**e / (D + c)**b.    \n",
    "    \n",
    "    Input:\n",
    "    ------\n",
    "    x:         list [2x1]. Values of return period (years) and duration (h)\n",
    "    b:         float. Parameter of the IDF curve\n",
    "    c:         float. Parameter of the IDF curve\n",
    "    d:         float. Parameter of the IDF curve\n",
    "    e:         float. Parameter of the IDF curve\n",
    "    \n",
    "    Output:\n",
    "    -------\n",
    "    I:         float. Precipitation intensity (mm/h)\"\"\"\n",
    "    \n",
    "    a = d * x[0]**e \n",
    "    I = a / (x[1] + c)**b\n",
    "    return I\n",
    "\n",
    "def IDF_type_IV(x, b, c, d, e):\n",
    "    \"\"\"Estimate precipitation intensity fiven a return period and a storm duration using the analytical IDF curve type IV:\n",
    "    \n",
    "    I = d * R**e / (D**b + c).    \n",
    "    \n",
    "    Input:\n",
    "    ------\n",
    "    x:         list [2x1]. Values of return period (years) and duration (h)\n",
    "    b:         float. Parameter of the IDF curve\n",
    "    c:         float. Parameter of the IDF curve\n",
    "    d:         float. Parameter of the IDF curve\n",
    "    e:         float. Parameter of the IDF curve\n",
    "    \n",
    "    Output:\n",
    "    -------\n",
    "    I:         float. Precipitation intensity (mm/h)\"\"\"\n",
    "    \n",
    "    a = d * x[0]**e\n",
    "    I = a / (x[1]**b + c)\n",
    "    return I "
   ]
  },
  {
   "cell_type": "markdown",
   "metadata": {},
   "source": [
    "We must first create a grid with values of return period and duration. We will use the three storm durations and the four return periods for which we have already estimated precipitation intensity.\n",
    "\n",
    "We will apply function `curve_fit` in package `SciPy`to fit the parameters of the analytical IDF curve. Inputs are the function to be fitted (*curve*), an array with pairs of values of return period and duration (*XX*), and the value of intensity at those pairs (*I*)."
   ]
  },
  {
   "cell_type": "code",
   "execution_count": 25,
   "metadata": {},
   "outputs": [
    {
     "data": {
      "text/plain": [
       "((3, 4), (3, 4))"
      ]
     },
     "execution_count": 25,
     "metadata": {},
     "output_type": "execute_result"
    }
   ],
   "source": [
    "# grid with all possible combinations of duration and return period\n",
    "(RR, DD) = np.meshgrid(R, D)\n",
    "RR.shape, DD.shape"
   ]
  },
  {
   "cell_type": "code",
   "execution_count": 26,
   "metadata": {},
   "outputs": [
    {
     "data": {
      "text/plain": [
       "((12,), (12,))"
      ]
     },
     "execution_count": 26,
     "metadata": {},
     "output_type": "execute_result"
    }
   ],
   "source": [
    "# convert the grid ('RR' and 'DD') into a 1D array\n",
    "RR = RR.reshape(-1)\n",
    "DD = DD.reshape(-1)\n",
    "RR.shape, DD.shape"
   ]
  },
  {
   "cell_type": "code",
   "execution_count": 27,
   "metadata": {},
   "outputs": [
    {
     "data": {
      "text/plain": [
       "(2, 12)"
      ]
     },
     "execution_count": 27,
     "metadata": {},
     "output_type": "execute_result"
    }
   ],
   "source": [
    "# join 'RR' and 'DD' as columns of a 2D array\n",
    "RD = np.vstack([RR, DD])\n",
    "RD.shape"
   ]
  },
  {
   "cell_type": "code",
   "execution_count": 29,
   "metadata": {},
   "outputs": [
    {
     "data": {
      "text/plain": [
       "(12,)"
      ]
     },
     "execution_count": 29,
     "metadata": {},
     "output_type": "execute_result"
    }
   ],
   "source": [
    "# 1D array of intensity for each pair of values in 'XX'\n",
    "I = np.hstack([IDFe[1], IDFe[6], IDFe[24]])\n",
    "I.shape"
   ]
  },
  {
   "cell_type": "markdown",
   "metadata": {},
   "source": [
    "Para ajustar la curva utilizaremos la función `curve_fit` de `SciPy.optimize`. A esta función hemos de asignarle la función de la curva a ajustar, los valores de entrada (pares retorno-duración) y el valor de la función en esos pares (intensidad). La función devuelve un vector con los parámetros de la curva optimizados y otro vector con las covarianza entre dichos parámetros"
   ]
  },
  {
   "cell_type": "code",
   "execution_count": 33,
   "metadata": {},
   "outputs": [],
   "source": [
    "# fit the curve"
   ]
  },
  {
   "cell_type": "code",
   "execution_count": 33,
   "metadata": {},
   "outputs": [
    {
     "name": "stdout",
     "output_type": "stream",
     "text": [
      "Fitted parameters of the analytical IDF\n",
      "b = 1.2978\n",
      "c = 8.1883\n",
      "d = 311.246\n",
      "e = 0.1403\n"
     ]
    }
   ],
   "source": [
    "print('Fitted parameters of the analytical IDF')\n",
    "for i, par in enumerate(['b', 'c', 'd', 'e']):\n",
    "    print(par, '=', round(popt[i], 4))"
   ]
  },
  {
   "cell_type": "code",
   "execution_count": 34,
   "metadata": {},
   "outputs": [],
   "source": [
    "# save the optimized parameters\n",
    "IDFa = pd.DataFrame(popt, index=['b', 'c', 'd', 'e']).transpose()\n",
    "IDFa.to_csv('../output/Ex5_Parameters analytical IDF.csv', float_format='%.5f')"
   ]
  },
  {
   "cell_type": "code",
   "execution_count": 38,
   "metadata": {},
   "outputs": [
    {
     "data": {
      "image/png": "[encoded data removed]",
      "text/plain": [
       "<Figure size 864x432 with 1 Axes>"
      ]
     },
     "metadata": {},
     "output_type": "display_data"
    }
   ],
   "source": [
    "# plot the analytical IDF curves\n",
    "fig = plt.figure(figsize=(12, 6))\n",
    "plt.xlim(0, D.max()+1)\n",
    "plt.xlabel('duration (h)', fontsize=13)\n",
    "plt.ylabel('intensity (mm/h)', fontsize=13)\n",
    "color = ['tan', 'darkkhaki', 'olive', 'darkolivegreen']\n",
    "\n",
    "xx = np.linspace(.25, D.max(), 1000) # duration values\n",
    "y = np.zeros((xx.size,)) # empty array with values of intensity\n",
    "\n",
    "for i, Tr in enumerate(R): # for each return period\n",
    "    for j, d in enumerate(xx): # for each duration\n",
    "        y[j] = curve((Tr, d), *popt)\n",
    "    # lineplot\n",
    "    plt.plot(xx, y, color=color[i], label='Tr = ' + str(int(Tr)) + ' años')\n",
    "    # scatter plot\n",
    "    plt.scatter(D, IDFe.loc[Tr], s=8, marker='o', c=color[i], label=None)\n",
    "\n",
    "fig.legend(loc=8, ncol=4, fontsize=12);\n",
    "\n",
    "# save figure\n",
    "plt.savefig('../output/Ex5_analytical IDFs.png', dpi=300)"
   ]
  },
  {
   "cell_type": "code",
   "execution_count": null,
   "metadata": {},
   "outputs": [],
   "source": []
  }
 ],
 "metadata": {
  "anaconda-cloud": {},
  "kernelspec": {
   "display_name": "Python 3",
   "language": "python",
   "name": "python3"
  },
  "language_info": {
   "codemirror_mode": {
    "name": "ipython",
    "version": 3
   },
   "file_extension": ".py",
   "mimetype": "text/x-python",
   "name": "python",
   "nbconvert_exporter": "python",
   "pygments_lexer": "ipython3",
   "version": "3.7.3"
  },
  "varInspector": {
   "cols": {
    "lenName": 16,
    "lenType": 16,
    "lenVar": 40
   },
   "kernels_config": {
    "python": {
     "delete_cmd_postfix": "",
     "delete_cmd_prefix": "del ",
     "library": "var_list.py",
     "varRefreshCmd": "print(var_dic_list())"
    },
    "r": {
     "delete_cmd_postfix": ") ",
     "delete_cmd_prefix": "rm(",
     "library": "var_list.r",
     "varRefreshCmd": "cat(var_dic_list()) "
    }
   },
   "position": {
    "height": "255px",
    "left": "634px",
    "right": "20px",
    "top": "118px",
    "width": "350px"
   },
   "types_to_exclude": [
    "module",
    "function",
    "builtin_function_or_method",
    "instance",
    "_Feature"
   ],
   "window_display": false
  }
 },
 "nbformat": 4,
 "nbformat_minor": 4
}
