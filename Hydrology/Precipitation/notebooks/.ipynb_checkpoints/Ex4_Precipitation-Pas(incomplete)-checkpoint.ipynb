{
 "cells": [
  {
   "cell_type": "markdown",
   "metadata": {},
   "source": [
    "# Precipitation exercises\n",
    "***\n",
    "\n",
    "## <font color=steelblue>Exercise 4 - Areal precipitation: hypsometric method\n",
    "    \n",
    "<font color=steelblue>Compute the mean annual areal precipitation in the Pas river catchment (Cantabria) via the hypsometric method. The initial data are the digital elevation model of the catchment (*dem_pas.csv*), and the daily precipitation records for the stations within the catchment (*daily_rainfall_pas.csv*) together with their location (*stations_pas.csv*).</font>"
   ]
  },
  {
   "cell_type": "code",
   "execution_count": null,
   "metadata": {},
   "outputs": [],
   "source": [
    "import numpy as np\n",
    "\n",
    "import pandas as pd\n",
    "from pandas.plotting import register_matplotlib_converters\n",
    "register_matplotlib_converters()\n",
    "\n",
    "from matplotlib import pyplot as plt\n",
    "import seaborn as sns\n",
    "sns.set()\n",
    "sns.set_context('notebook')"
   ]
  },
  {
   "cell_type": "markdown",
   "metadata": {},
   "source": [
    "The __areal precipitation__ is an aggregate value of precipitation that applies to a catchment. It can be estimated in different ways, one of which is based in the hypsometric curve. In this method, areal precipitation is a weighted mean of the precipitation at several altitude bands in which the catchments is divided.\n",
    "\n",
    "$$P_{areal} = \\sum_z w_z \\cdot P_z$$\n",
    "$$ \\sum_z w_z = 1$$\n",
    "\n",
    "where $P_z$ is the precipitation at each of the elevation bands and $w_z$ are the weights given to each of the bands according to the hypsometric curve.\n",
    "\n",
    "Following the previous equation, in order to calculate the areal precipitation we must follow these steps:\n",
    "1. Use the hypsometric curve to calculate the weights for each elevation band.\n",
    "2. Estimate precipitation for each elevation band.\n",
    "3. Compute the summation."
   ]
  },
  {
   "cell_type": "markdown",
   "metadata": {},
   "source": [
    "### 1. Hypsometric curve\n",
    "The **hypsometric curve** defines the fraction of the area of a catchment that lies below a given altitude. In this exercise, we'll use the hypsometric curve to assign weights to altitude bands.\n",
    "\n",
    "The data required to draw the hypsometric curve is the topography of the catchment; in our case, we have its **digital elevation model (DEM)**. The DEM is given in an ASCII format (open *dem_pas.csv* with a text processor), which is a plain text file. The first 6 rows of the text file define the attributes of the map (number of columns, number of rows, coordinate X of the lower left corner, coordinate Y of the lower left corner, size of the cells in the map, and the code given to cells with no value). The following rows are the map itself; they contain the data for a rectangular matrix representing the map."
   ]
  },
  {
   "cell_type": "markdown",
   "metadata": {},
   "source": [
    "#### Import DEM\n",
    "To import the DEM we are using a function called `read_ascii` which is included in the notebook *functions_precipitation.ipynb* given along with the exercises. To import functions from another notebook, we must use the Python magic function `%run`."
   ]
  },
  {
   "cell_type": "code",
   "execution_count": null,
   "metadata": {},
   "outputs": [],
   "source": [
    "# import function to read ASCII maps\n"
   ]
  },
  {
   "cell_type": "code",
   "execution_count": null,
   "metadata": {},
   "outputs": [],
   "source": [
    "# import the DEM\n"
   ]
  },
  {
   "cell_type": "code",
   "execution_count": null,
   "metadata": {},
   "outputs": [],
   "source": [
    "# chek the attributes\n"
   ]
  },
  {
   "cell_type": "markdown",
   "metadata": {},
   "source": [
    "These are the number of columns and rows, the X and Y coordinate of the lower left corner of the map, the size of a cell, and a code given to cells with no data."
   ]
  },
  {
   "cell_type": "code",
   "execution_count": null,
   "metadata": {},
   "outputs": [],
   "source": [
    "# check what's inside dem\n"
   ]
  },
  {
   "cell_type": "markdown",
   "metadata": {},
   "source": [
    "We see nothing because all the displayed cells do not belong to the catchment, so they have no data. Let's better plot the map."
   ]
  },
  {
   "cell_type": "code",
   "execution_count": null,
   "metadata": {},
   "outputs": [],
   "source": [
    "# visualize the DEM\n"
   ]
  },
  {
   "cell_type": "code",
   "execution_count": null,
   "metadata": {},
   "outputs": [],
   "source": [
    "# minimum and maximum of the DEM\n"
   ]
  },
  {
   "cell_type": "markdown",
   "metadata": {},
   "source": [
    "#### Derive the hypsometric curve\n",
    "To  derive the hypsometric curve we have to define elevation thresholds and calculate, for each of them, the ratio betweem the area below that threshold and the total area of the catchment. Since all cells have the same area, we will use the number of cells as a measure of area."
   ]
  },
  {
   "cell_type": "code",
   "execution_count": null,
   "metadata": {},
   "outputs": [],
   "source": [
    "# define elevation thresholds\n"
   ]
  },
  {
   "cell_type": "code",
   "execution_count": null,
   "metadata": {},
   "outputs": [],
   "source": [
    "# total number of cells in the catchment\n"
   ]
  },
  {
   "cell_type": "markdown",
   "metadata": {},
   "source": [
    "__EXAMPLE: 100 m elevation threshold__"
   ]
  },
  {
   "cell_type": "code",
   "execution_count": null,
   "metadata": {},
   "outputs": [],
   "source": [
    "# set the threshold\n"
   ]
  },
  {
   "cell_type": "code",
   "execution_count": null,
   "metadata": {},
   "outputs": [],
   "source": [
    "# number of cells below 100 m elevation\n"
   ]
  },
  {
   "cell_type": "code",
   "execution_count": null,
   "metadata": {},
   "outputs": [],
   "source": [
    "# value in the hypsometric curve, i.e., fraction of catchment area below 'Z'\n"
   ]
  },
  {
   "cell_type": "markdown",
   "metadata": {},
   "source": [
    "__Loop for all elevation thresholds__"
   ]
  },
  {
   "cell_type": "code",
   "execution_count": null,
   "metadata": {},
   "outputs": [],
   "source": [
    "# pandas.Series where to save the data\n"
   ]
  },
  {
   "cell_type": "code",
   "execution_count": null,
   "metadata": {},
   "outputs": [],
   "source": [
    "# compute the hypsometric curve\n"
   ]
  },
  {
   "cell_type": "code",
   "execution_count": null,
   "metadata": {},
   "outputs": [],
   "source": [
    "# line plot\n",
    "\n",
    "\n",
    "\n",
    "plt.title('Hypsometric curve', fontsize=16, weight='bold')\n",
    "plt.xlabel('elevation (masl)', fontsize=13)\n",
    "plt.ylabel('area (-)', fontsize=13);"
   ]
  },
  {
   "cell_type": "markdown",
   "metadata": {},
   "source": [
    "#### Calculate weights\n",
    "The purpose of deriving the hypsometric curve is to give weights to each of the elevation bands. This weight is the fraction of the catchment area that lies between the two bounds of the elevation band. Using the hypsometric curve, it is the difference between the value of the curve for those two bounds.\n",
    "$$w_{z} = hypsometric_{z_j} - hypsometric_{z_i}$$\n",
    "where $z_j$ is the upper bound and $z_i$ is the lower bound of a given elevation band $z$."
   ]
  },
  {
   "cell_type": "code",
   "execution_count": null,
   "metadata": {},
   "outputs": [],
   "source": [
    "# compute the weight\n"
   ]
  },
  {
   "cell_type": "code",
   "execution_count": null,
   "metadata": {},
   "outputs": [],
   "source": [
    "# visualize weights\n",
    "\n",
    "\n",
    "plt.xlabel('elevation (masl)')\n",
    "plt.ylabel('$w_{z}$ (-)');"
   ]
  },
  {
   "cell_type": "markdown",
   "metadata": {},
   "source": [
    "### 2. Precipitation vs elevation\n",
    "The input precipitation data our daily records at several pluviometers within the catchment. With this data, we must estimate a value of mean annual precipitation for each elevation band.\n",
    "\n",
    "1. Estimate the mean annual precipitation at each station from the daily records.\n",
    "2. Use those estimates to calculate the mean annual precipitation at the elevation bands. To do it, we will use a linear regression between precipitation and elevation."
   ]
  },
  {
   "cell_type": "markdown",
   "metadata": {},
   "source": [
    "#### Import data"
   ]
  },
  {
   "cell_type": "code",
   "execution_count": null,
   "metadata": {},
   "outputs": [],
   "source": [
    "# Import precipitation data\n"
   ]
  },
  {
   "cell_type": "code",
   "execution_count": null,
   "metadata": {},
   "outputs": [],
   "source": [
    "# import the attributes of the stations\n"
   ]
  },
  {
   "cell_type": "markdown",
   "metadata": {},
   "source": [
    "#### Mean annual precipitation at the stations\n",
    "From the daily precipitation series we must estimate a value of mean annual precipitation for each station."
   ]
  },
  {
   "cell_type": "markdown",
   "metadata": {},
   "source": [
    "__EXAMPLE: station 1115__"
   ]
  },
  {
   "cell_type": "code",
   "execution_count": null,
   "metadata": {},
   "outputs": [],
   "source": []
  },
  {
   "cell_type": "code",
   "execution_count": null,
   "metadata": {},
   "outputs": [],
   "source": [
    "# visualize the data\n"
   ]
  },
  {
   "cell_type": "code",
   "execution_count": null,
   "metadata": {},
   "outputs": [],
   "source": [
    "# annual series of mean precipitation\n"
   ]
  },
  {
   "cell_type": "markdown",
   "metadata": {},
   "source": [
    "Some years (e.g. 1975) have a significantly lower value of mean precipitation, probably caused by the lack of data during a good deal of the year. Apart from that, in the previous plot we could observe gaps in the series. For both reasons, we may need to delete some years from the annual series, those with excessive missing data.\n",
    "\n",
    "We will calculate the number of days with data for each year and plot it."
   ]
  },
  {
   "cell_type": "code",
   "execution_count": null,
   "metadata": {},
   "outputs": [],
   "source": [
    "# number of days with data per year\n"
   ]
  },
  {
   "cell_type": "markdown",
   "metadata": {},
   "source": [
    "Now, we set a threshold on the number of days per year, and use only those years with enough data to calculate the mean annual precipitation."
   ]
  },
  {
   "cell_type": "code",
   "execution_count": null,
   "metadata": {},
   "outputs": [],
   "source": [
    "# set a threshold for the minimum number of days per year\n"
   ]
  },
  {
   "cell_type": "code",
   "execution_count": null,
   "metadata": {},
   "outputs": [],
   "source": [
    "# compute the mean annual precipitation for those years above the thresold\n"
   ]
  },
  {
   "cell_type": "code",
   "execution_count": null,
   "metadata": {},
   "outputs": [],
   "source": [
    "# what if we hadn't rejected years with poor data?\n"
   ]
  },
  {
   "cell_type": "markdown",
   "metadata": {},
   "source": [
    "#### Loop for all the stations"
   ]
  },
  {
   "cell_type": "code",
   "execution_count": null,
   "metadata": {},
   "outputs": [],
   "source": [
    "# annual series of mean precipitation\n"
   ]
  },
  {
   "cell_type": "code",
   "execution_count": null,
   "metadata": {},
   "outputs": [],
   "source": [
    "# number of days with data per year\n"
   ]
  },
  {
   "cell_type": "code",
   "execution_count": null,
   "metadata": {},
   "outputs": [],
   "source": [
    "# series where to save the mean annual precipitation\n"
   ]
  },
  {
   "cell_type": "code",
   "execution_count": null,
   "metadata": {},
   "outputs": [],
   "source": [
    "# compute mean annual precipitation\n"
   ]
  },
  {
   "cell_type": "code",
   "execution_count": null,
   "metadata": {},
   "outputs": [],
   "source": [
    "# add the mean annual precipitation to 'stns'\n"
   ]
  },
  {
   "cell_type": "code",
   "execution_count": null,
   "metadata": {},
   "outputs": [],
   "source": [
    "# visualize data\n"
   ]
  },
  {
   "cell_type": "markdown",
   "metadata": {},
   "source": [
    "#### Linear regression\n",
    "The linear regression follows the equation:\n",
    "\n",
    "$$P_{an} = m·Z+n$$\n",
    "\n",
    "Where $_{an}$ is mean annual precipitation (mm) at a point with altitude $Z$ (m.a.s.l), and $m$ and $n$ are the slope and intercept of the regressed line, respectively.\n",
    "\n",
    "We will use the function `linregress` in `scipy.stats` to perform the linear regressión between elevation ($Z$) and mean anual precipitation ($P_{an}$). This function provides us both with the two coefficientes of the linear regression and some performance metrics."
   ]
  },
  {
   "cell_type": "code",
   "execution_count": null,
   "metadata": {},
   "outputs": [],
   "source": [
    "# import the function\n"
   ]
  },
  {
   "cell_type": "code",
   "execution_count": null,
   "metadata": {},
   "outputs": [],
   "source": [
    "# fit the linear regression\n"
   ]
  },
  {
   "cell_type": "code",
   "execution_count": null,
   "metadata": {},
   "outputs": [],
   "source": [
    "# check performance\n"
   ]
  },
  {
   "cell_type": "markdown",
   "metadata": {},
   "source": [
    "Where $R$ is the Pearsons's correlation coefficient, $p_{value}$ is a metric of the confidence that the regression is statistically significant (if $p_{value} \\leq 0.05$), and $std-error$ is the standard error."
   ]
  },
  {
   "cell_type": "code",
   "execution_count": null,
   "metadata": {},
   "outputs": [],
   "source": [
    "# plot the regression between elevation and annual precipitation\n",
    "\n",
    "# recta de regresión\n",
    "\n",
    "\n",
    "\n",
    "# configuración\n",
    "plt.xlabel('altitud (msnm)', fontsize=13)\n",
    "plt.xlim(xlim)\n",
    "plt.ylabel('Panual (mm)', fontsize=13)\n",
    "plt.ylim(0, 2500);\n",
    "\n",
    "# guardar la figura\n",
    "plt.savefig('../output/Ex4_linear regression Z-Pannual.png', dpi=300)"
   ]
  },
  {
   "cell_type": "markdown",
   "metadata": {},
   "source": [
    "As in this case, it is usual that the meteorological stations are located in lower areas of the catchment, basically for accessibility reasons. Therefore, the importance of this linear regression to estimate the precipitation at the higher areas of the cathcment. Otherwise, we would underestimate areal precipitation."
   ]
  },
  {
   "cell_type": "markdown",
   "metadata": {},
   "source": [
    "#### Estimate precipitation for each elevation band\n",
    "We have fitted the linear regression with the intention of interpolating mean annual precipitation for each of the elevation bands in the hypsometric curve."
   ]
  },
  {
   "cell_type": "code",
   "execution_count": null,
   "metadata": {},
   "outputs": [],
   "source": [
    "# interpolate mean annual precipitation for each band\n"
   ]
  },
  {
   "cell_type": "markdown",
   "metadata": {},
   "source": [
    "### 3. Areal precipitation\n",
    "Once we have computed the weights (_weights_) and the mean annual precipitation (_Pz_) for each elevation band, the areal precipitation is the summation of the product of those two series."
   ]
  },
  {
   "cell_type": "code",
   "execution_count": null,
   "metadata": {},
   "outputs": [],
   "source": [
    "\n",
    "\n",
    "print('The mean annual precipitation in the catchment is {0:.1f} mm'.format(Pareal))"
   ]
  },
  {
   "cell_type": "markdown",
   "metadata": {},
   "source": [
    "If we had calculated the areal precipitation by the station-average method (see exercise 1), we would've underestimated the areal precipitation in the catchment. The reason is the fact that most of the stations are located in lower areas."
   ]
  },
  {
   "cell_type": "code",
   "execution_count": null,
   "metadata": {},
   "outputs": [],
   "source": [
    "\n",
    "\n",
    "print('The mean annual precipitation in the catchment is {0:.1f} mm'.format(Pareal2))"
   ]
  }
 ],
 "metadata": {
  "anaconda-cloud": {},
  "kernelspec": {
   "display_name": "Python 3",
   "language": "python",
   "name": "python3"
  },
  "language_info": {
   "codemirror_mode": {
    "name": "ipython",
    "version": 3
   },
   "file_extension": ".py",
   "mimetype": "text/x-python",
   "name": "python",
   "nbconvert_exporter": "python",
   "pygments_lexer": "ipython3",
   "version": "3.7.3"
  },
  "varInspector": {
   "cols": {
    "lenName": 16,
    "lenType": 16,
    "lenVar": 40
   },
   "kernels_config": {
    "python": {
     "delete_cmd_postfix": "",
     "delete_cmd_prefix": "del ",
     "library": "var_list.py",
     "varRefreshCmd": "print(var_dic_list())"
    },
    "r": {
     "delete_cmd_postfix": ") ",
     "delete_cmd_prefix": "rm(",
     "library": "var_list.r",
     "varRefreshCmd": "cat(var_dic_list()) "
    }
   },
   "position": {
    "height": "255px",
    "left": "634px",
    "right": "20px",
    "top": "118px",
    "width": "350px"
   },
   "types_to_exclude": [
    "module",
    "function",
    "builtin_function_or_method",
    "instance",
    "_Feature"
   ],
   "window_display": false
  }
 },
 "nbformat": 4,
 "nbformat_minor": 4
}
