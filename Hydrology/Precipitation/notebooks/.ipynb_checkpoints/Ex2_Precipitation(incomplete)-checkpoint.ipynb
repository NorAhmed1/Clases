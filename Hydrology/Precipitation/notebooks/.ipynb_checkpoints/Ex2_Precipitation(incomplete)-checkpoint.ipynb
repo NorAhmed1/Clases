{
 "cells": [
  {
   "cell_type": "markdown",
   "metadata": {},
   "source": [
    "# Precipitation exercises\n",
    "***\n",
    "\n",
    "## <font color=steelblue>Exercise 2 - Double-mass curve<br>\n",
    "\n",
    "<font color=steelblue>The table *2MassCurve* in the file *RainfallData.xlsx* provides annual precipitation measured over a 17-year period at five gages in a region. Gage C was moved at the end of 1977. Carry out a double-mass curve analysis to check for consistency in the record of that gage C, and make appropriate adjustments to correct for any inconsistencies.</font>"
   ]
  },
  {
   "cell_type": "code",
   "execution_count": null,
   "metadata": {},
   "outputs": [],
   "source": [
    "import numpy as np\n",
    "\n",
    "import pandas as pd\n",
    "\n",
    "import matplotlib.pyplot as plt\n",
    "import seaborn as sns\n",
    "sns.set()\n",
    "sns.set_context('notebook')"
   ]
  },
  {
   "cell_type": "markdown",
   "metadata": {},
   "source": [
    "## Introduction\n",
    "A **double mass curve** is a plot of the cumulative data of one variable against the cumulative data of another variable (or against the average cumulative values of the same variable in different locations) during the same period.\n",
    "    \n",
    "<img src=\"img/Double mass curve.JPG\" alt=\"Mountain View\" style=\"width:450px\">\n",
    "\n",
    "> <font color=grey>Double-mass curve of precipitation data. *[(Double-Mass Curves. USGS, 1960)](https://pubs.usgs.gov/wsp/1541b/report.pdf)*.</font>\n",
    "    \n",
    "If no change occurred during the period, the plot must be a straight line in which slope is the constant of proportionality between series. A break in the slope means that a change in the constant of proportionality.\n",
    "\n",
    "The double-mass curve, when applied to precipitation, adopts the form $Y=m \\cdot X$, where $b$ is the slope. This form implies that the line should not have an intercept."
   ]
  },
  {
   "cell_type": "markdown",
   "metadata": {},
   "source": [
    "### Import data"
   ]
  },
  {
   "cell_type": "code",
   "execution_count": null,
   "metadata": {},
   "outputs": [],
   "source": [
    "# import data from sheet '2MassCurve' in file 'RainfallData.xlxs'\n"
   ]
  },
  {
   "cell_type": "markdown",
   "metadata": {},
   "source": [
    "### The double-mass curve"
   ]
  },
  {
   "cell_type": "code",
   "execution_count": null,
   "metadata": {},
   "outputs": [],
   "source": [
    "# compute annual average across all gages\n"
   ]
  },
  {
   "cell_type": "markdown",
   "metadata": {},
   "source": [
    "__Visualize the data__\n",
    "We will create first a scatter plot comparing the annual series of precipitation in gage C against the average across gages. "
   ]
  },
  {
   "cell_type": "code",
   "execution_count": null,
   "metadata": {},
   "outputs": [],
   "source": [
    "# scatter plot of annual precipitation\n"
   ]
  },
  {
   "cell_type": "markdown",
   "metadata": {},
   "source": [
    "This type of plot has a large dispersion, so it isn't convenient to spot anomalies. We can neither see trends nor the year with possible errors in the data set.\n",
    "\n",
    "Instead, we will plot a __double mass curve__. This plot  is created from the series of __accumulated precipitation__. This way, the plot must have always a positive and continues trend, allowing us to identity anomalies in the precipitation records."
   ]
  },
  {
   "cell_type": "markdown",
   "metadata": {},
   "source": [
    "The function `cumsum` in `NumPy` calculates the accumulated series from a series of data. For instance:"
   ]
  },
  {
   "cell_type": "code",
   "execution_count": null,
   "metadata": {},
   "outputs": [],
   "source": [
    "# annual series of accumulated precipitation\n"
   ]
  },
  {
   "cell_type": "markdown",
   "metadata": {},
   "source": [
    "To avoid duplication of data, we will not save the previous accumulated series, but we will be using the function `cumsum` very often in the following.\n",
    "\n",
    "Let's plot the double-mass curve for station C."
   ]
  },
  {
   "cell_type": "code",
   "execution_count": null,
   "metadata": {},
   "outputs": [],
   "source": [
    "plt.figure(figsize=(5, 5))\n",
    "# line of slope 1\n",
    "\n",
    "# double-mass curve\n",
    "\n",
    "# year 1978\n",
    "\n",
    "\n",
    "# configuration\n",
    "plt.axis('equal')\n",
    "plt.xlabel('average across gages')\n",
    "plt.ylabel('gage C')\n",
    "plt.legend();"
   ]
  },
  {
   "cell_type": "markdown",
   "metadata": {},
   "source": [
    "We can clearly observe a break in the line in year from year 1918 onwards, exactly matching the year in which the station C was moved.\n",
    "\n",
    "### Correct series\n",
    "To correct the series we must decide whether we trust the data before or after the break in the double-mass curve. For that, we would need further information about the location and instruments used. In this exercise, we will assume that the data up till 1978 is the one we trust the most, and we will fix the series from 1979 on.\n",
    "\n",
    "The steps are the following:\n",
    "1. Calculate the slope of the first part of the double-mass curve ($m_1$).\n",
    "2. Calculate the slope of the second part of the double-mass curve ($m_2$).\n",
    "3. Correct the series. Assuming that the correct slope is $m_1$, the corrected precipitation $P_c$ for the observed data $P_o$ is:\n",
    "$$P_c = \\frac{m_1}{m_2} \\cdot P_o$$\n",
    "\n",
    "Therefore, we need to learn how to fit the slope of a linear regression of the form $y = m\\cdot x$. We will first define a function that represents that form of the linear regression and later on we will use the function `scipy.optimize.curve_fit` to fit the slope $m$."
   ]
  },
  {
   "cell_type": "code",
   "execution_count": null,
   "metadata": {},
   "outputs": [],
   "source": [
    "# linear regression function\n"
   ]
  },
  {
   "cell_type": "code",
   "execution_count": null,
   "metadata": {},
   "outputs": [],
   "source": [
    "# import function scipy.optimize.curve_fit\n"
   ]
  },
  {
   "cell_type": "markdown",
   "metadata": {},
   "source": [
    "#### Fit the regression for the first part\n",
    "This first time we will do it step by step."
   ]
  },
  {
   "cell_type": "code",
   "execution_count": null,
   "metadata": {},
   "outputs": [],
   "source": [
    "# define x and y in the linear regression\n"
   ]
  },
  {
   "cell_type": "code",
   "execution_count": null,
   "metadata": {},
   "outputs": [],
   "source": [
    "# compute cumulative series\n"
   ]
  },
  {
   "cell_type": "code",
   "execution_count": null,
   "metadata": {},
   "outputs": [],
   "source": [
    "# fit the regression up till 1978\n"
   ]
  },
  {
   "cell_type": "code",
   "execution_count": null,
   "metadata": {},
   "outputs": [],
   "source": [
    "plt.figure(figsize=(5, 5))\n",
    "# linear regression\n",
    "\n",
    "\n",
    "# double-mass curve\n",
    "\n",
    "\n",
    "# configuration\n",
    "plt.axis('equal')\n",
    "plt.xlabel('average across gages')\n",
    "plt.ylabel('gage C')\n",
    "plt.legend();"
   ]
  },
  {
   "cell_type": "markdown",
   "metadata": {},
   "source": [
    "#### Fit the regression for the second part"
   ]
  },
  {
   "cell_type": "code",
   "execution_count": null,
   "metadata": {},
   "outputs": [],
   "source": [
    "# fit the regression from 1978 onwards\n"
   ]
  },
  {
   "cell_type": "markdown",
   "metadata": {},
   "source": [
    "#### Correct the data"
   ]
  },
  {
   "cell_type": "code",
   "execution_count": null,
   "metadata": {},
   "outputs": [],
   "source": [
    "# correction factor\n"
   ]
  },
  {
   "cell_type": "code",
   "execution_count": null,
   "metadata": {},
   "outputs": [],
   "source": [
    "# copy the original data in a new column\n",
    "\n",
    "#multiply the second period by the correction factor\n"
   ]
  },
  {
   "cell_type": "code",
   "execution_count": null,
   "metadata": {},
   "outputs": [],
   "source": [
    "plt.figure(figsize=(5, 5))\n",
    "# line of slope 1\n",
    "\n",
    "# double-mass curve\n",
    "\n",
    "\n",
    "# year 1978\n",
    "\n",
    "\n",
    "# configuration\n",
    "plt.axis('equal')\n",
    "plt.xlabel('average across gages')\n",
    "plt.ylabel('gage C')\n",
    "plt.legend();\n",
    "\n",
    "# save figure\n",
    "plt.savefig('../output/Ex2_double-mass curve.png', dpi=300)"
   ]
  },
  {
   "cell_type": "markdown",
   "metadata": {},
   "source": [
    "### Useful links:\n",
    "[USGS report on double-mass curves](https://pubs.usgs.gov/wsp/1541b/report.pdf)<br>\n",
    "[`SciPy.optimize.curve_fit` help](https://docs.scipy.org/doc/scipy/reference/generated/scipy.optimize.curve_fit.html)"
   ]
  },
  {
   "cell_type": "code",
   "execution_count": null,
   "metadata": {},
   "outputs": [],
   "source": []
  }
 ],
 "metadata": {
  "anaconda-cloud": {},
  "kernelspec": {
   "display_name": "Python 3",
   "language": "python",
   "name": "python3"
  },
  "language_info": {
   "codemirror_mode": {
    "name": "ipython",
    "version": 3
   },
   "file_extension": ".py",
   "mimetype": "text/x-python",
   "name": "python",
   "nbconvert_exporter": "python",
   "pygments_lexer": "ipython3",
   "version": "3.7.3"
  },
  "varInspector": {
   "cols": {
    "lenName": 16,
    "lenType": 16,
    "lenVar": 40
   },
   "kernels_config": {
    "python": {
     "delete_cmd_postfix": "",
     "delete_cmd_prefix": "del ",
     "library": "var_list.py",
     "varRefreshCmd": "print(var_dic_list())"
    },
    "r": {
     "delete_cmd_postfix": ") ",
     "delete_cmd_prefix": "rm(",
     "library": "var_list.r",
     "varRefreshCmd": "cat(var_dic_list()) "
    }
   },
   "position": {
    "height": "255px",
    "left": "634px",
    "right": "20px",
    "top": "118px",
    "width": "350px"
   },
   "types_to_exclude": [
    "module",
    "function",
    "builtin_function_or_method",
    "instance",
    "_Feature"
   ],
   "window_display": false
  }
 },
 "nbformat": 4,
 "nbformat_minor": 4
}
