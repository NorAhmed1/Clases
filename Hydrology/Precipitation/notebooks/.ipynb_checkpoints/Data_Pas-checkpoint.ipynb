{
 "cells": [
  {
   "cell_type": "code",
   "execution_count": null,
   "metadata": {},
   "outputs": [],
   "source": [
    "import os\n",
    "rutaBase = os.getcwd().replace('\\\\', '/') + '/'"
   ]
  },
  {
   "cell_type": "code",
   "execution_count": null,
   "metadata": {},
   "outputs": [],
   "source": [
    "import numpy as np\n",
    "import pandas as pd\n",
    "import matplotlib.pyplot as plt\n",
    "import seaborn as sns\n",
    "sns.set()"
   ]
  },
  {
   "cell_type": "code",
   "execution_count": null,
   "metadata": {},
   "outputs": [],
   "source": [
    "rutaMETEO = 'F:/OneDrive - Universidad de Cantabria/Series/AEMET/2016_pet080_UNICAN/data/Precipitacion/'\n",
    "METEO = pd.read_csv(rutaMETEO + 'pcp_1950.csv', parse_dates=True, index_col=0)"
   ]
  },
  {
   "cell_type": "code",
   "execution_count": null,
   "metadata": {},
   "outputs": [],
   "source": [
    "stns = ['1115', '1117B', '1120', '1122I', '1127', '1127U', '1128', '1129']#, '1124'\n",
    "#stns = ['1131I', '1136A', '1139E', '1140', '1144', '1151']"
   ]
  },
  {
   "cell_type": "code",
   "execution_count": null,
   "metadata": {},
   "outputs": [],
   "source": [
    "attrs = pd.read_csv(rutaMETEO + 'Estaciones_pcp.csv', encoding='latin1', index_col=0)\n",
    "attrs = attrs.loc[stns,:]\n",
    "attrs"
   ]
  },
  {
   "cell_type": "code",
   "execution_count": null,
   "metadata": {},
   "outputs": [],
   "source": [
    "attrs = attrs.loc[:,['NOMBRE', 'NOM_PROV', 'C_X', 'C_Y', 'ALTITUD']]\n",
    "attrs.columns = ['NAME', 'PROVINCE', 'X', 'Y', 'Z']\n",
    "attrs.index.name = 'CODE'\n",
    "attrs"
   ]
  },
  {
   "cell_type": "code",
   "execution_count": null,
   "metadata": {},
   "outputs": [],
   "source": [
    "attrs.to_csv('../data/stations_pas.csv')"
   ]
  },
  {
   "cell_type": "code",
   "execution_count": null,
   "metadata": {},
   "outputs": [],
   "source": [
    "pcp_d.to_csv('../data/daily_rainfall_Pas.csv', float_format='%.1f')"
   ]
  },
  {
   "cell_type": "code",
   "execution_count": null,
   "metadata": {},
   "outputs": [],
   "source": [
    "pcp_d = METEO.loc[:, stns]\n",
    "pcp_d /= 10"
   ]
  },
  {
   "cell_type": "code",
   "execution_count": null,
   "metadata": {},
   "outputs": [],
   "source": [
    "pcp_d.count()"
   ]
  },
  {
   "cell_type": "code",
   "execution_count": null,
   "metadata": {},
   "outputs": [],
   "source": [
    "annualMean = pcp_d.groupby(pcp_d.index.year).mean()\n",
    "annualMean.head()"
   ]
  },
  {
   "cell_type": "code",
   "execution_count": null,
   "metadata": {},
   "outputs": [],
   "source": [
    "daysYear = pcp_d.groupby(pcp_d.index.year).count()\n",
    "daysYear.head()"
   ]
  },
  {
   "cell_type": "code",
   "execution_count": null,
   "metadata": {},
   "outputs": [],
   "source": [
    "stn = stns[0]"
   ]
  },
  {
   "cell_type": "code",
   "execution_count": null,
   "metadata": {},
   "outputs": [],
   "source": [
    "plt.plot(annualMean[stn])"
   ]
  },
  {
   "cell_type": "code",
   "execution_count": null,
   "metadata": {},
   "outputs": [],
   "source": [
    "plt.plot(daysYear[stn])"
   ]
  },
  {
   "cell_type": "code",
   "execution_count": null,
   "metadata": {},
   "outputs": [],
   "source": [
    "annualMean.loc[daysYear[stn] > 330, stn].mean() * 365"
   ]
  },
  {
   "cell_type": "code",
   "execution_count": null,
   "metadata": {},
   "outputs": [],
   "source": [
    "Pan = pd.Series(index=stns)\n",
    "for stn in stns:\n",
    "    Pan[stn] = annualMean.loc[daysYear[stn] > 330, stn].mean() * 365\n",
    "Pan"
   ]
  },
  {
   "cell_type": "code",
   "execution_count": null,
   "metadata": {},
   "outputs": [],
   "source": [
    "data = pd.concat((attrs.ALTITUD, Pan), axis=1)\n",
    "data.columns = ['Z', 'Pan']"
   ]
  },
  {
   "cell_type": "code",
   "execution_count": null,
   "metadata": {},
   "outputs": [],
   "source": [
    "from scipy.stats import linregress"
   ]
  },
  {
   "cell_type": "code",
   "execution_count": null,
   "metadata": {},
   "outputs": [],
   "source": [
    "# fit the linear regression\n",
    "m, n, *perf = linregress(data.Z, data.Pan)\n",
    "print('P = {0:.3f} Z + {1:.3f}'.format(m, n))"
   ]
  },
  {
   "cell_type": "code",
   "execution_count": null,
   "metadata": {},
   "outputs": [],
   "source": [
    "perf"
   ]
  },
  {
   "cell_type": "code",
   "execution_count": null,
   "metadata": {},
   "outputs": [],
   "source": [
    "# plot the regression between elevation and annual precipitation\n",
    "plt.scatter(data.Z, data.Pan)\n",
    "# recta de regresión\n",
    "xlim = np.array([0, 1000])#ypso.Z.max()])\n",
    "plt.plot(xlim, m * xlim + n, 'k--')\n",
    "# configuración\n",
    "plt.title('', fontsize=16, weight='bold')\n",
    "plt.xlabel('altitud (msnm)', fontsize=13)\n",
    "plt.xlim(xlim)\n",
    "plt.ylabel('Panual (mm)', fontsize=13)\n",
    "plt.ylim(0, 2200);\n",
    "\n",
    "# guardar la figura\n",
    "#plt.savefig('../output/Ex4_linear regression Z-Pannual.png', dpi=300)"
   ]
  },
  {
   "cell_type": "markdown",
   "metadata": {},
   "source": [
    "DEM"
   ]
  },
  {
   "cell_type": "code",
   "execution_count": null,
   "metadata": {},
   "outputs": [],
   "source": [
    "def read_ascii(filename, datatype='float'):\n",
    "    \"\"\"Import an ASCII file. Data is saved as a 2D numpy array and the attributes as integers or floating point numbers.\n",
    "    \n",
    "    Parameters:\n",
    "    -----------\n",
    "    filename:     string. Name (including path and extension) of the ASCII file\n",
    "    \n",
    "    Output:\n",
    "    -------\n",
    "    Results are given as methods of the function\n",
    "\tattributes:   list. A list of six attributes: \n",
    "\t\t\t\t\t\tncols:        int. Number of columns\n",
    "\t\t\t\t\t\tnrows:        int. Number of rows\n",
    "\t\t\t\t\t\txllcorner:    float. X coordinate of the left lower corner\n",
    "\t\t\t\t\t\tyllcorner:    float. Y coordinate of the left lower corner\n",
    "\t\t\t\t\t\tcellsize:     int. Spatial discretization\n",
    "\t\t\t\t\t\tNODATA_value: float. Value representing no data\n",
    "\tdata:         naddary[nrows,ncols]. The data in the map\"\"\"\n",
    "    \n",
    "    with open(filename, 'r+') as file:\n",
    "        # import all the lines in the file\n",
    "        asc = file.readlines()\n",
    "        # extract attributes\n",
    "        ncols = int(asc[0].split()[1])\n",
    "        nrows = int(asc[1].split()[1])\n",
    "        xllcorner = float(asc[2].split()[1])\n",
    "        yllcorner = float(asc[3].split()[1])\n",
    "        cellsize = int(asc[4].split()[1])\n",
    "        NODATA_value = float(asc[5].split()[1])\n",
    "        attributes = [ncols, nrows, xllcorner, yllcorner, cellsize, NODATA_value]\n",
    "        # extract data\n",
    "        data = np.zeros((nrows, ncols))\n",
    "        for i in range(nrows):\n",
    "            data[i, :] = asc[i + 6].split()\n",
    "        data[data == NODATA_value] = np.nan\n",
    "        #data = np.ma.masked_invalid(data)\n",
    "        data = data.astype(datatype)\n",
    "    file.close()    \n",
    "    \n",
    "    return data, attributes"
   ]
  },
  {
   "cell_type": "code",
   "execution_count": null,
   "metadata": {},
   "outputs": [],
   "source": [
    "def write_ascii(filename, data, attributes, format='%.0f '):\n",
    "    \"\"\"Export a 2D numpy array and its corresponding attributes as an ascii raster.\n",
    "    \n",
    "    Parameters:\n",
    "    -----------\n",
    "    filename:     string. Name (including path and extension) of the ASCII file\n",
    "\tdata:         narray. 2D array with the data to be exported\n",
    "\tattributes:   narray[6x1]. Array including the following information: ncols, nrows, xllcorner, yllcorner, cellsize, NODATA_value\n",
    "    format:       string. Format in which the values in 'data' will be exported\n",
    "    \n",
    "\tOutput:\n",
    "    -------\n",
    "    An .asc raster file\"\"\"\n",
    "    \n",
    "    aux = data.copy()\n",
    "    \n",
    "    # unmask data if masked\n",
    "    if np.ma.is_masked(aux):\n",
    "        np.ma.set_fill_value(aux, attributes[5])\n",
    "        aux = aux.filled()\n",
    "    \n",
    "    # convert NaN to NODATA_value\n",
    "    aux[np.isnan(aux)] = attributes[5]\n",
    "    \n",
    "    # export ascii\n",
    "    with open(filename, 'w+') as file:\n",
    "        # write attributes\n",
    "        file.write('ncols\\t\\t{0:<8}\\n'.format(attributes[0]))\n",
    "        file.write('nrows\\t\\t{0:<8}\\n'.format(attributes[1]))\n",
    "        file.write('xllcorner\\t{0:<8}\\n'.format(attributes[2]))\n",
    "        file.write('yllcorner\\t{0:<8}\\n'.format(attributes[3]))\n",
    "        file.write('cellsize\\t{0:<8}\\n'.format(attributes[4]))\n",
    "        file.write('NODATA_value\\t{0:<8}\\n'.format(attributes[5]))\n",
    "        # write data\n",
    "        for i in range(aux.shape[0]):\n",
    "            #values = df.iloc[i, 6:].tolist()\n",
    "            values = aux[i, :].tolist()\n",
    "            file.writelines([format % item  for item in values])\n",
    "            file.write(\"\\n\")\n",
    "            \n",
    "    file.close()"
   ]
  },
  {
   "cell_type": "code",
   "execution_count": null,
   "metadata": {},
   "outputs": [],
   "source": [
    "dem, attributes = read_ascii('../data/dem_pas2.asc', datatype='float')\n",
    "dem.shape"
   ]
  },
  {
   "cell_type": "code",
   "execution_count": null,
   "metadata": {},
   "outputs": [],
   "source": [
    "im = plt.imshow(dem, cmap='pink')\n",
    "cb = plt.colorbar(im)\n",
    "cb.set_label('elevation (masl)')\n",
    "plt.axis('off');"
   ]
  },
  {
   "cell_type": "code",
   "execution_count": null,
   "metadata": {},
   "outputs": [],
   "source": [
    "np.nanmin(dem), np.nanmax(dem)"
   ]
  },
  {
   "cell_type": "code",
   "execution_count": null,
   "metadata": {},
   "outputs": [],
   "source": [
    "ncells = np.sum(~np.isnan(dem))\n",
    "ncells"
   ]
  },
  {
   "cell_type": "code",
   "execution_count": null,
   "metadata": {},
   "outputs": [],
   "source": [
    "Zs = np.arange(start=0, stop=1701, step=100)\n",
    "Zs"
   ]
  },
  {
   "cell_type": "code",
   "execution_count": null,
   "metadata": {},
   "outputs": [],
   "source": [
    "hypso = pd.DataFrame(index=Zs, columns=['Aac', 'A'])\n",
    "for Z in Zs:\n",
    "    hypso.loc[Z, 'Aac'] = np.sum(dem < Z) / ncells\n",
    "    #hypso.loc[Z, 'A'] = ((np.sum(dem < Z) - np.sum(dem < Z - 100))) / ncells\n",
    "hypso"
   ]
  },
  {
   "cell_type": "code",
   "execution_count": null,
   "metadata": {},
   "outputs": [],
   "source": [
    "area = pd.Series(index=Zs)\n",
    "for Z in Zs:\n",
    "    area[Z] = (np.sum(dem < Z) - np.sum(dem < Z - 100))"
   ]
  },
  {
   "cell_type": "code",
   "execution_count": null,
   "metadata": {},
   "outputs": [],
   "source": [
    "plt.plot(Zs, hypso.Aac)\n",
    "plt.title('Hypsometric curve', fontsize=16, weight='bold')\n",
    "plt.xlabel('elevation (masl)', fontsize=13)\n",
    "plt.ylabel('area (-)', fontsize=13);"
   ]
  },
  {
   "cell_type": "code",
   "execution_count": null,
   "metadata": {},
   "outputs": [],
   "source": []
  }
 ],
 "metadata": {
  "kernelspec": {
   "display_name": "Python 3",
   "language": "python",
   "name": "python3"
  },
  "language_info": {
   "codemirror_mode": {
    "name": "ipython",
    "version": 3
   },
   "file_extension": ".py",
   "mimetype": "text/x-python",
   "name": "python",
   "nbconvert_exporter": "python",
   "pygments_lexer": "ipython3",
   "version": "3.7.3"
  }
 },
 "nbformat": 4,
 "nbformat_minor": 4
}
