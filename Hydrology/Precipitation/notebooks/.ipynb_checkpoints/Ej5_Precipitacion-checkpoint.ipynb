{
 "cells": [
  {
   "cell_type": "markdown",
   "metadata": {},
   "source": [
    "# Ejercicios de precipitación\n",
    "\n",
    "## <font color=steelblue>Exercise 5 - Curva intensidad-duración-frecuencia\n",
    "\n",
    "<font color=steelblue>Construye la curva IDF (intensidad-duración-frecuencia) a partir de la información en la tabla *ChiAnnMax* del archivo *RainfallData.xlsx*.<tfont>"
   ]
  },
  {
   "cell_type": "code",
   "execution_count": 1,
   "metadata": {},
   "outputs": [],
   "source": [
    "import numpy as np\n",
    "\n",
    "import pandas as pd\n",
    "\n",
    "from matplotlib import pyplot as plt\n",
    "%matplotlib inline\n",
    "plt.style.use('dark_background')\n",
    "#plt.style.use('seaborn-whitegrid')\n",
    "\n",
    "from scipy.stats import genextreme\n",
    "from scipy.optimize import curve_fit"
   ]
  },
  {
   "cell_type": "markdown",
   "metadata": {},
   "source": [
    "Las **curvas de intensidad-duración-frecuencia (IDF)** son una aproximación habitual en los proyectos de hidrología para definir las tormentas de diseño. Las curvas IDF relacionan la intensidad de la precipitación, con su duración y su frecuencia de ocurrencia (expresada como periodo de retorno).\n",
    " \n",
    "<img src=\"img/IDF curves.JPG\" alt=\"Mountain View\" style=\"width:500px\">\n",
    "\n",
    "> <font color=grey>Curva de intensidad-duración-frecuenca para la ciudad de Oklahoma. *(Applied Hydrology. Chow, 1988)*\n",
    "\n",
    "Cuando se va a diseñar una estructura hidráulica (puente, drenaje, presa...), es necesario conocer la intensidad máxima de precipitación que puede ocurrir para un periodo de retorno y una duración de la tormenta. El periodo de retorno suele estar definido por la normativa para cada tipo de estructura; el peor escenario de duración de la tormenta es el tiempo de concentración de la cuenca de drenaje de la estructura.\n",
    "\n",
    "**Curvas IDF empíricas**<br>\n",
    "Para construir las curvas IDF a partir de datos locales, se lleva a cabo un análisis de frecuencia de extremos. Los valores de entrada son la serie anual de máxima intensidad de precipitación para diversas duraciones de tormenta. La serie correspondiente a cada duración se ajusta a una función de distribución de valores extremos para estimar el periodo de retorno. \n",
    "\n",
    "**Curvas IDF analíticas**\n",
    "Para generar las curvas IDF analíticas no es necesario el análisis de frecuencia de extremos anterior. En su lugar, se ajusta una ecuación representativa de la curva IDF a las observaciones.\n"
   ]
  },
  {
   "cell_type": "markdown",
   "metadata": {},
   "source": [
    "### Importación y  análisis de datos\n",
    "Para generar las curvas de intensidad-duración-frecuencia se necesitan los máximos anuales de precipitación acumulada a distintas duraciones. En nuestro caso estudiaremos eventos de duración 1, 6 y 24 horas."
   ]
  },
  {
   "cell_type": "code",
   "execution_count": 2,
   "metadata": {},
   "outputs": [
    {
     "data": {
      "text/html": [
       "<div>\n",
       "<style scoped>\n",
       "    .dataframe tbody tr th:only-of-type {\n",
       "        vertical-align: middle;\n",
       "    }\n",
       "\n",
       "    .dataframe tbody tr th {\n",
       "        vertical-align: top;\n",
       "    }\n",
       "\n",
       "    .dataframe thead th {\n",
       "        text-align: right;\n",
       "    }\n",
       "</style>\n",
       "<table border=\"1\" class=\"dataframe\">\n",
       "  <thead>\n",
       "    <tr style=\"text-align: right;\">\n",
       "      <th></th>\n",
       "      <th>1</th>\n",
       "      <th>6</th>\n",
       "      <th>24</th>\n",
       "    </tr>\n",
       "    <tr>\n",
       "      <th>Year</th>\n",
       "      <th></th>\n",
       "      <th></th>\n",
       "      <th></th>\n",
       "    </tr>\n",
       "  </thead>\n",
       "  <tbody>\n",
       "    <tr>\n",
       "      <th>1949</th>\n",
       "      <td>20.066</td>\n",
       "      <td>6.688667</td>\n",
       "      <td>2.889250</td>\n",
       "    </tr>\n",
       "    <tr>\n",
       "      <th>1950</th>\n",
       "      <td>42.926</td>\n",
       "      <td>10.583333</td>\n",
       "      <td>3.714750</td>\n",
       "    </tr>\n",
       "    <tr>\n",
       "      <th>1951</th>\n",
       "      <td>38.100</td>\n",
       "      <td>9.101667</td>\n",
       "      <td>3.090333</td>\n",
       "    </tr>\n",
       "    <tr>\n",
       "      <th>1952</th>\n",
       "      <td>30.226</td>\n",
       "      <td>6.773333</td>\n",
       "      <td>1.693333</td>\n",
       "    </tr>\n",
       "    <tr>\n",
       "      <th>1953</th>\n",
       "      <td>25.908</td>\n",
       "      <td>10.244667</td>\n",
       "      <td>2.561167</td>\n",
       "    </tr>\n",
       "  </tbody>\n",
       "</table>\n",
       "</div>"
      ],
      "text/plain": [
       "          1          6         24\n",
       "Year                             \n",
       "1949  20.066   6.688667  2.889250\n",
       "1950  42.926  10.583333  3.714750\n",
       "1951  38.100   9.101667  3.090333\n",
       "1952  30.226   6.773333  1.693333\n",
       "1953  25.908  10.244667  2.561167"
      ]
     },
     "execution_count": 2,
     "metadata": {},
     "output_type": "execute_result"
    }
   ],
   "source": [
    "# Cargar los datos de intensidad\n",
    "intensity = pd.read_excel('../data/RainfallData.xlsx', sheet_name='ChiAnnMax', skiprows=7,\n",
    "                          usecols=[0, 5, 6, 7], index_col='Year')\n",
    "# Convertir datos de pulgadas a mm\n",
    "intensity = intensity * 25.4\n",
    "# Corregir columnas\n",
    "D = np.array([1, 6 , 24]) # duración de la tormenta\n",
    "intensity.columns = D\n",
    "intensity.head()"
   ]
  },
  {
   "cell_type": "markdown",
   "metadata": {},
   "source": [
    "Vamos a generar un gráfico que muestre ordenadas de menor a mayor las series de máxima intensidad de precipitación para las tres duraciones que estamos analizando.\n",
    "\n",
    "En este gráfico se observa que a menor duración, la intensidad es siempre mayor. Además, se intuye una mayor variabilidad (mayor pendiente) de la intensidad a menor duracion."
   ]
  },
  {
   "cell_type": "code",
   "execution_count": 3,
   "metadata": {},
   "outputs": [
    {
     "data": {
      "image/png": "[encoded data removed]",
      "text/plain": [
       "<Figure size 720x432 with 1 Axes>"
      ]
     },
     "metadata": {
      "needs_background": "dark"
     },
     "output_type": "display_data"
    }
   ],
   "source": [
    "# Configurar el gráfico\n",
    "fig = plt.figure(figsize=(10, 6))\n",
    "plt.title('Series ordenadas de máxima intensidad anual', fontsize=16, weight='bold')\n",
    "plt.xlabel('', fontsize=13)\n",
    "plt.xlim((0, 25))\n",
    "plt.ylabel('intensidad (mm/h)', fontsize=13)\n",
    "plt.ylim((0, 60))\n",
    "\n",
    "# Tres gráficos de dispersión para cada duración de tormenta\n",
    "plt.scatter(range(intensity.shape[0]), intensity.sort_values(1)[1], label='1 h')\n",
    "plt.scatter(range(intensity.shape[0]), intensity.sort_values(6)[6], label='6 h')\n",
    "plt.scatter(range(intensity.shape[0]), intensity.sort_values(24)[24], label='24 h')\n",
    "\n",
    "# Leyenda\n",
    "fig.legend(loc=8, ncol= 3, fontsize=13);"
   ]
  },
  {
   "cell_type": "markdown",
   "metadata": {},
   "source": [
    "### Ajuste de la función GEV a los datos\n",
    "\n",
    "Hemos de ajustar una distribución estadística de extremos a los datos. A partir de este ajuste podremos calcular los periodos de retorno. Utilizaremos la función de distribución **GEV (generalized extreme values)**. La función de distribución GEV sigue, para el caso de variables siempre positivas como la precipitación, la siguiente ecuación:\n",
    "\n",
    "$$F(s,\\xi)=e^{-(1+\\xi s)^{-1/\\xi}}  \\quad \\forall \\xi>0$$\n",
    "$$ s = \\frac{x-\\mu}{\\sigma} \\quad \\sigma>0$$\n",
    "\n",
    "Donde $s$ es la variable de estudio estandarizada a través del parámetro de posición $\\mu$ y el parámetro de escala $\\sigma$, y $\\xi$ es el parámetro de forma. Por tanto, la distribución GEV tiene 3 parámetros. En la siguiente figura se muestra la función de densidad y la función de distribución de extremos del tipo II, la distribución de Frechet, para diversos valores de los parámetros de escala y forma.\n",
    "\n",
    "<img src=\"img/Frechet.png\" alt=\"Mountain View\" style=\"width:600px\">\n",
    "\n",
    "Para ajustar la función GEV utilizaremos la función `genextreme.fit` del paquete `SciPy.stats` de Python. Esta función devuelve los valores de los 3 parámetros de la GEV (forma, localización y escala) que mejor se ajustan a nuestros datos."
   ]
  },
  {
   "cell_type": "code",
   "execution_count": 4,
   "metadata": {},
   "outputs": [],
   "source": [
    "# Ejemplo\n",
    "# Ajustar la GEV para duración 1 h\n",
    "par_int1h = genextreme.fit(intensity[1])"
   ]
  },
  {
   "cell_type": "code",
   "execution_count": 5,
   "metadata": {},
   "outputs": [
    {
     "name": "stdout",
     "output_type": "stream",
     "text": [
      "Parámetros ajustados para la intensidad en 1 h:\n",
      "xi = 0.2339\n",
      "mu = 31.7407\n",
      "sigma = 10.3977\n"
     ]
    }
   ],
   "source": [
    "print('Parámetros ajustados para la intensidad en 1 h:')\n",
    "print('xi =', round(par_int1h[0], 4))\n",
    "print('mu =', round(par_int1h[1], 4))\n",
    "print('sigma =', round(par_int1h[2], 4))"
   ]
  },
  {
   "cell_type": "markdown",
   "metadata": {},
   "source": [
    "Lo haremos con un bucle para las tres duraciones (1, 6 y 24 h). Los parámetros se guardarán en el data frame *parametros*."
   ]
  },
  {
   "cell_type": "code",
   "execution_count": 6,
   "metadata": {},
   "outputs": [
    {
     "data": {
      "text/html": [
       "<div>\n",
       "<style scoped>\n",
       "    .dataframe tbody tr th:only-of-type {\n",
       "        vertical-align: middle;\n",
       "    }\n",
       "\n",
       "    .dataframe tbody tr th {\n",
       "        vertical-align: top;\n",
       "    }\n",
       "\n",
       "    .dataframe thead th {\n",
       "        text-align: right;\n",
       "    }\n",
       "</style>\n",
       "<table border=\"1\" class=\"dataframe\">\n",
       "  <thead>\n",
       "    <tr style=\"text-align: right;\">\n",
       "      <th></th>\n",
       "      <th>1</th>\n",
       "      <th>6</th>\n",
       "      <th>24</th>\n",
       "    </tr>\n",
       "  </thead>\n",
       "  <tbody>\n",
       "    <tr>\n",
       "      <th>xi</th>\n",
       "      <td>0.233923</td>\n",
       "      <td>-0.396873</td>\n",
       "      <td>-0.235411</td>\n",
       "    </tr>\n",
       "    <tr>\n",
       "      <th>mu</th>\n",
       "      <td>31.740658</td>\n",
       "      <td>8.404498</td>\n",
       "      <td>2.540506</td>\n",
       "    </tr>\n",
       "    <tr>\n",
       "      <th>sigma</th>\n",
       "      <td>10.397701</td>\n",
       "      <td>2.320138</td>\n",
       "      <td>0.836714</td>\n",
       "    </tr>\n",
       "  </tbody>\n",
       "</table>\n",
       "</div>"
      ],
      "text/plain": [
       "              1         6         24\n",
       "xi      0.233923 -0.396873 -0.235411\n",
       "mu     31.740658  8.404498  2.540506\n",
       "sigma  10.397701  2.320138  0.836714"
      ]
     },
     "execution_count": 6,
     "metadata": {},
     "output_type": "execute_result"
    }
   ],
   "source": [
    "# Ajustar los parámetros de las 3 duraciones\n",
    "parametros = pd.DataFrame(index=['xi', 'mu', 'sigma'], columns=D)\n",
    "for duracion in D:\n",
    "    # Ajustar la GEV y guardar los parámetros\n",
    "    parametros[duracion] = genextreme.fit(intensity[duracion])\n",
    "parametros"
   ]
  },
  {
   "cell_type": "markdown",
   "metadata": {},
   "source": [
    "### Curva IDF empírica\n",
    "\n",
    "La **probabilidad de no excedencia** (el valor de la función de distribución) y el **periodo de retorno** de una variable estan relacionados mediante la siguiente ecuación:\n",
    "\n",
    "\\\\[R = \\frac{1}{1-CDF(x)}\\\\]\n",
    "\n",
    "Donde $R$ es el periodo de retorno en años, y $CDF(x)$ (del inglés, cumulative density function) es el valor de la función de distribución (o probabilidad de no excendencia)  del valor de precipitación $x$.\n",
    "\n",
    "A partir de esta expresión se pueden calcular los **cuantiles** de un **periodo de retorno** dado:\n",
    "\n",
    "\\\\[CDF(x) = \\frac{R-1}{R} = 1 - \\frac{1}{R}\\\\]\n",
    "\n",
    "Analizaremos los periodos de retorno de 10, 25, 50 y 100 años. Calculamos los cuantiles ($Q$) correspondientes a estos periodos de retorno de acuerdo a las distribuciones anteriormente ajustadas."
   ]
  },
  {
   "cell_type": "code",
   "execution_count": 7,
   "metadata": {},
   "outputs": [],
   "source": [
    "# Periodos de retorno\n",
    "R = np.array([10, 25, 50, 100], dtype=\"float64\")"
   ]
  },
  {
   "cell_type": "code",
   "execution_count": 8,
   "metadata": {},
   "outputs": [],
   "source": [
    "# Probabilidad de no excedencia\n",
    "Q = 1. - 1. / R"
   ]
  },
  {
   "cell_type": "markdown",
   "metadata": {},
   "source": [
    "Como ejemplo, generamos los valores extremos de la intensidad de una tormenta de 1 h de duración para las probabilidades de no excedencia (Q). Para ello utilizamos la función `genextrem.ppf` (*percent point function*) del paquete `SciPy.stats`."
   ]
  },
  {
   "cell_type": "code",
   "execution_count": 9,
   "metadata": {},
   "outputs": [
    {
     "name": "stdout",
     "output_type": "stream",
     "text": [
      "Intensidad de precipitación en 1 h según periodo de retorno:\n",
      "I(Tr=10) = 49.9 mm/h\n",
      "I(Tr=25) = 55.2 mm/h\n",
      "I(Tr=50) = 58.3 mm/h\n",
      "I(Tr=100) = 61.0 mm/h\n"
     ]
    }
   ],
   "source": [
    "# intensidad de 1 h para los periodos de retorno\n",
    "P1 = genextreme.ppf(Q, *parametros[1]) # ppf: percent point function\n",
    "\n",
    "print('Intensidad de precipitación en 1 h según periodo de retorno:')\n",
    "for i, Tr in enumerate(R):\n",
    "     print('I(Tr=', int(Tr), ') = ', round(P1[i], 1), ' mm/h', sep='')\n"
   ]
  },
  {
   "cell_type": "markdown",
   "metadata": {},
   "source": [
    "Podemos iterar el cálculo de extremos para cada una de las duraciones y cuantiles, guardando los datos en un *data frame* al que llamaremos *IDF*, el cual podemos graficar."
   ]
  },
  {
   "cell_type": "code",
   "execution_count": 31,
   "metadata": {},
   "outputs": [
    {
     "data": {
      "text/html": [
       "<div>\n",
       "<style scoped>\n",
       "    .dataframe tbody tr th:only-of-type {\n",
       "        vertical-align: middle;\n",
       "    }\n",
       "\n",
       "    .dataframe tbody tr th {\n",
       "        vertical-align: top;\n",
       "    }\n",
       "\n",
       "    .dataframe thead th {\n",
       "        text-align: right;\n",
       "    }\n",
       "</style>\n",
       "<table border=\"1\" class=\"dataframe\">\n",
       "  <thead>\n",
       "    <tr style=\"text-align: right;\">\n",
       "      <th></th>\n",
       "      <th>1</th>\n",
       "      <th>6</th>\n",
       "      <th>24</th>\n",
       "    </tr>\n",
       "    <tr>\n",
       "      <th>Tr</th>\n",
       "      <th></th>\n",
       "      <th></th>\n",
       "      <th></th>\n",
       "    </tr>\n",
       "  </thead>\n",
       "  <tbody>\n",
       "    <tr>\n",
       "      <th>10.0</th>\n",
       "      <td>49.932830</td>\n",
       "      <td>16.838676</td>\n",
       "      <td>5.023257</td>\n",
       "    </tr>\n",
       "    <tr>\n",
       "      <th>25.0</th>\n",
       "      <td>55.155961</td>\n",
       "      <td>23.363122</td>\n",
       "      <td>6.533005</td>\n",
       "    </tr>\n",
       "    <tr>\n",
       "      <th>50.0</th>\n",
       "      <td>58.347192</td>\n",
       "      <td>30.062678</td>\n",
       "      <td>7.892088</td>\n",
       "    </tr>\n",
       "    <tr>\n",
       "      <th>100.0</th>\n",
       "      <td>61.035854</td>\n",
       "      <td>38.844762</td>\n",
       "      <td>9.483084</td>\n",
       "    </tr>\n",
       "  </tbody>\n",
       "</table>\n",
       "</div>"
      ],
      "text/plain": [
       "              1          6         24\n",
       "Tr                                   \n",
       "10.0   49.932830  16.838676  5.023257\n",
       "25.0   55.155961  23.363122  6.533005\n",
       "50.0   58.347192  30.062678  7.892088\n",
       "100.0  61.035854  38.844762  9.483084"
      ]
     },
     "execution_count": 31,
     "metadata": {},
     "output_type": "execute_result"
    }
   ],
   "source": [
    "# data frame con los valores de la curva IDF\n",
    "IDFe = pd.DataFrame(index=R, columns=D)\n",
    "IDFe.index.name = 'Tr'\n",
    "for duracion in D:\n",
    "    IDFe[duracion] = genextreme(*parametros[duracion]).ppf(Q)\n",
    "IDFe"
   ]
  },
  {
   "cell_type": "code",
   "execution_count": 32,
   "metadata": {},
   "outputs": [],
   "source": [
    "# guardar la tabla de resultados\n",
    "IDFe.to_csv('../output/Ej5_Resultados IDF analítica.csv', float_format='%.1f')"
   ]
  },
  {
   "cell_type": "markdown",
   "metadata": {},
   "source": [
    "Gráfico de líneas que muestra, para cada periodo de retorno, la intensidad de precipitación en función de la duración de la tormenta. \n",
    "\n",
    "Sólo tenemos los datos para tres duraciones de tormenta, motivo por el que la curva es tan quebrada. Para solventar este problema habría que repetir el cálculo para más duraciones de tormenta, o aplicar las **curvas IDF analíticas**."
   ]
  },
  {
   "cell_type": "code",
   "execution_count": 18,
   "metadata": {},
   "outputs": [
    {
     "data": {
      "image/png": "[encoded data removed]",
      "text/plain": [
       "<Figure size 864x432 with 1 Axes>"
      ]
     },
     "metadata": {
      "needs_background": "dark"
     },
     "output_type": "display_data"
    }
   ],
   "source": [
    "# configuración del gráfico\n",
    "fig = plt.figure(figsize=(12, 6))\n",
    "plt.title('Curva IDF', fontsize=16, weight='bold')\n",
    "plt.xlabel('duración (h)', fontsize=13)\n",
    "plt.xlim(0, IDF.columns.max() + 1)\n",
    "plt.ylabel('intensidad (mm/h)', fontsize=13)\n",
    "plt.ylim((0, 80))\n",
    "color = ['tan', 'darkkhaki', 'olive', 'darkolivegreen']\n",
    "\n",
    "for i, Tr in enumerate(IDF.index):\n",
    "    plt.plot(IDF.loc[Tr,:], color=color[i], label='Tr = ' + str(int(Tr)) + ' años')\n",
    "\n",
    "fig.legend(loc=8, ncol=4, fontsize=12);\n",
    "\n",
    "# guardar la figura\n",
    "plt.savefig('../output/Ej5_IDF empírica.png', dpi=300)"
   ]
  },
  {
   "cell_type": "markdown",
   "metadata": {},
   "source": [
    "### Curva IDF analítica\n",
    "Hasta ahora hemos calculado una serie de puntos de la **curva IDF**, los correspondientes a las tormentas de 1, 6 y 24 h para los periodos de retorno de 10, 25, 50 y 100 años. Aplicando las ecuaciones analíticas de la curva IDF, podemos generar la curva completa.\n",
    "\n",
    "Dos de las formas analíticas de la curva IDF son:\n",
    "\n",
    "\\\\[I = \\frac{a}{(D + c)^b}\\\\]\n",
    "\n",
    "\\\\[I = \\frac{a}{D ^b + c}\\\\]\n",
    "\n",
    "donde \\\\(I\\\\) es la intensidad de preciptiación, \\\\(D\\\\) es la duración de la tormenta, \\\\(a\\\\) es una constante dependiente del periodo de retorno y \\\\(b\\\\) y \\\\(c\\\\) son constantes que dependen de la localización del estudio.\n",
    "\n",
    "Asumiremos que la relación entre $a$ y el periodo de retorno sigue la siguiente función lineal:\n",
    "\n",
    "\\\\[a = d \\cdot R + e\\\\]\n",
    "\n",
    "Crearemos funciones de Python para estas curvas analíticas."
   ]
  },
  {
   "cell_type": "code",
   "execution_count": 19,
   "metadata": {},
   "outputs": [],
   "source": [
    "def IDF_type_I(x, b, c, d, e):\n",
    "    \"\"\"Calcula la intensidad de la precipitación para un periodo de retorno y duración de la tormenta dadas a\n",
    "    partir de la fórmula I = d * R + e / (D + c)**b.    \n",
    "    \n",
    "    Parámetros:\n",
    "    -----------\n",
    "    x:         list [2x1]. Par de valores de periodo de retorno(años) y duración (h)\n",
    "    b:         float. Parámetro de la curva IDF\n",
    "    c:         float. Parámetro de la curva IDF\n",
    "    d:         float. Parámetro de la curva IDF\n",
    "    e:         float. Parámetro de la curva IDF\n",
    "    \n",
    "    Salida:\n",
    "    -------\n",
    "    I:         float. Intensidad de precipitación (mm/h)\"\"\"\n",
    "    \n",
    "    a = d * x[0] + e\n",
    "    I = a / (x[1] + c)**b\n",
    "    return I\n",
    "\n",
    "def IDF_type_II(x, b, c, d, e):\n",
    "    \"\"\"Calcula la intensidad de la precipitación para un periodo de retorno y duración de la tormenta dadas a\n",
    "    partir de la fórmula I = d * R + e / (D**b + c).    \n",
    "    \n",
    "    Parámetros:\n",
    "    -----------\n",
    "    x:         list [2x1]. Par de valores de periodo de retorno(años) y duración (h)\n",
    "    b:         float. Parámetro de la curva IDF\n",
    "    c:         float. Parámetro de la curva IDF\n",
    "    d:         float. Parámetro de la curva IDF\n",
    "    e:         float. Parámetro de la curva IDF\n",
    "    \n",
    "    Salida:\n",
    "    -------\n",
    "    I:         float. Intensidad de precipitación (mm/h)\"\"\"\n",
    "    \n",
    "    a = d * x[0] + e\n",
    "    I = a / (x[1]**b + c)\n",
    "    return I\n",
    "\n",
    "def IDF_type_III(x, b, c, d, e):\n",
    "    \"\"\"Calcula la intensidad de la precipitación para un periodo de retorno y duración de la tormenta dadas a\n",
    "    partir de la fórmula I = d * R**e / (D + c)**b.    \n",
    "    \n",
    "    Parámetros:\n",
    "    -----------\n",
    "    x:         list [2x1]. Par de valores de periodo de retorno(años) y duración (h)\n",
    "    b:         float. Parámetro de la curva IDF\n",
    "    c:         float. Parámetro de la curva IDF\n",
    "    d:         float. Parámetro de la curva IDF\n",
    "    e:         float. Parámetro de la curva IDF\n",
    "    \n",
    "    Salida:\n",
    "    -------\n",
    "    I:         float. Intensidad de precipitación (mm/h)\"\"\"\n",
    "    \n",
    "    a = d * x[0]**e \n",
    "    I = a / (x[1] + c)**b\n",
    "    return I\n",
    "\n",
    "def IDF_type_IV(x, b, c, d, e):\n",
    "    \"\"\"Calcula la intensidad de la precipitación para un periodo de retorno y duración de la tormenta dadas a\n",
    "    partir de la fórmula I = d * R**e / (D**b + c).    \n",
    "    \n",
    "    Parámetros:\n",
    "    -----------\n",
    "    x:         list [2x1]. Par de valores de periodo de retorno(años) y duración (h)\n",
    "    b:         float. Parámetro de la curva IDF\n",
    "    c:         float. Parámetro de la curva IDF\n",
    "    d:         float. Parámetro de la curva IDF\n",
    "    e:         float. Parámetro de la curva IDF\n",
    "    \n",
    "    Salida:\n",
    "    -------\n",
    "    I:         float. Intensidad de precipitación (mm/h)\"\"\"\n",
    "    \n",
    "    a = d * x[0]**e\n",
    "    I = a / (x[1]**b + c)\n",
    "    return I "
   ]
  },
  {
   "cell_type": "markdown",
   "metadata": {},
   "source": [
    "Para ajustar la curva hemos de crear primero una malla de pares de valores de periodo de retorno y duración. Utilizaremos las tres duraciones ('D') y los cuatro periodos de retorno ('R') ya empleados hasta ahora, para los cuales hemos calculado la intensidad de precipitación asociada (data frame 'IDF')."
   ]
  },
  {
   "cell_type": "code",
   "execution_count": 20,
   "metadata": {},
   "outputs": [
    {
     "data": {
      "text/plain": [
       "((3, 4), (3, 4))"
      ]
     },
     "execution_count": 20,
     "metadata": {},
     "output_type": "execute_result"
    }
   ],
   "source": [
    "# malla con todas las posibles combinaciones de periodo de retorno 'R' y duración 'D'\n",
    "(RR, DD) = np.meshgrid(R, D)\n",
    "RR.shape, DD.shape"
   ]
  },
  {
   "cell_type": "code",
   "execution_count": 21,
   "metadata": {},
   "outputs": [
    {
     "data": {
      "text/plain": [
       "((12,), (12,))"
      ]
     },
     "execution_count": 21,
     "metadata": {},
     "output_type": "execute_result"
    }
   ],
   "source": [
    "# convertir 'RR' y 'DD' en un vector unidimensional\n",
    "RR = RR.reshape(-1)\n",
    "DD = DD.reshape(-1)\n",
    "RR.shape, DD.shape"
   ]
  },
  {
   "cell_type": "code",
   "execution_count": 22,
   "metadata": {},
   "outputs": [
    {
     "data": {
      "text/plain": [
       "(2, 12)"
      ]
     },
     "execution_count": 22,
     "metadata": {},
     "output_type": "execute_result"
    }
   ],
   "source": [
    "# unir los vectores 'RR' y 'DD'\n",
    "RD = np.vstack([RR, DD])\n",
    "\n",
    "RD.shape"
   ]
  },
  {
   "cell_type": "code",
   "execution_count": 23,
   "metadata": {},
   "outputs": [
    {
     "data": {
      "text/plain": [
       "(12,)"
      ]
     },
     "execution_count": 23,
     "metadata": {},
     "output_type": "execute_result"
    }
   ],
   "source": [
    "# vector unidimensional a partir de 'IDF'\n",
    "I = np.hstack([IDF[1], IDF[6], IDF[24]])\n",
    "\n",
    "I.shape"
   ]
  },
  {
   "cell_type": "markdown",
   "metadata": {},
   "source": [
    "Para ajustar la curva utilizaremos la función `curve_fit` de `SciPy.optimize`. A esta función hemos de asignarle la función de la curva a ajustar, los valores de entrada (pares retorno-duración) y el valor de la función en esos pares (intensidad). La función devuelve un vector con los parámetros de la curva optimizados y otro vector con las covarianza entre dichos parámetros"
   ]
  },
  {
   "cell_type": "code",
   "execution_count": 24,
   "metadata": {},
   "outputs": [
    {
     "name": "stdout",
     "output_type": "stream",
     "text": [
      "Parámetros optimizados de la curva IDF analítica\n",
      "b = 1.2978\n",
      "c = 8.1883\n",
      "d = 311.246\n",
      "e = 0.1403\n"
     ]
    }
   ],
   "source": [
    "# ajustar la curva\n",
    "curva = IDF_type_IV\n",
    "popt, pcov = curve_fit(curva, RD, I)\n",
    "\n",
    "print('Parámetros optimizados de la curva IDF analítica')\n",
    "for i, par in enumerate(['b', 'c', 'd', 'e']):\n",
    "    print(par, '=', round(popt[i], 4))"
   ]
  },
  {
   "cell_type": "code",
   "execution_count": 37,
   "metadata": {},
   "outputs": [],
   "source": [
    "# guardar parámetros optimizados\n",
    "IDFa = pd.DataFrame(popt, index=['b', 'c', 'd', 'e']).transpose()\n",
    "IDFa.to_csv('../output/Ej5_Parámetros IDF analítica.csv', float_format='%.5f')"
   ]
  },
  {
   "cell_type": "code",
   "execution_count": 26,
   "metadata": {},
   "outputs": [
    {
     "data": {
      "image/png": "[encoded data removed]",
      "text/plain": [
       "<Figure size 864x432 with 1 Axes>"
      ]
     },
     "metadata": {
      "needs_background": "dark"
     },
     "output_type": "display_data"
    }
   ],
   "source": [
    "fig = plt.figure(figsize=(12, 6))\n",
    "plt.xlim(0, D.max()+1)\n",
    "plt.xlabel('duración (h)', fontsize=13)\n",
    "plt.ylabel('intensidad (mm/h)', fontsize=13)\n",
    "color = ['tan', 'darkkhaki', 'olive', 'darkolivegreen']\n",
    "\n",
    "xx = np.linspace(.25, D.max(), 1000) # valores de duración\n",
    "y = np.zeros((xx.size,)) # vector vacío de valores de intensidad\n",
    "\n",
    "for i, Tr in enumerate(R): # para cada periodo de retorno\n",
    "    for j, d in enumerate(xx): # para cada duración\n",
    "        y[j] = curva((Tr, d), *popt)\n",
    "    # gráfico de línea\n",
    "    plt.plot(xx, y, color=color[i], label='Tr = ' + str(int(Tr)) + ' años')\n",
    "    # gráfico de dispersión\n",
    "    plt.scatter(D, IDF.loc[Tr], s=8, marker='o', c=color[i], label=None)\n",
    "\n",
    "fig.legend(loc=8, ncol=4, fontsize=12);\n",
    "\n",
    "# guardar figura\n",
    "plt.savefig('../output/Ej5_IDF analítica.png', dpi=300)"
   ]
  }
 ],
 "metadata": {
  "anaconda-cloud": {},
  "kernelspec": {
   "display_name": "Python 3",
   "language": "python",
   "name": "python3"
  },
  "language_info": {
   "codemirror_mode": {
    "name": "ipython",
    "version": 3
   },
   "file_extension": ".py",
   "mimetype": "text/x-python",
   "name": "python",
   "nbconvert_exporter": "python",
   "pygments_lexer": "ipython3",
   "version": "3.7.3"
  },
  "varInspector": {
   "cols": {
    "lenName": 16,
    "lenType": 16,
    "lenVar": 40
   },
   "kernels_config": {
    "python": {
     "delete_cmd_postfix": "",
     "delete_cmd_prefix": "del ",
     "library": "var_list.py",
     "varRefreshCmd": "print(var_dic_list())"
    },
    "r": {
     "delete_cmd_postfix": ") ",
     "delete_cmd_prefix": "rm(",
     "library": "var_list.r",
     "varRefreshCmd": "cat(var_dic_list()) "
    }
   },
   "position": {
    "height": "255px",
    "left": "634px",
    "right": "20px",
    "top": "118px",
    "width": "350px"
   },
   "types_to_exclude": [
    "module",
    "function",
    "builtin_function_or_method",
    "instance",
    "_Feature"
   ],
   "window_display": false
  }
 },
 "nbformat": 4,
 "nbformat_minor": 4
}
