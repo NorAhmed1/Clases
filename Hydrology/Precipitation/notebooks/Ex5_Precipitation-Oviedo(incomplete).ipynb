{
 "cells": [
  {
   "cell_type": "markdown",
   "metadata": {},
   "source": [
    "# Precipitation exercises\n",
    "***\n",
    "\n",
    "## <font color=steelblue>Exercise 5 - Intensity-duration-frequency curves\n",
    "\n",
    "<font color=steelblue>Build an IDF (intensity-duration-frequency) curve from the data in _hourly_precipitation_Oviedo.csv_.<tfont>"
   ]
  },
  {
   "cell_type": "code",
   "execution_count": null,
   "metadata": {},
   "outputs": [],
   "source": [
    "import numpy as np\n",
    "\n",
    "import pandas as pd\n",
    "from pandas.plotting import register_matplotlib_converters\n",
    "register_matplotlib_converters()\n",
    "\n",
    "from matplotlib import pyplot as plt\n",
    "import seaborn as sns\n",
    "sns.set()"
   ]
  },
  {
   "cell_type": "markdown",
   "metadata": {},
   "source": [
    "**Intensity-Duration-Frequency (IDF) curves** are a common approach for defining a design storm in a hydrologic project. IDF curves relate rainfall intensity, storm duration and frequency (expressed as return period).\n",
    " \n",
    "<img src=\"img/IDF curves.JPG\" alt=\"Mountain View\" style=\"width:500px\">\n",
    "\n",
    "> <font color=gray>Intensity-duration-frequency curve for Oklahoma City (Applied Hydrology. Chow, 1988).</font>\n",
    "\n",
    "When designing a structure, the objetive is to know the precipitation intensity given a return period and a duration. We would know the return period we want to design the structure for (usually defined by laws or standards). We would have to find the worst case scenario for the duration; this is usually the time of concentration of the structure's basin.\n",
    "\n",
    "**Empirical IDF curves**. To build a IDF curve out of local data, we must carry out a frequency analysis. As input values, we need an annual series of maximum precipitation intensity for several storm durations. We must fit the series for each storm duration to a extreme values distributions in order to estimate the precipitation intensity given a return period. This is the empirical IDF curve.\n",
    "\n",
    "**Analytical IDF curves** are equations that allow us to create continuous curves from which extract intensity for any duration and return period, so we overcome the limitation of empirical curves. The parameters of the equations must be fitted to the observations, i.e., the points of the empirical IDF curves.\n",
    "\n",
    "Steps to solve the exercise:\n",
    "1. Import the data: hourly precipitation series.\n",
    "2. Generate __series of annual maximum__ precipitation for several storm durations.\n",
    "3. Fit a __GEV distribution__ to the series of annual maxima.\n",
    "4. Estimate the points of the __empirical IDF__.\n",
    "5. Fitting the __analytical IDF__."
   ]
  },
  {
   "cell_type": "markdown",
   "metadata": {},
   "source": [
    "### Import data\n",
    "\n",
    "The input data is the hourly rainfall series in the meteorological station that the AEMET (Spanish Meteorological Agency) manages in Oviedo."
   ]
  },
  {
   "cell_type": "code",
   "execution_count": null,
   "metadata": {},
   "outputs": [],
   "source": [
    "# load precipitation data\n"
   ]
  },
  {
   "cell_type": "code",
   "execution_count": null,
   "metadata": {},
   "outputs": [],
   "source": [
    "# visualize the hourly series\n"
   ]
  },
  {
   "cell_type": "markdown",
   "metadata": {},
   "source": [
    "### Generate series of annual maxima\n",
    "To perfom a frequency analysis, we need a series with the maximum rainfall intensity in each of the years of the original data. Since our final goal is to derive an intensity-duration-frequency curve, we must repeat this process for several storm durations."
   ]
  },
  {
   "cell_type": "markdown",
   "metadata": {},
   "source": [
    "#### Example for 2h storm duration"
   ]
  },
  {
   "cell_type": "code",
   "execution_count": null,
   "metadata": {},
   "outputs": [],
   "source": [
    "# series of 2h rainfall intentity\n"
   ]
  },
  {
   "cell_type": "code",
   "execution_count": null,
   "metadata": {},
   "outputs": [],
   "source": [
    "# series of annual maximum intensity for 2-h precipitation\n"
   ]
  },
  {
   "cell_type": "code",
   "execution_count": null,
   "metadata": {},
   "outputs": [],
   "source": [
    "# visualize the data\n"
   ]
  },
  {
   "cell_type": "markdown",
   "metadata": {},
   "source": [
    "#### Loop for storm durations from 1 to 24 h\n",
    "We can repeat all the previous steps for several durations in a loop, and save the series in a single data frame."
   ]
  },
  {
   "cell_type": "code",
   "execution_count": null,
   "metadata": {},
   "outputs": [],
   "source": [
    "# durations to study\n"
   ]
  },
  {
   "cell_type": "code",
   "execution_count": null,
   "metadata": {},
   "outputs": [],
   "source": [
    "# series of annual maximum intensity for different storm durations\n"
   ]
  },
  {
   "cell_type": "markdown",
   "metadata": {},
   "source": [
    "### Fit a GEV distribution to the series of annual maxima\n",
    "\n",
    "We must fit a extreme values distribution to the series of annual maxima. From the fitted distribution, we will be able to estimate the intensity for any return period.\n",
    "\n",
    "We will use the **GEV distribution (generalized extreme values)**. When applied to exclusively positive values such as precipitation, the GEV distribution is:\n",
    "\n",
    "$$F(s,\\xi)=e^{-(1+\\xi s)^{-1/\\xi}}  \\quad \\forall \\xi>0$$\n",
    "$$ s = \\frac{x-\\mu}{\\sigma} \\quad \\sigma>0$$\n",
    "\n",
    "Where $s$ is the study variable standardised by the location parameter $\\mu$ and the scale parameter $\\sigma$, and $\\xi$ is the shape parameter. So the GEV distribution has three parameters to be fitted.\n",
    "\n",
    "<img src=\"img/Frechet.png\" alt=\"Mountain View\" style=\"width:600px\">\n",
    "\n",
    "> <font color=grey>Density function and the cumulative density function of the GEV type II (Frechet distribution) for several values of scale and shape.</font><br>\n",
    "\n",
    "To fit the GEV distribution, we will use the function `genextreme.fit` in the package `scipy.stats`. The outputs of this function are the values of the three GEV parameters (shape, location and scale) that better fit the input data."
   ]
  },
  {
   "cell_type": "code",
   "execution_count": null,
   "metadata": {},
   "outputs": [],
   "source": [
    "from scipy.stats import genextreme\n",
    "from statsmodels.distributions.empirical_distribution import ECDF"
   ]
  },
  {
   "cell_type": "markdown",
   "metadata": {},
   "source": [
    "#### Example: 2-hour storm"
   ]
  },
  {
   "cell_type": "code",
   "execution_count": null,
   "metadata": {},
   "outputs": [],
   "source": [
    "# visualize the data\n"
   ]
  },
  {
   "cell_type": "code",
   "execution_count": null,
   "metadata": {},
   "outputs": [],
   "source": [
    "# fit a GEV to the data\n"
   ]
  },
  {
   "cell_type": "code",
   "execution_count": null,
   "metadata": {},
   "outputs": [],
   "source": [
    "# fit the empirical distribution\n"
   ]
  },
  {
   "cell_type": "code",
   "execution_count": null,
   "metadata": {},
   "outputs": [],
   "source": [
    "# visualize the fit\n"
   ]
  },
  {
   "cell_type": "markdown",
   "metadata": {},
   "source": [
    "#### Loop for all storm durations\n",
    "We'll repeat the process in a loop for all the storm durations. We'll save the results in a data frame called _parameters_."
   ]
  },
  {
   "cell_type": "code",
   "execution_count": null,
   "metadata": {},
   "outputs": [],
   "source": [
    "# fit parameters for each duration\n"
   ]
  },
  {
   "cell_type": "code",
   "execution_count": null,
   "metadata": {},
   "outputs": [],
   "source": [
    "# visualize the fit\n"
   ]
  },
  {
   "cell_type": "markdown",
   "metadata": {},
   "source": [
    "### Empirical IDF\n",
    "\n",
    "To calculate the empirical IDF we need to know the value of rainfall intensity for a given storm duration and return period. The storm duration defines which of the previously fitted GEV distributions to apply, whereas the return period defines the non-exceedance probability with which to enter the GEV distribution.\n",
    "\n",
    "The **non-exceedance probability** (i.e., the value of the cumulative distribution function) and the **return period** are related by the equation: \n",
    "\n",
    "$$R = \\frac{1}{1-CDF(x)}$$\n",
    "\n",
    "Where $R$ is the return period and $CDF(x)$ the cumulative distribution function (or non-exceedance probability). From this expression, we can estimate the **non-exceedance probability** for a given **return period**:\n",
    "\n",
    "$$CDF(x) = \\frac{R-1}{R} = 1 - \\frac{1}{R}$$"
   ]
  },
  {
   "cell_type": "markdown",
   "metadata": {},
   "source": [
    "#### Example: 2-hour storm and 10 year return period\n",
    "As an example, we will generate extreme values for a 2-h storm and the return period of 10 years. We'll use function `genextrem` in the package `scipy.stats`."
   ]
  },
  {
   "cell_type": "code",
   "execution_count": null,
   "metadata": {},
   "outputs": [],
   "source": [
    "# set duration and return period\n",
    "\n",
    "# non-exceedance probability associated to the return period\n"
   ]
  },
  {
   "cell_type": "code",
   "execution_count": null,
   "metadata": {},
   "outputs": [],
   "source": [
    "# rainfall intensity for a 2-h storm with 10 year return period\n"
   ]
  },
  {
   "cell_type": "code",
   "execution_count": null,
   "metadata": {},
   "outputs": [],
   "source": [
    "# visualize the fit\n"
   ]
  },
  {
   "cell_type": "markdown",
   "metadata": {},
   "source": [
    "#### Loop through all storm duration and all return periods\n",
    "We can iterate the procedure across duration and return periods. Results will be saved in a *data frame*.\n",
    "\n",
    "We will analyze return perios of 2, 10 and 30 years. Since our records span for only 10 years, we should not calculate larger return periods; as a rule of thumb, we can calculate return periods up to 3 times the span of our original records."
   ]
  },
  {
   "cell_type": "code",
   "execution_count": null,
   "metadata": {},
   "outputs": [],
   "source": [
    "# return periods\n"
   ]
  },
  {
   "cell_type": "code",
   "execution_count": null,
   "metadata": {},
   "outputs": [],
   "source": [
    "# non-exceedance probability\n"
   ]
  },
  {
   "cell_type": "markdown",
   "metadata": {},
   "source": [
    "We can calculate the 2-h rainfall intensity for all return periods at once."
   ]
  },
  {
   "cell_type": "code",
   "execution_count": null,
   "metadata": {},
   "outputs": [],
   "source": [
    "# non-exceedance probability\n"
   ]
  },
  {
   "cell_type": "code",
   "execution_count": null,
   "metadata": {},
   "outputs": [],
   "source": [
    "# rainfall intensity\n"
   ]
  },
  {
   "cell_type": "markdown",
   "metadata": {},
   "source": [
    "And iterate this step through a loop for all storm duration"
   ]
  },
  {
   "cell_type": "code",
   "execution_count": null,
   "metadata": {},
   "outputs": [],
   "source": [
    "# data frame with values of the IDF curve\n"
   ]
  },
  {
   "cell_type": "code",
   "execution_count": null,
   "metadata": {},
   "outputs": [],
   "source": [
    "# save results\n"
   ]
  },
  {
   "cell_type": "markdown",
   "metadata": {},
   "source": [
    "Scatter plot that shows, for each return period, rainfall intensity as a function of storm duration."
   ]
  },
  {
   "cell_type": "code",
   "execution_count": null,
   "metadata": {},
   "outputs": [],
   "source": [
    "# configuración del gráfico\n"
   ]
  },
  {
   "cell_type": "markdown",
   "metadata": {},
   "source": [
    "### Analytical IDF curves\n",
    "\n",
    "Up to now, we have calculated points of the IDF curves corresponding to paired values of duration and return period. We could iterate the process to get points for each storm duration in full hours, but still, we would have to interpolate between points to get intensity values for a storm duration of 2.5 h, for instance. To avoid that, there exist analytical forms of the IDF curve that take forms such as:\n",
    "\n",
    "$$I = \\frac{a \\cdot R + b}{(D + c)^d}$$\n",
    "\n",
    "$$I = \\frac{a \\cdot R + b}{D^c + d}$$\n",
    "\n",
    "$$I = \\frac{a \\cdot R^b}{(D + c)^d}$$\n",
    "\n",
    "$$I = \\frac{a \\cdot R^b}{D^c + d}$$\n",
    "\n",
    "where $I$ is the precipitation intensity, $D$ storm duration, $R$ is return period, and $a$, $b$, $c$ and $d$ are location-specific parameters. We must optimize these parameters to our data so that the analytical IDF curves fit the empirical IDF points."
   ]
  },
  {
   "cell_type": "code",
   "execution_count": null,
   "metadata": {},
   "outputs": [],
   "source": [
    "def IDF_type_I(x, a, b, c, d):\n",
    "    \"\"\"Estimate precipitation intensity fiven a return period and a storm duration using the analytical IDF curve type I:\n",
    "    \n",
    "    I = (a * R + b) / (D + c)**d\n",
    "    \n",
    "    Input:\n",
    "    ------\n",
    "    x:         list [2x1]. Values of return period (years) and duration (h)\n",
    "    a:         float. Parameter of the IDF curve\n",
    "    b:         float. Parameter of the IDF curve\n",
    "    c:         float. Parameter of the IDF curve\n",
    "    d:         float. Parameter of the IDF curve\n",
    "    \n",
    "    Output:\n",
    "    -------\n",
    "    I:         float. Precipitation intensity (mm/h)\"\"\"\n",
    "    \n",
    "    I = (a * x[0] + b) / (x[1] + c)**d\n",
    "    \n",
    "    return I\n",
    "\n",
    "def IDF_type_II(x, a, b, c, d):\n",
    "    \"\"\"Estimate precipitation intensity fiven a return period and a storm duration using the analytical IDF curve type II:\n",
    "    \n",
    "    I = (a * R + b) / (D**c + d)   \n",
    "    \n",
    "    Input:\n",
    "    ------\n",
    "    x:         list [2x1]. Values of return period (years) and duration (h)\n",
    "    a:         float. Parameter of the IDF curve\n",
    "    b:         float. Parameter of the IDF curve\n",
    "    c:         float. Parameter of the IDF curve\n",
    "    d:         float. Parameter of the IDF curve\n",
    "    \n",
    "    Output:\n",
    "    -------\n",
    "    I:         float. Precipitation intensity (mm/h)\"\"\"\n",
    "    \n",
    "    I = (a * x[0] + b) / (x[1]**c + d)\n",
    "    \n",
    "    return I\n",
    "\n",
    "def IDF_type_III(x, a, b, c, d):\n",
    "    \"\"\"Estimate precipitation intensity fiven a return period and a storm duration using the analytical IDF curve type III:\n",
    "    \n",
    "    I = a * R**b / (D + c)**d\n",
    "    \n",
    "    Input:\n",
    "    ------\n",
    "    x:         list [2x1]. Values of return period (years) and duration (h)\n",
    "    a:         float. Parameter of the IDF curve\n",
    "    b:         float. Parameter of the IDF curve\n",
    "    c:         float. Parameter of the IDF curve\n",
    "    d:         float. Parameter of the IDF curve\n",
    "    \n",
    "    Output:\n",
    "    -------\n",
    "    I:         float. Precipitation intensity (mm/h)\"\"\"\n",
    "    \n",
    "    I = a * x[0]**b  / (x[1] + c)**d\n",
    "    \n",
    "    return I\n",
    "\n",
    "def IDF_type_IV(x, a, b, c, d):\n",
    "    \"\"\"Estimate precipitation intensity fiven a return period and a storm duration using the analytical IDF curve type IV:\n",
    "    \n",
    "    I = a * R**b / (D**c + d).    \n",
    "    \n",
    "    Input:\n",
    "    ------\n",
    "    x:         list [2x1]. Values of return period (years) and duration (h)\n",
    "    a:         float. Parameter of the IDF curve\n",
    "    b:         float. Parameter of the IDF curve\n",
    "    c:         float. Parameter of the IDF curve\n",
    "    d:         float. Parameter of the IDF curve\n",
    "    \n",
    "    Output:\n",
    "    -------\n",
    "    I:         float. Precipitation intensity (mm/h)\"\"\"\n",
    "    \n",
    "    I = (a * x[0]**b) / (x[1]**c + d)\n",
    "    \n",
    "    return I "
   ]
  },
  {
   "cell_type": "markdown",
   "metadata": {},
   "source": [
    "#### Fit the analytical IDF\n",
    "To fit the analytical IDF we will use the function `curve_fit` in `scipy.optimize`. We must provide `curve_fit` with a function representing the curve to be fitted, the independent variable (paired values of return period-duration) and the dependent variable (itensity associated to the previous pairs). `curve_fit` puts out a vector with the optimized parameters and a vector with the covariance between those parameters."
   ]
  },
  {
   "cell_type": "code",
   "execution_count": null,
   "metadata": {},
   "outputs": [],
   "source": [
    "from scipy.optimize import curve_fit"
   ]
  },
  {
   "cell_type": "markdown",
   "metadata": {},
   "source": [
    "**Dependent variable in the IDF curve: intensity**"
   ]
  },
  {
   "cell_type": "code",
   "execution_count": null,
   "metadata": {},
   "outputs": [],
   "source": [
    "# 1D array of intensity for each pair of values in 'R' and 'D'\n"
   ]
  },
  {
   "cell_type": "markdown",
   "metadata": {},
   "source": [
    "**Independent variable in the IDF curve: paired values of return period and duration**"
   ]
  },
  {
   "cell_type": "code",
   "execution_count": null,
   "metadata": {},
   "outputs": [],
   "source": [
    "# grid with all possible combinations of duration and return period\n"
   ]
  },
  {
   "cell_type": "code",
   "execution_count": null,
   "metadata": {},
   "outputs": [],
   "source": [
    "# convert the grid ('RR' and 'DD') into a 1D array\n"
   ]
  },
  {
   "cell_type": "code",
   "execution_count": null,
   "metadata": {},
   "outputs": [],
   "source": [
    "# join 'RR' and 'DD' as columns of a 2D array\n"
   ]
  },
  {
   "cell_type": "markdown",
   "metadata": {},
   "source": [
    "**Fit the curve**"
   ]
  },
  {
   "cell_type": "code",
   "execution_count": null,
   "metadata": {},
   "outputs": [],
   "source": [
    "# set type of curve\n"
   ]
  },
  {
   "cell_type": "code",
   "execution_count": null,
   "metadata": {},
   "outputs": [],
   "source": [
    "# fit the curve\n"
   ]
  },
  {
   "cell_type": "code",
   "execution_count": null,
   "metadata": {},
   "outputs": [],
   "source": [
    "# save the optimized parameters\n"
   ]
  },
  {
   "cell_type": "code",
   "execution_count": null,
   "metadata": {},
   "outputs": [],
   "source": [
    "# export results\n"
   ]
  },
  {
   "cell_type": "markdown",
   "metadata": {},
   "source": [
    "**Visualize the fit**"
   ]
  },
  {
   "cell_type": "code",
   "execution_count": null,
   "metadata": {},
   "outputs": [],
   "source": [
    "# plot the analytical IDF curves\n",
    "\n",
    "    \n",
    "# save figure\n"
   ]
  },
  {
   "cell_type": "code",
   "execution_count": null,
   "metadata": {},
   "outputs": [],
   "source": []
  }
 ],
 "metadata": {
  "anaconda-cloud": {},
  "kernelspec": {
   "display_name": "Python 3",
   "language": "python",
   "name": "python3"
  },
  "language_info": {
   "codemirror_mode": {
    "name": "ipython",
    "version": 3
   },
   "file_extension": ".py",
   "mimetype": "text/x-python",
   "name": "python",
   "nbconvert_exporter": "python",
   "pygments_lexer": "ipython3",
   "version": "3.7.3"
  },
  "varInspector": {
   "cols": {
    "lenName": 16,
    "lenType": 16,
    "lenVar": 40
   },
   "kernels_config": {
    "python": {
     "delete_cmd_postfix": "",
     "delete_cmd_prefix": "del ",
     "library": "var_list.py",
     "varRefreshCmd": "print(var_dic_list())"
    },
    "r": {
     "delete_cmd_postfix": ") ",
     "delete_cmd_prefix": "rm(",
     "library": "var_list.r",
     "varRefreshCmd": "cat(var_dic_list()) "
    }
   },
   "position": {
    "height": "255px",
    "left": "634px",
    "right": "20px",
    "top": "118px",
    "width": "350px"
   },
   "types_to_exclude": [
    "module",
    "function",
    "builtin_function_or_method",
    "instance",
    "_Feature"
   ],
   "window_display": false
  }
 },
 "nbformat": 4,
 "nbformat_minor": 4
}
