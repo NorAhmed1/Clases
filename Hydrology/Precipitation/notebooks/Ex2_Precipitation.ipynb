{
 "cells": [
  {
   "cell_type": "markdown",
   "metadata": {},
   "source": [
    "# Precipitation exercises\n",
    "***\n",
    "\n",
    "## <font color=steelblue>Exercise 2 - Double-mass curve<br>\n",
    "\n",
    "<font color=steelblue>The table *2MassCurve* in the file *RainfallData.xlsx* provides annual precipitation measured over a 17-yr period at five gages in a region. Gage C was moved at the end of 1974. Carry out a double-mass curve analysis to check for consistency in the record of that gage C, and make appropriate adjustments to correct for any inconsistencies.</font>"
   ]
  },
  {
   "cell_type": "code",
   "execution_count": 2,
   "metadata": {},
   "outputs": [],
   "source": [
    "import numpy as np\n",
    "\n",
    "import pandas as pd\n",
    "\n",
    "import matplotlib.pyplot as plt\n",
    "import seaborn as sns\n",
    "sns.set()\n",
    "sns.set_context('notebook')"
   ]
  },
  {
   "cell_type": "markdown",
   "metadata": {},
   "source": [
    "## Introduction\n",
    "A **double mass curve** is a plot of the cumulative data of one variable against the cumulative data of another variable (or against the average cumulative values of the same variable in different locations) during the same period.\n",
    "    \n",
    "<img src=\"img/Double mass curve.JPG\" alt=\"Mountain View\" style=\"width:450px\">\n",
    "\n",
    "> <font color=grey>Double-mass curve of precipitation data. *(Double-Mass Curves. USGS, 1960)*.</font>\n",
    "    \n",
    "If no change occurred during the period, the plot must be a straight line in which slope is the constant of proportionality between series. A break in the slope means that a change in the constant of proportionality.\n",
    "\n",
    "The double-mass curve, when applied to precipitation, adopts the form $Y=bX$, where $b$ is the slope. This form implies that the line should not have an intercept."
   ]
  },
  {
   "cell_type": "markdown",
   "metadata": {},
   "source": [
    "### Import data"
   ]
  },
  {
   "cell_type": "code",
   "execution_count": 3,
   "metadata": {},
   "outputs": [
    {
     "data": {
      "text/html": [
       "<div>\n",
       "<style scoped>\n",
       "    .dataframe tbody tr th:only-of-type {\n",
       "        vertical-align: middle;\n",
       "    }\n",
       "\n",
       "    .dataframe tbody tr th {\n",
       "        vertical-align: top;\n",
       "    }\n",
       "\n",
       "    .dataframe thead th {\n",
       "        text-align: right;\n",
       "    }\n",
       "</style>\n",
       "<table border=\"1\" class=\"dataframe\">\n",
       "  <thead>\n",
       "    <tr style=\"text-align: right;\">\n",
       "      <th></th>\n",
       "      <th>A</th>\n",
       "      <th>B</th>\n",
       "      <th>C</th>\n",
       "      <th>D</th>\n",
       "      <th>E</th>\n",
       "    </tr>\n",
       "  </thead>\n",
       "  <tbody>\n",
       "    <tr>\n",
       "      <th>count</th>\n",
       "      <td>17.000000</td>\n",
       "      <td>17.000000</td>\n",
       "      <td>17.000000</td>\n",
       "      <td>17.000000</td>\n",
       "      <td>17.000000</td>\n",
       "    </tr>\n",
       "    <tr>\n",
       "      <th>mean</th>\n",
       "      <td>1094.588235</td>\n",
       "      <td>1059.058824</td>\n",
       "      <td>974.529412</td>\n",
       "      <td>972.117647</td>\n",
       "      <td>1093.058824</td>\n",
       "    </tr>\n",
       "    <tr>\n",
       "      <th>std</th>\n",
       "      <td>154.527125</td>\n",
       "      <td>161.344922</td>\n",
       "      <td>214.418142</td>\n",
       "      <td>154.720669</td>\n",
       "      <td>185.289460</td>\n",
       "    </tr>\n",
       "    <tr>\n",
       "      <th>min</th>\n",
       "      <td>801.000000</td>\n",
       "      <td>751.000000</td>\n",
       "      <td>710.000000</td>\n",
       "      <td>683.000000</td>\n",
       "      <td>771.000000</td>\n",
       "    </tr>\n",
       "    <tr>\n",
       "      <th>25%</th>\n",
       "      <td>1010.000000</td>\n",
       "      <td>978.000000</td>\n",
       "      <td>825.000000</td>\n",
       "      <td>875.000000</td>\n",
       "      <td>967.000000</td>\n",
       "    </tr>\n",
       "    <tr>\n",
       "      <th>50%</th>\n",
       "      <td>1140.000000</td>\n",
       "      <td>1056.000000</td>\n",
       "      <td>933.000000</td>\n",
       "      <td>981.000000</td>\n",
       "      <td>1135.000000</td>\n",
       "    </tr>\n",
       "    <tr>\n",
       "      <th>75%</th>\n",
       "      <td>1170.000000</td>\n",
       "      <td>1161.000000</td>\n",
       "      <td>1058.000000</td>\n",
       "      <td>1056.000000</td>\n",
       "      <td>1190.000000</td>\n",
       "    </tr>\n",
       "    <tr>\n",
       "      <th>max</th>\n",
       "      <td>1411.000000</td>\n",
       "      <td>1353.000000</td>\n",
       "      <td>1584.000000</td>\n",
       "      <td>1286.000000</td>\n",
       "      <td>1483.000000</td>\n",
       "    </tr>\n",
       "  </tbody>\n",
       "</table>\n",
       "</div>"
      ],
      "text/plain": [
       "                 A            B            C            D            E\n",
       "count    17.000000    17.000000    17.000000    17.000000    17.000000\n",
       "mean   1094.588235  1059.058824   974.529412   972.117647  1093.058824\n",
       "std     154.527125   161.344922   214.418142   154.720669   185.289460\n",
       "min     801.000000   751.000000   710.000000   683.000000   771.000000\n",
       "25%    1010.000000   978.000000   825.000000   875.000000   967.000000\n",
       "50%    1140.000000  1056.000000   933.000000   981.000000  1135.000000\n",
       "75%    1170.000000  1161.000000  1058.000000  1056.000000  1190.000000\n",
       "max    1411.000000  1353.000000  1584.000000  1286.000000  1483.000000"
      ]
     },
     "execution_count": 3,
     "metadata": {},
     "output_type": "execute_result"
    }
   ],
   "source": [
    "# import data from sheet '2MassCurve' in file 'RainfallData.xlxs'\n",
    "data2 = pd.read_excel('..\\data\\RainfallData.xlsx', sheet_name='2MassCurve',\n",
    "                      skiprows=4,\n",
    "             index_col=0, usecols=range(6))\n",
    "data2.describe()"
   ]
  },
  {
   "cell_type": "code",
   "execution_count": 4,
   "metadata": {},
   "outputs": [
    {
     "data": {
      "text/html": [
       "<div>\n",
       "<style scoped>\n",
       "    .dataframe tbody tr th:only-of-type {\n",
       "        vertical-align: middle;\n",
       "    }\n",
       "\n",
       "    .dataframe tbody tr th {\n",
       "        vertical-align: top;\n",
       "    }\n",
       "\n",
       "    .dataframe thead th {\n",
       "        text-align: right;\n",
       "    }\n",
       "</style>\n",
       "<table border=\"1\" class=\"dataframe\">\n",
       "  <thead>\n",
       "    <tr style=\"text-align: right;\">\n",
       "      <th></th>\n",
       "      <th>A</th>\n",
       "      <th>B</th>\n",
       "      <th>C</th>\n",
       "      <th>D</th>\n",
       "      <th>E</th>\n",
       "      <th>AVG</th>\n",
       "    </tr>\n",
       "    <tr>\n",
       "      <th>Year</th>\n",
       "      <th></th>\n",
       "      <th></th>\n",
       "      <th></th>\n",
       "      <th></th>\n",
       "      <th></th>\n",
       "      <th></th>\n",
       "    </tr>\n",
       "  </thead>\n",
       "  <tbody>\n",
       "    <tr>\n",
       "      <th>1970</th>\n",
       "      <td>1010</td>\n",
       "      <td>1161</td>\n",
       "      <td>780</td>\n",
       "      <td>949</td>\n",
       "      <td>1135</td>\n",
       "      <td>1007.0</td>\n",
       "    </tr>\n",
       "    <tr>\n",
       "      <th>1971</th>\n",
       "      <td>1005</td>\n",
       "      <td>978</td>\n",
       "      <td>1041</td>\n",
       "      <td>784</td>\n",
       "      <td>970</td>\n",
       "      <td>955.6</td>\n",
       "    </tr>\n",
       "    <tr>\n",
       "      <th>1972</th>\n",
       "      <td>1067</td>\n",
       "      <td>1226</td>\n",
       "      <td>1027</td>\n",
       "      <td>1067</td>\n",
       "      <td>1158</td>\n",
       "      <td>1109.0</td>\n",
       "    </tr>\n",
       "    <tr>\n",
       "      <th>1973</th>\n",
       "      <td>1051</td>\n",
       "      <td>880</td>\n",
       "      <td>825</td>\n",
       "      <td>1014</td>\n",
       "      <td>1022</td>\n",
       "      <td>958.4</td>\n",
       "    </tr>\n",
       "    <tr>\n",
       "      <th>1974</th>\n",
       "      <td>801</td>\n",
       "      <td>1146</td>\n",
       "      <td>933</td>\n",
       "      <td>923</td>\n",
       "      <td>821</td>\n",
       "      <td>924.8</td>\n",
       "    </tr>\n",
       "  </tbody>\n",
       "</table>\n",
       "</div>"
      ],
      "text/plain": [
       "         A     B     C     D     E     AVG\n",
       "Year                                      \n",
       "1970  1010  1161   780   949  1135  1007.0\n",
       "1971  1005   978  1041   784   970   955.6\n",
       "1972  1067  1226  1027  1067  1158  1109.0\n",
       "1973  1051   880   825  1014  1022   958.4\n",
       "1974   801  1146   933   923   821   924.8"
      ]
     },
     "execution_count": 4,
     "metadata": {},
     "output_type": "execute_result"
    }
   ],
   "source": [
    "# compute annual average across all gages\n",
    "data2['AVG'] = data2.mean(axis=1)\n",
    "data2.head()"
   ]
  },
  {
   "cell_type": "markdown",
   "metadata": {},
   "source": [
    "__Visualize the data__\n",
    "We will create first a scatter plot comparing the annual series of precipitation in gage G against the average across gages. \n",
    "\n",
    "Primeramente, creamos un gráfico de dispersión que compare la serie de precipitación anual en el pluviómetro C frente a la media de todas las estaciones. La gráfica muestra también la regresión lineal entre las dos series según la fórmula $Y=bX$."
   ]
  },
  {
   "cell_type": "code",
   "execution_count": 17,
   "metadata": {},
   "outputs": [
    {
     "data": {
      "image/png": "[encoded data removed]",
      "text/plain": [
       "<Figure size 360x360 with 1 Axes>"
      ]
     },
     "metadata": {
      "needs_background": "light"
     },
     "output_type": "display_data"
    }
   ],
   "source": [
    "plt.figure(figsize=(5, 5))\n",
    "plt.axis('equal')\n",
    "plt.scatter(data2.AVG, data2.C)\n",
    "plt.xlabel('average across gages')\n",
    "plt.ylabel('gage C');"
   ]
  },
  {
   "cell_type": "markdown",
   "metadata": {},
   "source": [
    "This type of plot has a large dispersion, so it isn't convenient to spot anomalies.\n",
    "\n",
    "Instead, we will plot a __double mass curve__. This plot  is created from the series of __accumulated precipitation__. This way, the plot must have always a positive and continues trend, allowing us to identity anomalies in the precipitation records."
   ]
  },
  {
   "cell_type": "markdown",
   "metadata": {},
   "source": [
    "```Python\n",
    "\n",
    "\n",
    "# Ajustar la regresión lineal\n",
    "b = curve_fit(linear_reg, data2.AVG, data2.C)[0][0]\n",
    "b\n",
    "\n",
    "fig, ax = plt.subplots(figsize=(5,5))\n",
    "\n",
    "# configuración\n",
    "ax.set_title('Serie de precipitación media anual (mm)', fontsize=14,\n",
    "             fontweight='bold')\n",
    "ax.set_xlabel('media de todas las estaciones', fontsize=13)\n",
    "ax.set_ylabel('estación C', fontsize=13)\n",
    "ax.set(xlim=(600, 1600), ylim=(600, 1600))\n",
    "\n",
    "# diagrama de dispersión\n",
    "ax.scatter(data2.AVG, data2.C)\n",
    "\n",
    "# recta de regresión\n",
    "ax.plot([0, 3000], [0, b * 3000], 'r--', linewidth=1)\n",
    "\n",
    "# label one every five years\n",
    "years = data2.index[::5]\n",
    "xyear = [data2.loc[year, 'AVG'] + 10 for year in years]\n",
    "yyear = [data2.loc[year, 'C'] - 20 for year in years] \n",
    "for i, year in enumerate(years):\n",
    "    ax.text(xyear[i], yyear[i], year, verticalalignment='center')\n",
    "\n",
    "plt.tight_layout()\n",
    "```"
   ]
  },
  {
   "cell_type": "code",
   "execution_count": 11,
   "metadata": {},
   "outputs": [
    {
     "data": {
      "text/html": [
       "<div>\n",
       "<style scoped>\n",
       "    .dataframe tbody tr th:only-of-type {\n",
       "        vertical-align: middle;\n",
       "    }\n",
       "\n",
       "    .dataframe tbody tr th {\n",
       "        vertical-align: top;\n",
       "    }\n",
       "\n",
       "    .dataframe thead th {\n",
       "        text-align: right;\n",
       "    }\n",
       "</style>\n",
       "<table border=\"1\" class=\"dataframe\">\n",
       "  <thead>\n",
       "    <tr style=\"text-align: right;\">\n",
       "      <th></th>\n",
       "      <th>A</th>\n",
       "      <th>B</th>\n",
       "      <th>C</th>\n",
       "      <th>D</th>\n",
       "      <th>E</th>\n",
       "      <th>AVG</th>\n",
       "    </tr>\n",
       "    <tr>\n",
       "      <th>Year</th>\n",
       "      <th></th>\n",
       "      <th></th>\n",
       "      <th></th>\n",
       "      <th></th>\n",
       "      <th></th>\n",
       "      <th></th>\n",
       "    </tr>\n",
       "  </thead>\n",
       "  <tbody>\n",
       "    <tr>\n",
       "      <th>1970</th>\n",
       "      <td>1010.0</td>\n",
       "      <td>1161.0</td>\n",
       "      <td>780.0</td>\n",
       "      <td>949.0</td>\n",
       "      <td>1135.0</td>\n",
       "      <td>1007.0</td>\n",
       "    </tr>\n",
       "    <tr>\n",
       "      <th>1971</th>\n",
       "      <td>2015.0</td>\n",
       "      <td>2139.0</td>\n",
       "      <td>1821.0</td>\n",
       "      <td>1733.0</td>\n",
       "      <td>2105.0</td>\n",
       "      <td>1962.6</td>\n",
       "    </tr>\n",
       "    <tr>\n",
       "      <th>1972</th>\n",
       "      <td>3082.0</td>\n",
       "      <td>3365.0</td>\n",
       "      <td>2848.0</td>\n",
       "      <td>2800.0</td>\n",
       "      <td>3263.0</td>\n",
       "      <td>3071.6</td>\n",
       "    </tr>\n",
       "    <tr>\n",
       "      <th>1973</th>\n",
       "      <td>4133.0</td>\n",
       "      <td>4245.0</td>\n",
       "      <td>3673.0</td>\n",
       "      <td>3814.0</td>\n",
       "      <td>4285.0</td>\n",
       "      <td>4030.0</td>\n",
       "    </tr>\n",
       "    <tr>\n",
       "      <th>1974</th>\n",
       "      <td>4934.0</td>\n",
       "      <td>5391.0</td>\n",
       "      <td>4606.0</td>\n",
       "      <td>4737.0</td>\n",
       "      <td>5106.0</td>\n",
       "      <td>4954.8</td>\n",
       "    </tr>\n",
       "  </tbody>\n",
       "</table>\n",
       "</div>"
      ],
      "text/plain": [
       "           A       B       C       D       E     AVG\n",
       "Year                                                \n",
       "1970  1010.0  1161.0   780.0   949.0  1135.0  1007.0\n",
       "1971  2015.0  2139.0  1821.0  1733.0  2105.0  1962.6\n",
       "1972  3082.0  3365.0  2848.0  2800.0  3263.0  3071.6\n",
       "1973  4133.0  4245.0  3673.0  3814.0  4285.0  4030.0\n",
       "1974  4934.0  5391.0  4606.0  4737.0  5106.0  4954.8"
      ]
     },
     "execution_count": 11,
     "metadata": {},
     "output_type": "execute_result"
    }
   ],
   "source": [
    "# annual series of accumulated precipitation\n",
    "accData2 = data2.cumsum()\n",
    "accData2.head()"
   ]
  },
  {
   "cell_type": "code",
   "execution_count": 140,
   "metadata": {},
   "outputs": [],
   "source": [
    "def linear_reg(x, m, n):\n",
    "    \"\"\"Linear regression with no intecept\n",
    "    \n",
    "    y = b * x   \n",
    "    \n",
    "    Input:\n",
    "    ------\n",
    "    x:         float. Independet value\n",
    "    b:         float. Slope of the linear regression\n",
    "    \n",
    "    Output:\n",
    "    -------\n",
    "    y:         float. Regressed value\"\"\"\n",
    "    \n",
    "    y = m * x + n\n",
    "    \n",
    "    return y"
   ]
  },
  {
   "cell_type": "code",
   "execution_count": 141,
   "metadata": {},
   "outputs": [],
   "source": [
    "from scipy.optimize import curve_fit"
   ]
  },
  {
   "cell_type": "code",
   "execution_count": 143,
   "metadata": {},
   "outputs": [
    {
     "data": {
      "text/plain": [
       "(0.9396815850007384, 91.67709491191258)"
      ]
     },
     "execution_count": 143,
     "metadata": {},
     "output_type": "execute_result"
    }
   ],
   "source": [
    "[m , n], pcov = curve_fit(linear_reg, accData2.AVG, accData2.C)\n",
    "m, n"
   ]
  },
  {
   "cell_type": "code",
   "execution_count": 148,
   "metadata": {},
   "outputs": [
    {
     "data": {
      "text/plain": [
       "0.9472720120775414"
      ]
     },
     "execution_count": 148,
     "metadata": {},
     "output_type": "execute_result"
    }
   ],
   "source": [
    "[m], pcov = curve_fit(lambda x, m: linear_reg(x, m, n=0), accData2.AVG, accData2.C)\n",
    "m"
   ]
  },
  {
   "cell_type": "code",
   "execution_count": 110,
   "metadata": {},
   "outputs": [
    {
     "data": {
      "text/plain": [
       "array([ 0.93968159, 91.6770946 ])"
      ]
     },
     "execution_count": 110,
     "metadata": {},
     "output_type": "execute_result"
    }
   ],
   "source": [
    "np.polyfit(accData2.AVG, accData2.C, 1)"
   ]
  },
  {
   "cell_type": "code",
   "execution_count": 113,
   "metadata": {},
   "outputs": [
    {
     "name": "stdout",
     "output_type": "stream",
     "text": [
      "0.9472720120806882 0.9396815850437893\n"
     ]
    }
   ],
   "source": [
    "X = accData2.AVG.values.reshape(-1, 1)\n",
    "y = accData2.C.values.reshape(-1, 1)\n",
    "lr1 = LinearRegression(fit_intercept=False).fit(X, y)\n",
    "m1 = lr1.coef_[0][0]\n",
    "lr2 = LinearRegression(fit_intercept=True).fit(X, y)\n",
    "m2 = lr2.coef_[0][0]\n",
    "print(m1, m2)"
   ]
  },
  {
   "cell_type": "code",
   "execution_count": 35,
   "metadata": {},
   "outputs": [],
   "source": [
    "from scipy.stats import linregress"
   ]
  },
  {
   "cell_type": "code",
   "execution_count": 40,
   "metadata": {},
   "outputs": [],
   "source": [
    "from sklearn.linear_model import LinearRegression"
   ]
  },
  {
   "cell_type": "code",
   "execution_count": 86,
   "metadata": {},
   "outputs": [
    {
     "data": {
      "text/plain": [
       "0.9472720120806882"
      ]
     },
     "execution_count": 86,
     "metadata": {},
     "output_type": "execute_result"
    }
   ],
   "source": [
    "X = accData2.AVG.values.reshape(-1, 1)\n",
    "y = accData2.C.values.reshape(-1, 1)\n",
    "lr = LinearRegression(fit_intercept=False).fit(X, y)\n",
    "m = lr.coef_[0][0]\n",
    "m"
   ]
  },
  {
   "cell_type": "code",
   "execution_count": 67,
   "metadata": {},
   "outputs": [],
   "source": [
    "x = np.array([0, 18000])\n",
    "y = m * x"
   ]
  },
  {
   "cell_type": "code",
   "execution_count": 68,
   "metadata": {},
   "outputs": [
    {
     "data": {
      "text/plain": [
       "(array([    0, 18000]), array([    0.        , 17050.89621745]))"
      ]
     },
     "execution_count": 68,
     "metadata": {},
     "output_type": "execute_result"
    }
   ],
   "source": [
    "x, y"
   ]
  },
  {
   "cell_type": "code",
   "execution_count": 70,
   "metadata": {},
   "outputs": [
    {
     "data": {
      "image/png": "[encoded data removed]",
      "text/plain": [
       "<Figure size 360x360 with 1 Axes>"
      ]
     },
     "metadata": {
      "needs_background": "light"
     },
     "output_type": "display_data"
    }
   ],
   "source": [
    "plt.figure(figsize=(5, 5))\n",
    "plt.axis('equal')\n",
    "plt.plot(x, y, linestyle='--', c='black', linewidth=.5, label='lin-reg')\n",
    "plt.plot(accData2.AVG, accData2.C, label='double-mass')\n",
    "plt.scatter(accData2.loc[1974, 'AVG'], accData2.loc[1974, 'C'])\n",
    "plt.xlabel('average across gages')\n",
    "plt.ylabel('gage C')\n",
    "plt.legend();"
   ]
  },
  {
   "cell_type": "code",
   "execution_count": 95,
   "metadata": {},
   "outputs": [
    {
     "name": "stdout",
     "output_type": "stream",
     "text": [
      "Potential anomaly: year 1975\n",
      "Potential anomaly: year 1976\n",
      "Potential anomaly: year 1977\n",
      "Potential anomaly: year 1978\n",
      "Potential anomaly: year 1979\n"
     ]
    }
   ],
   "source": [
    "thr = 0.1\n",
    "df_1 = pd.DataFrame(index=accData2.index[4:-4], columns=['m1', 'n1', 'm2', 'n2', 'Am'])\n",
    "# identify year with anomaly\n",
    "for j, year in enumerate(accData2.index[4:-4]):\n",
    "    # slope of the linear regression until j\n",
    "    m1, n1 = np.polyfit(accData2.loc[:year, 'AVG'], accData2.loc[:year, 'C'], 1)\n",
    "    # slope of the linear regression from j\n",
    "    m2, n2 = np.polyfit(accData2.loc[year:, 'AVG'], accData2.loc[year:, 'C'], 1)\n",
    "    # save fit\n",
    "    df_1.loc[year,:] = [m1, n1, m2, n2, m1/m2]\n",
    "    # there's an anomaly if the quotient between slopes exceeds a threshold\n",
    "    if (m1 / m2 < 1 - thr) | (m1 / m2 > 1 + thr):\n",
    "        print(\"Potential anomaly: year {0}\".format(year))"
   ]
  },
  {
   "cell_type": "code",
   "execution_count": 96,
   "metadata": {},
   "outputs": [
    {
     "data": {
      "text/html": [
       "<div>\n",
       "<style scoped>\n",
       "    .dataframe tbody tr th:only-of-type {\n",
       "        vertical-align: middle;\n",
       "    }\n",
       "\n",
       "    .dataframe tbody tr th {\n",
       "        vertical-align: top;\n",
       "    }\n",
       "\n",
       "    .dataframe thead th {\n",
       "        text-align: right;\n",
       "    }\n",
       "</style>\n",
       "<table border=\"1\" class=\"dataframe\">\n",
       "  <thead>\n",
       "    <tr style=\"text-align: right;\">\n",
       "      <th></th>\n",
       "      <th>m1</th>\n",
       "      <th>n1</th>\n",
       "      <th>m2</th>\n",
       "      <th>n2</th>\n",
       "      <th>Am</th>\n",
       "    </tr>\n",
       "    <tr>\n",
       "      <th>Year</th>\n",
       "      <th></th>\n",
       "      <th></th>\n",
       "      <th></th>\n",
       "      <th></th>\n",
       "      <th></th>\n",
       "    </tr>\n",
       "  </thead>\n",
       "  <tbody>\n",
       "    <tr>\n",
       "      <th>1974</th>\n",
       "      <td>0.953751</td>\n",
       "      <td>-120.614</td>\n",
       "      <td>0.90752</td>\n",
       "      <td>511.557</td>\n",
       "      <td>1.05094</td>\n",
       "    </tr>\n",
       "    <tr>\n",
       "      <th>1975</th>\n",
       "      <td>0.99647</td>\n",
       "      <td>-223.284</td>\n",
       "      <td>0.889223</td>\n",
       "      <td>762.713</td>\n",
       "      <td>1.12061</td>\n",
       "    </tr>\n",
       "    <tr>\n",
       "      <th>1976</th>\n",
       "      <td>1.01996</td>\n",
       "      <td>-287.564</td>\n",
       "      <td>0.879907</td>\n",
       "      <td>894.716</td>\n",
       "      <td>1.15916</td>\n",
       "    </tr>\n",
       "    <tr>\n",
       "      <th>1977</th>\n",
       "      <td>1.02932</td>\n",
       "      <td>-315.73</td>\n",
       "      <td>0.878315</td>\n",
       "      <td>917.902</td>\n",
       "      <td>1.17193</td>\n",
       "    </tr>\n",
       "    <tr>\n",
       "      <th>1978</th>\n",
       "      <td>1.02506</td>\n",
       "      <td>-301.368</td>\n",
       "      <td>0.884708</td>\n",
       "      <td>822.916</td>\n",
       "      <td>1.15864</td>\n",
       "    </tr>\n",
       "    <tr>\n",
       "      <th>1979</th>\n",
       "      <td>1.00846</td>\n",
       "      <td>-239.629</td>\n",
       "      <td>0.897753</td>\n",
       "      <td>624.443</td>\n",
       "      <td>1.12332</td>\n",
       "    </tr>\n",
       "    <tr>\n",
       "      <th>1980</th>\n",
       "      <td>0.994037</td>\n",
       "      <td>-181.43</td>\n",
       "      <td>0.90593</td>\n",
       "      <td>497.076</td>\n",
       "      <td>1.09726</td>\n",
       "    </tr>\n",
       "    <tr>\n",
       "      <th>1981</th>\n",
       "      <td>0.978987</td>\n",
       "      <td>-115.2</td>\n",
       "      <td>0.919882</td>\n",
       "      <td>275.417</td>\n",
       "      <td>1.06425</td>\n",
       "    </tr>\n",
       "    <tr>\n",
       "      <th>1982</th>\n",
       "      <td>0.964592</td>\n",
       "      <td>-46.3296</td>\n",
       "      <td>0.932261</td>\n",
       "      <td>74.56</td>\n",
       "      <td>1.03468</td>\n",
       "    </tr>\n",
       "  </tbody>\n",
       "</table>\n",
       "</div>"
      ],
      "text/plain": [
       "            m1       n1        m2       n2       Am\n",
       "Year                                               \n",
       "1974  0.953751 -120.614   0.90752  511.557  1.05094\n",
       "1975   0.99647 -223.284  0.889223  762.713  1.12061\n",
       "1976   1.01996 -287.564  0.879907  894.716  1.15916\n",
       "1977   1.02932  -315.73  0.878315  917.902  1.17193\n",
       "1978   1.02506 -301.368  0.884708  822.916  1.15864\n",
       "1979   1.00846 -239.629  0.897753  624.443  1.12332\n",
       "1980  0.994037  -181.43   0.90593  497.076  1.09726\n",
       "1981  0.978987   -115.2  0.919882  275.417  1.06425\n",
       "1982  0.964592 -46.3296  0.932261    74.56  1.03468"
      ]
     },
     "execution_count": 96,
     "metadata": {},
     "output_type": "execute_result"
    }
   ],
   "source": [
    "df_1"
   ]
  },
  {
   "cell_type": "markdown",
   "metadata": {},
   "source": [
    "The analysis denotes a change in the slope starting in 1975. This means that there must have been a change in conditions in that year. Since we do not have further information to assess whether the correct series is before or after 1975, we'll correct the later according to the former."
   ]
  },
  {
   "cell_type": "code",
   "execution_count": 106,
   "metadata": {},
   "outputs": [
    {
     "name": "stdout",
     "output_type": "stream",
     "text": [
      "Potential anomaly: year 1975\n",
      "Potential anomaly: year 1976\n",
      "Potential anomaly: year 1977\n",
      "Potential anomaly: year 1978\n",
      "Potential anomaly: year 1979\n"
     ]
    }
   ],
   "source": [
    "# identify year with anomaly\n",
    "df_2 = pd.DataFrame(index=accData2.index[4:-4], columns=['m1', 'm2', 'n2', 'Am'])\n",
    "for j, year in enumerate(accData2.index[4:-4]):\n",
    "    # slope of the linear regression until j\n",
    "    X = accData2.loc[:year, 'AVG'].values.reshape(-1, 1)\n",
    "    y = accData2.loc[:year, 'C'].values.reshape(-1, 1)\n",
    "    lr1 = LinearRegression(fit_intercept=True).fit(X, y)\n",
    "    m1 = lr1.coef_[0][0]\n",
    "    #p1 = np.polyfit(accData.loc[:year, 'AVG'], accData.loc[:year, 'C'], 1)\n",
    "    # slope of the linear regression from j\n",
    "    X = accData2.loc[year + 1:, 'AVG'].values.reshape(-1, 1)\n",
    "    y = accData2.loc[year + 1:, 'C'].values.reshape(-1, 1)\n",
    "    lr2 = LinearRegression(fit_intercept=True).fit(X, y)\n",
    "    m2, n2 = lr2.coef_[0][0], lr2.intercept_[0]\n",
    "    #p2 = np.polyfit(accData.loc[year + 1:, 'AVG'], accData.loc[year + 1:, 'C'], 1)\n",
    "    # save fit\n",
    "    df_2.loc[year,:] = [m1, m2, n2, m1/m2]\n",
    "    # there's an anomaly if the quotient between slopes is remarkable\n",
    "    if (m1 / m2 < 1 - thr) | (m1 / m2 > 1 + thr):\n",
    "        print(\"Potential anomaly: year {0}\".format(year))"
   ]
  },
  {
   "cell_type": "code",
   "execution_count": 107,
   "metadata": {},
   "outputs": [
    {
     "data": {
      "text/html": [
       "<div>\n",
       "<style scoped>\n",
       "    .dataframe tbody tr th:only-of-type {\n",
       "        vertical-align: middle;\n",
       "    }\n",
       "\n",
       "    .dataframe tbody tr th {\n",
       "        vertical-align: top;\n",
       "    }\n",
       "\n",
       "    .dataframe thead th {\n",
       "        text-align: right;\n",
       "    }\n",
       "</style>\n",
       "<table border=\"1\" class=\"dataframe\">\n",
       "  <thead>\n",
       "    <tr style=\"text-align: right;\">\n",
       "      <th></th>\n",
       "      <th>m1</th>\n",
       "      <th>m2</th>\n",
       "      <th>n2</th>\n",
       "      <th>Am</th>\n",
       "    </tr>\n",
       "    <tr>\n",
       "      <th>Year</th>\n",
       "      <th></th>\n",
       "      <th></th>\n",
       "      <th></th>\n",
       "      <th></th>\n",
       "    </tr>\n",
       "  </thead>\n",
       "  <tbody>\n",
       "    <tr>\n",
       "      <th>1974</th>\n",
       "      <td>0.953751</td>\n",
       "      <td>0.889223</td>\n",
       "      <td>762.713</td>\n",
       "      <td>1.07257</td>\n",
       "    </tr>\n",
       "    <tr>\n",
       "      <th>1975</th>\n",
       "      <td>0.99647</td>\n",
       "      <td>0.879907</td>\n",
       "      <td>894.716</td>\n",
       "      <td>1.13247</td>\n",
       "    </tr>\n",
       "    <tr>\n",
       "      <th>1976</th>\n",
       "      <td>1.01996</td>\n",
       "      <td>0.878315</td>\n",
       "      <td>917.902</td>\n",
       "      <td>1.16126</td>\n",
       "    </tr>\n",
       "    <tr>\n",
       "      <th>1977</th>\n",
       "      <td>1.02932</td>\n",
       "      <td>0.884708</td>\n",
       "      <td>822.916</td>\n",
       "      <td>1.16346</td>\n",
       "    </tr>\n",
       "    <tr>\n",
       "      <th>1978</th>\n",
       "      <td>1.02506</td>\n",
       "      <td>0.897753</td>\n",
       "      <td>624.443</td>\n",
       "      <td>1.1418</td>\n",
       "    </tr>\n",
       "    <tr>\n",
       "      <th>1979</th>\n",
       "      <td>1.00846</td>\n",
       "      <td>0.90593</td>\n",
       "      <td>497.076</td>\n",
       "      <td>1.11318</td>\n",
       "    </tr>\n",
       "    <tr>\n",
       "      <th>1980</th>\n",
       "      <td>0.994037</td>\n",
       "      <td>0.919882</td>\n",
       "      <td>275.417</td>\n",
       "      <td>1.08061</td>\n",
       "    </tr>\n",
       "    <tr>\n",
       "      <th>1981</th>\n",
       "      <td>0.978987</td>\n",
       "      <td>0.932261</td>\n",
       "      <td>74.56</td>\n",
       "      <td>1.05012</td>\n",
       "    </tr>\n",
       "    <tr>\n",
       "      <th>1982</th>\n",
       "      <td>0.964592</td>\n",
       "      <td>0.925351</td>\n",
       "      <td>189.125</td>\n",
       "      <td>1.04241</td>\n",
       "    </tr>\n",
       "  </tbody>\n",
       "</table>\n",
       "</div>"
      ],
      "text/plain": [
       "            m1        m2       n2       Am\n",
       "Year                                      \n",
       "1974  0.953751  0.889223  762.713  1.07257\n",
       "1975   0.99647  0.879907  894.716  1.13247\n",
       "1976   1.01996  0.878315  917.902  1.16126\n",
       "1977   1.02932  0.884708  822.916  1.16346\n",
       "1978   1.02506  0.897753  624.443   1.1418\n",
       "1979   1.00846   0.90593  497.076  1.11318\n",
       "1980  0.994037  0.919882  275.417  1.08061\n",
       "1981  0.978987  0.932261    74.56  1.05012\n",
       "1982  0.964592  0.925351  189.125  1.04241"
      ]
     },
     "execution_count": 107,
     "metadata": {},
     "output_type": "execute_result"
    }
   ],
   "source": [
    "df_2"
   ]
  },
  {
   "cell_type": "code",
   "execution_count": 12,
   "metadata": {},
   "outputs": [
    {
     "ename": "NameError",
     "evalue": "name 'curve_fit' is not defined",
     "output_type": "error",
     "traceback": [
      "\u001b[1;31m---------------------------------------------------------------------------\u001b[0m",
      "\u001b[1;31mNameError\u001b[0m                                 Traceback (most recent call last)",
      "\u001b[1;32m<ipython-input-12-49fa9fd2d1b7>\u001b[0m in \u001b[0;36m<module>\u001b[1;34m\u001b[0m\n\u001b[0;32m      1\u001b[0m \u001b[1;31m# ajustar la regresión lineal\u001b[0m\u001b[1;33m\u001b[0m\u001b[1;33m\u001b[0m\u001b[1;33m\u001b[0m\u001b[0m\n\u001b[1;32m----> 2\u001b[1;33m \u001b[0mb\u001b[0m \u001b[1;33m=\u001b[0m \u001b[0mcurve_fit\u001b[0m\u001b[1;33m(\u001b[0m\u001b[0mlinear_reg\u001b[0m\u001b[1;33m,\u001b[0m \u001b[0maccData2\u001b[0m\u001b[1;33m.\u001b[0m\u001b[0mAVG\u001b[0m\u001b[1;33m,\u001b[0m \u001b[0maccData2\u001b[0m\u001b[1;33m.\u001b[0m\u001b[0mC\u001b[0m\u001b[1;33m)\u001b[0m\u001b[1;33m[\u001b[0m\u001b[1;36m0\u001b[0m\u001b[1;33m]\u001b[0m\u001b[1;33m[\u001b[0m\u001b[1;36m0\u001b[0m\u001b[1;33m]\u001b[0m\u001b[1;33m\u001b[0m\u001b[1;33m\u001b[0m\u001b[0m\n\u001b[0m\u001b[0;32m      3\u001b[0m \u001b[0mb\u001b[0m\u001b[1;33m\u001b[0m\u001b[1;33m\u001b[0m\u001b[0m\n",
      "\u001b[1;31mNameError\u001b[0m: name 'curve_fit' is not defined"
     ]
    }
   ],
   "source": [
    "# ajustar la regresión lineal\n",
    "b = curve_fit(linear_reg, accData2.AVG, accData2.C)[0][0]\n",
    "b"
   ]
  },
  {
   "cell_type": "code",
   "execution_count": 13,
   "metadata": {},
   "outputs": [
    {
     "ename": "NameError",
     "evalue": "name 'b' is not defined",
     "output_type": "error",
     "traceback": [
      "\u001b[1;31m---------------------------------------------------------------------------\u001b[0m",
      "\u001b[1;31mNameError\u001b[0m                                 Traceback (most recent call last)",
      "\u001b[1;32m<ipython-input-13-51753574ee38>\u001b[0m in \u001b[0;36m<module>\u001b[1;34m\u001b[0m\n\u001b[0;32m     13\u001b[0m \u001b[1;33m\u001b[0m\u001b[0m\n\u001b[0;32m     14\u001b[0m \u001b[1;31m# regresión lineal\u001b[0m\u001b[1;33m\u001b[0m\u001b[1;33m\u001b[0m\u001b[1;33m\u001b[0m\u001b[0m\n\u001b[1;32m---> 15\u001b[1;33m \u001b[0max\u001b[0m\u001b[1;33m.\u001b[0m\u001b[0mplot\u001b[0m\u001b[1;33m(\u001b[0m\u001b[1;33m[\u001b[0m\u001b[1;36m0\u001b[0m\u001b[1;33m,\u001b[0m \u001b[0mlim\u001b[0m\u001b[1;33m]\u001b[0m\u001b[1;33m,\u001b[0m \u001b[1;33m[\u001b[0m\u001b[1;36m0\u001b[0m\u001b[1;33m,\u001b[0m \u001b[0mb\u001b[0m \u001b[1;33m*\u001b[0m \u001b[0mlim\u001b[0m\u001b[1;33m]\u001b[0m\u001b[1;33m,\u001b[0m \u001b[1;34m'r--'\u001b[0m\u001b[1;33m,\u001b[0m \u001b[0mlinewidth\u001b[0m\u001b[1;33m=\u001b[0m\u001b[1;36m1\u001b[0m\u001b[1;33m)\u001b[0m\u001b[1;33m\u001b[0m\u001b[1;33m\u001b[0m\u001b[0m\n\u001b[0m\u001b[0;32m     16\u001b[0m \u001b[1;33m\u001b[0m\u001b[0m\n\u001b[0;32m     17\u001b[0m \u001b[1;31m# etiquetar uno de cada cinco años\u001b[0m\u001b[1;33m\u001b[0m\u001b[1;33m\u001b[0m\u001b[1;33m\u001b[0m\u001b[0m\n",
      "\u001b[1;31mNameError\u001b[0m: name 'b' is not defined"
     ]
    },
    {
     "data": {
      "image/png": "[encoded data removed]",
      "text/plain": [
       "<Figure size 360x360 with 1 Axes>"
      ]
     },
     "metadata": {
      "needs_background": "light"
     },
     "output_type": "display_data"
    }
   ],
   "source": [
    "fig, ax = plt.subplots(figsize=(5,5))\n",
    "lim = 20000\n",
    "thr = 0.1\n",
    "\n",
    "# configuración\n",
    "ax.set_title('Curva de doble masa (mm)', fontsize=14, fontweight='bold')\n",
    "ax.set_xlabel('media de todas las estaciones', fontsize=13)\n",
    "ax.set_ylabel('estación C', fontsize=13)\n",
    "ax.set(xlim=(0, lim), ylim=(0, lim))\n",
    "\n",
    "# diagrama de dispersión\n",
    "ax.scatter(accData2.AVG, accData2.C, label='original')\n",
    "\n",
    "# regresión lineal\n",
    "ax.plot([0, lim], [0, b * lim], 'r--', linewidth=1)\n",
    "\n",
    "# etiquetar uno de cada cinco años\n",
    "years = accData2.index[::5]\n",
    "xyear = [accData2.loc[year, 'AVG'] + 200 for year in years]\n",
    "yyear = [accData2.loc[year, 'C'] for year in years] \n",
    "for i, year in enumerate(years):\n",
    "    ax.text(xyear[i], yyear[i], year, verticalalignment='center')\n",
    "          \n",
    "plt.tight_layout()"
   ]
  },
  {
   "cell_type": "code",
   "execution_count": null,
   "metadata": {},
   "outputs": [],
   "source": [
    "# identificar años con anomalía\n",
    "for j, year in enumerate(accData2.index[4:-4]):\n",
    "    # pendiente de la recta de regresión hasta 'year'\n",
    "    p1 = np.polyfit(accData2.loc[:year, 'AVG'],\n",
    "                    accData2.loc[:year, 'C'], 1)\n",
    "    # pendiente de la recta de regresión a partir de 'year'\n",
    "    p2 = np.polyfit(accData2.loc[year + 1:, 'AVG'],\n",
    "                    accData2.loc[year + 1:, 'C'], 1)\n",
    "    # identificar como anomalía si el cociente de las pendientes se aleja de 1\n",
    "    if (p1[0] / p2[0] < 1 - thr) | (p1[0] / p2[0] > 1 + thr):\n",
    "        print(\"Potential anomaly: year {0}\".format(year))"
   ]
  },
  {
   "cell_type": "markdown",
   "metadata": {},
   "source": [
    "El análisis muestra un cambio en la pendiente a partir de 1976, lo que concuerda con el hecho de que la estación cambió de ubicación en 1974. Puesto que no disponemos de información para decidir si la serie correcta es la anterior o posterior a 1976, corregiremos los datos previos a dicha fecha."
   ]
  },
  {
   "cell_type": "code",
   "execution_count": null,
   "metadata": {},
   "outputs": [],
   "source": [
    "# año de la anomalía\n",
    "year = 1976"
   ]
  },
  {
   "cell_type": "code",
   "execution_count": null,
   "metadata": {
    "scrolled": true
   },
   "outputs": [],
   "source": [
    "# pendiente antes de la anomalía\n",
    "# ------------------------------\n",
    "b_wrong = curve_fit(linear_reg, accData2.loc[:year, 'AVG'],\n",
    "                    accData2.loc[:year, 'C'])[0][0]\n",
    "b_wrong"
   ]
  },
  {
   "cell_type": "code",
   "execution_count": null,
   "metadata": {},
   "outputs": [],
   "source": [
    "# pendiente después de la anomalía\n",
    "# --------------------------------\n",
    "# extraer datos posteriores a la anomalía\n",
    "temp = data2.loc[year + 1:, :].copy()\n",
    "# calcular serie acumulada\n",
    "accTemp = temp.cumsum(axis=0)    \n",
    "# ajustar la regresión\n",
    "b_right = curve_fit(linear_reg, accTemp.AVG, accTemp.C)[0][0]\n",
    "b_right"
   ]
  },
  {
   "cell_type": "code",
   "execution_count": null,
   "metadata": {},
   "outputs": [],
   "source": [
    "# corregir datos originales\n",
    "# -------------------------\n",
    "# crear columna para los datos corregidos\n",
    "data2['C_c'] = data2.C\n",
    "# corregir datos\n",
    "data2.loc[:year, 'C_c'] = data2.loc[:year, 'C'] * b_right / b_wrong\n",
    "# recalcular la serie acumulada\n",
    "accData2 = data2.cumsum(axis=0)"
   ]
  },
  {
   "cell_type": "code",
   "execution_count": null,
   "metadata": {},
   "outputs": [],
   "source": [
    "# GRÁFICO CON LA SERIE ORIGINAL Y LA CORREGIDA\n",
    "# --------------------------------------------\n",
    "fig, ax = plt.subplots(figsize=(5,5))\n",
    "lim = 20000\n",
    "\n",
    "# configuración\n",
    "ax.set_title('Curva de doble masa (mm)', fontsize=14, fontweight='bold')\n",
    "ax.set_xlabel('media de las estaciones', fontsize=13)\n",
    "ax.set_ylabel('estación C', fontsize=13)\n",
    "ax.set(xlim=(0, lim), ylim=(0, lim))\n",
    "\n",
    "# diagramas de dispersión\n",
    "ax.scatter(accData2.AVG, accData2.C, label='original')\n",
    "ax.scatter(accData2.AVG, accData2.C_c, marker='x', label='corregido')\n",
    "\n",
    "# regresión linal\n",
    "b = curve_fit(linear_reg, accData2.AVG, accData2.C_c)[0][0]\n",
    "ax.plot([0, lim], [0, b * lim], 'r--', linewidth=1)\n",
    "\n",
    "# etiquetas uno de cada cinco años\n",
    "years = accData2.index[::5]\n",
    "xyear = [accData2.loc[year, 'AVG'] + 200 for year in years]\n",
    "yyear = [accData2.loc[year, 'C'] for year in years] \n",
    "for i, year in enumerate(years):\n",
    "    ax.text(xyear[i], yyear[i], year, verticalalignment='center')\n",
    "\n",
    "ax.legend(loc=4, ncol=1, fontsize=13)\n",
    "plt.tight_layout()\n",
    "\n",
    "plt.savefig('../output/Ej2_curva de doble masas.png', dpi=300)"
   ]
  },
  {
   "cell_type": "code",
   "execution_count": null,
   "metadata": {},
   "outputs": [],
   "source": [
    "# exportar datos corregidos\n",
    "data2_c = data2.loc[:, ['A', 'B', 'C_c', 'D', 'E']]\n",
    "data2_c.columns = ['A', 'B', 'C', 'D', 'E']\n",
    "data2_c.to_csv('../output/Ej2_series corregidas.csv', float_format='%.0f')"
   ]
  },
  {
   "cell_type": "code",
   "execution_count": null,
   "metadata": {},
   "outputs": [],
   "source": []
  }
 ],
 "metadata": {
  "anaconda-cloud": {},
  "kernelspec": {
   "display_name": "Python 3",
   "language": "python",
   "name": "python3"
  },
  "language_info": {
   "codemirror_mode": {
    "name": "ipython",
    "version": 3
   },
   "file_extension": ".py",
   "mimetype": "text/x-python",
   "name": "python",
   "nbconvert_exporter": "python",
   "pygments_lexer": "ipython3",
   "version": "3.7.3"
  },
  "varInspector": {
   "cols": {
    "lenName": 16,
    "lenType": 16,
    "lenVar": 40
   },
   "kernels_config": {
    "python": {
     "delete_cmd_postfix": "",
     "delete_cmd_prefix": "del ",
     "library": "var_list.py",
     "varRefreshCmd": "print(var_dic_list())"
    },
    "r": {
     "delete_cmd_postfix": ") ",
     "delete_cmd_prefix": "rm(",
     "library": "var_list.r",
     "varRefreshCmd": "cat(var_dic_list()) "
    }
   },
   "position": {
    "height": "255px",
    "left": "634px",
    "right": "20px",
    "top": "118px",
    "width": "350px"
   },
   "types_to_exclude": [
    "module",
    "function",
    "builtin_function_or_method",
    "instance",
    "_Feature"
   ],
   "window_display": false
  }
 },
 "nbformat": 4,
 "nbformat_minor": 4
}
