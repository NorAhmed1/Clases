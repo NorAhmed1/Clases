{
 "cells": [
  {
   "cell_type": "markdown",
   "metadata": {},
   "source": [
    "# Ejercicios de agua subterránea"
   ]
  },
  {
   "cell_type": "code",
   "execution_count": 6,
   "metadata": {},
   "outputs": [],
   "source": [
    "import numpy as np\n",
    "\n",
    "import pandas as pd\n",
    "\n",
    "from matplotlib import pyplot as plt\n",
    "%matplotlib inline\n",
    "plt.style.use('dark_background')\n",
    "#plt.style.use('seaborn-whitegrid')"
   ]
  },
  {
   "cell_type": "markdown",
   "metadata": {},
   "source": [
    "## <font color=steelblue>Ejercicio 4 - Tensiómetros\n",
    "\n",
    "<font color=steelblue>Considérense dos tensiómetros adyacentes insertados en un _loam_ arenoso no saturado. Ambos tensiómetros tienen una longitud de 20 cm. El tensiómetro A se sitúa a una profundidad de 20 cm y el B a 60 cm. De acuerdo a las lecturas de la siguiente tabla, ¿en qué dirección fluye el agua en cada caso?\n",
    "    \n",
    "<font color=steelblue>Las mediciones se encuentran en el archivo *Ejercicio4_tension.csv*.\n",
    "\n",
    "|Medición            | Caso 1 | Caso 2 | Caso 3 | Caso 4 | Caso 5 |\n",
    "|------------------- |--------|--------|--------|--------|--------|\n",
    "| $\\Psi_{m,A} (cm)$  | 123    | 106    |  39    | 211    |  20    |    \n",
    "| $\\Psi_{m,B} (cm)$  |  22    |  51    |  65    | 185    |  36    |"
   ]
  },
  {
   "cell_type": "code",
   "execution_count": 7,
   "metadata": {},
   "outputs": [],
   "source": [
    "Lten = 20 # cm\n",
    "profA = 20   # cm\n",
    "profB = 60   # cm"
   ]
  },
  {
   "cell_type": "markdown",
   "metadata": {},
   "source": [
    "#### Caso 1"
   ]
  },
  {
   "cell_type": "code",
   "execution_count": 8,
   "metadata": {},
   "outputs": [],
   "source": [
    "psi_mA = -123 # cm\n",
    "psi_mB = -22  # cm"
   ]
  },
  {
   "cell_type": "code",
   "execution_count": 9,
   "metadata": {},
   "outputs": [],
   "source": [
    "# array de los datos\n",
    "psi_m = np.array([psi_mA, psi_mB])\n",
    "prof = np.array([profA, profB])"
   ]
  },
  {
   "cell_type": "code",
   "execution_count": 10,
   "metadata": {},
   "outputs": [
    {
     "data": {
      "text/plain": [
       "array([-103,   -2])"
      ]
     },
     "execution_count": 10,
     "metadata": {},
     "output_type": "execute_result"
    }
   ],
   "source": [
    "# tensión en el bulbo del tensiómetro\n",
    "psi = psi_m + Lten\n",
    "psi"
   ]
  },
  {
   "cell_type": "code",
   "execution_count": 11,
   "metadata": {},
   "outputs": [
    {
     "data": {
      "text/plain": [
       "array([-20, -60])"
      ]
     },
     "execution_count": 11,
     "metadata": {},
     "output_type": "execute_result"
    }
   ],
   "source": [
    "# altura potencial relativa a la superficie\n",
    "z = - prof\n",
    "z"
   ]
  },
  {
   "cell_type": "code",
   "execution_count": 12,
   "metadata": {},
   "outputs": [
    {
     "name": "stdout",
     "output_type": "stream",
     "text": [
      "Ha = -123 cm\tHb = -62 cm\n"
     ]
    }
   ],
   "source": [
    "# altura de energía\n",
    "H = z + psi\n",
    "print('Ha = {0} cm\\tHb = {1} cm'.format(H[0], H[1]))"
   ]
  },
  {
   "cell_type": "code",
   "execution_count": 13,
   "metadata": {},
   "outputs": [
    {
     "name": "stdout",
     "output_type": "stream",
     "text": [
      "flujo en dirección a A\n"
     ]
    }
   ],
   "source": [
    "# definir la dirección del flujo\n",
    "if H[0] > H[1]:\n",
    "    print('flujo en dirección a B')\n",
    "elif H[0] == H[1]:\n",
    "    print('no hay flujo')\n",
    "elif H[0] < H[1]:\n",
    "    print('flujo en dirección a A')"
   ]
  },
  {
   "cell_type": "markdown",
   "metadata": {},
   "source": [
    "#### Todos los casos"
   ]
  },
  {
   "cell_type": "code",
   "execution_count": 14,
   "metadata": {},
   "outputs": [],
   "source": [
    "def direc_flujo(psi_m, prof, Lten):\n",
    "    \"\"\"Se calcula la altura hidráulica en dos puntos del suelo y en función de ella la dirección del flujo subterráneo.\n",
    "    \n",
    "    Entradas:\n",
    "    ---------\n",
    "    psi_m:   list (2,). Valores medidos de la tensión (negativos) en los dos puntos del suelo (cm).\n",
    "    prof:    list (2,). Profundidad (positivos) a la que se ubican los dos tensiómetros (cm)\n",
    "    Lten:    float. Longitud del tensiómetro (cm)\n",
    "    \n",
    "    Salida:\n",
    "    -------\n",
    "    H:       list (2,). Altura de energía en los dos puntos (cm)\"\"\"\n",
    "    \n",
    "    # tensión en el bulbo de los tensiómetros\n",
    "    psi = psi_m + Lten\n",
    "    \n",
    "    # altura potencial relativa a la superficie\n",
    "    z = - prof\n",
    "    \n",
    "    # altura de energía\n",
    "    H = z + psi\n",
    "    print('Ha = {0} cm\\tHb = {1} cm'.format(H[0], H[1]))\n",
    "    \n",
    "    # definir dirección del flujo\n",
    "    if H[0] > H[1]:\n",
    "        print('flujo en dirección a B')\n",
    "    elif H[0] == H[1]:\n",
    "        print('no hay flujo')\n",
    "    elif H[0] < H[1]:\n",
    "        print('flujo en dirección a A')\n",
    "        \n",
    "    return H"
   ]
  },
  {
   "cell_type": "code",
   "execution_count": 15,
   "metadata": {},
   "outputs": [
    {
     "name": "stdout",
     "output_type": "stream",
     "text": [
      "Ha = -123 cm\tHb = -62 cm\n",
      "flujo en dirección a A\n"
     ]
    }
   ],
   "source": [
    "# comprobación para el caso 1\n",
    "H = direc_flujo(psi_m, prof, Lten)"
   ]
  },
  {
   "cell_type": "code",
   "execution_count": 17,
   "metadata": {},
   "outputs": [
    {
     "data": {
      "text/html": [
       "<div>\n",
       "<style scoped>\n",
       "    .dataframe tbody tr th:only-of-type {\n",
       "        vertical-align: middle;\n",
       "    }\n",
       "\n",
       "    .dataframe tbody tr th {\n",
       "        vertical-align: top;\n",
       "    }\n",
       "\n",
       "    .dataframe thead th {\n",
       "        text-align: right;\n",
       "    }\n",
       "</style>\n",
       "<table border=\"1\" class=\"dataframe\">\n",
       "  <thead>\n",
       "    <tr style=\"text-align: right;\">\n",
       "      <th></th>\n",
       "      <th>Caso1</th>\n",
       "      <th>Caso2</th>\n",
       "      <th>Caso3</th>\n",
       "      <th>Caso4</th>\n",
       "      <th>Caso5</th>\n",
       "    </tr>\n",
       "  </thead>\n",
       "  <tbody>\n",
       "    <tr>\n",
       "      <th>A</th>\n",
       "      <td>123</td>\n",
       "      <td>106</td>\n",
       "      <td>39</td>\n",
       "      <td>211</td>\n",
       "      <td>20</td>\n",
       "    </tr>\n",
       "    <tr>\n",
       "      <th>B</th>\n",
       "      <td>22</td>\n",
       "      <td>51</td>\n",
       "      <td>65</td>\n",
       "      <td>185</td>\n",
       "      <td>36</td>\n",
       "    </tr>\n",
       "  </tbody>\n",
       "</table>\n",
       "</div>"
      ],
      "text/plain": [
       "   Caso1  Caso2  Caso3  Caso4  Caso5\n",
       "A    123    106     39    211     20\n",
       "B     22     51     65    185     36"
      ]
     },
     "execution_count": 17,
     "metadata": {},
     "output_type": "execute_result"
    }
   ],
   "source": [
    "# cargar datos\n",
    "Psi_m = pd.read_csv('../data/Ejercicio4_tension.csv', index_col=0)\n",
    "Psi_m.index = ['A', 'B']\n",
    "Psi_m"
   ]
  },
  {
   "cell_type": "code",
   "execution_count": 18,
   "metadata": {},
   "outputs": [
    {
     "data": {
      "text/html": [
       "<div>\n",
       "<style scoped>\n",
       "    .dataframe tbody tr th:only-of-type {\n",
       "        vertical-align: middle;\n",
       "    }\n",
       "\n",
       "    .dataframe tbody tr th {\n",
       "        vertical-align: top;\n",
       "    }\n",
       "\n",
       "    .dataframe thead th {\n",
       "        text-align: right;\n",
       "    }\n",
       "</style>\n",
       "<table border=\"1\" class=\"dataframe\">\n",
       "  <thead>\n",
       "    <tr style=\"text-align: right;\">\n",
       "      <th></th>\n",
       "      <th>Caso1</th>\n",
       "      <th>Caso2</th>\n",
       "      <th>Caso3</th>\n",
       "      <th>Caso4</th>\n",
       "      <th>Caso5</th>\n",
       "    </tr>\n",
       "  </thead>\n",
       "  <tbody>\n",
       "    <tr>\n",
       "      <th>A</th>\n",
       "      <td>NaN</td>\n",
       "      <td>NaN</td>\n",
       "      <td>NaN</td>\n",
       "      <td>NaN</td>\n",
       "      <td>NaN</td>\n",
       "    </tr>\n",
       "    <tr>\n",
       "      <th>B</th>\n",
       "      <td>NaN</td>\n",
       "      <td>NaN</td>\n",
       "      <td>NaN</td>\n",
       "      <td>NaN</td>\n",
       "      <td>NaN</td>\n",
       "    </tr>\n",
       "  </tbody>\n",
       "</table>\n",
       "</div>"
      ],
      "text/plain": [
       "  Caso1 Caso2 Caso3 Caso4 Caso5\n",
       "A   NaN   NaN   NaN   NaN   NaN\n",
       "B   NaN   NaN   NaN   NaN   NaN"
      ]
     },
     "execution_count": 18,
     "metadata": {},
     "output_type": "execute_result"
    }
   ],
   "source": [
    "# tabla con los resultados\n",
    "H = pd.DataFrame(index=Psi_m.index, columns=Psi_m.columns)\n",
    "H"
   ]
  },
  {
   "cell_type": "code",
   "execution_count": 20,
   "metadata": {},
   "outputs": [
    {
     "name": "stdout",
     "output_type": "stream",
     "text": [
      "Caso1\n",
      "Ha = -123 cm\tHb = -62 cm\n",
      "flujo en dirección a A\n",
      "\n",
      "Caso2\n",
      "Ha = -106 cm\tHb = -91 cm\n",
      "flujo en dirección a A\n",
      "\n",
      "Caso3\n",
      "Ha = -39 cm\tHb = -105 cm\n",
      "flujo en dirección a B\n",
      "\n",
      "Caso4\n",
      "Ha = -211 cm\tHb = -225 cm\n",
      "flujo en dirección a B\n",
      "\n",
      "Caso5\n",
      "Ha = -20 cm\tHb = -76 cm\n",
      "flujo en dirección a B\n",
      "\n"
     ]
    },
    {
     "data": {
      "text/html": [
       "<div>\n",
       "<style scoped>\n",
       "    .dataframe tbody tr th:only-of-type {\n",
       "        vertical-align: middle;\n",
       "    }\n",
       "\n",
       "    .dataframe tbody tr th {\n",
       "        vertical-align: top;\n",
       "    }\n",
       "\n",
       "    .dataframe thead th {\n",
       "        text-align: right;\n",
       "    }\n",
       "</style>\n",
       "<table border=\"1\" class=\"dataframe\">\n",
       "  <thead>\n",
       "    <tr style=\"text-align: right;\">\n",
       "      <th></th>\n",
       "      <th>Caso1</th>\n",
       "      <th>Caso2</th>\n",
       "      <th>Caso3</th>\n",
       "      <th>Caso4</th>\n",
       "      <th>Caso5</th>\n",
       "    </tr>\n",
       "  </thead>\n",
       "  <tbody>\n",
       "    <tr>\n",
       "      <th>A</th>\n",
       "      <td>-123</td>\n",
       "      <td>-106</td>\n",
       "      <td>-39</td>\n",
       "      <td>-211</td>\n",
       "      <td>-20</td>\n",
       "    </tr>\n",
       "    <tr>\n",
       "      <th>B</th>\n",
       "      <td>-62</td>\n",
       "      <td>-91</td>\n",
       "      <td>-105</td>\n",
       "      <td>-225</td>\n",
       "      <td>-76</td>\n",
       "    </tr>\n",
       "  </tbody>\n",
       "</table>\n",
       "</div>"
      ],
      "text/plain": [
       "   Caso1  Caso2  Caso3  Caso4  Caso5\n",
       "A   -123   -106    -39   -211    -20\n",
       "B    -62    -91   -105   -225    -76"
      ]
     },
     "execution_count": 20,
     "metadata": {},
     "output_type": "execute_result"
    }
   ],
   "source": [
    "# calcular potenciales y dirección de flujo\n",
    "for i in Psi_m.columns:\n",
    "    print(i)\n",
    "    psi_m = - Psi_m.loc[:, i].values\n",
    "    H.loc[:, i] = direc_flujo(psi_m, prof, Lten)\n",
    "    print()\n",
    "H"
   ]
  },
  {
   "cell_type": "code",
   "execution_count": 22,
   "metadata": {},
   "outputs": [],
   "source": [
    "# guardar los resultados\n",
    "H.index = ['H_A (cm)', 'H_B (cm)']\n",
    "H.to_csv('../output/Ej4_altura potencial.csv')"
   ]
  },
  {
   "cell_type": "code",
   "execution_count": null,
   "metadata": {},
   "outputs": [],
   "source": []
  }
 ],
 "metadata": {
  "kernelspec": {
   "display_name": "Python 3",
   "language": "python",
   "name": "python3"
  },
  "language_info": {
   "codemirror_mode": {
    "name": "ipython",
    "version": 3
   },
   "file_extension": ".py",
   "mimetype": "text/x-python",
   "name": "python",
   "nbconvert_exporter": "python",
   "pygments_lexer": "ipython3",
   "version": "3.7.3"
  },
  "varInspector": {
   "cols": {
    "lenName": 16,
    "lenType": 16,
    "lenVar": 40
   },
   "kernels_config": {
    "python": {
     "delete_cmd_postfix": "",
     "delete_cmd_prefix": "del ",
     "library": "var_list.py",
     "varRefreshCmd": "print(var_dic_list())"
    },
    "r": {
     "delete_cmd_postfix": ") ",
     "delete_cmd_prefix": "rm(",
     "library": "var_list.r",
     "varRefreshCmd": "cat(var_dic_list()) "
    }
   },
   "types_to_exclude": [
    "module",
    "function",
    "builtin_function_or_method",
    "instance",
    "_Feature"
   ],
   "window_display": false
  }
 },
 "nbformat": 4,
 "nbformat_minor": 4
}
