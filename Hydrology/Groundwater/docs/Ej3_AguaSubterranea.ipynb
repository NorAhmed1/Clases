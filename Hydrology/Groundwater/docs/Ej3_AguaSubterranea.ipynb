{
 "cells": [
  {
   "cell_type": "markdown",
   "metadata": {},
   "source": [
    "# Ejercicios de agua subterránea"
   ]
  },
  {
   "cell_type": "code",
   "execution_count": 3,
   "metadata": {},
   "outputs": [],
   "source": [
    "import numpy as np\n",
    "\n",
    "import pandas as pd\n",
    "\n",
    "from matplotlib import pyplot as plt\n",
    "%matplotlib inline\n",
    "plt.style.use('dark_background')\n",
    "#plt.style.use('seaborn-whitegrid')"
   ]
  },
  {
   "cell_type": "markdown",
   "metadata": {},
   "source": [
    "## <font color=steelblue>Ejercicio 3 - Propiedades de los suelos\n",
    "<font color=steelblue>Se proporcionan los pesos en campo y tras secado para cuatro muestras cilíndricas de suelo de 10 cm de longitud y 5 cm de diámetro. Asumiento que $\\rho_{m}=2650\\,kg/m³$, calcular el __contenido en agua__, la __saturación__, la __densidad del suelo__ y la __porosidad__ de cada muestra.\n",
    "\n",
    "<font color=steelblue>El archivo *Ejercicio3_masas.csv* contiene los datos de las muestras de suelo.\n",
    "    \n",
    "|    | m (g) | ms (g) |\n",
    "|----|-------|--------|\n",
    "| A2 | 302.5 | 264.8  |\n",
    "| B2 | 376.3 | 308.0  |\n",
    "| C2 | 422.6 | 388.6  |\n",
    "| D2 | 468.3 | 441.7  |"
   ]
  },
  {
   "cell_type": "code",
   "execution_count": 4,
   "metadata": {},
   "outputs": [],
   "source": [
    "rho_m = 2.65 # g/cm³\n",
    "rho_w = 1    # g/cm³\n",
    "D = 5        # cm\n",
    "L = 10       # cm"
   ]
  },
  {
   "cell_type": "markdown",
   "metadata": {},
   "source": [
    "#### Muestra A2"
   ]
  },
  {
   "cell_type": "code",
   "execution_count": 5,
   "metadata": {},
   "outputs": [],
   "source": [
    "m = 302.5    # g\n",
    "ms = 264.8   # g"
   ]
  },
  {
   "cell_type": "code",
   "execution_count": 6,
   "metadata": {},
   "outputs": [],
   "source": [
    "Vt = np.pi / 4 * D**2 * L # volumen total"
   ]
  },
  {
   "cell_type": "code",
   "execution_count": 7,
   "metadata": {},
   "outputs": [],
   "source": [
    "Vw = (m - ms) / rho_w   # volumen de agua"
   ]
  },
  {
   "cell_type": "code",
   "execution_count": 8,
   "metadata": {},
   "outputs": [],
   "source": [
    "rho_b = ms / Vt         # densidad del suelo"
   ]
  },
  {
   "cell_type": "code",
   "execution_count": 9,
   "metadata": {},
   "outputs": [],
   "source": [
    "phi = 1 - rho_b / rho_m # porosidad"
   ]
  },
  {
   "cell_type": "code",
   "execution_count": 10,
   "metadata": {},
   "outputs": [],
   "source": [
    "theta = Vw / Vt         # contenido de humedad del suelo"
   ]
  },
  {
   "cell_type": "code",
   "execution_count": 11,
   "metadata": {},
   "outputs": [],
   "source": [
    "Se = theta / phi        # grado de saturación"
   ]
  },
  {
   "cell_type": "markdown",
   "metadata": {},
   "source": [
    "#### Todas las muestras"
   ]
  },
  {
   "cell_type": "code",
   "execution_count": 12,
   "metadata": {},
   "outputs": [],
   "source": [
    "def prop_suelo(m, ms, rho_m, D, L):\n",
    "    \"\"\"Se calculan las propiedades del suelo\n",
    "    \n",
    "    Entradas:\n",
    "    ---------\n",
    "    m:       float. Masa de la muestra de suelo (g)\n",
    "    ms:      float. Masa seca de la muestra (g)\n",
    "    rho_m:   float. Densidad del mineral (g/cm³)\n",
    "    D:       float. Diámetro del cilindro de la muestra (cm)\n",
    "    L:       float. Longitud del cilindro de la muestra (cm)\n",
    "    \n",
    "    Salidas:\n",
    "    --------\n",
    "    rho_b:   float. Densidad bruta (g/cm³)\n",
    "    phi:     float. Porosidad (-)\n",
    "    theta:   float. Humedad del suelo (-)\n",
    "    Se:      float. Grado de saturación (-)\"\"\"\n",
    "    \n",
    "    rho_w = 1    # g/cm³\n",
    "    \n",
    "    # Calcular volúmenes necesarios\n",
    "    Vt = np.pi / 4 * D**2 * L # volumen total\n",
    "    Vw = (m - ms) / rho_w   # volumen de agua\n",
    "    \n",
    "    # Calcular propiedades del suelo\n",
    "    rho_b = ms / Vt         # densidad del suelo\n",
    "    phi = 1 - rho_b / rho_m # porosidad\n",
    "    theta = Vw / Vt         # contenido de humedad del suelo\n",
    "    Se = theta / phi        # grado de saturación\n",
    "    \n",
    "    return rho_b, phi, theta, Se"
   ]
  },
  {
   "cell_type": "code",
   "execution_count": 14,
   "metadata": {},
   "outputs": [
    {
     "data": {
      "text/html": [
       "<div>\n",
       "<style scoped>\n",
       "    .dataframe tbody tr th:only-of-type {\n",
       "        vertical-align: middle;\n",
       "    }\n",
       "\n",
       "    .dataframe tbody tr th {\n",
       "        vertical-align: top;\n",
       "    }\n",
       "\n",
       "    .dataframe thead th {\n",
       "        text-align: right;\n",
       "    }\n",
       "</style>\n",
       "<table border=\"1\" class=\"dataframe\">\n",
       "  <thead>\n",
       "    <tr style=\"text-align: right;\">\n",
       "      <th></th>\n",
       "      <th>m</th>\n",
       "      <th>ms</th>\n",
       "    </tr>\n",
       "    <tr>\n",
       "      <th>muestra</th>\n",
       "      <th></th>\n",
       "      <th></th>\n",
       "    </tr>\n",
       "  </thead>\n",
       "  <tbody>\n",
       "    <tr>\n",
       "      <th>A2</th>\n",
       "      <td>302.5</td>\n",
       "      <td>264.8</td>\n",
       "    </tr>\n",
       "    <tr>\n",
       "      <th>B2</th>\n",
       "      <td>376.3</td>\n",
       "      <td>308.0</td>\n",
       "    </tr>\n",
       "    <tr>\n",
       "      <th>C2</th>\n",
       "      <td>422.6</td>\n",
       "      <td>388.6</td>\n",
       "    </tr>\n",
       "    <tr>\n",
       "      <th>D2</th>\n",
       "      <td>468.3</td>\n",
       "      <td>441.7</td>\n",
       "    </tr>\n",
       "  </tbody>\n",
       "</table>\n",
       "</div>"
      ],
      "text/plain": [
       "             m     ms\n",
       "muestra              \n",
       "A2       302.5  264.8\n",
       "B2       376.3  308.0\n",
       "C2       422.6  388.6\n",
       "D2       468.3  441.7"
      ]
     },
     "execution_count": 14,
     "metadata": {},
     "output_type": "execute_result"
    }
   ],
   "source": [
    "# cargar datos\n",
    "soils = pd.read_csv('../data/Ejercicio3_masas.csv', index_col=0)\n",
    "soils.columns = ['m', 'ms']\n",
    "soils"
   ]
  },
  {
   "cell_type": "code",
   "execution_count": 15,
   "metadata": {},
   "outputs": [
    {
     "data": {
      "text/html": [
       "<div>\n",
       "<style scoped>\n",
       "    .dataframe tbody tr th:only-of-type {\n",
       "        vertical-align: middle;\n",
       "    }\n",
       "\n",
       "    .dataframe tbody tr th {\n",
       "        vertical-align: top;\n",
       "    }\n",
       "\n",
       "    .dataframe thead th {\n",
       "        text-align: right;\n",
       "    }\n",
       "</style>\n",
       "<table border=\"1\" class=\"dataframe\">\n",
       "  <thead>\n",
       "    <tr style=\"text-align: right;\">\n",
       "      <th></th>\n",
       "      <th>rho_b</th>\n",
       "      <th>phi</th>\n",
       "      <th>theta</th>\n",
       "      <th>Se</th>\n",
       "    </tr>\n",
       "    <tr>\n",
       "      <th>muestra</th>\n",
       "      <th></th>\n",
       "      <th></th>\n",
       "      <th></th>\n",
       "      <th></th>\n",
       "    </tr>\n",
       "  </thead>\n",
       "  <tbody>\n",
       "    <tr>\n",
       "      <th>A2</th>\n",
       "      <td>NaN</td>\n",
       "      <td>NaN</td>\n",
       "      <td>NaN</td>\n",
       "      <td>NaN</td>\n",
       "    </tr>\n",
       "    <tr>\n",
       "      <th>B2</th>\n",
       "      <td>NaN</td>\n",
       "      <td>NaN</td>\n",
       "      <td>NaN</td>\n",
       "      <td>NaN</td>\n",
       "    </tr>\n",
       "    <tr>\n",
       "      <th>C2</th>\n",
       "      <td>NaN</td>\n",
       "      <td>NaN</td>\n",
       "      <td>NaN</td>\n",
       "      <td>NaN</td>\n",
       "    </tr>\n",
       "    <tr>\n",
       "      <th>D2</th>\n",
       "      <td>NaN</td>\n",
       "      <td>NaN</td>\n",
       "      <td>NaN</td>\n",
       "      <td>NaN</td>\n",
       "    </tr>\n",
       "  </tbody>\n",
       "</table>\n",
       "</div>"
      ],
      "text/plain": [
       "        rho_b  phi theta   Se\n",
       "muestra                      \n",
       "A2        NaN  NaN   NaN  NaN\n",
       "B2        NaN  NaN   NaN  NaN\n",
       "C2        NaN  NaN   NaN  NaN\n",
       "D2        NaN  NaN   NaN  NaN"
      ]
     },
     "execution_count": 15,
     "metadata": {},
     "output_type": "execute_result"
    }
   ],
   "source": [
    "# dataframe con las propiedades\n",
    "props = pd.DataFrame(index=soils.index, columns=['rho_b', 'phi', 'theta', 'Se'])\n",
    "props"
   ]
  },
  {
   "cell_type": "code",
   "execution_count": 16,
   "metadata": {},
   "outputs": [
    {
     "data": {
      "text/html": [
       "<div>\n",
       "<style scoped>\n",
       "    .dataframe tbody tr th:only-of-type {\n",
       "        vertical-align: middle;\n",
       "    }\n",
       "\n",
       "    .dataframe tbody tr th {\n",
       "        vertical-align: top;\n",
       "    }\n",
       "\n",
       "    .dataframe thead th {\n",
       "        text-align: right;\n",
       "    }\n",
       "</style>\n",
       "<table border=\"1\" class=\"dataframe\">\n",
       "  <thead>\n",
       "    <tr style=\"text-align: right;\">\n",
       "      <th></th>\n",
       "      <th>rho_b</th>\n",
       "      <th>phi</th>\n",
       "      <th>theta</th>\n",
       "      <th>Se</th>\n",
       "    </tr>\n",
       "    <tr>\n",
       "      <th>muestra</th>\n",
       "      <th></th>\n",
       "      <th></th>\n",
       "      <th></th>\n",
       "      <th></th>\n",
       "    </tr>\n",
       "  </thead>\n",
       "  <tbody>\n",
       "    <tr>\n",
       "      <th>A2</th>\n",
       "      <td>1.34862</td>\n",
       "      <td>0.491089</td>\n",
       "      <td>0.192005</td>\n",
       "      <td>0.390977</td>\n",
       "    </tr>\n",
       "    <tr>\n",
       "      <th>B2</th>\n",
       "      <td>1.56863</td>\n",
       "      <td>0.408064</td>\n",
       "      <td>0.347849</td>\n",
       "      <td>0.852438</td>\n",
       "    </tr>\n",
       "    <tr>\n",
       "      <th>C2</th>\n",
       "      <td>1.97912</td>\n",
       "      <td>0.253161</td>\n",
       "      <td>0.173161</td>\n",
       "      <td>0.683994</td>\n",
       "    </tr>\n",
       "    <tr>\n",
       "      <th>D2</th>\n",
       "      <td>2.24956</td>\n",
       "      <td>0.15111</td>\n",
       "      <td>0.135473</td>\n",
       "      <td>0.89652</td>\n",
       "    </tr>\n",
       "  </tbody>\n",
       "</table>\n",
       "</div>"
      ],
      "text/plain": [
       "           rho_b       phi     theta        Se\n",
       "muestra                                       \n",
       "A2       1.34862  0.491089  0.192005  0.390977\n",
       "B2       1.56863  0.408064  0.347849  0.852438\n",
       "C2       1.97912  0.253161  0.173161  0.683994\n",
       "D2       2.24956   0.15111  0.135473   0.89652"
      ]
     },
     "execution_count": 16,
     "metadata": {},
     "output_type": "execute_result"
    }
   ],
   "source": [
    "# calcular propiedades\n",
    "for soil in soils.index:\n",
    "    m, ms = soils.loc[soil, 'm'], soils.loc[soil, 'ms']\n",
    "    props.loc[soil,:] = prop_suelo(m, ms, rho_m, D, L)\n",
    "props"
   ]
  },
  {
   "cell_type": "code",
   "execution_count": 17,
   "metadata": {},
   "outputs": [],
   "source": [
    "# guardar resultados\n",
    "props.to_csv('../output/Ej3_propiedades del suelo.csv', float_format='%.3f')"
   ]
  },
  {
   "cell_type": "code",
   "execution_count": null,
   "metadata": {},
   "outputs": [],
   "source": []
  }
 ],
 "metadata": {
  "kernelspec": {
   "display_name": "Python 3",
   "language": "python",
   "name": "python3"
  },
  "language_info": {
   "codemirror_mode": {
    "name": "ipython",
    "version": 3
   },
   "file_extension": ".py",
   "mimetype": "text/x-python",
   "name": "python",
   "nbconvert_exporter": "python",
   "pygments_lexer": "ipython3",
   "version": "3.7.3"
  },
  "varInspector": {
   "cols": {
    "lenName": 16,
    "lenType": 16,
    "lenVar": 40
   },
   "kernels_config": {
    "python": {
     "delete_cmd_postfix": "",
     "delete_cmd_prefix": "del ",
     "library": "var_list.py",
     "varRefreshCmd": "print(var_dic_list())"
    },
    "r": {
     "delete_cmd_postfix": ") ",
     "delete_cmd_prefix": "rm(",
     "library": "var_list.r",
     "varRefreshCmd": "cat(var_dic_list()) "
    }
   },
   "types_to_exclude": [
    "module",
    "function",
    "builtin_function_or_method",
    "instance",
    "_Feature"
   ],
   "window_display": false
  }
 },
 "nbformat": 4,
 "nbformat_minor": 4
}
