{
 "cells": [
  {
   "cell_type": "markdown",
   "metadata": {},
   "source": [
    "# Precipitation exercises\n",
    "***\n",
    "\n",
    "## <font color=steelblue>Exercise 4 - Hypsometric method\n",
    "\n",
    "<font color=steelblue>Given the hypsometric curve (area-elevation relation) for a catchment, and rainfall data for several gages within it (file *RainfallData_Exercise_004.xlsx*), compute the average annual precipitation for the basin using the hypsometric method.<tfont>\n",
    "\n",
    "| **Elevation Range (m)** | **Fraction of Area within Range** |\n",
    "|-------------------------|-----------------------------------|\n",
    "| 350                     | 0.028                             |\n",
    "| 500                     | 0.159                             |\n",
    "| 700                     | 0.341                             |\n",
    "| 900                     | 0.271                             |\n",
    "| 1100                    | 0.151                             |\n",
    "| 1300                    | 0.042                             |\n",
    "| 1500                    | 0.008                             |"
   ]
  },
  {
   "cell_type": "code",
   "execution_count": 1,
   "metadata": {},
   "outputs": [],
   "source": [
    "import numpy as np\n",
    "\n",
    "import pandas as pd\n",
    "\n",
    "from matplotlib import pyplot as plt\n",
    "%matplotlib inline\n",
    "# plt.style.use('dark_background')\n",
    "plt.style.use('seaborn-whitegrid')\n",
    "\n",
    "#from scipy.stats import genextreme\n",
    "#from scipy.optimize import curve_fit"
   ]
  },
  {
   "cell_type": "markdown",
   "metadata": {},
   "source": [
    "__Hypsometric curve__<br>\n",
    "\n",
    "The hypsometric curve defines the percentage of the area of a catchment that lies below a given altitude. In this exercise, we'll use the hypsometric curve to calculate the proportion of the catchment area at different altitude bands."
   ]
  },
  {
   "cell_type": "code",
   "execution_count": 2,
   "metadata": {},
   "outputs": [
    {
     "data": {
      "text/html": [
       "<div>\n",
       "<style scoped>\n",
       "    .dataframe tbody tr th:only-of-type {\n",
       "        vertical-align: middle;\n",
       "    }\n",
       "\n",
       "    .dataframe tbody tr th {\n",
       "        vertical-align: top;\n",
       "    }\n",
       "\n",
       "    .dataframe thead th {\n",
       "        text-align: right;\n",
       "    }\n",
       "</style>\n",
       "<table border=\"1\" class=\"dataframe\">\n",
       "  <thead>\n",
       "    <tr style=\"text-align: right;\">\n",
       "      <th></th>\n",
       "      <th>Z</th>\n",
       "      <th>A</th>\n",
       "    </tr>\n",
       "  </thead>\n",
       "  <tbody>\n",
       "    <tr>\n",
       "      <th>0</th>\n",
       "      <td>350</td>\n",
       "      <td>0.028</td>\n",
       "    </tr>\n",
       "    <tr>\n",
       "      <th>1</th>\n",
       "      <td>500</td>\n",
       "      <td>0.159</td>\n",
       "    </tr>\n",
       "    <tr>\n",
       "      <th>2</th>\n",
       "      <td>700</td>\n",
       "      <td>0.341</td>\n",
       "    </tr>\n",
       "    <tr>\n",
       "      <th>3</th>\n",
       "      <td>900</td>\n",
       "      <td>0.271</td>\n",
       "    </tr>\n",
       "    <tr>\n",
       "      <th>4</th>\n",
       "      <td>1100</td>\n",
       "      <td>0.151</td>\n",
       "    </tr>\n",
       "    <tr>\n",
       "      <th>5</th>\n",
       "      <td>1300</td>\n",
       "      <td>0.042</td>\n",
       "    </tr>\n",
       "    <tr>\n",
       "      <th>6</th>\n",
       "      <td>1500</td>\n",
       "      <td>0.008</td>\n",
       "    </tr>\n",
       "  </tbody>\n",
       "</table>\n",
       "</div>"
      ],
      "text/plain": [
       "      Z      A\n",
       "0   350  0.028\n",
       "1   500  0.159\n",
       "2   700  0.341\n",
       "3   900  0.271\n",
       "4  1100  0.151\n",
       "5  1300  0.042\n",
       "6  1500  0.008"
      ]
     },
     "execution_count": 2,
     "metadata": {},
     "output_type": "execute_result"
    }
   ],
   "source": [
    "# import data from the hypsometric curve\n",
    "hypso = pd.read_csv('../data/HypsometricCurve.csv')\n",
    "# simplify column names\n",
    "hypso.columns = ['Z', 'A']\n",
    "hypso"
   ]
  },
  {
   "cell_type": "code",
   "execution_count": 3,
   "metadata": {},
   "outputs": [
    {
     "data": {
      "text/html": [
       "<div>\n",
       "<style scoped>\n",
       "    .dataframe tbody tr th:only-of-type {\n",
       "        vertical-align: middle;\n",
       "    }\n",
       "\n",
       "    .dataframe tbody tr th {\n",
       "        vertical-align: top;\n",
       "    }\n",
       "\n",
       "    .dataframe thead th {\n",
       "        text-align: right;\n",
       "    }\n",
       "</style>\n",
       "<table border=\"1\" class=\"dataframe\">\n",
       "  <thead>\n",
       "    <tr style=\"text-align: right;\">\n",
       "      <th></th>\n",
       "      <th>Z</th>\n",
       "      <th>A</th>\n",
       "      <th>Aac</th>\n",
       "    </tr>\n",
       "  </thead>\n",
       "  <tbody>\n",
       "    <tr>\n",
       "      <th>0</th>\n",
       "      <td>350</td>\n",
       "      <td>0.028</td>\n",
       "      <td>0.028</td>\n",
       "    </tr>\n",
       "    <tr>\n",
       "      <th>1</th>\n",
       "      <td>500</td>\n",
       "      <td>0.159</td>\n",
       "      <td>0.187</td>\n",
       "    </tr>\n",
       "    <tr>\n",
       "      <th>2</th>\n",
       "      <td>700</td>\n",
       "      <td>0.341</td>\n",
       "      <td>0.528</td>\n",
       "    </tr>\n",
       "    <tr>\n",
       "      <th>3</th>\n",
       "      <td>900</td>\n",
       "      <td>0.271</td>\n",
       "      <td>0.799</td>\n",
       "    </tr>\n",
       "    <tr>\n",
       "      <th>4</th>\n",
       "      <td>1100</td>\n",
       "      <td>0.151</td>\n",
       "      <td>0.950</td>\n",
       "    </tr>\n",
       "    <tr>\n",
       "      <th>5</th>\n",
       "      <td>1300</td>\n",
       "      <td>0.042</td>\n",
       "      <td>0.992</td>\n",
       "    </tr>\n",
       "    <tr>\n",
       "      <th>6</th>\n",
       "      <td>1500</td>\n",
       "      <td>0.008</td>\n",
       "      <td>1.000</td>\n",
       "    </tr>\n",
       "  </tbody>\n",
       "</table>\n",
       "</div>"
      ],
      "text/plain": [
       "      Z      A    Aac\n",
       "0   350  0.028  0.028\n",
       "1   500  0.159  0.187\n",
       "2   700  0.341  0.528\n",
       "3   900  0.271  0.799\n",
       "4  1100  0.151  0.950\n",
       "5  1300  0.042  0.992\n",
       "6  1500  0.008  1.000"
      ]
     },
     "execution_count": 3,
     "metadata": {},
     "output_type": "execute_result"
    }
   ],
   "source": [
    "# cumulative area\n",
    "hypso['Aac'] = hypso.A.cumsum()\n",
    "hypso"
   ]
  },
  {
   "cell_type": "code",
   "execution_count": 4,
   "metadata": {},
   "outputs": [
    {
     "data": {
      "text/plain": [
       "1500"
      ]
     },
     "execution_count": 4,
     "metadata": {},
     "output_type": "execute_result"
    }
   ],
   "source": [
    "hypso.Z.iloc[-1]"
   ]
  },
  {
   "cell_type": "code",
   "execution_count": 5,
   "metadata": {},
   "outputs": [
    {
     "data": {
      "image/png": "[encoded data removed]",
      "text/plain": [
       "<Figure size 432x288 with 1 Axes>"
      ]
     },
     "metadata": {
      "needs_background": "light"
     },
     "output_type": "display_data"
    }
   ],
   "source": [
    "# plot the hypsometric curve\n",
    "plt.plot(hypso.Z, hypso.Aac * 100)\n",
    "plt.title('Hypsometric curve', fontsize=16, weight='bold')\n",
    "plt.xlabel('elevation (masl)', fontsize=13)\n",
    "plt.xlim(hypso.Z.min(), hypso.Z.max())\n",
    "plt.ylabel('area (%)', fontsize=13)\n",
    "plt.ylim((0, 100));\n",
    "\n",
    "# guardar la figura\n",
    "plt.savefig('../output/Ex4_hypsometric curve.png', dpi=300)"
   ]
  },
  {
   "cell_type": "markdown",
   "metadata": {},
   "source": [
    "__Linear regressión precipitation-altitude__<br>\n",
    "\n",
    "We will use the precipitation data to calculate the linear dependence of precipitation on altitude. This regression follows the equation:\n",
    "\n",
    "$$P = a·Z+b$$\n",
    "\n",
    "Where $P$ is mean annual precipitation (mm) at a point with altitude $Z$ (m.a.s.l)."
   ]
  },
  {
   "cell_type": "code",
   "execution_count": 6,
   "metadata": {},
   "outputs": [
    {
     "data": {
      "text/html": [
       "<div>\n",
       "<style scoped>\n",
       "    .dataframe tbody tr th:only-of-type {\n",
       "        vertical-align: middle;\n",
       "    }\n",
       "\n",
       "    .dataframe tbody tr th {\n",
       "        vertical-align: top;\n",
       "    }\n",
       "\n",
       "    .dataframe thead th {\n",
       "        text-align: right;\n",
       "    }\n",
       "</style>\n",
       "<table border=\"1\" class=\"dataframe\">\n",
       "  <thead>\n",
       "    <tr style=\"text-align: right;\">\n",
       "      <th></th>\n",
       "      <th>Z</th>\n",
       "      <th>P</th>\n",
       "    </tr>\n",
       "    <tr>\n",
       "      <th>Gage</th>\n",
       "      <th></th>\n",
       "      <th></th>\n",
       "    </tr>\n",
       "  </thead>\n",
       "  <tbody>\n",
       "    <tr>\n",
       "      <th>1</th>\n",
       "      <td>442</td>\n",
       "      <td>1392</td>\n",
       "    </tr>\n",
       "    <tr>\n",
       "      <th>2</th>\n",
       "      <td>548</td>\n",
       "      <td>1246</td>\n",
       "    </tr>\n",
       "    <tr>\n",
       "      <th>3</th>\n",
       "      <td>736</td>\n",
       "      <td>1495</td>\n",
       "    </tr>\n",
       "    <tr>\n",
       "      <th>4</th>\n",
       "      <td>770</td>\n",
       "      <td>1698</td>\n",
       "    </tr>\n",
       "    <tr>\n",
       "      <th>5</th>\n",
       "      <td>852</td>\n",
       "      <td>1717</td>\n",
       "    </tr>\n",
       "    <tr>\n",
       "      <th>6</th>\n",
       "      <td>1031</td>\n",
       "      <td>1752</td>\n",
       "    </tr>\n",
       "  </tbody>\n",
       "</table>\n",
       "</div>"
      ],
      "text/plain": [
       "         Z     P\n",
       "Gage            \n",
       "1      442  1392\n",
       "2      548  1246\n",
       "3      736  1495\n",
       "4      770  1698\n",
       "5      852  1717\n",
       "6     1031  1752"
      ]
     },
     "execution_count": 6,
     "metadata": {},
     "output_type": "execute_result"
    }
   ],
   "source": [
    "# Import precipitation data\n",
    "data4 = pd.read_excel('../data/RainfallData.xlsx', sheet_name='Exercise_004',\n",
    "                      index_col='Gage')\n",
    "# simplify column names\n",
    "data4.columns = ['Z', 'P']\n",
    "data4"
   ]
  },
  {
   "cell_type": "code",
   "execution_count": 7,
   "metadata": {},
   "outputs": [
    {
     "name": "stdout",
     "output_type": "stream",
     "text": [
      "P = 0.841 Z + 936.550\n"
     ]
    }
   ],
   "source": [
    "# fit the linear regression\n",
    "(a, b) = np.polyfit(data4.Z, data4.P, deg=1)\n",
    "print('P = {0:.3f} Z + {1:.3f}'.format(a, b))"
   ]
  },
  {
   "cell_type": "code",
   "execution_count": 8,
   "metadata": {},
   "outputs": [
    {
     "data": {
      "image/png": "[encoded data removed]",
      "text/plain": [
       "<Figure size 432x288 with 1 Axes>"
      ]
     },
     "metadata": {
      "needs_background": "light"
     },
     "output_type": "display_data"
    }
   ],
   "source": [
    "# plot the regression between elevation and annual precipitation\n",
    "plt.scatter(data4.Z, data4.P)\n",
    "# recta de regresión\n",
    "xlim = np.array([0, hypso.Z.max()])\n",
    "plt.plot(xlim, a * xlim + b, 'k--')\n",
    "# configuración\n",
    "plt.title('', fontsize=16, weight='bold')\n",
    "plt.xlabel('altitud (msnm)', fontsize=13)\n",
    "plt.xlim(xlim)\n",
    "plt.ylabel('Panual (mm)', fontsize=13)\n",
    "plt.ylim(0, 2200);\n",
    "\n",
    "# guardar la figura\n",
    "plt.savefig('../output/Ex4_linear regression Z-Pannual.png', dpi=300)"
   ]
  },
  {
   "cell_type": "markdown",
   "metadata": {},
   "source": [
    "__Areal precipitation__\n",
    "\n",
    "We will use the above linear regression to estimate the mean annual precipitation for each of the altitude bands. Areal precipitation is the weighted mean of these precipitation values, where the weights are the percentages of the catchment area belonging to the elevation bands."
   ]
  },
  {
   "cell_type": "code",
   "execution_count": 9,
   "metadata": {},
   "outputs": [
    {
     "data": {
      "text/html": [
       "<div>\n",
       "<style scoped>\n",
       "    .dataframe tbody tr th:only-of-type {\n",
       "        vertical-align: middle;\n",
       "    }\n",
       "\n",
       "    .dataframe tbody tr th {\n",
       "        vertical-align: top;\n",
       "    }\n",
       "\n",
       "    .dataframe thead th {\n",
       "        text-align: right;\n",
       "    }\n",
       "</style>\n",
       "<table border=\"1\" class=\"dataframe\">\n",
       "  <thead>\n",
       "    <tr style=\"text-align: right;\">\n",
       "      <th></th>\n",
       "      <th>Z</th>\n",
       "      <th>A</th>\n",
       "      <th>Aac</th>\n",
       "      <th>P</th>\n",
       "    </tr>\n",
       "  </thead>\n",
       "  <tbody>\n",
       "    <tr>\n",
       "      <th>0</th>\n",
       "      <td>350</td>\n",
       "      <td>0.028</td>\n",
       "      <td>0.028</td>\n",
       "      <td>1230.736833</td>\n",
       "    </tr>\n",
       "    <tr>\n",
       "      <th>1</th>\n",
       "      <td>500</td>\n",
       "      <td>0.159</td>\n",
       "      <td>0.187</td>\n",
       "      <td>1356.817066</td>\n",
       "    </tr>\n",
       "    <tr>\n",
       "      <th>2</th>\n",
       "      <td>700</td>\n",
       "      <td>0.341</td>\n",
       "      <td>0.528</td>\n",
       "      <td>1524.924043</td>\n",
       "    </tr>\n",
       "    <tr>\n",
       "      <th>3</th>\n",
       "      <td>900</td>\n",
       "      <td>0.271</td>\n",
       "      <td>0.799</td>\n",
       "      <td>1693.031019</td>\n",
       "    </tr>\n",
       "    <tr>\n",
       "      <th>4</th>\n",
       "      <td>1100</td>\n",
       "      <td>0.151</td>\n",
       "      <td>0.950</td>\n",
       "      <td>1861.137996</td>\n",
       "    </tr>\n",
       "    <tr>\n",
       "      <th>5</th>\n",
       "      <td>1300</td>\n",
       "      <td>0.042</td>\n",
       "      <td>0.992</td>\n",
       "      <td>2029.244973</td>\n",
       "    </tr>\n",
       "    <tr>\n",
       "      <th>6</th>\n",
       "      <td>1500</td>\n",
       "      <td>0.008</td>\n",
       "      <td>1.000</td>\n",
       "      <td>2197.351949</td>\n",
       "    </tr>\n",
       "  </tbody>\n",
       "</table>\n",
       "</div>"
      ],
      "text/plain": [
       "      Z      A    Aac            P\n",
       "0   350  0.028  0.028  1230.736833\n",
       "1   500  0.159  0.187  1356.817066\n",
       "2   700  0.341  0.528  1524.924043\n",
       "3   900  0.271  0.799  1693.031019\n",
       "4  1100  0.151  0.950  1861.137996\n",
       "5  1300  0.042  0.992  2029.244973\n",
       "6  1500  0.008  1.000  2197.351949"
      ]
     },
     "execution_count": 9,
     "metadata": {},
     "output_type": "execute_result"
    }
   ],
   "source": [
    "hypso['P'] = a * hypso.Z + b\n",
    "hypso"
   ]
  },
  {
   "cell_type": "markdown",
   "metadata": {},
   "source": [
    "The areal precipitation is the sum of the summation of the product of weight (_A_, fraction of catchment area) by the interpolated precipitation (_P_). "
   ]
  },
  {
   "cell_type": "code",
   "execution_count": 10,
   "metadata": {},
   "outputs": [
    {
     "name": "stdout",
     "output_type": "stream",
     "text": [
      "The mean annual precipitation in the catchment is 1612.8 mm\n"
     ]
    }
   ],
   "source": [
    "Pareal = np.sum(hypso.A * hypso.P)\n",
    "\n",
    "print('The mean annual precipitation in the catchment is {0:.1f} mm'.format(Pareal))"
   ]
  },
  {
   "cell_type": "markdown",
   "metadata": {},
   "source": [
    "All the previous steps could be done in a shorter way:"
   ]
  },
  {
   "cell_type": "code",
   "execution_count": 11,
   "metadata": {},
   "outputs": [
    {
     "name": "stdout",
     "output_type": "stream",
     "text": [
      "The mean annual precipitation in the catchment is 1612.8 mm\n"
     ]
    }
   ],
   "source": [
    "p = np.polyfit(data4.Z,  data4.P, deg=1) # fit the linear regression\n",
    "Ps = np.polyval(p, hypso.Z)                   # interpolate precipitation\n",
    "Pareal = np.sum(Ps * hypso.A)                 # areal precipitation\n",
    "\n",
    "print('The mean annual precipitation in the catchment is {0:.1f} mm'.format(Pareal))"
   ]
  },
  {
   "cell_type": "markdown",
   "metadata": {},
   "source": [
    "If we had calculated the areal precipitation by the station-average method (see exercise 1), we would've underestimated the areal precipitation in the catchment."
   ]
  },
  {
   "cell_type": "code",
   "execution_count": 12,
   "metadata": {},
   "outputs": [
    {
     "name": "stdout",
     "output_type": "stream",
     "text": [
      "The mean annual precipitation in the catchment is 1550.0 mm\n"
     ]
    }
   ],
   "source": [
    "Pareal2 = data4.P.mean()\n",
    "\n",
    "print('The mean annual precipitation in the catchment is {0:.1f} mm'.format(Pareal2))"
   ]
  },
  {
   "cell_type": "code",
   "execution_count": null,
   "metadata": {},
   "outputs": [],
   "source": []
  }
 ],
 "metadata": {
  "anaconda-cloud": {},
  "kernelspec": {
   "display_name": "Python 3",
   "language": "python",
   "name": "python3"
  },
  "language_info": {
   "codemirror_mode": {
    "name": "ipython",
    "version": 3
   },
   "file_extension": ".py",
   "mimetype": "text/x-python",
   "name": "python",
   "nbconvert_exporter": "python",
   "pygments_lexer": "ipython3",
   "version": "3.7.3"
  },
  "varInspector": {
   "cols": {
    "lenName": 16,
    "lenType": 16,
    "lenVar": 40
   },
   "kernels_config": {
    "python": {
     "delete_cmd_postfix": "",
     "delete_cmd_prefix": "del ",
     "library": "var_list.py",
     "varRefreshCmd": "print(var_dic_list())"
    },
    "r": {
     "delete_cmd_postfix": ") ",
     "delete_cmd_prefix": "rm(",
     "library": "var_list.r",
     "varRefreshCmd": "cat(var_dic_list()) "
    }
   },
   "position": {
    "height": "255px",
    "left": "634px",
    "right": "20px",
    "top": "118px",
    "width": "350px"
   },
   "types_to_exclude": [
    "module",
    "function",
    "builtin_function_or_method",
    "instance",
    "_Feature"
   ],
   "window_display": false
  }
 },
 "nbformat": 4,
 "nbformat_minor": 4
}
