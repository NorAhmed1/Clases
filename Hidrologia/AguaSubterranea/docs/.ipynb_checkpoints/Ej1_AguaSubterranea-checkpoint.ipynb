{
 "cells": [
  {
   "cell_type": "markdown",
   "metadata": {},
   "source": [
    "# Ejercicios de agua subterránea"
   ]
  },
  {
   "cell_type": "code",
   "execution_count": 17,
   "metadata": {},
   "outputs": [],
   "source": [
    "import numpy as np\n",
    "\n",
    "import pandas as pd\n",
    "\n",
    "from matplotlib import pyplot as plt\n",
    "%matplotlib inline\n",
    "plt.style.use('dark_background')\n",
    "#plt.style.use('seaborn-whitegrid')"
   ]
  },
  {
   "cell_type": "markdown",
   "metadata": {},
   "source": [
    "## <font color=steelblue>Ejercicio 1 - Infiltración. Método de Green-Ampt\n",
    "\n",
    "<font color=steelblue>Usando el modelo de Green-Ampt, calcula la __infiltración acumulada__, la __tasa de infiltración__ y la __profundidad del frente de mojado__ durante una precipitación constante de 5 cm/h que dure 2 h en un _loam_ limoso típico con un contenido de agua inicial de 0,45.\n",
    "    \n",
    "Las propiedades típicas del _loam_ limoso son: <br>\n",
    "$\\phi=0.485$ <br>\n",
    "$K_{s}=2.59 cm/h$ <br>\n",
    "$|\\Psi_{ae}|=78.6 cm$ <br>\n",
    "$b=5.3$ <br>"
   ]
  },
  {
   "cell_type": "code",
   "execution_count": 4,
   "metadata": {},
   "outputs": [],
   "source": [
    "# datos del enunciado\n",
    "phi = 0.485     # -\n",
    "theta_o = 0.45  # -\n",
    "Ks = 2.59       # cm/h\n",
    "psi_ae = 78.6   # cm\n",
    "b = 5.3         # -\n",
    "\n",
    "ho = 0          # cm\n",
    "i = 5           # cm/h\n",
    "tc = 2          # h\n",
    "\n",
    "epsilon = 0.001 # cm"
   ]
  },
  {
   "cell_type": "markdown",
   "metadata": {},
   "source": [
    "### Modelo de infiltración de Green-Ampt\n",
    "\n",
    "Hipótesis:\n",
    "*  Suelo encharcado con una lámina de altura $h_o$ desde el inicio.\n",
    "*  Frente de avance de la humedad plano (frente pistón).\n",
    "*  Suelo profundo y homogéneo ($\\theta_o$, $\\theta_s$, $K_s$ constantes).\n",
    "\n",
    "Tasa de infiltración, $f \\left[ \\frac{L}{T} \\right]$:\n",
    "\n",
    "$$f = K_s \\left( 1 + \\frac{\\Psi_f · \\Delta\\theta}{F} \\right) \\qquad \\textrm{(1)}$$ \n",
    "\n",
    "Infiltración acumulada, $f \\left[ L \\right]$:\n",
    "$$F = K_s · t + \\Psi_f · \\Delta\\theta · \\ln \\left(1 + \\frac{F}{\\Psi_f · \\Delta\\theta} \\right) \\qquad \\textrm{(2)}$$\n",
    "\n",
    "Es una ecuación implícita. Para resolverla, se puede utilizar, por ejemplo, el método de Picard. Se establece un valor inicial de ($F_o=K_s·t$) y se itera el siguiente cálculo hasta converger ($F_{m+1}-F_m<\\varepsilon$):\n",
    "$$F_{m+1} = K_s · t + \\Psi_f · \\Delta\\theta · \\ln \\left(1 + \\frac{F_m}{\\Psi_f · \\Delta\\theta} \\right)  \\qquad \\textrm{(3)}$$\n",
    "\n",
    "\n",
    "##### Suelo no encharcado al inicio\n",
    "Si no se cumple la hipótesis de encharcamiento desde el inicio, se debe calcular el tiempo de encharcamiento ($t_p$) y la cantidad de agua infiltrada hata ese momento ($F_p$):\n",
    "$$t_p = \\frac{K_s · \\Psi_f · \\Delta\\theta}{i \\left( i - K_s \\right)} \\qquad \\textrm{(4)}$$\n",
    "$$F_p = i · t_p = \\frac{K_s · \\Psi_f · \\Delta\\theta}{i - K_s} \\qquad \\textrm{(5)}$$\n",
    "\n",
    "Conocidos $t_p$ y $F_p$, se ha de resolver la ecuación (1) sobre una nueva variable tiempo $t_p'=t_p-t_o$, con lo que se llega a la siguiente ecuación emplícita:\n",
    "$$F_{m+1} = K_s · (t - t_o) + \\Psi_f · \\Delta\\theta · \\ln \\left(1 + \\frac{F_m}{\\Psi_f · \\Delta\\theta} \\right)  \\qquad \\textrm{(6)}$$\n",
    "donde $t_o$ es:<br>\n",
    "$$t_o = t_p - \\frac{F_p - \\Psi_f · \\Delta\\theta · \\ln \\left(1 + \\frac{F_p}{\\Psi_f · \\Delta\\theta} \\right)}{K_s} \\qquad \\textrm{(7)}$$"
   ]
  },
  {
   "cell_type": "code",
   "execution_count": 5,
   "metadata": {},
   "outputs": [],
   "source": [
    "# calcular variables auxiliares\n",
    "Atheta = phi - theta_o                     # incremento de la humedad del suelo\n",
    "psi_f = (2 * b + 3) / (2 * b + 6) * psi_ae # tensión en el frente húmedo"
   ]
  },
  {
   "cell_type": "code",
   "execution_count": 6,
   "metadata": {},
   "outputs": [],
   "source": [
    "# tiempo hasta el encharcamiento\n",
    "tp = psi_f * Atheta * Ks / (i * (i - Ks))"
   ]
  },
  {
   "cell_type": "code",
   "execution_count": 7,
   "metadata": {},
   "outputs": [],
   "source": [
    "# infiltración acumulada cuando ocurre el encharcamiento\n",
    "Fp = tp * i"
   ]
  },
  {
   "cell_type": "code",
   "execution_count": 8,
   "metadata": {},
   "outputs": [],
   "source": [
    "# tiempo de inicio de la curva de infiltración\n",
    "to = tp - (Fp - psi_f * Atheta * np.log(1 + Fp / (psi_f * Atheta))) / Ks"
   ]
  },
  {
   "cell_type": "code",
   "execution_count": 9,
   "metadata": {},
   "outputs": [
    {
     "name": "stdout",
     "output_type": "stream",
     "text": [
      "7.242764529773666 7.9443030676516635\n",
      "7.9443030676516635 8.10493677607936\n",
      "8.10493677607936 8.140160823388143\n",
      "8.140160823388143 8.147811770684696\n",
      "8.147811770684696 8.149470190373284\n",
      "8.149470190373284 8.149829508633662\n",
      "\n",
      "Fc = 8.150 cm\n"
     ]
    }
   ],
   "source": [
    "# infiltración acumulada en el tiempo de cálculo\n",
    "Fo = Ks * (tc - to)\n",
    "Fi = Ks * (tc - to) + psi_f * Atheta * np.log(1 + Fo / (psi_f * Atheta))\n",
    "while (Fi - Fo) > epsilon:\n",
    "    Fo = Fi\n",
    "    Fi = Ks * (tc - to) + psi_f * Atheta * np.log(1 + Fo / (psi_f * Atheta))\n",
    "    print(Fo, Fi)\n",
    "Fc = Fi\n",
    "\n",
    "print()\n",
    "print('Fc = {0:.3f} cm'.format(Fc))"
   ]
  },
  {
   "cell_type": "code",
   "execution_count": 10,
   "metadata": {},
   "outputs": [
    {
     "name": "stdout",
     "output_type": "stream",
     "text": [
      "fc = 3.306 cm/h\n"
     ]
    }
   ],
   "source": [
    "# tasa de infiltración en el tiempo de cálculo\n",
    "fc = Ks * (1 + psi_f * Atheta / Fc)\n",
    "\n",
    "print('fc = {0:.3f} cm/h'.format(fc))"
   ]
  },
  {
   "cell_type": "code",
   "execution_count": 11,
   "metadata": {},
   "outputs": [
    {
     "name": "stdout",
     "output_type": "stream",
     "text": [
      "L = 232.852 cm\n"
     ]
    }
   ],
   "source": [
    "# profundidad del frente de húmedo\n",
    "L = Fc / Atheta\n",
    "\n",
    "print('L = {0:.3f} cm'.format(L))"
   ]
  },
  {
   "cell_type": "code",
   "execution_count": 12,
   "metadata": {},
   "outputs": [],
   "source": [
    "def GreenAmpt(i, tc, ho, phi, theta_o, Ks, psi_ae, b=5.3, epsilon=0.001):\n",
    "    \"\"\"Se calcula la infiltración en un suelo para una precipitación constante mediante el método de Green-Ampt.\n",
    "    \n",
    "    Entradas:\n",
    "    ---------\n",
    "    i:       float. Intensidad de precipitación (cm/h)\n",
    "    tc:      float. Tiempo de cálculo (h)\n",
    "    ho:      float. Altura de la lámina de agua del encharcamiento en el inicio (cm)\n",
    "    phi:     float. Porosidad (-)\n",
    "    theta_o: float. Humedad del suelo en el inicio (-)\n",
    "    Ks:      float. Conductividad saturada (cm/h)\n",
    "    psi_ae:  float. Tensión del suelo para el punto de entrada de aire (cm)\n",
    "    b:       float. Coeficiente para el cálculo de la tensión en el frente húmedo (cm)\n",
    "    epsilo:  float. Error tolerable en el cálculo (cm)\n",
    "    \n",
    "    Salidas:\n",
    "    --------\n",
    "    Fc:      float. Infiltración acumulada en el tiempo de cálculo (cm)\n",
    "    fc:      float. Tasa de infiltración en el tiempo de cálculo (cm/h)\n",
    "    L:       float. Profundidad del frente húmedo en el tiempo de cálculo (cm)\"\"\"\n",
    "    \n",
    "    # calcular variables auxiliares\n",
    "    Atheta = phi - theta_o                     # incremento de la humedad del suelo\n",
    "    psi_f = (2 * b + 3) / (2 * b + 6) * psi_ae # tensión en el frente húmedo\n",
    "    \n",
    "    if ho > 0: # encharcamiento inicial\n",
    "        tp = 0\n",
    "        to = 0\n",
    "    elif ho == 0: # NO hay encharcamiento inicial\n",
    "        # tiempo hasta el encharcamiento\n",
    "        tp = psi_f * Atheta * Ks / (i * (i - Ks))\n",
    "        # infiltración acumulada cuando ocurre el encharcamiento\n",
    "        Fp = tp * i\n",
    "        # tiempo de inicio de la curva de infiltración\n",
    "        to = tp - (Fp - psi_f * Atheta * np.log(1 + Fp / (psi_f * Atheta))) / Ks\n",
    "    \n",
    "    # infiltración acumulada en el tiempo de cálculo\n",
    "    if tc <= tp:\n",
    "        Fc = i * tc\n",
    "    elif tc > tp:\n",
    "        Fo = Ks * (tc - to)\n",
    "        Fi = Ks * (tc - to) + psi_f * Atheta * np.log(1 + Fo / (psi_f * Atheta))\n",
    "        while (Fi - Fo) > epsilon:\n",
    "            Fo = Fi\n",
    "            Fi = Ks * (tc - to) + psi_f * Atheta * np.log(1 + Fo / (psi_f * Atheta))\n",
    "        Fc = Fi\n",
    "    \n",
    "    # tasa de infiltración en el tiempo de cálculo\n",
    "    fc = Ks * (1 + psi_f * Atheta / Fc)\n",
    "    \n",
    "    # profundidad del frente de húmedo\n",
    "    L = Fc / Atheta\n",
    "    \n",
    "    return Fc, fc, L"
   ]
  },
  {
   "cell_type": "code",
   "execution_count": 13,
   "metadata": {},
   "outputs": [
    {
     "name": "stdout",
     "output_type": "stream",
     "text": [
      "Fc = 8.150 cm\n",
      "fc = 3.306 cm/h\n",
      "L = 232.852 cm\n"
     ]
    }
   ],
   "source": [
    "Fc, fc, L = GreenAmpt(i, tc, ho, phi, theta_o, Ks, psi_ae, b, epsilon)\n",
    "\n",
    "print('Fc = {0:.3f} cm'.format(Fc))\n",
    "print('fc = {0:.3f} cm/h'.format(fc))\n",
    "print('L = {0:.3f} cm'.format(L))"
   ]
  },
  {
   "cell_type": "code",
   "execution_count": 16,
   "metadata": {},
   "outputs": [],
   "source": [
    "# Guardar resultados\n",
    "results = pd.DataFrame([Fc, fc, L], index=['Fc (cm)', 'fc (cm/h)', 'L (cm)']).transpose()\n",
    "results.to_csv('../output/Ej1_resultados.csv', index=False, float_format='%.3f')"
   ]
  }
 ],
 "metadata": {
  "kernelspec": {
   "display_name": "Python 3",
   "language": "python",
   "name": "python3"
  },
  "language_info": {
   "codemirror_mode": {
    "name": "ipython",
    "version": 3
   },
   "file_extension": ".py",
   "mimetype": "text/x-python",
   "name": "python",
   "nbconvert_exporter": "python",
   "pygments_lexer": "ipython3",
   "version": "3.7.3"
  },
  "varInspector": {
   "cols": {
    "lenName": 16,
    "lenType": 16,
    "lenVar": 40
   },
   "kernels_config": {
    "python": {
     "delete_cmd_postfix": "",
     "delete_cmd_prefix": "del ",
     "library": "var_list.py",
     "varRefreshCmd": "print(var_dic_list())"
    },
    "r": {
     "delete_cmd_postfix": ") ",
     "delete_cmd_prefix": "rm(",
     "library": "var_list.r",
     "varRefreshCmd": "cat(var_dic_list()) "
    }
   },
   "types_to_exclude": [
    "module",
    "function",
    "builtin_function_or_method",
    "instance",
    "_Feature"
   ],
   "window_display": false
  }
 },
 "nbformat": 4,
 "nbformat_minor": 4
}
