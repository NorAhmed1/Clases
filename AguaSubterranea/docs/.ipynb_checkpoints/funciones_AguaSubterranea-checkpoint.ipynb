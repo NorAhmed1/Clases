{
 "cells": [
  {
   "cell_type": "markdown",
   "metadata": {},
   "source": [
    "# Ejercicios de agua subterránea\n",
    "\n",
    "En este _notebook_ se guardan las funciones que se utilizan en los ejercicios de agua subterránea, de manera que se pueden importar directamente en cualquier otro _notebook_ sin necesidad de reescribirlas. \n",
    "\n",
    "Para cargar estas funciones en otro _notebook_, se utiliza una de las funciones llamadas mágicas en terminología _Python_:\n",
    "```Python\n",
    "%run funciones_AguaSubterranea.ipynb\n",
    "```\n",
    "Esta línea sólo funciona si `funciones_AguaSubterranea.ipynb` está en la misma carpeta que el _notebook_ en el que se quiere cargar. En caso contrario, hay que utilizar el paquete `os` para definir en qué carpeta se encuentra `funciones_AguaSubterranea.ipynb`.\n",
    "```Python\n",
    "import os\n",
    "os.chdir('ruta donde se encuentra `funciones_AguaSubterranea.ipynb')\n",
    "%run funciones_AguaSubterranea.ipynb\n",
    "```\n",
    "\n",
    "__Índice__<br>\n",
    "\n",
    "__[Método de infiltración de Green-Ampt](#Método-de-infiltración-de-Green-Ampt)__<br>\n",
    "\n",
    "__[Propiedades del suelo](#Propiedades-del-suelo)__<br>\n",
    "\n",
    "__[Altura hidráulica y dirección del flujo subterráneo](#Altura-hidráulica-y-dirección-del-flujo-subterráneo)__<br>"
   ]
  },
  {
   "cell_type": "code",
   "execution_count": 2,
   "metadata": {},
   "outputs": [],
   "source": [
    "import numpy as np\n",
    "\n",
    "import pandas as pd\n",
    "\n",
    "from matplotlib import pyplot as plt\n",
    "%matplotlib inline\n",
    "plt.style.use('dark_background')\n",
    "#plt.style.use('seaborn-whitegrid')"
   ]
  },
  {
   "cell_type": "markdown",
   "metadata": {},
   "source": [
    "### Método de infiltración de Green-Ampt"
   ]
  },
  {
   "cell_type": "code",
   "execution_count": 10,
   "metadata": {},
   "outputs": [],
   "source": [
    "def GreenAmpt(i, tc, ho, phi, theta_o, Ks, psi_ae, b=5.3, epsilon=0.001):\n",
    "    \"\"\"Se calcula la infiltración en un suelo para una precipitación constante mediante el método de Green-Ampt.\n",
    "    \n",
    "    Entradas:\n",
    "    ---------\n",
    "    i:       float. Intensidad de precipitación (cm/h)\n",
    "    tc:      float. Tiempo de cálculo (h)\n",
    "    ho:      float. Altura de la lámina de agua del encharcamiento en el inicio (cm)\n",
    "    phi:     float. Porosidad (-)\n",
    "    theta_o: float. Humedad del suelo en el inicio (-)\n",
    "    Ks:      float. Conductividad saturada (cm/h)\n",
    "    psi_ae:  float. Tensión del suelo para el punto de entrada de aire (cm)\n",
    "    b:       float. Coeficiente para el cálculo de la tensión en el frente húmedo (cm)\n",
    "    epsilo:  float. Error tolerable en el cálculo (cm)\n",
    "    \n",
    "    Salidas:\n",
    "    --------\n",
    "    Fc:      float. Infiltración acumulada en el tiempo de cálculo (cm)\n",
    "    fc:      float. Tasa de infiltración en el tiempo de cálculo (cm/h)\n",
    "    L:       float. Profundidad del frente húmedo en el tiempo de cálculo (cm)\"\"\"\n",
    "    \n",
    "    # calcular variables auxiliares\n",
    "    Atheta = phi - theta_o                     # incremento de la humedad del suelo\n",
    "    psi_f = (2 * b + 3) / (2 * b + 6) * psi_ae # tensión en el frente húmedo\n",
    "    \n",
    "    if ho > 0: # encharcamiento inicial\n",
    "        tp = 0\n",
    "        to = 0\n",
    "    elif ho == 0: # NO hay encharcamiento inicial\n",
    "        # tiempo hasta el encharcamiento\n",
    "        tp = psi_f * Atheta * Ks / (i * (i - Ks))\n",
    "        # infiltración acumulada cuando ocurre el encharcamiento\n",
    "        Fp = tp * i\n",
    "        # tiempo de inicio de la curva de infiltración\n",
    "        to = tp - (Fp - psi_f * Atheta * np.log(1 + Fp / (psi_f * Atheta))) / Ks\n",
    "    \n",
    "    # infiltración acumulada en el tiempo de cálculo\n",
    "    if tc <= tp:\n",
    "        Fc = i * tc\n",
    "    elif tc > tp:\n",
    "        Fo = Ks * (tc - to)\n",
    "        Fi = Ks * (tc - to) + psi_f * Atheta * np.log(1 + Fo / (psi_f * Atheta))\n",
    "        while (Fi - Fo) > epsilon:\n",
    "            Fo = Fi\n",
    "            Fi = Ks * (tc - to) + psi_f * Atheta * np.log(1 + Fo / (psi_f * Atheta))\n",
    "        Fc = Fi\n",
    "    \n",
    "    # tasa de infiltración en el tiempo de cálculo\n",
    "    fc = Ks * (1 + psi_f * Atheta / Fc)\n",
    "    \n",
    "    # profundidad del frente de húmedo\n",
    "    L = Fc / Atheta\n",
    "    \n",
    "    return Fc, fc, L"
   ]
  },
  {
   "cell_type": "markdown",
   "metadata": {},
   "source": [
    "### Propiedades del suelo"
   ]
  },
  {
   "cell_type": "code",
   "execution_count": 28,
   "metadata": {},
   "outputs": [],
   "source": [
    "def prop_suelo(m, ms, rho_m, D, L):\n",
    "    \"\"\"Se calculan las propiedades del suelo\n",
    "    \n",
    "    Entradas:\n",
    "    ---------\n",
    "    m:       float. Masa de la muestra de suelo (g)\n",
    "    ms:      float. Masa seca de la muestra (g)\n",
    "    rho_m:   float. Densidad del mineral (g/cm³)\n",
    "    D:       float. Diámetro del cilindro de la muestra (cm)\n",
    "    L:       float. Longitud del cilindro de la muestra (cm)\n",
    "    \n",
    "    Salidas:\n",
    "    --------\n",
    "    rho_b:   float. Densidad bruta (g/cm³)\n",
    "    phi:     float. Porosidad (-)\n",
    "    theta:   float. Humedad del suelo (-)\n",
    "    Se:      float. Grado de saturación (-)\"\"\"\n",
    "    \n",
    "    rho_w = 1    # g/cm³\n",
    "    \n",
    "    # Calcular volúmenes necesarios\n",
    "    Vt = np.pi / 4 * D**2 * L # volumen total\n",
    "    Vw = (m - ms) / rho_w   # volumen de agua\n",
    "    \n",
    "    # Calcular propiedades del suelo\n",
    "    rho_b = ms / Vt         # densidad del suelo\n",
    "    phi = 1 - rho_b / rho_m # porosidad\n",
    "    theta = Vw / Vt         # contenido de humedad del suelo\n",
    "    Se = theta / phi        # grado de saturación\n",
    "    \n",
    "    return rho_b, phi, theta, Se"
   ]
  },
  {
   "cell_type": "markdown",
   "metadata": {},
   "source": [
    "### Altura hidráulica y dirección del flujo subterráneo"
   ]
  },
  {
   "cell_type": "code",
   "execution_count": 59,
   "metadata": {},
   "outputs": [],
   "source": [
    "def direc_flujo(psi_m, prof, Lten):\n",
    "    \"\"\"Se calcula la altura hidráulica en dos puntos del suelo y en función de ella la dirección del flujo subterráneo.\n",
    "    \n",
    "    Entradas:\n",
    "    ---------\n",
    "    psi_m:   list (2,). Valores medidos de la tensión (negativos) en los dos puntos del suelo (cm).\n",
    "    prof:    list (2,). Profundidad (positivos) a la que se ubican los dos tensiómetros (cm)\n",
    "    Lten:    float. Longitud del tensiómetro (cm)\n",
    "    \n",
    "    Salida:\n",
    "    -------\n",
    "    H:       list (2,). Altura de energía en los dos puntos (cm)\"\"\"\n",
    "    \n",
    "    # tensión en el bulbo de los tensiómetros\n",
    "    psi = psi_m + Lten\n",
    "    \n",
    "    # altura potencial relativa a la superficie\n",
    "    z = - prof\n",
    "    \n",
    "    # altura de energía\n",
    "    H = z + psi\n",
    "    print('Ha = {0} cm\\tHb = {1} cm'.format(H[0], H[1]))\n",
    "    \n",
    "    # definir dirección del flujo\n",
    "    if H[0] > H[1]:\n",
    "        print('flujo en dirección a B')\n",
    "    elif H[0] == H[1]:\n",
    "        print('no hay flujo')\n",
    "    elif H[0] < H[1]:\n",
    "        print('flujo en dirección a A')\n",
    "        \n",
    "    return H"
   ]
  }
 ],
 "metadata": {
  "kernelspec": {
   "display_name": "Python 3",
   "language": "python",
   "name": "python3"
  },
  "language_info": {
   "codemirror_mode": {
    "name": "ipython",
    "version": 3
   },
   "file_extension": ".py",
   "mimetype": "text/x-python",
   "name": "python",
   "nbconvert_exporter": "python",
   "pygments_lexer": "ipython3",
   "version": "3.7.3"
  },
  "varInspector": {
   "cols": {
    "lenName": 16,
    "lenType": 16,
    "lenVar": 40
   },
   "kernels_config": {
    "python": {
     "delete_cmd_postfix": "",
     "delete_cmd_prefix": "del ",
     "library": "var_list.py",
     "varRefreshCmd": "print(var_dic_list())"
    },
    "r": {
     "delete_cmd_postfix": ") ",
     "delete_cmd_prefix": "rm(",
     "library": "var_list.r",
     "varRefreshCmd": "cat(var_dic_list()) "
    }
   },
   "types_to_exclude": [
    "module",
    "function",
    "builtin_function_or_method",
    "instance",
    "_Feature"
   ],
   "window_display": false
  }
 },
 "nbformat": 4,
 "nbformat_minor": 4
}
