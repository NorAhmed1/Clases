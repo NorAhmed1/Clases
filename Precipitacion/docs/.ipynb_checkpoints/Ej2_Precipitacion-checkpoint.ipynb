{
 "cells": [
  {
   "cell_type": "markdown",
   "metadata": {},
   "source": [
    "# Ejercicios de precipitación\n",
    "\n",
    "## <font color=steelblue>Ejercicio 2 - Curvas de doble masa<br>\n",
    "\n",
    "<font color=steelblue>La tabla *MassCurve* en el archivo *RainfallData.xlsx* proporciona la precipitación anual medida durante 17 años en cinco estaciones pluviométricas de una región. La ubicación de la estación C cambió en el año 1974. Realiza un análisis mediante una curva de doble masa para verificar la consistencia en la información del pluviómetro y realiza los ajustes pertinentes para corregir las inconsistencias descubiertas.</font>"
   ]
  },
  {
   "cell_type": "code",
   "execution_count": 1,
   "metadata": {},
   "outputs": [],
   "source": [
    "import numpy as np\n",
    "\n",
    "import pandas as pd\n",
    "\n",
    "import matplotlib.pyplot as plt\n",
    "%matplotlib inline\n",
    "plt.style.use('dark_background')\n",
    "#plt.style.use('seaborn-whitegrid')\n",
    "\n",
    "from scipy.optimize import curve_fit"
   ]
  },
  {
   "cell_type": "markdown",
   "metadata": {},
   "source": [
    "Una **curva de doble masa** es un gráfico de datos acumulado de una serie de datos de una variable frente a la serie de datos acumulados de otra variable en el mismo periodo de medición. Habitualmente, la variable de comparación es la serie acumulada de la media de las observaciones en otras estaciones.\n",
    "    \n",
    "<img src=\"img/Double mass curve.JPG\" alt=\"Mountain View\" style=\"width:450px\">\n",
    "\n",
    "> <font color=grey>Curva de doble masa de datos de precipitación. *(Double-Mass Curves. USGS, 1960)*.</font>\n",
    "    \n",
    "La serie de una estación es correcta si la curva de doble masa es una línea recta; la pendiente de dicha recta es la constante de proporcionalidad entre las series. Un cambio de pendiente en la recta significa un cambio en la constante de proporcionalidad y que la serie antes o después de ese punto debe ser corregida.\n",
    "\n",
    "La curva de doble masa, cuando se aplica a precipitación, toma la forma $Y=bX$, donde $b$ es la pendiente. No hay ordenada en el origen."
   ]
  },
  {
   "cell_type": "code",
   "execution_count": 2,
   "metadata": {},
   "outputs": [
    {
     "data": {
      "text/html": [
       "<div>\n",
       "<style scoped>\n",
       "    .dataframe tbody tr th:only-of-type {\n",
       "        vertical-align: middle;\n",
       "    }\n",
       "\n",
       "    .dataframe tbody tr th {\n",
       "        vertical-align: top;\n",
       "    }\n",
       "\n",
       "    .dataframe thead th {\n",
       "        text-align: right;\n",
       "    }\n",
       "</style>\n",
       "<table border=\"1\" class=\"dataframe\">\n",
       "  <thead>\n",
       "    <tr style=\"text-align: right;\">\n",
       "      <th></th>\n",
       "      <th>A</th>\n",
       "      <th>B</th>\n",
       "      <th>C</th>\n",
       "      <th>D</th>\n",
       "      <th>E</th>\n",
       "    </tr>\n",
       "    <tr>\n",
       "      <th>Year</th>\n",
       "      <th></th>\n",
       "      <th></th>\n",
       "      <th></th>\n",
       "      <th></th>\n",
       "      <th></th>\n",
       "    </tr>\n",
       "  </thead>\n",
       "  <tbody>\n",
       "    <tr>\n",
       "      <th>1970</th>\n",
       "      <td>1010</td>\n",
       "      <td>1161</td>\n",
       "      <td>780</td>\n",
       "      <td>949</td>\n",
       "      <td>1135</td>\n",
       "    </tr>\n",
       "    <tr>\n",
       "      <th>1971</th>\n",
       "      <td>1005</td>\n",
       "      <td>978</td>\n",
       "      <td>1041</td>\n",
       "      <td>784</td>\n",
       "      <td>970</td>\n",
       "    </tr>\n",
       "    <tr>\n",
       "      <th>1972</th>\n",
       "      <td>1067</td>\n",
       "      <td>1226</td>\n",
       "      <td>1027</td>\n",
       "      <td>1067</td>\n",
       "      <td>1158</td>\n",
       "    </tr>\n",
       "    <tr>\n",
       "      <th>1973</th>\n",
       "      <td>1051</td>\n",
       "      <td>880</td>\n",
       "      <td>825</td>\n",
       "      <td>1014</td>\n",
       "      <td>1022</td>\n",
       "    </tr>\n",
       "    <tr>\n",
       "      <th>1974</th>\n",
       "      <td>801</td>\n",
       "      <td>1146</td>\n",
       "      <td>933</td>\n",
       "      <td>923</td>\n",
       "      <td>821</td>\n",
       "    </tr>\n",
       "  </tbody>\n",
       "</table>\n",
       "</div>"
      ],
      "text/plain": [
       "         A     B     C     D     E\n",
       "Year                              \n",
       "1970  1010  1161   780   949  1135\n",
       "1971  1005   978  1041   784   970\n",
       "1972  1067  1226  1027  1067  1158\n",
       "1973  1051   880   825  1014  1022\n",
       "1974   801  1146   933   923   821"
      ]
     },
     "execution_count": 2,
     "metadata": {},
     "output_type": "execute_result"
    }
   ],
   "source": [
    "# Importar los datos de la hoja 'Data' en '2MassCurve.xls'\n",
    "data2 = pd.read_excel('..\\data\\RainfallData.xlsx', sheet_name='2MassCurve',\n",
    "                      skiprows=4,\n",
    "             index_col=0, usecols=range(6))\n",
    "data2.head()"
   ]
  },
  {
   "cell_type": "code",
   "execution_count": 3,
   "metadata": {},
   "outputs": [
    {
     "data": {
      "text/html": [
       "<div>\n",
       "<style scoped>\n",
       "    .dataframe tbody tr th:only-of-type {\n",
       "        vertical-align: middle;\n",
       "    }\n",
       "\n",
       "    .dataframe tbody tr th {\n",
       "        vertical-align: top;\n",
       "    }\n",
       "\n",
       "    .dataframe thead th {\n",
       "        text-align: right;\n",
       "    }\n",
       "</style>\n",
       "<table border=\"1\" class=\"dataframe\">\n",
       "  <thead>\n",
       "    <tr style=\"text-align: right;\">\n",
       "      <th></th>\n",
       "      <th>A</th>\n",
       "      <th>B</th>\n",
       "      <th>C</th>\n",
       "      <th>D</th>\n",
       "      <th>E</th>\n",
       "      <th>AVG</th>\n",
       "    </tr>\n",
       "    <tr>\n",
       "      <th>Year</th>\n",
       "      <th></th>\n",
       "      <th></th>\n",
       "      <th></th>\n",
       "      <th></th>\n",
       "      <th></th>\n",
       "      <th></th>\n",
       "    </tr>\n",
       "  </thead>\n",
       "  <tbody>\n",
       "    <tr>\n",
       "      <th>1970</th>\n",
       "      <td>1010</td>\n",
       "      <td>1161</td>\n",
       "      <td>780</td>\n",
       "      <td>949</td>\n",
       "      <td>1135</td>\n",
       "      <td>1007.0</td>\n",
       "    </tr>\n",
       "    <tr>\n",
       "      <th>1971</th>\n",
       "      <td>1005</td>\n",
       "      <td>978</td>\n",
       "      <td>1041</td>\n",
       "      <td>784</td>\n",
       "      <td>970</td>\n",
       "      <td>955.6</td>\n",
       "    </tr>\n",
       "    <tr>\n",
       "      <th>1972</th>\n",
       "      <td>1067</td>\n",
       "      <td>1226</td>\n",
       "      <td>1027</td>\n",
       "      <td>1067</td>\n",
       "      <td>1158</td>\n",
       "      <td>1109.0</td>\n",
       "    </tr>\n",
       "    <tr>\n",
       "      <th>1973</th>\n",
       "      <td>1051</td>\n",
       "      <td>880</td>\n",
       "      <td>825</td>\n",
       "      <td>1014</td>\n",
       "      <td>1022</td>\n",
       "      <td>958.4</td>\n",
       "    </tr>\n",
       "    <tr>\n",
       "      <th>1974</th>\n",
       "      <td>801</td>\n",
       "      <td>1146</td>\n",
       "      <td>933</td>\n",
       "      <td>923</td>\n",
       "      <td>821</td>\n",
       "      <td>924.8</td>\n",
       "    </tr>\n",
       "  </tbody>\n",
       "</table>\n",
       "</div>"
      ],
      "text/plain": [
       "         A     B     C     D     E     AVG\n",
       "Year                                      \n",
       "1970  1010  1161   780   949  1135  1007.0\n",
       "1971  1005   978  1041   784   970   955.6\n",
       "1972  1067  1226  1027  1067  1158  1109.0\n",
       "1973  1051   880   825  1014  1022   958.4\n",
       "1974   801  1146   933   923   821   924.8"
      ]
     },
     "execution_count": 3,
     "metadata": {},
     "output_type": "execute_result"
    }
   ],
   "source": [
    "# Calcular la media anual entre todas las estaciones\n",
    "data2['AVG'] = data2.mean(axis=1)\n",
    "data2.head()"
   ]
  },
  {
   "cell_type": "markdown",
   "metadata": {},
   "source": [
    "Primeramente, creamos un gráfico de dispersión que compare la serie de precipitación anual en el pluviómetro C frente a la media de todas las estaciones. La gráfica muestra también la regresión lineal entre las dos series según la fórmula $Y=bX$."
   ]
  },
  {
   "cell_type": "code",
   "execution_count": 4,
   "metadata": {},
   "outputs": [],
   "source": [
    "def linear_reg(x, b):\n",
    "    \"\"\"Linear regression with no intecept\n",
    "    \n",
    "    y = b * x   \n",
    "    \n",
    "    Input:\n",
    "    ------\n",
    "    x:         float. Independet value\n",
    "    b:         float. Slope of the linear regression\n",
    "    \n",
    "    Output:\n",
    "    -------\n",
    "    y:         float. Regressed value\"\"\"\n",
    "    \n",
    "    y = b * x\n",
    "    return y"
   ]
  },
  {
   "cell_type": "code",
   "execution_count": 5,
   "metadata": {},
   "outputs": [
    {
     "data": {
      "text/plain": [
       "0.944138390867605"
      ]
     },
     "execution_count": 5,
     "metadata": {},
     "output_type": "execute_result"
    }
   ],
   "source": [
    "# Ajustar la regresión lineal\n",
    "b = curve_fit(linear_reg, data2.AVG, data2.C)[0][0]\n",
    "b"
   ]
  },
  {
   "cell_type": "code",
   "execution_count": 6,
   "metadata": {},
   "outputs": [
    {
     "data": {
      "image/png": "[encoded data removed]",
      "text/plain": [
       "<Figure size 360x360 with 1 Axes>"
      ]
     },
     "metadata": {
      "needs_background": "dark"
     },
     "output_type": "display_data"
    }
   ],
   "source": [
    "fig, ax = plt.subplots(figsize=(5,5))\n",
    "\n",
    "# configuración\n",
    "ax.set_title('Serie de precipitación media anual (mm)', fontsize=14,\n",
    "             fontweight='bold')\n",
    "ax.set_xlabel('media de todas las estaciones', fontsize=13)\n",
    "ax.set_ylabel('estación C', fontsize=13)\n",
    "ax.set(xlim=(600, 1600), ylim=(600, 1600))\n",
    "\n",
    "# diagrama de dispersión\n",
    "ax.scatter(data2.AVG, data2.C)\n",
    "\n",
    "# recta de regresión\n",
    "ax.plot([0, 3000], [0, b * 3000], 'r--', linewidth=1)\n",
    "\n",
    "# label one every five years\n",
    "years = data2.index[::5]\n",
    "xyear = [data2.loc[year, 'AVG'] + 10 for year in years]\n",
    "yyear = [data2.loc[year, 'C'] - 20 for year in years] \n",
    "for i, year in enumerate(years):\n",
    "    ax.text(xyear[i], yyear[i], year, verticalalignment='center')\n",
    "\n",
    "plt.tight_layout()"
   ]
  },
  {
   "cell_type": "markdown",
   "metadata": {},
   "source": [
    "Este tipo de gráfico tiene mucha dispersión causada por la variabilidad anual del clima, por lo que no es conveniente para encontrar anomalías. \n",
    "\n",
    "Por eso se utiliza la **curva de doble masa**. Esta gráfica se crea a partir de las series de **precipitación acumulada**. De esta manera, la gráfica ha de tener siempre una pendiente positiva y continua; cualquier cambio de pendiente representa una anomalía en la serie de precipitación."
   ]
  },
  {
   "cell_type": "code",
   "execution_count": 7,
   "metadata": {},
   "outputs": [
    {
     "data": {
      "text/html": [
       "<div>\n",
       "<style scoped>\n",
       "    .dataframe tbody tr th:only-of-type {\n",
       "        vertical-align: middle;\n",
       "    }\n",
       "\n",
       "    .dataframe tbody tr th {\n",
       "        vertical-align: top;\n",
       "    }\n",
       "\n",
       "    .dataframe thead th {\n",
       "        text-align: right;\n",
       "    }\n",
       "</style>\n",
       "<table border=\"1\" class=\"dataframe\">\n",
       "  <thead>\n",
       "    <tr style=\"text-align: right;\">\n",
       "      <th></th>\n",
       "      <th>A</th>\n",
       "      <th>B</th>\n",
       "      <th>C</th>\n",
       "      <th>D</th>\n",
       "      <th>E</th>\n",
       "      <th>AVG</th>\n",
       "    </tr>\n",
       "    <tr>\n",
       "      <th>Year</th>\n",
       "      <th></th>\n",
       "      <th></th>\n",
       "      <th></th>\n",
       "      <th></th>\n",
       "      <th></th>\n",
       "      <th></th>\n",
       "    </tr>\n",
       "  </thead>\n",
       "  <tbody>\n",
       "    <tr>\n",
       "      <th>1970</th>\n",
       "      <td>1010.0</td>\n",
       "      <td>1161.0</td>\n",
       "      <td>780.0</td>\n",
       "      <td>949.0</td>\n",
       "      <td>1135.0</td>\n",
       "      <td>1007.0</td>\n",
       "    </tr>\n",
       "    <tr>\n",
       "      <th>1971</th>\n",
       "      <td>2015.0</td>\n",
       "      <td>2139.0</td>\n",
       "      <td>1821.0</td>\n",
       "      <td>1733.0</td>\n",
       "      <td>2105.0</td>\n",
       "      <td>1962.6</td>\n",
       "    </tr>\n",
       "    <tr>\n",
       "      <th>1972</th>\n",
       "      <td>3082.0</td>\n",
       "      <td>3365.0</td>\n",
       "      <td>2848.0</td>\n",
       "      <td>2800.0</td>\n",
       "      <td>3263.0</td>\n",
       "      <td>3071.6</td>\n",
       "    </tr>\n",
       "    <tr>\n",
       "      <th>1973</th>\n",
       "      <td>4133.0</td>\n",
       "      <td>4245.0</td>\n",
       "      <td>3673.0</td>\n",
       "      <td>3814.0</td>\n",
       "      <td>4285.0</td>\n",
       "      <td>4030.0</td>\n",
       "    </tr>\n",
       "    <tr>\n",
       "      <th>1974</th>\n",
       "      <td>4934.0</td>\n",
       "      <td>5391.0</td>\n",
       "      <td>4606.0</td>\n",
       "      <td>4737.0</td>\n",
       "      <td>5106.0</td>\n",
       "      <td>4954.8</td>\n",
       "    </tr>\n",
       "  </tbody>\n",
       "</table>\n",
       "</div>"
      ],
      "text/plain": [
       "           A       B       C       D       E     AVG\n",
       "Year                                                \n",
       "1970  1010.0  1161.0   780.0   949.0  1135.0  1007.0\n",
       "1971  2015.0  2139.0  1821.0  1733.0  2105.0  1962.6\n",
       "1972  3082.0  3365.0  2848.0  2800.0  3263.0  3071.6\n",
       "1973  4133.0  4245.0  3673.0  3814.0  4285.0  4030.0\n",
       "1974  4934.0  5391.0  4606.0  4737.0  5106.0  4954.8"
      ]
     },
     "execution_count": 7,
     "metadata": {},
     "output_type": "execute_result"
    }
   ],
   "source": [
    "# Serie anual de precipitación acumulada\n",
    "accData2 = data2.cumsum()\n",
    "accData2.head()"
   ]
  },
  {
   "cell_type": "code",
   "execution_count": 8,
   "metadata": {},
   "outputs": [
    {
     "data": {
      "text/plain": [
       "0.9472720120775414"
      ]
     },
     "execution_count": 8,
     "metadata": {},
     "output_type": "execute_result"
    }
   ],
   "source": [
    "# ajustar la regresión lineal\n",
    "b = curve_fit(linear_reg, accData2.AVG, accData2.C)[0][0]\n",
    "b"
   ]
  },
  {
   "cell_type": "code",
   "execution_count": 9,
   "metadata": {},
   "outputs": [
    {
     "data": {
      "image/png": "[encoded data removed]",
      "text/plain": [
       "<Figure size 360x360 with 1 Axes>"
      ]
     },
     "metadata": {
      "needs_background": "dark"
     },
     "output_type": "display_data"
    }
   ],
   "source": [
    "fig, ax = plt.subplots(figsize=(5,5))\n",
    "lim = 20000\n",
    "thr = 0.1\n",
    "\n",
    "# configuración\n",
    "ax.set_title('Curva de doble masa (mm)', fontsize=14, fontweight='bold')\n",
    "ax.set_xlabel('media de todas las estaciones', fontsize=13)\n",
    "ax.set_ylabel('estación C', fontsize=13)\n",
    "ax.set(xlim=(0, lim), ylim=(0, lim))\n",
    "\n",
    "# diagrama de dispersión\n",
    "ax.scatter(accData2.AVG, accData2.C, label='original')\n",
    "\n",
    "# regresión lineal\n",
    "ax.plot([0, lim], [0, b * lim], 'r--', linewidth=1)\n",
    "\n",
    "# etiquetar uno de cada cinco años\n",
    "years = accData2.index[::5]\n",
    "xyear = [accData2.loc[year, 'AVG'] + 200 for year in years]\n",
    "yyear = [accData2.loc[year, 'C'] for year in years] \n",
    "for i, year in enumerate(years):\n",
    "    ax.text(xyear[i], yyear[i], year, verticalalignment='center')\n",
    "          \n",
    "plt.tight_layout()"
   ]
  },
  {
   "cell_type": "code",
   "execution_count": 10,
   "metadata": {},
   "outputs": [
    {
     "name": "stdout",
     "output_type": "stream",
     "text": [
      "Potential anomaly: year 1975\n",
      "Potential anomaly: year 1976\n",
      "Potential anomaly: year 1977\n",
      "Potential anomaly: year 1978\n",
      "Potential anomaly: year 1979\n"
     ]
    }
   ],
   "source": [
    "# identificar años con anomalía\n",
    "for j, year in enumerate(accData2.index[4:-4]):\n",
    "    # pendiente de la recta de regresión hasta 'year'\n",
    "    p1 = np.polyfit(accData2.loc[:year, 'AVG'],\n",
    "                    accData2.loc[:year, 'C'], 1)\n",
    "    # pendiente de la recta de regresión a partir de 'year'\n",
    "    p2 = np.polyfit(accData2.loc[year + 1:, 'AVG'],\n",
    "                    accData2.loc[year + 1:, 'C'], 1)\n",
    "    # identificar como anomalía si el cociente de las pendientes se aleja de 1\n",
    "    if (p1[0] / p2[0] < 1 - thr) | (p1[0] / p2[0] > 1 + thr):\n",
    "        print(\"Potential anomaly: year {0}\".format(year))"
   ]
  },
  {
   "cell_type": "markdown",
   "metadata": {},
   "source": [
    "El análisis muestra un cambio en la pendiente a partir de 1976, lo que concuerda con el hecho de que la estación cambió de ubicación en 1974. Puesto que no disponemos de información para decidir si la serie correcta es la anterior o posterior a 1976, corregiremos los datos previos a dicha fecha."
   ]
  },
  {
   "cell_type": "code",
   "execution_count": 11,
   "metadata": {},
   "outputs": [],
   "source": [
    "# año de la anomalía\n",
    "year = 1976"
   ]
  },
  {
   "cell_type": "code",
   "execution_count": 12,
   "metadata": {
    "scrolled": true
   },
   "outputs": [
    {
     "data": {
      "text/plain": [
       "0.9648376054834307"
      ]
     },
     "execution_count": 12,
     "metadata": {},
     "output_type": "execute_result"
    }
   ],
   "source": [
    "# pendiente antes de la anomalía\n",
    "# ------------------------------\n",
    "b_wrong = curve_fit(linear_reg, accData2.loc[:year, 'AVG'],\n",
    "                    accData2.loc[:year, 'C'])[0][0]\n",
    "b_wrong"
   ]
  },
  {
   "cell_type": "code",
   "execution_count": 13,
   "metadata": {},
   "outputs": [
    {
     "data": {
      "text/plain": [
       "0.8836253396178155"
      ]
     },
     "execution_count": 13,
     "metadata": {},
     "output_type": "execute_result"
    }
   ],
   "source": [
    "# pendiente después de la anomalía\n",
    "# --------------------------------\n",
    "# extraer datos posteriores a la anomalía\n",
    "temp = data2.loc[year + 1:, :].copy()\n",
    "# calcular serie acumulada\n",
    "accTemp = temp.cumsum(axis=0)    \n",
    "# ajustar la regresión\n",
    "b_right = curve_fit(linear_reg, accTemp.AVG, accTemp.C)[0][0]\n",
    "b_right"
   ]
  },
  {
   "cell_type": "code",
   "execution_count": 14,
   "metadata": {},
   "outputs": [],
   "source": [
    "# corregir datos originales\n",
    "# -------------------------\n",
    "# crear columna para los datos corregidos\n",
    "data2['C_c'] = data2.C\n",
    "# corregir datos\n",
    "data2.loc[:year, 'C_c'] = data2.loc[:year, 'C'] * b_right / b_wrong\n",
    "# recalcular la serie acumulada\n",
    "accData2 = data2.cumsum(axis=0)"
   ]
  },
  {
   "cell_type": "code",
   "execution_count": 16,
   "metadata": {},
   "outputs": [
    {
     "data": {
      "image/png": "[encoded data removed]",
      "text/plain": [
       "<Figure size 360x360 with 1 Axes>"
      ]
     },
     "metadata": {
      "needs_background": "dark"
     },
     "output_type": "display_data"
    }
   ],
   "source": [
    "# GRÁFICO CON LA SERIE ORIGINAL Y LA CORREGIDA\n",
    "# --------------------------------------------\n",
    "fig, ax = plt.subplots(figsize=(5,5))\n",
    "lim = 20000\n",
    "\n",
    "# configuración\n",
    "ax.set_title('Curva de doble masa (mm)', fontsize=14, fontweight='bold')\n",
    "ax.set_xlabel('media de las estaciones', fontsize=13)\n",
    "ax.set_ylabel('estación C', fontsize=13)\n",
    "ax.set(xlim=(0, lim), ylim=(0, lim))\n",
    "\n",
    "# diagramas de dispersión\n",
    "ax.scatter(accData2.AVG, accData2.C, label='original')\n",
    "ax.scatter(accData2.AVG, accData2.C_c, marker='x', label='corregido')\n",
    "\n",
    "# regresión linal\n",
    "b = curve_fit(linear_reg, accData2.AVG, accData2.C_c)[0][0]\n",
    "ax.plot([0, lim], [0, b * lim], 'r--', linewidth=1)\n",
    "\n",
    "# etiquetas uno de cada cinco años\n",
    "years = accData2.index[::5]\n",
    "xyear = [accData2.loc[year, 'AVG'] + 200 for year in years]\n",
    "yyear = [accData2.loc[year, 'C'] for year in years] \n",
    "for i, year in enumerate(years):\n",
    "    ax.text(xyear[i], yyear[i], year, verticalalignment='center')\n",
    "\n",
    "ax.legend(loc=4, ncol=1, fontsize=13)\n",
    "plt.tight_layout()\n",
    "\n",
    "plt.savefig('../output/Ej2_curva de doble masas.png', dpi=300)"
   ]
  },
  {
   "cell_type": "code",
   "execution_count": 22,
   "metadata": {},
   "outputs": [],
   "source": [
    "# exportar datos corregidos\n",
    "data2_c = data2.loc[:, ['A', 'B', 'C_c', 'D', 'E']]\n",
    "data2_c.columns = ['A', 'B', 'C', 'D', 'E']\n",
    "data2_c.to_csv('../output/Ej2_series corregidas.csv', float_format='%.0f')"
   ]
  },
  {
   "cell_type": "code",
   "execution_count": null,
   "metadata": {},
   "outputs": [],
   "source": []
  }
 ],
 "metadata": {
  "anaconda-cloud": {},
  "kernelspec": {
   "display_name": "Python 3",
   "language": "python",
   "name": "python3"
  },
  "language_info": {
   "codemirror_mode": {
    "name": "ipython",
    "version": 3
   },
   "file_extension": ".py",
   "mimetype": "text/x-python",
   "name": "python",
   "nbconvert_exporter": "python",
   "pygments_lexer": "ipython3",
   "version": "3.7.3"
  },
  "varInspector": {
   "cols": {
    "lenName": 16,
    "lenType": 16,
    "lenVar": 40
   },
   "kernels_config": {
    "python": {
     "delete_cmd_postfix": "",
     "delete_cmd_prefix": "del ",
     "library": "var_list.py",
     "varRefreshCmd": "print(var_dic_list())"
    },
    "r": {
     "delete_cmd_postfix": ") ",
     "delete_cmd_prefix": "rm(",
     "library": "var_list.r",
     "varRefreshCmd": "cat(var_dic_list()) "
    }
   },
   "position": {
    "height": "255px",
    "left": "634px",
    "right": "20px",
    "top": "118px",
    "width": "350px"
   },
   "types_to_exclude": [
    "module",
    "function",
    "builtin_function_or_method",
    "instance",
    "_Feature"
   ],
   "window_display": false
  }
 },
 "nbformat": 4,
 "nbformat_minor": 4
}
