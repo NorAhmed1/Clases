{
 "cells": [
  {
   "cell_type": "markdown",
   "metadata": {},
   "source": [
    "## <font color=steelblue>Ejercicio 1 - Interpolación de datos faltantes\n",
    "\n",
    "<font color=steelblue>La figura muestra una cuenca hidrográfica experimental y la ubicación de 11 pluviómetros en su zona de influencia. La estación F dejó de funcionar durante una tormenta, con lo que no se dispone de datos en ella. Utiliza los datos que sí registraron el resto de estaciones de la cuenca para estimar la precipitación en F.\n",
    "\n",
    "<img src=\"img/RainGages.png\" alt=\"Mountain View\" style=\"width:300px\">\n",
    "    \n",
    "<font color=steelblue>Los datos de precipitación se encuentran en el archivo *RainfallData_Exercise_001.csv*.\n",
    "\n",
    "| Gage | X      | Y       | Average Annual Precip. (mm) | Measured Storm Precip. (mm) |\n",
    "|------|--------|---------|-----------------------------|-----------------------------|\n",
    "| C    | 385014 | 4778553 | 1404                        | 11.6                        |\n",
    "| D    | 389634 | 4779045 | 1433                        | 14.8                        |\n",
    "| E    | 380729 | 4775518 | 1665                        | 13.3                        |\n",
    "| F    | 387259 | 4776670 | 1137                        | -                           |\n",
    "| G    | 389380 | 4776484 | 1235                        | 12.3                        |\n",
    "| H    | 382945 | 4772356 | 1114                        | 11.5                        |\n",
    "| I    | 386399 | 4771795 | 1101                        | 11.6                        |\n",
    "| J    | 388397 | 4772419 | 1086                        | 11.2                        |\n",
    "| K    | 389287 | 4771097 | 1010                        | 9.7                         |\n",
    "    "
   ]
  },
  {
   "cell_type": "markdown",
   "metadata": {},
   "source": [
    "#### Métodos:\n",
    "[1.1 Método de la media](#Método-de-la-media)<br>\n",
    "[1.2 Método de la razón normal](#Método-de-la-razón-normal)<br>\n",
    "[1.3 Método de la distancia inversa](#Método-de-la-distancia-inversa)<br>"
   ]
  },
  {
   "cell_type": "markdown",
   "metadata": {},
   "source": [
    "Los métodos de completado de datos siguen, al igual que muchos métodos de interpolación, la siguiente fórmula general:\n",
    "\n",
    "$$\\hat{p_o} = \\sum_{i=1}^{n} w_i·p_i$$\n",
    "\n",
    "Donde $\\hat{p_o}$ es el dato de precipitación en la estación que queremos interpolar, $n$ es el número de estaciones, $w_i$ y $p_i$ son la ponderación y la precipitación recogida en cada una de las estaciones a partir de las cuales se completa/interpola."
   ]
  },
  {
   "cell_type": "code",
   "execution_count": 1,
   "metadata": {},
   "outputs": [],
   "source": [
    "import numpy as np\n",
    "\n",
    "import pandas as pd\n",
    "\n",
    "from matplotlib import pyplot as plt\n",
    "%matplotlib inline\n",
    "plt.style.use('dark_background')\n",
    "#plt.style.use('seaborn-whitegrid')\n",
    "\n",
    "from scipy.stats import genextreme\n",
    "from scipy.optimize import curve_fit"
   ]
  },
  {
   "cell_type": "markdown",
   "metadata": {},
   "source": [
    "Se importan los datos a través de _pandas_ y se guardan en un objeto (_data frame_ en terminología _pandas_)."
   ]
  },
  {
   "cell_type": "code",
   "execution_count": 2,
   "metadata": {},
   "outputs": [
    {
     "data": {
      "text/html": [
       "<div>\n",
       "<style scoped>\n",
       "    .dataframe tbody tr th:only-of-type {\n",
       "        vertical-align: middle;\n",
       "    }\n",
       "\n",
       "    .dataframe tbody tr th {\n",
       "        vertical-align: top;\n",
       "    }\n",
       "\n",
       "    .dataframe thead th {\n",
       "        text-align: right;\n",
       "    }\n",
       "</style>\n",
       "<table border=\"1\" class=\"dataframe\">\n",
       "  <thead>\n",
       "    <tr style=\"text-align: right;\">\n",
       "      <th></th>\n",
       "      <th>X</th>\n",
       "      <th>Y</th>\n",
       "      <th>Average Annual Precip. (mm)</th>\n",
       "      <th>Measured Storm Precip. (mm)</th>\n",
       "    </tr>\n",
       "    <tr>\n",
       "      <th>Gage</th>\n",
       "      <th></th>\n",
       "      <th></th>\n",
       "      <th></th>\n",
       "      <th></th>\n",
       "    </tr>\n",
       "  </thead>\n",
       "  <tbody>\n",
       "    <tr>\n",
       "      <th>A</th>\n",
       "      <td>387706</td>\n",
       "      <td>4781780</td>\n",
       "      <td>1373</td>\n",
       "      <td>14.4</td>\n",
       "    </tr>\n",
       "    <tr>\n",
       "      <th>B</th>\n",
       "      <td>383422</td>\n",
       "      <td>4778885</td>\n",
       "      <td>1452</td>\n",
       "      <td>12.2</td>\n",
       "    </tr>\n",
       "    <tr>\n",
       "      <th>C</th>\n",
       "      <td>385014</td>\n",
       "      <td>4778553</td>\n",
       "      <td>1404</td>\n",
       "      <td>11.6</td>\n",
       "    </tr>\n",
       "    <tr>\n",
       "      <th>D</th>\n",
       "      <td>389634</td>\n",
       "      <td>4779045</td>\n",
       "      <td>1433</td>\n",
       "      <td>14.8</td>\n",
       "    </tr>\n",
       "    <tr>\n",
       "      <th>E</th>\n",
       "      <td>380729</td>\n",
       "      <td>4775518</td>\n",
       "      <td>1665</td>\n",
       "      <td>13.3</td>\n",
       "    </tr>\n",
       "    <tr>\n",
       "      <th>F</th>\n",
       "      <td>387259</td>\n",
       "      <td>4776670</td>\n",
       "      <td>1137</td>\n",
       "      <td>NaN</td>\n",
       "    </tr>\n",
       "    <tr>\n",
       "      <th>G</th>\n",
       "      <td>389380</td>\n",
       "      <td>4776484</td>\n",
       "      <td>1235</td>\n",
       "      <td>12.3</td>\n",
       "    </tr>\n",
       "    <tr>\n",
       "      <th>H</th>\n",
       "      <td>382945</td>\n",
       "      <td>4772356</td>\n",
       "      <td>1114</td>\n",
       "      <td>11.5</td>\n",
       "    </tr>\n",
       "    <tr>\n",
       "      <th>I</th>\n",
       "      <td>386399</td>\n",
       "      <td>4771795</td>\n",
       "      <td>1101</td>\n",
       "      <td>11.6</td>\n",
       "    </tr>\n",
       "    <tr>\n",
       "      <th>J</th>\n",
       "      <td>388397</td>\n",
       "      <td>4772419</td>\n",
       "      <td>1086</td>\n",
       "      <td>11.2</td>\n",
       "    </tr>\n",
       "    <tr>\n",
       "      <th>K</th>\n",
       "      <td>389287</td>\n",
       "      <td>4771097</td>\n",
       "      <td>1010</td>\n",
       "      <td>9.7</td>\n",
       "    </tr>\n",
       "  </tbody>\n",
       "</table>\n",
       "</div>"
      ],
      "text/plain": [
       "           X        Y  Average Annual Precip. (mm)  \\\n",
       "Gage                                                 \n",
       "A     387706  4781780                         1373   \n",
       "B     383422  4778885                         1452   \n",
       "C     385014  4778553                         1404   \n",
       "D     389634  4779045                         1433   \n",
       "E     380729  4775518                         1665   \n",
       "F     387259  4776670                         1137   \n",
       "G     389380  4776484                         1235   \n",
       "H     382945  4772356                         1114   \n",
       "I     386399  4771795                         1101   \n",
       "J     388397  4772419                         1086   \n",
       "K     389287  4771097                         1010   \n",
       "\n",
       "      Measured Storm Precip. (mm)  \n",
       "Gage                               \n",
       "A                            14.4  \n",
       "B                            12.2  \n",
       "C                            11.6  \n",
       "D                            14.8  \n",
       "E                            13.3  \n",
       "F                             NaN  \n",
       "G                            12.3  \n",
       "H                            11.5  \n",
       "I                            11.6  \n",
       "J                            11.2  \n",
       "K                             9.7  "
      ]
     },
     "execution_count": 2,
     "metadata": {},
     "output_type": "execute_result"
    }
   ],
   "source": [
    "# Importar 'RainfallData_Exercise_001.csv'\n",
    "data1 = pd.read_csv('..\\data\\RainfallData_Exercise_001.csv', index_col=0)\n",
    "data1"
   ]
  },
  {
   "cell_type": "markdown",
   "metadata": {},
   "source": [
    "Un _data frame_ tiene asociados una serie de atributos. Por ejemplo, se puede extraer la dimensión de la tabla (`shape`), el número total de elemenos (`size`), el nombre de las variables (`columns`) o los datos en forma de _numpy array_ (`values`)."
   ]
  },
  {
   "cell_type": "code",
   "execution_count": 3,
   "metadata": {},
   "outputs": [
    {
     "data": {
      "text/plain": [
       "(11, 4)"
      ]
     },
     "execution_count": 3,
     "metadata": {},
     "output_type": "execute_result"
    }
   ],
   "source": [
    "#dimensión\n",
    "data1.shape"
   ]
  },
  {
   "cell_type": "code",
   "execution_count": 4,
   "metadata": {},
   "outputs": [
    {
     "data": {
      "text/plain": [
       "44"
      ]
     },
     "execution_count": 4,
     "metadata": {},
     "output_type": "execute_result"
    }
   ],
   "source": [
    "# nº de datos\n",
    "data1.size"
   ]
  },
  {
   "cell_type": "code",
   "execution_count": 5,
   "metadata": {},
   "outputs": [
    {
     "data": {
      "text/plain": [
       "Index(['A', 'B', 'C', 'D', 'E', 'F', 'G', 'H', 'I', 'J', 'K'], dtype='object', name='Gage')"
      ]
     },
     "execution_count": 5,
     "metadata": {},
     "output_type": "execute_result"
    }
   ],
   "source": [
    "# índice\n",
    "data1.index"
   ]
  },
  {
   "cell_type": "code",
   "execution_count": 6,
   "metadata": {},
   "outputs": [
    {
     "data": {
      "text/plain": [
       "Index(['X', 'Y', 'Average Annual Precip. (mm)', 'Measured Storm Precip. (mm)'], dtype='object')"
      ]
     },
     "execution_count": 6,
     "metadata": {},
     "output_type": "execute_result"
    }
   ],
   "source": [
    "# columnas\n",
    "data1.columns"
   ]
  },
  {
   "cell_type": "markdown",
   "metadata": {},
   "source": [
    "Además, se pueden aplicar sobre él funciones de cualquier tipo. Por ejemplo, la función `describe` genera un resumen estadístico de cada una de las variables (columnas) del _data frame_."
   ]
  },
  {
   "cell_type": "code",
   "execution_count": 7,
   "metadata": {},
   "outputs": [
    {
     "data": {
      "text/html": [
       "<div>\n",
       "<style scoped>\n",
       "    .dataframe tbody tr th:only-of-type {\n",
       "        vertical-align: middle;\n",
       "    }\n",
       "\n",
       "    .dataframe tbody tr th {\n",
       "        vertical-align: top;\n",
       "    }\n",
       "\n",
       "    .dataframe thead th {\n",
       "        text-align: right;\n",
       "    }\n",
       "</style>\n",
       "<table border=\"1\" class=\"dataframe\">\n",
       "  <thead>\n",
       "    <tr style=\"text-align: right;\">\n",
       "      <th></th>\n",
       "      <th>X</th>\n",
       "      <th>Y</th>\n",
       "      <th>Average Annual Precip. (mm)</th>\n",
       "      <th>Measured Storm Precip. (mm)</th>\n",
       "    </tr>\n",
       "  </thead>\n",
       "  <tbody>\n",
       "    <tr>\n",
       "      <th>count</th>\n",
       "      <td>11.000000</td>\n",
       "      <td>1.100000e+01</td>\n",
       "      <td>11.000000</td>\n",
       "      <td>10.000000</td>\n",
       "    </tr>\n",
       "    <tr>\n",
       "      <th>mean</th>\n",
       "      <td>386379.272727</td>\n",
       "      <td>4.775873e+06</td>\n",
       "      <td>1273.636364</td>\n",
       "      <td>12.260000</td>\n",
       "    </tr>\n",
       "    <tr>\n",
       "      <th>std</th>\n",
       "      <td>2983.076804</td>\n",
       "      <td>3.550817e+03</td>\n",
       "      <td>204.304808</td>\n",
       "      <td>1.536374</td>\n",
       "    </tr>\n",
       "    <tr>\n",
       "      <th>min</th>\n",
       "      <td>380729.000000</td>\n",
       "      <td>4.771097e+06</td>\n",
       "      <td>1010.000000</td>\n",
       "      <td>9.700000</td>\n",
       "    </tr>\n",
       "    <tr>\n",
       "      <th>25%</th>\n",
       "      <td>384218.000000</td>\n",
       "      <td>4.772388e+06</td>\n",
       "      <td>1107.500000</td>\n",
       "      <td>11.525000</td>\n",
       "    </tr>\n",
       "    <tr>\n",
       "      <th>50%</th>\n",
       "      <td>387259.000000</td>\n",
       "      <td>4.776484e+06</td>\n",
       "      <td>1235.000000</td>\n",
       "      <td>11.900000</td>\n",
       "    </tr>\n",
       "    <tr>\n",
       "      <th>75%</th>\n",
       "      <td>388842.000000</td>\n",
       "      <td>4.778719e+06</td>\n",
       "      <td>1418.500000</td>\n",
       "      <td>13.050000</td>\n",
       "    </tr>\n",
       "    <tr>\n",
       "      <th>max</th>\n",
       "      <td>389634.000000</td>\n",
       "      <td>4.781780e+06</td>\n",
       "      <td>1665.000000</td>\n",
       "      <td>14.800000</td>\n",
       "    </tr>\n",
       "  </tbody>\n",
       "</table>\n",
       "</div>"
      ],
      "text/plain": [
       "                   X             Y  Average Annual Precip. (mm)  \\\n",
       "count      11.000000  1.100000e+01                    11.000000   \n",
       "mean   386379.272727  4.775873e+06                  1273.636364   \n",
       "std      2983.076804  3.550817e+03                   204.304808   \n",
       "min    380729.000000  4.771097e+06                  1010.000000   \n",
       "25%    384218.000000  4.772388e+06                  1107.500000   \n",
       "50%    387259.000000  4.776484e+06                  1235.000000   \n",
       "75%    388842.000000  4.778719e+06                  1418.500000   \n",
       "max    389634.000000  4.781780e+06                  1665.000000   \n",
       "\n",
       "       Measured Storm Precip. (mm)  \n",
       "count                    10.000000  \n",
       "mean                     12.260000  \n",
       "std                       1.536374  \n",
       "min                       9.700000  \n",
       "25%                      11.525000  \n",
       "50%                      11.900000  \n",
       "75%                      13.050000  \n",
       "max                      14.800000  "
      ]
     },
     "execution_count": 7,
     "metadata": {},
     "output_type": "execute_result"
    }
   ],
   "source": [
    "# resumen\n",
    "data1.describe()"
   ]
  },
  {
   "cell_type": "code",
   "execution_count": 8,
   "metadata": {},
   "outputs": [
    {
     "data": {
      "text/plain": [
       "X                               386379.0\n",
       "Y                              4775873.0\n",
       "Average Annual Precip. (mm)       1274.0\n",
       "Measured Storm Precip. (mm)         12.0\n",
       "dtype: float64"
      ]
     },
     "execution_count": 8,
     "metadata": {},
     "output_type": "execute_result"
    }
   ],
   "source": [
    "# media\n",
    "round(data1.mean(), 0)"
   ]
  },
  {
   "cell_type": "code",
   "execution_count": 9,
   "metadata": {},
   "outputs": [
    {
     "data": {
      "text/html": [
       "<div>\n",
       "<style scoped>\n",
       "    .dataframe tbody tr th:only-of-type {\n",
       "        vertical-align: middle;\n",
       "    }\n",
       "\n",
       "    .dataframe tbody tr th {\n",
       "        vertical-align: top;\n",
       "    }\n",
       "\n",
       "    .dataframe thead th {\n",
       "        text-align: right;\n",
       "    }\n",
       "</style>\n",
       "<table border=\"1\" class=\"dataframe\">\n",
       "  <thead>\n",
       "    <tr style=\"text-align: right;\">\n",
       "      <th></th>\n",
       "      <th>X</th>\n",
       "      <th>Y</th>\n",
       "      <th>Average Annual Precip. (mm)</th>\n",
       "      <th>Measured Storm Precip. (mm)</th>\n",
       "    </tr>\n",
       "    <tr>\n",
       "      <th>Gage</th>\n",
       "      <th></th>\n",
       "      <th></th>\n",
       "      <th></th>\n",
       "      <th></th>\n",
       "    </tr>\n",
       "  </thead>\n",
       "  <tbody>\n",
       "    <tr>\n",
       "      <th>A</th>\n",
       "      <td>387706</td>\n",
       "      <td>4781780</td>\n",
       "      <td>1373</td>\n",
       "      <td>14.4</td>\n",
       "    </tr>\n",
       "    <tr>\n",
       "      <th>B</th>\n",
       "      <td>383422</td>\n",
       "      <td>4778885</td>\n",
       "      <td>1452</td>\n",
       "      <td>12.2</td>\n",
       "    </tr>\n",
       "    <tr>\n",
       "      <th>C</th>\n",
       "      <td>385014</td>\n",
       "      <td>4778553</td>\n",
       "      <td>1404</td>\n",
       "      <td>11.6</td>\n",
       "    </tr>\n",
       "    <tr>\n",
       "      <th>D</th>\n",
       "      <td>389634</td>\n",
       "      <td>4779045</td>\n",
       "      <td>1433</td>\n",
       "      <td>14.8</td>\n",
       "    </tr>\n",
       "    <tr>\n",
       "      <th>E</th>\n",
       "      <td>380729</td>\n",
       "      <td>4775518</td>\n",
       "      <td>1665</td>\n",
       "      <td>13.3</td>\n",
       "    </tr>\n",
       "  </tbody>\n",
       "</table>\n",
       "</div>"
      ],
      "text/plain": [
       "           X        Y  Average Annual Precip. (mm)  \\\n",
       "Gage                                                 \n",
       "A     387706  4781780                         1373   \n",
       "B     383422  4778885                         1452   \n",
       "C     385014  4778553                         1404   \n",
       "D     389634  4779045                         1433   \n",
       "E     380729  4775518                         1665   \n",
       "\n",
       "      Measured Storm Precip. (mm)  \n",
       "Gage                               \n",
       "A                            14.4  \n",
       "B                            12.2  \n",
       "C                            11.6  \n",
       "D                            14.8  \n",
       "E                            13.3  "
      ]
     },
     "execution_count": 9,
     "metadata": {},
     "output_type": "execute_result"
    }
   ],
   "source": [
    "# primeras líneas\n",
    "data1.head()"
   ]
  },
  {
   "cell_type": "markdown",
   "metadata": {},
   "source": [
    "Para seleccionar un dato o un conjunto de datos de un _data frame_ debe indicarse la fila y columna bien a través de su nombre o de su posición. \n",
    "\n",
    "* La función `.loc` permite extraer datos a través del nombre de las filas y columnas.\n",
    "\n",
    "* La función `.iloc` permite extraer datos a través de la posición de las filas y columnas. IMPORTANTE: la posición en Python se inicia desde el 0, es decir, la primera fila es la fila 0, no la 1."
   ]
  },
  {
   "cell_type": "code",
   "execution_count": 10,
   "metadata": {},
   "outputs": [
    {
     "data": {
      "text/plain": [
       "Gage\n",
       "A    1373\n",
       "C    1404\n",
       "Name: Average Annual Precip. (mm), dtype: int64"
      ]
     },
     "execution_count": 10,
     "metadata": {},
     "output_type": "execute_result"
    }
   ],
   "source": [
    "# Extraer mediante .loc\n",
    "data1.loc['A', 'Measured Storm Precip. (mm)']\n",
    "data1.loc['A', :]\n",
    "data1.loc[['A', 'C'], 'Average Annual Precip. (mm)']"
   ]
  },
  {
   "cell_type": "code",
   "execution_count": 11,
   "metadata": {},
   "outputs": [
    {
     "data": {
      "text/plain": [
       "Gage\n",
       "A    4781780\n",
       "C    4778553\n",
       "Name: Y, dtype: int64"
      ]
     },
     "execution_count": 11,
     "metadata": {},
     "output_type": "execute_result"
    }
   ],
   "source": [
    "# extraer mediante .iloc\n",
    "data1.iloc[0, 0]\n",
    "data1.iloc[0, :]\n",
    "data1.iloc[[0, 2], 1]"
   ]
  },
  {
   "cell_type": "code",
   "execution_count": 12,
   "metadata": {},
   "outputs": [
    {
     "data": {
      "text/plain": [
       "Gage\n",
       "A    1373\n",
       "B    1452\n",
       "C    1404\n",
       "D    1433\n",
       "E    1665\n",
       "F    1137\n",
       "G    1235\n",
       "H    1114\n",
       "I    1101\n",
       "J    1086\n",
       "K    1010\n",
       "Name: Average Annual Precip. (mm), dtype: int64"
      ]
     },
     "execution_count": 12,
     "metadata": {},
     "output_type": "execute_result"
    }
   ],
   "source": [
    "# extraer una columna por nombre\n",
    "data1['Average Annual Precip. (mm)']"
   ]
  },
  {
   "cell_type": "code",
   "execution_count": 13,
   "metadata": {},
   "outputs": [
    {
     "data": {
      "text/html": [
       "<div>\n",
       "<style scoped>\n",
       "    .dataframe tbody tr th:only-of-type {\n",
       "        vertical-align: middle;\n",
       "    }\n",
       "\n",
       "    .dataframe tbody tr th {\n",
       "        vertical-align: top;\n",
       "    }\n",
       "\n",
       "    .dataframe thead th {\n",
       "        text-align: right;\n",
       "    }\n",
       "</style>\n",
       "<table border=\"1\" class=\"dataframe\">\n",
       "  <thead>\n",
       "    <tr style=\"text-align: right;\">\n",
       "      <th></th>\n",
       "      <th>X</th>\n",
       "      <th>Y</th>\n",
       "      <th>Pan</th>\n",
       "      <th>p</th>\n",
       "    </tr>\n",
       "    <tr>\n",
       "      <th>Gage</th>\n",
       "      <th></th>\n",
       "      <th></th>\n",
       "      <th></th>\n",
       "      <th></th>\n",
       "    </tr>\n",
       "  </thead>\n",
       "  <tbody>\n",
       "    <tr>\n",
       "      <th>A</th>\n",
       "      <td>387706</td>\n",
       "      <td>4781780</td>\n",
       "      <td>1373</td>\n",
       "      <td>14.4</td>\n",
       "    </tr>\n",
       "    <tr>\n",
       "      <th>B</th>\n",
       "      <td>383422</td>\n",
       "      <td>4778885</td>\n",
       "      <td>1452</td>\n",
       "      <td>12.2</td>\n",
       "    </tr>\n",
       "  </tbody>\n",
       "</table>\n",
       "</div>"
      ],
      "text/plain": [
       "           X        Y   Pan     p\n",
       "Gage                             \n",
       "A     387706  4781780  1373  14.4\n",
       "B     383422  4778885  1452  12.2"
      ]
     },
     "execution_count": 13,
     "metadata": {},
     "output_type": "execute_result"
    }
   ],
   "source": [
    "# Simplificar el nombre de las columnas\n",
    "# d: distancia a F en km\n",
    "# P: precipitación media anual en mm\n",
    "# p: precipitación en la tormenta de interés en mm\n",
    "data1.columns = ['X', 'Y', 'Pan', 'p']\n",
    "\n",
    "data1.head(2)"
   ]
  },
  {
   "cell_type": "markdown",
   "metadata": {},
   "source": [
    "### Método de la media\n",
    "\n",
    "En el método de la media se asimila la precipitación en el punto de estudio como la media de la precipitación en las estaciones en su alrededor.\n",
    "\n",
    "Siguiendo la ecuación del inicio, se da el mismo  peso a todas las estaciones ($\\frac{1}{n}$), siendo *n* el número de estaciones consideradas.\n",
    "\n",
    "$$w_i=\\frac{1}{n}$$\n",
    "\n",
    "$$\\hat{p_o} = \\frac{1}{n}\\sum_{i=1}^{n} p_i$$"
   ]
  },
  {
   "cell_type": "code",
   "execution_count": 14,
   "metadata": {},
   "outputs": [],
   "source": [
    "po_mm = data1['p'].mean()"
   ]
  },
  {
   "cell_type": "code",
   "execution_count": 15,
   "metadata": {},
   "outputs": [
    {
     "name": "stdout",
     "output_type": "stream",
     "text": [
      "La precipitación en F es:\n",
      "pf = 12.3 mm\n"
     ]
    }
   ],
   "source": [
    "print('La precipitación en F es:')\n",
    "print('pf =', round(po_mm, 1), 'mm')"
   ]
  },
  {
   "cell_type": "markdown",
   "metadata": {},
   "source": [
    "Al hacer la media de todas las estaciones de las que disponemos de datos obtenemos un valor suavizado de la precipitación en F. Es decir, puede ser que estemos teniendo en cuenta datos de estaciones lo suficientemente lejanas como para que su dato de precipitación no sea representativo de la precipitación en F.\n",
    "\n",
    "Para evitar en este problema, se suele aplicar el método de la media utilizando únicamente la estación más cercana del punto de interés en cada uno de los cuatro cuadrantes."
   ]
  },
  {
   "cell_type": "code",
   "execution_count": 16,
   "metadata": {},
   "outputs": [
    {
     "name": "stdout",
     "output_type": "stream",
     "text": [
      "La precipitación en F es:\n",
      "pf = 12.6 mm\n"
     ]
    }
   ],
   "source": [
    "closest = ['C', 'D', 'G', 'I']\n",
    "po_mmc = data1.loc[closest, 'p'].mean()\n",
    "\n",
    "print('La precipitación en F es:')\n",
    "print('pf =', round(po_mmc, 1), 'mm')"
   ]
  },
  {
   "cell_type": "markdown",
   "metadata": {},
   "source": [
    "### Método de la razón normal\n",
    "\n",
    "Otra forma de tener en cuenta la conexión entre la precipitación en una estación cualquiera y la precipitación objetivo es incluir el cociente entre la precipitación anual media en ambas estaciones, es decir, la razón normal.\n",
    "\n",
    "Aplicando esta correción sobre el método de la media se obtiene el método de la razón normal.\n",
    "\n",
    "$$w_i = \\frac{1}{n}\\frac{P_o}{P_i} = \\frac{1}{n}RN$$\n",
    "\n",
    "$$\\hat{p_o} = \\frac{1}{n}\\sum_{i=1}^{n} \\frac{P_o}{P_i} p_i$$\n",
    "\n",
    "Donde $P_o$ y $P_i$ son la precipitación media anual en la estación objetivo y las estaciones utilizadas en la interpolación, repectivamete, y $NR$ es la razón normal."
   ]
  },
  {
   "cell_type": "code",
   "execution_count": 17,
   "metadata": {},
   "outputs": [
    {
     "data": {
      "text/html": [
       "<div>\n",
       "<style scoped>\n",
       "    .dataframe tbody tr th:only-of-type {\n",
       "        vertical-align: middle;\n",
       "    }\n",
       "\n",
       "    .dataframe tbody tr th {\n",
       "        vertical-align: top;\n",
       "    }\n",
       "\n",
       "    .dataframe thead th {\n",
       "        text-align: right;\n",
       "    }\n",
       "</style>\n",
       "<table border=\"1\" class=\"dataframe\">\n",
       "  <thead>\n",
       "    <tr style=\"text-align: right;\">\n",
       "      <th></th>\n",
       "      <th>X</th>\n",
       "      <th>Y</th>\n",
       "      <th>Pan</th>\n",
       "      <th>p</th>\n",
       "    </tr>\n",
       "    <tr>\n",
       "      <th>Gage</th>\n",
       "      <th></th>\n",
       "      <th></th>\n",
       "      <th></th>\n",
       "      <th></th>\n",
       "    </tr>\n",
       "  </thead>\n",
       "  <tbody>\n",
       "    <tr>\n",
       "      <th>A</th>\n",
       "      <td>387706</td>\n",
       "      <td>4781780</td>\n",
       "      <td>1373</td>\n",
       "      <td>14.4</td>\n",
       "    </tr>\n",
       "    <tr>\n",
       "      <th>B</th>\n",
       "      <td>383422</td>\n",
       "      <td>4778885</td>\n",
       "      <td>1452</td>\n",
       "      <td>12.2</td>\n",
       "    </tr>\n",
       "    <tr>\n",
       "      <th>C</th>\n",
       "      <td>385014</td>\n",
       "      <td>4778553</td>\n",
       "      <td>1404</td>\n",
       "      <td>11.6</td>\n",
       "    </tr>\n",
       "    <tr>\n",
       "      <th>D</th>\n",
       "      <td>389634</td>\n",
       "      <td>4779045</td>\n",
       "      <td>1433</td>\n",
       "      <td>14.8</td>\n",
       "    </tr>\n",
       "    <tr>\n",
       "      <th>E</th>\n",
       "      <td>380729</td>\n",
       "      <td>4775518</td>\n",
       "      <td>1665</td>\n",
       "      <td>13.3</td>\n",
       "    </tr>\n",
       "    <tr>\n",
       "      <th>G</th>\n",
       "      <td>389380</td>\n",
       "      <td>4776484</td>\n",
       "      <td>1235</td>\n",
       "      <td>12.3</td>\n",
       "    </tr>\n",
       "    <tr>\n",
       "      <th>H</th>\n",
       "      <td>382945</td>\n",
       "      <td>4772356</td>\n",
       "      <td>1114</td>\n",
       "      <td>11.5</td>\n",
       "    </tr>\n",
       "    <tr>\n",
       "      <th>I</th>\n",
       "      <td>386399</td>\n",
       "      <td>4771795</td>\n",
       "      <td>1101</td>\n",
       "      <td>11.6</td>\n",
       "    </tr>\n",
       "    <tr>\n",
       "      <th>J</th>\n",
       "      <td>388397</td>\n",
       "      <td>4772419</td>\n",
       "      <td>1086</td>\n",
       "      <td>11.2</td>\n",
       "    </tr>\n",
       "    <tr>\n",
       "      <th>K</th>\n",
       "      <td>389287</td>\n",
       "      <td>4771097</td>\n",
       "      <td>1010</td>\n",
       "      <td>9.7</td>\n",
       "    </tr>\n",
       "  </tbody>\n",
       "</table>\n",
       "</div>"
      ],
      "text/plain": [
       "           X        Y   Pan     p\n",
       "Gage                             \n",
       "A     387706  4781780  1373  14.4\n",
       "B     383422  4778885  1452  12.2\n",
       "C     385014  4778553  1404  11.6\n",
       "D     389634  4779045  1433  14.8\n",
       "E     380729  4775518  1665  13.3\n",
       "G     389380  4776484  1235  12.3\n",
       "H     382945  4772356  1114  11.5\n",
       "I     386399  4771795  1101  11.6\n",
       "J     388397  4772419  1086  11.2\n",
       "K     389287  4771097  1010   9.7"
      ]
     },
     "execution_count": 17,
     "metadata": {},
     "output_type": "execute_result"
    }
   ],
   "source": [
    "# Extraer las estaciones con registro\n",
    "data1_ = data1.drop('F').copy()\n",
    "data1_"
   ]
  },
  {
   "cell_type": "code",
   "execution_count": 18,
   "metadata": {},
   "outputs": [
    {
     "data": {
      "text/html": [
       "<div>\n",
       "<style scoped>\n",
       "    .dataframe tbody tr th:only-of-type {\n",
       "        vertical-align: middle;\n",
       "    }\n",
       "\n",
       "    .dataframe tbody tr th {\n",
       "        vertical-align: top;\n",
       "    }\n",
       "\n",
       "    .dataframe thead th {\n",
       "        text-align: right;\n",
       "    }\n",
       "</style>\n",
       "<table border=\"1\" class=\"dataframe\">\n",
       "  <thead>\n",
       "    <tr style=\"text-align: right;\">\n",
       "      <th></th>\n",
       "      <th>X</th>\n",
       "      <th>Y</th>\n",
       "      <th>Pan</th>\n",
       "      <th>p</th>\n",
       "      <th>RN</th>\n",
       "    </tr>\n",
       "    <tr>\n",
       "      <th>Gage</th>\n",
       "      <th></th>\n",
       "      <th></th>\n",
       "      <th></th>\n",
       "      <th></th>\n",
       "      <th></th>\n",
       "    </tr>\n",
       "  </thead>\n",
       "  <tbody>\n",
       "    <tr>\n",
       "      <th>A</th>\n",
       "      <td>387706</td>\n",
       "      <td>4781780</td>\n",
       "      <td>1373</td>\n",
       "      <td>14.4</td>\n",
       "      <td>0.828114</td>\n",
       "    </tr>\n",
       "    <tr>\n",
       "      <th>B</th>\n",
       "      <td>383422</td>\n",
       "      <td>4778885</td>\n",
       "      <td>1452</td>\n",
       "      <td>12.2</td>\n",
       "      <td>0.783058</td>\n",
       "    </tr>\n",
       "    <tr>\n",
       "      <th>C</th>\n",
       "      <td>385014</td>\n",
       "      <td>4778553</td>\n",
       "      <td>1404</td>\n",
       "      <td>11.6</td>\n",
       "      <td>0.809829</td>\n",
       "    </tr>\n",
       "    <tr>\n",
       "      <th>D</th>\n",
       "      <td>389634</td>\n",
       "      <td>4779045</td>\n",
       "      <td>1433</td>\n",
       "      <td>14.8</td>\n",
       "      <td>0.793440</td>\n",
       "    </tr>\n",
       "    <tr>\n",
       "      <th>E</th>\n",
       "      <td>380729</td>\n",
       "      <td>4775518</td>\n",
       "      <td>1665</td>\n",
       "      <td>13.3</td>\n",
       "      <td>0.682883</td>\n",
       "    </tr>\n",
       "    <tr>\n",
       "      <th>G</th>\n",
       "      <td>389380</td>\n",
       "      <td>4776484</td>\n",
       "      <td>1235</td>\n",
       "      <td>12.3</td>\n",
       "      <td>0.920648</td>\n",
       "    </tr>\n",
       "    <tr>\n",
       "      <th>H</th>\n",
       "      <td>382945</td>\n",
       "      <td>4772356</td>\n",
       "      <td>1114</td>\n",
       "      <td>11.5</td>\n",
       "      <td>1.020646</td>\n",
       "    </tr>\n",
       "    <tr>\n",
       "      <th>I</th>\n",
       "      <td>386399</td>\n",
       "      <td>4771795</td>\n",
       "      <td>1101</td>\n",
       "      <td>11.6</td>\n",
       "      <td>1.032698</td>\n",
       "    </tr>\n",
       "    <tr>\n",
       "      <th>J</th>\n",
       "      <td>388397</td>\n",
       "      <td>4772419</td>\n",
       "      <td>1086</td>\n",
       "      <td>11.2</td>\n",
       "      <td>1.046961</td>\n",
       "    </tr>\n",
       "    <tr>\n",
       "      <th>K</th>\n",
       "      <td>389287</td>\n",
       "      <td>4771097</td>\n",
       "      <td>1010</td>\n",
       "      <td>9.7</td>\n",
       "      <td>1.125743</td>\n",
       "    </tr>\n",
       "  </tbody>\n",
       "</table>\n",
       "</div>"
      ],
      "text/plain": [
       "           X        Y   Pan     p        RN\n",
       "Gage                                       \n",
       "A     387706  4781780  1373  14.4  0.828114\n",
       "B     383422  4778885  1452  12.2  0.783058\n",
       "C     385014  4778553  1404  11.6  0.809829\n",
       "D     389634  4779045  1433  14.8  0.793440\n",
       "E     380729  4775518  1665  13.3  0.682883\n",
       "G     389380  4776484  1235  12.3  0.920648\n",
       "H     382945  4772356  1114  11.5  1.020646\n",
       "I     386399  4771795  1101  11.6  1.032698\n",
       "J     388397  4772419  1086  11.2  1.046961\n",
       "K     389287  4771097  1010   9.7  1.125743"
      ]
     },
     "execution_count": 18,
     "metadata": {},
     "output_type": "execute_result"
    }
   ],
   "source": [
    "# Calcular el cociente entre la precipitación anual en 'F' y en cada una de las otras estaciones\n",
    "data1_['RN'] = data1.loc['F', 'Pan'] / data1_['Pan']\n",
    "\n",
    "data1_"
   ]
  },
  {
   "cell_type": "markdown",
   "metadata": {},
   "source": [
    "Seguidamente multiplicamos, para cada estación, la **razón normal** por la precipitación medida en la tormenta."
   ]
  },
  {
   "cell_type": "code",
   "execution_count": 19,
   "metadata": {},
   "outputs": [
    {
     "data": {
      "text/plain": [
       "Gage\n",
       "A    11.924836\n",
       "B     9.553306\n",
       "C     9.394017\n",
       "D    11.742917\n",
       "E     9.082342\n",
       "G    11.323968\n",
       "H    11.737433\n",
       "I    11.979292\n",
       "J    11.725967\n",
       "K    10.919703\n",
       "Name: NR*p, dtype: float64"
      ]
     },
     "execution_count": 19,
     "metadata": {},
     "output_type": "execute_result"
    }
   ],
   "source": [
    "# Producto de la razón normal por la precipitación observada en cada estación\n",
    "data1_['NR*p'] = data1_['RN'] * data1_['p']\n",
    "data1_['NR*p']"
   ]
  },
  {
   "cell_type": "code",
   "execution_count": 20,
   "metadata": {},
   "outputs": [
    {
     "name": "stdout",
     "output_type": "stream",
     "text": [
      "La precipitación en F es:\n",
      "pf = 10.9 mm\n"
     ]
    }
   ],
   "source": [
    "# La media de ese producto es la precipitación interpolada por el método de la razón normal\n",
    "po_rn = data1_['NR*p'].mean()\n",
    "\n",
    "print('La precipitación en F es:')\n",
    "print('pf =', round(po_rn, 1), 'mm')"
   ]
  },
  {
   "cell_type": "code",
   "execution_count": 21,
   "metadata": {},
   "outputs": [
    {
     "name": "stdout",
     "output_type": "stream",
     "text": [
      "La precipitación en F es:\n",
      "pf = 10.9 mm\n"
     ]
    }
   ],
   "source": [
    "# Todo de una vez\n",
    "po_rn = np.mean(data1_.loc[:, 'RN'] * data1_.loc[:, 'p'])\n",
    "\n",
    "print('La precipitación en F es:')\n",
    "print('pf =', round(po_rn, 1), 'mm')"
   ]
  },
  {
   "cell_type": "markdown",
   "metadata": {},
   "source": [
    "El método de la razón normal se puede aplicar también sólo sobre la estación más cercana en cada cuadrante."
   ]
  },
  {
   "cell_type": "code",
   "execution_count": 22,
   "metadata": {},
   "outputs": [
    {
     "name": "stdout",
     "output_type": "stream",
     "text": [
      "La precipitación en F es:\n",
      "pf = 11.1 mm\n"
     ]
    }
   ],
   "source": [
    "po_rnc = np.mean(data1_.loc[closest, 'RN'] * data1_.loc[closest, 'p'])\n",
    "\n",
    "print('La precipitación en F es:')\n",
    "print('pf =', round(po_rnc, 1), 'mm')"
   ]
  },
  {
   "cell_type": "markdown",
   "metadata": {},
   "source": [
    "###  Método de la distancia inversa\n",
    "En el método de la distancia inversa se basa en que la precipitación en las estaciones más cercanas es más representativo de la precipitación en la estación objetivo. Para ello, la peso de cada estación se calcula con la inversa de la distancia a la estación objetivo elevada a un exponente; para que la suma de los pesos sea 1, se divide la distancia inversa por la suma de las distancias inversas de todas las estaciones.\n",
    "\n",
    "$$w_i = \\frac{d_{i}^{-b}}{\\sum_{i=1}^{n}d_{i}^{-b}}$$\n",
    "\n",
    "$$\\hat{p_o} = \\sum_{i=1}^{n}\\frac{d_{i}^{-b}}{\\sum_{i=1}^{n}d_{i}^{-b}}·p_i = \\frac{1}{\\sum_{i=1}^{n}d_{i}^{-b}}\\sum_{i=1}^{n}d_{i}^{-b}·p_i$$\n",
    "\n",
    "Donde $d_i$ es la distancia entre la estación *i* y la estación objetivo, y $b$ es un exponente a elegir por el modelador. Habitualmente se utiliza como exponente el cuadrado, dando lugar al método de la distancia inversa al cuadrado."
   ]
  },
  {
   "cell_type": "code",
   "execution_count": 23,
   "metadata": {},
   "outputs": [
    {
     "data": {
      "text/html": [
       "<div>\n",
       "<style scoped>\n",
       "    .dataframe tbody tr th:only-of-type {\n",
       "        vertical-align: middle;\n",
       "    }\n",
       "\n",
       "    .dataframe tbody tr th {\n",
       "        vertical-align: top;\n",
       "    }\n",
       "\n",
       "    .dataframe thead th {\n",
       "        text-align: right;\n",
       "    }\n",
       "</style>\n",
       "<table border=\"1\" class=\"dataframe\">\n",
       "  <thead>\n",
       "    <tr style=\"text-align: right;\">\n",
       "      <th></th>\n",
       "      <th>X</th>\n",
       "      <th>Y</th>\n",
       "      <th>Pan</th>\n",
       "      <th>p</th>\n",
       "    </tr>\n",
       "    <tr>\n",
       "      <th>Gage</th>\n",
       "      <th></th>\n",
       "      <th></th>\n",
       "      <th></th>\n",
       "      <th></th>\n",
       "    </tr>\n",
       "  </thead>\n",
       "  <tbody>\n",
       "    <tr>\n",
       "      <th>A</th>\n",
       "      <td>387706</td>\n",
       "      <td>4781780</td>\n",
       "      <td>1373</td>\n",
       "      <td>14.4</td>\n",
       "    </tr>\n",
       "    <tr>\n",
       "      <th>B</th>\n",
       "      <td>383422</td>\n",
       "      <td>4778885</td>\n",
       "      <td>1452</td>\n",
       "      <td>12.2</td>\n",
       "    </tr>\n",
       "    <tr>\n",
       "      <th>C</th>\n",
       "      <td>385014</td>\n",
       "      <td>4778553</td>\n",
       "      <td>1404</td>\n",
       "      <td>11.6</td>\n",
       "    </tr>\n",
       "    <tr>\n",
       "      <th>D</th>\n",
       "      <td>389634</td>\n",
       "      <td>4779045</td>\n",
       "      <td>1433</td>\n",
       "      <td>14.8</td>\n",
       "    </tr>\n",
       "    <tr>\n",
       "      <th>E</th>\n",
       "      <td>380729</td>\n",
       "      <td>4775518</td>\n",
       "      <td>1665</td>\n",
       "      <td>13.3</td>\n",
       "    </tr>\n",
       "    <tr>\n",
       "      <th>G</th>\n",
       "      <td>389380</td>\n",
       "      <td>4776484</td>\n",
       "      <td>1235</td>\n",
       "      <td>12.3</td>\n",
       "    </tr>\n",
       "    <tr>\n",
       "      <th>H</th>\n",
       "      <td>382945</td>\n",
       "      <td>4772356</td>\n",
       "      <td>1114</td>\n",
       "      <td>11.5</td>\n",
       "    </tr>\n",
       "    <tr>\n",
       "      <th>I</th>\n",
       "      <td>386399</td>\n",
       "      <td>4771795</td>\n",
       "      <td>1101</td>\n",
       "      <td>11.6</td>\n",
       "    </tr>\n",
       "    <tr>\n",
       "      <th>J</th>\n",
       "      <td>388397</td>\n",
       "      <td>4772419</td>\n",
       "      <td>1086</td>\n",
       "      <td>11.2</td>\n",
       "    </tr>\n",
       "    <tr>\n",
       "      <th>K</th>\n",
       "      <td>389287</td>\n",
       "      <td>4771097</td>\n",
       "      <td>1010</td>\n",
       "      <td>9.7</td>\n",
       "    </tr>\n",
       "  </tbody>\n",
       "</table>\n",
       "</div>"
      ],
      "text/plain": [
       "           X        Y   Pan     p\n",
       "Gage                             \n",
       "A     387706  4781780  1373  14.4\n",
       "B     383422  4778885  1452  12.2\n",
       "C     385014  4778553  1404  11.6\n",
       "D     389634  4779045  1433  14.8\n",
       "E     380729  4775518  1665  13.3\n",
       "G     389380  4776484  1235  12.3\n",
       "H     382945  4772356  1114  11.5\n",
       "I     386399  4771795  1101  11.6\n",
       "J     388397  4772419  1086  11.2\n",
       "K     389287  4771097  1010   9.7"
      ]
     },
     "execution_count": 23,
     "metadata": {},
     "output_type": "execute_result"
    }
   ],
   "source": [
    "# Extraer las estaciones con registro\n",
    "data1_ = data1.drop('F')\n",
    "data1_"
   ]
  },
  {
   "cell_type": "code",
   "execution_count": 24,
   "metadata": {},
   "outputs": [
    {
     "data": {
      "text/html": [
       "<div>\n",
       "<style scoped>\n",
       "    .dataframe tbody tr th:only-of-type {\n",
       "        vertical-align: middle;\n",
       "    }\n",
       "\n",
       "    .dataframe tbody tr th {\n",
       "        vertical-align: top;\n",
       "    }\n",
       "\n",
       "    .dataframe thead th {\n",
       "        text-align: right;\n",
       "    }\n",
       "</style>\n",
       "<table border=\"1\" class=\"dataframe\">\n",
       "  <thead>\n",
       "    <tr style=\"text-align: right;\">\n",
       "      <th></th>\n",
       "      <th>X</th>\n",
       "      <th>Y</th>\n",
       "      <th>Pan</th>\n",
       "      <th>p</th>\n",
       "      <th>d</th>\n",
       "    </tr>\n",
       "    <tr>\n",
       "      <th>Gage</th>\n",
       "      <th></th>\n",
       "      <th></th>\n",
       "      <th></th>\n",
       "      <th></th>\n",
       "      <th></th>\n",
       "    </tr>\n",
       "  </thead>\n",
       "  <tbody>\n",
       "    <tr>\n",
       "      <th>A</th>\n",
       "      <td>387706</td>\n",
       "      <td>4781780</td>\n",
       "      <td>1373</td>\n",
       "      <td>14.4</td>\n",
       "      <td>5129.513525</td>\n",
       "    </tr>\n",
       "    <tr>\n",
       "      <th>B</th>\n",
       "      <td>383422</td>\n",
       "      <td>4778885</td>\n",
       "      <td>1452</td>\n",
       "      <td>12.2</td>\n",
       "      <td>4430.439482</td>\n",
       "    </tr>\n",
       "    <tr>\n",
       "      <th>C</th>\n",
       "      <td>385014</td>\n",
       "      <td>4778553</td>\n",
       "      <td>1404</td>\n",
       "      <td>11.6</td>\n",
       "      <td>2930.138905</td>\n",
       "    </tr>\n",
       "    <tr>\n",
       "      <th>D</th>\n",
       "      <td>389634</td>\n",
       "      <td>4779045</td>\n",
       "      <td>1433</td>\n",
       "      <td>14.8</td>\n",
       "      <td>3358.757211</td>\n",
       "    </tr>\n",
       "    <tr>\n",
       "      <th>E</th>\n",
       "      <td>380729</td>\n",
       "      <td>4775518</td>\n",
       "      <td>1665</td>\n",
       "      <td>13.3</td>\n",
       "      <td>6630.837353</td>\n",
       "    </tr>\n",
       "  </tbody>\n",
       "</table>\n",
       "</div>"
      ],
      "text/plain": [
       "           X        Y   Pan     p            d\n",
       "Gage                                          \n",
       "A     387706  4781780  1373  14.4  5129.513525\n",
       "B     383422  4778885  1452  12.2  4430.439482\n",
       "C     385014  4778553  1404  11.6  2930.138905\n",
       "D     389634  4779045  1433  14.8  3358.757211\n",
       "E     380729  4775518  1665  13.3  6630.837353"
      ]
     },
     "execution_count": 24,
     "metadata": {},
     "output_type": "execute_result"
    }
   ],
   "source": [
    "# calcular distancia a la estación F\n",
    "distX = data1.loc['F', 'X'] - data1_.loc[:, 'X'] # distancia en el eje X\n",
    "distY = data1.loc['F', 'Y'] - data1_.loc[:, 'Y'] # distancia en el eje X\n",
    "data1_['d'] = np.sqrt(distX**2 + distY**2)       # distancia total\n",
    "\n",
    "data1_.head()"
   ]
  },
  {
   "cell_type": "markdown",
   "metadata": {},
   "source": [
    "__$b=-1$ paso a paso__"
   ]
  },
  {
   "cell_type": "code",
   "execution_count": 25,
   "metadata": {},
   "outputs": [],
   "source": [
    "# Definir el exponente\n",
    "b = -1"
   ]
  },
  {
   "cell_type": "code",
   "execution_count": 26,
   "metadata": {},
   "outputs": [
    {
     "data": {
      "text/html": [
       "<div>\n",
       "<style scoped>\n",
       "    .dataframe tbody tr th:only-of-type {\n",
       "        vertical-align: middle;\n",
       "    }\n",
       "\n",
       "    .dataframe tbody tr th {\n",
       "        vertical-align: top;\n",
       "    }\n",
       "\n",
       "    .dataframe thead th {\n",
       "        text-align: right;\n",
       "    }\n",
       "</style>\n",
       "<table border=\"1\" class=\"dataframe\">\n",
       "  <thead>\n",
       "    <tr style=\"text-align: right;\">\n",
       "      <th></th>\n",
       "      <th>X</th>\n",
       "      <th>Y</th>\n",
       "      <th>Pan</th>\n",
       "      <th>p</th>\n",
       "      <th>d</th>\n",
       "      <th>di</th>\n",
       "    </tr>\n",
       "    <tr>\n",
       "      <th>Gage</th>\n",
       "      <th></th>\n",
       "      <th></th>\n",
       "      <th></th>\n",
       "      <th></th>\n",
       "      <th></th>\n",
       "      <th></th>\n",
       "    </tr>\n",
       "  </thead>\n",
       "  <tbody>\n",
       "    <tr>\n",
       "      <th>A</th>\n",
       "      <td>387706</td>\n",
       "      <td>4781780</td>\n",
       "      <td>1373</td>\n",
       "      <td>14.4</td>\n",
       "      <td>5129.513525</td>\n",
       "      <td>0.000195</td>\n",
       "    </tr>\n",
       "    <tr>\n",
       "      <th>B</th>\n",
       "      <td>383422</td>\n",
       "      <td>4778885</td>\n",
       "      <td>1452</td>\n",
       "      <td>12.2</td>\n",
       "      <td>4430.439482</td>\n",
       "      <td>0.000226</td>\n",
       "    </tr>\n",
       "    <tr>\n",
       "      <th>C</th>\n",
       "      <td>385014</td>\n",
       "      <td>4778553</td>\n",
       "      <td>1404</td>\n",
       "      <td>11.6</td>\n",
       "      <td>2930.138905</td>\n",
       "      <td>0.000341</td>\n",
       "    </tr>\n",
       "    <tr>\n",
       "      <th>D</th>\n",
       "      <td>389634</td>\n",
       "      <td>4779045</td>\n",
       "      <td>1433</td>\n",
       "      <td>14.8</td>\n",
       "      <td>3358.757211</td>\n",
       "      <td>0.000298</td>\n",
       "    </tr>\n",
       "    <tr>\n",
       "      <th>E</th>\n",
       "      <td>380729</td>\n",
       "      <td>4775518</td>\n",
       "      <td>1665</td>\n",
       "      <td>13.3</td>\n",
       "      <td>6630.837353</td>\n",
       "      <td>0.000151</td>\n",
       "    </tr>\n",
       "  </tbody>\n",
       "</table>\n",
       "</div>"
      ],
      "text/plain": [
       "           X        Y   Pan     p            d        di\n",
       "Gage                                                    \n",
       "A     387706  4781780  1373  14.4  5129.513525  0.000195\n",
       "B     383422  4778885  1452  12.2  4430.439482  0.000226\n",
       "C     385014  4778553  1404  11.6  2930.138905  0.000341\n",
       "D     389634  4779045  1433  14.8  3358.757211  0.000298\n",
       "E     380729  4775518  1665  13.3  6630.837353  0.000151"
      ]
     },
     "execution_count": 26,
     "metadata": {},
     "output_type": "execute_result"
    }
   ],
   "source": [
    "# Calcular el inverso de la distancia para cada estación\n",
    "data1_['di'] = data1_['d']**b\n",
    "\n",
    "data1_.head()"
   ]
  },
  {
   "cell_type": "code",
   "execution_count": 27,
   "metadata": {},
   "outputs": [
    {
     "data": {
      "text/plain": [
       "0.0024419303169758745"
      ]
     },
     "execution_count": 27,
     "metadata": {},
     "output_type": "execute_result"
    }
   ],
   "source": [
    "# Calcular la suma de los inversos de la distancia\n",
    "Sd = data1_['di'].sum()\n",
    "Sd"
   ]
  },
  {
   "cell_type": "code",
   "execution_count": 28,
   "metadata": {},
   "outputs": [
    {
     "data": {
      "text/html": [
       "<div>\n",
       "<style scoped>\n",
       "    .dataframe tbody tr th:only-of-type {\n",
       "        vertical-align: middle;\n",
       "    }\n",
       "\n",
       "    .dataframe tbody tr th {\n",
       "        vertical-align: top;\n",
       "    }\n",
       "\n",
       "    .dataframe thead th {\n",
       "        text-align: right;\n",
       "    }\n",
       "</style>\n",
       "<table border=\"1\" class=\"dataframe\">\n",
       "  <thead>\n",
       "    <tr style=\"text-align: right;\">\n",
       "      <th></th>\n",
       "      <th>X</th>\n",
       "      <th>Y</th>\n",
       "      <th>Pan</th>\n",
       "      <th>p</th>\n",
       "      <th>d</th>\n",
       "      <th>di</th>\n",
       "      <th>w</th>\n",
       "    </tr>\n",
       "    <tr>\n",
       "      <th>Gage</th>\n",
       "      <th></th>\n",
       "      <th></th>\n",
       "      <th></th>\n",
       "      <th></th>\n",
       "      <th></th>\n",
       "      <th></th>\n",
       "      <th></th>\n",
       "    </tr>\n",
       "  </thead>\n",
       "  <tbody>\n",
       "    <tr>\n",
       "      <th>A</th>\n",
       "      <td>387706</td>\n",
       "      <td>4781780</td>\n",
       "      <td>1373</td>\n",
       "      <td>14.4</td>\n",
       "      <td>5129.513525</td>\n",
       "      <td>0.000195</td>\n",
       "      <td>0.079834</td>\n",
       "    </tr>\n",
       "    <tr>\n",
       "      <th>B</th>\n",
       "      <td>383422</td>\n",
       "      <td>4778885</td>\n",
       "      <td>1452</td>\n",
       "      <td>12.2</td>\n",
       "      <td>4430.439482</td>\n",
       "      <td>0.000226</td>\n",
       "      <td>0.092431</td>\n",
       "    </tr>\n",
       "    <tr>\n",
       "      <th>C</th>\n",
       "      <td>385014</td>\n",
       "      <td>4778553</td>\n",
       "      <td>1404</td>\n",
       "      <td>11.6</td>\n",
       "      <td>2930.138905</td>\n",
       "      <td>0.000341</td>\n",
       "      <td>0.139759</td>\n",
       "    </tr>\n",
       "    <tr>\n",
       "      <th>D</th>\n",
       "      <td>389634</td>\n",
       "      <td>4779045</td>\n",
       "      <td>1433</td>\n",
       "      <td>14.8</td>\n",
       "      <td>3358.757211</td>\n",
       "      <td>0.000298</td>\n",
       "      <td>0.121924</td>\n",
       "    </tr>\n",
       "    <tr>\n",
       "      <th>E</th>\n",
       "      <td>380729</td>\n",
       "      <td>4775518</td>\n",
       "      <td>1665</td>\n",
       "      <td>13.3</td>\n",
       "      <td>6630.837353</td>\n",
       "      <td>0.000151</td>\n",
       "      <td>0.061759</td>\n",
       "    </tr>\n",
       "  </tbody>\n",
       "</table>\n",
       "</div>"
      ],
      "text/plain": [
       "           X        Y   Pan     p            d        di         w\n",
       "Gage                                                              \n",
       "A     387706  4781780  1373  14.4  5129.513525  0.000195  0.079834\n",
       "B     383422  4778885  1452  12.2  4430.439482  0.000226  0.092431\n",
       "C     385014  4778553  1404  11.6  2930.138905  0.000341  0.139759\n",
       "D     389634  4779045  1433  14.8  3358.757211  0.000298  0.121924\n",
       "E     380729  4775518  1665  13.3  6630.837353  0.000151  0.061759"
      ]
     },
     "execution_count": 28,
     "metadata": {},
     "output_type": "execute_result"
    }
   ],
   "source": [
    "# Calcular el peso de cada estación\n",
    "data1_['w'] = data1_['di'] / Sd\n",
    "\n",
    "data1_.head()"
   ]
  },
  {
   "cell_type": "code",
   "execution_count": 29,
   "metadata": {},
   "outputs": [
    {
     "name": "stdout",
     "output_type": "stream",
     "text": [
      "La precipitación en F es:\n",
      "pf = 12.3 mm\n"
     ]
    }
   ],
   "source": [
    "# Calcular la precipitación en F\n",
    "po_di1 = np.sum(data1_['w'] * data1_['p'])\n",
    "\n",
    "print('La precipitación en F es:')\n",
    "print('pf =', round(po_di1, 1), 'mm')"
   ]
  },
  {
   "cell_type": "markdown",
   "metadata": {},
   "source": [
    "__$b=-2$ abreviadamente__"
   ]
  },
  {
   "cell_type": "code",
   "execution_count": 30,
   "metadata": {},
   "outputs": [],
   "source": [
    "b = -2"
   ]
  },
  {
   "cell_type": "code",
   "execution_count": 31,
   "metadata": {},
   "outputs": [
    {
     "data": {
      "text/html": [
       "<div>\n",
       "<style scoped>\n",
       "    .dataframe tbody tr th:only-of-type {\n",
       "        vertical-align: middle;\n",
       "    }\n",
       "\n",
       "    .dataframe tbody tr th {\n",
       "        vertical-align: top;\n",
       "    }\n",
       "\n",
       "    .dataframe thead th {\n",
       "        text-align: right;\n",
       "    }\n",
       "</style>\n",
       "<table border=\"1\" class=\"dataframe\">\n",
       "  <thead>\n",
       "    <tr style=\"text-align: right;\">\n",
       "      <th></th>\n",
       "      <th>X</th>\n",
       "      <th>Y</th>\n",
       "      <th>Pan</th>\n",
       "      <th>p</th>\n",
       "      <th>d</th>\n",
       "      <th>di</th>\n",
       "      <th>w</th>\n",
       "      <th>di2</th>\n",
       "    </tr>\n",
       "    <tr>\n",
       "      <th>Gage</th>\n",
       "      <th></th>\n",
       "      <th></th>\n",
       "      <th></th>\n",
       "      <th></th>\n",
       "      <th></th>\n",
       "      <th></th>\n",
       "      <th></th>\n",
       "      <th></th>\n",
       "    </tr>\n",
       "  </thead>\n",
       "  <tbody>\n",
       "    <tr>\n",
       "      <th>A</th>\n",
       "      <td>387706</td>\n",
       "      <td>4781780</td>\n",
       "      <td>1373</td>\n",
       "      <td>14.4</td>\n",
       "      <td>5129.513525</td>\n",
       "      <td>0.000195</td>\n",
       "      <td>0.079834</td>\n",
       "      <td>3.800560e-08</td>\n",
       "    </tr>\n",
       "    <tr>\n",
       "      <th>B</th>\n",
       "      <td>383422</td>\n",
       "      <td>4778885</td>\n",
       "      <td>1452</td>\n",
       "      <td>12.2</td>\n",
       "      <td>4430.439482</td>\n",
       "      <td>0.000226</td>\n",
       "      <td>0.092431</td>\n",
       "      <td>5.094556e-08</td>\n",
       "    </tr>\n",
       "    <tr>\n",
       "      <th>C</th>\n",
       "      <td>385014</td>\n",
       "      <td>4778553</td>\n",
       "      <td>1404</td>\n",
       "      <td>11.6</td>\n",
       "      <td>2930.138905</td>\n",
       "      <td>0.000341</td>\n",
       "      <td>0.139759</td>\n",
       "      <td>1.164725e-07</td>\n",
       "    </tr>\n",
       "    <tr>\n",
       "      <th>D</th>\n",
       "      <td>389634</td>\n",
       "      <td>4779045</td>\n",
       "      <td>1433</td>\n",
       "      <td>14.8</td>\n",
       "      <td>3358.757211</td>\n",
       "      <td>0.000298</td>\n",
       "      <td>0.121924</td>\n",
       "      <td>8.864266e-08</td>\n",
       "    </tr>\n",
       "    <tr>\n",
       "      <th>E</th>\n",
       "      <td>380729</td>\n",
       "      <td>4775518</td>\n",
       "      <td>1665</td>\n",
       "      <td>13.3</td>\n",
       "      <td>6630.837353</td>\n",
       "      <td>0.000151</td>\n",
       "      <td>0.061759</td>\n",
       "      <td>2.274381e-08</td>\n",
       "    </tr>\n",
       "    <tr>\n",
       "      <th>G</th>\n",
       "      <td>389380</td>\n",
       "      <td>4776484</td>\n",
       "      <td>1235</td>\n",
       "      <td>12.3</td>\n",
       "      <td>2129.139967</td>\n",
       "      <td>0.000470</td>\n",
       "      <td>0.192337</td>\n",
       "      <td>2.205929e-07</td>\n",
       "    </tr>\n",
       "    <tr>\n",
       "      <th>H</th>\n",
       "      <td>382945</td>\n",
       "      <td>4772356</td>\n",
       "      <td>1114</td>\n",
       "      <td>11.5</td>\n",
       "      <td>6100.917308</td>\n",
       "      <td>0.000164</td>\n",
       "      <td>0.067123</td>\n",
       "      <td>2.686642e-08</td>\n",
       "    </tr>\n",
       "    <tr>\n",
       "      <th>I</th>\n",
       "      <td>386399</td>\n",
       "      <td>4771795</td>\n",
       "      <td>1101</td>\n",
       "      <td>11.6</td>\n",
       "      <td>4950.275245</td>\n",
       "      <td>0.000202</td>\n",
       "      <td>0.082725</td>\n",
       "      <td>4.080762e-08</td>\n",
       "    </tr>\n",
       "    <tr>\n",
       "      <th>J</th>\n",
       "      <td>388397</td>\n",
       "      <td>4772419</td>\n",
       "      <td>1086</td>\n",
       "      <td>11.2</td>\n",
       "      <td>4400.686878</td>\n",
       "      <td>0.000227</td>\n",
       "      <td>0.093056</td>\n",
       "      <td>5.163677e-08</td>\n",
       "    </tr>\n",
       "    <tr>\n",
       "      <th>K</th>\n",
       "      <td>389287</td>\n",
       "      <td>4771097</td>\n",
       "      <td>1010</td>\n",
       "      <td>9.7</td>\n",
       "      <td>5930.523839</td>\n",
       "      <td>0.000169</td>\n",
       "      <td>0.069052</td>\n",
       "      <td>2.843242e-08</td>\n",
       "    </tr>\n",
       "  </tbody>\n",
       "</table>\n",
       "</div>"
      ],
      "text/plain": [
       "           X        Y   Pan     p            d        di         w  \\\n",
       "Gage                                                                 \n",
       "A     387706  4781780  1373  14.4  5129.513525  0.000195  0.079834   \n",
       "B     383422  4778885  1452  12.2  4430.439482  0.000226  0.092431   \n",
       "C     385014  4778553  1404  11.6  2930.138905  0.000341  0.139759   \n",
       "D     389634  4779045  1433  14.8  3358.757211  0.000298  0.121924   \n",
       "E     380729  4775518  1665  13.3  6630.837353  0.000151  0.061759   \n",
       "G     389380  4776484  1235  12.3  2129.139967  0.000470  0.192337   \n",
       "H     382945  4772356  1114  11.5  6100.917308  0.000164  0.067123   \n",
       "I     386399  4771795  1101  11.6  4950.275245  0.000202  0.082725   \n",
       "J     388397  4772419  1086  11.2  4400.686878  0.000227  0.093056   \n",
       "K     389287  4771097  1010   9.7  5930.523839  0.000169  0.069052   \n",
       "\n",
       "               di2  \n",
       "Gage                \n",
       "A     3.800560e-08  \n",
       "B     5.094556e-08  \n",
       "C     1.164725e-07  \n",
       "D     8.864266e-08  \n",
       "E     2.274381e-08  \n",
       "G     2.205929e-07  \n",
       "H     2.686642e-08  \n",
       "I     4.080762e-08  \n",
       "J     5.163677e-08  \n",
       "K     2.843242e-08  "
      ]
     },
     "execution_count": 31,
     "metadata": {},
     "output_type": "execute_result"
    }
   ],
   "source": [
    "# Calcula el inverso de la distancia al cuadrado\n",
    "data1_['di2'] = data1_['d']**b\n",
    "data1_"
   ]
  },
  {
   "cell_type": "code",
   "execution_count": 32,
   "metadata": {},
   "outputs": [
    {
     "name": "stdout",
     "output_type": "stream",
     "text": [
      "La precipitación en F es:\n",
      "pf = 12.4 mm\n"
     ]
    }
   ],
   "source": [
    "# Calcular la precipitación en F\n",
    "po_di2 = np.sum(data1_['di2'] / np.sum(data1_['di2']) * data1_['p']) \n",
    "\n",
    "print('La precipitación en F es:')\n",
    "print('pf =', round(po_di2, 1), 'mm')"
   ]
  },
  {
   "cell_type": "markdown",
   "metadata": {},
   "source": [
    "Al igual que ocurría en los otros métodos, la distancia inversa puede aplicarse sólo a la estación más cercana en cada cuadrante."
   ]
  },
  {
   "cell_type": "code",
   "execution_count": 33,
   "metadata": {},
   "outputs": [
    {
     "name": "stdout",
     "output_type": "stream",
     "text": [
      "La precipitación en F es:\n",
      "pf = 12.5 mm\n"
     ]
    }
   ],
   "source": [
    "# Calcular la precipitación en F\n",
    "po_di2c = np.sum(data1_.loc[closest, 'di2'] * data1_.loc[closest, 'p']) / \\\n",
    "          np.sum(data1_.loc[closest, 'di2'])\n",
    "\n",
    "print('La precipitación en F es:')\n",
    "print('pf =', round(po_di2c, 1), 'mm')"
   ]
  },
  {
   "cell_type": "markdown",
   "metadata": {},
   "source": [
    "__Comparativa de métodos__"
   ]
  },
  {
   "cell_type": "code",
   "execution_count": 34,
   "metadata": {},
   "outputs": [],
   "source": [
    "# crear un array con el resultado de cada método\n",
    "resultados = np.array([po_mm, po_mmc, po_rn, po_rnc, po_di1, po_di2, po_di2c])"
   ]
  },
  {
   "cell_type": "code",
   "execution_count": 35,
   "metadata": {},
   "outputs": [
    {
     "data": {
      "image/png": "[encoded data removed]",
      "text/plain": [
       "<Figure size 432x288 with 1 Axes>"
      ]
     },
     "metadata": {
      "needs_background": "dark"
     },
     "output_type": "display_data"
    }
   ],
   "source": [
    "plt.bar(range(len(resultados)), resultados, width=0.4, alpha=.75)\n",
    "plt.title('Comparativa de métodos', fontsize=16, weight='bold')\n",
    "plt.xlabel('metodo', fontsize=13)\n",
    "plt.xticks(range(len(resultados)), ['med', 'med_c', 'RN', 'RN_c', 'DI',\n",
    "                                    'DI2', 'DI2_c'])\n",
    "plt.ylim((0, 16))\n",
    "plt.ylabel('precipitación en f (mm)', fontsize=13);\n",
    "\n",
    "plt.savefig('../output/Ej1_comparativa de métodos.png', dpi=300)"
   ]
  },
  {
   "cell_type": "code",
   "execution_count": 36,
   "metadata": {},
   "outputs": [
    {
     "data": {
      "text/html": [
       "<div>\n",
       "<style scoped>\n",
       "    .dataframe tbody tr th:only-of-type {\n",
       "        vertical-align: middle;\n",
       "    }\n",
       "\n",
       "    .dataframe tbody tr th {\n",
       "        vertical-align: top;\n",
       "    }\n",
       "\n",
       "    .dataframe thead th {\n",
       "        text-align: right;\n",
       "    }\n",
       "</style>\n",
       "<table border=\"1\" class=\"dataframe\">\n",
       "  <thead>\n",
       "    <tr style=\"text-align: right;\">\n",
       "      <th></th>\n",
       "      <th>po_mm</th>\n",
       "      <th>po_mmc</th>\n",
       "      <th>po_rn</th>\n",
       "      <th>po_rnc</th>\n",
       "      <th>po_di1</th>\n",
       "      <th>po_di2</th>\n",
       "      <th>po_di2c</th>\n",
       "    </tr>\n",
       "  </thead>\n",
       "  <tbody>\n",
       "    <tr>\n",
       "      <th>0</th>\n",
       "      <td>12.26</td>\n",
       "      <td>12.575</td>\n",
       "      <td>10.938378</td>\n",
       "      <td>11.110048</td>\n",
       "      <td>12.333644</td>\n",
       "      <td>12.382834</td>\n",
       "      <td>12.539028</td>\n",
       "    </tr>\n",
       "  </tbody>\n",
       "</table>\n",
       "</div>"
      ],
      "text/plain": [
       "   po_mm  po_mmc      po_rn     po_rnc     po_di1     po_di2    po_di2c\n",
       "0  12.26  12.575  10.938378  11.110048  12.333644  12.382834  12.539028"
      ]
     },
     "execution_count": 36,
     "metadata": {},
     "output_type": "execute_result"
    }
   ],
   "source": [
    "# convertir el array de resultados en data frame para exportarlo como csv\n",
    "resultados = pd.DataFrame(np.transpose(resultados),\n",
    "                          index=['po_mm', 'po_mmc', 'po_rn', 'po_rnc', 'po_di1', 'po_di2', 'po_di2c'])\n",
    "resultados = resultados.transpose()\n",
    "resultados"
   ]
  },
  {
   "cell_type": "code",
   "execution_count": 37,
   "metadata": {},
   "outputs": [],
   "source": [
    "# exportar los resultados como csv\n",
    "resultados.to_csv('../output/Ej1_comparativa de métodos.csv', index=False, float_format='%.1f')"
   ]
  },
  {
   "cell_type": "markdown",
   "metadata": {},
   "source": [
    "### Interpolación\n",
    "Los métodos anteriormente mostrados se aplican también para la interpolación de mapas de precipitación. Seguidamente, generaremos un mapa de precipitación en la tormenta mediante el método de la distancia inversa.\n",
    "\n",
    "El primer paso es crear una función de _Python_ que calcule la distancia inversa."
   ]
  },
  {
   "cell_type": "code",
   "execution_count": 38,
   "metadata": {},
   "outputs": [],
   "source": [
    "def IDW(x, y, estX, estY, estP, b=-2):\n",
    "    \"\"\"Interpolar mediante el método de la distancia inversa (inverse distance\n",
    "    weighted)\n",
    "    \n",
    "    Entradas:\n",
    "    ---------\n",
    "    x:       float. Coordenada X del punto objetivo\n",
    "    y:       float. Coordenada Y del punto objetivo\n",
    "    estX:    Series. Serie de coordenadas X de las estaciones con dato\n",
    "    estY:    Series. Serie de coordenadas Y de las estaciones con dato\n",
    "    estP:    Series. Serie con el dato observado en las estaciones\n",
    "    b:       int. Exponente de la distancia para calcular su inverso\n",
    "    \n",
    "    Salida:\n",
    "    -------\n",
    "    p:       float. Precipitación interpolada en el punto (x, y)\n",
    "    \"\"\"\n",
    "    \n",
    "    # distancia al punto de cálculo\n",
    "    distX = x - estX                    # distancia en el eje X\n",
    "    distY = y - estY                    # distancia en el eje X\n",
    "    dist = np.sqrt(distX**2 + distY**2) # distancia total\n",
    "    # inverso de la distancia\n",
    "    idw = dist**b\n",
    "    # interpolar\n",
    "    p = np.sum(idw / np.sum(idw) * estP)\n",
    "    \n",
    "    return round(p, 1)"
   ]
  },
  {
   "cell_type": "code",
   "execution_count": 39,
   "metadata": {},
   "outputs": [
    {
     "data": {
      "text/plain": [
       "12.4"
      ]
     },
     "execution_count": 39,
     "metadata": {},
     "output_type": "execute_result"
    }
   ],
   "source": [
    "# Prueba de la función para repetir la interpolación en el punto F\n",
    "IDW(data1.loc['F', 'X'], data1.loc['F', 'Y'], data1_['X'], data1_['Y'],\n",
    "    data1_['p'], b=-2)"
   ]
  },
  {
   "cell_type": "markdown",
   "metadata": {},
   "source": [
    "Ahora aplicaremos la función de interpolación iterativamente sobre las celdas del mapa que queremos interpolar. Para ello, hay que crear el mapa antes que nada."
   ]
  },
  {
   "cell_type": "code",
   "execution_count": 40,
   "metadata": {},
   "outputs": [],
   "source": [
    "# Coordenadas X e Y de un raster cuadrados\n",
    "xo, xf = 382200, 390200\n",
    "X = np.arange(xo, xf, 100)\n",
    "yo, yf = 4771400, 4779400\n",
    "Y = np.arange(yo, yf, 100)"
   ]
  },
  {
   "cell_type": "code",
   "execution_count": 41,
   "metadata": {},
   "outputs": [],
   "source": [
    "# crear un mapa vacío (NaN) con las dimensiones de las coordenadas\n",
    "pcp = np.zeros((len(X), len(Y)))"
   ]
  },
  {
   "cell_type": "code",
   "execution_count": 42,
   "metadata": {},
   "outputs": [],
   "source": [
    "# interpolar la precipitación en cada una de las celdas del mapa\n",
    "for i, y in enumerate(Y[::-1]): # importante invertir la posición de 'Y'\n",
    "    for j, x in enumerate(X):\n",
    "        pcp[i, j] = IDW(x, y, data1_.X, data1_.Y, data1_.p, b=-2)"
   ]
  },
  {
   "cell_type": "code",
   "execution_count": 44,
   "metadata": {},
   "outputs": [
    {
     "data": {
      "image/png": "[encoded data removed]",
      "text/plain": [
       "<Figure size 432x432 with 2 Axes>"
      ]
     },
     "metadata": {
      "needs_background": "dark"
     },
     "output_type": "display_data"
    }
   ],
   "source": [
    "# gráfico con las estaciones y el mapa de precipitación interpolada\n",
    "# -----------------------------------------------------------------\n",
    "# configuración\n",
    "plt.figure(figsize=(6, 6))\n",
    "plt.axis('equal')\n",
    "\n",
    "# mapa interpolado\n",
    "pmap = plt.imshow(pcp, extent=[xo, xf, yo, yf], cmap='Blues')\n",
    "cb = plt.colorbar(pmap)\n",
    "cb.set_label('precipitación (mm)', rotation=90, fontsize=12)\n",
    "\n",
    "# puntos con las estaciones\n",
    "plt.scatter(data1_.X, data1_.Y, c='r', s=data1_.p**3/30);\n",
    "\n",
    "plt.savefig('../output/Ej1_mapa precipitación.png', dpi=300)"
   ]
  }
 ],
 "metadata": {
  "anaconda-cloud": {},
  "kernelspec": {
   "display_name": "Python 3",
   "language": "python",
   "name": "python3"
  },
  "language_info": {
   "codemirror_mode": {
    "name": "ipython",
    "version": 3
   },
   "file_extension": ".py",
   "mimetype": "text/x-python",
   "name": "python",
   "nbconvert_exporter": "python",
   "pygments_lexer": "ipython3",
   "version": "3.7.3"
  },
  "varInspector": {
   "cols": {
    "lenName": 16,
    "lenType": 16,
    "lenVar": 40
   },
   "kernels_config": {
    "python": {
     "delete_cmd_postfix": "",
     "delete_cmd_prefix": "del ",
     "library": "var_list.py",
     "varRefreshCmd": "print(var_dic_list())"
    },
    "r": {
     "delete_cmd_postfix": ") ",
     "delete_cmd_prefix": "rm(",
     "library": "var_list.r",
     "varRefreshCmd": "cat(var_dic_list()) "
    }
   },
   "position": {
    "height": "255px",
    "left": "634px",
    "right": "20px",
    "top": "118px",
    "width": "350px"
   },
   "types_to_exclude": [
    "module",
    "function",
    "builtin_function_or_method",
    "instance",
    "_Feature"
   ],
   "window_display": false
  }
 },
 "nbformat": 4,
 "nbformat_minor": 4
}
