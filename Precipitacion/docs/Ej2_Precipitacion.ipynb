{
 "cells": [
  {
   "cell_type": "markdown",
   "metadata": {},
   "source": [
    "# Ejercicios de precipitación\n",
    "\n",
    "__Índice__<br>\n",
    "\n",
    "__[Ejercicio 2 - Curvas de doble masa](#Ejercicio-2---Curvas-de-doble-masa)__<br>"
   ]
  },
  {
   "cell_type": "markdown",
   "metadata": {},
   "source": [
    "## <font color=steelblue>Ejercicio 2 - Curvas de doble masa<br>\n",
    "\n",
    "<font color=steelblue>La tabla *MassCurve* en el archivo *RainfallData.xlsx* proporciona la precipitación anual medida durante 17 años en cinco estaciones pluviométricas de una región. La ubicación de la estación C cambió en el año 1974. Realiza un análisis mediante una curva de doble masa para verificar la consistencia en la información del pluviómetro y realiza los ajustes pertinentes para corregir las inconsistencias descubiertas.</font>"
   ]
  },
  {
   "cell_type": "markdown",
   "metadata": {},
   "source": [
    "Una **curva de doble masa** es un gráfico de datos acumulado de una serie de datos de una variable frente a la serie de datos acumulados de otra variable en el mismo periodo de medición. Habitualmente, la variable de comparación es la serie acumulada de la media de las observaciones en otras estaciones.\n",
    "    \n",
    "<img src=\"img/Double mass curve.JPG\" alt=\"Mountain View\" style=\"width:450px\">\n",
    "> <font color=grey>Curva de doble masa de datos de precipitación. *(Double-Mass Curves. USGS, 1960)*<\\font><br>\n",
    "    \n",
    "La serie de una estación es correcta si la curva de doble masa es una línea recta; la pendiente de dicha recta es la constante de proporcionalidad entre las series. Un cambio de pendiente en la recta significa un cambio en la constante de proporcionalidad y que la serie antes o después de ese punto debe ser corregida.\n",
    "\n",
    "La curva de doble masa, cuando se aplica a precipitación, toma la forma $Y=bX$, donde $b$ es la pendiente. No hay ordenada en el origen."
   ]
  },
  {
   "cell_type": "code",
   "execution_count": 77,
   "metadata": {},
   "outputs": [
    {
     "data": {
      "text/html": [
       "<div>\n",
       "<style scoped>\n",
       "    .dataframe tbody tr th:only-of-type {\n",
       "        vertical-align: middle;\n",
       "    }\n",
       "\n",
       "    .dataframe tbody tr th {\n",
       "        vertical-align: top;\n",
       "    }\n",
       "\n",
       "    .dataframe thead th {\n",
       "        text-align: right;\n",
       "    }\n",
       "</style>\n",
       "<table border=\"1\" class=\"dataframe\">\n",
       "  <thead>\n",
       "    <tr style=\"text-align: right;\">\n",
       "      <th></th>\n",
       "      <th>A</th>\n",
       "      <th>B</th>\n",
       "      <th>C</th>\n",
       "      <th>D</th>\n",
       "      <th>E</th>\n",
       "    </tr>\n",
       "    <tr>\n",
       "      <th>Year</th>\n",
       "      <th></th>\n",
       "      <th></th>\n",
       "      <th></th>\n",
       "      <th></th>\n",
       "      <th></th>\n",
       "    </tr>\n",
       "  </thead>\n",
       "  <tbody>\n",
       "    <tr>\n",
       "      <th>1970</th>\n",
       "      <td>1010</td>\n",
       "      <td>1161</td>\n",
       "      <td>780</td>\n",
       "      <td>949</td>\n",
       "      <td>1135</td>\n",
       "    </tr>\n",
       "    <tr>\n",
       "      <th>1971</th>\n",
       "      <td>1005</td>\n",
       "      <td>978</td>\n",
       "      <td>1041</td>\n",
       "      <td>784</td>\n",
       "      <td>970</td>\n",
       "    </tr>\n",
       "    <tr>\n",
       "      <th>1972</th>\n",
       "      <td>1067</td>\n",
       "      <td>1226</td>\n",
       "      <td>1027</td>\n",
       "      <td>1067</td>\n",
       "      <td>1158</td>\n",
       "    </tr>\n",
       "    <tr>\n",
       "      <th>1973</th>\n",
       "      <td>1051</td>\n",
       "      <td>880</td>\n",
       "      <td>825</td>\n",
       "      <td>1014</td>\n",
       "      <td>1022</td>\n",
       "    </tr>\n",
       "    <tr>\n",
       "      <th>1974</th>\n",
       "      <td>801</td>\n",
       "      <td>1146</td>\n",
       "      <td>933</td>\n",
       "      <td>923</td>\n",
       "      <td>821</td>\n",
       "    </tr>\n",
       "  </tbody>\n",
       "</table>\n",
       "</div>"
      ],
      "text/plain": [
       "         A     B     C     D     E\n",
       "Year                              \n",
       "1970  1010  1161   780   949  1135\n",
       "1971  1005   978  1041   784   970\n",
       "1972  1067  1226  1027  1067  1158\n",
       "1973  1051   880   825  1014  1022\n",
       "1974   801  1146   933   923   821"
      ]
     },
     "execution_count": 77,
     "metadata": {},
     "output_type": "execute_result"
    }
   ],
   "source": [
    "# Importar los datos de la hoja 'Data' en '2MassCurve.xls'\n",
    "data2 = pd.read_excel('RainfallData.xlsx', sheet_name='2MassCurve',\n",
    "                      skiprows=4,\n",
    "             index_col=0, usecols=range(6))\n",
    "data2.head()"
   ]
  },
  {
   "cell_type": "code",
   "execution_count": 78,
   "metadata": {},
   "outputs": [
    {
     "data": {
      "text/html": [
       "<div>\n",
       "<style scoped>\n",
       "    .dataframe tbody tr th:only-of-type {\n",
       "        vertical-align: middle;\n",
       "    }\n",
       "\n",
       "    .dataframe tbody tr th {\n",
       "        vertical-align: top;\n",
       "    }\n",
       "\n",
       "    .dataframe thead th {\n",
       "        text-align: right;\n",
       "    }\n",
       "</style>\n",
       "<table border=\"1\" class=\"dataframe\">\n",
       "  <thead>\n",
       "    <tr style=\"text-align: right;\">\n",
       "      <th></th>\n",
       "      <th>A</th>\n",
       "      <th>B</th>\n",
       "      <th>C</th>\n",
       "      <th>D</th>\n",
       "      <th>E</th>\n",
       "      <th>AVG</th>\n",
       "    </tr>\n",
       "    <tr>\n",
       "      <th>Year</th>\n",
       "      <th></th>\n",
       "      <th></th>\n",
       "      <th></th>\n",
       "      <th></th>\n",
       "      <th></th>\n",
       "      <th></th>\n",
       "    </tr>\n",
       "  </thead>\n",
       "  <tbody>\n",
       "    <tr>\n",
       "      <th>1970</th>\n",
       "      <td>1010</td>\n",
       "      <td>1161</td>\n",
       "      <td>780</td>\n",
       "      <td>949</td>\n",
       "      <td>1135</td>\n",
       "      <td>1007.0</td>\n",
       "    </tr>\n",
       "    <tr>\n",
       "      <th>1971</th>\n",
       "      <td>1005</td>\n",
       "      <td>978</td>\n",
       "      <td>1041</td>\n",
       "      <td>784</td>\n",
       "      <td>970</td>\n",
       "      <td>955.6</td>\n",
       "    </tr>\n",
       "    <tr>\n",
       "      <th>1972</th>\n",
       "      <td>1067</td>\n",
       "      <td>1226</td>\n",
       "      <td>1027</td>\n",
       "      <td>1067</td>\n",
       "      <td>1158</td>\n",
       "      <td>1109.0</td>\n",
       "    </tr>\n",
       "    <tr>\n",
       "      <th>1973</th>\n",
       "      <td>1051</td>\n",
       "      <td>880</td>\n",
       "      <td>825</td>\n",
       "      <td>1014</td>\n",
       "      <td>1022</td>\n",
       "      <td>958.4</td>\n",
       "    </tr>\n",
       "    <tr>\n",
       "      <th>1974</th>\n",
       "      <td>801</td>\n",
       "      <td>1146</td>\n",
       "      <td>933</td>\n",
       "      <td>923</td>\n",
       "      <td>821</td>\n",
       "      <td>924.8</td>\n",
       "    </tr>\n",
       "  </tbody>\n",
       "</table>\n",
       "</div>"
      ],
      "text/plain": [
       "         A     B     C     D     E     AVG\n",
       "Year                                      \n",
       "1970  1010  1161   780   949  1135  1007.0\n",
       "1971  1005   978  1041   784   970   955.6\n",
       "1972  1067  1226  1027  1067  1158  1109.0\n",
       "1973  1051   880   825  1014  1022   958.4\n",
       "1974   801  1146   933   923   821   924.8"
      ]
     },
     "execution_count": 78,
     "metadata": {},
     "output_type": "execute_result"
    }
   ],
   "source": [
    "# Calcular la media anual entre todas las estaciones\n",
    "data2['AVG'] = data2.mean(axis=1)\n",
    "data2.head()"
   ]
  },
  {
   "cell_type": "markdown",
   "metadata": {},
   "source": [
    "Primeramente, creamos un gráfico de dispersión que compare la serie de precipitación anual en el pluviómetro C frente a la media de todas las estaciones. La gráfica muestra también la regresión lineal entre las dos series según la fórmula $Y=bX$."
   ]
  },
  {
   "cell_type": "code",
   "execution_count": 79,
   "metadata": {},
   "outputs": [],
   "source": [
    "def linear_reg(x, b):\n",
    "    \"\"\"Linear regression with no intecept\n",
    "    \n",
    "    y = b * x   \n",
    "    \n",
    "    Input:\n",
    "    ------\n",
    "    x:         float. Independet value\n",
    "    b:         float. Slope of the linear regression\n",
    "    \n",
    "    Output:\n",
    "    -------\n",
    "    y:         float. Regressed value\"\"\"\n",
    "    \n",
    "    y = b * x\n",
    "    return y"
   ]
  },
  {
   "cell_type": "code",
   "execution_count": 81,
   "metadata": {},
   "outputs": [
    {
     "data": {
      "text/plain": [
       "0.944138390867605"
      ]
     },
     "execution_count": 81,
     "metadata": {},
     "output_type": "execute_result"
    }
   ],
   "source": [
    "# Ajustar la regresión lineal\n",
    "b = curve_fit(linear_reg, data2.AVG, data2.C)[0][0]\n",
    "b"
   ]
  },
  {
   "cell_type": "code",
   "execution_count": 82,
   "metadata": {},
   "outputs": [
    {
     "data": {
      "image/png": "[encoded data removed]",
      "text/plain": [
       "<Figure size 360x360 with 1 Axes>"
      ]
     },
     "metadata": {},
     "output_type": "display_data"
    }
   ],
   "source": [
    "fig, ax = plt.subplots(figsize=(5,5))\n",
    "\n",
    "# configuración\n",
    "ax.set_title('Serie de precipitación media anual (mm)', fontsize=14,\n",
    "             fontweight='bold')\n",
    "ax.set_xlabel('media de todas las estaciones', fontsize=13)\n",
    "ax.set_ylabel('estación C', fontsize=13)\n",
    "ax.set(xlim=(600, 1600), ylim=(600, 1600))\n",
    "\n",
    "# diagrama de dispersión\n",
    "ax.scatter(data2.AVG, data2.C)\n",
    "\n",
    "# recta de regresión\n",
    "ax.plot([0, 3000], [0, b * 3000], 'k--', linewidth=1)\n",
    "\n",
    "# label one every five years\n",
    "years = data2.index[::5]\n",
    "xyear = [data2.loc[year, 'AVG'] + 10 for year in years]\n",
    "yyear = [data2.loc[year, 'C'] - 20 for year in years] \n",
    "for i, year in enumerate(years):\n",
    "    ax.text(xyear[i], yyear[i], year, verticalalignment='center')\n",
    "\n",
    "plt.tight_layout()"
   ]
  },
  {
   "cell_type": "markdown",
   "metadata": {},
   "source": [
    "Este tipo de gráfico tiene mucha dispersión causada por la variabilidad anual del clima, por lo que no es conveniente para encontrar anomalías. \n",
    "\n",
    "Por eso se utiliza la **curva de doble masa**. Esta gráfica se crea a partir de las series de **precipitación acumulada**. De esta manera, la gráfica ha de tener siempre una pendiente positiva y continua; cualquier cambio de pendiente representa una anomalía en la serie de precipitación."
   ]
  },
  {
   "cell_type": "code",
   "execution_count": 83,
   "metadata": {},
   "outputs": [
    {
     "data": {
      "text/html": [
       "<div>\n",
       "<style scoped>\n",
       "    .dataframe tbody tr th:only-of-type {\n",
       "        vertical-align: middle;\n",
       "    }\n",
       "\n",
       "    .dataframe tbody tr th {\n",
       "        vertical-align: top;\n",
       "    }\n",
       "\n",
       "    .dataframe thead th {\n",
       "        text-align: right;\n",
       "    }\n",
       "</style>\n",
       "<table border=\"1\" class=\"dataframe\">\n",
       "  <thead>\n",
       "    <tr style=\"text-align: right;\">\n",
       "      <th></th>\n",
       "      <th>A</th>\n",
       "      <th>B</th>\n",
       "      <th>C</th>\n",
       "      <th>D</th>\n",
       "      <th>E</th>\n",
       "      <th>AVG</th>\n",
       "    </tr>\n",
       "    <tr>\n",
       "      <th>Year</th>\n",
       "      <th></th>\n",
       "      <th></th>\n",
       "      <th></th>\n",
       "      <th></th>\n",
       "      <th></th>\n",
       "      <th></th>\n",
       "    </tr>\n",
       "  </thead>\n",
       "  <tbody>\n",
       "    <tr>\n",
       "      <th>1970</th>\n",
       "      <td>1010.0</td>\n",
       "      <td>1161.0</td>\n",
       "      <td>780.0</td>\n",
       "      <td>949.0</td>\n",
       "      <td>1135.0</td>\n",
       "      <td>1007.0</td>\n",
       "    </tr>\n",
       "    <tr>\n",
       "      <th>1971</th>\n",
       "      <td>2015.0</td>\n",
       "      <td>2139.0</td>\n",
       "      <td>1821.0</td>\n",
       "      <td>1733.0</td>\n",
       "      <td>2105.0</td>\n",
       "      <td>1962.6</td>\n",
       "    </tr>\n",
       "    <tr>\n",
       "      <th>1972</th>\n",
       "      <td>3082.0</td>\n",
       "      <td>3365.0</td>\n",
       "      <td>2848.0</td>\n",
       "      <td>2800.0</td>\n",
       "      <td>3263.0</td>\n",
       "      <td>3071.6</td>\n",
       "    </tr>\n",
       "    <tr>\n",
       "      <th>1973</th>\n",
       "      <td>4133.0</td>\n",
       "      <td>4245.0</td>\n",
       "      <td>3673.0</td>\n",
       "      <td>3814.0</td>\n",
       "      <td>4285.0</td>\n",
       "      <td>4030.0</td>\n",
       "    </tr>\n",
       "    <tr>\n",
       "      <th>1974</th>\n",
       "      <td>4934.0</td>\n",
       "      <td>5391.0</td>\n",
       "      <td>4606.0</td>\n",
       "      <td>4737.0</td>\n",
       "      <td>5106.0</td>\n",
       "      <td>4954.8</td>\n",
       "    </tr>\n",
       "  </tbody>\n",
       "</table>\n",
       "</div>"
      ],
      "text/plain": [
       "           A       B       C       D       E     AVG\n",
       "Year                                                \n",
       "1970  1010.0  1161.0   780.0   949.0  1135.0  1007.0\n",
       "1971  2015.0  2139.0  1821.0  1733.0  2105.0  1962.6\n",
       "1972  3082.0  3365.0  2848.0  2800.0  3263.0  3071.6\n",
       "1973  4133.0  4245.0  3673.0  3814.0  4285.0  4030.0\n",
       "1974  4934.0  5391.0  4606.0  4737.0  5106.0  4954.8"
      ]
     },
     "execution_count": 83,
     "metadata": {},
     "output_type": "execute_result"
    }
   ],
   "source": [
    "# Serie anual de precipitación acumulada\n",
    "accData2 = data2.cumsum()\n",
    "accData2.head()"
   ]
  },
  {
   "cell_type": "code",
   "execution_count": 85,
   "metadata": {},
   "outputs": [
    {
     "data": {
      "text/plain": [
       "0.9472720120775414"
      ]
     },
     "execution_count": 85,
     "metadata": {},
     "output_type": "execute_result"
    }
   ],
   "source": [
    "# ajustar la regresión lineal\n",
    "b = curve_fit(linear_reg, accData2.AVG, accData2.C)[0][0]\n",
    "b"
   ]
  },
  {
   "cell_type": "code",
   "execution_count": 86,
   "metadata": {},
   "outputs": [
    {
     "data": {
      "image/png": "[encoded data removed]",
      "text/plain": [
       "<Figure size 360x360 with 1 Axes>"
      ]
     },
     "metadata": {},
     "output_type": "display_data"
    }
   ],
   "source": [
    "fig, ax = plt.subplots(figsize=(5,5))\n",
    "lim = 20000\n",
    "thr = 0.1\n",
    "\n",
    "# configuración\n",
    "ax.set_title('Curva de doble masa (mm)', fontsize=14, fontweight='bold')\n",
    "ax.set_xlabel('media de todas las estaciones', fontsize=13)\n",
    "ax.set_ylabel('estación C', fontsize=13)\n",
    "ax.set(xlim=(0, lim), ylim=(0, lim))\n",
    "\n",
    "# diagrama de dispersión\n",
    "ax.scatter(accData2.AVG, accData2.C, label='original')\n",
    "\n",
    "# regresión lineal\n",
    "ax.plot([0, lim], [0, b * lim], 'k--', linewidth=1)\n",
    "\n",
    "# etiquetar uno de cada cinco años\n",
    "years = accData2.index[::5]\n",
    "xyear = [accData2.loc[year, 'AVG'] + 200 for year in years]\n",
    "yyear = [accData2.loc[year, 'C'] for year in years] \n",
    "for i, year in enumerate(years):\n",
    "    ax.text(xyear[i], yyear[i], year, verticalalignment='center')\n",
    "          \n",
    "plt.tight_layout()"
   ]
  },
  {
   "cell_type": "code",
   "execution_count": 87,
   "metadata": {},
   "outputs": [
    {
     "name": "stdout",
     "output_type": "stream",
     "text": [
      "Potential anomaly: year 1975\n",
      "Potential anomaly: year 1976\n",
      "Potential anomaly: year 1977\n",
      "Potential anomaly: year 1978\n",
      "Potential anomaly: year 1979\n"
     ]
    }
   ],
   "source": [
    "# identificar años con anomalía\n",
    "for j, year in enumerate(accData2.index[4:-4]):\n",
    "    # pendiente de la recta de regresión hasta 'year'\n",
    "    p1 = np.polyfit(accData2.loc[:year, 'AVG'],\n",
    "                    accData2.loc[:year, 'C'], 1)\n",
    "    # pendiente de la recta de regresión a partir de 'year'\n",
    "    p2 = np.polyfit(accData2.loc[year + 1:, 'AVG'],\n",
    "                    accData2.loc[year + 1:, 'C'], 1)\n",
    "    # identificar como anomalía si el cociente de las pendientes se aleja de 1\n",
    "    if (p1[0] / p2[0] < 1 - thr) | (p1[0] / p2[0] > 1 + thr):\n",
    "        print(\"Potential anomaly: year {0}\".format(year))"
   ]
  },
  {
   "cell_type": "markdown",
   "metadata": {},
   "source": [
    "El análisis muestra un cambio en la pendiente a partir de 1976, lo que concuerda con el hecho de que la estación cambió de ubicación en 1974. Puesto que no disponemos de información para decidir si la serie correcta es la anterior o posterior a 1976, corregiremos los datos previos a dicha fecha."
   ]
  },
  {
   "cell_type": "code",
   "execution_count": 88,
   "metadata": {},
   "outputs": [],
   "source": [
    "# año de la anomalía\n",
    "year = 1976"
   ]
  },
  {
   "cell_type": "code",
   "execution_count": 89,
   "metadata": {
    "scrolled": true
   },
   "outputs": [
    {
     "data": {
      "text/plain": [
       "0.9648376054834307"
      ]
     },
     "execution_count": 89,
     "metadata": {},
     "output_type": "execute_result"
    }
   ],
   "source": [
    "# pendiente antes de la anomalía\n",
    "# ------------------------------\n",
    "b_wrong = curve_fit(linear_reg, accData2.loc[:year, 'AVG'],\n",
    "                    accData2.loc[:year, 'C'])[0][0]\n",
    "b_wrong"
   ]
  },
  {
   "cell_type": "code",
   "execution_count": 90,
   "metadata": {},
   "outputs": [
    {
     "data": {
      "text/plain": [
       "0.8836253396178155"
      ]
     },
     "execution_count": 90,
     "metadata": {},
     "output_type": "execute_result"
    }
   ],
   "source": [
    "# pendiente después de la anomalía\n",
    "# --------------------------------\n",
    "# extraer datos posteriores a la anomalía\n",
    "temp = data2.loc[year + 1:, :].copy()\n",
    "# calcular serie acumulada\n",
    "accTemp = temp.cumsum(axis=0)    \n",
    "# ajustar la regresión\n",
    "b_right = curve_fit(linear_reg, accTemp.AVG, accTemp.C)[0][0]\n",
    "b_right"
   ]
  },
  {
   "cell_type": "code",
   "execution_count": 91,
   "metadata": {},
   "outputs": [],
   "source": [
    "# corregir datos originales\n",
    "# -------------------------\n",
    "# crear columna para los datos corregidos\n",
    "data2['C_c'] = data2.C\n",
    "# corregir datos\n",
    "data2.loc[:year, 'C_c'] = data2.loc[:year, 'C'] * b_right / b_wrong\n",
    "# recalcular la serie acumulada\n",
    "accData2 = data2.cumsum(axis=0)"
   ]
  },
  {
   "cell_type": "code",
   "execution_count": 92,
   "metadata": {},
   "outputs": [
    {
     "data": {
      "image/png": "[encoded data removed]",
      "text/plain": [
       "<Figure size 360x360 with 1 Axes>"
      ]
     },
     "metadata": {},
     "output_type": "display_data"
    }
   ],
   "source": [
    "# GRÁFICO CON LA SERIE ORIGINAL Y LA CORREGIDA\n",
    "# --------------------------------------------\n",
    "fig, ax = plt.subplots(figsize=(5,5))\n",
    "lim = 20000\n",
    "\n",
    "# configuración\n",
    "ax.set_title('Curva de doble masa (mm)', fontsize=14, fontweight='bold')\n",
    "ax.set_xlabel('media de las estaciones', fontsize=13)\n",
    "ax.set_ylabel('estación C', fontsize=13)\n",
    "ax.set(xlim=(0, lim), ylim=(0, lim))\n",
    "\n",
    "# diagramas de dispersión\n",
    "ax.scatter(accData2.AVG, accData2.C, label='original')\n",
    "ax.scatter(accData2.AVG, accData2.C_c, marker='x', label='corregido')\n",
    "\n",
    "# regresión linal\n",
    "b = curve_fit(linear_reg, accData2.AVG, accData2.C_c)[0][0]\n",
    "ax.plot([0, lim], [0, b * lim], 'k--', linewidth=1)\n",
    "\n",
    "# etiquetas uno de cada cinco años\n",
    "years = accData2.index[::5]\n",
    "xyear = [accData2.loc[year, 'AVG'] + 200 for year in years]\n",
    "yyear = [accData2.loc[year, 'C'] for year in years] \n",
    "for i, year in enumerate(years):\n",
    "    ax.text(xyear[i], yyear[i], year, verticalalignment='center')\n",
    "\n",
    "ax.legend(loc=4, ncol=1, fontsize=13)\n",
    "plt.tight_layout()"
   ]
  },
  {
   "cell_type": "markdown",
   "metadata": {},
   "source": [
    "## <font color=steelblue>Ejercicio 3 - Curvas de doble masa<br>\n",
    "\n",
    "<font color=steelblue>Realiza un análisis mediante la curva de doble masa con los datos proporcionados en la tabla *Exercise_003* del archivo *RainfallData.xlsx*.</font>"
   ]
  },
  {
   "cell_type": "code",
   "execution_count": 93,
   "metadata": {},
   "outputs": [
    {
     "data": {
      "text/html": [
       "<div>\n",
       "<style scoped>\n",
       "    .dataframe tbody tr th:only-of-type {\n",
       "        vertical-align: middle;\n",
       "    }\n",
       "\n",
       "    .dataframe tbody tr th {\n",
       "        vertical-align: top;\n",
       "    }\n",
       "\n",
       "    .dataframe thead th {\n",
       "        text-align: right;\n",
       "    }\n",
       "</style>\n",
       "<table border=\"1\" class=\"dataframe\">\n",
       "  <thead>\n",
       "    <tr style=\"text-align: right;\">\n",
       "      <th></th>\n",
       "      <th>A</th>\n",
       "      <th>B</th>\n",
       "      <th>C</th>\n",
       "      <th>D</th>\n",
       "      <th>E</th>\n",
       "      <th>AVG</th>\n",
       "    </tr>\n",
       "    <tr>\n",
       "      <th>Year</th>\n",
       "      <th></th>\n",
       "      <th></th>\n",
       "      <th></th>\n",
       "      <th></th>\n",
       "      <th></th>\n",
       "      <th></th>\n",
       "    </tr>\n",
       "  </thead>\n",
       "  <tbody>\n",
       "    <tr>\n",
       "      <th>1926</th>\n",
       "      <td>39.75</td>\n",
       "      <td>45.70</td>\n",
       "      <td>30.69</td>\n",
       "      <td>37.36</td>\n",
       "      <td>32.85</td>\n",
       "      <td>37.270</td>\n",
       "    </tr>\n",
       "    <tr>\n",
       "      <th>1927</th>\n",
       "      <td>39.57</td>\n",
       "      <td>38.52</td>\n",
       "      <td>40.99</td>\n",
       "      <td>30.87</td>\n",
       "      <td>28.08</td>\n",
       "      <td>35.606</td>\n",
       "    </tr>\n",
       "    <tr>\n",
       "      <th>1928</th>\n",
       "      <td>42.01</td>\n",
       "      <td>48.26</td>\n",
       "      <td>40.44</td>\n",
       "      <td>42.00</td>\n",
       "      <td>33.51</td>\n",
       "      <td>41.244</td>\n",
       "    </tr>\n",
       "    <tr>\n",
       "      <th>1929</th>\n",
       "      <td>41.39</td>\n",
       "      <td>34.64</td>\n",
       "      <td>32.49</td>\n",
       "      <td>39.92</td>\n",
       "      <td>29.58</td>\n",
       "      <td>35.604</td>\n",
       "    </tr>\n",
       "    <tr>\n",
       "      <th>1930</th>\n",
       "      <td>31.55</td>\n",
       "      <td>45.13</td>\n",
       "      <td>36.72</td>\n",
       "      <td>36.32</td>\n",
       "      <td>23.76</td>\n",
       "      <td>34.696</td>\n",
       "    </tr>\n",
       "  </tbody>\n",
       "</table>\n",
       "</div>"
      ],
      "text/plain": [
       "          A      B      C      D      E     AVG\n",
       "Year                                           \n",
       "1926  39.75  45.70  30.69  37.36  32.85  37.270\n",
       "1927  39.57  38.52  40.99  30.87  28.08  35.606\n",
       "1928  42.01  48.26  40.44  42.00  33.51  41.244\n",
       "1929  41.39  34.64  32.49  39.92  29.58  35.604\n",
       "1930  31.55  45.13  36.72  36.32  23.76  34.696"
      ]
     },
     "execution_count": 93,
     "metadata": {},
     "output_type": "execute_result"
    }
   ],
   "source": [
    "# Importar los datos\n",
    "data3 = pd.read_excel('RainfallData.xlsx', sheet_name='Exercise_003',\n",
    "                      skiprows=0, index_col=0)\n",
    "\n",
    "# Calcular la media anual entre todas las estaciones\n",
    "data3['AVG'] = data3.mean(axis=1)\n",
    "\n",
    "# Serie de precipitación acumulada\n",
    "accData3 = data3.cumsum()\n",
    "\n",
    "data3.head()"
   ]
  },
  {
   "cell_type": "code",
   "execution_count": 98,
   "metadata": {},
   "outputs": [
    {
     "name": "stdout",
     "output_type": "stream",
     "text": [
      "Estación A\n",
      "\n",
      "Estación B\n",
      "Potencial anomalía: año 1930\n",
      "Potencial anomalía: año 1931\n",
      "Potencial anomalía: año 1935\n",
      "Potencial anomalía: año 1936\n",
      "Potencial anomalía: año 1937\n",
      "Potencial anomalía: año 1938\n",
      "\n",
      "Estación C\n",
      "\n",
      "Estación D\n",
      "\n",
      "Estación E\n",
      "Potencial anomalía: año 1930\n",
      "Potencial anomalía: año 1931\n",
      "Potencial anomalía: año 1932\n",
      "Potencial anomalía: año 1933\n",
      "Potencial anomalía: año 1934\n",
      "\n"
     ]
    },
    {
     "data": {
      "image/png": "[encoded data removed]",
      "text/plain": [
       "<Figure size 864x576 with 6 Axes>"
      ]
     },
     "metadata": {},
     "output_type": "display_data"
    }
   ],
   "source": [
    "fig, ax = plt.subplots(2, 3, figsize=(12,8))\n",
    "fig.text(0.5, 1.02, 'Gráficos de doble masa de precipitación anual', \n",
    "         horizontalalignment='center', fontsize=16, weight='bold')\n",
    "ax[1, 2].axis(\"off\")\n",
    "lim = 800\n",
    "thr = 0.1 # umbral para definir anomalías\n",
    "\n",
    "for idx, gage in enumerate([\"A\", \"B\", \"C\", \"D\", \"E\"]):\n",
    "    print('Estación', gage)\n",
    "    # Definir la posición del gráfico\n",
    "    (ii, jj) = np.unravel_index(idx, (2, 3))\n",
    "    # Configurar\n",
    "    ax[ii, jj].set(xlim=(0, lim), ylim=(0, lim))\n",
    "    ax[ii, jj].set_xlabel('estación ' + gage, fontsize=13)\n",
    "    ax[ii, jj].set_ylabel('media de las estaciones', fontsize=13)\n",
    "    \n",
    "    # Recta de pendiente 1\n",
    "    b = curve_fit(linear_reg, accData3.AVG, accData3[gage])[0][0]\n",
    "    ax[ii, jj].plot([0, lim], [0, b * lim], 'k--', linewidth=1)\n",
    "    \n",
    "    # Gráfico de dispersión\n",
    "    ax[ii, jj].plot(accData3.AVG, accData3[gage], 'o')\n",
    "    \n",
    "    # label one every five years\n",
    "    years = accData3.index[::5]\n",
    "    xyear = [accData3.loc[year, 'AVG'] + 20 for year in years]\n",
    "    yyear = [accData3.loc[year, gage] for year in years] \n",
    "    for i, year in enumerate(years):\n",
    "        ax[ii, jj].text(xyear[i], yyear[i], year,\n",
    "                        verticalalignment='center')\n",
    "                        \n",
    "    # identificar estaciones y años con anomalía\n",
    "    for j, year in enumerate(accData3.index[4:-4]):\n",
    "        # pendiente de la regresión lineal hasta j\n",
    "        p1 = np.polyfit(accData3.loc[:year, 'AVG'],\n",
    "                        accData3.loc[:year, gage], 1)\n",
    "        # pendiente de la regresión linean desde j+1\n",
    "        p2 = np.polyfit(accData3.loc[year + 1:, 'AVG'],\n",
    "                        accData3.loc[year + 1:, gage], 1)\n",
    "        # hay anomalía si el cambio de la pendiente es notable\n",
    "        if (p1[0] / p2[0] < 1 - thr) | (p1[0] / p2[0] > 1 + thr):\n",
    "            print(\"Potencial anomalía: año {0}\".format(year))\n",
    "    print()\n",
    "    \n",
    "plt.tight_layout()"
   ]
  },
  {
   "cell_type": "markdown",
   "metadata": {},
   "source": [
    "Dos pluviómetros muestran inconsistencias: el pluviómetro B dos cambios de pendiente en 1930 y 1935,  y el pluviómetro E en el año 1930.\n",
    "\n",
    "**Corregir pluviómetro B**"
   ]
  },
  {
   "cell_type": "code",
   "execution_count": 99,
   "metadata": {},
   "outputs": [
    {
     "data": {
      "text/plain": [
       "1.1440964837032106"
      ]
     },
     "execution_count": 99,
     "metadata": {},
     "output_type": "execute_result"
    }
   ],
   "source": [
    "# pendiente antes de 1930\n",
    "# -----------------------\n",
    "b1 = curve_fit(linear_reg, accData3.loc[:1930, 'AVG'],\n",
    "               accData3.loc[:1930, 'B'])[0][0]\n",
    "b1"
   ]
  },
  {
   "cell_type": "code",
   "execution_count": 100,
   "metadata": {},
   "outputs": [
    {
     "data": {
      "text/plain": [
       "0.9842422849741361"
      ]
     },
     "execution_count": 100,
     "metadata": {},
     "output_type": "execute_result"
    }
   ],
   "source": [
    "# pendiente de 1931 a 1935\n",
    "# ------------------------\n",
    "temp = data3.loc[1931:1935, :]\n",
    "accTemp = temp.cumsum(axis=0)\n",
    "b2 = curve_fit(linear_reg, accTemp.loc[:, 'AVG'],\n",
    "               accTemp.loc[:, 'B'])[0][0]\n",
    "del temp, accTemp\n",
    "b2"
   ]
  },
  {
   "cell_type": "code",
   "execution_count": 102,
   "metadata": {},
   "outputs": [
    {
     "data": {
      "text/plain": [
       "0.9722932050016689"
      ]
     },
     "execution_count": 102,
     "metadata": {},
     "output_type": "execute_result"
    }
   ],
   "source": [
    "# pendiente a partir de 1936\n",
    "# --------------------------\n",
    "temp = data3.loc[1936:, :]\n",
    "accTemp = temp.cumsum(axis=0)\n",
    "b3 = curve_fit(linear_reg, accTemp.loc[:, 'AVG'],\n",
    "               accTemp.loc[1:, 'B'])[0][0]\n",
    "del temp, accTemp\n",
    "b3"
   ]
  },
  {
   "cell_type": "markdown",
   "metadata": {},
   "source": [
    "Puesto que la pendiente en el segundo y tercer periodo es similar, asumimos que el periodo incorrecto es hasta 1930."
   ]
  },
  {
   "cell_type": "code",
   "execution_count": 104,
   "metadata": {},
   "outputs": [
    {
     "data": {
      "text/plain": [
       "0.9937661079160598"
      ]
     },
     "execution_count": 104,
     "metadata": {},
     "output_type": "execute_result"
    }
   ],
   "source": [
    "# pendiente desde 1931\n",
    "# --------------------\n",
    "temp = data3.loc[1931:, :]\n",
    "accTemp = temp.cumsum(axis=0)\n",
    "b_ok = curve_fit(linear_reg, accTemp.loc[:, 'AVG'],\n",
    "                 accTemp.loc[:, 'B'])[0][0]\n",
    "del temp, accTemp\n",
    "b_ok"
   ]
  },
  {
   "cell_type": "code",
   "execution_count": 105,
   "metadata": {},
   "outputs": [],
   "source": [
    "# corregir la serie hasta 1930\n",
    "# ----------------------------\n",
    "data3['B_c'] = data3.B.copy()\n",
    "data3.loc[:1930, 'B_c'] = data3.loc[:1930, 'B'] * b_ok / b1\n",
    "# accumulate corrected data\n",
    "accData3 = data3.cumsum(axis=0)"
   ]
  },
  {
   "cell_type": "code",
   "execution_count": 106,
   "metadata": {},
   "outputs": [
    {
     "data": {
      "image/png": "[encoded data removed]",
      "text/plain": [
       "<Figure size 360x360 with 1 Axes>"
      ]
     },
     "metadata": {},
     "output_type": "display_data"
    }
   ],
   "source": [
    "# Gráfico serie corregida vs original\n",
    "# -----------------------------------\n",
    "fig, ax = plt.subplots(figsize=(5,5))\n",
    "# setup\n",
    "ax.set(xlim=(0, lim), ylim=(0, lim))\n",
    "ax.set_xlabel('media estaciones', fontsize=13)\n",
    "ax.set_ylabel('estación B', fontsize=13)\n",
    "\n",
    "b = curve_fit(linear_reg, accData3.AVG, accData3.B_c)[0][0]\n",
    "ax.plot([0, lim], [0, b * lim], '--k', linewidth=1)\n",
    "\n",
    "ax.scatter(accData3.AVG, accData3.B, label='original')\n",
    "ax.scatter(accData3.AVG, accData3.B_c, marker='x', label='corregido')\n",
    "\n",
    "ax.legend(loc=4, fontsize=13);"
   ]
  },
  {
   "cell_type": "markdown",
   "metadata": {},
   "source": [
    "**Corregir estación E**<br>\n",
    "Asumimos que la serie correcta es a partir de 1931 en adelante."
   ]
  },
  {
   "cell_type": "code",
   "execution_count": 107,
   "metadata": {},
   "outputs": [
    {
     "data": {
      "text/plain": [
       "0.8176415003641067"
      ]
     },
     "execution_count": 107,
     "metadata": {},
     "output_type": "execute_result"
    }
   ],
   "source": [
    "# pendiente hasta 1930\n",
    "# --------------------\n",
    "b_wrong = curve_fit(linear_reg, accData3.loc[:1930, 'AVG'],\n",
    "                    accData3.loc[:1930, 'E'])[0][0]\n",
    "b_wrong"
   ]
  },
  {
   "cell_type": "code",
   "execution_count": 109,
   "metadata": {},
   "outputs": [
    {
     "data": {
      "text/plain": [
       "1.0478300389771686"
      ]
     },
     "execution_count": 109,
     "metadata": {},
     "output_type": "execute_result"
    }
   ],
   "source": [
    "# pendiente desde 1931\n",
    "# --------------------\n",
    "temp = data3.loc[1931:, :]     # extract raw data\n",
    "accTemp = temp.cumsum(axis=0) # accumulate series\n",
    "b_ok = curve_fit(linear_reg, accTemp.AVG, accTemp.E)[0][0]\n",
    "del temp, accTemp\n",
    "b_ok"
   ]
  },
  {
   "cell_type": "code",
   "execution_count": 110,
   "metadata": {},
   "outputs": [],
   "source": [
    "# corregir series hasta 1930\n",
    "# --------------------------\n",
    "data3['E_c'] = data3.E\n",
    "data3.loc[:1930, 'E_c'] = data3.loc[:1930, 'E'] * b_ok / b_wrong\n",
    "# accumulate corrected data\n",
    "accData3 = data3.cumsum(axis=0)"
   ]
  },
  {
   "cell_type": "code",
   "execution_count": 111,
   "metadata": {},
   "outputs": [
    {
     "data": {
      "image/png": "[encoded data removed]",
      "text/plain": [
       "<Figure size 360x360 with 1 Axes>"
      ]
     },
     "metadata": {},
     "output_type": "display_data"
    }
   ],
   "source": [
    "# Plot corrected vs original values\n",
    "# ---------------------------------\n",
    "fig, ax = plt.subplots(figsize=(5,5))\n",
    "# setup\n",
    "ax.set(xlim=(0, lim), ylim=(0, lim))\n",
    "ax.set_xlabel('media estaciones', fontsize=13)\n",
    "ax.set_ylabel('estación E', fontsize=13)\n",
    "\n",
    "b = curve_fit(linear_reg, accData3.AVG, accData3.E_c)[0][0]\n",
    "ax.plot([0, lim], [0, b * lim], '--k', linewidth=1)\n",
    "\n",
    "ax.scatter(accData3.AVG, accData3.E, label='original')\n",
    "ax.scatter(accData3.AVG, accData3.E_c, marker='x', label='corregido')\n",
    "\n",
    "ax.legend(loc=4, fontsize=13);"
   ]
  },
  {
   "cell_type": "markdown",
   "metadata": {},
   "source": [
    "## <font color=steelblue>Ejercicio 4 - Método hipsométrico\n",
    "\n",
    "<font color=steelblue>Dada la curva hipsométrica de una cuenca (relación área-elevación) y la información de varias estaciones pluviométricas en dicha cuenca (tabla *Exercise_004* del archivo *RainfallData.xlsx*), calcula la precipitación media anual para la cuenca usando el método hipsométrico.<tfont>\n",
    "\n",
    "| **Rango de altitud (m)** | **Fracción del área de la cuenca** |\n",
    "|-------------------------|-----------------------------------|\n",
    "| 311-400                 | 0.028                             |\n",
    "| 400-600                 | 0.159                             |\n",
    "| 600-800                 | 0.341                             |\n",
    "| 800-1000                | 0.271                             |\n",
    "| 1000-1200               | 0.151                             |\n",
    "| 1200-1400               | 0.042                             |\n",
    "| 1400-1600               | 0.008                             |"
   ]
  },
  {
   "cell_type": "markdown",
   "metadata": {},
   "source": [
    "__Curva hipsométrica__<br>\n",
    "La curva hipsométrica define el porcentaje de área de la cuenca que está por debajo de una altitud dada.\n",
    "\n",
    "En este ejercicio utilizaremos la curva hipsométrica para asignar la proporción de la cuenca (en tanto por uno) correspondiente a cada franja de altitud."
   ]
  },
  {
   "cell_type": "code",
   "execution_count": 112,
   "metadata": {},
   "outputs": [],
   "source": [
    "# Rangos de altitud\n",
    "Zs = np.array([311, 400, 600, 800, 1000, 1200, 1400, 1600])\n",
    "Zs = np.mean([Zs[:-1], Zs[1:]], axis=0)\n",
    "# Área asociada\n",
    "As = np.array([0.028, 0.159, 0.341, 0.271, 0.151, 0.042, 0.008])"
   ]
  },
  {
   "cell_type": "code",
   "execution_count": 113,
   "metadata": {},
   "outputs": [
    {
     "data": {
      "text/html": [
       "<div>\n",
       "<style scoped>\n",
       "    .dataframe tbody tr th:only-of-type {\n",
       "        vertical-align: middle;\n",
       "    }\n",
       "\n",
       "    .dataframe tbody tr th {\n",
       "        vertical-align: top;\n",
       "    }\n",
       "\n",
       "    .dataframe thead th {\n",
       "        text-align: right;\n",
       "    }\n",
       "</style>\n",
       "<table border=\"1\" class=\"dataframe\">\n",
       "  <thead>\n",
       "    <tr style=\"text-align: right;\">\n",
       "      <th></th>\n",
       "      <th>Z</th>\n",
       "      <th>A</th>\n",
       "      <th>Aac</th>\n",
       "    </tr>\n",
       "  </thead>\n",
       "  <tbody>\n",
       "    <tr>\n",
       "      <th>0</th>\n",
       "      <td>355.5</td>\n",
       "      <td>0.028</td>\n",
       "      <td>0.028</td>\n",
       "    </tr>\n",
       "    <tr>\n",
       "      <th>1</th>\n",
       "      <td>500.0</td>\n",
       "      <td>0.159</td>\n",
       "      <td>0.187</td>\n",
       "    </tr>\n",
       "    <tr>\n",
       "      <th>2</th>\n",
       "      <td>700.0</td>\n",
       "      <td>0.341</td>\n",
       "      <td>0.528</td>\n",
       "    </tr>\n",
       "    <tr>\n",
       "      <th>3</th>\n",
       "      <td>900.0</td>\n",
       "      <td>0.271</td>\n",
       "      <td>0.799</td>\n",
       "    </tr>\n",
       "    <tr>\n",
       "      <th>4</th>\n",
       "      <td>1100.0</td>\n",
       "      <td>0.151</td>\n",
       "      <td>0.950</td>\n",
       "    </tr>\n",
       "    <tr>\n",
       "      <th>5</th>\n",
       "      <td>1300.0</td>\n",
       "      <td>0.042</td>\n",
       "      <td>0.992</td>\n",
       "    </tr>\n",
       "    <tr>\n",
       "      <th>6</th>\n",
       "      <td>1500.0</td>\n",
       "      <td>0.008</td>\n",
       "      <td>1.000</td>\n",
       "    </tr>\n",
       "  </tbody>\n",
       "</table>\n",
       "</div>"
      ],
      "text/plain": [
       "        Z      A    Aac\n",
       "0   355.5  0.028  0.028\n",
       "1   500.0  0.159  0.187\n",
       "2   700.0  0.341  0.528\n",
       "3   900.0  0.271  0.799\n",
       "4  1100.0  0.151  0.950\n",
       "5  1300.0  0.042  0.992\n",
       "6  1500.0  0.008  1.000"
      ]
     },
     "execution_count": 113,
     "metadata": {},
     "output_type": "execute_result"
    }
   ],
   "source": [
    "# crear data frame\n",
    "hipso = pd.DataFrame(data=[Zs, As]).transpose()\n",
    "hipso.columns = ['Z', 'A']\n",
    "hipso['Aac'] = hipso.A.cumsum()\n",
    "hipso"
   ]
  },
  {
   "cell_type": "code",
   "execution_count": 118,
   "metadata": {},
   "outputs": [
    {
     "data": {
      "image/png": "[encoded data removed]",
      "text/plain": [
       "<Figure size 432x288 with 1 Axes>"
      ]
     },
     "metadata": {},
     "output_type": "display_data"
    }
   ],
   "source": [
    "# Gráfico de la curva hipsométrica\n",
    "plt.plot(hipso.Z, hipso.Aac * 100)\n",
    "plt.title('Curva hipsométrica', fontsize=16, weight='bold')\n",
    "plt.xlabel('altitud (msnm)', fontsize=13)\n",
    "plt.xlim(Zs[0], Zs[-1])\n",
    "plt.ylabel('área (%)', fontsize=13)\n",
    "plt.ylim((0, 100));"
   ]
  },
  {
   "cell_type": "markdown",
   "metadata": {},
   "source": [
    "__Regresión precipitación-altitud__\n",
    "\n",
    "Utilizaremos los datos de precipitación anual en las estaciones de la cuenca para establecer la regresión lineal de la precipitación con la altitud."
   ]
  },
  {
   "cell_type": "code",
   "execution_count": 120,
   "metadata": {},
   "outputs": [
    {
     "data": {
      "text/html": [
       "<div>\n",
       "<style scoped>\n",
       "    .dataframe tbody tr th:only-of-type {\n",
       "        vertical-align: middle;\n",
       "    }\n",
       "\n",
       "    .dataframe tbody tr th {\n",
       "        vertical-align: top;\n",
       "    }\n",
       "\n",
       "    .dataframe thead th {\n",
       "        text-align: right;\n",
       "    }\n",
       "</style>\n",
       "<table border=\"1\" class=\"dataframe\">\n",
       "  <thead>\n",
       "    <tr style=\"text-align: right;\">\n",
       "      <th></th>\n",
       "      <th>Z</th>\n",
       "      <th>P</th>\n",
       "    </tr>\n",
       "    <tr>\n",
       "      <th>Gage</th>\n",
       "      <th></th>\n",
       "      <th></th>\n",
       "    </tr>\n",
       "  </thead>\n",
       "  <tbody>\n",
       "    <tr>\n",
       "      <th>1</th>\n",
       "      <td>442</td>\n",
       "      <td>1392</td>\n",
       "    </tr>\n",
       "    <tr>\n",
       "      <th>2</th>\n",
       "      <td>548</td>\n",
       "      <td>1246</td>\n",
       "    </tr>\n",
       "    <tr>\n",
       "      <th>3</th>\n",
       "      <td>736</td>\n",
       "      <td>1495</td>\n",
       "    </tr>\n",
       "    <tr>\n",
       "      <th>4</th>\n",
       "      <td>770</td>\n",
       "      <td>1698</td>\n",
       "    </tr>\n",
       "    <tr>\n",
       "      <th>5</th>\n",
       "      <td>852</td>\n",
       "      <td>1717</td>\n",
       "    </tr>\n",
       "    <tr>\n",
       "      <th>6</th>\n",
       "      <td>1031</td>\n",
       "      <td>1752</td>\n",
       "    </tr>\n",
       "  </tbody>\n",
       "</table>\n",
       "</div>"
      ],
      "text/plain": [
       "         Z     P\n",
       "Gage            \n",
       "1      442  1392\n",
       "2      548  1246\n",
       "3      736  1495\n",
       "4      770  1698\n",
       "5      852  1717\n",
       "6     1031  1752"
      ]
     },
     "execution_count": 120,
     "metadata": {},
     "output_type": "execute_result"
    }
   ],
   "source": [
    "# Importar datos de precipitación\n",
    "data4 = pd.read_excel('RainfallData.xlsx', sheet_name='Exercise_004',\n",
    "                      index_col='Gage')\n",
    "# Simplificar nombres de las variables\n",
    "data4.columns = ['Z', 'P']\n",
    "data4"
   ]
  },
  {
   "cell_type": "markdown",
   "metadata": {},
   "source": [
    "Se calcula la regresión lineal de la precipitación media anual con respecto a la altura.\n",
    "\n",
    "$$P=a·Z+b$$\n",
    "\n",
    "Donde $P$ es la precipitación media anual (mm) de un punto a cota $Z$ (msnm)."
   ]
  },
  {
   "cell_type": "code",
   "execution_count": 121,
   "metadata": {},
   "outputs": [
    {
     "name": "stdout",
     "output_type": "stream",
     "text": [
      "P = 0.841 Z + 936.550\n"
     ]
    }
   ],
   "source": [
    "# ajustar la recta de regresión\n",
    "(a, b) = np.polyfit(data4.Z, data4.P, deg=1)\n",
    "print('P = {0:.3f} Z + {1:.3f}'.format(a,b))"
   ]
  },
  {
   "cell_type": "code",
   "execution_count": 125,
   "metadata": {},
   "outputs": [
    {
     "data": {
      "image/png": "[encoded data removed]",
      "text/plain": [
       "<Figure size 432x288 with 1 Axes>"
      ]
     },
     "metadata": {},
     "output_type": "display_data"
    }
   ],
   "source": [
    "# Gráfico altitud vs precipitación anual\n",
    "plt.scatter(data4.Z, data4.P)\n",
    "# recta de regresión\n",
    "xlim = np.array([0, Zs[-1]])\n",
    "plt.plot(xlim, a * xlim + b, 'k--')\n",
    "# configuración\n",
    "plt.title('', fontsize=16, weight='bold')\n",
    "plt.xlabel('altitud (msnm)', fontsize=13)\n",
    "plt.xlim(xlim)\n",
    "plt.ylabel('Panual (mm)', fontsize=13)\n",
    "plt.ylim(0, 2200);"
   ]
  },
  {
   "cell_type": "markdown",
   "metadata": {},
   "source": [
    "__Precipitación areal__\n",
    "\n",
    "Conocida la regresión, se calcula la precipitación media anual en los puntos intermedios de cada una de los rangos de altitud que define la curva hipsométrica."
   ]
  },
  {
   "cell_type": "code",
   "execution_count": 126,
   "metadata": {},
   "outputs": [
    {
     "data": {
      "text/html": [
       "<div>\n",
       "<style scoped>\n",
       "    .dataframe tbody tr th:only-of-type {\n",
       "        vertical-align: middle;\n",
       "    }\n",
       "\n",
       "    .dataframe tbody tr th {\n",
       "        vertical-align: top;\n",
       "    }\n",
       "\n",
       "    .dataframe thead th {\n",
       "        text-align: right;\n",
       "    }\n",
       "</style>\n",
       "<table border=\"1\" class=\"dataframe\">\n",
       "  <thead>\n",
       "    <tr style=\"text-align: right;\">\n",
       "      <th></th>\n",
       "      <th>Z</th>\n",
       "      <th>A</th>\n",
       "      <th>Aac</th>\n",
       "      <th>P</th>\n",
       "    </tr>\n",
       "  </thead>\n",
       "  <tbody>\n",
       "    <tr>\n",
       "      <th>0</th>\n",
       "      <td>355.5</td>\n",
       "      <td>0.028</td>\n",
       "      <td>0.028</td>\n",
       "      <td>1235.359775</td>\n",
       "    </tr>\n",
       "    <tr>\n",
       "      <th>1</th>\n",
       "      <td>500.0</td>\n",
       "      <td>0.159</td>\n",
       "      <td>0.187</td>\n",
       "      <td>1356.817066</td>\n",
       "    </tr>\n",
       "    <tr>\n",
       "      <th>2</th>\n",
       "      <td>700.0</td>\n",
       "      <td>0.341</td>\n",
       "      <td>0.528</td>\n",
       "      <td>1524.924043</td>\n",
       "    </tr>\n",
       "    <tr>\n",
       "      <th>3</th>\n",
       "      <td>900.0</td>\n",
       "      <td>0.271</td>\n",
       "      <td>0.799</td>\n",
       "      <td>1693.031019</td>\n",
       "    </tr>\n",
       "    <tr>\n",
       "      <th>4</th>\n",
       "      <td>1100.0</td>\n",
       "      <td>0.151</td>\n",
       "      <td>0.950</td>\n",
       "      <td>1861.137996</td>\n",
       "    </tr>\n",
       "    <tr>\n",
       "      <th>5</th>\n",
       "      <td>1300.0</td>\n",
       "      <td>0.042</td>\n",
       "      <td>0.992</td>\n",
       "      <td>2029.244973</td>\n",
       "    </tr>\n",
       "    <tr>\n",
       "      <th>6</th>\n",
       "      <td>1500.0</td>\n",
       "      <td>0.008</td>\n",
       "      <td>1.000</td>\n",
       "      <td>2197.351949</td>\n",
       "    </tr>\n",
       "  </tbody>\n",
       "</table>\n",
       "</div>"
      ],
      "text/plain": [
       "        Z      A    Aac            P\n",
       "0   355.5  0.028  0.028  1235.359775\n",
       "1   500.0  0.159  0.187  1356.817066\n",
       "2   700.0  0.341  0.528  1524.924043\n",
       "3   900.0  0.271  0.799  1693.031019\n",
       "4  1100.0  0.151  0.950  1861.137996\n",
       "5  1300.0  0.042  0.992  2029.244973\n",
       "6  1500.0  0.008  1.000  2197.351949"
      ]
     },
     "execution_count": 126,
     "metadata": {},
     "output_type": "execute_result"
    }
   ],
   "source": [
    "hipso['P'] = a * hipso.Z + b\n",
    "hipso"
   ]
  },
  {
   "cell_type": "markdown",
   "metadata": {},
   "source": [
    "La precipitación areal es el sumatorio del producto del área y precipitación en cada uno de los rangos de altitud."
   ]
  },
  {
   "cell_type": "code",
   "execution_count": 127,
   "metadata": {},
   "outputs": [
    {
     "name": "stdout",
     "output_type": "stream",
     "text": [
      "La precipitación media anual sobre la cuenca es 1613.0 mm\n"
     ]
    }
   ],
   "source": [
    "Pareal = np.sum(hipso.A * hipso.P)\n",
    "\n",
    "print('La precipitación media anual sobre la cuenca es {0:.1f} mm'.format(Pareal))"
   ]
  },
  {
   "cell_type": "markdown",
   "metadata": {},
   "source": [
    "Hacer lo mismo de forma simplificada:"
   ]
  },
  {
   "cell_type": "code",
   "execution_count": 128,
   "metadata": {},
   "outputs": [
    {
     "name": "stdout",
     "output_type": "stream",
     "text": [
      "La precipitación media anual sobre la cuenca es 1613.0 mm\n"
     ]
    }
   ],
   "source": [
    "p = np.polyfit(Data3.Z,  Data3.P, deg=1) # ajustar la regresión\n",
    "Ps = np.polyval(p, Zs)                   # interpolar precipitación\n",
    "Pareal = np.sum(Ps * As)                 # precipitación areal\n",
    "\n",
    "print('La precipitación media anual sobre la cuenca es {0:.1f} mm'.format(Pareal))"
   ]
  },
  {
   "cell_type": "markdown",
   "metadata": {},
   "source": [
    "Si se hubiera calculado la precipitación areal por el **método de la media de las estacions**, habríamos subestimado la precipitación areal de la cuenca."
   ]
  },
  {
   "cell_type": "code",
   "execution_count": 129,
   "metadata": {},
   "outputs": [
    {
     "name": "stdout",
     "output_type": "stream",
     "text": [
      "La precipitación media anual sobre la cuenca 1550.0 mm\n"
     ]
    }
   ],
   "source": [
    "Pareal2 = Data3.P.mean()\n",
    "\n",
    "print('La precipitación media anual sobre la cuenca {0:.1f} mm'.format(Pareal2))"
   ]
  },
  {
   "cell_type": "markdown",
   "metadata": {},
   "source": [
    "## <font color=steelblue>Exercise 5 - Curva intensidad-duración-frecuencia\n",
    "\n",
    "<font color=steelblue>Construye la curva IDF (intensidad-duración-frecuencia) a partir de la información en la tabla *ChiAnnMax* del archivo *RainfallData.xlsx*.<tfont>"
   ]
  },
  {
   "cell_type": "markdown",
   "metadata": {},
   "source": [
    "Las **curvas de intensidad-duración-frecuencia (IDF)** son una aproximación habitual en los proyectos de hidrología para definir las tormentas de diseño. Las curvas IDF relacionan la intensidad de la precipitación, con su duración y su frecuencia de ocurrencia (expresada como periodo de retorno).\n",
    " \n",
    "<img src=\"IDF curves.JPG\" alt=\"Mountain View\" style=\"width:500px\">\n",
    "> <font color=grey>Curva de intensidad-duración-frecuenca para la ciudad de Oklahoma. *(Applied Hydrology. Chow, 1988)*\n",
    "\n",
    "Cuando se va a diseñar una estructura hidráulica (puente, drenaje, presa...), es necesario conocer la intensidad máxima de precipitación que puede ocurrir para un periodo de retorno y una duración de la tormenta. El periodo de retorno suele estar definido por la normativa para cada tipo de estructura; el peor escenario de duración de la tormenta es el tiempo de concentración de la cuenca de drenaje de la estructura.\n",
    "\n",
    "**Curvas IDF empíricas**<br>\n",
    "Para construir las curvas IDF a partir de datos locales, se lleva a cabo un análisis de frecuencia de extremos. Los valores de entrada son la serie anual de máxima intensidad de precipitación para diversas duraciones de tormenta. La serie correspondiente a cada duración se ajusta a una función de distribución de valores extremos para estimar el periodo de retorno. \n",
    "\n",
    "**Curvas IDF analíticas**\n",
    "Para generar las curvas IDF analíticas no es necesario el análisis de frecuencia de extremos anterior. En su lugar, se ajusta una ecuación representativa de la curva IDF a las observaciones.\n"
   ]
  },
  {
   "cell_type": "markdown",
   "metadata": {},
   "source": [
    "### Importación y  análisis de datos\n",
    "Para generar las curvas de intensidad-duración-frecuencia se necesitan los máximos anuales de precipitación acumulada a distintas duraciones. En nuestro caso estudiaremos eventos de duración 1, 6 y 24 horas."
   ]
  },
  {
   "cell_type": "code",
   "execution_count": 130,
   "metadata": {},
   "outputs": [
    {
     "data": {
      "text/html": [
       "<div>\n",
       "<style scoped>\n",
       "    .dataframe tbody tr th:only-of-type {\n",
       "        vertical-align: middle;\n",
       "    }\n",
       "\n",
       "    .dataframe tbody tr th {\n",
       "        vertical-align: top;\n",
       "    }\n",
       "\n",
       "    .dataframe thead th {\n",
       "        text-align: right;\n",
       "    }\n",
       "</style>\n",
       "<table border=\"1\" class=\"dataframe\">\n",
       "  <thead>\n",
       "    <tr style=\"text-align: right;\">\n",
       "      <th></th>\n",
       "      <th>1</th>\n",
       "      <th>6</th>\n",
       "      <th>24</th>\n",
       "    </tr>\n",
       "    <tr>\n",
       "      <th>Year</th>\n",
       "      <th></th>\n",
       "      <th></th>\n",
       "      <th></th>\n",
       "    </tr>\n",
       "  </thead>\n",
       "  <tbody>\n",
       "    <tr>\n",
       "      <th>1949</th>\n",
       "      <td>20.066</td>\n",
       "      <td>6.688667</td>\n",
       "      <td>2.889250</td>\n",
       "    </tr>\n",
       "    <tr>\n",
       "      <th>1950</th>\n",
       "      <td>42.926</td>\n",
       "      <td>10.583333</td>\n",
       "      <td>3.714750</td>\n",
       "    </tr>\n",
       "    <tr>\n",
       "      <th>1951</th>\n",
       "      <td>38.100</td>\n",
       "      <td>9.101667</td>\n",
       "      <td>3.090333</td>\n",
       "    </tr>\n",
       "    <tr>\n",
       "      <th>1952</th>\n",
       "      <td>30.226</td>\n",
       "      <td>6.773333</td>\n",
       "      <td>1.693333</td>\n",
       "    </tr>\n",
       "    <tr>\n",
       "      <th>1953</th>\n",
       "      <td>25.908</td>\n",
       "      <td>10.244667</td>\n",
       "      <td>2.561167</td>\n",
       "    </tr>\n",
       "  </tbody>\n",
       "</table>\n",
       "</div>"
      ],
      "text/plain": [
       "          1          6         24\n",
       "Year                             \n",
       "1949  20.066   6.688667  2.889250\n",
       "1950  42.926  10.583333  3.714750\n",
       "1951  38.100   9.101667  3.090333\n",
       "1952  30.226   6.773333  1.693333\n",
       "1953  25.908  10.244667  2.561167"
      ]
     },
     "execution_count": 130,
     "metadata": {},
     "output_type": "execute_result"
    }
   ],
   "source": [
    "# Cargar los datos de intensidad\n",
    "intensity = pd.read_excel('RainfallData.xlsx', sheet_name='ChiAnnMax', skiprows=7,\n",
    "                          usecols=[0, 5, 6, 7], index_col='Year')\n",
    "# Convertir datos de pulgadas a mm\n",
    "intensity = intensity * 25.4\n",
    "# Corregir columnas\n",
    "D = np.array([1, 6 , 24]) # duración de la tormenta\n",
    "intensity.columns = D\n",
    "intensity.head()"
   ]
  },
  {
   "cell_type": "markdown",
   "metadata": {},
   "source": [
    "Vamos a generar un gráfico que muestre ordenadas de menor a mayor las series de máxima intensidad de precipitación para las tres duraciones que estamos analizando.\n",
    "\n",
    "En este gráfico se observa que a menor duración, la intensidad es siempre mayor. Además, se intuye una mayor variabilidad (mayor pendiente) de la intensidad a menor duracion."
   ]
  },
  {
   "cell_type": "code",
   "execution_count": 131,
   "metadata": {},
   "outputs": [
    {
     "data": {
      "image/png": "[encoded data removed]",
      "text/plain": [
       "<Figure size 720x432 with 1 Axes>"
      ]
     },
     "metadata": {},
     "output_type": "display_data"
    }
   ],
   "source": [
    "# Configurar el gráfico\n",
    "fig = plt.figure(figsize=(10, 6))\n",
    "plt.title('Series ordenadas de máxima intensidad anual', fontsize=16, weight='bold')\n",
    "plt.xlabel('', fontsize=13)\n",
    "plt.xlim((0, 25))\n",
    "plt.ylabel('intensidad (mm/h)', fontsize=13)\n",
    "plt.ylim((0, 60))\n",
    "\n",
    "# Tres gráficos de dispersión para cada duración de tormenta\n",
    "plt.scatter(range(intensity.shape[0]), intensity.sort_values(1)[1], label='1 h')\n",
    "plt.scatter(range(intensity.shape[0]), intensity.sort_values(6)[6], label='6 h')\n",
    "plt.scatter(range(intensity.shape[0]), intensity.sort_values(24)[24], label='24 h')\n",
    "\n",
    "# Leyenda\n",
    "fig.legend(loc=8, ncol= 3, fontsize=13);"
   ]
  },
  {
   "cell_type": "markdown",
   "metadata": {},
   "source": [
    "### Ajuste de la función GEV a los datos\n",
    "\n",
    "Hemos de ajustar una distribución estadística de extremos a los datos. A partir de este ajuste podremos calcular los periodos de retorno. Utilizaremos la función de distribución **GEV (generalized extreme values)**. La función de distribución GEV sigue, para el caso de variables siempre positivas como la precipitación, la siguiente ecuación:\n",
    "\n",
    "$$F(s,\\xi)=e^{-(1+\\xi s)^{-1/\\xi}}  \\quad \\forall \\xi>0$$\n",
    "$$ s = \\frac{x-\\mu}{\\sigma} \\quad \\sigma>0$$\n",
    "\n",
    "Donde $s$ es la variable de estudio estandarizada a través del parámetro de posición $\\mu$ y el parámetro de escala $\\sigma$, y $\\xi$ es el parámetro de forma. Por tanto, la distribución GEV tiene 3 parámetros. En la siguiente figura se muestra la función de densidad y la función de distribución de extremos del tipo II, la distribución de Frechet, para diversos valores de los parámetros de escala y forma.\n",
    "\n",
    "<img src=\"Frechet.png\" alt=\"Mountain View\" style=\"width:600px\">\n",
    "\n",
    "Para ajustar la función GEV utilizaremos la función `genextreme.fit` del paquete `SciPy.stats` de Python. Esta función devuelve los valores de los 3 parámetros de la GEV (forma, localización y escala) que mejor se ajustan a nuestros datos."
   ]
  },
  {
   "cell_type": "code",
   "execution_count": 132,
   "metadata": {},
   "outputs": [],
   "source": [
    "# Ejemplo\n",
    "# Ajustar la GEV para duración 1 h\n",
    "par_int1h = genextreme.fit(intensity[1])"
   ]
  },
  {
   "cell_type": "code",
   "execution_count": 133,
   "metadata": {},
   "outputs": [
    {
     "name": "stdout",
     "output_type": "stream",
     "text": [
      "Parámetros ajustados para la intensidad en 1 h:\n",
      "xi = 0.2339\n",
      "mu = 31.7407\n",
      "sigma = 10.3977\n"
     ]
    }
   ],
   "source": [
    "print('Parámetros ajustados para la intensidad en 1 h:')\n",
    "print('xi =', round(par_int1h[0], 4))\n",
    "print('mu =', round(par_int1h[1], 4))\n",
    "print('sigma =', round(par_int1h[2], 4))"
   ]
  },
  {
   "cell_type": "markdown",
   "metadata": {},
   "source": [
    "Lo haremos con un bucle para las tres duraciones (1, 6 y 24 h). Los parámetros se guardarán en el data frame *parametros*."
   ]
  },
  {
   "cell_type": "code",
   "execution_count": 139,
   "metadata": {},
   "outputs": [
    {
     "data": {
      "text/html": [
       "<div>\n",
       "<style scoped>\n",
       "    .dataframe tbody tr th:only-of-type {\n",
       "        vertical-align: middle;\n",
       "    }\n",
       "\n",
       "    .dataframe tbody tr th {\n",
       "        vertical-align: top;\n",
       "    }\n",
       "\n",
       "    .dataframe thead th {\n",
       "        text-align: right;\n",
       "    }\n",
       "</style>\n",
       "<table border=\"1\" class=\"dataframe\">\n",
       "  <thead>\n",
       "    <tr style=\"text-align: right;\">\n",
       "      <th></th>\n",
       "      <th>1</th>\n",
       "      <th>6</th>\n",
       "      <th>24</th>\n",
       "    </tr>\n",
       "  </thead>\n",
       "  <tbody>\n",
       "    <tr>\n",
       "      <th>xi</th>\n",
       "      <td>0.233923</td>\n",
       "      <td>-0.396873</td>\n",
       "      <td>-0.235411</td>\n",
       "    </tr>\n",
       "    <tr>\n",
       "      <th>mu</th>\n",
       "      <td>31.740658</td>\n",
       "      <td>8.404498</td>\n",
       "      <td>2.540506</td>\n",
       "    </tr>\n",
       "    <tr>\n",
       "      <th>sigma</th>\n",
       "      <td>10.397701</td>\n",
       "      <td>2.320138</td>\n",
       "      <td>0.836714</td>\n",
       "    </tr>\n",
       "  </tbody>\n",
       "</table>\n",
       "</div>"
      ],
      "text/plain": [
       "              1         6         24\n",
       "xi      0.233923 -0.396873 -0.235411\n",
       "mu     31.740658  8.404498  2.540506\n",
       "sigma  10.397701  2.320138  0.836714"
      ]
     },
     "execution_count": 139,
     "metadata": {},
     "output_type": "execute_result"
    }
   ],
   "source": [
    "# Ajustar los parámetros de las 3 duraciones\n",
    "parametros = pd.DataFrame(index=['xi', 'mu', 'sigma'], columns=D)\n",
    "for duracion in D:\n",
    "    # Ajustar la GEV y guardar los parámetros\n",
    "    parametros[duracion] = genextreme.fit(intensity[duracion])\n",
    "parametros"
   ]
  },
  {
   "cell_type": "markdown",
   "metadata": {},
   "source": [
    "### Curva IDF empírica\n",
    "\n",
    "La **probabilidad de no excedencia** (el valor de la función de distribución) y el **periodo de retorno** de una variable estan relacionados mediante la siguiente ecuación:\n",
    "\n",
    "\\\\[R = \\frac{1}{1-CDF(x)}\\\\]\n",
    "\n",
    "Donde $R$ es el periodo de retorno en años, y $CDF(x)$ (del inglés, cumulative density function) es el valor de la función de distribución (o probabilidad de no excendencia)  del valor de precipitación $x$.\n",
    "\n",
    "A partir de esta expresión se pueden calcular los **cuantiles** de un **periodo de retorno** dado:\n",
    "\n",
    "\\\\[CDF(x) = \\frac{R-1}{R} = 1 - \\frac{1}{R}\\\\]\n",
    "\n",
    "Analizaremos los periodos de retorno de 10, 25, 50 y 100 años. Calculamos los cuantiles ($Q$) correspondientes a estos periodos de retorno de acuerdo a las distribuciones anteriormente ajustadas."
   ]
  },
  {
   "cell_type": "code",
   "execution_count": 140,
   "metadata": {},
   "outputs": [],
   "source": [
    "# Periodos de retorno\n",
    "R = np.array([10, 25, 50, 100], dtype=\"float64\")"
   ]
  },
  {
   "cell_type": "code",
   "execution_count": 141,
   "metadata": {},
   "outputs": [],
   "source": [
    "# Probabilidad de no excedencia\n",
    "Q = 1. - 1. / R"
   ]
  },
  {
   "cell_type": "markdown",
   "metadata": {},
   "source": [
    "Como ejemplo, generamos los valores extremos de la intensidad de una tormenta de 1 h de duración para las probabilidades de no excedencia (Q). Para ello utilizamos la función `genextrem.ppf` (*percent point function*) del paquete `SciPy.stats`."
   ]
  },
  {
   "cell_type": "code",
   "execution_count": 142,
   "metadata": {},
   "outputs": [
    {
     "name": "stdout",
     "output_type": "stream",
     "text": [
      "Intensidad de precipitación en 1 h según periodo de retorno:\n",
      "I(Tr=10) = 49.9 mm/h\n",
      "I(Tr=25) = 55.2 mm/h\n",
      "I(Tr=50) = 58.3 mm/h\n",
      "I(Tr=100) = 61.0 mm/h\n"
     ]
    }
   ],
   "source": [
    "# intensidad de 1 h para los periodos de retorno\n",
    "P1 = genextreme.ppf(Q, *par[1]) # ppf: percent point function\n",
    "\n",
    "print('Intensidad de precipitación en 1 h según periodo de retorno:')\n",
    "for i, Tr in enumerate(R):\n",
    "     print('I(Tr=', int(Tr), ') = ', round(P1[i], 1), ' mm/h', sep='')\n"
   ]
  },
  {
   "cell_type": "markdown",
   "metadata": {},
   "source": [
    "Podemos iterar el cálculo de extremos para cada una de las duraciones y cuantiles, guardando los datos en un *data frame* al que llamaremos *IDF*, el cual podemos graficar."
   ]
  },
  {
   "cell_type": "code",
   "execution_count": 143,
   "metadata": {},
   "outputs": [
    {
     "data": {
      "text/html": [
       "<div>\n",
       "<style scoped>\n",
       "    .dataframe tbody tr th:only-of-type {\n",
       "        vertical-align: middle;\n",
       "    }\n",
       "\n",
       "    .dataframe tbody tr th {\n",
       "        vertical-align: top;\n",
       "    }\n",
       "\n",
       "    .dataframe thead th {\n",
       "        text-align: right;\n",
       "    }\n",
       "</style>\n",
       "<table border=\"1\" class=\"dataframe\">\n",
       "  <thead>\n",
       "    <tr style=\"text-align: right;\">\n",
       "      <th></th>\n",
       "      <th>1</th>\n",
       "      <th>6</th>\n",
       "      <th>24</th>\n",
       "    </tr>\n",
       "  </thead>\n",
       "  <tbody>\n",
       "    <tr>\n",
       "      <th>10.0</th>\n",
       "      <td>49.932830</td>\n",
       "      <td>16.838676</td>\n",
       "      <td>5.023257</td>\n",
       "    </tr>\n",
       "    <tr>\n",
       "      <th>25.0</th>\n",
       "      <td>55.155961</td>\n",
       "      <td>23.363122</td>\n",
       "      <td>6.533005</td>\n",
       "    </tr>\n",
       "    <tr>\n",
       "      <th>50.0</th>\n",
       "      <td>58.347192</td>\n",
       "      <td>30.062678</td>\n",
       "      <td>7.892088</td>\n",
       "    </tr>\n",
       "    <tr>\n",
       "      <th>100.0</th>\n",
       "      <td>61.035854</td>\n",
       "      <td>38.844762</td>\n",
       "      <td>9.483084</td>\n",
       "    </tr>\n",
       "  </tbody>\n",
       "</table>\n",
       "</div>"
      ],
      "text/plain": [
       "              1          6         24\n",
       "10.0   49.932830  16.838676  5.023257\n",
       "25.0   55.155961  23.363122  6.533005\n",
       "50.0   58.347192  30.062678  7.892088\n",
       "100.0  61.035854  38.844762  9.483084"
      ]
     },
     "execution_count": 143,
     "metadata": {},
     "output_type": "execute_result"
    }
   ],
   "source": [
    "# data frame con los valores de la curva IDF\n",
    "IDF = pd.DataFrame(index=R, columns=D)\n",
    "for duracion in D:\n",
    "    IDF[duracion] = genextreme(*parametros[duracion]).ppf(Q)\n",
    "IDF"
   ]
  },
  {
   "cell_type": "markdown",
   "metadata": {},
   "source": [
    "Gráfico de líneas que muestra, para cada periodo de retorno, la intensidad de precipitación en función de la duración de la tormenta. \n",
    "\n",
    "Sólo tenemos los datos para tres duraciones de tormenta, motivo por el que la curva es tan quebrada. Para solventar este problema habría que repetir el cálculo para más duraciones de tormenta, o aplicar las **curvas IDF analíticas**."
   ]
  },
  {
   "cell_type": "code",
   "execution_count": 144,
   "metadata": {},
   "outputs": [
    {
     "data": {
      "image/png": "[encoded data removed]",
      "text/plain": [
       "<Figure size 864x432 with 1 Axes>"
      ]
     },
     "metadata": {},
     "output_type": "display_data"
    }
   ],
   "source": [
    "# configuración del gráfico\n",
    "fig = plt.figure(figsize=(12, 6))\n",
    "plt.title('Curva IDF', fontsize=16, weight='bold')\n",
    "plt.xlabel('duración (h)', fontsize=13)\n",
    "plt.xlim(0, IDF.columns.max() + 1)\n",
    "plt.ylabel('intensidad (mm/h)', fontsize=13)\n",
    "plt.ylim((0, 80))\n",
    "color = ['tan', 'darkkhaki', 'olive', 'darkolivegreen']\n",
    "\n",
    "for i, Tr in enumerate(IDF.index):\n",
    "    plt.plot(IDF.loc[Tr,:], color=color[i], label='Tr = ' + str(int(Tr)) + ' años')\n",
    "\n",
    "fig.legend(loc=8, ncol=4, fontsize=12);"
   ]
  },
  {
   "cell_type": "markdown",
   "metadata": {},
   "source": [
    "### Curva IDF analítica\n",
    "Hasta ahora hemos calculado una serie de puntos de la **curva IDF**, los correspondientes a las tormentas de 1, 6 y 24 h para los periodos de retorno de 10, 25, 50 y 100 años. Aplicando las ecuaciones analíticas de la curva IDF, podemos generar la curva completa.\n",
    "\n",
    "Dos de las formas analíticas de la curva IDF son:\n",
    "\n",
    "\\\\[I = \\frac{a}{(D + c)^b}\\\\]\n",
    "\n",
    "\\\\[I = \\frac{a}{D ^b + c}\\\\]\n",
    "\n",
    "donde \\\\(I\\\\) es la intensidad de preciptiación, \\\\(D\\\\) es la duración de la tormenta, \\\\(a\\\\) es una constante dependiente del periodo de retorno y \\\\(b\\\\) y \\\\(c\\\\) son constantes que dependen de la localización del estudio.\n",
    "\n",
    "Asumiremos que la relación entre $a$ y el periodo de retorno sigue la siguiente función lineal:\n",
    "\n",
    "\\\\[a = d \\cdot R + e\\\\]\n",
    "\n",
    "Crearemos funciones de Python para estas curvas analíticas."
   ]
  },
  {
   "cell_type": "code",
   "execution_count": 145,
   "metadata": {},
   "outputs": [],
   "source": [
    "def IDF_type_I(x, b, c, d, e):\n",
    "    \"\"\"Calcula la intensidad de la precipitación para un periodo de retorno y duración de la tormenta dadas a\n",
    "    partir de la fórmula I = d * R + e / (D + c)**b.    \n",
    "    \n",
    "    Parámetros:\n",
    "    -----------\n",
    "    x:         list [2x1]. Par de valores de periodo de retorno(años) y duración (h)\n",
    "    b:         float. Parámetro de la curva IDF\n",
    "    c:         float. Parámetro de la curva IDF\n",
    "    d:         float. Parámetro de la curva IDF\n",
    "    e:         float. Parámetro de la curva IDF\n",
    "    \n",
    "    Salida:\n",
    "    -------\n",
    "    I:         float. Intensidad de precipitación (mm/h)\"\"\"\n",
    "    \n",
    "    a = d * x[0] + e\n",
    "    I = a / (x[1] + c)**b\n",
    "    return I\n",
    "\n",
    "def IDF_type_II(x, b, c, d, e):\n",
    "    \"\"\"Calcula la intensidad de la precipitación para un periodo de retorno y duración de la tormenta dadas a\n",
    "    partir de la fórmula I = d * R + e / (D**b + c).    \n",
    "    \n",
    "    Parámetros:\n",
    "    -----------\n",
    "    x:         list [2x1]. Par de valores de periodo de retorno(años) y duración (h)\n",
    "    b:         float. Parámetro de la curva IDF\n",
    "    c:         float. Parámetro de la curva IDF\n",
    "    d:         float. Parámetro de la curva IDF\n",
    "    e:         float. Parámetro de la curva IDF\n",
    "    \n",
    "    Salida:\n",
    "    -------\n",
    "    I:         float. Intensidad de precipitación (mm/h)\"\"\"\n",
    "    \n",
    "    a = d * x[0] + e\n",
    "    I = a / (x[1]**b + c)\n",
    "    return I\n",
    "\n",
    "def IDF_type_III(x, b, c, d, e):\n",
    "    \"\"\"Calcula la intensidad de la precipitación para un periodo de retorno y duración de la tormenta dadas a\n",
    "    partir de la fórmula I = d * R**e / (D + c)**b.    \n",
    "    \n",
    "    Parámetros:\n",
    "    -----------\n",
    "    x:         list [2x1]. Par de valores de periodo de retorno(años) y duración (h)\n",
    "    b:         float. Parámetro de la curva IDF\n",
    "    c:         float. Parámetro de la curva IDF\n",
    "    d:         float. Parámetro de la curva IDF\n",
    "    e:         float. Parámetro de la curva IDF\n",
    "    \n",
    "    Salida:\n",
    "    -------\n",
    "    I:         float. Intensidad de precipitación (mm/h)\"\"\"\n",
    "    \n",
    "    a = d * x[0]**e \n",
    "    I = a / (x[1] + c)**b\n",
    "    return I\n",
    "\n",
    "def IDF_type_IV(x, b, c, d, e):\n",
    "    \"\"\"Calcula la intensidad de la precipitación para un periodo de retorno y duración de la tormenta dadas a\n",
    "    partir de la fórmula I = d * R**e / (D**b + c).    \n",
    "    \n",
    "    Parámetros:\n",
    "    -----------\n",
    "    x:         list [2x1]. Par de valores de periodo de retorno(años) y duración (h)\n",
    "    b:         float. Parámetro de la curva IDF\n",
    "    c:         float. Parámetro de la curva IDF\n",
    "    d:         float. Parámetro de la curva IDF\n",
    "    e:         float. Parámetro de la curva IDF\n",
    "    \n",
    "    Salida:\n",
    "    -------\n",
    "    I:         float. Intensidad de precipitación (mm/h)\"\"\"\n",
    "    \n",
    "    a = d * x[0]**e\n",
    "    I = a / (x[1]**b + c)\n",
    "    return I "
   ]
  },
  {
   "cell_type": "markdown",
   "metadata": {},
   "source": [
    "Para ajustar la curva hemos de crear primero una malla de pares de valores de periodo de retorno y duración. Utilizaremos las tres duraciones ('D') y los cuatro periodos de retorno ('R') ya empleados hasta ahora, para los cuales hemos calculado la intensidad de precipitación asociada (data frame 'IDF')."
   ]
  },
  {
   "cell_type": "code",
   "execution_count": 146,
   "metadata": {},
   "outputs": [
    {
     "data": {
      "text/plain": [
       "((3, 4), (3, 4))"
      ]
     },
     "execution_count": 146,
     "metadata": {},
     "output_type": "execute_result"
    }
   ],
   "source": [
    "# malla con todas las posibles combinaciones de periodo de retorno 'R' y duración 'D'\n",
    "(RR, DD) = np.meshgrid(R, D)\n",
    "RR.shape, DD.shape"
   ]
  },
  {
   "cell_type": "code",
   "execution_count": 147,
   "metadata": {},
   "outputs": [
    {
     "data": {
      "text/plain": [
       "((12,), (12,))"
      ]
     },
     "execution_count": 147,
     "metadata": {},
     "output_type": "execute_result"
    }
   ],
   "source": [
    "# convertir 'RR' y 'DD' en un vector unidimensional\n",
    "RR = RR.reshape(-1)\n",
    "DD = DD.reshape(-1)\n",
    "RR.shape, DD.shape"
   ]
  },
  {
   "cell_type": "code",
   "execution_count": 148,
   "metadata": {},
   "outputs": [
    {
     "data": {
      "text/plain": [
       "(2, 12)"
      ]
     },
     "execution_count": 148,
     "metadata": {},
     "output_type": "execute_result"
    }
   ],
   "source": [
    "# unir los vectores 'RR' y 'DD'\n",
    "RD = np.vstack([RR, DD])\n",
    "\n",
    "RD.shape"
   ]
  },
  {
   "cell_type": "code",
   "execution_count": 149,
   "metadata": {},
   "outputs": [
    {
     "data": {
      "text/plain": [
       "(12,)"
      ]
     },
     "execution_count": 149,
     "metadata": {},
     "output_type": "execute_result"
    }
   ],
   "source": [
    "# vector unidimensional a partir de 'IDF'\n",
    "I = np.hstack([IDF[1], IDF[6], IDF[24]])\n",
    "\n",
    "I.shape"
   ]
  },
  {
   "cell_type": "markdown",
   "metadata": {},
   "source": [
    "Para ajustar la curva utilizaremos la función `curve_fit` de `SciPy.optimize`. A esta función hemos de asignarle la función de la curva a ajustar, los valores de entrada (pares retorno-duración) y el valor de la función en esos pares (intensidad). La función devuelve un vector con los parámetros de la curva optimizados y otro vector con las covarianza entre dichos parámetros"
   ]
  },
  {
   "cell_type": "code",
   "execution_count": 150,
   "metadata": {},
   "outputs": [
    {
     "name": "stdout",
     "output_type": "stream",
     "text": [
      "Parámetros optimizados de la curva IDF analítica\n",
      "b = 1.2978\n",
      "c = 8.1883\n",
      "d = 311.246\n",
      "e = 0.1403\n"
     ]
    }
   ],
   "source": [
    "# ajustar la curva\n",
    "curva = IDF_type_IV\n",
    "popt, pcov = curve_fit(curva, RD, I)\n",
    "\n",
    "print('Parámetros optimizados de la curva IDF analítica')\n",
    "for i, par in enumerate(['b', 'c', 'd', 'e']):\n",
    "    print(par, '=', round(popt[i], 4))"
   ]
  },
  {
   "cell_type": "code",
   "execution_count": 151,
   "metadata": {},
   "outputs": [
    {
     "data": {
      "image/png": "[encoded data removed]",
      "text/plain": [
       "<Figure size 864x432 with 1 Axes>"
      ]
     },
     "metadata": {},
     "output_type": "display_data"
    }
   ],
   "source": [
    "fig = plt.figure(figsize=(12, 6))\n",
    "plt.xlim(0, D.max()+1)\n",
    "plt.xlabel('duración (h)', fontsize=13)\n",
    "plt.ylabel('intensidad (mm/h)', fontsize=13)\n",
    "color = ['tan', 'darkkhaki', 'olive', 'darkolivegreen']\n",
    "\n",
    "xx = np.linspace(.25, D.max(), 1000) # valores de duración\n",
    "y = np.zeros((xx.size,)) # vector vacío de valores de intensidad\n",
    "\n",
    "for i, Tr in enumerate(R): # para cada periodo de retorno\n",
    "    for j, d in enumerate(xx): # para cada duración\n",
    "        y[j] = curva((Tr, d), *popt)\n",
    "    # gráfico de línea\n",
    "    plt.plot(xx, y, color=color[i], label='Tr = ' + str(int(Tr)) + ' años')\n",
    "    # gráfico de dispersión\n",
    "    plt.scatter(D, IDF.loc[Tr], s=8, marker='o', c=color[i], label=None)\n",
    "\n",
    "fig.legend(loc=8, ncol=4, fontsize=12);"
   ]
  }
 ],
 "metadata": {
  "anaconda-cloud": {},
  "kernelspec": {
   "display_name": "Python 3",
   "language": "python",
   "name": "python3"
  },
  "language_info": {
   "codemirror_mode": {
    "name": "ipython",
    "version": 3
   },
   "file_extension": ".py",
   "mimetype": "text/x-python",
   "name": "python",
   "nbconvert_exporter": "python",
   "pygments_lexer": "ipython3",
   "version": "3.7.3"
  },
  "varInspector": {
   "cols": {
    "lenName": 16,
    "lenType": 16,
    "lenVar": 40
   },
   "kernels_config": {
    "python": {
     "delete_cmd_postfix": "",
     "delete_cmd_prefix": "del ",
     "library": "var_list.py",
     "varRefreshCmd": "print(var_dic_list())"
    },
    "r": {
     "delete_cmd_postfix": ") ",
     "delete_cmd_prefix": "rm(",
     "library": "var_list.r",
     "varRefreshCmd": "cat(var_dic_list()) "
    }
   },
   "position": {
    "height": "255px",
    "left": "634px",
    "right": "20px",
    "top": "118px",
    "width": "350px"
   },
   "types_to_exclude": [
    "module",
    "function",
    "builtin_function_or_method",
    "instance",
    "_Feature"
   ],
   "window_display": false
  }
 },
 "nbformat": 4,
 "nbformat_minor": 4
}
