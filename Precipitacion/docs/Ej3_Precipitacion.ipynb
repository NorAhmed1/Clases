{
 "cells": [
  {
   "cell_type": "markdown",
   "metadata": {},
   "source": [
    "# Ejercicios de precipitación\n",
    "\n",
    "## <font color=steelblue>Ejercicio 3 - Curvas de doble masa<br>\n",
    "\n",
    "<font color=steelblue>Realiza un análisis mediante la curva de doble masa con los datos proporcionados en la tabla *Exercise_003* del archivo *RainfallData.xlsx*.</font>"
   ]
  },
  {
   "cell_type": "code",
   "execution_count": 3,
   "metadata": {},
   "outputs": [],
   "source": [
    "import numpy as np\n",
    "\n",
    "import pandas as pd\n",
    "\n",
    "import matplotlib.pyplot as plt\n",
    "%matplotlib inline\n",
    "plt.style.use('dark_background')\n",
    "#plt.style.use('seaborn-whitegrid')\n",
    "\n",
    "from scipy.optimize import curve_fit"
   ]
  },
  {
   "cell_type": "code",
   "execution_count": 4,
   "metadata": {},
   "outputs": [
    {
     "data": {
      "text/html": [
       "<div>\n",
       "<style scoped>\n",
       "    .dataframe tbody tr th:only-of-type {\n",
       "        vertical-align: middle;\n",
       "    }\n",
       "\n",
       "    .dataframe tbody tr th {\n",
       "        vertical-align: top;\n",
       "    }\n",
       "\n",
       "    .dataframe thead th {\n",
       "        text-align: right;\n",
       "    }\n",
       "</style>\n",
       "<table border=\"1\" class=\"dataframe\">\n",
       "  <thead>\n",
       "    <tr style=\"text-align: right;\">\n",
       "      <th></th>\n",
       "      <th>A</th>\n",
       "      <th>B</th>\n",
       "      <th>C</th>\n",
       "      <th>D</th>\n",
       "      <th>E</th>\n",
       "      <th>AVG</th>\n",
       "    </tr>\n",
       "    <tr>\n",
       "      <th>Year</th>\n",
       "      <th></th>\n",
       "      <th></th>\n",
       "      <th></th>\n",
       "      <th></th>\n",
       "      <th></th>\n",
       "      <th></th>\n",
       "    </tr>\n",
       "  </thead>\n",
       "  <tbody>\n",
       "    <tr>\n",
       "      <th>1926</th>\n",
       "      <td>39.75</td>\n",
       "      <td>45.70</td>\n",
       "      <td>30.69</td>\n",
       "      <td>37.36</td>\n",
       "      <td>32.85</td>\n",
       "      <td>37.270</td>\n",
       "    </tr>\n",
       "    <tr>\n",
       "      <th>1927</th>\n",
       "      <td>39.57</td>\n",
       "      <td>38.52</td>\n",
       "      <td>40.99</td>\n",
       "      <td>30.87</td>\n",
       "      <td>28.08</td>\n",
       "      <td>35.606</td>\n",
       "    </tr>\n",
       "    <tr>\n",
       "      <th>1928</th>\n",
       "      <td>42.01</td>\n",
       "      <td>48.26</td>\n",
       "      <td>40.44</td>\n",
       "      <td>42.00</td>\n",
       "      <td>33.51</td>\n",
       "      <td>41.244</td>\n",
       "    </tr>\n",
       "    <tr>\n",
       "      <th>1929</th>\n",
       "      <td>41.39</td>\n",
       "      <td>34.64</td>\n",
       "      <td>32.49</td>\n",
       "      <td>39.92</td>\n",
       "      <td>29.58</td>\n",
       "      <td>35.604</td>\n",
       "    </tr>\n",
       "    <tr>\n",
       "      <th>1930</th>\n",
       "      <td>31.55</td>\n",
       "      <td>45.13</td>\n",
       "      <td>36.72</td>\n",
       "      <td>36.32</td>\n",
       "      <td>23.76</td>\n",
       "      <td>34.696</td>\n",
       "    </tr>\n",
       "  </tbody>\n",
       "</table>\n",
       "</div>"
      ],
      "text/plain": [
       "          A      B      C      D      E     AVG\n",
       "Year                                           \n",
       "1926  39.75  45.70  30.69  37.36  32.85  37.270\n",
       "1927  39.57  38.52  40.99  30.87  28.08  35.606\n",
       "1928  42.01  48.26  40.44  42.00  33.51  41.244\n",
       "1929  41.39  34.64  32.49  39.92  29.58  35.604\n",
       "1930  31.55  45.13  36.72  36.32  23.76  34.696"
      ]
     },
     "execution_count": 4,
     "metadata": {},
     "output_type": "execute_result"
    }
   ],
   "source": [
    "# Importar los datos\n",
    "data3 = pd.read_excel('../data/RainfallData.xlsx', sheet_name='Exercise_003',\n",
    "                      skiprows=0, index_col=0)\n",
    "\n",
    "# Calcular la media anual entre todas las estaciones\n",
    "data3['AVG'] = data3.mean(axis=1)\n",
    "\n",
    "# Serie de precipitación acumulada\n",
    "accData3 = data3.cumsum()\n",
    "\n",
    "data3.head()"
   ]
  },
  {
   "cell_type": "code",
   "execution_count": 6,
   "metadata": {},
   "outputs": [],
   "source": [
    "def linear_reg(x, b):\n",
    "    \"\"\"Linear regression with no intecept\n",
    "    \n",
    "    y = b * x   \n",
    "    \n",
    "    Input:\n",
    "    ------\n",
    "    x:         float. Independet value\n",
    "    b:         float. Slope of the linear regression\n",
    "    \n",
    "    Output:\n",
    "    -------\n",
    "    y:         float. Regressed value\"\"\"\n",
    "    \n",
    "    y = b * x\n",
    "    return y"
   ]
  },
  {
   "cell_type": "code",
   "execution_count": 8,
   "metadata": {},
   "outputs": [
    {
     "name": "stdout",
     "output_type": "stream",
     "text": [
      "Estación A\n",
      "\n",
      "Estación B\n",
      "Potencial anomalía: año 1930\n",
      "Potencial anomalía: año 1931\n",
      "Potencial anomalía: año 1935\n",
      "Potencial anomalía: año 1936\n",
      "Potencial anomalía: año 1937\n",
      "Potencial anomalía: año 1938\n",
      "\n",
      "Estación C\n",
      "\n",
      "Estación D\n",
      "\n",
      "Estación E\n",
      "Potencial anomalía: año 1930\n",
      "Potencial anomalía: año 1931\n",
      "Potencial anomalía: año 1932\n",
      "Potencial anomalía: año 1933\n",
      "Potencial anomalía: año 1934\n",
      "\n"
     ]
    },
    {
     "data": {
      "image/png": "[encoded data removed]",
      "text/plain": [
       "<Figure size 864x576 with 6 Axes>"
      ]
     },
     "metadata": {
      "needs_background": "dark"
     },
     "output_type": "display_data"
    }
   ],
   "source": [
    "fig, ax = plt.subplots(2, 3, figsize=(12,8))\n",
    "fig.text(0.5, 1.02, 'Gráficos de doble masa de precipitación anual', \n",
    "         horizontalalignment='center', fontsize=16, weight='bold')\n",
    "ax[1, 2].axis(\"off\")\n",
    "lim = 800\n",
    "thr = 0.1 # umbral para definir anomalías\n",
    "\n",
    "for idx, gage in enumerate([\"A\", \"B\", \"C\", \"D\", \"E\"]):\n",
    "    print('Estación', gage)\n",
    "    # Definir la posición del gráfico\n",
    "    (ii, jj) = np.unravel_index(idx, (2, 3))\n",
    "    # Configurar\n",
    "    ax[ii, jj].set(xlim=(0, lim), ylim=(0, lim))\n",
    "    ax[ii, jj].set_xlabel('estación ' + gage, fontsize=13)\n",
    "    ax[ii, jj].set_ylabel('media de las estaciones', fontsize=13)\n",
    "    \n",
    "    # Recta de pendiente 1\n",
    "    b = curve_fit(linear_reg, accData3.AVG, accData3[gage])[0][0]\n",
    "    ax[ii, jj].plot([0, lim], [0, b * lim], 'r--', linewidth=1)\n",
    "    \n",
    "    # Gráfico de dispersión\n",
    "    ax[ii, jj].plot(accData3.AVG, accData3[gage], 'o')\n",
    "    \n",
    "    # label one every five years\n",
    "    years = accData3.index[::5]\n",
    "    xyear = [accData3.loc[year, 'AVG'] + 20 for year in years]\n",
    "    yyear = [accData3.loc[year, gage] for year in years] \n",
    "    for i, year in enumerate(years):\n",
    "        ax[ii, jj].text(xyear[i], yyear[i], year,\n",
    "                        verticalalignment='center')\n",
    "                        \n",
    "    # identificar estaciones y años con anomalía\n",
    "    for j, year in enumerate(accData3.index[4:-4]):\n",
    "        # pendiente de la regresión lineal hasta j\n",
    "        p1 = np.polyfit(accData3.loc[:year, 'AVG'],\n",
    "                        accData3.loc[:year, gage], 1)\n",
    "        # pendiente de la regresión linean desde j+1\n",
    "        p2 = np.polyfit(accData3.loc[year + 1:, 'AVG'],\n",
    "                        accData3.loc[year + 1:, gage], 1)\n",
    "        # hay anomalía si el cambio de la pendiente es notable\n",
    "        if (p1[0] / p2[0] < 1 - thr) | (p1[0] / p2[0] > 1 + thr):\n",
    "            print(\"Potencial anomalía: año {0}\".format(year))\n",
    "    print()\n",
    "    \n",
    "plt.tight_layout()"
   ]
  },
  {
   "cell_type": "markdown",
   "metadata": {},
   "source": [
    "Dos pluviómetros muestran inconsistencias: el pluviómetro B dos cambios de pendiente en 1930 y 1935,  y el pluviómetro E en el año 1930.\n",
    "\n",
    "**Corregir pluviómetro B**"
   ]
  },
  {
   "cell_type": "code",
   "execution_count": 9,
   "metadata": {},
   "outputs": [
    {
     "data": {
      "text/plain": [
       "1.1440964837032106"
      ]
     },
     "execution_count": 9,
     "metadata": {},
     "output_type": "execute_result"
    }
   ],
   "source": [
    "# pendiente antes de 1930\n",
    "# -----------------------\n",
    "b1 = curve_fit(linear_reg, accData3.loc[:1930, 'AVG'],\n",
    "               accData3.loc[:1930, 'B'])[0][0]\n",
    "b1"
   ]
  },
  {
   "cell_type": "code",
   "execution_count": 10,
   "metadata": {},
   "outputs": [
    {
     "data": {
      "text/plain": [
       "0.9842422849741361"
      ]
     },
     "execution_count": 10,
     "metadata": {},
     "output_type": "execute_result"
    }
   ],
   "source": [
    "# pendiente de 1931 a 1935\n",
    "# ------------------------\n",
    "temp = data3.loc[1931:1935, :]\n",
    "accTemp = temp.cumsum(axis=0)\n",
    "b2 = curve_fit(linear_reg, accTemp.loc[:, 'AVG'],\n",
    "               accTemp.loc[:, 'B'])[0][0]\n",
    "del temp, accTemp\n",
    "b2"
   ]
  },
  {
   "cell_type": "code",
   "execution_count": 11,
   "metadata": {},
   "outputs": [
    {
     "data": {
      "text/plain": [
       "0.9722932050016689"
      ]
     },
     "execution_count": 11,
     "metadata": {},
     "output_type": "execute_result"
    }
   ],
   "source": [
    "# pendiente a partir de 1936\n",
    "# --------------------------\n",
    "temp = data3.loc[1936:, :]\n",
    "accTemp = temp.cumsum(axis=0)\n",
    "b3 = curve_fit(linear_reg, accTemp.loc[:, 'AVG'],\n",
    "               accTemp.loc[1:, 'B'])[0][0]\n",
    "del temp, accTemp\n",
    "b3"
   ]
  },
  {
   "cell_type": "markdown",
   "metadata": {},
   "source": [
    "Puesto que la pendiente en el segundo y tercer periodo es similar, asumimos que el periodo incorrecto es hasta 1930."
   ]
  },
  {
   "cell_type": "code",
   "execution_count": 12,
   "metadata": {},
   "outputs": [
    {
     "data": {
      "text/plain": [
       "0.9937661079160598"
      ]
     },
     "execution_count": 12,
     "metadata": {},
     "output_type": "execute_result"
    }
   ],
   "source": [
    "# pendiente desde 1931\n",
    "# --------------------\n",
    "temp = data3.loc[1931:, :]\n",
    "accTemp = temp.cumsum(axis=0)\n",
    "b_ok = curve_fit(linear_reg, accTemp.loc[:, 'AVG'],\n",
    "                 accTemp.loc[:, 'B'])[0][0]\n",
    "del temp, accTemp\n",
    "b_ok"
   ]
  },
  {
   "cell_type": "code",
   "execution_count": 13,
   "metadata": {},
   "outputs": [],
   "source": [
    "# corregir la serie hasta 1930\n",
    "# ----------------------------\n",
    "data3['B_c'] = data3.B.copy()\n",
    "data3.loc[:1930, 'B_c'] = data3.loc[:1930, 'B'] * b_ok / b1\n",
    "# accumulate corrected data\n",
    "accData3 = data3.cumsum(axis=0)"
   ]
  },
  {
   "cell_type": "code",
   "execution_count": 15,
   "metadata": {},
   "outputs": [
    {
     "data": {
      "image/png": "[encoded data removed]",
      "text/plain": [
       "<Figure size 360x360 with 1 Axes>"
      ]
     },
     "metadata": {
      "needs_background": "dark"
     },
     "output_type": "display_data"
    }
   ],
   "source": [
    "# Gráfico serie corregida vs original\n",
    "# -----------------------------------\n",
    "fig, ax = plt.subplots(figsize=(5,5))\n",
    "# setup\n",
    "ax.set(xlim=(0, lim), ylim=(0, lim))\n",
    "ax.set_xlabel('media estaciones', fontsize=13)\n",
    "ax.set_ylabel('estación B', fontsize=13)\n",
    "\n",
    "b = curve_fit(linear_reg, accData3.AVG, accData3.B_c)[0][0]\n",
    "ax.plot([0, lim], [0, b * lim], '--r', linewidth=1)\n",
    "\n",
    "ax.scatter(accData3.AVG, accData3.B, label='original')\n",
    "ax.scatter(accData3.AVG, accData3.B_c, marker='x', label='corregido')\n",
    "\n",
    "ax.legend(loc=4, fontsize=13);"
   ]
  },
  {
   "cell_type": "markdown",
   "metadata": {},
   "source": [
    "**Corregir estación E**<br>\n",
    "Asumimos que la serie correcta es a partir de 1931 en adelante."
   ]
  },
  {
   "cell_type": "code",
   "execution_count": 16,
   "metadata": {},
   "outputs": [
    {
     "data": {
      "text/plain": [
       "0.8176415003641067"
      ]
     },
     "execution_count": 16,
     "metadata": {},
     "output_type": "execute_result"
    }
   ],
   "source": [
    "# pendiente hasta 1930\n",
    "# --------------------\n",
    "b_wrong = curve_fit(linear_reg, accData3.loc[:1930, 'AVG'],\n",
    "                    accData3.loc[:1930, 'E'])[0][0]\n",
    "b_wrong"
   ]
  },
  {
   "cell_type": "code",
   "execution_count": 17,
   "metadata": {},
   "outputs": [
    {
     "data": {
      "text/plain": [
       "1.0478300389771686"
      ]
     },
     "execution_count": 17,
     "metadata": {},
     "output_type": "execute_result"
    }
   ],
   "source": [
    "# pendiente desde 1931\n",
    "# --------------------\n",
    "temp = data3.loc[1931:, :]     # extract raw data\n",
    "accTemp = temp.cumsum(axis=0) # accumulate series\n",
    "b_ok = curve_fit(linear_reg, accTemp.AVG, accTemp.E)[0][0]\n",
    "del temp, accTemp\n",
    "b_ok"
   ]
  },
  {
   "cell_type": "code",
   "execution_count": 18,
   "metadata": {},
   "outputs": [],
   "source": [
    "# corregir series hasta 1930\n",
    "# --------------------------\n",
    "data3['E_c'] = data3.E\n",
    "data3.loc[:1930, 'E_c'] = data3.loc[:1930, 'E'] * b_ok / b_wrong\n",
    "# accumulate corrected data\n",
    "accData3 = data3.cumsum(axis=0)"
   ]
  },
  {
   "cell_type": "code",
   "execution_count": 20,
   "metadata": {},
   "outputs": [
    {
     "data": {
      "image/png": "[encoded data removed]",
      "text/plain": [
       "<Figure size 360x360 with 1 Axes>"
      ]
     },
     "metadata": {
      "needs_background": "dark"
     },
     "output_type": "display_data"
    }
   ],
   "source": [
    "# Plot corrected vs original values\n",
    "# ---------------------------------\n",
    "fig, ax = plt.subplots(figsize=(5,5))\n",
    "# setup\n",
    "ax.set(xlim=(0, lim), ylim=(0, lim))\n",
    "ax.set_xlabel('media estaciones', fontsize=13)\n",
    "ax.set_ylabel('estación E', fontsize=13)\n",
    "\n",
    "b = curve_fit(linear_reg, accData3.AVG, accData3.E_c)[0][0]\n",
    "ax.plot([0, lim], [0, b * lim], '--r', linewidth=1)\n",
    "\n",
    "ax.scatter(accData3.AVG, accData3.E, label='original')\n",
    "ax.scatter(accData3.AVG, accData3.E_c, marker='x', label='corregido')\n",
    "\n",
    "ax.legend(loc=4, fontsize=13);"
   ]
  },
  {
   "cell_type": "code",
   "execution_count": null,
   "metadata": {},
   "outputs": [],
   "source": []
  }
 ],
 "metadata": {
  "anaconda-cloud": {},
  "kernelspec": {
   "display_name": "Python 3",
   "language": "python",
   "name": "python3"
  },
  "language_info": {
   "codemirror_mode": {
    "name": "ipython",
    "version": 3
   },
   "file_extension": ".py",
   "mimetype": "text/x-python",
   "name": "python",
   "nbconvert_exporter": "python",
   "pygments_lexer": "ipython3",
   "version": "3.7.3"
  },
  "varInspector": {
   "cols": {
    "lenName": 16,
    "lenType": 16,
    "lenVar": 40
   },
   "kernels_config": {
    "python": {
     "delete_cmd_postfix": "",
     "delete_cmd_prefix": "del ",
     "library": "var_list.py",
     "varRefreshCmd": "print(var_dic_list())"
    },
    "r": {
     "delete_cmd_postfix": ") ",
     "delete_cmd_prefix": "rm(",
     "library": "var_list.r",
     "varRefreshCmd": "cat(var_dic_list()) "
    }
   },
   "position": {
    "height": "255px",
    "left": "634px",
    "right": "20px",
    "top": "118px",
    "width": "350px"
   },
   "types_to_exclude": [
    "module",
    "function",
    "builtin_function_or_method",
    "instance",
    "_Feature"
   ],
   "window_display": false
  }
 },
 "nbformat": 4,
 "nbformat_minor": 4
}
