{
 "cells": [
  {
   "cell_type": "markdown",
   "metadata": {},
   "source": [
    "# Precipitation exercises\n",
    "***\n",
    "\n",
    "## <font color=steelblue>Exercise 2 - Double-mass curve<br>\n",
    "\n",
    "<font color=steelblue>The table *2MassCurve* in the file *RainfallData.xlsx* provides annual precipitation measured over a 17-year period at five gages in a region. Gage C was moved at the end of 1977. Carry out a double-mass curve analysis to check for consistency in the record of that gage C, and make appropriate adjustments to correct for any inconsistencies.</font>"
   ]
  },
  {
   "cell_type": "code",
   "execution_count": 1,
   "metadata": {},
   "outputs": [],
   "source": [
    "import numpy as np\n",
    "\n",
    "import pandas as pd\n",
    "\n",
    "import matplotlib.pyplot as plt\n",
    "import seaborn as sns\n",
    "sns.set()\n",
    "sns.set_context('notebook')"
   ]
  },
  {
   "cell_type": "markdown",
   "metadata": {},
   "source": [
    "## Introduction\n",
    "A **double mass curve** is a plot of the cumulative data of one variable against the cumulative data of another variable (or against the average cumulative values of the same variable in different locations) during the same period.\n",
    "    \n",
    "<img src=\"img/Double mass curve.JPG\" alt=\"Mountain View\" style=\"width:450px\">\n",
    "\n",
    "> <font color=grey>Double-mass curve of precipitation data. *[(Double-Mass Curves. USGS, 1960)](https://pubs.usgs.gov/wsp/1541b/report.pdf)*.</font>\n",
    "    \n",
    "If no change occurred during the period, the plot must be a straight line in which slope is the constant of proportionality between series. A break in the slope means that a change in the constant of proportionality.\n",
    "\n",
    "The double-mass curve, when applied to precipitation, adopts the form $Y=m \\cdot X$, where $b$ is the slope. This form implies that the line should not have an intercept."
   ]
  },
  {
   "cell_type": "markdown",
   "metadata": {},
   "source": [
    "### Import data"
   ]
  },
  {
   "cell_type": "code",
   "execution_count": 2,
   "metadata": {},
   "outputs": [
    {
     "data": {
      "text/html": [
       "<div>\n",
       "<style scoped>\n",
       "    .dataframe tbody tr th:only-of-type {\n",
       "        vertical-align: middle;\n",
       "    }\n",
       "\n",
       "    .dataframe tbody tr th {\n",
       "        vertical-align: top;\n",
       "    }\n",
       "\n",
       "    .dataframe thead th {\n",
       "        text-align: right;\n",
       "    }\n",
       "</style>\n",
       "<table border=\"1\" class=\"dataframe\">\n",
       "  <thead>\n",
       "    <tr style=\"text-align: right;\">\n",
       "      <th></th>\n",
       "      <th>A</th>\n",
       "      <th>B</th>\n",
       "      <th>C</th>\n",
       "      <th>D</th>\n",
       "      <th>E</th>\n",
       "    </tr>\n",
       "  </thead>\n",
       "  <tbody>\n",
       "    <tr>\n",
       "      <th>count</th>\n",
       "      <td>17.000000</td>\n",
       "      <td>17.000000</td>\n",
       "      <td>17.000000</td>\n",
       "      <td>17.000000</td>\n",
       "      <td>17.000000</td>\n",
       "    </tr>\n",
       "    <tr>\n",
       "      <th>mean</th>\n",
       "      <td>1094.588235</td>\n",
       "      <td>1059.058824</td>\n",
       "      <td>974.529412</td>\n",
       "      <td>972.117647</td>\n",
       "      <td>1093.058824</td>\n",
       "    </tr>\n",
       "    <tr>\n",
       "      <th>std</th>\n",
       "      <td>154.527125</td>\n",
       "      <td>161.344922</td>\n",
       "      <td>214.418142</td>\n",
       "      <td>154.720669</td>\n",
       "      <td>185.289460</td>\n",
       "    </tr>\n",
       "    <tr>\n",
       "      <th>min</th>\n",
       "      <td>801.000000</td>\n",
       "      <td>751.000000</td>\n",
       "      <td>710.000000</td>\n",
       "      <td>683.000000</td>\n",
       "      <td>771.000000</td>\n",
       "    </tr>\n",
       "    <tr>\n",
       "      <th>25%</th>\n",
       "      <td>1010.000000</td>\n",
       "      <td>978.000000</td>\n",
       "      <td>825.000000</td>\n",
       "      <td>875.000000</td>\n",
       "      <td>967.000000</td>\n",
       "    </tr>\n",
       "    <tr>\n",
       "      <th>50%</th>\n",
       "      <td>1140.000000</td>\n",
       "      <td>1056.000000</td>\n",
       "      <td>933.000000</td>\n",
       "      <td>981.000000</td>\n",
       "      <td>1135.000000</td>\n",
       "    </tr>\n",
       "    <tr>\n",
       "      <th>75%</th>\n",
       "      <td>1170.000000</td>\n",
       "      <td>1161.000000</td>\n",
       "      <td>1058.000000</td>\n",
       "      <td>1056.000000</td>\n",
       "      <td>1190.000000</td>\n",
       "    </tr>\n",
       "    <tr>\n",
       "      <th>max</th>\n",
       "      <td>1411.000000</td>\n",
       "      <td>1353.000000</td>\n",
       "      <td>1584.000000</td>\n",
       "      <td>1286.000000</td>\n",
       "      <td>1483.000000</td>\n",
       "    </tr>\n",
       "  </tbody>\n",
       "</table>\n",
       "</div>"
      ],
      "text/plain": [
       "                 A            B            C            D            E\n",
       "count    17.000000    17.000000    17.000000    17.000000    17.000000\n",
       "mean   1094.588235  1059.058824   974.529412   972.117647  1093.058824\n",
       "std     154.527125   161.344922   214.418142   154.720669   185.289460\n",
       "min     801.000000   751.000000   710.000000   683.000000   771.000000\n",
       "25%    1010.000000   978.000000   825.000000   875.000000   967.000000\n",
       "50%    1140.000000  1056.000000   933.000000   981.000000  1135.000000\n",
       "75%    1170.000000  1161.000000  1058.000000  1056.000000  1190.000000\n",
       "max    1411.000000  1353.000000  1584.000000  1286.000000  1483.000000"
      ]
     },
     "execution_count": 2,
     "metadata": {},
     "output_type": "execute_result"
    }
   ],
   "source": [
    "# import data from sheet '2MassCurve' in file 'RainfallData.xlxs'\n",
    "data2 = pd.read_excel('..\\data\\RainfallData.xlsx', sheet_name='2MassCurve',\n",
    "                      skiprows=4,\n",
    "             index_col=0, usecols=range(6))\n",
    "data2.describe()"
   ]
  },
  {
   "cell_type": "markdown",
   "metadata": {},
   "source": [
    "### The double-mass curve"
   ]
  },
  {
   "cell_type": "code",
   "execution_count": 3,
   "metadata": {},
   "outputs": [
    {
     "data": {
      "text/html": [
       "<div>\n",
       "<style scoped>\n",
       "    .dataframe tbody tr th:only-of-type {\n",
       "        vertical-align: middle;\n",
       "    }\n",
       "\n",
       "    .dataframe tbody tr th {\n",
       "        vertical-align: top;\n",
       "    }\n",
       "\n",
       "    .dataframe thead th {\n",
       "        text-align: right;\n",
       "    }\n",
       "</style>\n",
       "<table border=\"1\" class=\"dataframe\">\n",
       "  <thead>\n",
       "    <tr style=\"text-align: right;\">\n",
       "      <th></th>\n",
       "      <th>A</th>\n",
       "      <th>B</th>\n",
       "      <th>C</th>\n",
       "      <th>D</th>\n",
       "      <th>E</th>\n",
       "      <th>AVG</th>\n",
       "    </tr>\n",
       "    <tr>\n",
       "      <th>Year</th>\n",
       "      <th></th>\n",
       "      <th></th>\n",
       "      <th></th>\n",
       "      <th></th>\n",
       "      <th></th>\n",
       "      <th></th>\n",
       "    </tr>\n",
       "  </thead>\n",
       "  <tbody>\n",
       "    <tr>\n",
       "      <th>1970</th>\n",
       "      <td>1010</td>\n",
       "      <td>1161</td>\n",
       "      <td>780</td>\n",
       "      <td>949</td>\n",
       "      <td>1135</td>\n",
       "      <td>1007.0</td>\n",
       "    </tr>\n",
       "    <tr>\n",
       "      <th>1971</th>\n",
       "      <td>1005</td>\n",
       "      <td>978</td>\n",
       "      <td>1041</td>\n",
       "      <td>784</td>\n",
       "      <td>970</td>\n",
       "      <td>955.6</td>\n",
       "    </tr>\n",
       "    <tr>\n",
       "      <th>1972</th>\n",
       "      <td>1067</td>\n",
       "      <td>1226</td>\n",
       "      <td>1027</td>\n",
       "      <td>1067</td>\n",
       "      <td>1158</td>\n",
       "      <td>1109.0</td>\n",
       "    </tr>\n",
       "    <tr>\n",
       "      <th>1973</th>\n",
       "      <td>1051</td>\n",
       "      <td>880</td>\n",
       "      <td>825</td>\n",
       "      <td>1014</td>\n",
       "      <td>1022</td>\n",
       "      <td>958.4</td>\n",
       "    </tr>\n",
       "    <tr>\n",
       "      <th>1974</th>\n",
       "      <td>801</td>\n",
       "      <td>1146</td>\n",
       "      <td>933</td>\n",
       "      <td>923</td>\n",
       "      <td>821</td>\n",
       "      <td>924.8</td>\n",
       "    </tr>\n",
       "  </tbody>\n",
       "</table>\n",
       "</div>"
      ],
      "text/plain": [
       "         A     B     C     D     E     AVG\n",
       "Year                                      \n",
       "1970  1010  1161   780   949  1135  1007.0\n",
       "1971  1005   978  1041   784   970   955.6\n",
       "1972  1067  1226  1027  1067  1158  1109.0\n",
       "1973  1051   880   825  1014  1022   958.4\n",
       "1974   801  1146   933   923   821   924.8"
      ]
     },
     "execution_count": 3,
     "metadata": {},
     "output_type": "execute_result"
    }
   ],
   "source": [
    "# compute annual average across all gages\n",
    "data2['AVG'] = data2.mean(axis=1)\n",
    "data2.head()"
   ]
  },
  {
   "cell_type": "markdown",
   "metadata": {},
   "source": [
    "__Visualize the data__<br>\n",
    "We will create first a scatter plot comparing the annual series of precipitation in gage C against the average across gages. "
   ]
  },
  {
   "cell_type": "code",
   "execution_count": 4,
   "metadata": {},
   "outputs": [
    {
     "data": {
      "image/png": "[encoded data removed]",
      "text/plain": [
       "<Figure size 360x360 with 1 Axes>"
      ]
     },
     "metadata": {
      "needs_background": "light"
     },
     "output_type": "display_data"
    }
   ],
   "source": [
    "# scatter plot of annual precipitation\n",
    "plt.figure(figsize=(5, 5))\n",
    "plt.axis('equal')\n",
    "plt.scatter(data2.AVG, data2.C)\n",
    "plt.xlabel('average across gages')\n",
    "plt.ylabel('gage C');"
   ]
  },
  {
   "cell_type": "markdown",
   "metadata": {},
   "source": [
    "This type of plot has a large dispersion, so it isn't convenient to spot anomalies. We can neither see trends nor the year with possible errors in the data set.\n",
    "\n",
    "Instead, we will plot a __double mass curve__. This plot  is created from the series of __accumulated precipitation__. This way, the plot must have always a positive and continues trend, allowing us to identity anomalies in the precipitation records."
   ]
  },
  {
   "cell_type": "markdown",
   "metadata": {},
   "source": [
    "The function `cumsum` in `NumPy` calculates the accumulated series from a series of data. For instance:"
   ]
  },
  {
   "cell_type": "code",
   "execution_count": 5,
   "metadata": {},
   "outputs": [
    {
     "data": {
      "text/html": [
       "<div>\n",
       "<style scoped>\n",
       "    .dataframe tbody tr th:only-of-type {\n",
       "        vertical-align: middle;\n",
       "    }\n",
       "\n",
       "    .dataframe tbody tr th {\n",
       "        vertical-align: top;\n",
       "    }\n",
       "\n",
       "    .dataframe thead th {\n",
       "        text-align: right;\n",
       "    }\n",
       "</style>\n",
       "<table border=\"1\" class=\"dataframe\">\n",
       "  <thead>\n",
       "    <tr style=\"text-align: right;\">\n",
       "      <th></th>\n",
       "      <th>A</th>\n",
       "      <th>B</th>\n",
       "      <th>C</th>\n",
       "      <th>D</th>\n",
       "      <th>E</th>\n",
       "      <th>AVG</th>\n",
       "    </tr>\n",
       "    <tr>\n",
       "      <th>Year</th>\n",
       "      <th></th>\n",
       "      <th></th>\n",
       "      <th></th>\n",
       "      <th></th>\n",
       "      <th></th>\n",
       "      <th></th>\n",
       "    </tr>\n",
       "  </thead>\n",
       "  <tbody>\n",
       "    <tr>\n",
       "      <th>1970</th>\n",
       "      <td>1010.0</td>\n",
       "      <td>1161.0</td>\n",
       "      <td>780.0</td>\n",
       "      <td>949.0</td>\n",
       "      <td>1135.0</td>\n",
       "      <td>1007.0</td>\n",
       "    </tr>\n",
       "    <tr>\n",
       "      <th>1971</th>\n",
       "      <td>2015.0</td>\n",
       "      <td>2139.0</td>\n",
       "      <td>1821.0</td>\n",
       "      <td>1733.0</td>\n",
       "      <td>2105.0</td>\n",
       "      <td>1962.6</td>\n",
       "    </tr>\n",
       "    <tr>\n",
       "      <th>1972</th>\n",
       "      <td>3082.0</td>\n",
       "      <td>3365.0</td>\n",
       "      <td>2848.0</td>\n",
       "      <td>2800.0</td>\n",
       "      <td>3263.0</td>\n",
       "      <td>3071.6</td>\n",
       "    </tr>\n",
       "    <tr>\n",
       "      <th>1973</th>\n",
       "      <td>4133.0</td>\n",
       "      <td>4245.0</td>\n",
       "      <td>3673.0</td>\n",
       "      <td>3814.0</td>\n",
       "      <td>4285.0</td>\n",
       "      <td>4030.0</td>\n",
       "    </tr>\n",
       "    <tr>\n",
       "      <th>1974</th>\n",
       "      <td>4934.0</td>\n",
       "      <td>5391.0</td>\n",
       "      <td>4606.0</td>\n",
       "      <td>4737.0</td>\n",
       "      <td>5106.0</td>\n",
       "      <td>4954.8</td>\n",
       "    </tr>\n",
       "    <tr>\n",
       "      <th>1975</th>\n",
       "      <td>6345.0</td>\n",
       "      <td>6744.0</td>\n",
       "      <td>6190.0</td>\n",
       "      <td>5667.0</td>\n",
       "      <td>6589.0</td>\n",
       "      <td>6307.0</td>\n",
       "    </tr>\n",
       "    <tr>\n",
       "      <th>1976</th>\n",
       "      <td>7567.0</td>\n",
       "      <td>7762.0</td>\n",
       "      <td>7405.0</td>\n",
       "      <td>6648.0</td>\n",
       "      <td>7763.0</td>\n",
       "      <td>7429.0</td>\n",
       "    </tr>\n",
       "    <tr>\n",
       "      <th>1977</th>\n",
       "      <td>8579.0</td>\n",
       "      <td>8513.0</td>\n",
       "      <td>8237.0</td>\n",
       "      <td>7331.0</td>\n",
       "      <td>8534.0</td>\n",
       "      <td>8238.8</td>\n",
       "    </tr>\n",
       "    <tr>\n",
       "      <th>1978</th>\n",
       "      <td>9732.0</td>\n",
       "      <td>9572.0</td>\n",
       "      <td>9155.0</td>\n",
       "      <td>8155.0</td>\n",
       "      <td>9722.0</td>\n",
       "      <td>9267.2</td>\n",
       "    </tr>\n",
       "    <tr>\n",
       "      <th>1979</th>\n",
       "      <td>10872.0</td>\n",
       "      <td>10795.0</td>\n",
       "      <td>9936.0</td>\n",
       "      <td>9211.0</td>\n",
       "      <td>10689.0</td>\n",
       "      <td>10300.6</td>\n",
       "    </tr>\n",
       "    <tr>\n",
       "      <th>1980</th>\n",
       "      <td>11701.0</td>\n",
       "      <td>11798.0</td>\n",
       "      <td>10718.0</td>\n",
       "      <td>10007.0</td>\n",
       "      <td>11777.0</td>\n",
       "      <td>11200.2</td>\n",
       "    </tr>\n",
       "    <tr>\n",
       "      <th>1981</th>\n",
       "      <td>12866.0</td>\n",
       "      <td>12918.0</td>\n",
       "      <td>11583.0</td>\n",
       "      <td>11128.0</td>\n",
       "      <td>12740.0</td>\n",
       "      <td>12247.0</td>\n",
       "    </tr>\n",
       "    <tr>\n",
       "      <th>1982</th>\n",
       "      <td>14036.0</td>\n",
       "      <td>13907.0</td>\n",
       "      <td>12539.0</td>\n",
       "      <td>12414.0</td>\n",
       "      <td>14027.0</td>\n",
       "      <td>13384.6</td>\n",
       "    </tr>\n",
       "    <tr>\n",
       "      <th>1983</th>\n",
       "      <td>15300.0</td>\n",
       "      <td>14963.0</td>\n",
       "      <td>13641.0</td>\n",
       "      <td>13458.0</td>\n",
       "      <td>15217.0</td>\n",
       "      <td>14515.8</td>\n",
       "    </tr>\n",
       "    <tr>\n",
       "      <th>1984</th>\n",
       "      <td>16500.0</td>\n",
       "      <td>16224.0</td>\n",
       "      <td>14699.0</td>\n",
       "      <td>14449.0</td>\n",
       "      <td>16500.0</td>\n",
       "      <td>15674.4</td>\n",
       "    </tr>\n",
       "    <tr>\n",
       "      <th>1985</th>\n",
       "      <td>17442.0</td>\n",
       "      <td>17035.0</td>\n",
       "      <td>15409.0</td>\n",
       "      <td>15324.0</td>\n",
       "      <td>17373.0</td>\n",
       "      <td>16516.6</td>\n",
       "    </tr>\n",
       "    <tr>\n",
       "      <th>1986</th>\n",
       "      <td>18608.0</td>\n",
       "      <td>18004.0</td>\n",
       "      <td>16567.0</td>\n",
       "      <td>16526.0</td>\n",
       "      <td>18582.0</td>\n",
       "      <td>17657.4</td>\n",
       "    </tr>\n",
       "  </tbody>\n",
       "</table>\n",
       "</div>"
      ],
      "text/plain": [
       "            A        B        C        D        E      AVG\n",
       "Year                                                      \n",
       "1970   1010.0   1161.0    780.0    949.0   1135.0   1007.0\n",
       "1971   2015.0   2139.0   1821.0   1733.0   2105.0   1962.6\n",
       "1972   3082.0   3365.0   2848.0   2800.0   3263.0   3071.6\n",
       "1973   4133.0   4245.0   3673.0   3814.0   4285.0   4030.0\n",
       "1974   4934.0   5391.0   4606.0   4737.0   5106.0   4954.8\n",
       "1975   6345.0   6744.0   6190.0   5667.0   6589.0   6307.0\n",
       "1976   7567.0   7762.0   7405.0   6648.0   7763.0   7429.0\n",
       "1977   8579.0   8513.0   8237.0   7331.0   8534.0   8238.8\n",
       "1978   9732.0   9572.0   9155.0   8155.0   9722.0   9267.2\n",
       "1979  10872.0  10795.0   9936.0   9211.0  10689.0  10300.6\n",
       "1980  11701.0  11798.0  10718.0  10007.0  11777.0  11200.2\n",
       "1981  12866.0  12918.0  11583.0  11128.0  12740.0  12247.0\n",
       "1982  14036.0  13907.0  12539.0  12414.0  14027.0  13384.6\n",
       "1983  15300.0  14963.0  13641.0  13458.0  15217.0  14515.8\n",
       "1984  16500.0  16224.0  14699.0  14449.0  16500.0  15674.4\n",
       "1985  17442.0  17035.0  15409.0  15324.0  17373.0  16516.6\n",
       "1986  18608.0  18004.0  16567.0  16526.0  18582.0  17657.4"
      ]
     },
     "execution_count": 5,
     "metadata": {},
     "output_type": "execute_result"
    }
   ],
   "source": [
    "# annual series of accumulated precipitation\n",
    "data2.cumsum()"
   ]
  },
  {
   "cell_type": "markdown",
   "metadata": {},
   "source": [
    "To avoid duplication of data, we will not save the previous accumulated series, but we will be using the function `cumsum` very often in the following.\n",
    "\n",
    "Let's plot the double-mass curve for station C."
   ]
  },
  {
   "cell_type": "code",
   "execution_count": 6,
   "metadata": {},
   "outputs": [
    {
     "data": {
      "image/png": "[encoded data removed]",
      "text/plain": [
       "<Figure size 360x360 with 1 Axes>"
      ]
     },
     "metadata": {
      "needs_background": "light"
     },
     "output_type": "display_data"
    }
   ],
   "source": [
    "plt.figure(figsize=(5, 5))\n",
    "# line of slope 1\n",
    "plt.plot((0, 17500), (0, 17500), ':k', label='1:1 line')\n",
    "# double-mass curve\n",
    "plt.plot(data2.AVG.cumsum(), data2.C.cumsum(), '.-', label='data')\n",
    "# year 1978\n",
    "plt.scatter(data2.AVG.cumsum().loc[1978], data2.C.cumsum().loc[1978], label='1978')\n",
    "\n",
    "# configuration\n",
    "plt.axis('equal')\n",
    "plt.xlabel('average across gages')\n",
    "plt.ylabel('gage C')\n",
    "plt.legend();"
   ]
  },
  {
   "cell_type": "markdown",
   "metadata": {},
   "source": [
    "We can clearly observe a break in the line in year from year 1918 onwards, exactly matching the year in which the station C was moved.\n",
    "\n",
    "### Correct series\n",
    "To correct the series we must decide whether we trust the data before or after the break in the double-mass curve. For that, we would need further information about the location and instruments used. In this exercise, we will assume that the data up till 1978 is the one we trust the most, and we will fix the series from 1979 on.\n",
    "\n",
    "The steps are the following:\n",
    "1. Calculate the slope of the first part of the double-mass curve ($m_1$).\n",
    "2. Calculate the slope of the second part of the double-mass curve ($m_2$).\n",
    "3. Correct the series. Assuming that the correct slope is $m_1$, the corrected precipitation $P_c$ for the observed data $P_o$ is:\n",
    "$$P_c = \\frac{m_1}{m_2} \\cdot P_o$$\n",
    "\n",
    "Therefore, we need to learn how to fit the slope of a linear regression of the form $y = m\\cdot x$. We will first define a function that represents that form of the linear regression and later on we will use the function `scipy.optimize.curve_fit` to fit the slope $m$."
   ]
  },
  {
   "cell_type": "code",
   "execution_count": 7,
   "metadata": {},
   "outputs": [],
   "source": [
    "def linear_reg(x, m):\n",
    "    \"\"\"Linear regression with intercept 0: \n",
    "            y = m · x\n",
    "    \n",
    "    Input:\n",
    "    ------\n",
    "    x:         float. Independet value\n",
    "    m:         float. Slope of the linear regression\n",
    "    \n",
    "    Output:\n",
    "    -------\n",
    "    y:         float. Regressed value\"\"\"\n",
    "    \n",
    "    y = m * x\n",
    "    \n",
    "    return y"
   ]
  },
  {
   "cell_type": "code",
   "execution_count": 8,
   "metadata": {},
   "outputs": [],
   "source": [
    "# import function scipy.optimize.curve_fit\n",
    "from scipy.optimize import curve_fit"
   ]
  },
  {
   "cell_type": "markdown",
   "metadata": {},
   "source": [
    "#### Fit the regression for the first part\n",
    "This first time we will do it step by step."
   ]
  },
  {
   "cell_type": "code",
   "execution_count": 9,
   "metadata": {},
   "outputs": [],
   "source": [
    "# define x and y in the linear regression\n",
    "x = data2.loc[:1978, 'AVG']\n",
    "y = data2.loc[:1978, 'C']"
   ]
  },
  {
   "cell_type": "code",
   "execution_count": 10,
   "metadata": {},
   "outputs": [],
   "source": [
    "# compute cumulative series\n",
    "x = x.cumsum()\n",
    "y = y.cumsum()"
   ]
  },
  {
   "cell_type": "code",
   "execution_count": 11,
   "metadata": {},
   "outputs": [
    {
     "name": "stdout",
     "output_type": "stream",
     "text": [
      "m1 = 0.979\n"
     ]
    }
   ],
   "source": [
    "# fit the regression up till 1978\n",
    "m1 = curve_fit(linear_reg, x, y)[0][0]\n",
    "print('m1 = {0:.3f}'.format(m1))"
   ]
  },
  {
   "cell_type": "code",
   "execution_count": 12,
   "metadata": {},
   "outputs": [
    {
     "data": {
      "image/png": "[encoded data removed]",
      "text/plain": [
       "<Figure size 360x360 with 1 Axes>"
      ]
     },
     "metadata": {
      "needs_background": "light"
     },
     "output_type": "display_data"
    }
   ],
   "source": [
    "plt.figure(figsize=(5, 5))\n",
    "# linear regression\n",
    "x_ = np.array([0, 10000])\n",
    "y_ = m1 * x_\n",
    "plt.plot(x_, y_, linestyle='--', color='k', label='lin_reg')\n",
    "# double-mass curve\n",
    "plt.plot(x, y, '.-', label='data')\n",
    "\n",
    "# configuration\n",
    "plt.axis('equal')\n",
    "plt.xlabel('average across gages')\n",
    "plt.ylabel('gage C')\n",
    "plt.legend();"
   ]
  },
  {
   "cell_type": "markdown",
   "metadata": {},
   "source": [
    "#### Fit the regression for the second part"
   ]
  },
  {
   "cell_type": "code",
   "execution_count": 13,
   "metadata": {},
   "outputs": [
    {
     "name": "stdout",
     "output_type": "stream",
     "text": [
      "m1 = 0.866\n"
     ]
    }
   ],
   "source": [
    "# fit the regression from 1978 onwards\n",
    "m2 = curve_fit(linear_reg, data2.loc[1978:, 'AVG'].cumsum(), data2.loc[1978:, 'C'].cumsum())[0][0]\n",
    "print('m1 = {0:.3f}'.format(m2))"
   ]
  },
  {
   "cell_type": "markdown",
   "metadata": {},
   "source": [
    "#### Correct the data"
   ]
  },
  {
   "cell_type": "code",
   "execution_count": 14,
   "metadata": {},
   "outputs": [
    {
     "name": "stdout",
     "output_type": "stream",
     "text": [
      "correction factor = 1.131\n"
     ]
    }
   ],
   "source": [
    "# correction factor\n",
    "factor = m1 / m2\n",
    "print('correction factor = {0:.3f}'.format(factor))"
   ]
  },
  {
   "cell_type": "code",
   "execution_count": 15,
   "metadata": {},
   "outputs": [],
   "source": [
    "# copy the original data in a new column\n",
    "data2['C_'] = data2['C']\n",
    "#multiply the second period by the correction factor\n",
    "data2.loc[1979:, 'C_'] *= factor"
   ]
  },
  {
   "cell_type": "code",
   "execution_count": 16,
   "metadata": {},
   "outputs": [
    {
     "data": {
      "image/png": "[encoded data removed]",
      "text/plain": [
       "<Figure size 360x360 with 1 Axes>"
      ]
     },
     "metadata": {
      "needs_background": "light"
     },
     "output_type": "display_data"
    }
   ],
   "source": [
    "plt.figure(figsize=(5, 5))\n",
    "# line of slope 1\n",
    "plt.plot((0, 17500), (0, 17500), ':k', label='1:1 line')\n",
    "# double-mass curve\n",
    "plt.plot(data2.AVG.cumsum(), data2.C.cumsum(), '.-', label='data')\n",
    "plt.plot(data2.AVG.cumsum(), data2.C_.cumsum(), '.-', label='correction')\n",
    "# year 1978\n",
    "plt.scatter(data2.AVG.cumsum().loc[1978], data2.C.cumsum().loc[1978], label='1978')\n",
    "\n",
    "# configuration\n",
    "plt.axis('equal')\n",
    "plt.xlabel('average across gages')\n",
    "plt.ylabel('gage C')\n",
    "plt.legend();\n",
    "\n",
    "# save figure\n",
    "plt.savefig('../output/Ex2_double-mass curve.png', dpi=300)"
   ]
  },
  {
   "cell_type": "code",
   "execution_count": 17,
   "metadata": {},
   "outputs": [],
   "source": [
    "data2_ = data2[['A', 'B', 'C_', 'D', 'E']]\n",
    "data2_.columns = ['A', 'B', 'C', 'D', 'E']\n",
    "data2_ = data2_.astype(float)"
   ]
  },
  {
   "cell_type": "code",
   "execution_count": 18,
   "metadata": {},
   "outputs": [],
   "source": [
    "data2_.to_csv('../output/Ex2_corrected series.csv', float_format='%.0f')"
   ]
  },
  {
   "cell_type": "markdown",
   "metadata": {},
   "source": [
    "### Useful links:\n",
    "[USGS report on double-mass curves](https://pubs.usgs.gov/wsp/1541b/report.pdf)<br>\n",
    "[`SciPy.optimize.curve_fit` help](https://docs.scipy.org/doc/scipy/reference/generated/scipy.optimize.curve_fit.html)"
   ]
  }
 ],
 "metadata": {
  "anaconda-cloud": {},
  "kernelspec": {
   "display_name": "Python 3",
   "language": "python",
   "name": "python3"
  },
  "language_info": {
   "codemirror_mode": {
    "name": "ipython",
    "version": 3
   },
   "file_extension": ".py",
   "mimetype": "text/x-python",
   "name": "python",
   "nbconvert_exporter": "python",
   "pygments_lexer": "ipython3",
   "version": "3.7.3"
  },
  "varInspector": {
   "cols": {
    "lenName": 16,
    "lenType": 16,
    "lenVar": 40
   },
   "kernels_config": {
    "python": {
     "delete_cmd_postfix": "",
     "delete_cmd_prefix": "del ",
     "library": "var_list.py",
     "varRefreshCmd": "print(var_dic_list())"
    },
    "r": {
     "delete_cmd_postfix": ") ",
     "delete_cmd_prefix": "rm(",
     "library": "var_list.r",
     "varRefreshCmd": "cat(var_dic_list()) "
    }
   },
   "position": {
    "height": "255px",
    "left": "634px",
    "right": "20px",
    "top": "118px",
    "width": "350px"
   },
   "types_to_exclude": [
    "module",
    "function",
    "builtin_function_or_method",
    "instance",
    "_Feature"
   ],
   "window_display": false
  }
 },
 "nbformat": 4,
 "nbformat_minor": 4
}
