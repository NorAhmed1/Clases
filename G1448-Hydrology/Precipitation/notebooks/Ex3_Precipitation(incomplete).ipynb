{
 "cells": [
  {
   "cell_type": "markdown",
   "metadata": {},
   "source": [
    "# Precipitation exercises\n",
    "***\n",
    "\n",
    "## <font color=steelblue>Exercise 3 - Double-mass curve</font>\n",
    "\n",
    "<font color=steelblue>Perform a double-mass curve analysis with the data in sheet *Exercise_003* from file *RainfallData.xlsx*.</font>"
   ]
  },
  {
   "cell_type": "code",
   "execution_count": 1,
   "metadata": {},
   "outputs": [],
   "source": [
    "import numpy as np\n",
    "\n",
    "import pandas as pd\n",
    "\n",
    "import matplotlib.pyplot as plt\n",
    "import seaborn as sns\n",
    "sns.set()\n",
    "sns.set_context('notebook')\n",
    "\n",
    "from scipy.optimize import curve_fit"
   ]
  },
  {
   "cell_type": "code",
   "execution_count": 2,
   "metadata": {},
   "outputs": [],
   "source": [
    "# Importar los datos"
   ]
  },
  {
   "cell_type": "code",
   "execution_count": 2,
   "metadata": {},
   "outputs": [],
   "source": [
    "# name of the gages"
   ]
  },
  {
   "cell_type": "code",
   "execution_count": 2,
   "metadata": {},
   "outputs": [],
   "source": [
    "# Calcular la media anual entre todas las estaciones"
   ]
  },
  {
   "cell_type": "code",
   "execution_count": 2,
   "metadata": {},
   "outputs": [
    {
     "data": {
      "text/html": [
       "<div>\n",
       "<style scoped>\n",
       "    .dataframe tbody tr th:only-of-type {\n",
       "        vertical-align: middle;\n",
       "    }\n",
       "\n",
       "    .dataframe tbody tr th {\n",
       "        vertical-align: top;\n",
       "    }\n",
       "\n",
       "    .dataframe thead th {\n",
       "        text-align: right;\n",
       "    }\n",
       "</style>\n",
       "<table border=\"1\" class=\"dataframe\">\n",
       "  <thead>\n",
       "    <tr style=\"text-align: right;\">\n",
       "      <th></th>\n",
       "      <th>A</th>\n",
       "      <th>B</th>\n",
       "      <th>C</th>\n",
       "      <th>D</th>\n",
       "      <th>E</th>\n",
       "      <th>AVG</th>\n",
       "    </tr>\n",
       "    <tr>\n",
       "      <th>Year</th>\n",
       "      <th></th>\n",
       "      <th></th>\n",
       "      <th></th>\n",
       "      <th></th>\n",
       "      <th></th>\n",
       "      <th></th>\n",
       "    </tr>\n",
       "  </thead>\n",
       "  <tbody>\n",
       "    <tr>\n",
       "      <th>1926</th>\n",
       "      <td>39.75</td>\n",
       "      <td>45.70</td>\n",
       "      <td>30.69</td>\n",
       "      <td>37.36</td>\n",
       "      <td>32.85</td>\n",
       "      <td>37.270</td>\n",
       "    </tr>\n",
       "    <tr>\n",
       "      <th>1927</th>\n",
       "      <td>39.57</td>\n",
       "      <td>38.52</td>\n",
       "      <td>40.99</td>\n",
       "      <td>30.87</td>\n",
       "      <td>28.08</td>\n",
       "      <td>35.606</td>\n",
       "    </tr>\n",
       "    <tr>\n",
       "      <th>1928</th>\n",
       "      <td>42.01</td>\n",
       "      <td>48.26</td>\n",
       "      <td>40.44</td>\n",
       "      <td>42.00</td>\n",
       "      <td>33.51</td>\n",
       "      <td>41.244</td>\n",
       "    </tr>\n",
       "    <tr>\n",
       "      <th>1929</th>\n",
       "      <td>41.39</td>\n",
       "      <td>34.64</td>\n",
       "      <td>32.49</td>\n",
       "      <td>39.92</td>\n",
       "      <td>29.58</td>\n",
       "      <td>35.604</td>\n",
       "    </tr>\n",
       "    <tr>\n",
       "      <th>1930</th>\n",
       "      <td>31.55</td>\n",
       "      <td>45.13</td>\n",
       "      <td>36.72</td>\n",
       "      <td>36.32</td>\n",
       "      <td>23.76</td>\n",
       "      <td>34.696</td>\n",
       "    </tr>\n",
       "  </tbody>\n",
       "</table>\n",
       "</div>"
      ],
      "text/plain": [
       "          A      B      C      D      E     AVG\n",
       "Year                                           \n",
       "1926  39.75  45.70  30.69  37.36  32.85  37.270\n",
       "1927  39.57  38.52  40.99  30.87  28.08  35.606\n",
       "1928  42.01  48.26  40.44  42.00  33.51  41.244\n",
       "1929  41.39  34.64  32.49  39.92  29.58  35.604\n",
       "1930  31.55  45.13  36.72  36.32  23.76  34.696"
      ]
     },
     "execution_count": 2,
     "metadata": {},
     "output_type": "execute_result"
    }
   ],
   "source": [
    "# Serie de precipitación acumulada\n"
   ]
  },
  {
   "cell_type": "markdown",
   "metadata": {},
   "source": [
    "### Double-mass curves\n",
    "We are going to plot simultaneously the double-mass curve for all the stations, so we can start identifying stations that may have problems.\n",
    "\n",
    "To plot several plots in the same figure, we will use the function `subplots` in `Matplotlib`."
   ]
  },
  {
   "cell_type": "code",
   "execution_count": 1,
   "metadata": {},
   "outputs": [
    {
     "ename": "NameError",
     "evalue": "name 'plt' is not defined",
     "output_type": "error",
     "traceback": [
      "\u001b[1;31m---------------------------------------------------------------------------\u001b[0m",
      "\u001b[1;31mNameError\u001b[0m                                 Traceback (most recent call last)",
      "\u001b[1;32m<ipython-input-1-91aeae20025f>\u001b[0m in \u001b[0;36m<module>\u001b[1;34m\u001b[0m\n\u001b[1;32m----> 1\u001b[1;33m \u001b[0mfig\u001b[0m\u001b[1;33m,\u001b[0m \u001b[0maxes\u001b[0m \u001b[1;33m=\u001b[0m \u001b[0mplt\u001b[0m\u001b[1;33m.\u001b[0m\u001b[0msubplots\u001b[0m\u001b[1;33m(\u001b[0m\u001b[0mnrows\u001b[0m\u001b[1;33m=\u001b[0m\u001b[1;36m2\u001b[0m\u001b[1;33m,\u001b[0m \u001b[0mncols\u001b[0m\u001b[1;33m=\u001b[0m\u001b[1;36m3\u001b[0m\u001b[1;33m,\u001b[0m \u001b[0mfigsize\u001b[0m\u001b[1;33m=\u001b[0m\u001b[1;33m(\u001b[0m\u001b[1;36m12\u001b[0m\u001b[1;33m,\u001b[0m \u001b[1;36m8\u001b[0m\u001b[1;33m)\u001b[0m\u001b[1;33m,\u001b[0m \u001b[0msharex\u001b[0m\u001b[1;33m=\u001b[0m\u001b[1;32mTrue\u001b[0m\u001b[1;33m,\u001b[0m \u001b[0msharey\u001b[0m\u001b[1;33m=\u001b[0m\u001b[1;32mTrue\u001b[0m\u001b[1;33m)\u001b[0m\u001b[1;33m\u001b[0m\u001b[1;33m\u001b[0m\u001b[0m\n\u001b[0m\u001b[0;32m      2\u001b[0m \u001b[1;33m\u001b[0m\u001b[0m\n",
      "\u001b[1;31mNameError\u001b[0m: name 'plt' is not defined"
     ]
    }
   ],
   "source": [
    "fig, axes = plt.subplots(nrows=2, ncols=3, figsize=(12, 8), sharex=True, sharey=True)\n",
    "\n"
   ]
  },
  {
   "cell_type": "markdown",
   "metadata": {},
   "source": [
    "From the plot we are certain that the series in gage C is correct, but there might be problems in the rest of the gages."
   ]
  },
  {
   "cell_type": "markdown",
   "metadata": {},
   "source": [
    "### Identify errors\n",
    "The double-mass curve must represent a linear regression with no intercept. We will create a function representing this linear regression which we will use in the following steps."
   ]
  },
  {
   "cell_type": "code",
   "execution_count": 5,
   "metadata": {},
   "outputs": [],
   "source": [
    "def linear_reg(x, m):\n",
    "    \"\"\"Linear regression with no intecept\n",
    "    \n",
    "    y = m * x   \n",
    "    \n",
    "    Input:\n",
    "    ------\n",
    "    x:         float. Independet value\n",
    "    m:         float. Slope of the linear regression\n",
    "    \n",
    "    Output:\n",
    "    -------\n",
    "    y:         float. Regressed value\"\"\"\n",
    "    \n",
    "    y = m * x\n",
    "    \n",
    "    return y"
   ]
  },
  {
   "cell_type": "markdown",
   "metadata": {},
   "source": [
    "#### Gage A\n",
    "To identify errors, we will have to fit the linear regression with no intercept to both the series before and after a specific year; if the diference in the fitted slope for those two series exceed an error threshold, we identify that year as a break point in the double-mass curve. We will iterate this process for each year and set a error threshold (or tolerance) to find all the possible break points in the series."
   ]
  },
  {
   "cell_type": "code",
   "execution_count": 133,
   "metadata": {},
   "outputs": [],
   "source": [
    "# define the gage\n",
    "gage = 'A'"
   ]
  },
  {
   "cell_type": "code",
   "execution_count": 136,
   "metadata": {},
   "outputs": [],
   "source": [
    "# define the error threshold\n",
    "error = .1"
   ]
  },
  {
   "cell_type": "markdown",
   "metadata": {},
   "source": [
    "```Python\n",
    "w = 5\n",
    "\n",
    "for year in data3.index[w:-w]:\n",
    "    # fit the regression from 1978 onwards\n",
    "    m1 = curve_fit(linear_reg, data3.loc[year-w:year, 'AVG'].cumsum(), data3.loc[year-w:year, gage].cumsum())[0][0]\n",
    "    # fit the regression from 1978 onwards\n",
    "    m2 = curve_fit(linear_reg, data3.loc[year:year+w, 'AVG'].cumsum(), data3.loc[year:year+w, gage].cumsum())[0][0]\n",
    "    # correction factor\n",
    "    factor = m1 / m2\n",
    "    if (factor < 1 - error) | (factor > 1. + error):\n",
    "        print('{0}   m1 = {1:.3f}   m2 = {2:.3f}   factor = {3:.3f}'.format(year, m1, m2, factor))\n",
    "```"
   ]
  },
  {
   "cell_type": "code",
   "execution_count": 143,
   "metadata": {},
   "outputs": [
    {
     "name": "stdout",
     "output_type": "stream",
     "text": [
      "1929   m1 = 0.831   m2 = 0.997   factor = 1.020\n",
      "1930   m1 = 0.818   m2 = 1.014   factor = 1.020\n",
      "1931   m1 = 0.839   m2 = 1.048   factor = 1.020\n",
      "1932   m1 = 0.860   m2 = 1.039   factor = 1.020\n",
      "1933   m1 = 0.873   m2 = 1.038   factor = 1.020\n",
      "1934   m1 = 0.890   m2 = 1.048   factor = 1.020\n",
      "1935   m1 = 0.901   m2 = 1.030   factor = 1.020\n",
      "1936   m1 = 0.913   m2 = 1.048   factor = 1.020\n",
      "1937   m1 = 0.920   m2 = 1.023   factor = 1.020\n",
      "1938   m1 = 0.929   m2 = 1.058   factor = 1.020\n",
      "1939   m1 = 0.936   m2 = 1.039   factor = 1.020\n"
     ]
    }
   ],
   "source": [
    "for year in data3.index[3:-3]:\n",
    "    # fit the regression from 1978 onwards\n",
    "    m1 = curve_fit(linear_reg, data3.loc[:year, 'AVG'].cumsum(), data3.loc[:year, gage].cumsum())[0][0]\n",
    "    # fit the regression from 1978 onwards\n",
    "    m2 = curve_fit(linear_reg, data3.loc[year:, 'AVG'].cumsum(), data3.loc[year:, gage].cumsum())[0][0]\n",
    "    ## correction factor\n",
    "    #factor = m1 / m2\n",
    "    #if (factor < 1 - error) | (factor > 1. + error):\n",
    "    if abs(m1 - m2) > error:\n",
    "        print('{0}   m1 = {1:.3f}   m2 = {2:.3f}   factor = {3:.3f}'.format(year, m1, m2, factor))"
   ]
  },
  {
   "cell_type": "markdown",
   "metadata": {},
   "source": [
    "There are no errors in the series of gage A. "
   ]
  },
  {
   "cell_type": "markdown",
   "metadata": {},
   "source": [
    "#### All gages\n",
    "Simply changing the name of the gage in the previous section we can repeat the process. Let's create a function and the run it in a a loop."
   ]
  },
  {
   "cell_type": "code",
   "execution_count": 144,
   "metadata": {},
   "outputs": [
    {
     "data": {
      "text/plain": [
       "5"
      ]
     },
     "execution_count": 144,
     "metadata": {},
     "output_type": "execute_result"
    }
   ],
   "source": [
    "w"
   ]
  },
  {
   "cell_type": "code",
   "execution_count": 145,
   "metadata": {},
   "outputs": [],
   "source": [
    "def identify_errors(dataGage, dataAVG, error=.1):\n",
    "    \"\"\"\n",
    "    \"\"\"\n",
    "    \n",
    "    for year in dataGage.index[3:-3]:\n",
    "        # fit the regression from 1978 onwards\n",
    "        m1 = curve_fit(linear_reg, dataAVG.loc[:year].cumsum(), dataGage.loc[:year].cumsum())[0][0]\n",
    "        # fit the regression from 1978 onwards\n",
    "        m2 = curve_fit(linear_reg, dataAVG.loc[year:].cumsum(), dataGage.loc[year:].cumsum())[0][0]\n",
    "        ## correction factor\n",
    "        #factor = m1 / m2\n",
    "        #if (factor < 1 - error) | (factor > 1. + error):\n",
    "        if abs(m1 - m2) > error:\n",
    "            print('{0}   m1 = {1:.3f}   m2 = {2:.3f}'.format(year, m1, m2))"
   ]
  },
  {
   "cell_type": "code",
   "execution_count": 141,
   "metadata": {},
   "outputs": [
    {
     "name": "stdout",
     "output_type": "stream",
     "text": [
      "Gage  A\n",
      "\n",
      "Gage  B\n",
      "1929   m1 = 0.878   m2 = 0.981\n",
      "1930   m1 = 0.874   m2 = 0.978\n",
      "1931   m1 = 0.883   m2 = 1.006\n",
      "1932   m1 = 0.897   m2 = 1.007\n",
      "1936   m1 = 0.922   m2 = 1.028\n",
      "1937   m1 = 0.924   m2 = 1.054\n",
      "1938   m1 = 0.929   m2 = 1.084\n",
      "1939   m1 = 0.935   m2 = 1.051\n",
      "\n",
      "Gage  C\n",
      "\n",
      "Gage  D\n",
      "1930   m1 = 1.004   m2 = 1.107\n",
      "\n",
      "Gage  E\n",
      "1929   m1 = 1.203   m2 = 1.002\n",
      "1930   m1 = 1.223   m2 = 0.986\n",
      "1931   m1 = 1.191   m2 = 0.954\n",
      "1932   m1 = 1.161   m2 = 0.962\n",
      "1933   m1 = 1.143   m2 = 0.963\n",
      "1934   m1 = 1.122   m2 = 0.954\n",
      "1935   m1 = 1.108   m2 = 0.971\n",
      "1936   m1 = 1.093   m2 = 0.954\n",
      "1937   m1 = 1.085   m2 = 0.978\n",
      "1938   m1 = 1.075   m2 = 0.945\n",
      "1939   m1 = 1.066   m2 = 0.962\n",
      "\n"
     ]
    }
   ],
   "source": [
    "for gage in gages:\n",
    "    print('Gage ', gage)\n",
    "    identify_errors(data3['AVG'], data3[gage], error=.1)\n",
    "    print()"
   ]
  },
  {
   "cell_type": "markdown",
   "metadata": {},
   "source": [
    "We have identified errors in gages B, D and E. This was an automatic search to discard correct stations. Now, we have to analyse one by one these three stations that might have errors."
   ]
  },
  {
   "cell_type": "markdown",
   "metadata": {},
   "source": [
    "### Correct errors\n",
    "#### Gage B\n",
    "##### Analyse the series\n",
    "We have identified anomalies in the years between 1929 and 1939. It will probably mean that there are two break points in the double mass curve. Let's look at the double mass curve and the specific points representing those two years."
   ]
  },
  {
   "cell_type": "code",
   "execution_count": 146,
   "metadata": {},
   "outputs": [],
   "source": [
    "# set gage and year corresponding to the break in the line\n",
    "gage = 'B'\n",
    "breaks = [1929, 1939]"
   ]
  },
  {
   "cell_type": "code",
   "execution_count": 148,
   "metadata": {},
   "outputs": [
    {
     "data": {
      "image/png": "[encoded data removed]",
      "text/plain": [
       "<Figure size 360x360 with 1 Axes>"
      ]
     },
     "metadata": {
      "needs_background": "light"
     },
     "output_type": "display_data"
    }
   ],
   "source": [
    "# visualize\n",
    "plt.figure(figsize=(5, 5))\n",
    "plt.axis('equal')\n",
    "plt.plot((0, 800), (0, 800), '--k')\n",
    "plt.plot(data3.AVG.cumsum(), data3[gage].cumsum(), '.-', label='original')\n",
    "plt.plot(data3.AVG.cumsum().loc[breaks], data3[gage].cumsum().loc[breaks], '.', label='breaks')\n",
    "plt.legend();"
   ]
  },
  {
   "cell_type": "markdown",
   "metadata": {},
   "source": [
    "At a glance, we can identify three periods. There is period at the beginning of the series with a higher than usual slope; this period seem so extend until 1930 (not 1929 as we had identified). There is aperiod at the end of the series with a lower than usual slope; this period seems to start in 1938 (not 1939 as we had identified).\n",
    "\n",
    "We will reset the break points and calculate the slope of the regression to check it."
   ]
  },
  {
   "cell_type": "code",
   "execution_count": 170,
   "metadata": {},
   "outputs": [],
   "source": [
    "# reset the break points\n",
    "breaks = [1930, 1938]"
   ]
  },
  {
   "cell_type": "code",
   "execution_count": 171,
   "metadata": {},
   "outputs": [
    {
     "name": "stdout",
     "output_type": "stream",
     "text": [
      "m1 = 1.144   m2 = 1.045   m3 = 0.922\n"
     ]
    }
   ],
   "source": [
    "# fit the regression untill the first break\n",
    "m1 = curve_fit(linear_reg, data3.loc[:breaks[0], 'AVG'].cumsum(), data3.loc[:breaks[0], gage].cumsum())[0][0]\n",
    "# fit the regression from the first to the second break\n",
    "m2 = curve_fit(linear_reg, data3.loc[breaks[0]:breaks[1], 'AVG'].cumsum(), data3.loc[breaks[0]:breaks[1], gage].cumsum())[0][0]\n",
    "# fit the regression from t\n",
    "m3 = curve_fit(linear_reg, data3.loc[breaks[1]:, 'AVG'].cumsum(), data3.loc[breaks[1]:, gage].cumsum())[0][0]\n",
    "\n",
    "print('m1 = {0:.3f}   m2 = {1:.3f}   m3 = {2:.3f}'.format(m1, m2, m3))"
   ]
  },
  {
   "cell_type": "markdown",
   "metadata": {},
   "source": [
    "As expected, there are three different slopes in the series. We will assume that the correct data is that from 1930 to 1937, because it is longest period of the three and its slope is closer to 1. Therefore, we have to calculate the correction factors for two periods: before 1930 and after 1937; with these factors we can correct the series."
   ]
  },
  {
   "cell_type": "markdown",
   "metadata": {},
   "source": [
    "##### Correct the series"
   ]
  },
  {
   "cell_type": "code",
   "execution_count": 172,
   "metadata": {},
   "outputs": [
    {
     "data": {
      "text/plain": [
       "(0.9129617218111449, 1.133101596550879)"
      ]
     },
     "execution_count": 172,
     "metadata": {},
     "output_type": "execute_result"
    }
   ],
   "source": [
    "# correction factors\n",
    "factor12 = m2 / m1\n",
    "factor23 = m2 / m3\n",
    "\n",
    "factor12, factor23"
   ]
  },
  {
   "cell_type": "code",
   "execution_count": 173,
   "metadata": {},
   "outputs": [],
   "source": [
    "# copy of the original series\n",
    "data3['B_'] = data3[gage].copy()\n",
    "# correct period before the first break\n",
    "data3.loc[:breaks[0], 'B_'] *= factor12\n",
    "# correct period after the second break\n",
    "data3.loc[breaks[1:], 'B_'] *= factor23"
   ]
  },
  {
   "cell_type": "code",
   "execution_count": 174,
   "metadata": {},
   "outputs": [
    {
     "data": {
      "image/png": "[encoded data removed]",
      "text/plain": [
       "<Figure size 360x360 with 1 Axes>"
      ]
     },
     "metadata": {
      "needs_background": "light"
     },
     "output_type": "display_data"
    }
   ],
   "source": [
    "plt.figure(figsize=(5, 5))\n",
    "plt.axis('equal')\n",
    "plt.plot((0, 800), (0, 800), '--k')\n",
    "plt.plot(data3.AVG.cumsum(), data3[gage].cumsum(), '.-', label='original')\n",
    "plt.plot(data3.AVG.cumsum(), data3['B_'].cumsum(), '.-', label='corrected')\n",
    "plt.legend();"
   ]
  },
  {
   "cell_type": "markdown",
   "metadata": {},
   "source": [
    "Now we can check again for errors in the correceted series."
   ]
  },
  {
   "cell_type": "code",
   "execution_count": 175,
   "metadata": {},
   "outputs": [],
   "source": [
    "# chech again for errors\n",
    "identify_errors(data3.B_, data3.AVG)"
   ]
  },
  {
   "cell_type": "markdown",
   "metadata": {},
   "source": [
    "There aren't any more errors, so we've done correcting data from gage B."
   ]
  },
  {
   "cell_type": "markdown",
   "metadata": {},
   "source": [
    "#### Gage D\n",
    "##### Analyse the series\n",
    "We found a break point in year 1930."
   ]
  },
  {
   "cell_type": "code",
   "execution_count": 186,
   "metadata": {},
   "outputs": [],
   "source": [
    "# set gage and year corresponding to the break in the line\n",
    "gage = 'D'\n",
    "breaks = [1930]"
   ]
  },
  {
   "cell_type": "code",
   "execution_count": 187,
   "metadata": {},
   "outputs": [
    {
     "data": {
      "image/png": "[encoded data removed]",
      "text/plain": [
       "<Figure size 360x360 with 1 Axes>"
      ]
     },
     "metadata": {
      "needs_background": "light"
     },
     "output_type": "display_data"
    }
   ],
   "source": [
    "# visualize\n",
    "plt.figure(figsize=(5, 5))\n",
    "plt.axis('equal')\n",
    "plt.plot((0, 800), (0, 800), '--k')\n",
    "plt.plot(data3.AVG.cumsum(), data3[gage].cumsum(), '.-', label='original')\n",
    "plt.plot(data3.AVG.cumsum().loc[breaks], data3[gage].cumsum().loc[breaks], '.', label='breaks')\n",
    "plt.legend();"
   ]
  },
  {
   "cell_type": "code",
   "execution_count": 190,
   "metadata": {},
   "outputs": [
    {
     "name": "stdout",
     "output_type": "stream",
     "text": [
      "m1 = 0.996   m2 = 0.903\n"
     ]
    }
   ],
   "source": [
    "# fit the regression untill the break\n",
    "m1 = curve_fit(linear_reg, data3.loc[:breaks[0], 'AVG'].cumsum(), data3.loc[:breaks[0], gage].cumsum())[0][0]\n",
    "# fit the regression after the break\n",
    "m2 = curve_fit(linear_reg, data3.loc[breaks[0]:, 'AVG'].cumsum(), data3.loc[breaks[0]:, gage].cumsum())[0][0]\n",
    "\n",
    "print('m1 = {0:.3f}   m2 = {1:.3f}'.format(m1, m2))"
   ]
  },
  {
   "cell_type": "markdown",
   "metadata": {},
   "source": [
    "This case is simpler than the previous and we easily spot the breal point in 1930. THe period before 1930 has a slope closer to 1, so we will assume that this is the correct part of the series.\n",
    "\n",
    "##### Correct the series"
   ]
  },
  {
   "cell_type": "code",
   "execution_count": 199,
   "metadata": {},
   "outputs": [
    {
     "data": {
      "text/plain": [
       "1.1026631111918022"
      ]
     },
     "execution_count": 199,
     "metadata": {},
     "output_type": "execute_result"
    }
   ],
   "source": [
    "# correction factor\n",
    "factor = m1 / m2\n",
    "\n",
    "factor"
   ]
  },
  {
   "cell_type": "code",
   "execution_count": 211,
   "metadata": {},
   "outputs": [],
   "source": [
    "# copy of the original series\n",
    "data3[gage + '_'] = data3[gage].copy()\n",
    "# correct period after the break\n",
    "data3.loc[breaks[0]:, gage + '_'] *= factor"
   ]
  },
  {
   "cell_type": "code",
   "execution_count": 212,
   "metadata": {},
   "outputs": [
    {
     "data": {
      "image/png": "[encoded data removed]",
      "text/plain": [
       "<Figure size 360x360 with 1 Axes>"
      ]
     },
     "metadata": {
      "needs_background": "light"
     },
     "output_type": "display_data"
    }
   ],
   "source": [
    "plt.figure(figsize=(5, 5))\n",
    "plt.axis('equal')\n",
    "plt.plot((0, 800), (0, 800), '--k')\n",
    "plt.plot(data3.AVG.cumsum(), data3[gage].cumsum(), '.-', label='original')\n",
    "plt.plot(data3.AVG.cumsum(), data3[gage + '_'].cumsum(), '.-', label='corrected')\n",
    "plt.legend();"
   ]
  },
  {
   "cell_type": "code",
   "execution_count": 213,
   "metadata": {},
   "outputs": [
    {
     "name": "stdout",
     "output_type": "stream",
     "text": [
      "1935   m1 = 0.971   m2 = 1.075\n",
      "1937   m1 = 0.975   m2 = 1.087\n"
     ]
    }
   ],
   "source": [
    "# chech again for errors\n",
    "identify_errors(data3[gage + '_'], data3.AVG, error=.1)"
   ]
  },
  {
   "cell_type": "markdown",
   "metadata": {},
   "source": [
    "We identify two more possible break point in the corrected series. Both might indicate that the last section of the series has a higher slope that the initial. Let's correct the series from 1935 on, and this may solve the second break point in 1937."
   ]
  },
  {
   "cell_type": "code",
   "execution_count": 239,
   "metadata": {},
   "outputs": [],
   "source": [
    "gage = 'D_'\n",
    "breaks = [1935]"
   ]
  },
  {
   "cell_type": "code",
   "execution_count": 240,
   "metadata": {},
   "outputs": [
    {
     "name": "stdout",
     "output_type": "stream",
     "text": [
      "m1 = 0.971   m2 = 1.075\n"
     ]
    }
   ],
   "source": [
    "# fit the regression untill the break\n",
    "m1 = curve_fit(linear_reg, data3.loc[:breaks[0], 'AVG'].cumsum(), data3.loc[:breaks[0], gage].cumsum())[0][0]\n",
    "# fit the regression after the break\n",
    "m2 = curve_fit(linear_reg, data3.loc[breaks[0]:, 'AVG'].cumsum(), data3.loc[breaks[0]:, gage].cumsum())[0][0]\n",
    "\n",
    "print('m1 = {0:.3f}   m2 = {1:.3f}'.format(m1, m2))"
   ]
  },
  {
   "cell_type": "code",
   "execution_count": 241,
   "metadata": {},
   "outputs": [
    {
     "data": {
      "text/plain": [
       "0.9034952502585142"
      ]
     },
     "execution_count": 241,
     "metadata": {},
     "output_type": "execute_result"
    }
   ],
   "source": [
    "# correction factor\n",
    "factor = m1 / m2\n",
    "\n",
    "factor"
   ]
  },
  {
   "cell_type": "code",
   "execution_count": 242,
   "metadata": {},
   "outputs": [],
   "source": [
    "# copy of the original series\n",
    "data3[gage + '_'] = data3[gage].copy()\n",
    "# correct period after the break\n",
    "data3.loc[breaks[0]:, gage + '_'] *= factor"
   ]
  },
  {
   "cell_type": "code",
   "execution_count": 243,
   "metadata": {},
   "outputs": [
    {
     "data": {
      "image/png": "[encoded data removed]",
      "text/plain": [
       "<Figure size 360x360 with 1 Axes>"
      ]
     },
     "metadata": {
      "needs_background": "light"
     },
     "output_type": "display_data"
    }
   ],
   "source": [
    "plt.figure(figsize=(5, 5))\n",
    "plt.axis('equal')\n",
    "plt.plot((0, 800), (0, 800), '--k')\n",
    "plt.plot(data3.AVG.cumsum(), data3[gage].cumsum(), '.-', label='original')\n",
    "plt.plot(data3.AVG.cumsum(), data3[gage + '_'].cumsum(), '.-', label='corrected')\n",
    "plt.legend();"
   ]
  },
  {
   "cell_type": "code",
   "execution_count": 245,
   "metadata": {},
   "outputs": [],
   "source": [
    "# chech again for errors\n",
    "identify_errors(data3[gage + '_'], data3.AVG, error=.1)"
   ]
  },
  {
   "cell_type": "markdown",
   "metadata": {},
   "source": [
    "#### Gage E\n",
    "##### Analyse the series\n",
    "The series in gage E has a similar behaviour to series B. There is an anomaly in the series between 1929 and 1938, indicating that there might be two break points in the double-mass curve."
   ]
  },
  {
   "cell_type": "code",
   "execution_count": 214,
   "metadata": {},
   "outputs": [],
   "source": [
    "# set gage and year corresponding to the break in the line\n",
    "gage = 'E'\n",
    "breaks = [1929, 1938]"
   ]
  },
  {
   "cell_type": "code",
   "execution_count": 216,
   "metadata": {},
   "outputs": [
    {
     "data": {
      "image/png": "[encoded data removed]",
      "text/plain": [
       "<Figure size 360x360 with 1 Axes>"
      ]
     },
     "metadata": {
      "needs_background": "light"
     },
     "output_type": "display_data"
    }
   ],
   "source": [
    "# visualize\n",
    "plt.figure(figsize=(5, 5))\n",
    "plt.axis('equal')\n",
    "plt.plot((0, 800), (0, 800), '--k')\n",
    "plt.plot(data3.AVG.cumsum(), data3[gage].cumsum(), '.-', label='original')\n",
    "plt.plot(data3.AVG.cumsum().loc[breaks], data3[gage].cumsum().loc[breaks], '.', label='1929')\n",
    "plt.legend();"
   ]
  },
  {
   "cell_type": "code",
   "execution_count": 217,
   "metadata": {},
   "outputs": [
    {
     "name": "stdout",
     "output_type": "stream",
     "text": [
      "m1 = 0.831   m2 = 0.980   m3 = 1.058\n"
     ]
    }
   ],
   "source": [
    "# fit the regression untill the first break\n",
    "m1 = curve_fit(linear_reg, data3.loc[:breaks[0], 'AVG'].cumsum(), data3.loc[:breaks[0], gage].cumsum())[0][0]\n",
    "# fit the regression from the first to the second break\n",
    "m2 = curve_fit(linear_reg, data3.loc[breaks[0]:breaks[1], 'AVG'].cumsum(), data3.loc[breaks[0]:breaks[1], gage].cumsum())[0][0]\n",
    "# fit the regression from the second break on\n",
    "m3 = curve_fit(linear_reg, data3.loc[breaks[1]:, 'AVG'].cumsum(), data3.loc[breaks[1]:, gage].cumsum())[0][0]\n",
    "\n",
    "print('m1 = {0:.3f}   m2 = {1:.3f}   m3 = {2:.3f}'.format(m1, m2, m3))"
   ]
  },
  {
   "cell_type": "markdown",
   "metadata": {},
   "source": [
    "There seems to be only one break in the line between the first and the second period. The slopes in the second and third periods are that close that, most probably, there isn't a change from 1938 on. Apart from that, the break in the line seems to be stronger in 1930 than in 1929, so we will change the breaks to only include 1930. We will assume that the period to be corrected is that before 1930."
   ]
  },
  {
   "cell_type": "code",
   "execution_count": 219,
   "metadata": {},
   "outputs": [
    {
     "data": {
      "text/plain": [
       "(0.8176415003641067, 1.0142506420191348)"
      ]
     },
     "execution_count": 219,
     "metadata": {},
     "output_type": "execute_result"
    }
   ],
   "source": [
    "breaks = [1930]\n",
    "# fit the regression untill the first break\n",
    "m1 = curve_fit(linear_reg, data3.loc[:breaks[0], 'AVG'].cumsum(), data3.loc[:breaks[0], gage].cumsum())[0][0]\n",
    "# fit the regression from the first break\n",
    "m2 = curve_fit(linear_reg, data3.loc[breaks[0]:, 'AVG'].cumsum(), data3.loc[breaks[0]:, gage].cumsum())[0][0]\n",
    "\n",
    "m1, m2"
   ]
  },
  {
   "cell_type": "markdown",
   "metadata": {},
   "source": [
    "##### Correct the series"
   ]
  },
  {
   "cell_type": "code",
   "execution_count": 220,
   "metadata": {},
   "outputs": [
    {
     "data": {
      "text/plain": [
       "1.2404588582740426"
      ]
     },
     "execution_count": 220,
     "metadata": {},
     "output_type": "execute_result"
    }
   ],
   "source": [
    "# correction factor\n",
    "factor = m2 / m1\n",
    "\n",
    "factor"
   ]
  },
  {
   "cell_type": "code",
   "execution_count": 221,
   "metadata": {},
   "outputs": [],
   "source": [
    "# copy of the original series\n",
    "data3['E_'] = data3[gage].copy()\n",
    "# correct period before the first break\n",
    "data3.loc[:breaks[0], 'E_'] *= factor"
   ]
  },
  {
   "cell_type": "code",
   "execution_count": 222,
   "metadata": {},
   "outputs": [
    {
     "data": {
      "image/png": "[encoded data removed]",
      "text/plain": [
       "<Figure size 360x360 with 1 Axes>"
      ]
     },
     "metadata": {
      "needs_background": "light"
     },
     "output_type": "display_data"
    }
   ],
   "source": [
    "plt.figure(figsize=(5, 5))\n",
    "plt.axis('equal')\n",
    "plt.plot((0, 800), (0, 800), '--k')\n",
    "plt.plot(data3.AVG.cumsum(), data3[gage].cumsum(), '.-', label='original')\n",
    "plt.plot(data3.AVG.cumsum(), data3[gage + '_'].cumsum(), '.-', label='corrected')\n",
    "plt.legend();"
   ]
  },
  {
   "cell_type": "code",
   "execution_count": 223,
   "metadata": {},
   "outputs": [],
   "source": [
    "# chech again for errors\n",
    "identify_errors(data3[gage + '_'], data3.AVG)"
   ]
  },
  {
   "cell_type": "markdown",
   "metadata": {},
   "source": [
    "We don't identify any more errors, so the assumption that the slopes of the second and third period were close enough was correct."
   ]
  },
  {
   "cell_type": "markdown",
   "metadata": {},
   "source": [
    "#### Redraw the double-mass plot"
   ]
  },
  {
   "cell_type": "code",
   "execution_count": 246,
   "metadata": {},
   "outputs": [],
   "source": [
    "# recalculate the average\n",
    "gages = ['A', 'B_', 'C', 'D__', 'E_']\n",
    "data3['AVG_'] = data3[gages].mean(axis=1)"
   ]
  },
  {
   "cell_type": "code",
   "execution_count": 247,
   "metadata": {},
   "outputs": [
    {
     "data": {
      "image/png": "[encoded data removed]",
      "text/plain": [
       "<Figure size 864x576 with 6 Axes>"
      ]
     },
     "metadata": {
      "needs_background": "light"
     },
     "output_type": "display_data"
    }
   ],
   "source": [
    "fig, axes = plt.subplots(nrows=2, ncols=3, figsize=(12, 8), sharex=True, sharey=True)\n",
    "\n",
    "for (gage, ax) in zip(gages, axes.flatten()):\n",
    "    ax.plot((0, 800), (0, 800), ':k')\n",
    "    # double-mass curve\n",
    "    ax.plot(data3.AVG_.cumsum(), data3[gage].cumsum(), '.-', label='corrected')\n",
    "    ax.set_title('gage ' + gage)\n",
    "    \n",
    "axes[1, 2].axis('off');\n",
    "                \n",
    "# save figure\n",
    "plt.savefig('../output/Ex3_double-mass curve.png', dpi=300)"
   ]
  },
  {
   "cell_type": "code",
   "execution_count": 248,
   "metadata": {},
   "outputs": [],
   "source": [
    "# export corrected series\n",
    "data3_ = data3.loc[:, gages]\n",
    "data3_.columns = ['A', 'B', 'C', 'D', 'E']\n",
    "data3_.to_csv('../output/Ex3_corrected series.csv', float_format='%.2f')"
   ]
  }
 ],
 "metadata": {
  "anaconda-cloud": {},
  "kernelspec": {
   "display_name": "Python 3",
   "language": "python",
   "name": "python3"
  },
  "language_info": {
   "codemirror_mode": {
    "name": "ipython",
    "version": 3
   },
   "file_extension": ".py",
   "mimetype": "text/x-python",
   "name": "python",
   "nbconvert_exporter": "python",
   "pygments_lexer": "ipython3",
   "version": "3.7.3"
  },
  "varInspector": {
   "cols": {
    "lenName": 16,
    "lenType": 16,
    "lenVar": 40
   },
   "kernels_config": {
    "python": {
     "delete_cmd_postfix": "",
     "delete_cmd_prefix": "del ",
     "library": "var_list.py",
     "varRefreshCmd": "print(var_dic_list())"
    },
    "r": {
     "delete_cmd_postfix": ") ",
     "delete_cmd_prefix": "rm(",
     "library": "var_list.r",
     "varRefreshCmd": "cat(var_dic_list()) "
    }
   },
   "position": {
    "height": "255px",
    "left": "634px",
    "right": "20px",
    "top": "118px",
    "width": "350px"
   },
   "types_to_exclude": [
    "module",
    "function",
    "builtin_function_or_method",
    "instance",
    "_Feature"
   ],
   "window_display": false
  }
 },
 "nbformat": 4,
 "nbformat_minor": 4
}
