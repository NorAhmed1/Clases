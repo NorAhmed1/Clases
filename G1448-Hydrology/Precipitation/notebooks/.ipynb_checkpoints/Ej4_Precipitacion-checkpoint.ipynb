{
 "cells": [
  {
   "cell_type": "markdown",
   "metadata": {},
   "source": [
    "# Ejercicios de precipitación\n",
    "\n",
    "## <font color=steelblue>Ejercicio 4 - Método hipsométrico\n",
    "\n",
    "<font color=steelblue>Dada la curva hipsométrica de una cuenca (relación área-elevación) y la información de varias estaciones pluviométricas en dicha cuenca (tabla *Exercise_004* del archivo *RainfallData.xlsx*), calcula la precipitación media anual para la cuenca usando el método hipsométrico.<tfont>\n",
    "\n",
    "| **Rango de altitud (m)** | **Fracción del área de la cuenca** |\n",
    "|-------------------------|-----------------------------------|\n",
    "| 311-400                 | 0.028                             |\n",
    "| 400-600                 | 0.159                             |\n",
    "| 600-800                 | 0.341                             |\n",
    "| 800-1000                | 0.271                             |\n",
    "| 1000-1200               | 0.151                             |\n",
    "| 1200-1400               | 0.042                             |\n",
    "| 1400-1600               | 0.008                             |"
   ]
  },
  {
   "cell_type": "code",
   "execution_count": 1,
   "metadata": {},
   "outputs": [],
   "source": [
    "import numpy as np\n",
    "\n",
    "import pandas as pd\n",
    "\n",
    "from matplotlib import pyplot as plt\n",
    "%matplotlib inline\n",
    "plt.style.use('dark_background')\n",
    "#plt.style.use('seaborn-whitegrid')\n",
    "\n",
    "#from scipy.stats import genextreme\n",
    "#from scipy.optimize import curve_fit"
   ]
  },
  {
   "cell_type": "markdown",
   "metadata": {},
   "source": [
    "__Curva hipsométrica__<br>\n",
    "La curva hipsométrica define el porcentaje de área de la cuenca que está por debajo de una altitud dada.\n",
    "\n",
    "En este ejercicio utilizaremos la curva hipsométrica para asignar la proporción de la cuenca (en tanto por uno) correspondiente a cada franja de altitud."
   ]
  },
  {
   "cell_type": "code",
   "execution_count": 2,
   "metadata": {},
   "outputs": [],
   "source": [
    "# Rangos de altitud\n",
    "Zs = np.array([311, 400, 600, 800, 1000, 1200, 1400, 1600])\n",
    "Zs = np.mean([Zs[:-1], Zs[1:]], axis=0)\n",
    "# Área asociada\n",
    "As = np.array([0.028, 0.159, 0.341, 0.271, 0.151, 0.042, 0.008])"
   ]
  },
  {
   "cell_type": "code",
   "execution_count": 3,
   "metadata": {},
   "outputs": [
    {
     "data": {
      "text/html": [
       "<div>\n",
       "<style scoped>\n",
       "    .dataframe tbody tr th:only-of-type {\n",
       "        vertical-align: middle;\n",
       "    }\n",
       "\n",
       "    .dataframe tbody tr th {\n",
       "        vertical-align: top;\n",
       "    }\n",
       "\n",
       "    .dataframe thead th {\n",
       "        text-align: right;\n",
       "    }\n",
       "</style>\n",
       "<table border=\"1\" class=\"dataframe\">\n",
       "  <thead>\n",
       "    <tr style=\"text-align: right;\">\n",
       "      <th></th>\n",
       "      <th>Z</th>\n",
       "      <th>A</th>\n",
       "      <th>Aac</th>\n",
       "    </tr>\n",
       "  </thead>\n",
       "  <tbody>\n",
       "    <tr>\n",
       "      <th>0</th>\n",
       "      <td>355.5</td>\n",
       "      <td>0.028</td>\n",
       "      <td>0.028</td>\n",
       "    </tr>\n",
       "    <tr>\n",
       "      <th>1</th>\n",
       "      <td>500.0</td>\n",
       "      <td>0.159</td>\n",
       "      <td>0.187</td>\n",
       "    </tr>\n",
       "    <tr>\n",
       "      <th>2</th>\n",
       "      <td>700.0</td>\n",
       "      <td>0.341</td>\n",
       "      <td>0.528</td>\n",
       "    </tr>\n",
       "    <tr>\n",
       "      <th>3</th>\n",
       "      <td>900.0</td>\n",
       "      <td>0.271</td>\n",
       "      <td>0.799</td>\n",
       "    </tr>\n",
       "    <tr>\n",
       "      <th>4</th>\n",
       "      <td>1100.0</td>\n",
       "      <td>0.151</td>\n",
       "      <td>0.950</td>\n",
       "    </tr>\n",
       "    <tr>\n",
       "      <th>5</th>\n",
       "      <td>1300.0</td>\n",
       "      <td>0.042</td>\n",
       "      <td>0.992</td>\n",
       "    </tr>\n",
       "    <tr>\n",
       "      <th>6</th>\n",
       "      <td>1500.0</td>\n",
       "      <td>0.008</td>\n",
       "      <td>1.000</td>\n",
       "    </tr>\n",
       "  </tbody>\n",
       "</table>\n",
       "</div>"
      ],
      "text/plain": [
       "        Z      A    Aac\n",
       "0   355.5  0.028  0.028\n",
       "1   500.0  0.159  0.187\n",
       "2   700.0  0.341  0.528\n",
       "3   900.0  0.271  0.799\n",
       "4  1100.0  0.151  0.950\n",
       "5  1300.0  0.042  0.992\n",
       "6  1500.0  0.008  1.000"
      ]
     },
     "execution_count": 3,
     "metadata": {},
     "output_type": "execute_result"
    }
   ],
   "source": [
    "# crear data frame\n",
    "hipso = pd.DataFrame(data=[Zs, As]).transpose()\n",
    "hipso.columns = ['Z', 'A']\n",
    "hipso['Aac'] = hipso.A.cumsum()\n",
    "hipso"
   ]
  },
  {
   "cell_type": "code",
   "execution_count": 11,
   "metadata": {},
   "outputs": [
    {
     "data": {
      "image/png": "[encoded data removed]",
      "text/plain": [
       "<Figure size 432x288 with 1 Axes>"
      ]
     },
     "metadata": {
      "needs_background": "dark"
     },
     "output_type": "display_data"
    }
   ],
   "source": [
    "# Gráfico de la curva hipsométrica\n",
    "plt.plot(hipso.Z, hipso.Aac * 100)\n",
    "plt.title('Curva hipsométrica', fontsize=16, weight='bold')\n",
    "plt.xlabel('altitud (msnm)', fontsize=13)\n",
    "plt.xlim(Zs[0], Zs[-1])\n",
    "plt.ylabel('área (%)', fontsize=13)\n",
    "plt.ylim((0, 100));\n",
    "\n",
    "# guardar la figura\n",
    "plt.savefig('../output/Ej4_curva hipsométrica.png', dpi=300)"
   ]
  },
  {
   "cell_type": "markdown",
   "metadata": {},
   "source": [
    "__Regresión precipitación-altitud__\n",
    "\n",
    "Utilizaremos los datos de precipitación anual en las estaciones de la cuenca para establecer la regresión lineal de la precipitación con la altitud."
   ]
  },
  {
   "cell_type": "code",
   "execution_count": 6,
   "metadata": {},
   "outputs": [
    {
     "data": {
      "text/html": [
       "<div>\n",
       "<style scoped>\n",
       "    .dataframe tbody tr th:only-of-type {\n",
       "        vertical-align: middle;\n",
       "    }\n",
       "\n",
       "    .dataframe tbody tr th {\n",
       "        vertical-align: top;\n",
       "    }\n",
       "\n",
       "    .dataframe thead th {\n",
       "        text-align: right;\n",
       "    }\n",
       "</style>\n",
       "<table border=\"1\" class=\"dataframe\">\n",
       "  <thead>\n",
       "    <tr style=\"text-align: right;\">\n",
       "      <th></th>\n",
       "      <th>Z</th>\n",
       "      <th>P</th>\n",
       "    </tr>\n",
       "    <tr>\n",
       "      <th>Gage</th>\n",
       "      <th></th>\n",
       "      <th></th>\n",
       "    </tr>\n",
       "  </thead>\n",
       "  <tbody>\n",
       "    <tr>\n",
       "      <th>1</th>\n",
       "      <td>442</td>\n",
       "      <td>1392</td>\n",
       "    </tr>\n",
       "    <tr>\n",
       "      <th>2</th>\n",
       "      <td>548</td>\n",
       "      <td>1246</td>\n",
       "    </tr>\n",
       "    <tr>\n",
       "      <th>3</th>\n",
       "      <td>736</td>\n",
       "      <td>1495</td>\n",
       "    </tr>\n",
       "    <tr>\n",
       "      <th>4</th>\n",
       "      <td>770</td>\n",
       "      <td>1698</td>\n",
       "    </tr>\n",
       "    <tr>\n",
       "      <th>5</th>\n",
       "      <td>852</td>\n",
       "      <td>1717</td>\n",
       "    </tr>\n",
       "    <tr>\n",
       "      <th>6</th>\n",
       "      <td>1031</td>\n",
       "      <td>1752</td>\n",
       "    </tr>\n",
       "  </tbody>\n",
       "</table>\n",
       "</div>"
      ],
      "text/plain": [
       "         Z     P\n",
       "Gage            \n",
       "1      442  1392\n",
       "2      548  1246\n",
       "3      736  1495\n",
       "4      770  1698\n",
       "5      852  1717\n",
       "6     1031  1752"
      ]
     },
     "execution_count": 6,
     "metadata": {},
     "output_type": "execute_result"
    }
   ],
   "source": [
    "# Importar datos de precipitación\n",
    "data4 = pd.read_excel('../data/RainfallData.xlsx', sheet_name='Exercise_004',\n",
    "                      index_col='Gage')\n",
    "# Simplificar nombres de las variables\n",
    "data4.columns = ['Z', 'P']\n",
    "data4"
   ]
  },
  {
   "cell_type": "markdown",
   "metadata": {},
   "source": [
    "Se calcula la regresión lineal de la precipitación media anual con respecto a la altura.\n",
    "\n",
    "$$P=a·Z+b$$\n",
    "\n",
    "Donde $P$ es la precipitación media anual (mm) de un punto a cota $Z$ (msnm)."
   ]
  },
  {
   "cell_type": "code",
   "execution_count": 7,
   "metadata": {},
   "outputs": [
    {
     "name": "stdout",
     "output_type": "stream",
     "text": [
      "P = 0.841 Z + 936.550\n"
     ]
    }
   ],
   "source": [
    "# ajustar la recta de regresión\n",
    "(a, b) = np.polyfit(data4.Z, data4.P, deg=1)\n",
    "print('P = {0:.3f} Z + {1:.3f}'.format(a,b))"
   ]
  },
  {
   "cell_type": "code",
   "execution_count": 12,
   "metadata": {},
   "outputs": [
    {
     "data": {
      "image/png": "[encoded data removed]",
      "text/plain": [
       "<Figure size 432x288 with 1 Axes>"
      ]
     },
     "metadata": {
      "needs_background": "dark"
     },
     "output_type": "display_data"
    }
   ],
   "source": [
    "# Gráfico altitud vs precipitación anual\n",
    "plt.scatter(data4.Z, data4.P)\n",
    "# recta de regresión\n",
    "xlim = np.array([0, Zs[-1]])\n",
    "plt.plot(xlim, a * xlim + b, 'r--')\n",
    "# configuración\n",
    "plt.title('', fontsize=16, weight='bold')\n",
    "plt.xlabel('altitud (msnm)', fontsize=13)\n",
    "plt.xlim(xlim)\n",
    "plt.ylabel('Panual (mm)', fontsize=13)\n",
    "plt.ylim(0, 2200);\n",
    "\n",
    "# guardar la figura\n",
    "plt.savefig('../output/Ej4_regresión lienal Z-Panual.png', dpi=300)"
   ]
  },
  {
   "cell_type": "markdown",
   "metadata": {},
   "source": [
    "__Precipitación areal__\n",
    "\n",
    "Conocida la regresión, se calcula la precipitación media anual en los puntos intermedios de cada una de los rangos de altitud que define la curva hipsométrica."
   ]
  },
  {
   "cell_type": "code",
   "execution_count": 13,
   "metadata": {},
   "outputs": [
    {
     "data": {
      "text/html": [
       "<div>\n",
       "<style scoped>\n",
       "    .dataframe tbody tr th:only-of-type {\n",
       "        vertical-align: middle;\n",
       "    }\n",
       "\n",
       "    .dataframe tbody tr th {\n",
       "        vertical-align: top;\n",
       "    }\n",
       "\n",
       "    .dataframe thead th {\n",
       "        text-align: right;\n",
       "    }\n",
       "</style>\n",
       "<table border=\"1\" class=\"dataframe\">\n",
       "  <thead>\n",
       "    <tr style=\"text-align: right;\">\n",
       "      <th></th>\n",
       "      <th>Z</th>\n",
       "      <th>A</th>\n",
       "      <th>Aac</th>\n",
       "      <th>P</th>\n",
       "    </tr>\n",
       "  </thead>\n",
       "  <tbody>\n",
       "    <tr>\n",
       "      <th>0</th>\n",
       "      <td>355.5</td>\n",
       "      <td>0.028</td>\n",
       "      <td>0.028</td>\n",
       "      <td>1235.359775</td>\n",
       "    </tr>\n",
       "    <tr>\n",
       "      <th>1</th>\n",
       "      <td>500.0</td>\n",
       "      <td>0.159</td>\n",
       "      <td>0.187</td>\n",
       "      <td>1356.817066</td>\n",
       "    </tr>\n",
       "    <tr>\n",
       "      <th>2</th>\n",
       "      <td>700.0</td>\n",
       "      <td>0.341</td>\n",
       "      <td>0.528</td>\n",
       "      <td>1524.924043</td>\n",
       "    </tr>\n",
       "    <tr>\n",
       "      <th>3</th>\n",
       "      <td>900.0</td>\n",
       "      <td>0.271</td>\n",
       "      <td>0.799</td>\n",
       "      <td>1693.031019</td>\n",
       "    </tr>\n",
       "    <tr>\n",
       "      <th>4</th>\n",
       "      <td>1100.0</td>\n",
       "      <td>0.151</td>\n",
       "      <td>0.950</td>\n",
       "      <td>1861.137996</td>\n",
       "    </tr>\n",
       "    <tr>\n",
       "      <th>5</th>\n",
       "      <td>1300.0</td>\n",
       "      <td>0.042</td>\n",
       "      <td>0.992</td>\n",
       "      <td>2029.244973</td>\n",
       "    </tr>\n",
       "    <tr>\n",
       "      <th>6</th>\n",
       "      <td>1500.0</td>\n",
       "      <td>0.008</td>\n",
       "      <td>1.000</td>\n",
       "      <td>2197.351949</td>\n",
       "    </tr>\n",
       "  </tbody>\n",
       "</table>\n",
       "</div>"
      ],
      "text/plain": [
       "        Z      A    Aac            P\n",
       "0   355.5  0.028  0.028  1235.359775\n",
       "1   500.0  0.159  0.187  1356.817066\n",
       "2   700.0  0.341  0.528  1524.924043\n",
       "3   900.0  0.271  0.799  1693.031019\n",
       "4  1100.0  0.151  0.950  1861.137996\n",
       "5  1300.0  0.042  0.992  2029.244973\n",
       "6  1500.0  0.008  1.000  2197.351949"
      ]
     },
     "execution_count": 13,
     "metadata": {},
     "output_type": "execute_result"
    }
   ],
   "source": [
    "hipso['P'] = a * hipso.Z + b\n",
    "hipso"
   ]
  },
  {
   "cell_type": "markdown",
   "metadata": {},
   "source": [
    "La precipitación areal es el sumatorio del producto del área y precipitación en cada uno de los rangos de altitud."
   ]
  },
  {
   "cell_type": "code",
   "execution_count": 14,
   "metadata": {},
   "outputs": [
    {
     "name": "stdout",
     "output_type": "stream",
     "text": [
      "La precipitación media anual sobre la cuenca es 1613.0 mm\n"
     ]
    }
   ],
   "source": [
    "Pareal = np.sum(hipso.A * hipso.P)\n",
    "\n",
    "print('La precipitación media anual sobre la cuenca es {0:.1f} mm'.format(Pareal))"
   ]
  },
  {
   "cell_type": "markdown",
   "metadata": {},
   "source": [
    "Hacer lo mismo de forma simplificada:"
   ]
  },
  {
   "cell_type": "code",
   "execution_count": 17,
   "metadata": {},
   "outputs": [
    {
     "name": "stdout",
     "output_type": "stream",
     "text": [
      "La precipitación media anual sobre la cuenca es 1613.0 mm\n"
     ]
    }
   ],
   "source": [
    "p = np.polyfit(data4.Z,  data4.P, deg=1) # ajustar la regresión\n",
    "Ps = np.polyval(p, Zs)                   # interpolar precipitación\n",
    "Pareal = np.sum(Ps * As)                 # precipitación areal\n",
    "\n",
    "print('La precipitación media anual sobre la cuenca es {0:.1f} mm'.format(Pareal))"
   ]
  },
  {
   "cell_type": "markdown",
   "metadata": {},
   "source": [
    "Si se hubiera calculado la precipitación areal por el **método de la media de las estacions**, habríamos subestimado la precipitación areal de la cuenca."
   ]
  },
  {
   "cell_type": "code",
   "execution_count": 19,
   "metadata": {},
   "outputs": [
    {
     "name": "stdout",
     "output_type": "stream",
     "text": [
      "La precipitación media anual sobre la cuenca 1550.0 mm\n"
     ]
    }
   ],
   "source": [
    "Pareal2 = data4.P.mean()\n",
    "\n",
    "print('La precipitación media anual sobre la cuenca {0:.1f} mm'.format(Pareal2))"
   ]
  }
 ],
 "metadata": {
  "anaconda-cloud": {},
  "kernelspec": {
   "display_name": "Python 3",
   "language": "python",
   "name": "python3"
  },
  "language_info": {
   "codemirror_mode": {
    "name": "ipython",
    "version": 3
   },
   "file_extension": ".py",
   "mimetype": "text/x-python",
   "name": "python",
   "nbconvert_exporter": "python",
   "pygments_lexer": "ipython3",
   "version": "3.7.3"
  },
  "varInspector": {
   "cols": {
    "lenName": 16,
    "lenType": 16,
    "lenVar": 40
   },
   "kernels_config": {
    "python": {
     "delete_cmd_postfix": "",
     "delete_cmd_prefix": "del ",
     "library": "var_list.py",
     "varRefreshCmd": "print(var_dic_list())"
    },
    "r": {
     "delete_cmd_postfix": ") ",
     "delete_cmd_prefix": "rm(",
     "library": "var_list.r",
     "varRefreshCmd": "cat(var_dic_list()) "
    }
   },
   "position": {
    "height": "255px",
    "left": "634px",
    "right": "20px",
    "top": "118px",
    "width": "350px"
   },
   "types_to_exclude": [
    "module",
    "function",
    "builtin_function_or_method",
    "instance",
    "_Feature"
   ],
   "window_display": false
  }
 },
 "nbformat": 4,
 "nbformat_minor": 4
}
