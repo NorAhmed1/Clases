{
 "cells": [
  {
   "cell_type": "markdown",
   "metadata": {},
   "source": [
    "# Exercises precipitation\n",
    "***\n",
    "\n",
    "## <font color=steelblue>Exercise 1 - Interpolate missing values\n",
    "\n",
    "<font color=steelblue>The figure shows the location of 11 precipitation gages in a research watershed. Measurements are missing at gage F for a rain storm. Use the records from the other gages (shown in the following table) to fill the gap in the rainfall amount in gage F.\n",
    "\n",
    "<img src=\"img/RainGages.png\" alt=\"Mountain View\" style=\"width:300px\">\n",
    "      \n",
    "<font color=steelblue>The file *RainfallData_Exercise_001.csv* contains the rainfall data.\n",
    "\n",
    "| Gage | X      | Y       | Average Annual Precip. (mm) | Measured Storm Precip. (mm) |\n",
    "|------|--------|---------|-----------------------------|-----------------------------|\n",
    "| C    | 385014 | 4778553 | 1404                        | 11.6                        |\n",
    "| D    | 389634 | 4779045 | 1433                        | 14.8                        |\n",
    "| E    | 380729 | 4775518 | 1665                        | 13.3                        |\n",
    "| F    | 387259 | 4776670 | 1137                        | -                           |\n",
    "| G    | 389380 | 4776484 | 1235                        | 12.3                        |\n",
    "| H    | 382945 | 4772356 | 1114                        | 11.5                        |\n",
    "| I    | 386399 | 4771795 | 1101                        | 11.6                        |\n",
    "| J    | 388397 | 4772419 | 1086                        | 11.2                        |\n",
    "| K    | 389287 | 4771097 | 1010                        | 9.7                         |"
   ]
  },
  {
   "cell_type": "markdown",
   "metadata": {},
   "source": [
    "#### Methods:\n",
    "[1.1 The station-average method](#The-station-average-method)<br>\n",
    "[1.2 The normal-ratio method](#The-normal-ration-method)<br>\n",
    "[1.3 The inverse distance method](#The-inverse-distance-method)<br>"
   ]
  },
  {
   "cell_type": "markdown",
   "metadata": {},
   "source": [
    "Missing data completion methods and interpolation methods are both based in the following general equation:\n",
    "\n",
    "$$\\hat{p_o} = \\sum_{i=1}^{n} w_i·p_i$$\n",
    "\n",
    "Where $\\hat{p_o}$ is the rainfall value to be filled/interpolated, $n$ is the number of gages used to interpolate, $w_i$ and $p_i$ are the weighting factor and the rainfall value in each of those gages."
   ]
  },
  {
   "cell_type": "code",
   "execution_count": 1,
   "metadata": {},
   "outputs": [],
   "source": [
    "import numpy as np\n",
    "\n",
    "import pandas as pd\n",
    "\n",
    "from matplotlib import pyplot as plt\n",
    "import seaborn as sns\n",
    "sns.set()\n",
    "sns.set_context('notebook')"
   ]
  },
  {
   "cell_type": "markdown",
   "metadata": {},
   "source": [
    "### Import data\n",
    "Import data using *pandas* and save it in an object (*data frame* using pandas terminology)."
   ]
  },
  {
   "cell_type": "code",
   "execution_count": 2,
   "metadata": {},
   "outputs": [
    {
     "data": {
      "text/html": [
       "<div>\n",
       "<style scoped>\n",
       "    .dataframe tbody tr th:only-of-type {\n",
       "        vertical-align: middle;\n",
       "    }\n",
       "\n",
       "    .dataframe tbody tr th {\n",
       "        vertical-align: top;\n",
       "    }\n",
       "\n",
       "    .dataframe thead th {\n",
       "        text-align: right;\n",
       "    }\n",
       "</style>\n",
       "<table border=\"1\" class=\"dataframe\">\n",
       "  <thead>\n",
       "    <tr style=\"text-align: right;\">\n",
       "      <th></th>\n",
       "      <th>X</th>\n",
       "      <th>Y</th>\n",
       "      <th>Average Annual Precip. (mm)</th>\n",
       "      <th>Measured Storm Precip. (mm)</th>\n",
       "    </tr>\n",
       "    <tr>\n",
       "      <th>Gage</th>\n",
       "      <th></th>\n",
       "      <th></th>\n",
       "      <th></th>\n",
       "      <th></th>\n",
       "    </tr>\n",
       "  </thead>\n",
       "  <tbody>\n",
       "    <tr>\n",
       "      <th>A</th>\n",
       "      <td>387706</td>\n",
       "      <td>4781780</td>\n",
       "      <td>1373</td>\n",
       "      <td>14.4</td>\n",
       "    </tr>\n",
       "    <tr>\n",
       "      <th>B</th>\n",
       "      <td>383422</td>\n",
       "      <td>4778885</td>\n",
       "      <td>1452</td>\n",
       "      <td>12.2</td>\n",
       "    </tr>\n",
       "    <tr>\n",
       "      <th>C</th>\n",
       "      <td>385014</td>\n",
       "      <td>4778553</td>\n",
       "      <td>1404</td>\n",
       "      <td>11.6</td>\n",
       "    </tr>\n",
       "    <tr>\n",
       "      <th>D</th>\n",
       "      <td>389634</td>\n",
       "      <td>4779045</td>\n",
       "      <td>1433</td>\n",
       "      <td>14.8</td>\n",
       "    </tr>\n",
       "    <tr>\n",
       "      <th>E</th>\n",
       "      <td>380729</td>\n",
       "      <td>4775518</td>\n",
       "      <td>1665</td>\n",
       "      <td>13.3</td>\n",
       "    </tr>\n",
       "    <tr>\n",
       "      <th>F</th>\n",
       "      <td>387259</td>\n",
       "      <td>4776670</td>\n",
       "      <td>1137</td>\n",
       "      <td>NaN</td>\n",
       "    </tr>\n",
       "    <tr>\n",
       "      <th>G</th>\n",
       "      <td>389380</td>\n",
       "      <td>4776484</td>\n",
       "      <td>1235</td>\n",
       "      <td>12.3</td>\n",
       "    </tr>\n",
       "    <tr>\n",
       "      <th>H</th>\n",
       "      <td>382945</td>\n",
       "      <td>4772356</td>\n",
       "      <td>1114</td>\n",
       "      <td>11.5</td>\n",
       "    </tr>\n",
       "    <tr>\n",
       "      <th>I</th>\n",
       "      <td>386399</td>\n",
       "      <td>4771795</td>\n",
       "      <td>1101</td>\n",
       "      <td>11.6</td>\n",
       "    </tr>\n",
       "    <tr>\n",
       "      <th>J</th>\n",
       "      <td>388397</td>\n",
       "      <td>4772419</td>\n",
       "      <td>1086</td>\n",
       "      <td>11.2</td>\n",
       "    </tr>\n",
       "    <tr>\n",
       "      <th>K</th>\n",
       "      <td>389287</td>\n",
       "      <td>4771097</td>\n",
       "      <td>1010</td>\n",
       "      <td>9.7</td>\n",
       "    </tr>\n",
       "  </tbody>\n",
       "</table>\n",
       "</div>"
      ],
      "text/plain": [
       "           X        Y  Average Annual Precip. (mm)  \\\n",
       "Gage                                                 \n",
       "A     387706  4781780                         1373   \n",
       "B     383422  4778885                         1452   \n",
       "C     385014  4778553                         1404   \n",
       "D     389634  4779045                         1433   \n",
       "E     380729  4775518                         1665   \n",
       "F     387259  4776670                         1137   \n",
       "G     389380  4776484                         1235   \n",
       "H     382945  4772356                         1114   \n",
       "I     386399  4771795                         1101   \n",
       "J     388397  4772419                         1086   \n",
       "K     389287  4771097                         1010   \n",
       "\n",
       "      Measured Storm Precip. (mm)  \n",
       "Gage                               \n",
       "A                            14.4  \n",
       "B                            12.2  \n",
       "C                            11.6  \n",
       "D                            14.8  \n",
       "E                            13.3  \n",
       "F                             NaN  \n",
       "G                            12.3  \n",
       "H                            11.5  \n",
       "I                            11.6  \n",
       "J                            11.2  \n",
       "K                             9.7  "
      ]
     },
     "execution_count": 2,
     "metadata": {},
     "output_type": "execute_result"
    }
   ],
   "source": [
    "# Import 'RainfallData_Exercise_001.csv'\n",
    "data1 = pd.read_csv('..\\data\\RainfallData_Exercise_001.csv', index_col=0)\n",
    "data1"
   ]
  },
  {
   "cell_type": "markdown",
   "metadata": {},
   "source": [
    "*Data frames* have a series of attributes associated. For instance, we can ask for the dimensions of the table (`shape`), the number of elements (`size`), the name of the rows or columns (`index` or `columns`) or extract the data as a *numpy array* (`values`).\n",
    "\n",
    "To call an attribute, type: `DataFrame.attribute`"
   ]
  },
  {
   "cell_type": "code",
   "execution_count": 3,
   "metadata": {},
   "outputs": [
    {
     "data": {
      "text/plain": [
       "(11, 4)"
      ]
     },
     "execution_count": 3,
     "metadata": {},
     "output_type": "execute_result"
    }
   ],
   "source": [
    "# dimension\n",
    "data1.shape"
   ]
  },
  {
   "cell_type": "code",
   "execution_count": 4,
   "metadata": {},
   "outputs": [
    {
     "data": {
      "text/plain": [
       "44"
      ]
     },
     "execution_count": 4,
     "metadata": {},
     "output_type": "execute_result"
    }
   ],
   "source": [
    "# n. of elements\n",
    "data1.size"
   ]
  },
  {
   "cell_type": "code",
   "execution_count": 5,
   "metadata": {},
   "outputs": [
    {
     "data": {
      "text/plain": [
       "Index(['A', 'B', 'C', 'D', 'E', 'F', 'G', 'H', 'I', 'J', 'K'], dtype='object', name='Gage')"
      ]
     },
     "execution_count": 5,
     "metadata": {},
     "output_type": "execute_result"
    }
   ],
   "source": [
    "# row names\n",
    "data1.index"
   ]
  },
  {
   "cell_type": "code",
   "execution_count": 6,
   "metadata": {},
   "outputs": [
    {
     "data": {
      "text/plain": [
       "Index(['X', 'Y', 'Average Annual Precip. (mm)', 'Measured Storm Precip. (mm)'], dtype='object')"
      ]
     },
     "execution_count": 6,
     "metadata": {},
     "output_type": "execute_result"
    }
   ],
   "source": [
    "# column names\n",
    "data1.columns"
   ]
  },
  {
   "cell_type": "markdown",
   "metadata": {},
   "source": [
    "Apart from attributes, we can apply any kind of function to a *data frame*. For instance, `describe` shows a statisical summary of the variables in the *data fram*.\n",
    "\n",
    "To apply a function, type: `DataFrame.function()`"
   ]
  },
  {
   "cell_type": "code",
   "execution_count": 7,
   "metadata": {},
   "outputs": [
    {
     "data": {
      "text/html": [
       "<div>\n",
       "<style scoped>\n",
       "    .dataframe tbody tr th:only-of-type {\n",
       "        vertical-align: middle;\n",
       "    }\n",
       "\n",
       "    .dataframe tbody tr th {\n",
       "        vertical-align: top;\n",
       "    }\n",
       "\n",
       "    .dataframe thead th {\n",
       "        text-align: right;\n",
       "    }\n",
       "</style>\n",
       "<table border=\"1\" class=\"dataframe\">\n",
       "  <thead>\n",
       "    <tr style=\"text-align: right;\">\n",
       "      <th></th>\n",
       "      <th>X</th>\n",
       "      <th>Y</th>\n",
       "      <th>Average Annual Precip. (mm)</th>\n",
       "      <th>Measured Storm Precip. (mm)</th>\n",
       "    </tr>\n",
       "  </thead>\n",
       "  <tbody>\n",
       "    <tr>\n",
       "      <th>count</th>\n",
       "      <td>11.000000</td>\n",
       "      <td>1.100000e+01</td>\n",
       "      <td>11.000000</td>\n",
       "      <td>10.000000</td>\n",
       "    </tr>\n",
       "    <tr>\n",
       "      <th>mean</th>\n",
       "      <td>386379.272727</td>\n",
       "      <td>4.775873e+06</td>\n",
       "      <td>1273.636364</td>\n",
       "      <td>12.260000</td>\n",
       "    </tr>\n",
       "    <tr>\n",
       "      <th>std</th>\n",
       "      <td>2983.076804</td>\n",
       "      <td>3.550817e+03</td>\n",
       "      <td>204.304808</td>\n",
       "      <td>1.536374</td>\n",
       "    </tr>\n",
       "    <tr>\n",
       "      <th>min</th>\n",
       "      <td>380729.000000</td>\n",
       "      <td>4.771097e+06</td>\n",
       "      <td>1010.000000</td>\n",
       "      <td>9.700000</td>\n",
       "    </tr>\n",
       "    <tr>\n",
       "      <th>25%</th>\n",
       "      <td>384218.000000</td>\n",
       "      <td>4.772388e+06</td>\n",
       "      <td>1107.500000</td>\n",
       "      <td>11.525000</td>\n",
       "    </tr>\n",
       "    <tr>\n",
       "      <th>50%</th>\n",
       "      <td>387259.000000</td>\n",
       "      <td>4.776484e+06</td>\n",
       "      <td>1235.000000</td>\n",
       "      <td>11.900000</td>\n",
       "    </tr>\n",
       "    <tr>\n",
       "      <th>75%</th>\n",
       "      <td>388842.000000</td>\n",
       "      <td>4.778719e+06</td>\n",
       "      <td>1418.500000</td>\n",
       "      <td>13.050000</td>\n",
       "    </tr>\n",
       "    <tr>\n",
       "      <th>max</th>\n",
       "      <td>389634.000000</td>\n",
       "      <td>4.781780e+06</td>\n",
       "      <td>1665.000000</td>\n",
       "      <td>14.800000</td>\n",
       "    </tr>\n",
       "  </tbody>\n",
       "</table>\n",
       "</div>"
      ],
      "text/plain": [
       "                   X             Y  Average Annual Precip. (mm)  \\\n",
       "count      11.000000  1.100000e+01                    11.000000   \n",
       "mean   386379.272727  4.775873e+06                  1273.636364   \n",
       "std      2983.076804  3.550817e+03                   204.304808   \n",
       "min    380729.000000  4.771097e+06                  1010.000000   \n",
       "25%    384218.000000  4.772388e+06                  1107.500000   \n",
       "50%    387259.000000  4.776484e+06                  1235.000000   \n",
       "75%    388842.000000  4.778719e+06                  1418.500000   \n",
       "max    389634.000000  4.781780e+06                  1665.000000   \n",
       "\n",
       "       Measured Storm Precip. (mm)  \n",
       "count                    10.000000  \n",
       "mean                     12.260000  \n",
       "std                       1.536374  \n",
       "min                       9.700000  \n",
       "25%                      11.525000  \n",
       "50%                      11.900000  \n",
       "75%                      13.050000  \n",
       "max                      14.800000  "
      ]
     },
     "execution_count": 7,
     "metadata": {},
     "output_type": "execute_result"
    }
   ],
   "source": [
    "# summary\n",
    "data1.describe()"
   ]
  },
  {
   "cell_type": "code",
   "execution_count": 8,
   "metadata": {},
   "outputs": [
    {
     "data": {
      "text/plain": [
       "X                               386379.0\n",
       "Y                              4775873.0\n",
       "Average Annual Precip. (mm)       1274.0\n",
       "Measured Storm Precip. (mm)         12.0\n",
       "dtype: float64"
      ]
     },
     "execution_count": 8,
     "metadata": {},
     "output_type": "execute_result"
    }
   ],
   "source": [
    "# mean\n",
    "round(data1.mean(), 0)"
   ]
  },
  {
   "cell_type": "code",
   "execution_count": 9,
   "metadata": {},
   "outputs": [
    {
     "data": {
      "text/html": [
       "<div>\n",
       "<style scoped>\n",
       "    .dataframe tbody tr th:only-of-type {\n",
       "        vertical-align: middle;\n",
       "    }\n",
       "\n",
       "    .dataframe tbody tr th {\n",
       "        vertical-align: top;\n",
       "    }\n",
       "\n",
       "    .dataframe thead th {\n",
       "        text-align: right;\n",
       "    }\n",
       "</style>\n",
       "<table border=\"1\" class=\"dataframe\">\n",
       "  <thead>\n",
       "    <tr style=\"text-align: right;\">\n",
       "      <th></th>\n",
       "      <th>X</th>\n",
       "      <th>Y</th>\n",
       "      <th>Average Annual Precip. (mm)</th>\n",
       "      <th>Measured Storm Precip. (mm)</th>\n",
       "    </tr>\n",
       "    <tr>\n",
       "      <th>Gage</th>\n",
       "      <th></th>\n",
       "      <th></th>\n",
       "      <th></th>\n",
       "      <th></th>\n",
       "    </tr>\n",
       "  </thead>\n",
       "  <tbody>\n",
       "    <tr>\n",
       "      <th>A</th>\n",
       "      <td>387706</td>\n",
       "      <td>4781780</td>\n",
       "      <td>1373</td>\n",
       "      <td>14.4</td>\n",
       "    </tr>\n",
       "    <tr>\n",
       "      <th>B</th>\n",
       "      <td>383422</td>\n",
       "      <td>4778885</td>\n",
       "      <td>1452</td>\n",
       "      <td>12.2</td>\n",
       "    </tr>\n",
       "    <tr>\n",
       "      <th>C</th>\n",
       "      <td>385014</td>\n",
       "      <td>4778553</td>\n",
       "      <td>1404</td>\n",
       "      <td>11.6</td>\n",
       "    </tr>\n",
       "    <tr>\n",
       "      <th>D</th>\n",
       "      <td>389634</td>\n",
       "      <td>4779045</td>\n",
       "      <td>1433</td>\n",
       "      <td>14.8</td>\n",
       "    </tr>\n",
       "    <tr>\n",
       "      <th>E</th>\n",
       "      <td>380729</td>\n",
       "      <td>4775518</td>\n",
       "      <td>1665</td>\n",
       "      <td>13.3</td>\n",
       "    </tr>\n",
       "  </tbody>\n",
       "</table>\n",
       "</div>"
      ],
      "text/plain": [
       "           X        Y  Average Annual Precip. (mm)  \\\n",
       "Gage                                                 \n",
       "A     387706  4781780                         1373   \n",
       "B     383422  4778885                         1452   \n",
       "C     385014  4778553                         1404   \n",
       "D     389634  4779045                         1433   \n",
       "E     380729  4775518                         1665   \n",
       "\n",
       "      Measured Storm Precip. (mm)  \n",
       "Gage                               \n",
       "A                            14.4  \n",
       "B                            12.2  \n",
       "C                            11.6  \n",
       "D                            14.8  \n",
       "E                            13.3  "
      ]
     },
     "execution_count": 9,
     "metadata": {},
     "output_type": "execute_result"
    }
   ],
   "source": [
    "# first rows\n",
    "data1.head()"
   ]
  },
  {
   "cell_type": "markdown",
   "metadata": {},
   "source": [
    "To extract a datum or a subset of data from a *data frame*, we must indicate row and column by either the name or the position.\n",
    "*  Function `.loc` extracts subsets of a *data frame* calling the row and column names.\n",
    "*  Function `.iloc` does the same, but using the row and column position. WARNING: Python positioning starts from 0, so the first row is row number 0 instead of 1."
   ]
  },
  {
   "cell_type": "code",
   "execution_count": 10,
   "metadata": {},
   "outputs": [
    {
     "data": {
      "text/plain": [
       "Gage\n",
       "A    1373\n",
       "C    1404\n",
       "Name: Average Annual Precip. (mm), dtype: int64"
      ]
     },
     "execution_count": 10,
     "metadata": {},
     "output_type": "execute_result"
    }
   ],
   "source": [
    "# Extract using .loc\n",
    "data1.loc['A', 'Measured Storm Precip. (mm)']\n",
    "data1.loc['A', :]\n",
    "data1.loc[['A', 'C'], 'Average Annual Precip. (mm)']"
   ]
  },
  {
   "cell_type": "code",
   "execution_count": 11,
   "metadata": {},
   "outputs": [
    {
     "data": {
      "text/plain": [
       "Gage\n",
       "A    4781780\n",
       "C    4778553\n",
       "Name: Y, dtype: int64"
      ]
     },
     "execution_count": 11,
     "metadata": {},
     "output_type": "execute_result"
    }
   ],
   "source": [
    "# Extract using .iloc\n",
    "data1.iloc[0, 0]\n",
    "data1.iloc[0, :]\n",
    "data1.iloc[[0, 2], 1]"
   ]
  },
  {
   "cell_type": "code",
   "execution_count": 12,
   "metadata": {},
   "outputs": [
    {
     "data": {
      "text/plain": [
       "Gage\n",
       "A    1373\n",
       "B    1452\n",
       "C    1404\n",
       "D    1433\n",
       "E    1665\n",
       "F    1137\n",
       "G    1235\n",
       "H    1114\n",
       "I    1101\n",
       "J    1086\n",
       "K    1010\n",
       "Name: Average Annual Precip. (mm), dtype: int64"
      ]
     },
     "execution_count": 12,
     "metadata": {},
     "output_type": "execute_result"
    }
   ],
   "source": [
    "# Extract a column by its name\n",
    "data1['Average Annual Precip. (mm)']"
   ]
  },
  {
   "cell_type": "code",
   "execution_count": 13,
   "metadata": {},
   "outputs": [
    {
     "data": {
      "text/html": [
       "<div>\n",
       "<style scoped>\n",
       "    .dataframe tbody tr th:only-of-type {\n",
       "        vertical-align: middle;\n",
       "    }\n",
       "\n",
       "    .dataframe tbody tr th {\n",
       "        vertical-align: top;\n",
       "    }\n",
       "\n",
       "    .dataframe thead th {\n",
       "        text-align: right;\n",
       "    }\n",
       "</style>\n",
       "<table border=\"1\" class=\"dataframe\">\n",
       "  <thead>\n",
       "    <tr style=\"text-align: right;\">\n",
       "      <th></th>\n",
       "      <th>X</th>\n",
       "      <th>Y</th>\n",
       "      <th>Pan</th>\n",
       "      <th>p</th>\n",
       "    </tr>\n",
       "    <tr>\n",
       "      <th>Gage</th>\n",
       "      <th></th>\n",
       "      <th></th>\n",
       "      <th></th>\n",
       "      <th></th>\n",
       "    </tr>\n",
       "  </thead>\n",
       "  <tbody>\n",
       "    <tr>\n",
       "      <th>A</th>\n",
       "      <td>387706</td>\n",
       "      <td>4781780</td>\n",
       "      <td>1373</td>\n",
       "      <td>14.4</td>\n",
       "    </tr>\n",
       "    <tr>\n",
       "      <th>B</th>\n",
       "      <td>383422</td>\n",
       "      <td>4778885</td>\n",
       "      <td>1452</td>\n",
       "      <td>12.2</td>\n",
       "    </tr>\n",
       "  </tbody>\n",
       "</table>\n",
       "</div>"
      ],
      "text/plain": [
       "           X        Y   Pan     p\n",
       "Gage                             \n",
       "A     387706  4781780  1373  14.4\n",
       "B     383422  4778885  1452  12.2"
      ]
     },
     "execution_count": 13,
     "metadata": {},
     "output_type": "execute_result"
    }
   ],
   "source": [
    "# Simplify column names\n",
    "# d: 'Distance from gage F (km)'\n",
    "# P: Average Annual Precip. (mm)\n",
    "# p: Measured Storm Precip. (mm)\n",
    "data1.columns = ['X', 'Y', 'Pan', 'p']\n",
    "\n",
    "data1.head(2)"
   ]
  },
  {
   "cell_type": "markdown",
   "metadata": {},
   "source": [
    "### The station-average method\n",
    "\n",
    "In this method, we assume that rainfall in the target point is the average rainfall in the surrounding gages.\n",
    "\n",
    "Following the general equation, we give the same weight $w_i$ to every gage.\n",
    "\n",
    "$$w_i=\\frac{1}{n}$$\n",
    "\n",
    "$$\\hat{p_o} = \\frac{1}{n}\\sum_{i=1}^{n} p_i$$\n",
    "\n",
    "where $n$ is the number of gages."
   ]
  },
  {
   "cell_type": "code",
   "execution_count": 14,
   "metadata": {},
   "outputs": [],
   "source": [
    "po_mm = data1['p'].mean()"
   ]
  },
  {
   "cell_type": "code",
   "execution_count": 15,
   "metadata": {},
   "outputs": [
    {
     "name": "stdout",
     "output_type": "stream",
     "text": [
      "Rainfall in F is:\n",
      "pf = 12.3 mm\n"
     ]
    }
   ],
   "source": [
    "print('Rainfall in F is:')\n",
    "print('pf =', round(po_mm, 1), 'mm')"
   ]
  },
  {
   "cell_type": "markdown",
   "metadata": {},
   "source": [
    "When averaging rainfall throughout all the available gages, we obtain a smoothed value of rainfall in F. That is, we may be using data from stations so far away from the study point that there is no connection between rainfall values in those two stations.\n",
    "\n",
    "To avoid this problem, the station-average method is usually applied using only the closest gage to the study point in each quadrant. "
   ]
  },
  {
   "cell_type": "code",
   "execution_count": 16,
   "metadata": {},
   "outputs": [
    {
     "name": "stdout",
     "output_type": "stream",
     "text": [
      "Rainfall in F is:\n",
      "pf = 12.6 mm\n"
     ]
    }
   ],
   "source": [
    "closest = ['C', 'D', 'G', 'I']\n",
    "po_mmc = data1.loc[closest, 'p'].mean()\n",
    "\n",
    "print('Rainfall in F is:')\n",
    "print('pf =', round(po_mmc, 1), 'mm')"
   ]
  },
  {
   "cell_type": "markdown",
   "metadata": {},
   "source": [
    "### The normal-ratio method\n",
    "\n",
    "The normal-ratio is the quotient between the annual precipitation in two gages.\n",
    "\n",
    "$$NR_i = \\frac{P_o}{P_i}$$\n",
    "\n",
    "We can use this value as a measure of the connection of the rainfall amounts between those gages. The normal-ratio method applies the normal-ratio as a correction to the weights derived by the station-average method.\n",
    "\n",
    "$$w_i = \\frac{1}{n}\\frac{P_o}{P_i} = \\frac{1}{n}NR_i$$\n",
    "\n",
    "$$\\hat{p_o} = \\frac{1}{n}\\sum_{i=1}^{n} \\frac{P_o}{P_i} p_i$$\n",
    "\n",
    "Where $P_o$ and $P_i$ are annual precipitation in the point of interest and the available gages, respectively, and $NR$ is the normal-ratio."
   ]
  },
  {
   "cell_type": "code",
   "execution_count": 17,
   "metadata": {},
   "outputs": [
    {
     "data": {
      "text/html": [
       "<div>\n",
       "<style scoped>\n",
       "    .dataframe tbody tr th:only-of-type {\n",
       "        vertical-align: middle;\n",
       "    }\n",
       "\n",
       "    .dataframe tbody tr th {\n",
       "        vertical-align: top;\n",
       "    }\n",
       "\n",
       "    .dataframe thead th {\n",
       "        text-align: right;\n",
       "    }\n",
       "</style>\n",
       "<table border=\"1\" class=\"dataframe\">\n",
       "  <thead>\n",
       "    <tr style=\"text-align: right;\">\n",
       "      <th></th>\n",
       "      <th>X</th>\n",
       "      <th>Y</th>\n",
       "      <th>Pan</th>\n",
       "      <th>p</th>\n",
       "    </tr>\n",
       "    <tr>\n",
       "      <th>Gage</th>\n",
       "      <th></th>\n",
       "      <th></th>\n",
       "      <th></th>\n",
       "      <th></th>\n",
       "    </tr>\n",
       "  </thead>\n",
       "  <tbody>\n",
       "    <tr>\n",
       "      <th>A</th>\n",
       "      <td>387706</td>\n",
       "      <td>4781780</td>\n",
       "      <td>1373</td>\n",
       "      <td>14.4</td>\n",
       "    </tr>\n",
       "    <tr>\n",
       "      <th>B</th>\n",
       "      <td>383422</td>\n",
       "      <td>4778885</td>\n",
       "      <td>1452</td>\n",
       "      <td>12.2</td>\n",
       "    </tr>\n",
       "    <tr>\n",
       "      <th>C</th>\n",
       "      <td>385014</td>\n",
       "      <td>4778553</td>\n",
       "      <td>1404</td>\n",
       "      <td>11.6</td>\n",
       "    </tr>\n",
       "    <tr>\n",
       "      <th>D</th>\n",
       "      <td>389634</td>\n",
       "      <td>4779045</td>\n",
       "      <td>1433</td>\n",
       "      <td>14.8</td>\n",
       "    </tr>\n",
       "    <tr>\n",
       "      <th>E</th>\n",
       "      <td>380729</td>\n",
       "      <td>4775518</td>\n",
       "      <td>1665</td>\n",
       "      <td>13.3</td>\n",
       "    </tr>\n",
       "    <tr>\n",
       "      <th>G</th>\n",
       "      <td>389380</td>\n",
       "      <td>4776484</td>\n",
       "      <td>1235</td>\n",
       "      <td>12.3</td>\n",
       "    </tr>\n",
       "    <tr>\n",
       "      <th>H</th>\n",
       "      <td>382945</td>\n",
       "      <td>4772356</td>\n",
       "      <td>1114</td>\n",
       "      <td>11.5</td>\n",
       "    </tr>\n",
       "    <tr>\n",
       "      <th>I</th>\n",
       "      <td>386399</td>\n",
       "      <td>4771795</td>\n",
       "      <td>1101</td>\n",
       "      <td>11.6</td>\n",
       "    </tr>\n",
       "    <tr>\n",
       "      <th>J</th>\n",
       "      <td>388397</td>\n",
       "      <td>4772419</td>\n",
       "      <td>1086</td>\n",
       "      <td>11.2</td>\n",
       "    </tr>\n",
       "    <tr>\n",
       "      <th>K</th>\n",
       "      <td>389287</td>\n",
       "      <td>4771097</td>\n",
       "      <td>1010</td>\n",
       "      <td>9.7</td>\n",
       "    </tr>\n",
       "  </tbody>\n",
       "</table>\n",
       "</div>"
      ],
      "text/plain": [
       "           X        Y   Pan     p\n",
       "Gage                             \n",
       "A     387706  4781780  1373  14.4\n",
       "B     383422  4778885  1452  12.2\n",
       "C     385014  4778553  1404  11.6\n",
       "D     389634  4779045  1433  14.8\n",
       "E     380729  4775518  1665  13.3\n",
       "G     389380  4776484  1235  12.3\n",
       "H     382945  4772356  1114  11.5\n",
       "I     386399  4771795  1101  11.6\n",
       "J     388397  4772419  1086  11.2\n",
       "K     389287  4771097  1010   9.7"
      ]
     },
     "execution_count": 17,
     "metadata": {},
     "output_type": "execute_result"
    }
   ],
   "source": [
    "# Extract stations with data during the storm\n",
    "data1_ = data1.drop('F').copy()\n",
    "data1_"
   ]
  },
  {
   "cell_type": "code",
   "execution_count": 18,
   "metadata": {},
   "outputs": [
    {
     "data": {
      "text/html": [
       "<div>\n",
       "<style scoped>\n",
       "    .dataframe tbody tr th:only-of-type {\n",
       "        vertical-align: middle;\n",
       "    }\n",
       "\n",
       "    .dataframe tbody tr th {\n",
       "        vertical-align: top;\n",
       "    }\n",
       "\n",
       "    .dataframe thead th {\n",
       "        text-align: right;\n",
       "    }\n",
       "</style>\n",
       "<table border=\"1\" class=\"dataframe\">\n",
       "  <thead>\n",
       "    <tr style=\"text-align: right;\">\n",
       "      <th></th>\n",
       "      <th>X</th>\n",
       "      <th>Y</th>\n",
       "      <th>Pan</th>\n",
       "      <th>p</th>\n",
       "      <th>RN</th>\n",
       "    </tr>\n",
       "    <tr>\n",
       "      <th>Gage</th>\n",
       "      <th></th>\n",
       "      <th></th>\n",
       "      <th></th>\n",
       "      <th></th>\n",
       "      <th></th>\n",
       "    </tr>\n",
       "  </thead>\n",
       "  <tbody>\n",
       "    <tr>\n",
       "      <th>A</th>\n",
       "      <td>387706</td>\n",
       "      <td>4781780</td>\n",
       "      <td>1373</td>\n",
       "      <td>14.4</td>\n",
       "      <td>0.828114</td>\n",
       "    </tr>\n",
       "    <tr>\n",
       "      <th>B</th>\n",
       "      <td>383422</td>\n",
       "      <td>4778885</td>\n",
       "      <td>1452</td>\n",
       "      <td>12.2</td>\n",
       "      <td>0.783058</td>\n",
       "    </tr>\n",
       "    <tr>\n",
       "      <th>C</th>\n",
       "      <td>385014</td>\n",
       "      <td>4778553</td>\n",
       "      <td>1404</td>\n",
       "      <td>11.6</td>\n",
       "      <td>0.809829</td>\n",
       "    </tr>\n",
       "    <tr>\n",
       "      <th>D</th>\n",
       "      <td>389634</td>\n",
       "      <td>4779045</td>\n",
       "      <td>1433</td>\n",
       "      <td>14.8</td>\n",
       "      <td>0.793440</td>\n",
       "    </tr>\n",
       "    <tr>\n",
       "      <th>E</th>\n",
       "      <td>380729</td>\n",
       "      <td>4775518</td>\n",
       "      <td>1665</td>\n",
       "      <td>13.3</td>\n",
       "      <td>0.682883</td>\n",
       "    </tr>\n",
       "    <tr>\n",
       "      <th>G</th>\n",
       "      <td>389380</td>\n",
       "      <td>4776484</td>\n",
       "      <td>1235</td>\n",
       "      <td>12.3</td>\n",
       "      <td>0.920648</td>\n",
       "    </tr>\n",
       "    <tr>\n",
       "      <th>H</th>\n",
       "      <td>382945</td>\n",
       "      <td>4772356</td>\n",
       "      <td>1114</td>\n",
       "      <td>11.5</td>\n",
       "      <td>1.020646</td>\n",
       "    </tr>\n",
       "    <tr>\n",
       "      <th>I</th>\n",
       "      <td>386399</td>\n",
       "      <td>4771795</td>\n",
       "      <td>1101</td>\n",
       "      <td>11.6</td>\n",
       "      <td>1.032698</td>\n",
       "    </tr>\n",
       "    <tr>\n",
       "      <th>J</th>\n",
       "      <td>388397</td>\n",
       "      <td>4772419</td>\n",
       "      <td>1086</td>\n",
       "      <td>11.2</td>\n",
       "      <td>1.046961</td>\n",
       "    </tr>\n",
       "    <tr>\n",
       "      <th>K</th>\n",
       "      <td>389287</td>\n",
       "      <td>4771097</td>\n",
       "      <td>1010</td>\n",
       "      <td>9.7</td>\n",
       "      <td>1.125743</td>\n",
       "    </tr>\n",
       "  </tbody>\n",
       "</table>\n",
       "</div>"
      ],
      "text/plain": [
       "           X        Y   Pan     p        RN\n",
       "Gage                                       \n",
       "A     387706  4781780  1373  14.4  0.828114\n",
       "B     383422  4778885  1452  12.2  0.783058\n",
       "C     385014  4778553  1404  11.6  0.809829\n",
       "D     389634  4779045  1433  14.8  0.793440\n",
       "E     380729  4775518  1665  13.3  0.682883\n",
       "G     389380  4776484  1235  12.3  0.920648\n",
       "H     382945  4772356  1114  11.5  1.020646\n",
       "I     386399  4771795  1101  11.6  1.032698\n",
       "J     388397  4772419  1086  11.2  1.046961\n",
       "K     389287  4771097  1010   9.7  1.125743"
      ]
     },
     "execution_count": 18,
     "metadata": {},
     "output_type": "execute_result"
    }
   ],
   "source": [
    "# Calculate the normal ration between station F and the rest of the stations\n",
    "data1_['RN'] = data1.loc['F', 'Pan'] / data1_['Pan']\n",
    "\n",
    "data1_"
   ]
  },
  {
   "cell_type": "markdown",
   "metadata": {},
   "source": [
    "Seguidamente multiplicamos, para cada estación, la **razón normal** por la precipitación medida en la tormenta."
   ]
  },
  {
   "cell_type": "code",
   "execution_count": 19,
   "metadata": {},
   "outputs": [
    {
     "data": {
      "text/plain": [
       "Gage\n",
       "A    11.924836\n",
       "B     9.553306\n",
       "C     9.394017\n",
       "D    11.742917\n",
       "E     9.082342\n",
       "G    11.323968\n",
       "H    11.737433\n",
       "I    11.979292\n",
       "J    11.725967\n",
       "K    10.919703\n",
       "Name: NR*p, dtype: float64"
      ]
     },
     "execution_count": 19,
     "metadata": {},
     "output_type": "execute_result"
    }
   ],
   "source": [
    "# Multiply the storm rainfall by the normal ratio\n",
    "data1_['NR*p'] = data1_['RN'] * data1_['p']\n",
    "data1_['NR*p']"
   ]
  },
  {
   "cell_type": "code",
   "execution_count": 20,
   "metadata": {},
   "outputs": [
    {
     "name": "stdout",
     "output_type": "stream",
     "text": [
      "Rainfall in F is:\n",
      "pf = 10.9 mm\n"
     ]
    }
   ],
   "source": [
    "# the mean of that product is the rainfall interpolated by the normal-ratio method\n",
    "po_rn = data1_['NR*p'].mean()\n",
    "\n",
    "print('Rainfall in F is:')\n",
    "print('pf =', round(po_rn, 1), 'mm')"
   ]
  },
  {
   "cell_type": "code",
   "execution_count": 21,
   "metadata": {},
   "outputs": [
    {
     "name": "stdout",
     "output_type": "stream",
     "text": [
      "Rainfall in F is:\n",
      "pf = 10.9 mm\n"
     ]
    }
   ],
   "source": [
    "# All at once\n",
    "po_rn = np.mean(data1_.loc[:, 'RN'] * data1_.loc[:, 'p'])\n",
    "\n",
    "print('Rainfall in F is:')\n",
    "print('pf =', round(po_rn, 1), 'mm')"
   ]
  },
  {
   "cell_type": "markdown",
   "metadata": {},
   "source": [
    "We can also apply the normal-ratio method to the closest gage in each quadrant"
   ]
  },
  {
   "cell_type": "code",
   "execution_count": 22,
   "metadata": {},
   "outputs": [
    {
     "name": "stdout",
     "output_type": "stream",
     "text": [
      "Rainfall in F is:\n",
      "pf = 11.1 mm\n"
     ]
    }
   ],
   "source": [
    "po_rnc = np.mean(data1_.loc[closest, 'RN'] * data1_.loc[closest, 'p'])\n",
    "\n",
    "print('Rainfall in F is:')\n",
    "print('pf =', round(po_rnc, 1), 'mm')"
   ]
  },
  {
   "cell_type": "markdown",
   "metadata": {},
   "source": [
    "### The inverse distance method\n",
    "\n",
    "The inverse distance method is based on the assumption that gages closer to the point of interest are more representative of its rainfall. In this methdos, gage weights are estimated as the inverse of the distance to a power. Since the sum of weights must be 1, we normalize the weighted inverse distances dividing them by their sum.\n",
    "\n",
    "$$w_i = \\frac{d_{i}^{-b}}{\\sum_{i=1}^{n}d_{i}^{-b}}$$\n",
    "\n",
    "$$\\hat{p_o} = \\sum_{i=1}^{n}\\frac{d_{i}^{-b}}{\\sum_{i=1}^{n}d_{i}^{-b}}·p_i = \\frac{1}{\\sum_{i=1}^{n}d_{i}^{-b}}\\sum_{i=1}^{n}d_{i}^{-b}·p_i$$\n",
    "\n",
    "Where $d_i$ is the distance between gage *i* and target point, and $b$ is the power to be chosen by the modeller. \n",
    "\n",
    "A squared power ($b=-2$) is usually applied, what is named the squared inverse distance method. The larger the exponent, the higher weight is given to the closer gages."
   ]
  },
  {
   "cell_type": "code",
   "execution_count": 23,
   "metadata": {},
   "outputs": [
    {
     "data": {
      "text/html": [
       "<div>\n",
       "<style scoped>\n",
       "    .dataframe tbody tr th:only-of-type {\n",
       "        vertical-align: middle;\n",
       "    }\n",
       "\n",
       "    .dataframe tbody tr th {\n",
       "        vertical-align: top;\n",
       "    }\n",
       "\n",
       "    .dataframe thead th {\n",
       "        text-align: right;\n",
       "    }\n",
       "</style>\n",
       "<table border=\"1\" class=\"dataframe\">\n",
       "  <thead>\n",
       "    <tr style=\"text-align: right;\">\n",
       "      <th></th>\n",
       "      <th>X</th>\n",
       "      <th>Y</th>\n",
       "      <th>Pan</th>\n",
       "      <th>p</th>\n",
       "    </tr>\n",
       "    <tr>\n",
       "      <th>Gage</th>\n",
       "      <th></th>\n",
       "      <th></th>\n",
       "      <th></th>\n",
       "      <th></th>\n",
       "    </tr>\n",
       "  </thead>\n",
       "  <tbody>\n",
       "    <tr>\n",
       "      <th>A</th>\n",
       "      <td>387706</td>\n",
       "      <td>4781780</td>\n",
       "      <td>1373</td>\n",
       "      <td>14.4</td>\n",
       "    </tr>\n",
       "    <tr>\n",
       "      <th>B</th>\n",
       "      <td>383422</td>\n",
       "      <td>4778885</td>\n",
       "      <td>1452</td>\n",
       "      <td>12.2</td>\n",
       "    </tr>\n",
       "    <tr>\n",
       "      <th>C</th>\n",
       "      <td>385014</td>\n",
       "      <td>4778553</td>\n",
       "      <td>1404</td>\n",
       "      <td>11.6</td>\n",
       "    </tr>\n",
       "    <tr>\n",
       "      <th>D</th>\n",
       "      <td>389634</td>\n",
       "      <td>4779045</td>\n",
       "      <td>1433</td>\n",
       "      <td>14.8</td>\n",
       "    </tr>\n",
       "    <tr>\n",
       "      <th>E</th>\n",
       "      <td>380729</td>\n",
       "      <td>4775518</td>\n",
       "      <td>1665</td>\n",
       "      <td>13.3</td>\n",
       "    </tr>\n",
       "    <tr>\n",
       "      <th>G</th>\n",
       "      <td>389380</td>\n",
       "      <td>4776484</td>\n",
       "      <td>1235</td>\n",
       "      <td>12.3</td>\n",
       "    </tr>\n",
       "    <tr>\n",
       "      <th>H</th>\n",
       "      <td>382945</td>\n",
       "      <td>4772356</td>\n",
       "      <td>1114</td>\n",
       "      <td>11.5</td>\n",
       "    </tr>\n",
       "    <tr>\n",
       "      <th>I</th>\n",
       "      <td>386399</td>\n",
       "      <td>4771795</td>\n",
       "      <td>1101</td>\n",
       "      <td>11.6</td>\n",
       "    </tr>\n",
       "    <tr>\n",
       "      <th>J</th>\n",
       "      <td>388397</td>\n",
       "      <td>4772419</td>\n",
       "      <td>1086</td>\n",
       "      <td>11.2</td>\n",
       "    </tr>\n",
       "    <tr>\n",
       "      <th>K</th>\n",
       "      <td>389287</td>\n",
       "      <td>4771097</td>\n",
       "      <td>1010</td>\n",
       "      <td>9.7</td>\n",
       "    </tr>\n",
       "  </tbody>\n",
       "</table>\n",
       "</div>"
      ],
      "text/plain": [
       "           X        Y   Pan     p\n",
       "Gage                             \n",
       "A     387706  4781780  1373  14.4\n",
       "B     383422  4778885  1452  12.2\n",
       "C     385014  4778553  1404  11.6\n",
       "D     389634  4779045  1433  14.8\n",
       "E     380729  4775518  1665  13.3\n",
       "G     389380  4776484  1235  12.3\n",
       "H     382945  4772356  1114  11.5\n",
       "I     386399  4771795  1101  11.6\n",
       "J     388397  4772419  1086  11.2\n",
       "K     389287  4771097  1010   9.7"
      ]
     },
     "execution_count": 23,
     "metadata": {},
     "output_type": "execute_result"
    }
   ],
   "source": [
    "# Extract stations with data during the storm\n",
    "data1_ = data1.drop('F').copy()\n",
    "data1_"
   ]
  },
  {
   "cell_type": "code",
   "execution_count": 24,
   "metadata": {},
   "outputs": [
    {
     "data": {
      "text/html": [
       "<div>\n",
       "<style scoped>\n",
       "    .dataframe tbody tr th:only-of-type {\n",
       "        vertical-align: middle;\n",
       "    }\n",
       "\n",
       "    .dataframe tbody tr th {\n",
       "        vertical-align: top;\n",
       "    }\n",
       "\n",
       "    .dataframe thead th {\n",
       "        text-align: right;\n",
       "    }\n",
       "</style>\n",
       "<table border=\"1\" class=\"dataframe\">\n",
       "  <thead>\n",
       "    <tr style=\"text-align: right;\">\n",
       "      <th></th>\n",
       "      <th>X</th>\n",
       "      <th>Y</th>\n",
       "      <th>Pan</th>\n",
       "      <th>p</th>\n",
       "      <th>d</th>\n",
       "    </tr>\n",
       "    <tr>\n",
       "      <th>Gage</th>\n",
       "      <th></th>\n",
       "      <th></th>\n",
       "      <th></th>\n",
       "      <th></th>\n",
       "      <th></th>\n",
       "    </tr>\n",
       "  </thead>\n",
       "  <tbody>\n",
       "    <tr>\n",
       "      <th>A</th>\n",
       "      <td>387706</td>\n",
       "      <td>4781780</td>\n",
       "      <td>1373</td>\n",
       "      <td>14.4</td>\n",
       "      <td>5129.513525</td>\n",
       "    </tr>\n",
       "    <tr>\n",
       "      <th>B</th>\n",
       "      <td>383422</td>\n",
       "      <td>4778885</td>\n",
       "      <td>1452</td>\n",
       "      <td>12.2</td>\n",
       "      <td>4430.439482</td>\n",
       "    </tr>\n",
       "    <tr>\n",
       "      <th>C</th>\n",
       "      <td>385014</td>\n",
       "      <td>4778553</td>\n",
       "      <td>1404</td>\n",
       "      <td>11.6</td>\n",
       "      <td>2930.138905</td>\n",
       "    </tr>\n",
       "    <tr>\n",
       "      <th>D</th>\n",
       "      <td>389634</td>\n",
       "      <td>4779045</td>\n",
       "      <td>1433</td>\n",
       "      <td>14.8</td>\n",
       "      <td>3358.757211</td>\n",
       "    </tr>\n",
       "    <tr>\n",
       "      <th>E</th>\n",
       "      <td>380729</td>\n",
       "      <td>4775518</td>\n",
       "      <td>1665</td>\n",
       "      <td>13.3</td>\n",
       "      <td>6630.837353</td>\n",
       "    </tr>\n",
       "  </tbody>\n",
       "</table>\n",
       "</div>"
      ],
      "text/plain": [
       "           X        Y   Pan     p            d\n",
       "Gage                                          \n",
       "A     387706  4781780  1373  14.4  5129.513525\n",
       "B     383422  4778885  1452  12.2  4430.439482\n",
       "C     385014  4778553  1404  11.6  2930.138905\n",
       "D     389634  4779045  1433  14.8  3358.757211\n",
       "E     380729  4775518  1665  13.3  6630.837353"
      ]
     },
     "execution_count": 24,
     "metadata": {},
     "output_type": "execute_result"
    }
   ],
   "source": [
    "# calculate distance to F\n",
    "distX = data1.loc['F', 'X'] - data1_.loc[:, 'X'] # distance in the X axis\n",
    "distY = data1.loc['F', 'Y'] - data1_.loc[:, 'Y'] # distance in the Y axis\n",
    "data1_['d'] = np.sqrt(distX**2 + distY**2)       # total distance\n",
    "\n",
    "data1_.head()"
   ]
  },
  {
   "cell_type": "markdown",
   "metadata": {},
   "source": [
    "__$b=-1$ step by step__"
   ]
  },
  {
   "cell_type": "code",
   "execution_count": 25,
   "metadata": {},
   "outputs": [],
   "source": [
    "# set the exponent\n",
    "b = -1"
   ]
  },
  {
   "cell_type": "code",
   "execution_count": 26,
   "metadata": {},
   "outputs": [
    {
     "data": {
      "text/html": [
       "<div>\n",
       "<style scoped>\n",
       "    .dataframe tbody tr th:only-of-type {\n",
       "        vertical-align: middle;\n",
       "    }\n",
       "\n",
       "    .dataframe tbody tr th {\n",
       "        vertical-align: top;\n",
       "    }\n",
       "\n",
       "    .dataframe thead th {\n",
       "        text-align: right;\n",
       "    }\n",
       "</style>\n",
       "<table border=\"1\" class=\"dataframe\">\n",
       "  <thead>\n",
       "    <tr style=\"text-align: right;\">\n",
       "      <th></th>\n",
       "      <th>X</th>\n",
       "      <th>Y</th>\n",
       "      <th>Pan</th>\n",
       "      <th>p</th>\n",
       "      <th>d</th>\n",
       "      <th>di</th>\n",
       "    </tr>\n",
       "    <tr>\n",
       "      <th>Gage</th>\n",
       "      <th></th>\n",
       "      <th></th>\n",
       "      <th></th>\n",
       "      <th></th>\n",
       "      <th></th>\n",
       "      <th></th>\n",
       "    </tr>\n",
       "  </thead>\n",
       "  <tbody>\n",
       "    <tr>\n",
       "      <th>A</th>\n",
       "      <td>387706</td>\n",
       "      <td>4781780</td>\n",
       "      <td>1373</td>\n",
       "      <td>14.4</td>\n",
       "      <td>5129.513525</td>\n",
       "      <td>0.000195</td>\n",
       "    </tr>\n",
       "    <tr>\n",
       "      <th>B</th>\n",
       "      <td>383422</td>\n",
       "      <td>4778885</td>\n",
       "      <td>1452</td>\n",
       "      <td>12.2</td>\n",
       "      <td>4430.439482</td>\n",
       "      <td>0.000226</td>\n",
       "    </tr>\n",
       "    <tr>\n",
       "      <th>C</th>\n",
       "      <td>385014</td>\n",
       "      <td>4778553</td>\n",
       "      <td>1404</td>\n",
       "      <td>11.6</td>\n",
       "      <td>2930.138905</td>\n",
       "      <td>0.000341</td>\n",
       "    </tr>\n",
       "    <tr>\n",
       "      <th>D</th>\n",
       "      <td>389634</td>\n",
       "      <td>4779045</td>\n",
       "      <td>1433</td>\n",
       "      <td>14.8</td>\n",
       "      <td>3358.757211</td>\n",
       "      <td>0.000298</td>\n",
       "    </tr>\n",
       "    <tr>\n",
       "      <th>E</th>\n",
       "      <td>380729</td>\n",
       "      <td>4775518</td>\n",
       "      <td>1665</td>\n",
       "      <td>13.3</td>\n",
       "      <td>6630.837353</td>\n",
       "      <td>0.000151</td>\n",
       "    </tr>\n",
       "  </tbody>\n",
       "</table>\n",
       "</div>"
      ],
      "text/plain": [
       "           X        Y   Pan     p            d        di\n",
       "Gage                                                    \n",
       "A     387706  4781780  1373  14.4  5129.513525  0.000195\n",
       "B     383422  4778885  1452  12.2  4430.439482  0.000226\n",
       "C     385014  4778553  1404  11.6  2930.138905  0.000341\n",
       "D     389634  4779045  1433  14.8  3358.757211  0.000298\n",
       "E     380729  4775518  1665  13.3  6630.837353  0.000151"
      ]
     },
     "execution_count": 26,
     "metadata": {},
     "output_type": "execute_result"
    }
   ],
   "source": [
    "# compute the weighted inverse of the distance\n",
    "data1_['di'] = data1_['d']**b\n",
    "\n",
    "data1_.head()"
   ]
  },
  {
   "cell_type": "code",
   "execution_count": 27,
   "metadata": {},
   "outputs": [
    {
     "data": {
      "text/plain": [
       "0.0024419303169758745"
      ]
     },
     "execution_count": 27,
     "metadata": {},
     "output_type": "execute_result"
    }
   ],
   "source": [
    "# sum of all the weighted inverse distances\n",
    "Sd = data1_['di'].sum()\n",
    "Sd"
   ]
  },
  {
   "cell_type": "code",
   "execution_count": 28,
   "metadata": {},
   "outputs": [
    {
     "data": {
      "text/html": [
       "<div>\n",
       "<style scoped>\n",
       "    .dataframe tbody tr th:only-of-type {\n",
       "        vertical-align: middle;\n",
       "    }\n",
       "\n",
       "    .dataframe tbody tr th {\n",
       "        vertical-align: top;\n",
       "    }\n",
       "\n",
       "    .dataframe thead th {\n",
       "        text-align: right;\n",
       "    }\n",
       "</style>\n",
       "<table border=\"1\" class=\"dataframe\">\n",
       "  <thead>\n",
       "    <tr style=\"text-align: right;\">\n",
       "      <th></th>\n",
       "      <th>X</th>\n",
       "      <th>Y</th>\n",
       "      <th>Pan</th>\n",
       "      <th>p</th>\n",
       "      <th>d</th>\n",
       "      <th>di</th>\n",
       "      <th>w</th>\n",
       "    </tr>\n",
       "    <tr>\n",
       "      <th>Gage</th>\n",
       "      <th></th>\n",
       "      <th></th>\n",
       "      <th></th>\n",
       "      <th></th>\n",
       "      <th></th>\n",
       "      <th></th>\n",
       "      <th></th>\n",
       "    </tr>\n",
       "  </thead>\n",
       "  <tbody>\n",
       "    <tr>\n",
       "      <th>A</th>\n",
       "      <td>387706</td>\n",
       "      <td>4781780</td>\n",
       "      <td>1373</td>\n",
       "      <td>14.4</td>\n",
       "      <td>5129.513525</td>\n",
       "      <td>0.000195</td>\n",
       "      <td>0.079834</td>\n",
       "    </tr>\n",
       "    <tr>\n",
       "      <th>B</th>\n",
       "      <td>383422</td>\n",
       "      <td>4778885</td>\n",
       "      <td>1452</td>\n",
       "      <td>12.2</td>\n",
       "      <td>4430.439482</td>\n",
       "      <td>0.000226</td>\n",
       "      <td>0.092431</td>\n",
       "    </tr>\n",
       "    <tr>\n",
       "      <th>C</th>\n",
       "      <td>385014</td>\n",
       "      <td>4778553</td>\n",
       "      <td>1404</td>\n",
       "      <td>11.6</td>\n",
       "      <td>2930.138905</td>\n",
       "      <td>0.000341</td>\n",
       "      <td>0.139759</td>\n",
       "    </tr>\n",
       "    <tr>\n",
       "      <th>D</th>\n",
       "      <td>389634</td>\n",
       "      <td>4779045</td>\n",
       "      <td>1433</td>\n",
       "      <td>14.8</td>\n",
       "      <td>3358.757211</td>\n",
       "      <td>0.000298</td>\n",
       "      <td>0.121924</td>\n",
       "    </tr>\n",
       "    <tr>\n",
       "      <th>E</th>\n",
       "      <td>380729</td>\n",
       "      <td>4775518</td>\n",
       "      <td>1665</td>\n",
       "      <td>13.3</td>\n",
       "      <td>6630.837353</td>\n",
       "      <td>0.000151</td>\n",
       "      <td>0.061759</td>\n",
       "    </tr>\n",
       "  </tbody>\n",
       "</table>\n",
       "</div>"
      ],
      "text/plain": [
       "           X        Y   Pan     p            d        di         w\n",
       "Gage                                                              \n",
       "A     387706  4781780  1373  14.4  5129.513525  0.000195  0.079834\n",
       "B     383422  4778885  1452  12.2  4430.439482  0.000226  0.092431\n",
       "C     385014  4778553  1404  11.6  2930.138905  0.000341  0.139759\n",
       "D     389634  4779045  1433  14.8  3358.757211  0.000298  0.121924\n",
       "E     380729  4775518  1665  13.3  6630.837353  0.000151  0.061759"
      ]
     },
     "execution_count": 28,
     "metadata": {},
     "output_type": "execute_result"
    }
   ],
   "source": [
    "# compute the weights\n",
    "data1_['w'] = data1_['di'] / Sd\n",
    "\n",
    "data1_.head()"
   ]
  },
  {
   "cell_type": "code",
   "execution_count": 29,
   "metadata": {},
   "outputs": [
    {
     "name": "stdout",
     "output_type": "stream",
     "text": [
      "Rainfall in F is:\n",
      "pf = 12.3 mm\n"
     ]
    }
   ],
   "source": [
    "# compute rainfall in F\n",
    "po_di1 = np.sum(data1_['w'] * data1_['p'])\n",
    "\n",
    "print('Rainfall in F is:')\n",
    "print('pf =', round(po_di1, 1), 'mm')"
   ]
  },
  {
   "cell_type": "markdown",
   "metadata": {},
   "source": [
    "__$b=-2$ shortened__"
   ]
  },
  {
   "cell_type": "code",
   "execution_count": 30,
   "metadata": {},
   "outputs": [],
   "source": [
    "b = -2"
   ]
  },
  {
   "cell_type": "code",
   "execution_count": 31,
   "metadata": {},
   "outputs": [
    {
     "data": {
      "text/html": [
       "<div>\n",
       "<style scoped>\n",
       "    .dataframe tbody tr th:only-of-type {\n",
       "        vertical-align: middle;\n",
       "    }\n",
       "\n",
       "    .dataframe tbody tr th {\n",
       "        vertical-align: top;\n",
       "    }\n",
       "\n",
       "    .dataframe thead th {\n",
       "        text-align: right;\n",
       "    }\n",
       "</style>\n",
       "<table border=\"1\" class=\"dataframe\">\n",
       "  <thead>\n",
       "    <tr style=\"text-align: right;\">\n",
       "      <th></th>\n",
       "      <th>X</th>\n",
       "      <th>Y</th>\n",
       "      <th>Pan</th>\n",
       "      <th>p</th>\n",
       "      <th>d</th>\n",
       "      <th>di</th>\n",
       "      <th>w</th>\n",
       "      <th>di2</th>\n",
       "    </tr>\n",
       "    <tr>\n",
       "      <th>Gage</th>\n",
       "      <th></th>\n",
       "      <th></th>\n",
       "      <th></th>\n",
       "      <th></th>\n",
       "      <th></th>\n",
       "      <th></th>\n",
       "      <th></th>\n",
       "      <th></th>\n",
       "    </tr>\n",
       "  </thead>\n",
       "  <tbody>\n",
       "    <tr>\n",
       "      <th>A</th>\n",
       "      <td>387706</td>\n",
       "      <td>4781780</td>\n",
       "      <td>1373</td>\n",
       "      <td>14.4</td>\n",
       "      <td>5129.513525</td>\n",
       "      <td>0.000195</td>\n",
       "      <td>0.079834</td>\n",
       "      <td>3.800560e-08</td>\n",
       "    </tr>\n",
       "    <tr>\n",
       "      <th>B</th>\n",
       "      <td>383422</td>\n",
       "      <td>4778885</td>\n",
       "      <td>1452</td>\n",
       "      <td>12.2</td>\n",
       "      <td>4430.439482</td>\n",
       "      <td>0.000226</td>\n",
       "      <td>0.092431</td>\n",
       "      <td>5.094556e-08</td>\n",
       "    </tr>\n",
       "    <tr>\n",
       "      <th>C</th>\n",
       "      <td>385014</td>\n",
       "      <td>4778553</td>\n",
       "      <td>1404</td>\n",
       "      <td>11.6</td>\n",
       "      <td>2930.138905</td>\n",
       "      <td>0.000341</td>\n",
       "      <td>0.139759</td>\n",
       "      <td>1.164725e-07</td>\n",
       "    </tr>\n",
       "    <tr>\n",
       "      <th>D</th>\n",
       "      <td>389634</td>\n",
       "      <td>4779045</td>\n",
       "      <td>1433</td>\n",
       "      <td>14.8</td>\n",
       "      <td>3358.757211</td>\n",
       "      <td>0.000298</td>\n",
       "      <td>0.121924</td>\n",
       "      <td>8.864266e-08</td>\n",
       "    </tr>\n",
       "    <tr>\n",
       "      <th>E</th>\n",
       "      <td>380729</td>\n",
       "      <td>4775518</td>\n",
       "      <td>1665</td>\n",
       "      <td>13.3</td>\n",
       "      <td>6630.837353</td>\n",
       "      <td>0.000151</td>\n",
       "      <td>0.061759</td>\n",
       "      <td>2.274381e-08</td>\n",
       "    </tr>\n",
       "    <tr>\n",
       "      <th>G</th>\n",
       "      <td>389380</td>\n",
       "      <td>4776484</td>\n",
       "      <td>1235</td>\n",
       "      <td>12.3</td>\n",
       "      <td>2129.139967</td>\n",
       "      <td>0.000470</td>\n",
       "      <td>0.192337</td>\n",
       "      <td>2.205929e-07</td>\n",
       "    </tr>\n",
       "    <tr>\n",
       "      <th>H</th>\n",
       "      <td>382945</td>\n",
       "      <td>4772356</td>\n",
       "      <td>1114</td>\n",
       "      <td>11.5</td>\n",
       "      <td>6100.917308</td>\n",
       "      <td>0.000164</td>\n",
       "      <td>0.067123</td>\n",
       "      <td>2.686642e-08</td>\n",
       "    </tr>\n",
       "    <tr>\n",
       "      <th>I</th>\n",
       "      <td>386399</td>\n",
       "      <td>4771795</td>\n",
       "      <td>1101</td>\n",
       "      <td>11.6</td>\n",
       "      <td>4950.275245</td>\n",
       "      <td>0.000202</td>\n",
       "      <td>0.082725</td>\n",
       "      <td>4.080762e-08</td>\n",
       "    </tr>\n",
       "    <tr>\n",
       "      <th>J</th>\n",
       "      <td>388397</td>\n",
       "      <td>4772419</td>\n",
       "      <td>1086</td>\n",
       "      <td>11.2</td>\n",
       "      <td>4400.686878</td>\n",
       "      <td>0.000227</td>\n",
       "      <td>0.093056</td>\n",
       "      <td>5.163677e-08</td>\n",
       "    </tr>\n",
       "    <tr>\n",
       "      <th>K</th>\n",
       "      <td>389287</td>\n",
       "      <td>4771097</td>\n",
       "      <td>1010</td>\n",
       "      <td>9.7</td>\n",
       "      <td>5930.523839</td>\n",
       "      <td>0.000169</td>\n",
       "      <td>0.069052</td>\n",
       "      <td>2.843242e-08</td>\n",
       "    </tr>\n",
       "  </tbody>\n",
       "</table>\n",
       "</div>"
      ],
      "text/plain": [
       "           X        Y   Pan     p            d        di         w  \\\n",
       "Gage                                                                 \n",
       "A     387706  4781780  1373  14.4  5129.513525  0.000195  0.079834   \n",
       "B     383422  4778885  1452  12.2  4430.439482  0.000226  0.092431   \n",
       "C     385014  4778553  1404  11.6  2930.138905  0.000341  0.139759   \n",
       "D     389634  4779045  1433  14.8  3358.757211  0.000298  0.121924   \n",
       "E     380729  4775518  1665  13.3  6630.837353  0.000151  0.061759   \n",
       "G     389380  4776484  1235  12.3  2129.139967  0.000470  0.192337   \n",
       "H     382945  4772356  1114  11.5  6100.917308  0.000164  0.067123   \n",
       "I     386399  4771795  1101  11.6  4950.275245  0.000202  0.082725   \n",
       "J     388397  4772419  1086  11.2  4400.686878  0.000227  0.093056   \n",
       "K     389287  4771097  1010   9.7  5930.523839  0.000169  0.069052   \n",
       "\n",
       "               di2  \n",
       "Gage                \n",
       "A     3.800560e-08  \n",
       "B     5.094556e-08  \n",
       "C     1.164725e-07  \n",
       "D     8.864266e-08  \n",
       "E     2.274381e-08  \n",
       "G     2.205929e-07  \n",
       "H     2.686642e-08  \n",
       "I     4.080762e-08  \n",
       "J     5.163677e-08  \n",
       "K     2.843242e-08  "
      ]
     },
     "execution_count": 31,
     "metadata": {},
     "output_type": "execute_result"
    }
   ],
   "source": [
    "# Calcula el inverso de la distancia al cuadrado\n",
    "data1_['di2'] = data1_['d']**b\n",
    "data1_"
   ]
  },
  {
   "cell_type": "code",
   "execution_count": 32,
   "metadata": {},
   "outputs": [
    {
     "name": "stdout",
     "output_type": "stream",
     "text": [
      "Rainfall in F:\n",
      "pf = 12.4 mm\n"
     ]
    }
   ],
   "source": [
    "# compute rainfall in F\n",
    "po_di2 = np.sum(data1_['di2'] / np.sum(data1_['di2']) * data1_['p']) \n",
    "\n",
    "print('Rainfall in F:')\n",
    "print('pf =', round(po_di2, 1), 'mm')"
   ]
  },
  {
   "cell_type": "markdown",
   "metadata": {},
   "source": [
    "Again, we can apply the inverse distance method only to the closest station per quadrant."
   ]
  },
  {
   "cell_type": "code",
   "execution_count": 33,
   "metadata": {},
   "outputs": [
    {
     "name": "stdout",
     "output_type": "stream",
     "text": [
      "La precipitación en F es:\n",
      "pf = 12.5 mm\n"
     ]
    }
   ],
   "source": [
    "# compute rainfall in F\n",
    "po_di2c = np.sum(data1_.loc[closest, 'di2'] * data1_.loc[closest, 'p']) / \\\n",
    "          np.sum(data1_.loc[closest, 'di2'])\n",
    "\n",
    "print('La precipitación en F es:')\n",
    "print('pf =', round(po_di2c, 1), 'mm')"
   ]
  },
  {
   "cell_type": "markdown",
   "metadata": {},
   "source": [
    "__Comparativa de métodos__"
   ]
  },
  {
   "cell_type": "code",
   "execution_count": 34,
   "metadata": {},
   "outputs": [],
   "source": [
    "# create an array with all the results\n",
    "results = np.array([po_mm, po_mmc, po_rn, po_rnc, po_di1, po_di2, po_di2c])"
   ]
  },
  {
   "cell_type": "code",
   "execution_count": 35,
   "metadata": {},
   "outputs": [
    {
     "data": {
      "image/png": "[encoded data removed]",
      "text/plain": [
       "<Figure size 432x288 with 1 Axes>"
      ]
     },
     "metadata": {
      "needs_background": "light"
     },
     "output_type": "display_data"
    }
   ],
   "source": [
    "plt.bar(range(len(results)), results, width=0.4, alpha=.75)\n",
    "plt.title('Compare methods', fontsize=16, weight='bold')\n",
    "plt.xlabel('method', fontsize=13)\n",
    "plt.xticks(range(len(results)), ['med', 'med_c', 'RN', 'RN_c', 'DI',\n",
    "                                    'DI2', 'DI2_c'])\n",
    "plt.ylim((0, 16))\n",
    "plt.ylabel('rainfall in F (mm)', fontsize=13);\n",
    "\n",
    "plt.savefig('../output/Ex1_compare methods.png', dpi=300)"
   ]
  },
  {
   "cell_type": "code",
   "execution_count": 36,
   "metadata": {},
   "outputs": [
    {
     "data": {
      "text/html": [
       "<div>\n",
       "<style scoped>\n",
       "    .dataframe tbody tr th:only-of-type {\n",
       "        vertical-align: middle;\n",
       "    }\n",
       "\n",
       "    .dataframe tbody tr th {\n",
       "        vertical-align: top;\n",
       "    }\n",
       "\n",
       "    .dataframe thead th {\n",
       "        text-align: right;\n",
       "    }\n",
       "</style>\n",
       "<table border=\"1\" class=\"dataframe\">\n",
       "  <thead>\n",
       "    <tr style=\"text-align: right;\">\n",
       "      <th></th>\n",
       "      <th>po_mm</th>\n",
       "      <th>po_mmc</th>\n",
       "      <th>po_rn</th>\n",
       "      <th>po_rnc</th>\n",
       "      <th>po_di1</th>\n",
       "      <th>po_di2</th>\n",
       "      <th>po_di2c</th>\n",
       "    </tr>\n",
       "  </thead>\n",
       "  <tbody>\n",
       "    <tr>\n",
       "      <th>0</th>\n",
       "      <td>12.26</td>\n",
       "      <td>12.575</td>\n",
       "      <td>10.938378</td>\n",
       "      <td>11.110048</td>\n",
       "      <td>12.333644</td>\n",
       "      <td>12.382834</td>\n",
       "      <td>12.539028</td>\n",
       "    </tr>\n",
       "  </tbody>\n",
       "</table>\n",
       "</div>"
      ],
      "text/plain": [
       "   po_mm  po_mmc      po_rn     po_rnc     po_di1     po_di2    po_di2c\n",
       "0  12.26  12.575  10.938378  11.110048  12.333644  12.382834  12.539028"
      ]
     },
     "execution_count": 36,
     "metadata": {},
     "output_type": "execute_result"
    }
   ],
   "source": [
    "# convert the array of results in a data frame\n",
    "results = pd.DataFrame(np.transpose(results),\n",
    "                          index=['po_mm', 'po_mmc', 'po_rn', 'po_rnc', 'po_di1', 'po_di2', 'po_di2c'])\n",
    "results = results.transpose()\n",
    "results"
   ]
  },
  {
   "cell_type": "code",
   "execution_count": 37,
   "metadata": {},
   "outputs": [],
   "source": [
    "# export results as a csv\n",
    "results.to_csv('../output/Ex1_compare methods.csv', index=False, float_format='%.1f')"
   ]
  },
  {
   "cell_type": "markdown",
   "metadata": {},
   "source": [
    "### Interpolation\n",
    "The methods aboved explained may also be used in spatial interpolation, i.e., to generate maps of precipitation. \n",
    "\n",
    "We are going to create a precipitation map using the inverse distance weighted method. To do that, we are going to create a _Python_ functions that performs IDW."
   ]
  },
  {
   "cell_type": "code",
   "execution_count": 38,
   "metadata": {},
   "outputs": [],
   "source": [
    "def IDW(x, y, stnX, stnY, stnP, b=-2):\n",
    "    \"\"\"Interpolate by the inverse distance weighted method\n",
    "    \n",
    "    Parameters:\n",
    "    ----------\n",
    "    x:       float. Coordenate X of the target point\n",
    "    y:       float. Coordenate Y of the target point\n",
    "    stnX:    Series. Coordenates X of the gages\n",
    "    stnY:    Series. Coordenates Y of the gages\n",
    "    stnP:    Series. Observed precipitation in the gages\n",
    "    b:       int. Exponent in the inverse distance\n",
    "    \n",
    "    Returns:\n",
    "    --------\n",
    "    p:       float. Precipitation interpolated for point (x, y)\n",
    "    \"\"\"\n",
    "    \n",
    "    # distance to the target point\n",
    "    distX = x - stnX                    # distancia en el eje X\n",
    "    distY = y - stnY                    # distancia en el eje X\n",
    "    dist = np.sqrt(distX**2 + distY**2) # distancia total\n",
    "    # inverse of the distance\n",
    "    idw = dist**b\n",
    "    # interpolate\n",
    "    p = np.sum(idw / np.sum(idw) * stnP)\n",
    "    \n",
    "    return round(p, 1)"
   ]
  },
  {
   "cell_type": "code",
   "execution_count": 39,
   "metadata": {},
   "outputs": [
    {
     "data": {
      "text/plain": [
       "12.4"
      ]
     },
     "execution_count": 39,
     "metadata": {},
     "output_type": "execute_result"
    }
   ],
   "source": [
    "# check the function in point F\n",
    "IDW(data1.loc['F', 'X'], data1.loc['F', 'Y'], data1_['X'], data1_['Y'],\n",
    "    data1_['p'], b=-2)"
   ]
  },
  {
   "cell_type": "markdown",
   "metadata": {},
   "source": [
    "Now we can apply the function to a grid of cells representing an area."
   ]
  },
  {
   "cell_type": "code",
   "execution_count": 40,
   "metadata": {},
   "outputs": [],
   "source": [
    "# Coordenates X and Y of the grid\n",
    "xo, xf = 382200, 390200\n",
    "X = np.arange(xo, xf, 100)\n",
    "yo, yf = 4771400, 4779400\n",
    "Y = np.arange(yo, yf, 100)"
   ]
  },
  {
   "cell_type": "code",
   "execution_count": 41,
   "metadata": {},
   "outputs": [],
   "source": [
    "# create empty map (zeros) with the dimensions of 'X' and 'Y'\n",
    "pcp = np.zeros((len(X), len(Y)))"
   ]
  },
  {
   "cell_type": "code",
   "execution_count": 42,
   "metadata": {},
   "outputs": [],
   "source": [
    "# interpolate rainfall in each cell of the gridr la precipitación en cada una de las celdas del mapa\n",
    "for i, y in enumerate(Y[::-1]): # important to invert the position of 'Y'\n",
    "    for j, x in enumerate(X):\n",
    "        pcp[i, j] = IDW(x, y, data1_.X, data1_.Y, data1_.p, b=-2)"
   ]
  },
  {
   "cell_type": "code",
   "execution_count": 44,
   "metadata": {},
   "outputs": [
    {
     "data": {
      "image/png": "[encoded data removed]",
      "text/plain": [
       "<Figure size 432x432 with 2 Axes>"
      ]
     },
     "metadata": {
      "needs_background": "light"
     },
     "output_type": "display_data"
    }
   ],
   "source": [
    "# gráfico con las estaciones y el mapa de precipitación interpolada\n",
    "# -----------------------------------------------------------------\n",
    "# configuración\n",
    "plt.figure(figsize=(6, 6))\n",
    "plt.axis('equal')\n",
    "plt.axis('off')\n",
    "\n",
    "# mapa interpolado\n",
    "pmap = plt.imshow(pcp, extent=[xo, xf, yo, yf], cmap='Blues')\n",
    "cb = plt.colorbar(pmap)\n",
    "cb.set_label('precipitación (mm)', rotation=90, fontsize=12)\n",
    "\n",
    "# puntos con las estaciones\n",
    "plt.scatter(data1_.X, data1_.Y, c='k', s=data1_.p**3/30);\n",
    "\n",
    "plt.savefig('../output/Ex1_precipitation map.png', dpi=300)"
   ]
  },
  {
   "cell_type": "code",
   "execution_count": null,
   "metadata": {},
   "outputs": [],
   "source": []
  }
 ],
 "metadata": {
  "anaconda-cloud": {},
  "kernelspec": {
   "display_name": "Python 3",
   "language": "python",
   "name": "python3"
  },
  "language_info": {
   "codemirror_mode": {
    "name": "ipython",
    "version": 3
   },
   "file_extension": ".py",
   "mimetype": "text/x-python",
   "name": "python",
   "nbconvert_exporter": "python",
   "pygments_lexer": "ipython3",
   "version": "3.7.3"
  },
  "varInspector": {
   "cols": {
    "lenName": 16,
    "lenType": 16,
    "lenVar": 40
   },
   "kernels_config": {
    "python": {
     "delete_cmd_postfix": "",
     "delete_cmd_prefix": "del ",
     "library": "var_list.py",
     "varRefreshCmd": "print(var_dic_list())"
    },
    "r": {
     "delete_cmd_postfix": ") ",
     "delete_cmd_prefix": "rm(",
     "library": "var_list.r",
     "varRefreshCmd": "cat(var_dic_list()) "
    }
   },
   "position": {
    "height": "255px",
    "left": "634px",
    "right": "20px",
    "top": "118px",
    "width": "350px"
   },
   "types_to_exclude": [
    "module",
    "function",
    "builtin_function_or_method",
    "instance",
    "_Feature"
   ],
   "window_display": false
  }
 },
 "nbformat": 4,
 "nbformat_minor": 4
}
