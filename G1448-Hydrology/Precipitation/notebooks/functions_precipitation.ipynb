{
 "cells": [
  {
   "cell_type": "markdown",
   "metadata": {},
   "source": [
    "# Functions precipitation\n",
    "***\n",
    "\n",
    "In this notebook we save functions we have used in the precipitation exercises, so that you can import them directly in any other notebook and use them. \n",
    "\n",
    "To load these functions in other notebook, you must use a so-called magic function in _Python_ terminology:\n",
    "```Python\n",
    "%run funciones_precipitacion.ipynb\n",
    "```\n",
    "\n",
    "The previous code only works if `functions_precipitation.ipynb` is in the same folder as the notebook in which you want to load it. If that is not the case, you must use package `os` to define the folder in which `functions_precipitation.ipynb` is located.\n",
    "```Python\n",
    "import os\n",
    "os.chdir('path where `functions_precipitation.ipynb' is)\n",
    "%run functions_precipitation.ipynb\n",
    "```\n",
    "\n",
    "__Table of contentes__<br>\n",
    "\n",
    "__[IDW interpolation](#IDW-interpolation)__<br>\n",
    "\n",
    "__[Linear regression](#Linear-regression)__<br>\n",
    "\n",
    "__[IDF curves](#IDF-curves)__<br>\n",
    "\n",
    "__[Read & write](#Read-&-write)__<br>"
   ]
  },
  {
   "cell_type": "code",
   "execution_count": 3,
   "metadata": {},
   "outputs": [],
   "source": [
    "import numpy as np\n",
    "\n",
    "import pandas as pd\n",
    "\n",
    "#from matplotlib import pyplot as plt\n",
    "#import seaborn as sns\n",
    "#sns.set()\n",
    "\n",
    "from scipy.stats import genextreme\n",
    "from scipy.optimize import curve_fit"
   ]
  },
  {
   "cell_type": "markdown",
   "metadata": {},
   "source": [
    "### IDW interpolation"
   ]
  },
  {
   "cell_type": "code",
   "execution_count": 1,
   "metadata": {},
   "outputs": [],
   "source": [
    "def IDW(x, y, stnX, stnY, stnP, b=-2):\n",
    "    \"\"\"Interpolate by the inverse distance weighted method\n",
    "    \n",
    "    Parameters:\n",
    "    ----------\n",
    "    x:       float. Coordenate X of the target point\n",
    "    y:       float. Coordenate Y of the target point\n",
    "    stnX:    Series. Coordenates X of the gages\n",
    "    stnY:    Series. Coordenates Y of the gages\n",
    "    stnP:    Series. Observed precipitation in the gages\n",
    "    b:       int. Exponent in the inverse distance\n",
    "    \n",
    "    Returns:\n",
    "    --------\n",
    "    p:       float. Precipitation interpolated for point (x, y)\n",
    "    \"\"\"\n",
    "    \n",
    "    # distance to the target point\n",
    "    distX = x - stnX                    # distancia en el eje X\n",
    "    distY = y - stnY                    # distancia en el eje X\n",
    "    dist = np.sqrt(distX**2 + distY**2) # distancia total\n",
    "    # inverse of the distance\n",
    "    idw = dist**b\n",
    "    # interpolate\n",
    "    p = np.sum(idw / np.sum(idw) * stnP)\n",
    "    \n",
    "    return round(p, 1)"
   ]
  },
  {
   "cell_type": "markdown",
   "metadata": {},
   "source": [
    "### Linear regression"
   ]
  },
  {
   "cell_type": "code",
   "execution_count": 79,
   "metadata": {},
   "outputs": [],
   "source": [
    "def linear_reg(x, b):\n",
    "    \"\"\"Linear regression with no intecept\n",
    "    \n",
    "    y = b * x   \n",
    "    \n",
    "    Input:\n",
    "    ------\n",
    "    x:         float. Independet value\n",
    "    b:         float. Slope of the linear regression\n",
    "    \n",
    "    Output:\n",
    "    -------\n",
    "    y:         float. Regressed value\"\"\"\n",
    "    \n",
    "    y = b * x\n",
    "    return y"
   ]
  },
  {
   "cell_type": "markdown",
   "metadata": {},
   "source": [
    "### IDF curves"
   ]
  },
  {
   "cell_type": "code",
   "execution_count": 31,
   "metadata": {},
   "outputs": [],
   "source": [
    "def IDF_type_I(x, b, c, d, e):\n",
    "    \"\"\"Estimate precipitation intensity fiven a return period and a storm duration using the analytical IDF curve type I:\n",
    "    \n",
    "    I = d * R + e / (D + c)**b.    \n",
    "    \n",
    "    Input:\n",
    "    ------\n",
    "    x:         list [2x1]. Values of return period (years) and duration (h)\n",
    "    b:         float. Parameter of the IDF curve\n",
    "    c:         float. Parameter of the IDF curve\n",
    "    d:         float. Parameter of the IDF curve\n",
    "    e:         float. Parameter of the IDF curve\n",
    "    \n",
    "    Output:\n",
    "    -------\n",
    "    I:         float. Precipitation intensity (mm/h)\"\"\"\n",
    "    \n",
    "    a = d * x[0] + e\n",
    "    I = a / (x[1] + c)**b\n",
    "    return I"
   ]
  },
  {
   "cell_type": "code",
   "execution_count": 31,
   "metadata": {},
   "outputs": [],
   "source": [
    "def IDF_type_II(x, b, c, d, e):\n",
    "    \"\"\"Estimate precipitation intensity fiven a return period and a storm duration using the analytical IDF curve type II:\n",
    "    \n",
    "    I = d * R + e / (D**b + c).    \n",
    "    \n",
    "    Input:\n",
    "    ------\n",
    "    x:         list [2x1]. Values of return period (years) and duration (h)\n",
    "    b:         float. Parameter of the IDF curve\n",
    "    c:         float. Parameter of the IDF curve\n",
    "    d:         float. Parameter of the IDF curve\n",
    "    e:         float. Parameter of the IDF curve\n",
    "    \n",
    "    Output:\n",
    "    -------\n",
    "    I:         float. Precipitation intensity (mm/h)\"\"\"\n",
    "    \n",
    "    a = d * x[0] + e\n",
    "    I = a / (x[1]**b + c)\n",
    "    return I"
   ]
  },
  {
   "cell_type": "code",
   "execution_count": 31,
   "metadata": {},
   "outputs": [],
   "source": [
    "def IDF_type_III(x, b, c, d, e):\n",
    "    \"\"\"Estimate precipitation intensity fiven a return period and a storm duration using the analytical IDF curve type III:\n",
    "    \n",
    "    I = d * R**e / (D + c)**b.    \n",
    "    \n",
    "    Input:\n",
    "    ------\n",
    "    x:         list [2x1]. Values of return period (years) and duration (h)\n",
    "    b:         float. Parameter of the IDF curve\n",
    "    c:         float. Parameter of the IDF curve\n",
    "    d:         float. Parameter of the IDF curve\n",
    "    e:         float. Parameter of the IDF curve\n",
    "    \n",
    "    Output:\n",
    "    -------\n",
    "    I:         float. Precipitation intensity (mm/h)\"\"\"\n",
    "    \n",
    "    a = d * x[0]**e \n",
    "    I = a / (x[1] + c)**b\n",
    "    return I"
   ]
  },
  {
   "cell_type": "code",
   "execution_count": 31,
   "metadata": {},
   "outputs": [],
   "source": [
    "def IDF_type_IV(x, b, c, d, e):\n",
    "    \"\"\"Estimate precipitation intensity fiven a return period and a storm duration using the analytical IDF curve type IV:\n",
    "    \n",
    "    I = d * R**e / (D**b + c).    \n",
    "    \n",
    "    Input:\n",
    "    ------\n",
    "    x:         list [2x1]. Values of return period (years) and duration (h)\n",
    "    b:         float. Parameter of the IDF curve\n",
    "    c:         float. Parameter of the IDF curve\n",
    "    d:         float. Parameter of the IDF curve\n",
    "    e:         float. Parameter of the IDF curve\n",
    "    \n",
    "    Output:\n",
    "    -------\n",
    "    I:         float. Precipitation intensity (mm/h)\"\"\"\n",
    "    \n",
    "    a = d * x[0]**e\n",
    "    I = a / (x[1]**b + c)\n",
    "    return I "
   ]
  },
  {
   "cell_type": "markdown",
   "metadata": {},
   "source": [
    "### Read & write"
   ]
  },
  {
   "cell_type": "code",
   "execution_count": 2,
   "metadata": {},
   "outputs": [],
   "source": [
    "def read_ascii(filename, datatype='float'):\n",
    "    \"\"\"Import an ASCII file. Data is saved as a 2D numpy array and the attributes as integers or floating point numbers.\n",
    "    \n",
    "    Parameters:\n",
    "    -----------\n",
    "    filename:     string. Name (including path and extension) of the ASCII file\n",
    "    datatype:     string. Type of data inside the file\n",
    "    \n",
    "    Output:\n",
    "    -------\n",
    "    data:         array[nrows,ncols]. The data in the map\n",
    "\tattributes:   list. A list of six attributes: \n",
    "\t\t\t\t\t\tncols:        int. Number of columns\n",
    "\t\t\t\t\t\tnrows:        int. Number of rows\n",
    "\t\t\t\t\t\txllcorner:    float. X coordinate of the left lower corner\n",
    "\t\t\t\t\t\tyllcorner:    float. Y coordinate of the left lower corner\n",
    "\t\t\t\t\t\tcellsize:     int. Spatial discretization\n",
    "\t\t\t\t\t\tNODATA_value: float. Value representing no data\n",
    "    \"\"\"\n",
    "    \n",
    "    with open(filename, 'r+') as file:\n",
    "        # import all the lines in the file\n",
    "        asc = file.readlines()\n",
    "        # extract attributes\n",
    "        ncols = int(asc[0].split()[1])\n",
    "        nrows = int(asc[1].split()[1])\n",
    "        xllcorner = float(asc[2].split()[1])\n",
    "        yllcorner = float(asc[3].split()[1])\n",
    "        cellsize = int(asc[4].split()[1])\n",
    "        NODATA_value = float(asc[5].split()[1])\n",
    "        attributes = [ncols, nrows, xllcorner, yllcorner, cellsize, NODATA_value]\n",
    "        # extract data\n",
    "        data = np.zeros((nrows, ncols))\n",
    "        for i in range(nrows):\n",
    "            data[i, :] = asc[i + 6].split()\n",
    "        data[data == NODATA_value] = np.nan\n",
    "        #data = np.ma.masked_invalid(data)\n",
    "        data = data.astype(datatype)\n",
    "    file.close()    \n",
    "    \n",
    "    return data, attributes"
   ]
  },
  {
   "cell_type": "code",
   "execution_count": null,
   "metadata": {},
   "outputs": [],
   "source": []
  }
 ],
 "metadata": {
  "anaconda-cloud": {},
  "kernelspec": {
   "display_name": "Python 3",
   "language": "python",
   "name": "python3"
  },
  "language_info": {
   "codemirror_mode": {
    "name": "ipython",
    "version": 3
   },
   "file_extension": ".py",
   "mimetype": "text/x-python",
   "name": "python",
   "nbconvert_exporter": "python",
   "pygments_lexer": "ipython3",
   "version": "3.7.3"
  },
  "varInspector": {
   "cols": {
    "lenName": 16,
    "lenType": 16,
    "lenVar": 40
   },
   "kernels_config": {
    "python": {
     "delete_cmd_postfix": "",
     "delete_cmd_prefix": "del ",
     "library": "var_list.py",
     "varRefreshCmd": "print(var_dic_list())"
    },
    "r": {
     "delete_cmd_postfix": ") ",
     "delete_cmd_prefix": "rm(",
     "library": "var_list.r",
     "varRefreshCmd": "cat(var_dic_list()) "
    }
   },
   "position": {
    "height": "255px",
    "left": "634px",
    "right": "20px",
    "top": "118px",
    "width": "350px"
   },
   "types_to_exclude": [
    "module",
    "function",
    "builtin_function_or_method",
    "instance",
    "_Feature"
   ],
   "window_display": false
  }
 },
 "nbformat": 4,
 "nbformat_minor": 4
}
